{
 "cells": [
  {
   "cell_type": "code",
   "execution_count": 1,
   "metadata": {
    "ExecuteTime": {
     "end_time": "2020-06-11T22:02:51.502996Z",
     "start_time": "2020-06-11T22:02:50.977760Z"
    }
   },
   "outputs": [],
   "source": [
    ">>> import string\n",
    ">>> import datrie\n",
    ">>> trie = datrie.Trie(string.ascii_lowercase)"
   ]
  },
  {
   "cell_type": "code",
   "execution_count": 2,
   "metadata": {
    "ExecuteTime": {
     "end_time": "2020-06-11T22:03:07.411617Z",
     "start_time": "2020-06-11T22:03:07.391248Z"
    }
   },
   "outputs": [
    {
     "data": {
      "text/plain": [
       "10"
      ]
     },
     "execution_count": 2,
     "metadata": {},
     "output_type": "execute_result"
    }
   ],
   "source": [
    ">>> trie[u'foo'] = 5\n",
    ">>> trie[u'foobar'] = 10\n",
    ">>> trie[u'bar'] = 'bar value'\n",
    ">>> trie.setdefault(u'foobar', 15)"
   ]
  },
  {
   "cell_type": "code",
   "execution_count": 3,
   "metadata": {
    "ExecuteTime": {
     "end_time": "2020-06-11T22:03:52.533341Z",
     "start_time": "2020-06-11T22:03:52.521947Z"
    }
   },
   "outputs": [
    {
     "data": {
      "text/plain": [
       "True"
      ]
     },
     "execution_count": 3,
     "metadata": {},
     "output_type": "execute_result"
    }
   ],
   "source": [
    "'foo' in trie"
   ]
  },
  {
   "cell_type": "code",
   "execution_count": 4,
   "metadata": {
    "ExecuteTime": {
     "end_time": "2020-06-11T22:04:00.606551Z",
     "start_time": "2020-06-11T22:04:00.597936Z"
    }
   },
   "outputs": [
    {
     "data": {
      "text/plain": [
       "['foo', 'foobar']"
      ]
     },
     "execution_count": 4,
     "metadata": {},
     "output_type": "execute_result"
    }
   ],
   "source": [
    "trie.prefixes(u'foobarbaz')"
   ]
  },
  {
   "cell_type": "code",
   "execution_count": 5,
   "metadata": {
    "ExecuteTime": {
     "end_time": "2020-06-11T22:04:20.296489Z",
     "start_time": "2020-06-11T22:04:20.288239Z"
    }
   },
   "outputs": [
    {
     "data": {
      "text/plain": [
       "[('foo', 5), ('foobar', 10)]"
      ]
     },
     "execution_count": 5,
     "metadata": {},
     "output_type": "execute_result"
    }
   ],
   "source": [
    "trie.prefix_items(u'foobarbaz')"
   ]
  },
  {
   "cell_type": "code",
   "execution_count": 6,
   "metadata": {
    "ExecuteTime": {
     "end_time": "2020-06-11T22:04:39.657878Z",
     "start_time": "2020-06-11T22:04:39.647960Z"
    }
   },
   "outputs": [
    {
     "data": {
      "text/plain": [
       "'foobar'"
      ]
     },
     "execution_count": 6,
     "metadata": {},
     "output_type": "execute_result"
    }
   ],
   "source": [
    "trie.longest_prefix(u'foobarbaz')"
   ]
  },
  {
   "cell_type": "code",
   "execution_count": 7,
   "metadata": {
    "ExecuteTime": {
     "end_time": "2020-06-11T22:05:26.292687Z",
     "start_time": "2020-06-11T22:05:26.284075Z"
    }
   },
   "outputs": [
    {
     "data": {
      "text/plain": [
       "(['foo', 'foobar'], [('bar', 'bar value')])"
      ]
     },
     "execution_count": 7,
     "metadata": {},
     "output_type": "execute_result"
    }
   ],
   "source": [
    "trie.keys(u'fo'), trie.items(u'ba')"
   ]
  },
  {
   "cell_type": "code",
   "execution_count": 8,
   "metadata": {
    "ExecuteTime": {
     "end_time": "2020-06-11T22:07:59.011908Z",
     "start_time": "2020-06-11T22:07:59.002115Z"
    }
   },
   "outputs": [
    {
     "data": {
      "text/plain": [
       "['bar', 'foo', 'foobar']"
      ]
     },
     "execution_count": 8,
     "metadata": {},
     "output_type": "execute_result"
    }
   ],
   "source": [
    "trie.suffixes()"
   ]
  },
  {
   "cell_type": "code",
   "execution_count": 10,
   "metadata": {
    "ExecuteTime": {
     "end_time": "2020-06-11T22:10:00.695981Z",
     "start_time": "2020-06-11T22:10:00.688683Z"
    }
   },
   "outputs": [
    {
     "data": {
      "text/plain": [
       "['ucer', 'ucers', 'uct', 'uction', 'uctivity']"
      ]
     },
     "execution_count": 10,
     "metadata": {},
     "output_type": "execute_result"
    }
   ],
   "source": [
    "for v in [u'pro', u'producer', u'producers', u'product', u'production', u'productivity', u'prof']:\n",
    "    trie[v]=v\n",
    "trie.suffixes(u'prod')"
   ]
  },
  {
   "cell_type": "code",
   "execution_count": 11,
   "metadata": {
    "ExecuteTime": {
     "end_time": "2020-06-11T22:10:10.854520Z",
     "start_time": "2020-06-11T22:10:10.849179Z"
    }
   },
   "outputs": [],
   "source": [
    "trie.save('my.trie')"
   ]
  },
  {
   "cell_type": "code",
   "execution_count": 12,
   "metadata": {
    "ExecuteTime": {
     "end_time": "2020-06-11T22:10:20.103862Z",
     "start_time": "2020-06-11T22:10:20.094862Z"
    }
   },
   "outputs": [
    {
     "data": {
      "text/plain": [
       "['ucer', 'ucers', 'uct', 'uction', 'uctivity']"
      ]
     },
     "execution_count": 12,
     "metadata": {},
     "output_type": "execute_result"
    }
   ],
   "source": [
    "trie2 = datrie.Trie.load('my.trie')\n",
    "trie.suffixes(u'prod')"
   ]
  }
 ],
 "metadata": {
  "kernelspec": {
   "display_name": "Python 3",
   "language": "python",
   "name": "python3"
  },
  "language_info": {
   "codemirror_mode": {
    "name": "ipython",
    "version": 3
   },
   "file_extension": ".py",
   "mimetype": "text/x-python",
   "name": "python",
   "nbconvert_exporter": "python",
   "pygments_lexer": "ipython3",
   "version": "3.6.6"
  },
  "varInspector": {
   "cols": {
    "lenName": 16,
    "lenType": 16,
    "lenVar": 40
   },
   "kernels_config": {
    "python": {
     "delete_cmd_postfix": "",
     "delete_cmd_prefix": "del ",
     "library": "var_list.py",
     "varRefreshCmd": "print(var_dic_list())"
    },
    "r": {
     "delete_cmd_postfix": ") ",
     "delete_cmd_prefix": "rm(",
     "library": "var_list.r",
     "varRefreshCmd": "cat(var_dic_list()) "
    }
   },
   "types_to_exclude": [
    "module",
    "function",
    "builtin_function_or_method",
    "instance",
    "_Feature"
   ],
   "window_display": false
  }
 },
 "nbformat": 4,
 "nbformat_minor": 2
}
