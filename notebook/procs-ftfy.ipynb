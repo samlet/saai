{
 "cells": [
  {
   "cell_type": "code",
   "execution_count": 1,
   "metadata": {
    "ExecuteTime": {
     "end_time": "2020-04-15T04:43:43.227914Z",
     "start_time": "2020-04-15T04:43:42.571978Z"
    }
   },
   "outputs": [
    {
     "name": "stdout",
     "output_type": "stream",
     "text": [
      "ünicode\n"
     ]
    }
   ],
   "source": [
    "from ftfy import fix_text\n",
    "print(fix_text('uÌˆnicode'))"
   ]
  },
  {
   "cell_type": "code",
   "execution_count": 2,
   "metadata": {
    "ExecuteTime": {
     "end_time": "2020-04-15T04:44:18.196617Z",
     "start_time": "2020-04-15T04:44:18.190426Z"
    }
   },
   "outputs": [
    {
     "name": "stdout",
     "output_type": "stream",
     "text": [
      "Broken text... it's flubberific!\n"
     ]
    }
   ],
   "source": [
    "print(fix_text('Broken text&hellip; it&#x2019;s ﬂubberiﬁc!', normalization='NFKC'))"
   ]
  },
  {
   "cell_type": "code",
   "execution_count": 4,
   "metadata": {
    "ExecuteTime": {
     "end_time": "2020-04-15T04:45:12.600011Z",
     "start_time": "2020-04-15T04:45:12.593603Z"
    }
   },
   "outputs": [
    {
     "name": "stdout",
     "output_type": "stream",
     "text": [
      "LOUD NOISES\n",
      "LOUD NOISES,我是中文\n"
     ]
    }
   ],
   "source": [
    "print(fix_text('ＬＯＵＤ　ＮＯＩＳＥＳ'))\n",
    "print(fix_text('ＬＯＵＤ　ＮＯＩＳＥＳ，我是中文'))"
   ]
  },
  {
   "cell_type": "code",
   "execution_count": 8,
   "metadata": {
    "ExecuteTime": {
     "end_time": "2020-04-15T04:48:59.368702Z",
     "start_time": "2020-04-15T04:48:59.362791Z"
    }
   },
   "outputs": [
    {
     "name": "stdout",
     "output_type": "stream",
     "text": [
      "<tag>\n",
      "<tag>私も被括起来だ<tag>\n",
      "<tag>私も被括起来だ<tag>\n"
     ]
    }
   ],
   "source": [
    "from ftfy.fixes import unescape_html\n",
    "print(unescape_html('&lt;tag&gt;'))\n",
    "print(unescape_html('&lt;tag&gt;私も被括起来だ&lt;tag&gt;'))\n",
    "print(fix_text('&lt;tag&gt;私も被括起来だ&lt;tag&gt;'))"
   ]
  }
 ],
 "metadata": {
  "kernelspec": {
   "display_name": "Python 3",
   "language": "python",
   "name": "python3"
  },
  "language_info": {
   "codemirror_mode": {
    "name": "ipython",
    "version": 3
   },
   "file_extension": ".py",
   "mimetype": "text/x-python",
   "name": "python",
   "nbconvert_exporter": "python",
   "pygments_lexer": "ipython3",
   "version": "3.6.6"
  },
  "varInspector": {
   "cols": {
    "lenName": 16,
    "lenType": 16,
    "lenVar": 40
   },
   "kernels_config": {
    "python": {
     "delete_cmd_postfix": "",
     "delete_cmd_prefix": "del ",
     "library": "var_list.py",
     "varRefreshCmd": "print(var_dic_list())"
    },
    "r": {
     "delete_cmd_postfix": ") ",
     "delete_cmd_prefix": "rm(",
     "library": "var_list.r",
     "varRefreshCmd": "cat(var_dic_list()) "
    }
   },
   "types_to_exclude": [
    "module",
    "function",
    "builtin_function_or_method",
    "instance",
    "_Feature"
   ],
   "window_display": false
  }
 },
 "nbformat": 4,
 "nbformat_minor": 2
}
