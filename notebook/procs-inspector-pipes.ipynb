{
 "cells": [
  {
   "cell_type": "code",
   "execution_count": 1,
   "metadata": {
    "ExecuteTime": {
     "end_time": "2020-03-22T04:18:27.675346Z",
     "start_time": "2020-03-22T04:18:26.220392Z"
    }
   },
   "outputs": [
    {
     "data": {
      "text/plain": [
       "[{'index': 4,\n",
       "  'text': 'think',\n",
       "  'lemma': 'think',\n",
       "  'upos': 'VERB',\n",
       "  'xpos': 'VB',\n",
       "  'feats': 'VerbForm=Inf',\n",
       "  'governor': 0,\n",
       "  'dependency_relation': 'root',\n",
       "  'entity': [],\n",
       "  'segments': [],\n",
       "  'obl': [{'index': 7,\n",
       "    'text': 'war',\n",
       "    'lemma': 'war',\n",
       "    'upos': 'NOUN',\n",
       "    'xpos': 'NN',\n",
       "    'feats': 'Number=Sing',\n",
       "    'governor': 4,\n",
       "    'dependency_relation': 'obl',\n",
       "    'entity': [],\n",
       "    'segments': [],\n",
       "    'case': [{'index': 5,\n",
       "      'text': 'about',\n",
       "      'lemma': 'about',\n",
       "      'upos': 'ADP',\n",
       "      'xpos': 'IN',\n",
       "      'feats': '_',\n",
       "      'governor': 7,\n",
       "      'dependency_relation': 'case',\n",
       "      'entity': [],\n",
       "      'segments': []}],\n",
       "    'det': [{'index': 6,\n",
       "      'text': 'the',\n",
       "      'lemma': 'the',\n",
       "      'upos': 'DET',\n",
       "      'xpos': 'DT',\n",
       "      'feats': 'Definite=Def|PronType=Art',\n",
       "      'governor': 7,\n",
       "      'dependency_relation': 'det',\n",
       "      'entity': [],\n",
       "      'segments': []}]}],\n",
       "  'aux': [{'index': 2,\n",
       "    'text': 'do',\n",
       "    'lemma': 'do',\n",
       "    'upos': 'AUX',\n",
       "    'xpos': 'VBP',\n",
       "    'feats': 'Mood=Ind|Tense=Pres|VerbForm=Fin',\n",
       "    'governor': 4,\n",
       "    'dependency_relation': 'aux',\n",
       "    'entity': [],\n",
       "    'segments': []}],\n",
       "  'nsubj': [{'index': 3,\n",
       "    'text': 'you',\n",
       "    'lemma': 'you',\n",
       "    'upos': 'PRON',\n",
       "    'xpos': 'PRP',\n",
       "    'feats': 'Case=Nom|Person=2|PronType=Prs',\n",
       "    'governor': 4,\n",
       "    'dependency_relation': 'nsubj',\n",
       "    'entity': [],\n",
       "    'segments': []}],\n",
       "  'punct': [{'index': 8,\n",
       "    'text': '?',\n",
       "    'lemma': '?',\n",
       "    'upos': 'PUNCT',\n",
       "    'xpos': '.',\n",
       "    'feats': '_',\n",
       "    'governor': 4,\n",
       "    'dependency_relation': 'punct',\n",
       "    'entity': [],\n",
       "    'segments': []}],\n",
       "  'obj': [{'index': 1,\n",
       "    'text': 'What',\n",
       "    'lemma': 'what',\n",
       "    'upos': 'PRON',\n",
       "    'xpos': 'WP',\n",
       "    'feats': 'PronType=Int',\n",
       "    'governor': 4,\n",
       "    'dependency_relation': 'obj',\n",
       "    'entity': [],\n",
       "    'segments': []}]}]"
      ]
     },
     "execution_count": 1,
     "metadata": {},
     "output_type": "execute_result"
    }
   ],
   "source": [
    "from sagas.nlu.uni_chunks import get_chunk\n",
    "from sagas.nlu.ruleset_procs import list_words, cached_chunks\n",
    "from sagas.conf.conf import cf\n",
    "# get_chunk(f'verb_domains', 'xcomp/obj', lambda w: w.upos)\n",
    "sents='What do you think about the war?'\n",
    "lang='en'\n",
    "domain='verb'\n",
    "\n",
    "dn=lambda domain: f'{domain}_domains' if domain!='predicts' else domain\n",
    "chunks = cached_chunks(sents, lang, cf.engine(lang))\n",
    "domains=chunks[dn(domain)]\n",
    "domains"
   ]
  },
  {
   "cell_type": "code",
   "execution_count": 2,
   "metadata": {
    "ExecuteTime": {
     "end_time": "2020-03-22T04:18:27.710094Z",
     "start_time": "2020-03-22T04:18:27.679263Z"
    }
   },
   "outputs": [
    {
     "name": "stdout",
     "output_type": "stream",
     "text": [
      "root: think(verb, 4)\n",
      "├── obl: war(noun, 7)\n",
      "│   ├── case: about(adp, 5)\n",
      "│   └── det: the(det, 6)\n",
      "├── aux: do(aux, 2)\n",
      "├── nsubj: you(pron, 3)\n",
      "├── punct: ?(punct, 8)\n",
      "└── obj: what(pron, 1)\n"
     ]
    }
   ],
   "source": [
    "from sagas.nlu.nlu_tools import vis_tree\n",
    "for ds in domains:\n",
    "    vis_tree(ds)"
   ]
  },
  {
   "cell_type": "code",
   "execution_count": 3,
   "metadata": {
    "ExecuteTime": {
     "end_time": "2020-03-22T04:18:27.798526Z",
     "start_time": "2020-03-22T04:18:27.715546Z"
    }
   },
   "outputs": [
    {
     "data": {
      "text/plain": [
       "[('What', 'pron')]"
      ]
     },
     "execution_count": 3,
     "metadata": {},
     "output_type": "execute_result"
    }
   ],
   "source": [
    "result=get_chunk(chunks, dn(domain), 'obj', lambda w: (w.text, w.upos.lower()))\n",
    "result"
   ]
  },
  {
   "cell_type": "code",
   "execution_count": 4,
   "metadata": {
    "ExecuteTime": {
     "end_time": "2020-03-22T04:18:27.811156Z",
     "start_time": "2020-03-22T04:18:27.801474Z"
    }
   },
   "outputs": [
    {
     "data": {
      "text/plain": [
       "['index',\n",
       " 'text',\n",
       " 'lemma',\n",
       " 'upos',\n",
       " 'xpos',\n",
       " 'feats',\n",
       " 'governor',\n",
       " 'dependency_relation',\n",
       " 'entity',\n",
       " 'segments',\n",
       " 'obl',\n",
       " 'aux',\n",
       " 'nsubj',\n",
       " 'punct',\n",
       " 'obj']"
      ]
     },
     "execution_count": 4,
     "metadata": {},
     "output_type": "execute_result"
    }
   ],
   "source": [
    "list(domains[0].keys())"
   ]
  },
  {
   "cell_type": "code",
   "execution_count": 12,
   "metadata": {
    "ExecuteTime": {
     "end_time": "2020-03-22T09:41:10.315927Z",
     "start_time": "2020-03-22T09:41:10.296260Z"
    },
    "code_folding": []
   },
   "outputs": [
    {
     "name": "stdout",
     "output_type": "stream",
     "text": [
      "[('/obl/case', 'about'), ('/obl/det', 'the'), ('/obl', 'war'), ('/aux', 'do'), ('/nsubj', 'you'), ('/punct', '?'), ('/obj', 'What'), ('', 'think')]\n"
     ]
    },
    {
     "data": {
      "text/plain": [
       "[{'path': '/obl/case',\n",
       "  'index': 5,\n",
       "  'text': 'about',\n",
       "  'lemma': 'about',\n",
       "  'upos': 'ADP',\n",
       "  'xpos': 'IN',\n",
       "  'feats': '_',\n",
       "  'governor': 7,\n",
       "  'dependency_relation': 'case',\n",
       "  'entity': [],\n",
       "  'segments': []},\n",
       " {'path': '/obl/det',\n",
       "  'index': 6,\n",
       "  'text': 'the',\n",
       "  'lemma': 'the',\n",
       "  'upos': 'DET',\n",
       "  'xpos': 'DT',\n",
       "  'feats': 'Definite=Def|PronType=Art',\n",
       "  'governor': 7,\n",
       "  'dependency_relation': 'det',\n",
       "  'entity': [],\n",
       "  'segments': []},\n",
       " {'path': '/obl',\n",
       "  'index': 7,\n",
       "  'text': 'war',\n",
       "  'lemma': 'war',\n",
       "  'upos': 'NOUN',\n",
       "  'xpos': 'NN',\n",
       "  'feats': 'Number=Sing',\n",
       "  'governor': 4,\n",
       "  'dependency_relation': 'obl',\n",
       "  'entity': [],\n",
       "  'segments': []},\n",
       " {'path': '/aux',\n",
       "  'index': 2,\n",
       "  'text': 'do',\n",
       "  'lemma': 'do',\n",
       "  'upos': 'AUX',\n",
       "  'xpos': 'VBP',\n",
       "  'feats': 'Mood=Ind|Tense=Pres|VerbForm=Fin',\n",
       "  'governor': 4,\n",
       "  'dependency_relation': 'aux',\n",
       "  'entity': [],\n",
       "  'segments': []},\n",
       " {'path': '/nsubj',\n",
       "  'index': 3,\n",
       "  'text': 'you',\n",
       "  'lemma': 'you',\n",
       "  'upos': 'PRON',\n",
       "  'xpos': 'PRP',\n",
       "  'feats': 'Case=Nom|Person=2|PronType=Prs',\n",
       "  'governor': 4,\n",
       "  'dependency_relation': 'nsubj',\n",
       "  'entity': [],\n",
       "  'segments': []},\n",
       " {'path': '/punct',\n",
       "  'index': 8,\n",
       "  'text': '?',\n",
       "  'lemma': '?',\n",
       "  'upos': 'PUNCT',\n",
       "  'xpos': '.',\n",
       "  'feats': '_',\n",
       "  'governor': 4,\n",
       "  'dependency_relation': 'punct',\n",
       "  'entity': [],\n",
       "  'segments': []},\n",
       " {'path': '/obj',\n",
       "  'index': 1,\n",
       "  'text': 'What',\n",
       "  'lemma': 'what',\n",
       "  'upos': 'PRON',\n",
       "  'xpos': 'WP',\n",
       "  'feats': 'PronType=Int',\n",
       "  'governor': 4,\n",
       "  'dependency_relation': 'obj',\n",
       "  'entity': [],\n",
       "  'segments': []},\n",
       " {'path': '',\n",
       "  'index': 4,\n",
       "  'text': 'think',\n",
       "  'lemma': 'think',\n",
       "  'upos': 'VERB',\n",
       "  'xpos': 'VB',\n",
       "  'feats': 'VerbForm=Inf',\n",
       "  'governor': 0,\n",
       "  'dependency_relation': 'root',\n",
       "  'entity': [],\n",
       "  'segments': []}]"
      ]
     },
     "execution_count": 12,
     "metadata": {},
     "output_type": "execute_result"
    }
   ],
   "source": [
    "from sagas.util.collection_util import to_obj\n",
    "def flat_table(ds, parent, table_rs, is_root=True):\n",
    "    child_tags=[k for k,v in ds.items() if isinstance(v, list) and k not in ('entity', 'segments')]\n",
    "    path=f\"{parent}/{ds['dependency_relation']}\" if not is_root else ''\n",
    "    data={}\n",
    "    for k,v in ds.items():\n",
    "        if k in child_tags:\n",
    "            for vchild in v:\n",
    "                flat_table(vchild, path, table_rs, is_root=False)\n",
    "        else:\n",
    "            data[k]=v\n",
    "    table_rs.append(to_obj({'path':path, **data}))\n",
    "\n",
    "table_rs=[]\n",
    "for ds in domains:\n",
    "    flat_table(ds, '', table_rs)\n",
    "print([(r.path, r.text) for r in table_rs])\n",
    "table_rs"
   ]
  },
  {
   "cell_type": "code",
   "execution_count": 6,
   "metadata": {
    "ExecuteTime": {
     "end_time": "2020-03-22T04:18:27.983041Z",
     "start_time": "2020-03-22T04:18:27.843852Z"
    }
   },
   "outputs": [
    {
     "name": "stdout",
     "output_type": "stream",
     "text": [
      "__init__() missing 1 required positional argument: 'pos'\n"
     ]
    },
    {
     "data": {
      "text/plain": [
       "<rx.disposable.disposable.Disposable at 0x1297fd550>"
      ]
     },
     "execution_count": 6,
     "metadata": {},
     "output_type": "execute_result"
    }
   ],
   "source": [
    "import rx\n",
    "from rx import operators as ops\n",
    "\n",
    "from dataclasses import dataclass\n",
    "@dataclass\n",
    "class token_data:\n",
    "    word: str\n",
    "    pos: str\n",
    "    path: str\n",
    "\n",
    "source = rx.of(*table_rs)\n",
    "\n",
    "composed = source.pipe(\n",
    "    ops.filter(lambda t: t.upos=='VERB'),\n",
    "    ops.map(lambda t: token_data(word=f\"{t.text}/{t.lemma}\", \n",
    "                                 # pos=t.upos.lower(), \n",
    "                                 path=t.path)),    \n",
    ")\n",
    "composed.subscribe(lambda value: print(\"Received {0}\".format(value)),\n",
    "                  on_error=lambda e: print(e),)"
   ]
  },
  {
   "cell_type": "code",
   "execution_count": 7,
   "metadata": {
    "ExecuteTime": {
     "end_time": "2020-03-22T04:18:28.008500Z",
     "start_time": "2020-03-22T04:18:27.991258Z"
    }
   },
   "outputs": [
    {
     "name": "stdout",
     "output_type": "stream",
     "text": [
      "Received token_data(word='think/think', pos='verb', path='/root')\n",
      "Process done!\n"
     ]
    },
    {
     "data": {
      "text/plain": [
       "<rx.disposable.disposable.Disposable at 0x1297fd6a0>"
      ]
     },
     "execution_count": 7,
     "metadata": {},
     "output_type": "execute_result"
    }
   ],
   "source": [
    "def filter_pos(pos):\n",
    "    return rx.pipe(\n",
    "        ops.filter(lambda t: t.upos.lower()==pos),\n",
    "    )\n",
    "def to_token():\n",
    "    return rx.pipe(\n",
    "        ops.map(lambda t: token_data(word=f\"{t.text}/{t.lemma}\", \n",
    "                                     path=t.path,\n",
    "                                     pos=t.upos.lower())), \n",
    "    )\n",
    "source.pipe(\n",
    "    filter_pos('verb'),\n",
    "    to_token(), \n",
    ").subscribe(\n",
    "    on_next=lambda value: print(\"Received {0}\".format(value)),\n",
    "    on_error=lambda e: print(e),\n",
    "    on_completed=lambda: print(\"Process done!\"),\n",
    ")"
   ]
  },
  {
   "cell_type": "code",
   "execution_count": 8,
   "metadata": {
    "ExecuteTime": {
     "end_time": "2020-03-22T04:18:28.046729Z",
     "start_time": "2020-03-22T04:18:28.014161Z"
    }
   },
   "outputs": [
    {
     "name": "stdout",
     "output_type": "stream",
     "text": [
      "Process done!\n"
     ]
    },
    {
     "data": {
      "text/plain": [
       "[{'name': 'collect_verb',\n",
       "  'result': [token_data(word='think/think', pos='verb', path='/root')]}]"
      ]
     },
     "execution_count": 8,
     "metadata": {},
     "output_type": "execute_result"
    }
   ],
   "source": [
    "from blinker import NamedSignal, signal\n",
    "collect = signal('collect')\n",
    "\n",
    "@collect.connect\n",
    "def collect_verb(sender, **kwargs):\n",
    "    results=[]    \n",
    "    source = rx.of(*kwargs['rs'])\n",
    "    source.pipe(\n",
    "        filter_pos('verb'),\n",
    "        to_token(), \n",
    "    ).subscribe(\n",
    "        on_next=lambda value: results.append(value),\n",
    "        on_error=lambda e: print(e),\n",
    "        on_completed=lambda: print(\"Process done!\"),\n",
    "    )\n",
    "    return results\n",
    "\n",
    "# results=collect(source)\n",
    "\n",
    "results=[]\n",
    "result = collect.send('sender', rs=table_rs)\n",
    "results.extend([{'name':fn.__name__, 'result':r} for fn, r in result])\n",
    "results"
   ]
  },
  {
   "cell_type": "code",
   "execution_count": 9,
   "metadata": {
    "ExecuteTime": {
     "end_time": "2020-03-22T04:18:28.093573Z",
     "start_time": "2020-03-22T04:18:28.051221Z"
    }
   },
   "outputs": [
    {
     "name": "stdout",
     "output_type": "stream",
     "text": [
      "Process done!\n"
     ]
    },
    {
     "data": {
      "text/plain": [
       "[token_data(word='think/think', pos='verb', path='/root')]"
      ]
     },
     "execution_count": 9,
     "metadata": {},
     "output_type": "execute_result"
    }
   ],
   "source": [
    "def filter_pos(pos):\n",
    "    return rx.pipe(\n",
    "        ops.filter(lambda t: t.upos.lower()==pos),\n",
    "    )\n",
    "def to_token():\n",
    "    return rx.pipe(\n",
    "        ops.map(lambda t: token_data(word=f\"{t.text}/{t.lemma}\", \n",
    "                                     path=t.path,\n",
    "                                     pos=t.upos.lower())), \n",
    "    )\n",
    "\n",
    "class Pipeline(object):\n",
    "    def __init__(self, source, **kwargs):\n",
    "        self.vars=to_obj(kwargs)\n",
    "        self.composed=source.pipe(\n",
    "            filter_pos(self.vars.pos),\n",
    "            to_token(), \n",
    "        )\n",
    "    def run(self):\n",
    "        results=[]\n",
    "        self.composed.subscribe(\n",
    "            on_next=lambda value: results.append(value),\n",
    "            on_error=lambda e: print(e),\n",
    "            on_completed=lambda: print(\"Process done!\"),\n",
    "        )\n",
    "        return results\n",
    "\n",
    "Pipeline(source, pos='verb').run()"
   ]
  },
  {
   "cell_type": "code",
   "execution_count": 10,
   "metadata": {
    "ExecuteTime": {
     "end_time": "2020-03-22T04:18:28.109527Z",
     "start_time": "2020-03-22T04:18:28.097652Z"
    }
   },
   "outputs": [
    {
     "data": {
      "text/plain": [
       "['word', 'pos', 'path']"
      ]
     },
     "execution_count": 10,
     "metadata": {},
     "output_type": "execute_result"
    }
   ],
   "source": [
    "from dataclasses import dataclass, fields\n",
    "[fld.name for fld in fields(token_data)]"
   ]
  }
 ],
 "metadata": {
  "kernelspec": {
   "display_name": "Python 3",
   "language": "python",
   "name": "python3"
  },
  "language_info": {
   "codemirror_mode": {
    "name": "ipython",
    "version": 3
   },
   "file_extension": ".py",
   "mimetype": "text/x-python",
   "name": "python",
   "nbconvert_exporter": "python",
   "pygments_lexer": "ipython3",
   "version": "3.6.6"
  },
  "varInspector": {
   "cols": {
    "lenName": 16,
    "lenType": 16,
    "lenVar": 40
   },
   "kernels_config": {
    "python": {
     "delete_cmd_postfix": "",
     "delete_cmd_prefix": "del ",
     "library": "var_list.py",
     "varRefreshCmd": "print(var_dic_list())"
    },
    "r": {
     "delete_cmd_postfix": ") ",
     "delete_cmd_prefix": "rm(",
     "library": "var_list.r",
     "varRefreshCmd": "cat(var_dic_list()) "
    }
   },
   "types_to_exclude": [
    "module",
    "function",
    "builtin_function_or_method",
    "instance",
    "_Feature"
   ],
   "window_display": false
  }
 },
 "nbformat": 4,
 "nbformat_minor": 2
}
