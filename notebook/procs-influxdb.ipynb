{
 "cells": [
  {
   "cell_type": "code",
   "execution_count": 22,
   "metadata": {
    "ExecuteTime": {
     "end_time": "2020-03-02T02:28:01.769400Z",
     "start_time": "2020-03-02T02:28:01.716183Z"
    }
   },
   "outputs": [
    {
     "name": "stdout",
     "output_type": "stream",
     "text": [
      "[{'name': '_internal'}, {'name': 'testDB'}, {'name': 'NOAA_water_database'}, {'name': 'pyexample'}]\n"
     ]
    }
   ],
   "source": [
    "from influxdb import InfluxDBClient\n",
    "\n",
    "client = InfluxDBClient('localhost', 8086, 'root', '', 'testDB')\n",
    "print(client.get_list_database())"
   ]
  },
  {
   "cell_type": "code",
   "execution_count": 2,
   "metadata": {
    "ExecuteTime": {
     "end_time": "2020-03-01T10:44:11.926619Z",
     "start_time": "2020-03-01T10:44:11.872607Z"
    }
   },
   "outputs": [],
   "source": [
    "client.create_database(\"testDB\")"
   ]
  },
  {
   "cell_type": "code",
   "execution_count": 3,
   "metadata": {
    "ExecuteTime": {
     "end_time": "2020-03-01T10:44:27.470203Z",
     "start_time": "2020-03-01T10:44:27.415218Z"
    }
   },
   "outputs": [
    {
     "name": "stdout",
     "output_type": "stream",
     "text": [
      "Result: ResultSet({'('measurements', None)': [{'name': 'weather'}]})\n"
     ]
    }
   ],
   "source": [
    "result = client.query(\"show measurements;\")\n",
    "print(\"Result: {0}\".format(result))"
   ]
  },
  {
   "cell_type": "code",
   "execution_count": 5,
   "metadata": {
    "ExecuteTime": {
     "end_time": "2020-03-01T10:45:32.346765Z",
     "start_time": "2020-03-01T10:45:32.243809Z"
    }
   },
   "outputs": [
    {
     "data": {
      "text/plain": [
       "True"
      ]
     },
     "execution_count": 5,
     "metadata": {},
     "output_type": "execute_result"
    }
   ],
   "source": [
    "json_body = [\n",
    "    {\n",
    "        \"measurement\": \"students\",\n",
    "        \"tags\": {\n",
    "            \"stuid\": \"s123\"\n",
    "        },\n",
    "        #\"time\": \"2017-03-12T22:00:00Z\",\n",
    "        \"fields\": {\n",
    "            \"score\": 89\n",
    "        }\n",
    "    }\n",
    "]\n",
    "client.write_points(json_body) # 写入数据，同时创建表"
   ]
  },
  {
   "cell_type": "code",
   "execution_count": 6,
   "metadata": {
    "ExecuteTime": {
     "end_time": "2020-03-01T10:46:00.364029Z",
     "start_time": "2020-03-01T10:46:00.274101Z"
    }
   },
   "outputs": [
    {
     "name": "stdout",
     "output_type": "stream",
     "text": [
      "Result: ResultSet({'('students', None)': [{'time': '2020-03-01T10:45:32.249327Z', 'score': 89, 'stuid': 's123'}]})\n"
     ]
    }
   ],
   "source": [
    "result = client.query('select * from students;')    \n",
    "print(\"Result: {0}\".format(result))"
   ]
  },
  {
   "cell_type": "code",
   "execution_count": 2,
   "metadata": {
    "ExecuteTime": {
     "end_time": "2020-03-01T19:10:42.938822Z",
     "start_time": "2020-03-01T19:10:42.866218Z"
    }
   },
   "outputs": [],
   "source": [
    "client.create_database('pyexample')"
   ]
  },
  {
   "cell_type": "code",
   "execution_count": 3,
   "metadata": {
    "ExecuteTime": {
     "end_time": "2020-03-01T19:10:47.668664Z",
     "start_time": "2020-03-01T19:10:47.644976Z"
    }
   },
   "outputs": [
    {
     "data": {
      "text/plain": [
       "[{'name': '_internal'},\n",
       " {'name': 'testDB'},\n",
       " {'name': 'NOAA_water_database'},\n",
       " {'name': 'pyexample'}]"
      ]
     },
     "execution_count": 3,
     "metadata": {},
     "output_type": "execute_result"
    }
   ],
   "source": [
    "client.get_list_database()"
   ]
  },
  {
   "cell_type": "code",
   "execution_count": 4,
   "metadata": {
    "ExecuteTime": {
     "end_time": "2020-03-01T19:10:54.568154Z",
     "start_time": "2020-03-01T19:10:54.564055Z"
    }
   },
   "outputs": [],
   "source": [
    "client.switch_database('pyexample')"
   ]
  },
  {
   "cell_type": "code",
   "execution_count": 17,
   "metadata": {
    "ExecuteTime": {
     "end_time": "2020-03-01T19:15:56.812873Z",
     "start_time": "2020-03-01T19:15:56.658126Z"
    }
   },
   "outputs": [
    {
     "data": {
      "text/plain": [
       "True"
      ]
     },
     "execution_count": 17,
     "metadata": {},
     "output_type": "execute_result"
    }
   ],
   "source": [
    "json_body = [\n",
    "    {\n",
    "        \"measurement\": \"brushEvents\",\n",
    "        \"tags\": {\n",
    "            \"user\": \"Carol\",\n",
    "            \"brushId\": \"6c89f539-71c6-490d-a28d-6c5d84c0ee2f\"\n",
    "        },\n",
    "        \"time\": \"2020-03-28T8:01:00Z\",\n",
    "        \"fields\": {\n",
    "            \"duration\": 127\n",
    "        }\n",
    "    },\n",
    "    {\n",
    "        \"measurement\": \"brushEvents\",\n",
    "        \"tags\": {\n",
    "            \"user\": \"Carol\",\n",
    "            \"brushId\": \"6c89f539-71c6-490d-a28d-6c5d84c0ee2f\"\n",
    "        },\n",
    "        \"time\": \"2020-03-29T8:04:00Z\",\n",
    "        \"fields\": {\n",
    "            \"duration\": 132\n",
    "        }\n",
    "    },\n",
    "    {\n",
    "        \"measurement\": \"brushEvents\",\n",
    "        \"tags\": {\n",
    "            \"user\": \"Carol\",\n",
    "            \"brushId\": \"6c89f539-71c6-490d-a28d-6c5d84c0ee2f\"\n",
    "        },\n",
    "        \"time\": \"2020-03-30T8:02:00Z\",\n",
    "        \"fields\": {\n",
    "            \"duration\": 129\n",
    "        }\n",
    "    }\n",
    "]\n",
    "client.write_points(json_body)"
   ]
  },
  {
   "cell_type": "code",
   "execution_count": 18,
   "metadata": {
    "ExecuteTime": {
     "end_time": "2020-03-01T19:15:59.935516Z",
     "start_time": "2020-03-01T19:15:59.920511Z"
    }
   },
   "outputs": [
    {
     "data": {
      "text/plain": [
       "{'statement_id': 0,\n",
       " 'series': [{'name': 'brushEvents',\n",
       "   'tags': {'user': 'Carol'},\n",
       "   'columns': ['time', 'duration'],\n",
       "   'values': [['2020-03-01T19:14:14.552878Z', 129],\n",
       "    ['2020-03-28T08:01:00Z', 127],\n",
       "    ['2020-03-29T08:04:00Z', 132],\n",
       "    ['2020-03-30T08:02:00Z', 129]]}]}"
      ]
     },
     "execution_count": 18,
     "metadata": {},
     "output_type": "execute_result"
    }
   ],
   "source": [
    "results=client.query('SELECT \"duration\" FROM \"pyexample\".\"autogen\".\"brushEvents\" WHERE time > now() - 4d GROUP BY \"user\"')\n",
    "results.raw"
   ]
  },
  {
   "cell_type": "code",
   "execution_count": 19,
   "metadata": {
    "ExecuteTime": {
     "end_time": "2020-03-01T19:16:04.654936Z",
     "start_time": "2020-03-01T19:16:04.647301Z"
    }
   },
   "outputs": [
    {
     "name": "stdout",
     "output_type": "stream",
     "text": [
      "Time: 2020-03-01T19:14:14.552878Z, Duration: 129\n",
      "Time: 2020-03-28T08:01:00Z, Duration: 127\n",
      "Time: 2020-03-29T08:04:00Z, Duration: 132\n",
      "Time: 2020-03-30T08:02:00Z, Duration: 129\n"
     ]
    }
   ],
   "source": [
    "points = results.get_points(tags={'user':'Carol'})\n",
    "for point in points:\n",
    "    print(\"Time: %s, Duration: %i\" % (point['time'], point['duration']))"
   ]
  },
  {
   "cell_type": "code",
   "execution_count": 20,
   "metadata": {
    "ExecuteTime": {
     "end_time": "2020-03-01T19:16:30.264068Z",
     "start_time": "2020-03-01T19:16:30.253215Z"
    }
   },
   "outputs": [],
   "source": [
    ">>> results = client.query('SELECT \"duration\" FROM \"pyexample\".\"autogen\".\"brushEvents\" WHERE time > now() - 4d GROUP BY \"brushId\"')\n",
    ">>> points = results.get_points(tags={'brushId': '6c89f539-71c6-490d-a28d-6c5d84c0ee2f'})\n",
    ">>> brush_usage_total = 0\n",
    ">>> for point in points:\n",
    "...     brush_usage_total = brush_usage_total + point['duration']"
   ]
  },
  {
   "cell_type": "code",
   "execution_count": 21,
   "metadata": {
    "ExecuteTime": {
     "end_time": "2020-03-01T19:16:51.089409Z",
     "start_time": "2020-03-01T19:16:51.082171Z"
    }
   },
   "outputs": [
    {
     "name": "stdout",
     "output_type": "stream",
     "text": [
      "You've used your brush head for 517 seconds, more than the recommended amount! Time to replace your brush head!\n"
     ]
    }
   ],
   "source": [
    ">>> if brush_usage_total > 350:\n",
    "...     print(\"You've used your brush head for %s seconds, more than the recommended amount! Time to replace your brush head!\" % brush_usage_total)"
   ]
  }
 ],
 "metadata": {
  "kernelspec": {
   "display_name": "Python 3",
   "language": "python",
   "name": "python3"
  },
  "language_info": {
   "codemirror_mode": {
    "name": "ipython",
    "version": 3
   },
   "file_extension": ".py",
   "mimetype": "text/x-python",
   "name": "python",
   "nbconvert_exporter": "python",
   "pygments_lexer": "ipython3",
   "version": "3.6.6"
  },
  "varInspector": {
   "cols": {
    "lenName": 16,
    "lenType": 16,
    "lenVar": 40
   },
   "kernels_config": {
    "python": {
     "delete_cmd_postfix": "",
     "delete_cmd_prefix": "del ",
     "library": "var_list.py",
     "varRefreshCmd": "print(var_dic_list())"
    },
    "r": {
     "delete_cmd_postfix": ") ",
     "delete_cmd_prefix": "rm(",
     "library": "var_list.r",
     "varRefreshCmd": "cat(var_dic_list()) "
    }
   },
   "types_to_exclude": [
    "module",
    "function",
    "builtin_function_or_method",
    "instance",
    "_Feature"
   ],
   "window_display": false
  }
 },
 "nbformat": 4,
 "nbformat_minor": 2
}
