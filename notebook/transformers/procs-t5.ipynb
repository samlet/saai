{
 "cells": [
  {
   "cell_type": "code",
   "execution_count": 1,
   "metadata": {
    "ExecuteTime": {
     "end_time": "2020-06-24T10:46:26.689726Z",
     "start_time": "2020-06-24T10:46:11.558918Z"
    }
   },
   "outputs": [
    {
     "name": "stdout",
     "output_type": "stream",
     "text": [
      "tensor([[    0, 11560,  3896,  8881,   229,   236,     3, 14366, 15377,   181,\n",
      "         11216,    16,   368,  1060,    64,  1919,     5]])\n"
     ]
    },
    {
     "data": {
      "text/plain": [
       "['Hugging Face ist ein Technologieunternehmen mit Sitz in New York und Paris.']"
      ]
     },
     "execution_count": 1,
     "metadata": {},
     "output_type": "execute_result"
    }
   ],
   "source": [
    "from transformers import AutoModelWithLMHead, AutoTokenizer\n",
    "\n",
    "model = AutoModelWithLMHead.from_pretrained(\"t5-base\")\n",
    "tokenizer = AutoTokenizer.from_pretrained(\"t5-base\")\n",
    "\n",
    "inputs = tokenizer.encode(\"translate English to German: Hugging Face is a technology company based in New York and Paris\", return_tensors=\"pt\")\n",
    "outputs = model.generate(inputs, max_length=40, num_beams=4, early_stopping=True)\n",
    "\n",
    "print(outputs)\n",
    "\n",
    "[tokenizer.decode(g, skip_special_tokens=True, clean_up_tokenization_spaces=False) for g in outputs]"
   ]
  },
  {
   "cell_type": "code",
   "execution_count": 4,
   "metadata": {
    "ExecuteTime": {
     "end_time": "2020-06-24T10:48:08.708303Z",
     "start_time": "2020-06-24T10:48:06.625729Z"
    }
   },
   "outputs": [
    {
     "name": "stdout",
     "output_type": "stream",
     "text": [
      "tensor([[    0, 11560,  3896,  8881,   259,   245, 11089, 30009,  3905,   721,\n",
      "             3,    85,   368,  1060,     3,    15,    17,     3,    85,  1919,\n",
      "             5]])\n"
     ]
    },
    {
     "data": {
      "text/plain": [
       "['Hugging Face est une entreprise technologique basée à New York et à Paris.']"
      ]
     },
     "execution_count": 4,
     "metadata": {},
     "output_type": "execute_result"
    }
   ],
   "source": [
    "# inputs = tokenizer.encode(\"summarize: Hello, my dog is cute\", return_tensors=\"tf\")  # Batch size 1\n",
    "inputs = tokenizer.encode(\"translate English to French: Hugging Face is a technology company based in New York and Paris\", return_tensors=\"pt\")\n",
    "outputs = model.generate(inputs, max_length=40, num_beams=4, early_stopping=True)\n",
    "\n",
    "print(outputs)\n",
    "[tokenizer.decode(g, skip_special_tokens=True, clean_up_tokenization_spaces=False) for g in outputs]"
   ]
  },
  {
   "cell_type": "code",
   "execution_count": 6,
   "metadata": {
    "ExecuteTime": {
     "end_time": "2020-06-24T10:50:10.724821Z",
     "start_time": "2020-06-24T10:49:59.064337Z"
    }
   },
   "outputs": [],
   "source": [
    "from transformers import T5Tokenizer, TFT5ForConditionalGeneration\n",
    "tokenizer = T5Tokenizer.from_pretrained('t5-base')"
   ]
  },
  {
   "cell_type": "code",
   "execution_count": 7,
   "metadata": {
    "ExecuteTime": {
     "end_time": "2020-06-24T10:52:09.764363Z",
     "start_time": "2020-06-24T10:50:26.184620Z"
    }
   },
   "outputs": [
    {
     "data": {
      "application/vnd.jupyter.widget-view+json": {
       "model_id": "9dc2931f4a4948dbad4fd575575b8a8c",
       "version_major": 2,
       "version_minor": 0
      },
      "text/plain": [
       "HBox(children=(FloatProgress(value=0.0, description='Downloading', max=892146080.0, style=ProgressStyle(descri…"
      ]
     },
     "metadata": {},
     "output_type": "display_data"
    },
    {
     "name": "stdout",
     "output_type": "stream",
     "text": [
      "\n"
     ]
    }
   ],
   "source": [
    "model = TFT5ForConditionalGeneration.from_pretrained('t5-base')"
   ]
  },
  {
   "cell_type": "code",
   "execution_count": 8,
   "metadata": {
    "ExecuteTime": {
     "end_time": "2020-06-24T10:52:41.617338Z",
     "start_time": "2020-06-24T10:52:41.612730Z"
    }
   },
   "outputs": [],
   "source": [
    "inputs = tokenizer.encode(\"Hello, my dog is cute\", return_tensors=\"tf\")  # Batch size 1"
   ]
  },
  {
   "cell_type": "code",
   "execution_count": 9,
   "metadata": {
    "ExecuteTime": {
     "end_time": "2020-06-24T10:52:52.117477Z",
     "start_time": "2020-06-24T10:52:51.610286Z"
    }
   },
   "outputs": [],
   "source": [
    "outputs = model(inputs, decoder_input_ids=inputs)\n",
    "prediction_scores = outputs[0]"
   ]
  },
  {
   "cell_type": "code",
   "execution_count": 17,
   "metadata": {
    "ExecuteTime": {
     "end_time": "2020-06-24T11:04:51.070675Z",
     "start_time": "2020-06-24T11:04:40.097483Z"
    }
   },
   "outputs": [
    {
     "data": {
      "text/plain": [
       "<tf.Tensor: shape=(1, 20), dtype=int32, numpy=\n",
       "array([[   0, 8774,    6,   82, 1782,   19, 5295,    5, 8774,    6,   82,\n",
       "        1782,   19, 5295,    5, 8774,    6,   82, 1782,   19]],\n",
       "      dtype=int32)>"
      ]
     },
     "execution_count": 17,
     "metadata": {},
     "output_type": "execute_result"
    }
   ],
   "source": [
    "tokenizer = T5Tokenizer.from_pretrained('t5-base')\n",
    "model = TFT5ForConditionalGeneration.from_pretrained('t5-base')\n",
    "inputs = tokenizer.encode(\"summarize: Hello, my dog is cute\", return_tensors=\"tf\")  # Batch size 1\n",
    "outputs=model.generate(inputs)\n",
    "outputs"
   ]
  },
  {
   "cell_type": "code",
   "execution_count": 18,
   "metadata": {
    "ExecuteTime": {
     "end_time": "2020-06-24T11:04:55.995959Z",
     "start_time": "2020-06-24T11:04:55.958863Z"
    }
   },
   "outputs": [
    {
     "data": {
      "text/plain": [
       "['Hello, my dog is cute. Hello, my dog is cute. Hello, my dog is']"
      ]
     },
     "execution_count": 18,
     "metadata": {},
     "output_type": "execute_result"
    }
   ],
   "source": [
    "[tokenizer.decode(g, skip_special_tokens=True, clean_up_tokenization_spaces=False) for g in outputs]"
   ]
  }
 ],
 "metadata": {
  "kernelspec": {
   "display_name": "Python 3",
   "language": "python",
   "name": "python3"
  },
  "language_info": {
   "codemirror_mode": {
    "name": "ipython",
    "version": 3
   },
   "file_extension": ".py",
   "mimetype": "text/x-python",
   "name": "python",
   "nbconvert_exporter": "python",
   "pygments_lexer": "ipython3",
   "version": "3.7.7"
  },
  "varInspector": {
   "cols": {
    "lenName": 16,
    "lenType": 16,
    "lenVar": 40
   },
   "kernels_config": {
    "python": {
     "delete_cmd_postfix": "",
     "delete_cmd_prefix": "del ",
     "library": "var_list.py",
     "varRefreshCmd": "print(var_dic_list())"
    },
    "r": {
     "delete_cmd_postfix": ") ",
     "delete_cmd_prefix": "rm(",
     "library": "var_list.r",
     "varRefreshCmd": "cat(var_dic_list()) "
    }
   },
   "types_to_exclude": [
    "module",
    "function",
    "builtin_function_or_method",
    "instance",
    "_Feature"
   ],
   "window_display": false
  }
 },
 "nbformat": 4,
 "nbformat_minor": 4
}
