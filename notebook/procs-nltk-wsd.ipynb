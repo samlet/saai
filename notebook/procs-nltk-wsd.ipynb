{
 "cells": [
  {
   "cell_type": "code",
   "execution_count": 3,
   "metadata": {
    "ExecuteTime": {
     "end_time": "2020-03-14T08:50:08.058127Z",
     "start_time": "2020-03-14T08:50:08.051982Z"
    }
   },
   "outputs": [
    {
     "name": "stdout",
     "output_type": "stream",
     "text": [
      "Synset('savings_bank.n.02')\n",
      "Synset('savings_bank.n.02')\n"
     ]
    }
   ],
   "source": [
    "from nltk.wsd import lesk\n",
    "sent = ['I', 'went', 'to', 'the', 'bank', 'to', 'deposit', 'money', '.']\n",
    "print(lesk(sent, 'bank', 'n'))\n",
    "print(lesk(sent, 'bank'))"
   ]
  },
  {
   "cell_type": "code",
   "execution_count": 5,
   "metadata": {
    "ExecuteTime": {
     "end_time": "2020-03-14T08:51:23.855921Z",
     "start_time": "2020-03-14T08:51:23.817912Z"
    }
   },
   "outputs": [
    {
     "data": {
      "text/plain": [
       "[(Synset('able.a.01'), 'a'),\n",
       " (Synset('able.s.02'), 's'),\n",
       " (Synset('able.s.03'), 's'),\n",
       " (Synset('able.s.04'), 's')]"
      ]
     },
     "execution_count": 5,
     "metadata": {},
     "output_type": "execute_result"
    }
   ],
   "source": [
    "from nltk.corpus import wordnet as wn\n",
    "[(s, s.pos()) for s in wn.synsets('able')]"
   ]
  },
  {
   "cell_type": "code",
   "execution_count": 6,
   "metadata": {
    "ExecuteTime": {
     "end_time": "2020-03-14T08:51:38.542079Z",
     "start_time": "2020-03-14T08:51:38.532399Z"
    }
   },
   "outputs": [
    {
     "data": {
      "text/plain": [
       "Synset('able.s.04')"
      ]
     },
     "execution_count": 6,
     "metadata": {},
     "output_type": "execute_result"
    }
   ],
   "source": [
    ">>> sent = 'people should be able to marry a person of their choice'.split()\n",
    ">>> lesk(sent, 'able')"
   ]
  },
  {
   "cell_type": "code",
   "execution_count": 7,
   "metadata": {
    "ExecuteTime": {
     "end_time": "2020-03-14T08:51:52.142310Z",
     "start_time": "2020-03-14T08:51:52.132548Z"
    }
   },
   "outputs": [
    {
     "data": {
      "text/plain": [
       "Synset('able.a.01')"
      ]
     },
     "execution_count": 7,
     "metadata": {},
     "output_type": "execute_result"
    }
   ],
   "source": [
    ">>> lesk(sent, 'able', pos='a')"
   ]
  },
  {
   "cell_type": "code",
   "execution_count": 8,
   "metadata": {
    "ExecuteTime": {
     "end_time": "2020-03-14T08:52:10.092010Z",
     "start_time": "2020-03-14T08:52:10.082767Z"
    }
   },
   "outputs": [],
   "source": [
    ">>> lesk('John loves Mary'.split(), 'loves', synsets=[])"
   ]
  },
  {
   "cell_type": "code",
   "execution_count": 9,
   "metadata": {
    "ExecuteTime": {
     "end_time": "2020-03-14T08:52:35.925172Z",
     "start_time": "2020-03-14T08:52:35.909202Z"
    }
   },
   "outputs": [
    {
     "data": {
      "text/plain": [
       "Synset('sleep_together.v.01')"
      ]
     },
     "execution_count": 9,
     "metadata": {},
     "output_type": "execute_result"
    }
   ],
   "source": [
    "lesk('John loves Mary'.split(), 'loves')"
   ]
  }
 ],
 "metadata": {
  "kernelspec": {
   "display_name": "Python 3",
   "language": "python",
   "name": "python3"
  },
  "language_info": {
   "codemirror_mode": {
    "name": "ipython",
    "version": 3
   },
   "file_extension": ".py",
   "mimetype": "text/x-python",
   "name": "python",
   "nbconvert_exporter": "python",
   "pygments_lexer": "ipython3",
   "version": "3.6.6"
  },
  "varInspector": {
   "cols": {
    "lenName": 16,
    "lenType": 16,
    "lenVar": 40
   },
   "kernels_config": {
    "python": {
     "delete_cmd_postfix": "",
     "delete_cmd_prefix": "del ",
     "library": "var_list.py",
     "varRefreshCmd": "print(var_dic_list())"
    },
    "r": {
     "delete_cmd_postfix": ") ",
     "delete_cmd_prefix": "rm(",
     "library": "var_list.r",
     "varRefreshCmd": "cat(var_dic_list()) "
    }
   },
   "types_to_exclude": [
    "module",
    "function",
    "builtin_function_or_method",
    "instance",
    "_Feature"
   ],
   "window_display": false
  }
 },
 "nbformat": 4,
 "nbformat_minor": 2
}
