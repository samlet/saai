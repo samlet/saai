{
 "cells": [
  {
   "cell_type": "code",
   "execution_count": 5,
   "metadata": {
    "ExecuteTime": {
     "end_time": "2020-03-13T22:43:51.995920Z",
     "start_time": "2020-03-13T22:43:45.191801Z"
    }
   },
   "outputs": [],
   "source": [
    "import OpenHowNet\n",
    "hownet_dict = OpenHowNet.HowNetDict()"
   ]
  },
  {
   "cell_type": "code",
   "execution_count": 2,
   "metadata": {
    "ExecuteTime": {
     "end_time": "2020-03-13T22:43:23.148760Z",
     "start_time": "2020-03-13T22:43:10.070516Z"
    }
   },
   "outputs": [
    {
     "name": "stderr",
     "output_type": "stream",
     "text": [
      "openhownet_data.zip: 107433KB [00:09, 11307.90KB/s]                               \n"
     ]
    }
   ],
   "source": [
    "OpenHowNet.download()"
   ]
  },
  {
   "cell_type": "code",
   "execution_count": 6,
   "metadata": {
    "ExecuteTime": {
     "end_time": "2020-03-13T22:43:54.310499Z",
     "start_time": "2020-03-13T22:43:54.304212Z"
    }
   },
   "outputs": [
    {
     "name": "stdout",
     "output_type": "stream",
     "text": [
      "6\n"
     ]
    }
   ],
   "source": [
    "result_list = hownet_dict.get(\"苹果\")\n",
    "print(len(result_list))"
   ]
  },
  {
   "cell_type": "code",
   "execution_count": 8,
   "metadata": {
    "ExecuteTime": {
     "end_time": "2020-03-13T22:44:21.075384Z",
     "start_time": "2020-03-13T22:44:21.054028Z"
    }
   },
   "outputs": [
    {
     "data": {
      "text/plain": [
       "{'Def': '{computer|电脑:modifier={PatternValue|样式值:CoEvent={able|能:scope={bring|携带:patient={$}}}}{SpeBrand|特定牌子}}',\n",
       " 'en_grammar': 'noun',\n",
       " 'ch_grammar': 'noun',\n",
       " 'No': '127151',\n",
       " 'syn': [{'id': '004024', 'text': 'IBM'},\n",
       "  {'id': '041684', 'text': '戴尔'},\n",
       "  {'id': '049006', 'text': '东芝'},\n",
       "  {'id': '106795', 'text': '联想'},\n",
       "  {'id': '156029', 'text': '索尼'},\n",
       "  {'id': '004203', 'text': 'iPad'},\n",
       "  {'id': '019457', 'text': '笔记本'},\n",
       "  {'id': '019458', 'text': '笔记本电脑'},\n",
       "  {'id': '019459', 'text': '笔记本电脑'},\n",
       "  {'id': '019460', 'text': '笔记本电脑'},\n",
       "  {'id': '019461', 'text': '笔记本电脑'},\n",
       "  {'id': '019463', 'text': '笔记簿电脑'},\n",
       "  {'id': '019464', 'text': '笔记簿电脑'},\n",
       "  {'id': '020567', 'text': '便携式电脑'},\n",
       "  {'id': '020568', 'text': '便携式计算机'},\n",
       "  {'id': '020569', 'text': '便携式计算机'},\n",
       "  {'id': '127224', 'text': '平板电脑'},\n",
       "  {'id': '127225', 'text': '平板电脑'},\n",
       "  {'id': '172264', 'text': '膝上型电脑'},\n",
       "  {'id': '172265', 'text': '膝上型电脑'}],\n",
       " 'ch_word': '苹果',\n",
       " 'en_word': 'apple'}"
      ]
     },
     "execution_count": 8,
     "metadata": {},
     "output_type": "execute_result"
    }
   ],
   "source": [
    "result_list[0]"
   ]
  },
  {
   "cell_type": "code",
   "execution_count": 9,
   "metadata": {
    "ExecuteTime": {
     "end_time": "2020-03-13T22:44:40.757414Z",
     "start_time": "2020-03-13T22:44:40.723482Z"
    }
   },
   "outputs": [
    {
     "data": {
      "text/plain": [
       "[]"
      ]
     },
     "execution_count": 9,
     "metadata": {},
     "output_type": "execute_result"
    }
   ],
   "source": [
    "hownet_dict.get(\"test_for_non_exist_word\")"
   ]
  },
  {
   "cell_type": "code",
   "execution_count": 10,
   "metadata": {
    "ExecuteTime": {
     "end_time": "2020-03-13T22:44:48.912555Z",
     "start_time": "2020-03-13T22:44:48.902817Z"
    }
   },
   "outputs": [
    {
     "name": "stdout",
     "output_type": "stream",
     "text": [
      "Find 6 result(s)\n",
      "Display #0 sememe tree\n",
      "[sense]苹果\n",
      "└── [None]computer|电脑\n",
      "    ├── [modifier]PatternValue|样式值\n",
      "    │   └── [CoEvent]able|能\n",
      "    │       └── [scope]bring|携带\n",
      "    │           └── [patient]$\n",
      "    └── [patient]SpeBrand|特定牌子\n",
      "Display #1 sememe tree\n",
      "[sense]苹果\n",
      "└── [None]fruit|水果\n"
     ]
    }
   ],
   "source": [
    "hownet_dict.visualize_sememe_trees(\"苹果\", K=2)"
   ]
  },
  {
   "cell_type": "code",
   "execution_count": 12,
   "metadata": {
    "ExecuteTime": {
     "end_time": "2020-03-13T23:25:33.217215Z",
     "start_time": "2020-03-13T23:25:33.207490Z"
    }
   },
   "outputs": [
    {
     "data": {
      "text/plain": [
       "{'交流', '携带', '树', '样式值', '水果', '特定牌子', '生殖', '用具', '电脑', '能'}"
      ]
     },
     "execution_count": 12,
     "metadata": {},
     "output_type": "execute_result"
    }
   ],
   "source": [
    "# 获取合并过后的多义词的义原\n",
    "hownet_dict.get_sememes_by_word(\"苹果\",structured=False,lang=\"zh\",merge=True)"
   ]
  },
  {
   "cell_type": "code",
   "execution_count": 13,
   "metadata": {
    "ExecuteTime": {
     "end_time": "2020-03-13T23:26:24.227157Z",
     "start_time": "2020-03-13T23:26:24.217123Z"
    }
   },
   "outputs": [
    {
     "data": {
      "text/plain": [
       "{'$',\n",
       " 'PatternValue',\n",
       " 'SpeBrand',\n",
       " 'able',\n",
       " 'bring',\n",
       " 'communicate',\n",
       " 'computer',\n",
       " 'fruit',\n",
       " 'reproduce',\n",
       " 'tool',\n",
       " 'tree'}"
      ]
     },
     "execution_count": 13,
     "metadata": {},
     "output_type": "execute_result"
    }
   ],
   "source": [
    "hownet_dict.get_sememes_by_word(\"apple\",structured=False,lang=\"en\",merge=True)"
   ]
  },
  {
   "cell_type": "code",
   "execution_count": 14,
   "metadata": {
    "ExecuteTime": {
     "end_time": "2020-03-13T23:27:13.647925Z",
     "start_time": "2020-03-13T23:27:13.638700Z"
    }
   },
   "outputs": [
    {
     "data": {
      "text/plain": [
       "{'apple': {'$',\n",
       "  'PatternValue',\n",
       "  'SpeBrand',\n",
       "  'able',\n",
       "  'bring',\n",
       "  'communicate',\n",
       "  'computer',\n",
       "  'fruit',\n",
       "  'reproduce',\n",
       "  'tool',\n",
       "  'tree'},\n",
       " 'malus pumila': {'fruit', 'reproduce', 'tree'},\n",
       " 'orchard apple tree': {'fruit', 'reproduce', 'tree'}}"
      ]
     },
     "execution_count": 14,
     "metadata": {},
     "output_type": "execute_result"
    }
   ],
   "source": [
    "# 即使指定的语言和目标词本身语言不匹配，api仍然可以正常工作，并且返回的结果中的语言将是你指定的语言。\n",
    "hownet_dict.get_sememes_by_word(\"苹果\",structured=False,lang=\"en\",merge=True)"
   ]
  },
  {
   "cell_type": "code",
   "execution_count": 16,
   "metadata": {
    "ExecuteTime": {
     "end_time": "2020-03-13T23:27:51.966810Z",
     "start_time": "2020-03-13T23:27:51.956278Z"
    }
   },
   "outputs": [
    {
     "data": {
      "text/plain": [
       "{'树', '水果', '用具', '电脑'}"
      ]
     },
     "execution_count": 16,
     "metadata": {},
     "output_type": "execute_result"
    }
   ],
   "source": [
    "# 展开的层数\n",
    "hownet_dict.get_sememes_by_word(\"苹果\",structured=False,merge=True,expanded_layer=2)"
   ]
  },
  {
   "cell_type": "code",
   "execution_count": 17,
   "metadata": {
    "ExecuteTime": {
     "end_time": "2020-03-13T23:29:28.668460Z",
     "start_time": "2020-03-13T23:29:28.657832Z"
    }
   },
   "outputs": [
    {
     "data": {
      "text/plain": [
       "[{'word': '苹果', 'sememes': {'携带', '样式值', '特定牌子', '电脑', '能'}},\n",
       " {'word': '苹果', 'sememes': {'水果'}},\n",
       " {'word': '苹果', 'sememes': {'交流', '携带', '样式值', '特定牌子', '用具', '能'}},\n",
       " {'word': '苹果', 'sememes': {'树', '水果', '生殖'}},\n",
       " {'word': '苹果', 'sememes': {'树', '水果', '生殖'}},\n",
       " {'word': '苹果', 'sememes': {'树', '水果', '生殖'}}]"
      ]
     },
     "execution_count": 17,
     "metadata": {},
     "output_type": "execute_result"
    }
   ],
   "source": [
    "# 查看HowNet中特定词的不同意思，只需要将参数merged设为False\n",
    "hownet_dict.get_sememes_by_word(\"苹果\",structured=False,lang=\"zh\",merge=False)"
   ]
  },
  {
   "cell_type": "code",
   "execution_count": 18,
   "metadata": {
    "ExecuteTime": {
     "end_time": "2020-03-13T23:29:54.162844Z",
     "start_time": "2020-03-13T23:29:54.152696Z"
    }
   },
   "outputs": [
    {
     "data": {
      "text/plain": [
       "{'role': 'sense',\n",
       " 'name': '苹果',\n",
       " 'children': [{'role': 'None',\n",
       "   'name': 'computer|电脑',\n",
       "   'children': [{'role': 'modifier',\n",
       "     'name': 'PatternValue|样式值',\n",
       "     'children': [{'role': 'CoEvent',\n",
       "       'name': 'able|能',\n",
       "       'children': [{'role': 'scope',\n",
       "         'name': 'bring|携带',\n",
       "         'children': [{'role': 'patient', 'name': '$'}]}]}]},\n",
       "    {'role': 'patient', 'name': 'SpeBrand|特定牌子'}]}]}"
      ]
     },
     "execution_count": 18,
     "metadata": {},
     "output_type": "execute_result"
    }
   ],
   "source": [
    "hownet_dict.get_sememes_by_word(\"苹果\",structured=True)[0][\"tree\"]"
   ]
  },
  {
   "cell_type": "code",
   "execution_count": 19,
   "metadata": {
    "ExecuteTime": {
     "end_time": "2020-03-13T23:30:19.350312Z",
     "start_time": "2020-03-13T23:30:19.335805Z"
    }
   },
   "outputs": [
    {
     "data": {
      "text/plain": [
       "{'Def': '{computer|电脑:modifier={PatternValue|样式值:CoEvent={able|能:scope={bring|携带:patient={$}}}}{SpeBrand|特定牌子}}',\n",
       " 'en_grammar': 'noun',\n",
       " 'ch_grammar': 'noun',\n",
       " 'No': '127151',\n",
       " 'syn': [{'id': '004024', 'text': 'IBM'},\n",
       "  {'id': '041684', 'text': '戴尔'},\n",
       "  {'id': '049006', 'text': '东芝'},\n",
       "  {'id': '106795', 'text': '联想'},\n",
       "  {'id': '156029', 'text': '索尼'},\n",
       "  {'id': '004203', 'text': 'iPad'},\n",
       "  {'id': '019457', 'text': '笔记本'},\n",
       "  {'id': '019458', 'text': '笔记本电脑'},\n",
       "  {'id': '019459', 'text': '笔记本电脑'},\n",
       "  {'id': '019460', 'text': '笔记本电脑'},\n",
       "  {'id': '019461', 'text': '笔记本电脑'},\n",
       "  {'id': '019463', 'text': '笔记簿电脑'},\n",
       "  {'id': '019464', 'text': '笔记簿电脑'},\n",
       "  {'id': '020567', 'text': '便携式电脑'},\n",
       "  {'id': '020568', 'text': '便携式计算机'},\n",
       "  {'id': '020569', 'text': '便携式计算机'},\n",
       "  {'id': '127224', 'text': '平板电脑'},\n",
       "  {'id': '127225', 'text': '平板电脑'},\n",
       "  {'id': '172264', 'text': '膝上型电脑'},\n",
       "  {'id': '172265', 'text': '膝上型电脑'}],\n",
       " 'ch_word': '苹果',\n",
       " 'en_word': 'apple'}"
      ]
     },
     "execution_count": 19,
     "metadata": {},
     "output_type": "execute_result"
    }
   ],
   "source": [
    "hownet_dict.get_sememes_by_word(\"苹果\",structured=True)[0][\"word\"]"
   ]
  },
  {
   "cell_type": "code",
   "execution_count": 21,
   "metadata": {
    "ExecuteTime": {
     "end_time": "2020-03-13T23:31:27.889079Z",
     "start_time": "2020-03-13T23:31:27.881103Z"
    }
   },
   "outputs": [
    {
     "data": {
      "text/plain": [
       "[{'id': '004024', 'text': 'IBM'},\n",
       " {'id': '041684', 'text': '戴尔'},\n",
       " {'id': '049006', 'text': '东芝'},\n",
       " {'id': '106795', 'text': '联想'},\n",
       " {'id': '156029', 'text': '索尼'},\n",
       " {'id': '004203', 'text': 'iPad'},\n",
       " {'id': '019457', 'text': '笔记本'},\n",
       " {'id': '019458', 'text': '笔记本电脑'},\n",
       " {'id': '019459', 'text': '笔记本电脑'},\n",
       " {'id': '019460', 'text': '笔记本电脑'},\n",
       " {'id': '019461', 'text': '笔记本电脑'},\n",
       " {'id': '019463', 'text': '笔记簿电脑'},\n",
       " {'id': '019464', 'text': '笔记簿电脑'},\n",
       " {'id': '020567', 'text': '便携式电脑'},\n",
       " {'id': '020568', 'text': '便携式计算机'},\n",
       " {'id': '020569', 'text': '便携式计算机'},\n",
       " {'id': '127224', 'text': '平板电脑'},\n",
       " {'id': '127225', 'text': '平板电脑'},\n",
       " {'id': '172264', 'text': '膝上型电脑'},\n",
       " {'id': '172265', 'text': '膝上型电脑'}]"
      ]
     },
     "execution_count": 21,
     "metadata": {},
     "output_type": "execute_result"
    }
   ],
   "source": [
    "# 获取指定词的同义词\n",
    "hownet_dict[\"苹果\"][0][\"syn\"]"
   ]
  },
  {
   "cell_type": "code",
   "execution_count": 23,
   "metadata": {
    "ExecuteTime": {
     "end_time": "2020-03-13T23:32:08.545028Z",
     "start_time": "2020-03-13T23:32:08.535183Z"
    }
   },
   "outputs": [
    {
     "data": {
      "text/plain": [
       "[{'Def': '{computer|电脑:modifier={PatternValue|样式值:CoEvent={able|能:scope={bring|携带:patient={$}}}}}',\n",
       "  'en_grammar': 'noun',\n",
       "  'ch_grammar': 'noun',\n",
       "  'No': '172264',\n",
       "  'syn': [{'id': '004203', 'text': 'iPad'},\n",
       "   {'id': '019457', 'text': '笔记本'},\n",
       "   {'id': '019458', 'text': '笔记本电脑'},\n",
       "   {'id': '019459', 'text': '笔记本电脑'},\n",
       "   {'id': '019460', 'text': '笔记本电脑'},\n",
       "   {'id': '019461', 'text': '笔记本电脑'},\n",
       "   {'id': '019463', 'text': '笔记簿电脑'},\n",
       "   {'id': '019464', 'text': '笔记簿电脑'},\n",
       "   {'id': '020567', 'text': '便携式电脑'},\n",
       "   {'id': '020568', 'text': '便携式计算机'},\n",
       "   {'id': '020569', 'text': '便携式计算机'},\n",
       "   {'id': '127224', 'text': '平板电脑'},\n",
       "   {'id': '127225', 'text': '平板电脑'},\n",
       "   {'id': '212434', 'text': '桌面计算机'},\n",
       "   {'id': '004024', 'text': 'IBM'},\n",
       "   {'id': '041684', 'text': '戴尔'},\n",
       "   {'id': '049006', 'text': '东芝'},\n",
       "   {'id': '106795', 'text': '联想'},\n",
       "   {'id': '127151', 'text': '苹果'},\n",
       "   {'id': '156029', 'text': '索尼'}],\n",
       "  'ch_word': '膝上型电脑',\n",
       "  'en_word': 'laptop'}]"
      ]
     },
     "execution_count": 23,
     "metadata": {},
     "output_type": "execute_result"
    }
   ],
   "source": [
    "hownet_dict[\"172264\"]"
   ]
  },
  {
   "cell_type": "code",
   "execution_count": 24,
   "metadata": {
    "ExecuteTime": {
     "end_time": "2020-03-13T23:32:38.162748Z",
     "start_time": "2020-03-13T23:32:38.121706Z"
    }
   },
   "outputs": [
    {
     "data": {
      "text/plain": [
       "'hyponym'"
      ]
     },
     "execution_count": 24,
     "metadata": {},
     "output_type": "execute_result"
    }
   ],
   "source": [
    "hownet_dict.get_sememe_relation(\"音量值\", \"尖声\")"
   ]
  },
  {
   "cell_type": "code",
   "execution_count": 27,
   "metadata": {
    "ExecuteTime": {
     "end_time": "2020-03-13T23:34:26.802946Z",
     "start_time": "2020-03-13T23:34:26.793708Z"
    }
   },
   "outputs": [
    {
     "data": {
      "text/plain": [
       "'hyponym'"
      ]
     },
     "execution_count": 27,
     "metadata": {},
     "output_type": "execute_result"
    }
   ],
   "source": [
    "hownet_dict.get_sememe_relation(\"音量值\", \"shrill\")"
   ]
  },
  {
   "cell_type": "code",
   "execution_count": 25,
   "metadata": {
    "ExecuteTime": {
     "end_time": "2020-03-13T23:33:54.408315Z",
     "start_time": "2020-03-13T23:33:54.399507Z"
    }
   },
   "outputs": [
    {
     "data": {
      "text/plain": [
       "'hypernym'"
      ]
     },
     "execution_count": 25,
     "metadata": {},
     "output_type": "execute_result"
    }
   ],
   "source": [
    "hownet_dict.get_sememe_relation(\"尖声\", \"SoundVolumeValue\")"
   ]
  },
  {
   "cell_type": "code",
   "execution_count": 26,
   "metadata": {
    "ExecuteTime": {
     "end_time": "2020-03-13T23:34:06.869612Z",
     "start_time": "2020-03-13T23:34:06.842718Z"
    }
   },
   "outputs": [
    {
     "data": {
      "text/plain": [
       "'hypernym'"
      ]
     },
     "execution_count": 26,
     "metadata": {},
     "output_type": "execute_result"
    }
   ],
   "source": [
    "hownet_dict.get_sememe_relation(\"shrill\", \"SoundVolumeValue\")"
   ]
  },
  {
   "cell_type": "code",
   "execution_count": 28,
   "metadata": {
    "ExecuteTime": {
     "end_time": "2020-03-13T23:35:35.449426Z",
     "start_time": "2020-03-13T23:35:35.439673Z"
    }
   },
   "outputs": [
    {
     "data": {
      "text/plain": [
       "['高声', '低声', '尖声', '沙哑', '无声', '有声']"
      ]
     },
     "execution_count": 28,
     "metadata": {},
     "output_type": "execute_result"
    }
   ],
   "source": [
    "# 检索与输入义原存在某种关系的所有义原\n",
    "hownet_dict.get_sememe_via_relation(\"音量值\", \"hyponym\")"
   ]
  },
  {
   "cell_type": "code",
   "execution_count": 29,
   "metadata": {
    "ExecuteTime": {
     "end_time": "2020-03-13T23:35:44.493332Z",
     "start_time": "2020-03-13T23:35:44.484120Z"
    }
   },
   "outputs": [
    {
     "data": {
      "text/plain": [
       "['loud', 'LowVoice', 'shrill', 'hoarse', 'silent', 'talking']"
      ]
     },
     "execution_count": 29,
     "metadata": {},
     "output_type": "execute_result"
    }
   ],
   "source": [
    "hownet_dict.get_sememe_via_relation(\"音量值\", \"hyponym\", lang=\"en\")"
   ]
  },
  {
   "cell_type": "code",
   "execution_count": 30,
   "metadata": {
    "ExecuteTime": {
     "end_time": "2020-03-13T23:35:58.345847Z",
     "start_time": "2020-03-13T23:35:58.339201Z"
    }
   },
   "outputs": [
    {
     "data": {
      "text/plain": [
       "['loud', 'LowVoice', 'shrill', 'hoarse', 'silent', 'talking']"
      ]
     },
     "execution_count": 30,
     "metadata": {},
     "output_type": "execute_result"
    }
   ],
   "source": [
    "hownet_dict.get_sememe_via_relation(\"SoundVolumeValue\", \"hyponym\", lang=\"en\")"
   ]
  },
  {
   "cell_type": "code",
   "execution_count": 32,
   "metadata": {
    "ExecuteTime": {
     "end_time": "2020-03-13T23:41:08.870315Z",
     "start_time": "2020-03-13T23:41:08.862308Z"
    }
   },
   "outputs": [
    {
     "data": {
      "text/plain": [
       "['器具']"
      ]
     },
     "execution_count": 32,
     "metadata": {},
     "output_type": "execute_result"
    }
   ],
   "source": [
    "hownet_dict.get_sememe_via_relation(\"电脑\", \"hypernym\")"
   ]
  },
  {
   "cell_type": "code",
   "execution_count": 36,
   "metadata": {
    "ExecuteTime": {
     "end_time": "2020-03-13T23:41:46.883105Z",
     "start_time": "2020-03-13T23:41:46.874725Z"
    }
   },
   "outputs": [
    {
     "data": {
      "text/plain": [
       "[]"
      ]
     },
     "execution_count": 36,
     "metadata": {},
     "output_type": "execute_result"
    }
   ],
   "source": [
    "hownet_dict.get_sememe_via_relation(\"电冰箱\", \"hypernym\")"
   ]
  },
  {
   "cell_type": "code",
   "execution_count": 44,
   "metadata": {
    "ExecuteTime": {
     "end_time": "2020-03-13T23:48:02.212197Z",
     "start_time": "2020-03-13T23:48:02.204443Z"
    }
   },
   "outputs": [
    {
     "data": {
      "text/plain": [
       "['机器', '电脑', '交通工具', '家具', '乐器', '运动器材', '用具', '武器', '软件']"
      ]
     },
     "execution_count": 44,
     "metadata": {},
     "output_type": "execute_result"
    }
   ],
   "source": [
    "hownet_dict.get_sememe_via_relation(\"器具\", \"hyponym\")"
   ]
  },
  {
   "cell_type": "code",
   "execution_count": 45,
   "metadata": {
    "ExecuteTime": {
     "end_time": "2020-03-13T23:48:15.041819Z",
     "start_time": "2020-03-13T23:48:15.032997Z"
    }
   },
   "outputs": [
    {
     "data": {
      "text/plain": [
       "[]"
      ]
     },
     "execution_count": 45,
     "metadata": {},
     "output_type": "execute_result"
    }
   ],
   "source": [
    "hownet_dict.get_sememe_via_relation(\"冰箱\", \"hyponym\")"
   ]
  },
  {
   "cell_type": "code",
   "execution_count": 37,
   "metadata": {
    "ExecuteTime": {
     "end_time": "2020-03-13T23:42:31.384455Z",
     "start_time": "2020-03-13T23:42:31.371861Z"
    }
   },
   "outputs": [
    {
     "name": "stdout",
     "output_type": "stream",
     "text": [
      "Find 6 result(s)\n",
      "Display #0 sememe tree\n",
      "[sense]苹果\n",
      "└── [None]computer|电脑\n",
      "    ├── [modifier]PatternValue|样式值\n",
      "    │   └── [CoEvent]able|能\n",
      "    │       └── [scope]bring|携带\n",
      "    │           └── [patient]$\n",
      "    └── [patient]SpeBrand|特定牌子\n",
      "Display #1 sememe tree\n",
      "[sense]苹果\n",
      "└── [None]fruit|水果\n",
      "Display #2 sememe tree\n",
      "[sense]苹果\n",
      "└── [None]tool|用具\n",
      "    ├── [modifier]PatternValue|样式值\n",
      "    │   └── [CoEvent]able|能\n",
      "    │       └── [scope]bring|携带\n",
      "    │           └── [patient]$\n",
      "    ├── [patient]SpeBrand|特定牌子\n",
      "    └── [instrument]communicate|交流\n",
      "Display #3 sememe tree\n",
      "[sense]苹果\n",
      "└── [None]tree|树\n",
      "    └── [agent]reproduce|生殖\n",
      "        └── [PatientProduct]fruit|水果\n",
      "Display #4 sememe tree\n",
      "[sense]苹果\n",
      "└── [None]tree|树\n",
      "    └── [agent]reproduce|生殖\n",
      "        └── [PatientProduct]fruit|水果\n",
      "Display #5 sememe tree\n",
      "[sense]苹果\n",
      "└── [None]tree|树\n",
      "    └── [agent]reproduce|生殖\n",
      "        └── [PatientProduct]fruit|水果\n"
     ]
    }
   ],
   "source": [
    "hownet_dict.visualize_sememe_trees(\"苹果\")"
   ]
  },
  {
   "cell_type": "code",
   "execution_count": 38,
   "metadata": {
    "ExecuteTime": {
     "end_time": "2020-03-13T23:42:49.339453Z",
     "start_time": "2020-03-13T23:42:49.329022Z"
    }
   },
   "outputs": [
    {
     "name": "stdout",
     "output_type": "stream",
     "text": [
      "Find 3 result(s)\n",
      "Display #0 sememe tree\n",
      "[sense]电冰箱\n",
      "└── [None]tool|用具\n",
      "    └── [instrument]store|保存\n",
      "        ├── [means]cool|制冷\n",
      "        ├── [patient]edible|食物\n",
      "        └── [patient]medicine|药物\n",
      "Display #1 sememe tree\n",
      "[sense]电冰箱\n",
      "└── [None]tool|用具\n",
      "    └── [instrument]store|保存\n",
      "        ├── [means]cool|制冷\n",
      "        ├── [patient]edible|食物\n",
      "        └── [patient]medicine|药物\n",
      "Display #2 sememe tree\n",
      "[sense]电冰箱\n",
      "└── [None]tool|用具\n",
      "    └── [instrument]store|保存\n",
      "        ├── [means]cool|制冷\n",
      "        ├── [patient]edible|食物\n",
      "        └── [patient]medicine|药物\n"
     ]
    }
   ],
   "source": [
    "hownet_dict.visualize_sememe_trees(\"电冰箱\")"
   ]
  },
  {
   "cell_type": "code",
   "execution_count": 41,
   "metadata": {
    "ExecuteTime": {
     "end_time": "2020-03-13T23:44:31.231722Z",
     "start_time": "2020-03-13T23:44:31.212506Z"
    }
   },
   "outputs": [
    {
     "data": {
      "text/plain": [
       "'none'"
      ]
     },
     "execution_count": 41,
     "metadata": {},
     "output_type": "execute_result"
    }
   ],
   "source": [
    "hownet_dict.get_sememe_relation(\"电冰箱\", \"tool\")"
   ]
  },
  {
   "cell_type": "code",
   "execution_count": 42,
   "metadata": {
    "ExecuteTime": {
     "end_time": "2020-03-13T23:45:24.383049Z",
     "start_time": "2020-03-13T23:45:24.347911Z"
    }
   },
   "outputs": [
    {
     "data": {
      "text/plain": [
       "[{'Def': '{tool|用具:{store|保存:instrument={~},means={cool|制冷},patient={edible|食物}{medicine|药物}}}',\n",
       "  'en_grammar': 'noun',\n",
       "  'ch_grammar': 'noun',\n",
       "  'No': '046828',\n",
       "  'syn': [{'id': '021885', 'text': '冰柜'},\n",
       "   {'id': '021886', 'text': '冰柜'},\n",
       "   {'id': '021887', 'text': '冰柜'},\n",
       "   {'id': '021888', 'text': '冰柜'},\n",
       "   {'id': '021965', 'text': '冰箱'},\n",
       "   {'id': '021966', 'text': '冰箱'},\n",
       "   {'id': '021967', 'text': '冰箱'},\n",
       "   {'id': '021968', 'text': '冰箱'},\n",
       "   {'id': '021969', 'text': '冰箱'},\n",
       "   {'id': '105103', 'text': '冷藏箱'},\n",
       "   {'id': '105104', 'text': '冷藏箱'},\n",
       "   {'id': '105143', 'text': '冷冻机'},\n",
       "   {'id': '105144', 'text': '冷冻机'},\n",
       "   {'id': '105149', 'text': '冷冻箱'},\n",
       "   {'id': '105156', 'text': '冷柜'},\n",
       "   {'id': '183106', 'text': '雪柜'},\n",
       "   {'id': '207269', 'text': '制冷机'},\n",
       "   {'id': '069070', 'text': '罐头'},\n",
       "   {'id': '069071', 'text': '罐头'},\n",
       "   {'id': '160807', 'text': '听子'}],\n",
       "  'ch_word': '电冰箱',\n",
       "  'en_word': 'freezer'},\n",
       " {'Def': '{tool|用具:{store|保存:instrument={~},means={cool|制冷},patient={edible|食物}{medicine|药物}}}',\n",
       "  'en_grammar': 'noun',\n",
       "  'ch_grammar': 'noun',\n",
       "  'No': '046829',\n",
       "  'syn': [{'id': '021885', 'text': '冰柜'},\n",
       "   {'id': '021886', 'text': '冰柜'},\n",
       "   {'id': '021887', 'text': '冰柜'},\n",
       "   {'id': '021888', 'text': '冰柜'},\n",
       "   {'id': '021965', 'text': '冰箱'},\n",
       "   {'id': '021966', 'text': '冰箱'},\n",
       "   {'id': '021967', 'text': '冰箱'},\n",
       "   {'id': '021968', 'text': '冰箱'},\n",
       "   {'id': '021969', 'text': '冰箱'},\n",
       "   {'id': '105103', 'text': '冷藏箱'},\n",
       "   {'id': '105104', 'text': '冷藏箱'},\n",
       "   {'id': '105143', 'text': '冷冻机'},\n",
       "   {'id': '105144', 'text': '冷冻机'},\n",
       "   {'id': '105149', 'text': '冷冻箱'},\n",
       "   {'id': '105156', 'text': '冷柜'},\n",
       "   {'id': '183106', 'text': '雪柜'},\n",
       "   {'id': '207269', 'text': '制冷机'},\n",
       "   {'id': '069070', 'text': '罐头'},\n",
       "   {'id': '069071', 'text': '罐头'},\n",
       "   {'id': '160807', 'text': '听子'}],\n",
       "  'ch_word': '电冰箱',\n",
       "  'en_word': 'fridge'},\n",
       " {'Def': '{tool|用具:{store|保存:instrument={~},means={cool|制冷},patient={edible|食物}{medicine|药物}}}',\n",
       "  'en_grammar': 'noun',\n",
       "  'ch_grammar': 'noun',\n",
       "  'No': '046830',\n",
       "  'syn': [{'id': '021885', 'text': '冰柜'},\n",
       "   {'id': '021886', 'text': '冰柜'},\n",
       "   {'id': '021887', 'text': '冰柜'},\n",
       "   {'id': '021888', 'text': '冰柜'},\n",
       "   {'id': '021965', 'text': '冰箱'},\n",
       "   {'id': '021966', 'text': '冰箱'},\n",
       "   {'id': '021967', 'text': '冰箱'},\n",
       "   {'id': '021968', 'text': '冰箱'},\n",
       "   {'id': '021969', 'text': '冰箱'},\n",
       "   {'id': '105103', 'text': '冷藏箱'},\n",
       "   {'id': '105104', 'text': '冷藏箱'},\n",
       "   {'id': '105143', 'text': '冷冻机'},\n",
       "   {'id': '105144', 'text': '冷冻机'},\n",
       "   {'id': '105149', 'text': '冷冻箱'},\n",
       "   {'id': '105156', 'text': '冷柜'},\n",
       "   {'id': '183106', 'text': '雪柜'},\n",
       "   {'id': '207269', 'text': '制冷机'},\n",
       "   {'id': '069070', 'text': '罐头'},\n",
       "   {'id': '069071', 'text': '罐头'},\n",
       "   {'id': '160807', 'text': '听子'}],\n",
       "  'ch_word': '电冰箱',\n",
       "  'en_word': 'refrigerator'}]"
      ]
     },
     "execution_count": 42,
     "metadata": {},
     "output_type": "execute_result"
    }
   ],
   "source": [
    "hownet_dict.get(\"电冰箱\")"
   ]
  },
  {
   "cell_type": "code",
   "execution_count": 47,
   "metadata": {
    "ExecuteTime": {
     "end_time": "2020-03-13T23:49:49.335362Z",
     "start_time": "2020-03-13T23:49:32.406162Z"
    }
   },
   "outputs": [],
   "source": [
    "hownet_dict_advanced = OpenHowNet.HowNetDict(use_sim=True)"
   ]
  },
  {
   "cell_type": "code",
   "execution_count": 48,
   "metadata": {
    "ExecuteTime": {
     "end_time": "2020-03-13T23:49:49.829303Z",
     "start_time": "2020-03-13T23:49:49.818274Z"
    }
   },
   "outputs": [
    {
     "data": {
      "text/plain": [
       "1.0"
      ]
     },
     "execution_count": 48,
     "metadata": {},
     "output_type": "execute_result"
    }
   ],
   "source": [
    "hownet_dict_advanced.calculate_word_similarity(\"苹果\", \"梨\")"
   ]
  },
  {
   "cell_type": "code",
   "execution_count": 49,
   "metadata": {
    "ExecuteTime": {
     "end_time": "2020-03-13T23:50:26.657318Z",
     "start_time": "2020-03-13T23:50:14.158572Z"
    }
   },
   "outputs": [
    {
     "name": "stdout",
     "output_type": "stream",
     "text": [
      "word_name: 苹果\n"
     ]
    }
   ],
   "source": [
    ">>> query_result = hownet_dict_advanced.get_nearest_words_via_sememes(\"苹果\",20)\n",
    ">>> example = query_result[0]\n",
    ">>> print(\"word_name:\",example[\"word\"])"
   ]
  },
  {
   "cell_type": "code",
   "execution_count": 51,
   "metadata": {
    "ExecuteTime": {
     "end_time": "2020-03-13T23:50:54.599597Z",
     "start_time": "2020-03-13T23:50:54.589287Z"
    }
   },
   "outputs": [
    {
     "data": {
      "text/plain": [
       "[{'id': 4024, 'word': 'IBM', 'score': 1.0},\n",
       " {'id': 41684, 'word': '戴尔', 'score': 1.0},\n",
       " {'id': 49006, 'word': '东芝', 'score': 1.0},\n",
       " {'id': 106795, 'word': '联想', 'score': 1.0},\n",
       " {'id': 156029, 'word': '索尼', 'score': 1.0},\n",
       " {'id': 4203, 'word': 'iPad', 'score': 0.865},\n",
       " {'id': 19457, 'word': '笔记本', 'score': 0.865},\n",
       " {'id': 19458, 'word': '笔记本电脑', 'score': 0.865},\n",
       " {'id': 19459, 'word': '笔记本电脑', 'score': 0.865},\n",
       " {'id': 19460, 'word': '笔记本电脑', 'score': 0.865},\n",
       " {'id': 19461, 'word': '笔记本电脑', 'score': 0.865},\n",
       " {'id': 19463, 'word': '笔记簿电脑', 'score': 0.865},\n",
       " {'id': 19464, 'word': '笔记簿电脑', 'score': 0.865},\n",
       " {'id': 20567, 'word': '便携式电脑', 'score': 0.865},\n",
       " {'id': 20568, 'word': '便携式计算机', 'score': 0.865},\n",
       " {'id': 20569, 'word': '便携式计算机', 'score': 0.865},\n",
       " {'id': 127224, 'word': '平板电脑', 'score': 0.865},\n",
       " {'id': 127225, 'word': '平板电脑', 'score': 0.865},\n",
       " {'id': 172264, 'word': '膝上型电脑', 'score': 0.865},\n",
       " {'id': 172265, 'word': '膝上型电脑', 'score': 0.865}]"
      ]
     },
     "execution_count": 51,
     "metadata": {},
     "output_type": "execute_result"
    }
   ],
   "source": [
    "example[\"synset\"]"
   ]
  },
  {
   "cell_type": "code",
   "execution_count": null,
   "metadata": {},
   "outputs": [],
   "source": []
  }
 ],
 "metadata": {
  "kernelspec": {
   "display_name": "Python 3",
   "language": "python",
   "name": "python3"
  },
  "language_info": {
   "codemirror_mode": {
    "name": "ipython",
    "version": 3
   },
   "file_extension": ".py",
   "mimetype": "text/x-python",
   "name": "python",
   "nbconvert_exporter": "python",
   "pygments_lexer": "ipython3",
   "version": "3.6.6"
  },
  "varInspector": {
   "cols": {
    "lenName": 16,
    "lenType": 16,
    "lenVar": 40
   },
   "kernels_config": {
    "python": {
     "delete_cmd_postfix": "",
     "delete_cmd_prefix": "del ",
     "library": "var_list.py",
     "varRefreshCmd": "print(var_dic_list())"
    },
    "r": {
     "delete_cmd_postfix": ") ",
     "delete_cmd_prefix": "rm(",
     "library": "var_list.r",
     "varRefreshCmd": "cat(var_dic_list()) "
    }
   },
   "types_to_exclude": [
    "module",
    "function",
    "builtin_function_or_method",
    "instance",
    "_Feature"
   ],
   "window_display": false
  }
 },
 "nbformat": 4,
 "nbformat_minor": 2
}
