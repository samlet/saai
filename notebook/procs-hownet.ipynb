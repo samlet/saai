{
 "cells": [
  {
   "cell_type": "markdown",
   "metadata": {},
   "source": [
    "## 动态角色与特征\n",
    "KDML 通过 89 种动态角色与特征来描述概念\n",
    "所表述的义原间的关系，下面列出其中使用频度较\n",
    "高的动态角色/特征的具体含义[8]：\n",
    "\n",
    "（1）“patient”（受事）表示行动的事件类型\n",
    "中“变关系”、“变状态”、“变属性”和“使之\n",
    "动”四类事件中的充当“被改变”这一功能的实体。\n",
    "\n",
    "（2）“content”（内容）表示“泛动”、“精\n",
    "神状态”和“变精神”等类事件中被涉及的实体，\n",
    "它与“受事”的区别在于：“内容”不承受“改变”；\n",
    "也可表示实体的属性等。\n",
    "\n",
    "（3）“agent”（施事）表示行动的事件类型中\n",
    "“变关系”、“变状态”、“变属性”和“使之动”\n",
    "四类事件中的充当“变”这一功能的实体。\n",
    "\n",
    "（4）“condition”（条件）事件发生或进行的\n",
    "条件。\n",
    "\n",
    "（5）“modifier”（描述）为被修饰对象增加\n",
    "某种属性值。\n",
    "\n",
    "（6）“CoEvent”（对应之事件）说明一个实\n",
    "体类的概念与一个事件享有完全相同的义原。\n",
    "\n",
    "（7）“whole”（整体）表示“蕴涵关系”或\n",
    "表示行动事件中“选择”类事件中的实体的整体。\n",
    "\n",
    "（8）“AccordingTo”（根据）事件发生或进\n",
    "行的根据。\n",
    "\n",
    "（9）“time”（时间）事件发生的时间。\n",
    "\n",
    "（10）“location”（处所）事件发生的空间。\n",
    "\n",
    "（11）“RelateTo”（相关）表示一个概念与什\n",
    "么样的信息有关，但是这种关系可能是不清晰的。\n",
    "\n",
    "（12）“host”（宿主）属性的主人即宿主。\n",
    "\n",
    "（13）“purpose”（目的）事件发生进行的目\n",
    "的。\n",
    "\n",
    "（14）“instrument”（工具）事件发生或进行\n",
    "所依赖的工具。\n",
    "\n",
    "（15）“material”（材料）事件发生或进行所\n",
    "依赖的材料。\n",
    "\n",
    "（16）“whole”（整体）表示“蕴涵关系”或\n",
    "表示行动事件中“选择”类事件中的实体的整体。\n"
   ]
  },
  {
   "cell_type": "code",
   "execution_count": 1,
   "metadata": {
    "ExecuteTime": {
     "end_time": "2020-03-15T01:19:45.662597Z",
     "start_time": "2020-03-15T01:19:36.580331Z"
    }
   },
   "outputs": [],
   "source": [
    "import OpenHowNet\n",
    "hownet_dict = OpenHowNet.HowNetDict()"
   ]
  },
  {
   "cell_type": "code",
   "execution_count": 2,
   "metadata": {
    "ExecuteTime": {
     "end_time": "2020-03-13T22:43:23.148760Z",
     "start_time": "2020-03-13T22:43:10.070516Z"
    }
   },
   "outputs": [
    {
     "name": "stderr",
     "output_type": "stream",
     "text": [
      "openhownet_data.zip: 107433KB [00:09, 11307.90KB/s]                               \n"
     ]
    }
   ],
   "source": [
    "OpenHowNet.download()"
   ]
  },
  {
   "cell_type": "code",
   "execution_count": 6,
   "metadata": {
    "ExecuteTime": {
     "end_time": "2020-03-13T22:43:54.310499Z",
     "start_time": "2020-03-13T22:43:54.304212Z"
    }
   },
   "outputs": [
    {
     "name": "stdout",
     "output_type": "stream",
     "text": [
      "6\n"
     ]
    }
   ],
   "source": [
    "result_list = hownet_dict.get(\"苹果\")\n",
    "print(len(result_list))"
   ]
  },
  {
   "cell_type": "code",
   "execution_count": 8,
   "metadata": {
    "ExecuteTime": {
     "end_time": "2020-03-13T22:44:21.075384Z",
     "start_time": "2020-03-13T22:44:21.054028Z"
    }
   },
   "outputs": [
    {
     "data": {
      "text/plain": [
       "{'Def': '{computer|电脑:modifier={PatternValue|样式值:CoEvent={able|能:scope={bring|携带:patient={$}}}}{SpeBrand|特定牌子}}',\n",
       " 'en_grammar': 'noun',\n",
       " 'ch_grammar': 'noun',\n",
       " 'No': '127151',\n",
       " 'syn': [{'id': '004024', 'text': 'IBM'},\n",
       "  {'id': '041684', 'text': '戴尔'},\n",
       "  {'id': '049006', 'text': '东芝'},\n",
       "  {'id': '106795', 'text': '联想'},\n",
       "  {'id': '156029', 'text': '索尼'},\n",
       "  {'id': '004203', 'text': 'iPad'},\n",
       "  {'id': '019457', 'text': '笔记本'},\n",
       "  {'id': '019458', 'text': '笔记本电脑'},\n",
       "  {'id': '019459', 'text': '笔记本电脑'},\n",
       "  {'id': '019460', 'text': '笔记本电脑'},\n",
       "  {'id': '019461', 'text': '笔记本电脑'},\n",
       "  {'id': '019463', 'text': '笔记簿电脑'},\n",
       "  {'id': '019464', 'text': '笔记簿电脑'},\n",
       "  {'id': '020567', 'text': '便携式电脑'},\n",
       "  {'id': '020568', 'text': '便携式计算机'},\n",
       "  {'id': '020569', 'text': '便携式计算机'},\n",
       "  {'id': '127224', 'text': '平板电脑'},\n",
       "  {'id': '127225', 'text': '平板电脑'},\n",
       "  {'id': '172264', 'text': '膝上型电脑'},\n",
       "  {'id': '172265', 'text': '膝上型电脑'}],\n",
       " 'ch_word': '苹果',\n",
       " 'en_word': 'apple'}"
      ]
     },
     "execution_count": 8,
     "metadata": {},
     "output_type": "execute_result"
    }
   ],
   "source": [
    "result_list[0]"
   ]
  },
  {
   "cell_type": "code",
   "execution_count": 9,
   "metadata": {
    "ExecuteTime": {
     "end_time": "2020-03-13T22:44:40.757414Z",
     "start_time": "2020-03-13T22:44:40.723482Z"
    }
   },
   "outputs": [
    {
     "data": {
      "text/plain": [
       "[]"
      ]
     },
     "execution_count": 9,
     "metadata": {},
     "output_type": "execute_result"
    }
   ],
   "source": [
    "hownet_dict.get(\"test_for_non_exist_word\")"
   ]
  },
  {
   "cell_type": "code",
   "execution_count": 2,
   "metadata": {
    "ExecuteTime": {
     "end_time": "2020-03-15T01:20:00.392949Z",
     "start_time": "2020-03-15T01:20:00.383498Z"
    }
   },
   "outputs": [
    {
     "name": "stdout",
     "output_type": "stream",
     "text": [
      "Find 6 result(s)\n",
      "Display #0 sememe tree\n",
      "[sense]苹果\n",
      "└── [None]computer|电脑\n",
      "    ├── [modifier]PatternValue|样式值\n",
      "    │   └── [CoEvent]able|能\n",
      "    │       └── [scope]bring|携带\n",
      "    │           └── [patient]$\n",
      "    └── [patient]SpeBrand|特定牌子\n",
      "Display #1 sememe tree\n",
      "[sense]苹果\n",
      "└── [None]fruit|水果\n"
     ]
    }
   ],
   "source": [
    "hownet_dict.visualize_sememe_trees(\"苹果\", K=2)"
   ]
  },
  {
   "cell_type": "code",
   "execution_count": 5,
   "metadata": {
    "ExecuteTime": {
     "end_time": "2020-03-15T01:21:49.781130Z",
     "start_time": "2020-03-15T01:21:49.761947Z"
    }
   },
   "outputs": [
    {
     "name": "stdout",
     "output_type": "stream",
     "text": [
      "Find 12 result(s)\n",
      "Display #0 sememe tree\n",
      "[sense]husband\n",
      "└── [None]human|人\n",
      "    ├── [belong]family|家庭\n",
      "    ├── [modifier]male|男\n",
      "    └── [modifier]spouse|配偶\n",
      "Display #1 sememe tree\n",
      "[sense]husband\n",
      "└── [None]human|人\n",
      "    ├── [belong]family|家庭\n",
      "    ├── [modifier]male|男\n",
      "    └── [modifier]spouse|配偶\n",
      "Display #2 sememe tree\n",
      "[sense]husband\n",
      "└── [None]human|人\n",
      "    ├── [belong]family|家庭\n",
      "    ├── [modifier]male|男\n",
      "    └── [modifier]spouse|配偶\n",
      "Display #3 sememe tree\n",
      "[sense]husband\n",
      "└── [None]human|人\n",
      "    ├── [belong]family|家庭\n",
      "    ├── [modifier]male|男\n",
      "    └── [modifier]spouse|配偶\n",
      "Display #4 sememe tree\n",
      "[sense]husband\n",
      "└── [None]economize|节省\n",
      "Display #5 sememe tree\n",
      "[sense]husband\n",
      "└── [None]human|人\n",
      "    ├── [belong]family|家庭\n",
      "    ├── [modifier]male|男\n",
      "    └── [modifier]spouse|配偶\n",
      "Display #6 sememe tree\n",
      "[sense]husband\n",
      "└── [None]human|人\n",
      "    ├── [belong]family|家庭\n",
      "    ├── [modifier]male|男\n",
      "    └── [modifier]spouse|配偶\n",
      "Display #7 sememe tree\n",
      "[sense]husband\n",
      "└── [None]human|人\n",
      "    ├── [belong]family|家庭\n",
      "    ├── [modifier]male|男\n",
      "    └── [modifier]spouse|配偶\n",
      "Display #8 sememe tree\n",
      "[sense]husband\n",
      "└── [None]human|人\n",
      "    ├── [belong]family|家庭\n",
      "    ├── [modifier]male|男\n",
      "    └── [modifier]spouse|配偶\n",
      "Display #9 sememe tree\n",
      "[sense]husband\n",
      "└── [None]human|人\n",
      "    ├── [belong]family|家庭\n",
      "    ├── [modifier]male|男\n",
      "    └── [modifier]spouse|配偶\n",
      "Display #10 sememe tree\n",
      "[sense]husband\n",
      "└── [None]human|人\n",
      "    ├── [belong]family|家庭\n",
      "    ├── [modifier]male|男\n",
      "    └── [modifier]spouse|配偶\n",
      "Display #11 sememe tree\n",
      "[sense]husband\n",
      "└── [None]human|人\n",
      "    ├── [belong]family|家庭\n",
      "    ├── [modifier]male|男\n",
      "    └── [modifier]spouse|配偶\n"
     ]
    }
   ],
   "source": [
    "hownet_dict.visualize_sememe_trees(\"husband\")"
   ]
  },
  {
   "cell_type": "code",
   "execution_count": 12,
   "metadata": {
    "ExecuteTime": {
     "end_time": "2020-03-13T23:25:33.217215Z",
     "start_time": "2020-03-13T23:25:33.207490Z"
    }
   },
   "outputs": [
    {
     "data": {
      "text/plain": [
       "{'交流', '携带', '树', '样式值', '水果', '特定牌子', '生殖', '用具', '电脑', '能'}"
      ]
     },
     "execution_count": 12,
     "metadata": {},
     "output_type": "execute_result"
    }
   ],
   "source": [
    "# 获取合并过后的多义词的义原\n",
    "hownet_dict.get_sememes_by_word(\"苹果\",structured=False,lang=\"zh\",merge=True)"
   ]
  },
  {
   "cell_type": "code",
   "execution_count": 13,
   "metadata": {
    "ExecuteTime": {
     "end_time": "2020-03-13T23:26:24.227157Z",
     "start_time": "2020-03-13T23:26:24.217123Z"
    }
   },
   "outputs": [
    {
     "data": {
      "text/plain": [
       "{'$',\n",
       " 'PatternValue',\n",
       " 'SpeBrand',\n",
       " 'able',\n",
       " 'bring',\n",
       " 'communicate',\n",
       " 'computer',\n",
       " 'fruit',\n",
       " 'reproduce',\n",
       " 'tool',\n",
       " 'tree'}"
      ]
     },
     "execution_count": 13,
     "metadata": {},
     "output_type": "execute_result"
    }
   ],
   "source": [
    "hownet_dict.get_sememes_by_word(\"apple\",structured=False,lang=\"en\",merge=True)"
   ]
  },
  {
   "cell_type": "code",
   "execution_count": 14,
   "metadata": {
    "ExecuteTime": {
     "end_time": "2020-03-13T23:27:13.647925Z",
     "start_time": "2020-03-13T23:27:13.638700Z"
    }
   },
   "outputs": [
    {
     "data": {
      "text/plain": [
       "{'apple': {'$',\n",
       "  'PatternValue',\n",
       "  'SpeBrand',\n",
       "  'able',\n",
       "  'bring',\n",
       "  'communicate',\n",
       "  'computer',\n",
       "  'fruit',\n",
       "  'reproduce',\n",
       "  'tool',\n",
       "  'tree'},\n",
       " 'malus pumila': {'fruit', 'reproduce', 'tree'},\n",
       " 'orchard apple tree': {'fruit', 'reproduce', 'tree'}}"
      ]
     },
     "execution_count": 14,
     "metadata": {},
     "output_type": "execute_result"
    }
   ],
   "source": [
    "# 即使指定的语言和目标词本身语言不匹配，api仍然可以正常工作，并且返回的结果中的语言将是你指定的语言。\n",
    "hownet_dict.get_sememes_by_word(\"苹果\",structured=False,lang=\"en\",merge=True)"
   ]
  },
  {
   "cell_type": "code",
   "execution_count": 16,
   "metadata": {
    "ExecuteTime": {
     "end_time": "2020-03-13T23:27:51.966810Z",
     "start_time": "2020-03-13T23:27:51.956278Z"
    }
   },
   "outputs": [
    {
     "data": {
      "text/plain": [
       "{'树', '水果', '用具', '电脑'}"
      ]
     },
     "execution_count": 16,
     "metadata": {},
     "output_type": "execute_result"
    }
   ],
   "source": [
    "# 展开的层数\n",
    "hownet_dict.get_sememes_by_word(\"苹果\",structured=False,merge=True,expanded_layer=2)"
   ]
  },
  {
   "cell_type": "code",
   "execution_count": 17,
   "metadata": {
    "ExecuteTime": {
     "end_time": "2020-03-13T23:29:28.668460Z",
     "start_time": "2020-03-13T23:29:28.657832Z"
    }
   },
   "outputs": [
    {
     "data": {
      "text/plain": [
       "[{'word': '苹果', 'sememes': {'携带', '样式值', '特定牌子', '电脑', '能'}},\n",
       " {'word': '苹果', 'sememes': {'水果'}},\n",
       " {'word': '苹果', 'sememes': {'交流', '携带', '样式值', '特定牌子', '用具', '能'}},\n",
       " {'word': '苹果', 'sememes': {'树', '水果', '生殖'}},\n",
       " {'word': '苹果', 'sememes': {'树', '水果', '生殖'}},\n",
       " {'word': '苹果', 'sememes': {'树', '水果', '生殖'}}]"
      ]
     },
     "execution_count": 17,
     "metadata": {},
     "output_type": "execute_result"
    }
   ],
   "source": [
    "# 查看HowNet中特定词的不同意思，只需要将参数merged设为False\n",
    "hownet_dict.get_sememes_by_word(\"苹果\",structured=False,lang=\"zh\",merge=False)"
   ]
  },
  {
   "cell_type": "code",
   "execution_count": 18,
   "metadata": {
    "ExecuteTime": {
     "end_time": "2020-03-13T23:29:54.162844Z",
     "start_time": "2020-03-13T23:29:54.152696Z"
    }
   },
   "outputs": [
    {
     "data": {
      "text/plain": [
       "{'role': 'sense',\n",
       " 'name': '苹果',\n",
       " 'children': [{'role': 'None',\n",
       "   'name': 'computer|电脑',\n",
       "   'children': [{'role': 'modifier',\n",
       "     'name': 'PatternValue|样式值',\n",
       "     'children': [{'role': 'CoEvent',\n",
       "       'name': 'able|能',\n",
       "       'children': [{'role': 'scope',\n",
       "         'name': 'bring|携带',\n",
       "         'children': [{'role': 'patient', 'name': '$'}]}]}]},\n",
       "    {'role': 'patient', 'name': 'SpeBrand|特定牌子'}]}]}"
      ]
     },
     "execution_count": 18,
     "metadata": {},
     "output_type": "execute_result"
    }
   ],
   "source": [
    "hownet_dict.get_sememes_by_word(\"苹果\",structured=True)[0][\"tree\"]"
   ]
  },
  {
   "cell_type": "code",
   "execution_count": 19,
   "metadata": {
    "ExecuteTime": {
     "end_time": "2020-03-13T23:30:19.350312Z",
     "start_time": "2020-03-13T23:30:19.335805Z"
    }
   },
   "outputs": [
    {
     "data": {
      "text/plain": [
       "{'Def': '{computer|电脑:modifier={PatternValue|样式值:CoEvent={able|能:scope={bring|携带:patient={$}}}}{SpeBrand|特定牌子}}',\n",
       " 'en_grammar': 'noun',\n",
       " 'ch_grammar': 'noun',\n",
       " 'No': '127151',\n",
       " 'syn': [{'id': '004024', 'text': 'IBM'},\n",
       "  {'id': '041684', 'text': '戴尔'},\n",
       "  {'id': '049006', 'text': '东芝'},\n",
       "  {'id': '106795', 'text': '联想'},\n",
       "  {'id': '156029', 'text': '索尼'},\n",
       "  {'id': '004203', 'text': 'iPad'},\n",
       "  {'id': '019457', 'text': '笔记本'},\n",
       "  {'id': '019458', 'text': '笔记本电脑'},\n",
       "  {'id': '019459', 'text': '笔记本电脑'},\n",
       "  {'id': '019460', 'text': '笔记本电脑'},\n",
       "  {'id': '019461', 'text': '笔记本电脑'},\n",
       "  {'id': '019463', 'text': '笔记簿电脑'},\n",
       "  {'id': '019464', 'text': '笔记簿电脑'},\n",
       "  {'id': '020567', 'text': '便携式电脑'},\n",
       "  {'id': '020568', 'text': '便携式计算机'},\n",
       "  {'id': '020569', 'text': '便携式计算机'},\n",
       "  {'id': '127224', 'text': '平板电脑'},\n",
       "  {'id': '127225', 'text': '平板电脑'},\n",
       "  {'id': '172264', 'text': '膝上型电脑'},\n",
       "  {'id': '172265', 'text': '膝上型电脑'}],\n",
       " 'ch_word': '苹果',\n",
       " 'en_word': 'apple'}"
      ]
     },
     "execution_count": 19,
     "metadata": {},
     "output_type": "execute_result"
    }
   ],
   "source": [
    "hownet_dict.get_sememes_by_word(\"苹果\",structured=True)[0][\"word\"]"
   ]
  },
  {
   "cell_type": "code",
   "execution_count": 21,
   "metadata": {
    "ExecuteTime": {
     "end_time": "2020-03-13T23:31:27.889079Z",
     "start_time": "2020-03-13T23:31:27.881103Z"
    }
   },
   "outputs": [
    {
     "data": {
      "text/plain": [
       "[{'id': '004024', 'text': 'IBM'},\n",
       " {'id': '041684', 'text': '戴尔'},\n",
       " {'id': '049006', 'text': '东芝'},\n",
       " {'id': '106795', 'text': '联想'},\n",
       " {'id': '156029', 'text': '索尼'},\n",
       " {'id': '004203', 'text': 'iPad'},\n",
       " {'id': '019457', 'text': '笔记本'},\n",
       " {'id': '019458', 'text': '笔记本电脑'},\n",
       " {'id': '019459', 'text': '笔记本电脑'},\n",
       " {'id': '019460', 'text': '笔记本电脑'},\n",
       " {'id': '019461', 'text': '笔记本电脑'},\n",
       " {'id': '019463', 'text': '笔记簿电脑'},\n",
       " {'id': '019464', 'text': '笔记簿电脑'},\n",
       " {'id': '020567', 'text': '便携式电脑'},\n",
       " {'id': '020568', 'text': '便携式计算机'},\n",
       " {'id': '020569', 'text': '便携式计算机'},\n",
       " {'id': '127224', 'text': '平板电脑'},\n",
       " {'id': '127225', 'text': '平板电脑'},\n",
       " {'id': '172264', 'text': '膝上型电脑'},\n",
       " {'id': '172265', 'text': '膝上型电脑'}]"
      ]
     },
     "execution_count": 21,
     "metadata": {},
     "output_type": "execute_result"
    }
   ],
   "source": [
    "# 获取指定词的同义词\n",
    "hownet_dict[\"苹果\"][0][\"syn\"]"
   ]
  },
  {
   "cell_type": "code",
   "execution_count": 23,
   "metadata": {
    "ExecuteTime": {
     "end_time": "2020-03-13T23:32:08.545028Z",
     "start_time": "2020-03-13T23:32:08.535183Z"
    }
   },
   "outputs": [
    {
     "data": {
      "text/plain": [
       "[{'Def': '{computer|电脑:modifier={PatternValue|样式值:CoEvent={able|能:scope={bring|携带:patient={$}}}}}',\n",
       "  'en_grammar': 'noun',\n",
       "  'ch_grammar': 'noun',\n",
       "  'No': '172264',\n",
       "  'syn': [{'id': '004203', 'text': 'iPad'},\n",
       "   {'id': '019457', 'text': '笔记本'},\n",
       "   {'id': '019458', 'text': '笔记本电脑'},\n",
       "   {'id': '019459', 'text': '笔记本电脑'},\n",
       "   {'id': '019460', 'text': '笔记本电脑'},\n",
       "   {'id': '019461', 'text': '笔记本电脑'},\n",
       "   {'id': '019463', 'text': '笔记簿电脑'},\n",
       "   {'id': '019464', 'text': '笔记簿电脑'},\n",
       "   {'id': '020567', 'text': '便携式电脑'},\n",
       "   {'id': '020568', 'text': '便携式计算机'},\n",
       "   {'id': '020569', 'text': '便携式计算机'},\n",
       "   {'id': '127224', 'text': '平板电脑'},\n",
       "   {'id': '127225', 'text': '平板电脑'},\n",
       "   {'id': '212434', 'text': '桌面计算机'},\n",
       "   {'id': '004024', 'text': 'IBM'},\n",
       "   {'id': '041684', 'text': '戴尔'},\n",
       "   {'id': '049006', 'text': '东芝'},\n",
       "   {'id': '106795', 'text': '联想'},\n",
       "   {'id': '127151', 'text': '苹果'},\n",
       "   {'id': '156029', 'text': '索尼'}],\n",
       "  'ch_word': '膝上型电脑',\n",
       "  'en_word': 'laptop'}]"
      ]
     },
     "execution_count": 23,
     "metadata": {},
     "output_type": "execute_result"
    }
   ],
   "source": [
    "hownet_dict[\"172264\"]"
   ]
  },
  {
   "cell_type": "code",
   "execution_count": 24,
   "metadata": {
    "ExecuteTime": {
     "end_time": "2020-03-13T23:32:38.162748Z",
     "start_time": "2020-03-13T23:32:38.121706Z"
    }
   },
   "outputs": [
    {
     "data": {
      "text/plain": [
       "'hyponym'"
      ]
     },
     "execution_count": 24,
     "metadata": {},
     "output_type": "execute_result"
    }
   ],
   "source": [
    "hownet_dict.get_sememe_relation(\"音量值\", \"尖声\")"
   ]
  },
  {
   "cell_type": "code",
   "execution_count": 27,
   "metadata": {
    "ExecuteTime": {
     "end_time": "2020-03-13T23:34:26.802946Z",
     "start_time": "2020-03-13T23:34:26.793708Z"
    }
   },
   "outputs": [
    {
     "data": {
      "text/plain": [
       "'hyponym'"
      ]
     },
     "execution_count": 27,
     "metadata": {},
     "output_type": "execute_result"
    }
   ],
   "source": [
    "hownet_dict.get_sememe_relation(\"音量值\", \"shrill\")"
   ]
  },
  {
   "cell_type": "code",
   "execution_count": 25,
   "metadata": {
    "ExecuteTime": {
     "end_time": "2020-03-13T23:33:54.408315Z",
     "start_time": "2020-03-13T23:33:54.399507Z"
    }
   },
   "outputs": [
    {
     "data": {
      "text/plain": [
       "'hypernym'"
      ]
     },
     "execution_count": 25,
     "metadata": {},
     "output_type": "execute_result"
    }
   ],
   "source": [
    "hownet_dict.get_sememe_relation(\"尖声\", \"SoundVolumeValue\")"
   ]
  },
  {
   "cell_type": "code",
   "execution_count": 26,
   "metadata": {
    "ExecuteTime": {
     "end_time": "2020-03-13T23:34:06.869612Z",
     "start_time": "2020-03-13T23:34:06.842718Z"
    }
   },
   "outputs": [
    {
     "data": {
      "text/plain": [
       "'hypernym'"
      ]
     },
     "execution_count": 26,
     "metadata": {},
     "output_type": "execute_result"
    }
   ],
   "source": [
    "hownet_dict.get_sememe_relation(\"shrill\", \"SoundVolumeValue\")"
   ]
  },
  {
   "cell_type": "code",
   "execution_count": 28,
   "metadata": {
    "ExecuteTime": {
     "end_time": "2020-03-13T23:35:35.449426Z",
     "start_time": "2020-03-13T23:35:35.439673Z"
    }
   },
   "outputs": [
    {
     "data": {
      "text/plain": [
       "['高声', '低声', '尖声', '沙哑', '无声', '有声']"
      ]
     },
     "execution_count": 28,
     "metadata": {},
     "output_type": "execute_result"
    }
   ],
   "source": [
    "# 检索与输入义原存在某种关系的所有义原\n",
    "hownet_dict.get_sememe_via_relation(\"音量值\", \"hyponym\")"
   ]
  },
  {
   "cell_type": "code",
   "execution_count": 29,
   "metadata": {
    "ExecuteTime": {
     "end_time": "2020-03-13T23:35:44.493332Z",
     "start_time": "2020-03-13T23:35:44.484120Z"
    }
   },
   "outputs": [
    {
     "data": {
      "text/plain": [
       "['loud', 'LowVoice', 'shrill', 'hoarse', 'silent', 'talking']"
      ]
     },
     "execution_count": 29,
     "metadata": {},
     "output_type": "execute_result"
    }
   ],
   "source": [
    "hownet_dict.get_sememe_via_relation(\"音量值\", \"hyponym\", lang=\"en\")"
   ]
  },
  {
   "cell_type": "code",
   "execution_count": 30,
   "metadata": {
    "ExecuteTime": {
     "end_time": "2020-03-13T23:35:58.345847Z",
     "start_time": "2020-03-13T23:35:58.339201Z"
    }
   },
   "outputs": [
    {
     "data": {
      "text/plain": [
       "['loud', 'LowVoice', 'shrill', 'hoarse', 'silent', 'talking']"
      ]
     },
     "execution_count": 30,
     "metadata": {},
     "output_type": "execute_result"
    }
   ],
   "source": [
    "hownet_dict.get_sememe_via_relation(\"SoundVolumeValue\", \"hyponym\", lang=\"en\")"
   ]
  },
  {
   "cell_type": "code",
   "execution_count": 32,
   "metadata": {
    "ExecuteTime": {
     "end_time": "2020-03-13T23:41:08.870315Z",
     "start_time": "2020-03-13T23:41:08.862308Z"
    }
   },
   "outputs": [
    {
     "data": {
      "text/plain": [
       "['器具']"
      ]
     },
     "execution_count": 32,
     "metadata": {},
     "output_type": "execute_result"
    }
   ],
   "source": [
    "hownet_dict.get_sememe_via_relation(\"电脑\", \"hypernym\")"
   ]
  },
  {
   "cell_type": "code",
   "execution_count": 36,
   "metadata": {
    "ExecuteTime": {
     "end_time": "2020-03-13T23:41:46.883105Z",
     "start_time": "2020-03-13T23:41:46.874725Z"
    }
   },
   "outputs": [
    {
     "data": {
      "text/plain": [
       "[]"
      ]
     },
     "execution_count": 36,
     "metadata": {},
     "output_type": "execute_result"
    }
   ],
   "source": [
    "hownet_dict.get_sememe_via_relation(\"电冰箱\", \"hypernym\")"
   ]
  },
  {
   "cell_type": "code",
   "execution_count": 44,
   "metadata": {
    "ExecuteTime": {
     "end_time": "2020-03-13T23:48:02.212197Z",
     "start_time": "2020-03-13T23:48:02.204443Z"
    }
   },
   "outputs": [
    {
     "data": {
      "text/plain": [
       "['机器', '电脑', '交通工具', '家具', '乐器', '运动器材', '用具', '武器', '软件']"
      ]
     },
     "execution_count": 44,
     "metadata": {},
     "output_type": "execute_result"
    }
   ],
   "source": [
    "hownet_dict.get_sememe_via_relation(\"器具\", \"hyponym\")"
   ]
  },
  {
   "cell_type": "code",
   "execution_count": 45,
   "metadata": {
    "ExecuteTime": {
     "end_time": "2020-03-13T23:48:15.041819Z",
     "start_time": "2020-03-13T23:48:15.032997Z"
    }
   },
   "outputs": [
    {
     "data": {
      "text/plain": [
       "[]"
      ]
     },
     "execution_count": 45,
     "metadata": {},
     "output_type": "execute_result"
    }
   ],
   "source": [
    "hownet_dict.get_sememe_via_relation(\"冰箱\", \"hyponym\")"
   ]
  },
  {
   "cell_type": "code",
   "execution_count": 37,
   "metadata": {
    "ExecuteTime": {
     "end_time": "2020-03-13T23:42:31.384455Z",
     "start_time": "2020-03-13T23:42:31.371861Z"
    }
   },
   "outputs": [
    {
     "name": "stdout",
     "output_type": "stream",
     "text": [
      "Find 6 result(s)\n",
      "Display #0 sememe tree\n",
      "[sense]苹果\n",
      "└── [None]computer|电脑\n",
      "    ├── [modifier]PatternValue|样式值\n",
      "    │   └── [CoEvent]able|能\n",
      "    │       └── [scope]bring|携带\n",
      "    │           └── [patient]$\n",
      "    └── [patient]SpeBrand|特定牌子\n",
      "Display #1 sememe tree\n",
      "[sense]苹果\n",
      "└── [None]fruit|水果\n",
      "Display #2 sememe tree\n",
      "[sense]苹果\n",
      "└── [None]tool|用具\n",
      "    ├── [modifier]PatternValue|样式值\n",
      "    │   └── [CoEvent]able|能\n",
      "    │       └── [scope]bring|携带\n",
      "    │           └── [patient]$\n",
      "    ├── [patient]SpeBrand|特定牌子\n",
      "    └── [instrument]communicate|交流\n",
      "Display #3 sememe tree\n",
      "[sense]苹果\n",
      "└── [None]tree|树\n",
      "    └── [agent]reproduce|生殖\n",
      "        └── [PatientProduct]fruit|水果\n",
      "Display #4 sememe tree\n",
      "[sense]苹果\n",
      "└── [None]tree|树\n",
      "    └── [agent]reproduce|生殖\n",
      "        └── [PatientProduct]fruit|水果\n",
      "Display #5 sememe tree\n",
      "[sense]苹果\n",
      "└── [None]tree|树\n",
      "    └── [agent]reproduce|生殖\n",
      "        └── [PatientProduct]fruit|水果\n"
     ]
    }
   ],
   "source": [
    "hownet_dict.visualize_sememe_trees(\"苹果\")"
   ]
  },
  {
   "cell_type": "code",
   "execution_count": 38,
   "metadata": {
    "ExecuteTime": {
     "end_time": "2020-03-13T23:42:49.339453Z",
     "start_time": "2020-03-13T23:42:49.329022Z"
    }
   },
   "outputs": [
    {
     "name": "stdout",
     "output_type": "stream",
     "text": [
      "Find 3 result(s)\n",
      "Display #0 sememe tree\n",
      "[sense]电冰箱\n",
      "└── [None]tool|用具\n",
      "    └── [instrument]store|保存\n",
      "        ├── [means]cool|制冷\n",
      "        ├── [patient]edible|食物\n",
      "        └── [patient]medicine|药物\n",
      "Display #1 sememe tree\n",
      "[sense]电冰箱\n",
      "└── [None]tool|用具\n",
      "    └── [instrument]store|保存\n",
      "        ├── [means]cool|制冷\n",
      "        ├── [patient]edible|食物\n",
      "        └── [patient]medicine|药物\n",
      "Display #2 sememe tree\n",
      "[sense]电冰箱\n",
      "└── [None]tool|用具\n",
      "    └── [instrument]store|保存\n",
      "        ├── [means]cool|制冷\n",
      "        ├── [patient]edible|食物\n",
      "        └── [patient]medicine|药物\n"
     ]
    }
   ],
   "source": [
    "hownet_dict.visualize_sememe_trees(\"电冰箱\")"
   ]
  },
  {
   "cell_type": "code",
   "execution_count": 41,
   "metadata": {
    "ExecuteTime": {
     "end_time": "2020-03-13T23:44:31.231722Z",
     "start_time": "2020-03-13T23:44:31.212506Z"
    }
   },
   "outputs": [
    {
     "data": {
      "text/plain": [
       "'none'"
      ]
     },
     "execution_count": 41,
     "metadata": {},
     "output_type": "execute_result"
    }
   ],
   "source": [
    "hownet_dict.get_sememe_relation(\"电冰箱\", \"tool\")"
   ]
  },
  {
   "cell_type": "code",
   "execution_count": 42,
   "metadata": {
    "ExecuteTime": {
     "end_time": "2020-03-13T23:45:24.383049Z",
     "start_time": "2020-03-13T23:45:24.347911Z"
    }
   },
   "outputs": [
    {
     "data": {
      "text/plain": [
       "[{'Def': '{tool|用具:{store|保存:instrument={~},means={cool|制冷},patient={edible|食物}{medicine|药物}}}',\n",
       "  'en_grammar': 'noun',\n",
       "  'ch_grammar': 'noun',\n",
       "  'No': '046828',\n",
       "  'syn': [{'id': '021885', 'text': '冰柜'},\n",
       "   {'id': '021886', 'text': '冰柜'},\n",
       "   {'id': '021887', 'text': '冰柜'},\n",
       "   {'id': '021888', 'text': '冰柜'},\n",
       "   {'id': '021965', 'text': '冰箱'},\n",
       "   {'id': '021966', 'text': '冰箱'},\n",
       "   {'id': '021967', 'text': '冰箱'},\n",
       "   {'id': '021968', 'text': '冰箱'},\n",
       "   {'id': '021969', 'text': '冰箱'},\n",
       "   {'id': '105103', 'text': '冷藏箱'},\n",
       "   {'id': '105104', 'text': '冷藏箱'},\n",
       "   {'id': '105143', 'text': '冷冻机'},\n",
       "   {'id': '105144', 'text': '冷冻机'},\n",
       "   {'id': '105149', 'text': '冷冻箱'},\n",
       "   {'id': '105156', 'text': '冷柜'},\n",
       "   {'id': '183106', 'text': '雪柜'},\n",
       "   {'id': '207269', 'text': '制冷机'},\n",
       "   {'id': '069070', 'text': '罐头'},\n",
       "   {'id': '069071', 'text': '罐头'},\n",
       "   {'id': '160807', 'text': '听子'}],\n",
       "  'ch_word': '电冰箱',\n",
       "  'en_word': 'freezer'},\n",
       " {'Def': '{tool|用具:{store|保存:instrument={~},means={cool|制冷},patient={edible|食物}{medicine|药物}}}',\n",
       "  'en_grammar': 'noun',\n",
       "  'ch_grammar': 'noun',\n",
       "  'No': '046829',\n",
       "  'syn': [{'id': '021885', 'text': '冰柜'},\n",
       "   {'id': '021886', 'text': '冰柜'},\n",
       "   {'id': '021887', 'text': '冰柜'},\n",
       "   {'id': '021888', 'text': '冰柜'},\n",
       "   {'id': '021965', 'text': '冰箱'},\n",
       "   {'id': '021966', 'text': '冰箱'},\n",
       "   {'id': '021967', 'text': '冰箱'},\n",
       "   {'id': '021968', 'text': '冰箱'},\n",
       "   {'id': '021969', 'text': '冰箱'},\n",
       "   {'id': '105103', 'text': '冷藏箱'},\n",
       "   {'id': '105104', 'text': '冷藏箱'},\n",
       "   {'id': '105143', 'text': '冷冻机'},\n",
       "   {'id': '105144', 'text': '冷冻机'},\n",
       "   {'id': '105149', 'text': '冷冻箱'},\n",
       "   {'id': '105156', 'text': '冷柜'},\n",
       "   {'id': '183106', 'text': '雪柜'},\n",
       "   {'id': '207269', 'text': '制冷机'},\n",
       "   {'id': '069070', 'text': '罐头'},\n",
       "   {'id': '069071', 'text': '罐头'},\n",
       "   {'id': '160807', 'text': '听子'}],\n",
       "  'ch_word': '电冰箱',\n",
       "  'en_word': 'fridge'},\n",
       " {'Def': '{tool|用具:{store|保存:instrument={~},means={cool|制冷},patient={edible|食物}{medicine|药物}}}',\n",
       "  'en_grammar': 'noun',\n",
       "  'ch_grammar': 'noun',\n",
       "  'No': '046830',\n",
       "  'syn': [{'id': '021885', 'text': '冰柜'},\n",
       "   {'id': '021886', 'text': '冰柜'},\n",
       "   {'id': '021887', 'text': '冰柜'},\n",
       "   {'id': '021888', 'text': '冰柜'},\n",
       "   {'id': '021965', 'text': '冰箱'},\n",
       "   {'id': '021966', 'text': '冰箱'},\n",
       "   {'id': '021967', 'text': '冰箱'},\n",
       "   {'id': '021968', 'text': '冰箱'},\n",
       "   {'id': '021969', 'text': '冰箱'},\n",
       "   {'id': '105103', 'text': '冷藏箱'},\n",
       "   {'id': '105104', 'text': '冷藏箱'},\n",
       "   {'id': '105143', 'text': '冷冻机'},\n",
       "   {'id': '105144', 'text': '冷冻机'},\n",
       "   {'id': '105149', 'text': '冷冻箱'},\n",
       "   {'id': '105156', 'text': '冷柜'},\n",
       "   {'id': '183106', 'text': '雪柜'},\n",
       "   {'id': '207269', 'text': '制冷机'},\n",
       "   {'id': '069070', 'text': '罐头'},\n",
       "   {'id': '069071', 'text': '罐头'},\n",
       "   {'id': '160807', 'text': '听子'}],\n",
       "  'ch_word': '电冰箱',\n",
       "  'en_word': 'refrigerator'}]"
      ]
     },
     "execution_count": 42,
     "metadata": {},
     "output_type": "execute_result"
    }
   ],
   "source": [
    "hownet_dict.get(\"电冰箱\")"
   ]
  },
  {
   "cell_type": "code",
   "execution_count": 47,
   "metadata": {
    "ExecuteTime": {
     "end_time": "2020-03-13T23:49:49.335362Z",
     "start_time": "2020-03-13T23:49:32.406162Z"
    }
   },
   "outputs": [],
   "source": [
    "hownet_dict_advanced = OpenHowNet.HowNetDict(use_sim=True)"
   ]
  },
  {
   "cell_type": "code",
   "execution_count": 48,
   "metadata": {
    "ExecuteTime": {
     "end_time": "2020-03-13T23:49:49.829303Z",
     "start_time": "2020-03-13T23:49:49.818274Z"
    }
   },
   "outputs": [
    {
     "data": {
      "text/plain": [
       "1.0"
      ]
     },
     "execution_count": 48,
     "metadata": {},
     "output_type": "execute_result"
    }
   ],
   "source": [
    "hownet_dict_advanced.calculate_word_similarity(\"苹果\", \"梨\")"
   ]
  },
  {
   "cell_type": "code",
   "execution_count": 49,
   "metadata": {
    "ExecuteTime": {
     "end_time": "2020-03-13T23:50:26.657318Z",
     "start_time": "2020-03-13T23:50:14.158572Z"
    }
   },
   "outputs": [
    {
     "name": "stdout",
     "output_type": "stream",
     "text": [
      "word_name: 苹果\n"
     ]
    }
   ],
   "source": [
    ">>> query_result = hownet_dict_advanced.get_nearest_words_via_sememes(\"苹果\",20)\n",
    ">>> example = query_result[0]\n",
    ">>> print(\"word_name:\",example[\"word\"])"
   ]
  },
  {
   "cell_type": "code",
   "execution_count": 51,
   "metadata": {
    "ExecuteTime": {
     "end_time": "2020-03-13T23:50:54.599597Z",
     "start_time": "2020-03-13T23:50:54.589287Z"
    }
   },
   "outputs": [
    {
     "data": {
      "text/plain": [
       "[{'id': 4024, 'word': 'IBM', 'score': 1.0},\n",
       " {'id': 41684, 'word': '戴尔', 'score': 1.0},\n",
       " {'id': 49006, 'word': '东芝', 'score': 1.0},\n",
       " {'id': 106795, 'word': '联想', 'score': 1.0},\n",
       " {'id': 156029, 'word': '索尼', 'score': 1.0},\n",
       " {'id': 4203, 'word': 'iPad', 'score': 0.865},\n",
       " {'id': 19457, 'word': '笔记本', 'score': 0.865},\n",
       " {'id': 19458, 'word': '笔记本电脑', 'score': 0.865},\n",
       " {'id': 19459, 'word': '笔记本电脑', 'score': 0.865},\n",
       " {'id': 19460, 'word': '笔记本电脑', 'score': 0.865},\n",
       " {'id': 19461, 'word': '笔记本电脑', 'score': 0.865},\n",
       " {'id': 19463, 'word': '笔记簿电脑', 'score': 0.865},\n",
       " {'id': 19464, 'word': '笔记簿电脑', 'score': 0.865},\n",
       " {'id': 20567, 'word': '便携式电脑', 'score': 0.865},\n",
       " {'id': 20568, 'word': '便携式计算机', 'score': 0.865},\n",
       " {'id': 20569, 'word': '便携式计算机', 'score': 0.865},\n",
       " {'id': 127224, 'word': '平板电脑', 'score': 0.865},\n",
       " {'id': 127225, 'word': '平板电脑', 'score': 0.865},\n",
       " {'id': 172264, 'word': '膝上型电脑', 'score': 0.865},\n",
       " {'id': 172265, 'word': '膝上型电脑', 'score': 0.865}]"
      ]
     },
     "execution_count": 51,
     "metadata": {},
     "output_type": "execute_result"
    }
   ],
   "source": [
    "example[\"synset\"]"
   ]
  },
  {
   "cell_type": "code",
   "execution_count": 9,
   "metadata": {
    "ExecuteTime": {
     "end_time": "2020-03-15T01:32:45.645392Z",
     "start_time": "2020-03-15T01:32:45.628188Z"
    }
   },
   "outputs": [
    {
     "name": "stdout",
     "output_type": "stream",
     "text": [
      "Find 23 result(s)\n",
      "Display #0 sememe tree\n",
      "[sense]大\n",
      "└── [None]AgeOlder|龄大\n",
      "Display #1 sememe tree\n",
      "[sense]大\n",
      "└── [None]Age|年龄\n",
      "    └── [host]animate|生物\n",
      "Display #2 sememe tree\n",
      "[sense]大\n",
      "└── [None]GreaterThanNormal|高于正常\n",
      "Display #3 sememe tree\n",
      "[sense]大\n",
      "└── [None]GreaterThanNormal|高于正常\n",
      "Display #4 sememe tree\n",
      "[sense]大\n",
      "└── [None]GreaterThanNormal|高于正常\n",
      "Display #5 sememe tree\n",
      "[sense]大\n",
      "└── [None]HighRank|高等\n",
      "Display #6 sememe tree\n",
      "[sense]大\n",
      "└── [None]Size|尺寸\n",
      "    └── [host]physical|物质\n",
      "Display #7 sememe tree\n",
      "[sense]大\n",
      "└── [None]big|大\n",
      "Display #8 sememe tree\n",
      "[sense]大\n",
      "└── [None]big|大\n",
      "Display #9 sememe tree\n",
      "[sense]大\n",
      "└── [None]big|大\n",
      "Display #10 sememe tree\n",
      "[sense]大\n",
      "└── [None]big|大\n",
      "Display #11 sememe tree\n",
      "[sense]大\n",
      "└── [None]big|大\n",
      "Display #12 sememe tree\n",
      "[sense]大\n",
      "└── [None]far|远\n",
      "    └── [degree]most|最\n",
      "Display #13 sememe tree\n",
      "[sense]大\n",
      "└── [None]important|重要\n",
      "Display #14 sememe tree\n",
      "[sense]大\n",
      "└── [None]important|重要\n",
      "Display #15 sememe tree\n",
      "[sense]大\n",
      "└── [None]important|重要\n",
      "Display #16 sememe tree\n",
      "[sense]大\n",
      "└── [None]loud|高声\n",
      "Display #17 sememe tree\n",
      "[sense]大\n",
      "└── [None]loud|高声\n",
      "Display #18 sememe tree\n",
      "[sense]大\n",
      "└── [None]loud|高声\n",
      "Display #19 sememe tree\n",
      "[sense]大\n",
      "└── [None]senior|长辈\n",
      "Display #20 sememe tree\n",
      "[sense]大\n",
      "└── [None]serious|严重\n",
      "Display #21 sememe tree\n",
      "[sense]大\n",
      "└── [None]serious|严重\n",
      "Display #22 sememe tree\n",
      "[sense]大\n",
      "└── [None]strong|强\n"
     ]
    }
   ],
   "source": [
    "hownet_dict.visualize_sememe_trees(\"大\")"
   ]
  },
  {
   "cell_type": "code",
   "execution_count": 8,
   "metadata": {
    "ExecuteTime": {
     "end_time": "2020-03-15T01:31:43.409977Z",
     "start_time": "2020-03-15T01:31:43.397028Z"
    }
   },
   "outputs": [
    {
     "data": {
      "text/plain": [
       "[{'role': 'sense',\n",
       "  'name': '大',\n",
       "  'children': [{'role': 'None', 'name': 'AgeOlder|龄大'}]},\n",
       " {'role': 'sense',\n",
       "  'name': '大',\n",
       "  'children': [{'role': 'None',\n",
       "    'name': 'Age|年龄',\n",
       "    'children': [{'role': 'host', 'name': 'animate|生物'}]}]},\n",
       " {'role': 'sense',\n",
       "  'name': '大',\n",
       "  'children': [{'role': 'None', 'name': 'GreaterThanNormal|高于正常'}]},\n",
       " {'role': 'sense',\n",
       "  'name': '大',\n",
       "  'children': [{'role': 'None', 'name': 'GreaterThanNormal|高于正常'}]},\n",
       " {'role': 'sense',\n",
       "  'name': '大',\n",
       "  'children': [{'role': 'None', 'name': 'GreaterThanNormal|高于正常'}]},\n",
       " {'role': 'sense',\n",
       "  'name': '大',\n",
       "  'children': [{'role': 'None', 'name': 'HighRank|高等'}]},\n",
       " {'role': 'sense',\n",
       "  'name': '大',\n",
       "  'children': [{'role': 'None',\n",
       "    'name': 'Size|尺寸',\n",
       "    'children': [{'role': 'host', 'name': 'physical|物质'}]}]},\n",
       " {'role': 'sense',\n",
       "  'name': '大',\n",
       "  'children': [{'role': 'None', 'name': 'big|大'}]},\n",
       " {'role': 'sense',\n",
       "  'name': '大',\n",
       "  'children': [{'role': 'None', 'name': 'big|大'}]},\n",
       " {'role': 'sense',\n",
       "  'name': '大',\n",
       "  'children': [{'role': 'None', 'name': 'big|大'}]},\n",
       " {'role': 'sense',\n",
       "  'name': '大',\n",
       "  'children': [{'role': 'None', 'name': 'big|大'}]},\n",
       " {'role': 'sense',\n",
       "  'name': '大',\n",
       "  'children': [{'role': 'None', 'name': 'big|大'}]},\n",
       " {'role': 'sense',\n",
       "  'name': '大',\n",
       "  'children': [{'role': 'None',\n",
       "    'name': 'far|远',\n",
       "    'children': [{'role': 'degree', 'name': 'most|最'}]}]},\n",
       " {'role': 'sense',\n",
       "  'name': '大',\n",
       "  'children': [{'role': 'None', 'name': 'important|重要'}]},\n",
       " {'role': 'sense',\n",
       "  'name': '大',\n",
       "  'children': [{'role': 'None', 'name': 'important|重要'}]},\n",
       " {'role': 'sense',\n",
       "  'name': '大',\n",
       "  'children': [{'role': 'None', 'name': 'important|重要'}]},\n",
       " {'role': 'sense',\n",
       "  'name': '大',\n",
       "  'children': [{'role': 'None', 'name': 'loud|高声'}]},\n",
       " {'role': 'sense',\n",
       "  'name': '大',\n",
       "  'children': [{'role': 'None', 'name': 'loud|高声'}]},\n",
       " {'role': 'sense',\n",
       "  'name': '大',\n",
       "  'children': [{'role': 'None', 'name': 'loud|高声'}]},\n",
       " {'role': 'sense',\n",
       "  'name': '大',\n",
       "  'children': [{'role': 'None', 'name': 'senior|长辈'}]},\n",
       " {'role': 'sense',\n",
       "  'name': '大',\n",
       "  'children': [{'role': 'None', 'name': 'serious|严重'}]},\n",
       " {'role': 'sense',\n",
       "  'name': '大',\n",
       "  'children': [{'role': 'None', 'name': 'serious|严重'}]},\n",
       " {'role': 'sense',\n",
       "  'name': '大',\n",
       "  'children': [{'role': 'None', 'name': 'strong|强'}]}]"
      ]
     },
     "execution_count": 8,
     "metadata": {},
     "output_type": "execute_result"
    }
   ],
   "source": [
    "[a[\"tree\"] for a in hownet_dict.get_sememes_by_word(\"大\",structured=True)]"
   ]
  },
  {
   "cell_type": "code",
   "execution_count": 30,
   "metadata": {
    "ExecuteTime": {
     "end_time": "2020-03-15T08:01:23.306305Z",
     "start_time": "2020-03-15T08:01:23.253337Z"
    }
   },
   "outputs": [
    {
     "name": "stdout",
     "output_type": "stream",
     "text": [
      "Find 2 result(s)\n",
      "Display #0 sememe tree\n",
      "[sense]salad\n",
      "└── [None]food|食品\n",
      "Display #1 sememe tree\n",
      "[sense]salad\n",
      "└── [None]food|食品\n"
     ]
    }
   ],
   "source": [
    "hownet_dict.visualize_sememe_trees(\"salad\")"
   ]
  },
  {
   "cell_type": "code",
   "execution_count": 10,
   "metadata": {
    "ExecuteTime": {
     "end_time": "2020-03-15T01:35:35.324869Z",
     "start_time": "2020-03-15T01:35:35.318413Z"
    }
   },
   "outputs": [
    {
     "name": "stdout",
     "output_type": "stream",
     "text": [
      "Find 2 result(s)\n",
      "Display #0 sememe tree\n",
      "[sense]唱歌\n",
      "└── [None]sing|唱\n",
      "Display #1 sememe tree\n",
      "[sense]唱歌\n",
      "└── [None]sing|唱\n"
     ]
    }
   ],
   "source": [
    "hownet_dict.visualize_sememe_trees(\"唱歌\")"
   ]
  },
  {
   "cell_type": "code",
   "execution_count": 11,
   "metadata": {
    "ExecuteTime": {
     "end_time": "2020-03-15T01:36:38.799029Z",
     "start_time": "2020-03-15T01:36:38.790159Z"
    }
   },
   "outputs": [
    {
     "name": "stdout",
     "output_type": "stream",
     "text": [
      "Find 4 result(s)\n",
      "Display #0 sememe tree\n",
      "[sense]吃饭\n",
      "└── [None]MakeLiving|谋生\n",
      "Display #1 sememe tree\n",
      "[sense]吃饭\n",
      "└── [None]MakeLiving|谋生\n",
      "Display #2 sememe tree\n",
      "[sense]吃饭\n",
      "└── [None]eat|吃\n",
      "    └── [patient]edible|食物\n",
      "Display #3 sememe tree\n",
      "[sense]吃饭\n",
      "└── [None]eat|吃\n",
      "    └── [patient]edible|食物\n"
     ]
    }
   ],
   "source": [
    "hownet_dict.visualize_sememe_trees(\"吃饭\")"
   ]
  },
  {
   "cell_type": "code",
   "execution_count": 12,
   "metadata": {
    "ExecuteTime": {
     "end_time": "2020-03-15T01:37:21.417721Z",
     "start_time": "2020-03-15T01:37:21.410341Z"
    }
   },
   "outputs": [
    {
     "name": "stdout",
     "output_type": "stream",
     "text": [
      "Find 1 result(s)\n",
      "Display #0 sememe tree\n",
      "[sense]喝粥\n",
      "└── [None]drink|喝\n",
      "    └── [patient]food|食品\n"
     ]
    }
   ],
   "source": [
    "hownet_dict.visualize_sememe_trees(\"喝粥\")"
   ]
  },
  {
   "cell_type": "code",
   "execution_count": 13,
   "metadata": {
    "ExecuteTime": {
     "end_time": "2020-03-15T01:37:48.129017Z",
     "start_time": "2020-03-15T01:37:48.121602Z"
    }
   },
   "outputs": [
    {
     "name": "stdout",
     "output_type": "stream",
     "text": [
      "Find 1 result(s)\n",
      "Display #0 sememe tree\n",
      "[sense]喝水\n",
      "└── [None]drink|喝\n",
      "    └── [patient]water|水\n"
     ]
    }
   ],
   "source": [
    "hownet_dict.visualize_sememe_trees(\"喝水\")"
   ]
  },
  {
   "cell_type": "code",
   "execution_count": 14,
   "metadata": {
    "ExecuteTime": {
     "end_time": "2020-03-15T01:39:16.990571Z",
     "start_time": "2020-03-15T01:39:16.979329Z"
    }
   },
   "outputs": [
    {
     "name": "stdout",
     "output_type": "stream",
     "text": [
      "Find 3 result(s)\n",
      "Display #0 sememe tree\n",
      "[sense]喝\n",
      "└── [None]cry|喊\n",
      "Display #1 sememe tree\n",
      "[sense]喝\n",
      "└── [None]drink|喝\n",
      "Display #2 sememe tree\n",
      "[sense]喝\n",
      "└── [None]drink|喝\n"
     ]
    }
   ],
   "source": [
    "hownet_dict.visualize_sememe_trees(\"喝\")"
   ]
  },
  {
   "cell_type": "code",
   "execution_count": 15,
   "metadata": {
    "ExecuteTime": {
     "end_time": "2020-03-15T01:40:01.027224Z",
     "start_time": "2020-03-15T01:40:01.015111Z"
    }
   },
   "outputs": [
    {
     "name": "stdout",
     "output_type": "stream",
     "text": [
      "Find 5 result(s)\n",
      "Display #0 sememe tree\n",
      "[sense]水\n",
      "└── [None]liquid|液\n",
      "Display #1 sememe tree\n",
      "[sense]水\n",
      "└── [None]surname|姓\n",
      "Display #2 sememe tree\n",
      "[sense]水\n",
      "└── [None]waters|水域\n",
      "Display #3 sememe tree\n",
      "[sense]水\n",
      "└── [None]waters|水域\n",
      "    └── [modifier]linear|线\n",
      "Display #4 sememe tree\n",
      "[sense]水\n",
      "└── [None]water|水\n"
     ]
    }
   ],
   "source": [
    "hownet_dict.visualize_sememe_trees(\"水\")"
   ]
  },
  {
   "cell_type": "code",
   "execution_count": 16,
   "metadata": {
    "ExecuteTime": {
     "end_time": "2020-03-15T01:45:54.002315Z",
     "start_time": "2020-03-15T01:45:53.988397Z"
    }
   },
   "outputs": [
    {
     "name": "stdout",
     "output_type": "stream",
     "text": [
      "Find 2 result(s)\n",
      "Display #0 sememe tree\n",
      "[sense]大学\n",
      "└── [None]InstitutePlace|场所\n",
      "    ├── [domain]education|教育\n",
      "    ├── [modifier]HighRank|高等\n",
      "    ├── [location]study|学习\n",
      "    └── [location]teach|教\n",
      "Display #1 sememe tree\n",
      "[sense]大学\n",
      "└── [None]InstitutePlace|场所\n",
      "    ├── [domain]education|教育\n",
      "    ├── [modifier]HighRank|高等\n",
      "    ├── [location]study|学习\n",
      "    └── [location]teach|教\n"
     ]
    }
   ],
   "source": [
    "hownet_dict.visualize_sememe_trees(\"大学\")\n",
    "# 这里 InstitutePlace|场所、education|教育、HighRank|高等、study|学习、teach|教等均为义原。 \n",
    "# 而 domain、location、:modifier 等均为关系。\n",
    "# 这一段知识描述语言所表达的意义是直观的， 即是“大学”是一个场所，属于教育领域，\n",
    "# 等级为高等的，在这个场所里人们学习和教书”。"
   ]
  },
  {
   "cell_type": "code",
   "execution_count": 18,
   "metadata": {
    "ExecuteTime": {
     "end_time": "2020-03-15T01:54:34.612725Z",
     "start_time": "2020-03-15T01:54:34.594325Z"
    }
   },
   "outputs": [
    {
     "name": "stdout",
     "output_type": "stream",
     "text": [
      "Find 8 result(s)\n",
      "Display #0 sememe tree\n",
      "[sense]大学生\n",
      "└── [None]human|人\n",
      "    ├── [domain]education|教育\n",
      "    └── [agent]study|学习\n",
      "        └── [location]InstitutePlace|场所\n",
      "            ├── [domain]education|教育\n",
      "            ├── [modifier]HighRank|高等\n",
      "            ├── [location]study|学习\n",
      "            └── [location]teach|教\n",
      "Display #1 sememe tree\n",
      "[sense]大学生\n",
      "└── [None]human|人\n",
      "    ├── [domain]education|教育\n",
      "    └── [agent]study|学习\n",
      "        └── [location]InstitutePlace|场所\n",
      "            ├── [domain]education|教育\n",
      "            ├── [modifier]HighRank|高等\n",
      "            ├── [location]study|学习\n",
      "            └── [location]teach|教\n",
      "Display #2 sememe tree\n",
      "[sense]大学生\n",
      "└── [None]human|人\n",
      "    ├── [domain]education|教育\n",
      "    └── [agent]study|学习\n",
      "        └── [location]InstitutePlace|场所\n",
      "            ├── [domain]education|教育\n",
      "            ├── [modifier]HighRank|高等\n",
      "            ├── [location]study|学习\n",
      "            └── [location]teach|教\n",
      "Display #3 sememe tree\n",
      "[sense]大学生\n",
      "└── [None]human|人\n",
      "    ├── [domain]education|教育\n",
      "    └── [agent]study|学习\n",
      "        └── [location]InstitutePlace|场所\n",
      "            ├── [domain]education|教育\n",
      "            ├── [modifier]HighRank|高等\n",
      "            ├── [location]study|学习\n",
      "            └── [location]teach|教\n",
      "Display #4 sememe tree\n",
      "[sense]大学生\n",
      "└── [None]human|人\n",
      "    ├── [domain]education|教育\n",
      "    └── [agent]study|学习\n",
      "        └── [location]InstitutePlace|场所\n",
      "            ├── [domain]education|教育\n",
      "            ├── [modifier]HighRank|高等\n",
      "            ├── [location]study|学习\n",
      "            └── [location]teach|教\n",
      "Display #5 sememe tree\n",
      "[sense]大学生\n",
      "└── [None]human|人\n",
      "    ├── [domain]education|教育\n",
      "    └── [agent]study|学习\n",
      "        └── [location]InstitutePlace|场所\n",
      "            ├── [domain]education|教育\n",
      "            ├── [modifier]HighRank|高等\n",
      "            ├── [location]study|学习\n",
      "            └── [location]teach|教\n",
      "Display #6 sememe tree\n",
      "[sense]大学生\n",
      "└── [None]human|人\n",
      "    ├── [domain]education|教育\n",
      "    └── [agent]study|学习\n",
      "        └── [location]InstitutePlace|场所\n",
      "            ├── [domain]education|教育\n",
      "            ├── [modifier]HighRank|高等\n",
      "            ├── [location]study|学习\n",
      "            └── [location]teach|教\n",
      "Display #7 sememe tree\n",
      "[sense]大学生\n",
      "└── [None]human|人\n",
      "    ├── [domain]education|教育\n",
      "    └── [agent]study|学习\n",
      "        └── [location]InstitutePlace|场所\n",
      "            ├── [domain]education|教育\n",
      "            ├── [modifier]HighRank|高等\n",
      "            ├── [location]study|学习\n",
      "            └── [location]teach|教\n"
     ]
    }
   ],
   "source": [
    "hownet_dict.visualize_sememe_trees(\"大学生\")\n",
    "# “大学生”是一个人，他是学习的 施事，他在上面描述的场所学习。"
   ]
  },
  {
   "cell_type": "code",
   "execution_count": 28,
   "metadata": {
    "ExecuteTime": {
     "end_time": "2020-03-15T03:09:23.457551Z",
     "start_time": "2020-03-15T03:09:23.433028Z"
    }
   },
   "outputs": [
    {
     "data": {
      "text/plain": [
       "[{'role': 'sense',\n",
       "  'name': '大学生',\n",
       "  'children': [{'role': 'None',\n",
       "    'name': 'human|人',\n",
       "    'children': [{'role': 'domain', 'name': 'education|教育'},\n",
       "     {'role': 'agent',\n",
       "      'name': 'study|学习',\n",
       "      'children': [{'role': 'location',\n",
       "        'name': 'InstitutePlace|场所',\n",
       "        'children': [{'role': 'domain', 'name': 'education|教育'},\n",
       "         {'role': 'modifier', 'name': 'HighRank|高等'},\n",
       "         {'role': 'location', 'name': 'study|学习'},\n",
       "         {'role': 'location', 'name': 'teach|教'}]}]}]}]},\n",
       " {'role': 'sense',\n",
       "  'name': '大学生',\n",
       "  'children': [{'role': 'None',\n",
       "    'name': 'human|人',\n",
       "    'children': [{'role': 'domain', 'name': 'education|教育'},\n",
       "     {'role': 'agent',\n",
       "      'name': 'study|学习',\n",
       "      'children': [{'role': 'location',\n",
       "        'name': 'InstitutePlace|场所',\n",
       "        'children': [{'role': 'domain', 'name': 'education|教育'},\n",
       "         {'role': 'modifier', 'name': 'HighRank|高等'},\n",
       "         {'role': 'location', 'name': 'study|学习'},\n",
       "         {'role': 'location', 'name': 'teach|教'}]}]}]}]},\n",
       " {'role': 'sense',\n",
       "  'name': '大学生',\n",
       "  'children': [{'role': 'None',\n",
       "    'name': 'human|人',\n",
       "    'children': [{'role': 'domain', 'name': 'education|教育'},\n",
       "     {'role': 'agent',\n",
       "      'name': 'study|学习',\n",
       "      'children': [{'role': 'location',\n",
       "        'name': 'InstitutePlace|场所',\n",
       "        'children': [{'role': 'domain', 'name': 'education|教育'},\n",
       "         {'role': 'modifier', 'name': 'HighRank|高等'},\n",
       "         {'role': 'location', 'name': 'study|学习'},\n",
       "         {'role': 'location', 'name': 'teach|教'}]}]}]}]},\n",
       " {'role': 'sense',\n",
       "  'name': '大学生',\n",
       "  'children': [{'role': 'None',\n",
       "    'name': 'human|人',\n",
       "    'children': [{'role': 'domain', 'name': 'education|教育'},\n",
       "     {'role': 'agent',\n",
       "      'name': 'study|学习',\n",
       "      'children': [{'role': 'location',\n",
       "        'name': 'InstitutePlace|场所',\n",
       "        'children': [{'role': 'domain', 'name': 'education|教育'},\n",
       "         {'role': 'modifier', 'name': 'HighRank|高等'},\n",
       "         {'role': 'location', 'name': 'study|学习'},\n",
       "         {'role': 'location', 'name': 'teach|教'}]}]}]}]},\n",
       " {'role': 'sense',\n",
       "  'name': '大学生',\n",
       "  'children': [{'role': 'None',\n",
       "    'name': 'human|人',\n",
       "    'children': [{'role': 'domain', 'name': 'education|教育'},\n",
       "     {'role': 'agent',\n",
       "      'name': 'study|学习',\n",
       "      'children': [{'role': 'location',\n",
       "        'name': 'InstitutePlace|场所',\n",
       "        'children': [{'role': 'domain', 'name': 'education|教育'},\n",
       "         {'role': 'modifier', 'name': 'HighRank|高等'},\n",
       "         {'role': 'location', 'name': 'study|学习'},\n",
       "         {'role': 'location', 'name': 'teach|教'}]}]}]}]},\n",
       " {'role': 'sense',\n",
       "  'name': '大学生',\n",
       "  'children': [{'role': 'None',\n",
       "    'name': 'human|人',\n",
       "    'children': [{'role': 'domain', 'name': 'education|教育'},\n",
       "     {'role': 'agent',\n",
       "      'name': 'study|学习',\n",
       "      'children': [{'role': 'location',\n",
       "        'name': 'InstitutePlace|场所',\n",
       "        'children': [{'role': 'domain', 'name': 'education|教育'},\n",
       "         {'role': 'modifier', 'name': 'HighRank|高等'},\n",
       "         {'role': 'location', 'name': 'study|学习'},\n",
       "         {'role': 'location', 'name': 'teach|教'}]}]}]}]},\n",
       " {'role': 'sense',\n",
       "  'name': '大学生',\n",
       "  'children': [{'role': 'None',\n",
       "    'name': 'human|人',\n",
       "    'children': [{'role': 'domain', 'name': 'education|教育'},\n",
       "     {'role': 'agent',\n",
       "      'name': 'study|学习',\n",
       "      'children': [{'role': 'location',\n",
       "        'name': 'InstitutePlace|场所',\n",
       "        'children': [{'role': 'domain', 'name': 'education|教育'},\n",
       "         {'role': 'modifier', 'name': 'HighRank|高等'},\n",
       "         {'role': 'location', 'name': 'study|学习'},\n",
       "         {'role': 'location', 'name': 'teach|教'}]}]}]}]},\n",
       " {'role': 'sense',\n",
       "  'name': '大学生',\n",
       "  'children': [{'role': 'None',\n",
       "    'name': 'human|人',\n",
       "    'children': [{'role': 'domain', 'name': 'education|教育'},\n",
       "     {'role': 'agent',\n",
       "      'name': 'study|学习',\n",
       "      'children': [{'role': 'location',\n",
       "        'name': 'InstitutePlace|场所',\n",
       "        'children': [{'role': 'domain', 'name': 'education|教育'},\n",
       "         {'role': 'modifier', 'name': 'HighRank|高等'},\n",
       "         {'role': 'location', 'name': 'study|学习'},\n",
       "         {'role': 'location', 'name': 'teach|教'}]}]}]}]}]"
      ]
     },
     "execution_count": 28,
     "metadata": {},
     "output_type": "execute_result"
    }
   ],
   "source": [
    "def build_sememe_trees(word, K=None):\n",
    "    \"\"\"\n",
    "    :param word: (str)The target word to be visualized in command line. Notice that single word may correspond to multiple HowNet annotations.\n",
    "    :param K: (int)The maximum number of visualized words, ordered by id (ascending). Illegal number will be automatically ignored and the function will display all retrieved results.\n",
    "    :return:\n",
    "    \"\"\"\n",
    "    from OpenHowNet.SememeTreeParser import GenSememeTree    \n",
    "    from anytree.exporter import DictExporter, JsonExporter\n",
    "    \n",
    "    queryResult = list(hownet_dict[word])\n",
    "    queryResult.sort(key=lambda x: x[\"No\"])\n",
    "    # print(\"Find {0} result(s)\".format(len(queryResult)))\n",
    "    if K is not None and K >= 1 and type(K) == int:\n",
    "        queryResult = queryResult[:K]\n",
    "    \n",
    "    trees=[]\n",
    "    # exporter = JsonExporter(indent=2, sort_keys=True)\n",
    "    exporter=DictExporter()\n",
    "    for index, item in enumerate(queryResult):\n",
    "        tree = GenSememeTree(item[\"Def\"], word, returnNode=True)\n",
    "        trees.append(exporter.export(tree))\n",
    "    return trees\n",
    "\n",
    "def vis_trees(trees):\n",
    "    from anytree.importer import DictImporter\n",
    "    from anytree import RenderTree\n",
    "    importer = DictImporter()\n",
    "    for index, data in enumerate(trees):\n",
    "        tree_root = importer.import_(data)\n",
    "        tree = RenderTree(tree_root)\n",
    "        print(\"Display #{0} sememe tree\".format(index))\n",
    "        for pre, fill, node in tree:\n",
    "            print(\"%s[%s]%s\" % (pre, node.role, node.name))\n",
    "\n",
    "trees=build_sememe_trees('大学生')\n",
    "trees"
   ]
  },
  {
   "cell_type": "code",
   "execution_count": 29,
   "metadata": {
    "ExecuteTime": {
     "end_time": "2020-03-15T03:09:29.764842Z",
     "start_time": "2020-03-15T03:09:29.751375Z"
    }
   },
   "outputs": [
    {
     "name": "stdout",
     "output_type": "stream",
     "text": [
      "Display #0 sememe tree\n",
      "[sense]大学生\n",
      "└── [None]human|人\n",
      "    ├── [domain]education|教育\n",
      "    └── [agent]study|学习\n",
      "        └── [location]InstitutePlace|场所\n",
      "            ├── [domain]education|教育\n",
      "            ├── [modifier]HighRank|高等\n",
      "            ├── [location]study|学习\n",
      "            └── [location]teach|教\n",
      "Display #1 sememe tree\n",
      "[sense]大学生\n",
      "└── [None]human|人\n",
      "    ├── [domain]education|教育\n",
      "    └── [agent]study|学习\n",
      "        └── [location]InstitutePlace|场所\n",
      "            ├── [domain]education|教育\n",
      "            ├── [modifier]HighRank|高等\n",
      "            ├── [location]study|学习\n",
      "            └── [location]teach|教\n",
      "Display #2 sememe tree\n",
      "[sense]大学生\n",
      "└── [None]human|人\n",
      "    ├── [domain]education|教育\n",
      "    └── [agent]study|学习\n",
      "        └── [location]InstitutePlace|场所\n",
      "            ├── [domain]education|教育\n",
      "            ├── [modifier]HighRank|高等\n",
      "            ├── [location]study|学习\n",
      "            └── [location]teach|教\n",
      "Display #3 sememe tree\n",
      "[sense]大学生\n",
      "└── [None]human|人\n",
      "    ├── [domain]education|教育\n",
      "    └── [agent]study|学习\n",
      "        └── [location]InstitutePlace|场所\n",
      "            ├── [domain]education|教育\n",
      "            ├── [modifier]HighRank|高等\n",
      "            ├── [location]study|学习\n",
      "            └── [location]teach|教\n",
      "Display #4 sememe tree\n",
      "[sense]大学生\n",
      "└── [None]human|人\n",
      "    ├── [domain]education|教育\n",
      "    └── [agent]study|学习\n",
      "        └── [location]InstitutePlace|场所\n",
      "            ├── [domain]education|教育\n",
      "            ├── [modifier]HighRank|高等\n",
      "            ├── [location]study|学习\n",
      "            └── [location]teach|教\n",
      "Display #5 sememe tree\n",
      "[sense]大学生\n",
      "└── [None]human|人\n",
      "    ├── [domain]education|教育\n",
      "    └── [agent]study|学习\n",
      "        └── [location]InstitutePlace|场所\n",
      "            ├── [domain]education|教育\n",
      "            ├── [modifier]HighRank|高等\n",
      "            ├── [location]study|学习\n",
      "            └── [location]teach|教\n",
      "Display #6 sememe tree\n",
      "[sense]大学生\n",
      "└── [None]human|人\n",
      "    ├── [domain]education|教育\n",
      "    └── [agent]study|学习\n",
      "        └── [location]InstitutePlace|场所\n",
      "            ├── [domain]education|教育\n",
      "            ├── [modifier]HighRank|高等\n",
      "            ├── [location]study|学习\n",
      "            └── [location]teach|教\n",
      "Display #7 sememe tree\n",
      "[sense]大学生\n",
      "└── [None]human|人\n",
      "    ├── [domain]education|教育\n",
      "    └── [agent]study|学习\n",
      "        └── [location]InstitutePlace|场所\n",
      "            ├── [domain]education|教育\n",
      "            ├── [modifier]HighRank|高等\n",
      "            ├── [location]study|学习\n",
      "            └── [location]teach|教\n"
     ]
    }
   ],
   "source": [
    "vis_trees(trees)"
   ]
  }
 ],
 "metadata": {
  "kernelspec": {
   "display_name": "Python 3",
   "language": "python",
   "name": "python3"
  },
  "language_info": {
   "codemirror_mode": {
    "name": "ipython",
    "version": 3
   },
   "file_extension": ".py",
   "mimetype": "text/x-python",
   "name": "python",
   "nbconvert_exporter": "python",
   "pygments_lexer": "ipython3",
   "version": "3.6.6"
  },
  "varInspector": {
   "cols": {
    "lenName": 16,
    "lenType": 16,
    "lenVar": 40
   },
   "kernels_config": {
    "python": {
     "delete_cmd_postfix": "",
     "delete_cmd_prefix": "del ",
     "library": "var_list.py",
     "varRefreshCmd": "print(var_dic_list())"
    },
    "r": {
     "delete_cmd_postfix": ") ",
     "delete_cmd_prefix": "rm(",
     "library": "var_list.r",
     "varRefreshCmd": "cat(var_dic_list()) "
    }
   },
   "types_to_exclude": [
    "module",
    "function",
    "builtin_function_or_method",
    "instance",
    "_Feature"
   ],
   "window_display": false
  }
 },
 "nbformat": 4,
 "nbformat_minor": 2
}
