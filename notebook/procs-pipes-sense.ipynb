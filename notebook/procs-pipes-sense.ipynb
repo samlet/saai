{
 "cells": [
  {
   "cell_type": "code",
   "execution_count": 23,
   "metadata": {
    "ExecuteTime": {
     "end_time": "2020-03-23T05:47:03.394742Z",
     "start_time": "2020-03-23T05:47:03.387965Z"
    }
   },
   "outputs": [
    {
     "name": "stdout",
     "output_type": "stream",
     "text": [
      "root: play(play, verb, 2)\n",
      "├── nsubj: i(i, pron, 1)\n",
      "├── obj: football(football, noun, 3)\n",
      "└── punct: .(., punct, 4)\n"
     ]
    }
   ],
   "source": [
    "from sagas.nlu.ruleset_procs import cached_chunks, get_main_domains\n",
    "from sagas.conf.conf import cf\n",
    "from sagas.nlu.nlu_tools import vis_tree\n",
    "\n",
    "sents,lang='i play football', 'en'\n",
    "domain, domains = get_main_domains(sents, lang, cf.engine(lang))\n",
    "for ds in domains:\n",
    "    vis_tree(ds)"
   ]
  },
  {
   "cell_type": "code",
   "execution_count": 14,
   "metadata": {
    "ExecuteTime": {
     "end_time": "2020-03-23T05:12:38.738625Z",
     "start_time": "2020-03-23T05:12:38.715448Z"
    }
   },
   "outputs": [
    {
     "data": {
      "text/plain": [
       "{'domain': {'football|足球', 'sport|体育'},\n",
       " 'modifier': {'round|圆'},\n",
       " 'sense': {'football'}}"
      ]
     },
     "execution_count": 14,
     "metadata": {},
     "output_type": "execute_result"
    }
   ],
   "source": [
    "from sagas.zh.hownet_helper import build_trees, get_word_sense, get_trees\n",
    "word='football'\n",
    "sts=get_trees(word)\n",
    "st=sts[0]\n",
    "st.roles"
   ]
  },
  {
   "cell_type": "code",
   "execution_count": 16,
   "metadata": {
    "ExecuteTime": {
     "end_time": "2020-03-23T05:12:55.321544Z",
     "start_time": "2020-03-23T05:12:55.313614Z"
    }
   },
   "outputs": [
    {
     "data": {
      "text/plain": [
       "[SenseNode(role='', name='SportTool|运动器材', children=[SenseNode(role='domain', name='football|足球', children=[]), SenseNode(role='domain', name='sport|体育', children=[]), SenseNode(role='modifier', name='round|圆', children=[])])]"
      ]
     },
     "execution_count": 16,
     "metadata": {},
     "output_type": "execute_result"
    }
   ],
   "source": [
    "st.inherits"
   ]
  },
  {
   "cell_type": "code",
   "execution_count": 17,
   "metadata": {
    "ExecuteTime": {
     "end_time": "2020-03-23T05:13:28.147834Z",
     "start_time": "2020-03-23T05:13:28.139070Z"
    }
   },
   "outputs": [
    {
     "data": {
      "text/plain": [
       "(True, True)"
      ]
     },
     "execution_count": 17,
     "metadata": {},
     "output_type": "execute_result"
    }
   ],
   "source": [
    "st.has_role(domain='sport|体育'), st.cat_of('SportTool|运动器材')"
   ]
  },
  {
   "cell_type": "code",
   "execution_count": 19,
   "metadata": {
    "ExecuteTime": {
     "end_time": "2020-03-23T05:35:26.266460Z",
     "start_time": "2020-03-23T05:35:26.255110Z"
    }
   },
   "outputs": [
    {
     "data": {
      "text/plain": [
       "(True, True)"
      ]
     },
     "execution_count": 19,
     "metadata": {},
     "output_type": "execute_result"
    }
   ],
   "source": [
    "roles=dict(domain='sport|体育')\n",
    "v='SportTool|运动器材'\n",
    "any([st.has_role(**roles) for st in sts]), any([st.cat_of(v) for st in sts])"
   ]
  },
  {
   "cell_type": "code",
   "execution_count": 35,
   "metadata": {
    "ExecuteTime": {
     "end_time": "2020-03-23T07:01:55.232335Z",
     "start_time": "2020-03-23T07:01:55.215910Z"
    }
   },
   "outputs": [
    {
     "data": {
      "text/plain": [
       "sense_cond(part='/obj', roles={'domain': 'sport|体育'}, cat='SportTool|运动器材')"
      ]
     },
     "execution_count": 35,
     "metadata": {},
     "output_type": "execute_result"
    }
   ],
   "source": [
    "from typing import Text, Any, Dict, List, Union, Optional\n",
    "from rx import Observable\n",
    "from dataclasses import dataclass\n",
    "@dataclass\n",
    "class sense_cond:\n",
    "    part: str\n",
    "    roles: Optional[Dict]\n",
    "    cat: Optional[str]\n",
    "    def is_cat(part, cat):\n",
    "        return sense_cond(part, None, cat)\n",
    "    def has_roles(part, **roles):\n",
    "        return sense_cond(part, roles, None)\n",
    "\n",
    "sense_cond('/obj', roles, v)"
   ]
  },
  {
   "cell_type": "code",
   "execution_count": 33,
   "metadata": {
    "ExecuteTime": {
     "end_time": "2020-03-23T06:55:15.895641Z",
     "start_time": "2020-03-23T06:55:15.878794Z"
    }
   },
   "outputs": [
    {
     "data": {
      "text/plain": [
       "sense_cond(part='/obj', roles=None, cat='SportTool|运动器材')"
      ]
     },
     "execution_count": 33,
     "metadata": {},
     "output_type": "execute_result"
    }
   ],
   "source": [
    "sense_cond.is_cat('/obj', 'SportTool|运动器材')"
   ]
  },
  {
   "cell_type": "code",
   "execution_count": 50,
   "metadata": {
    "ExecuteTime": {
     "end_time": "2020-03-23T07:12:43.973745Z",
     "start_time": "2020-03-23T07:12:43.965630Z"
    }
   },
   "outputs": [
    {
     "data": {
      "text/plain": [
       "sense_cond(part='/obj', roles={'domain': 'sport|体育'}, cat=None)"
      ]
     },
     "execution_count": 50,
     "metadata": {},
     "output_type": "execute_result"
    }
   ],
   "source": [
    "sense_cond.has_roles('/obj', domain='sport|体育')"
   ]
  },
  {
   "cell_type": "code",
   "execution_count": 41,
   "metadata": {
    "ExecuteTime": {
     "end_time": "2020-03-23T07:03:11.000795Z",
     "start_time": "2020-03-23T07:03:10.978804Z"
    }
   },
   "outputs": [
    {
     "name": "stdout",
     "output_type": "stream",
     "text": [
      "{'word': 'football/football', 'path': '/obj', 'pos': 'noun'}\n",
      "done.\n"
     ]
    },
    {
     "data": {
      "text/plain": [
       "<rx.disposable.disposable.Disposable at 0x128ebd748>"
      ]
     },
     "execution_count": 41,
     "metadata": {},
     "output_type": "execute_result"
    }
   ],
   "source": [
    "from sagas.nlu.pipes import *\n",
    "source=get_source('i play football', 'en')\n",
    "\n",
    "roles=dict(domain='sport|体育')\n",
    "source.pipe(\n",
    "    filter_path('/obj'),\n",
    "    ops.map(lambda t: to_obj({'sense': get_trees(t.lemma), **t})),\n",
    "    ops.filter(lambda t: any([st.has_role(**roles) for st in t.sense])),\n",
    "    ops.filter(lambda t: any([st.cat_of(v) for st in t.sense])),\n",
    "    to_token(), \n",
    ").subscribe(\n",
    "    on_next=lambda value: print(value),\n",
    "    on_error=lambda e: print(e),\n",
    "    on_completed=lambda: print('done.'),\n",
    ")"
   ]
  },
  {
   "cell_type": "code",
   "execution_count": 45,
   "metadata": {
    "ExecuteTime": {
     "end_time": "2020-03-23T07:06:13.988939Z",
     "start_time": "2020-03-23T07:06:13.980612Z"
    }
   },
   "outputs": [
    {
     "data": {
      "text/plain": [
       "False"
      ]
     },
     "execution_count": 45,
     "metadata": {},
     "output_type": "execute_result"
    }
   ],
   "source": [
    "any([])"
   ]
  },
  {
   "cell_type": "code",
   "execution_count": 56,
   "metadata": {
    "ExecuteTime": {
     "end_time": "2020-03-23T07:16:29.969966Z",
     "start_time": "2020-03-23T07:16:29.953989Z"
    }
   },
   "outputs": [
    {
     "name": "stdout",
     "output_type": "stream",
     "text": [
      "{'domain': 'sport|体育'}\n",
      "{'word': 'football/football', 'path': '/obj', 'pos': 'noun'}\n",
      "done.\n"
     ]
    },
    {
     "data": {
      "text/plain": [
       "<rx.disposable.disposable.Disposable at 0x1297e96a0>"
      ]
     },
     "execution_count": 56,
     "metadata": {},
     "output_type": "execute_result"
    }
   ],
   "source": [
    "def filter_sense(data:sense_cond):\n",
    "    exprs=[]\n",
    "    if data.roles:\n",
    "        print(data.roles)\n",
    "        exprs.append(ops.filter(lambda t: any([st.has_role(**cond.roles) for st in t.sense])))\n",
    "    if data.cat:\n",
    "        exprs.append(ops.filter(lambda t: any([st.cat_of(cond.cat) for st in t.sense])))\n",
    "    return rx.pipe(*exprs)\n",
    "\n",
    "# roles=dict(domain='sport|体育')\n",
    "# cond=sense_cond('/obj', roles, cat='SportTool|运动器材')\n",
    "# cond=sense_cond('/obj', roles, cat=None)\n",
    "cond=sense_cond.has_roles('/obj', domain='sport|体育')\n",
    "\n",
    "source.pipe(\n",
    "    filter_path(cond.part),\n",
    "    ops.map(lambda t: to_obj({'sense': get_trees(t.lemma), **t})),\n",
    "    # filter_sense(cond),\n",
    "#     ops.filter(lambda t: any([st.has_role(**cond.roles) for st in t.sense])),\n",
    "#     ops.filter(lambda t: any([st.cat_of(cond.cat) for st in t.sense])),\n",
    "    filter_sense(cond),\n",
    "    to_token(), \n",
    ").subscribe(\n",
    "    on_next=lambda value: print(value),\n",
    "    on_error=lambda e: print(e),\n",
    "    on_completed=lambda: print('done.'),\n",
    ")"
   ]
  },
  {
   "cell_type": "code",
   "execution_count": null,
   "metadata": {},
   "outputs": [],
   "source": []
  }
 ],
 "metadata": {
  "kernelspec": {
   "display_name": "Python 3",
   "language": "python",
   "name": "python3"
  },
  "language_info": {
   "codemirror_mode": {
    "name": "ipython",
    "version": 3
   },
   "file_extension": ".py",
   "mimetype": "text/x-python",
   "name": "python",
   "nbconvert_exporter": "python",
   "pygments_lexer": "ipython3",
   "version": "3.6.6"
  },
  "varInspector": {
   "cols": {
    "lenName": 16,
    "lenType": 16,
    "lenVar": 40
   },
   "kernels_config": {
    "python": {
     "delete_cmd_postfix": "",
     "delete_cmd_prefix": "del ",
     "library": "var_list.py",
     "varRefreshCmd": "print(var_dic_list())"
    },
    "r": {
     "delete_cmd_postfix": ") ",
     "delete_cmd_prefix": "rm(",
     "library": "var_list.r",
     "varRefreshCmd": "cat(var_dic_list()) "
    }
   },
   "types_to_exclude": [
    "module",
    "function",
    "builtin_function_or_method",
    "instance",
    "_Feature"
   ],
   "window_display": false
  }
 },
 "nbformat": 4,
 "nbformat_minor": 2
}
