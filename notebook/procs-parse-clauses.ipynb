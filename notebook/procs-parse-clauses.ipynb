{
 "cells": [
  {
   "cell_type": "code",
   "execution_count": 1,
   "metadata": {
    "ExecuteTime": {
     "end_time": "2020-03-12T09:05:36.279003Z",
     "start_time": "2020-03-12T09:05:35.370850Z"
    }
   },
   "outputs": [
    {
     "data": {
      "text/plain": [
       "[{'index': 2,\n",
       "  'text': 'negou',\n",
       "  'lemma': 'negar',\n",
       "  'upos': 'VERB',\n",
       "  'xpos': '_',\n",
       "  'feats': 'Mood=Ind|Number=Sing|Person=3|Tense=Past|VerbForm=Fin',\n",
       "  'governor': 0,\n",
       "  'dependency_relation': 'root',\n",
       "  'entity': [],\n",
       "  'segments': [],\n",
       "  'nsubj': [{'index': 1,\n",
       "    'text': 'Ela',\n",
       "    'lemma': 'ela',\n",
       "    'upos': 'PRON',\n",
       "    'xpos': '_',\n",
       "    'feats': 'Case=Nom|Gender=Fem|Number=Sing|Person=3|PronType=Prs',\n",
       "    'governor': 2,\n",
       "    'dependency_relation': 'nsubj',\n",
       "    'entity': [],\n",
       "    'segments': []}],\n",
       "  'obl': [{'index': 5,\n",
       "    'text': 'mãe',\n",
       "    'lemma': 'mãe',\n",
       "    'upos': 'NOUN',\n",
       "    'xpos': '_',\n",
       "    'feats': 'Gender=Fem|Number=Sing',\n",
       "    'governor': 2,\n",
       "    'dependency_relation': 'obl',\n",
       "    'entity': [],\n",
       "    'segments': [],\n",
       "    'det': [{'index': 4,\n",
       "      'text': 'minha',\n",
       "      'lemma': 'meu',\n",
       "      'upos': 'DET',\n",
       "      'xpos': '_',\n",
       "      'feats': 'Gender=Fem|Number=Sing|PronType=Prs',\n",
       "      'governor': 5,\n",
       "      'dependency_relation': 'det',\n",
       "      'entity': [],\n",
       "      'segments': []}],\n",
       "    'cop': [{'index': 3,\n",
       "      'text': 'ser',\n",
       "      'lemma': 'ser',\n",
       "      'upos': 'AUX',\n",
       "      'xpos': '_',\n",
       "      'feats': 'VerbForm=Inf',\n",
       "      'governor': 5,\n",
       "      'dependency_relation': 'cop',\n",
       "      'entity': [],\n",
       "      'segments': []}]}],\n",
       "  'punct': [{'index': 6,\n",
       "    'text': '.',\n",
       "    'lemma': '.',\n",
       "    'upos': 'PUNCT',\n",
       "    'xpos': '_',\n",
       "    'feats': '_',\n",
       "    'governor': 2,\n",
       "    'dependency_relation': 'punct',\n",
       "    'entity': [],\n",
       "    'segments': []}]}]"
      ]
     },
     "execution_count": 1,
     "metadata": {},
     "output_type": "execute_result"
    }
   ],
   "source": [
    "from sagas.nlu.ruleset_procs import list_words, cached_chunks, get_main_domains\n",
    "from sagas.conf.conf import cf\n",
    "from sagas.tracker_jupyter import enable_jupyter_tracker\n",
    "enable_jupyter_tracker()\n",
    "\n",
    "# She denied being my mother\n",
    "sents='Ela negou ser minha mãe.'\n",
    "lang='pt'\n",
    "domain='verb_domains'\n",
    "chunks = cached_chunks(sents, lang, cf.engine(lang))\n",
    "domains = chunks[domain]\n",
    "domains"
   ]
  },
  {
   "cell_type": "code",
   "execution_count": 2,
   "metadata": {
    "ExecuteTime": {
     "end_time": "2020-03-09T20:35:59.057202Z",
     "start_time": "2020-03-09T20:35:58.997275Z"
    }
   },
   "outputs": [
    {
     "data": {
      "text/plain": [
       "['Ela', 'negou', 'ser', 'minha', 'mãe', '.']"
      ]
     },
     "execution_count": 2,
     "metadata": {},
     "output_type": "execute_result"
    }
   ],
   "source": [
    "[w.text for w in chunks['doc'].words]"
   ]
  },
  {
   "cell_type": "code",
   "execution_count": 2,
   "metadata": {
    "ExecuteTime": {
     "end_time": "2020-03-12T09:05:47.593405Z",
     "start_time": "2020-03-12T09:05:47.500058Z"
    }
   },
   "outputs": [
    {
     "data": {
      "text/plain": [
       "[{'rel': 'cop', 'pos': 'aux', 'word': 'ser/ser'},\n",
       " {'rel': 'det', 'pos': 'det', 'word': 'minha/meu'},\n",
       " {'rel': 'obl', 'pos': 'noun', 'word': 'mãe/mãe'}]"
      ]
     },
     "execution_count": 2,
     "metadata": {},
     "output_type": "execute_result"
    }
   ],
   "source": [
    "from sagas.nlu.uni_chunks import get_chunk\n",
    "import sagas\n",
    "\n",
    "cla='obl'\n",
    "result=get_chunk(chunks, domain, cla, lambda w: sagas.to_obj({'rel':w.dependency_relation, \n",
    "                                                 'pos':w.upos.lower(), \n",
    "                                                 'word':f\"{w.text}/{w.lemma}\"}))\n",
    "result"
   ]
  },
  {
   "cell_type": "code",
   "execution_count": 37,
   "metadata": {
    "ExecuteTime": {
     "end_time": "2020-03-12T13:11:54.238818Z",
     "start_time": "2020-03-12T13:11:54.186298Z"
    }
   },
   "outputs": [
    {
     "data": {
      "text/plain": [
       "[WordData(index=3, rel='cop', pos='aux', word='ser/ser'),\n",
       " WordData(index=4, rel='det', pos='det', word='minha/meu'),\n",
       " WordData(index=5, rel='obl', pos='noun', word='mãe/mãe')]"
      ]
     },
     "execution_count": 37,
     "metadata": {},
     "output_type": "execute_result"
    }
   ],
   "source": [
    "from dataclasses import dataclass\n",
    "@dataclass\n",
    "class WordData:\n",
    "    index: int\n",
    "    rel: str\n",
    "    pos: str\n",
    "    word: str    \n",
    "        \n",
    "cla='obl'\n",
    "ana=get_chunk(chunks, domain, cla, lambda w: WordData(index=w.index,\n",
    "                                               rel=w.dependency_relation, \n",
    "                                               pos=w.upos.lower(), \n",
    "                                               word=f\"{w.text}/{w.lemma}\"))\n",
    "# {e['index']:e for e in ana}\n",
    "ana"
   ]
  },
  {
   "cell_type": "code",
   "execution_count": 38,
   "metadata": {
    "ExecuteTime": {
     "end_time": "2020-03-12T13:12:03.032655Z",
     "start_time": "2020-03-12T13:12:02.964141Z"
    }
   },
   "outputs": [
    {
     "ename": "TypeError",
     "evalue": "'WordData' object is not subscriptable",
     "output_type": "error",
     "traceback": [
      "\u001b[0;31m---------------------------------------------------------------------------\u001b[0m",
      "\u001b[0;31mTypeError\u001b[0m                                 Traceback (most recent call last)",
      "\u001b[0;32m<ipython-input-38-b2fda3d1214b>\u001b[0m in \u001b[0;36m<module>\u001b[0;34m\u001b[0m\n\u001b[0;32m----> 1\u001b[0;31m \u001b[0mana\u001b[0m\u001b[0;34m[\u001b[0m\u001b[0;36m0\u001b[0m\u001b[0;34m]\u001b[0m\u001b[0;34m[\u001b[0m\u001b[0;34m'index'\u001b[0m\u001b[0;34m]\u001b[0m\u001b[0;34m\u001b[0m\u001b[0m\n\u001b[0m",
      "\u001b[0;31mTypeError\u001b[0m: 'WordData' object is not subscriptable"
     ]
    }
   ],
   "source": [
    "ana[0]['index']"
   ]
  },
  {
   "cell_type": "code",
   "execution_count": 12,
   "metadata": {
    "ExecuteTime": {
     "end_time": "2020-03-12T09:23:10.846065Z",
     "start_time": "2020-03-12T09:23:10.838554Z"
    }
   },
   "outputs": [
    {
     "name": "stdout",
     "output_type": "stream",
     "text": [
      "aux: ser/ser\n",
      "None\n",
      "(5, 'mãe/mãe')\n"
     ]
    }
   ],
   "source": [
    "from pampy import match, _\n",
    "# word_data={e['index']:e for e in ana}\n",
    "for word_data in ana:\n",
    "    r=match(word_data, \n",
    "          WordData(_,_, 'aux', _), lambda *arg: f\"aux: {arg[2]}\",\n",
    "          WordData(_,'obl','noun', _), lambda *arg: arg,\n",
    "          _,              None\n",
    "         ) \n",
    "    print(r)"
   ]
  },
  {
   "cell_type": "code",
   "execution_count": 20,
   "metadata": {
    "ExecuteTime": {
     "end_time": "2020-03-12T09:56:33.882624Z",
     "start_time": "2020-03-12T09:56:33.860711Z"
    }
   },
   "outputs": [
    {
     "data": {
      "text/plain": [
       "{'cop': {'rel': 'cop', 'pos': 'aux', 'word': 'ser/ser'},\n",
       " 'det': {'rel': 'det', 'pos': 'det', 'word': 'minha/meu'},\n",
       " 'obl': {'rel': 'obl', 'pos': 'noun', 'word': 'mãe/mãe'}}"
      ]
     },
     "execution_count": 20,
     "metadata": {},
     "output_type": "execute_result"
    }
   ],
   "source": [
    "cla='obl'\n",
    "raw=get_chunk(chunks, domain, cla, lambda w: {'rel':w.dependency_relation, \n",
    "                                              'pos':w.upos.lower(), \n",
    "                                              'word':f\"{w.text}/{w.lemma}\"})\n",
    "{e['rel']:e for e in raw}"
   ]
  },
  {
   "cell_type": "code",
   "execution_count": 27,
   "metadata": {
    "ExecuteTime": {
     "end_time": "2020-03-12T10:02:26.059632Z",
     "start_time": "2020-03-12T10:02:25.989907Z"
    }
   },
   "outputs": [
    {
     "data": {
      "text/plain": [
       "('ser/ser', 'mãe/mãe')"
      ]
     },
     "execution_count": 27,
     "metadata": {},
     "output_type": "execute_result"
    }
   ],
   "source": [
    "rs={e['rel']:e for e in raw}\n",
    "match(rs, { 'cop': { 'word': _ }, 'obl': {'pos':'noun', 'word':_} }, lambda *arg: arg,\n",
    "      _,              \"anything else\"\n",
    "     )        # => 3"
   ]
  },
  {
   "cell_type": "code",
   "execution_count": 36,
   "metadata": {
    "ExecuteTime": {
     "end_time": "2020-03-12T10:07:30.758617Z",
     "start_time": "2020-03-12T10:07:30.749270Z"
    }
   },
   "outputs": [
    {
     "data": {
      "text/plain": [
       "('cop', 'mãe/mãe')"
      ]
     },
     "execution_count": 36,
     "metadata": {},
     "output_type": "execute_result"
    }
   ],
   "source": [
    "rs={e['rel']:e for e in raw}\n",
    "match(rs, { _: { 'pos': 'aux' }, 'obl': {'pos':'noun', 'word':_} }, lambda *arg: arg,\n",
    "      _,              \"anything else\"\n",
    "     )        # => 3"
   ]
  },
  {
   "cell_type": "code",
   "execution_count": 35,
   "metadata": {
    "ExecuteTime": {
     "end_time": "2020-03-12T10:06:50.230715Z",
     "start_time": "2020-03-12T10:06:50.218979Z"
    }
   },
   "outputs": [
    {
     "name": "stdout",
     "output_type": "stream",
     "text": [
      "{'aux': {'rel': 'cop', 'pos': 'aux', 'word': 'ser/ser'}, 'det': {'rel': 'det', 'pos': 'det', 'word': 'minha/meu'}, 'noun': {'rel': 'obl', 'pos': 'noun', 'word': 'mãe/mãe'}}\n"
     ]
    },
    {
     "data": {
      "text/plain": [
       "('cop', 'mãe/mãe')"
      ]
     },
     "execution_count": 35,
     "metadata": {},
     "output_type": "execute_result"
    }
   ],
   "source": [
    "rs={e['pos']:e for e in raw}\n",
    "print(rs)\n",
    "match(rs, { 'aux': { 'rel': _ }, 'noun': {'rel': 'obl', 'word':_} }, lambda *arg: arg,\n",
    "      _,              \"anything else\"\n",
    "     )        # => 3"
   ]
  },
  {
   "cell_type": "code",
   "execution_count": 4,
   "metadata": {
    "ExecuteTime": {
     "end_time": "2020-03-09T20:35:59.408445Z",
     "start_time": "2020-03-09T20:35:59.346715Z"
    }
   },
   "outputs": [
    {
     "name": "stdout",
     "output_type": "stream",
     "text": [
      "ser/ser\n",
      "['entity.n.01', 'organism.n.01', 'animal.n.01', 'debut.v.03', 'exist.v.01', 'be.v.01', 'creature.n.02', 'being.n.01']\n"
     ]
    }
   ],
   "source": [
    "from sagas.nlu.nlu_cli import retrieve_word_info\n",
    "rel='cop'\n",
    "word=next((w.word for w in result if w.rel==rel), None)\n",
    "if word:\n",
    "    print(word)\n",
    "    rs = retrieve_word_info('get_synsets', word, lang, '*')\n",
    "    print(rs)"
   ]
  },
  {
   "cell_type": "code",
   "execution_count": 5,
   "metadata": {
    "ExecuteTime": {
     "end_time": "2020-03-09T20:36:00.209454Z",
     "start_time": "2020-03-09T20:35:59.427854Z"
    }
   },
   "outputs": [
    {
     "data": {
      "text/plain": [
       "True"
      ]
     },
     "execution_count": 5,
     "metadata": {},
     "output_type": "execute_result"
    }
   ],
   "source": [
    "def check_chain(kind, word, pos, lang):\n",
    "    from sagas.nlu.synonyms import synonyms\n",
    "    from sagas.nlu.utils import predicate\n",
    "    \n",
    "    r=synonyms.match(word, lang)\n",
    "    if r is None:\n",
    "        return predicate(kind, word, lang, pos)\n",
    "    return predicate(kind, r, 'en', pos)\n",
    "\n",
    "check_chain('be', word, '*', lang)"
   ]
  },
  {
   "cell_type": "code",
   "execution_count": 6,
   "metadata": {
    "ExecuteTime": {
     "end_time": "2020-03-09T20:36:00.273175Z",
     "start_time": "2020-03-09T20:36:00.238820Z"
    }
   },
   "outputs": [
    {
     "data": {
      "text/plain": [
       "True"
      ]
     },
     "execution_count": 6,
     "metadata": {},
     "output_type": "execute_result"
    }
   ],
   "source": [
    "cats={'be'}\n",
    "any([check_chain(cat, word, '*', lang) for cat in cats])"
   ]
  },
  {
   "cell_type": "code",
   "execution_count": 7,
   "metadata": {
    "ExecuteTime": {
     "end_time": "2020-03-09T20:36:00.363079Z",
     "start_time": "2020-03-09T20:36:00.305215Z"
    }
   },
   "outputs": [
    {
     "data": {
      "text/plain": [
       "True"
      ]
     },
     "execution_count": 7,
     "metadata": {},
     "output_type": "execute_result"
    }
   ],
   "source": [
    "from sagas.nlu.inspector_clauses import check_clause_sub\n",
    "check_clause_sub(sents, 'pt', 'verb_domains', 'obl', 'cop', {'be'})"
   ]
  },
  {
   "cell_type": "code",
   "execution_count": 3,
   "metadata": {
    "ExecuteTime": {
     "end_time": "2020-03-09T21:13:01.674091Z",
     "start_time": "2020-03-09T21:13:01.652552Z"
    }
   },
   "outputs": [
    {
     "data": {
      "text/plain": [
       "True"
      ]
     },
     "execution_count": 3,
     "metadata": {},
     "output_type": "execute_result"
    }
   ],
   "source": [
    "from sagas.nlu.inspector_common import cla_meta\n",
    "from sagas.nlu.inspector_clauses import ClausesInspector as clauses, cla_expr\n",
    "\n",
    "e=cla_expr('verb:obl', cop={'be'})\n",
    "e.run('', cla_meta('Ela negou ser minha mãe.', 'pt'))"
   ]
  }
 ],
 "metadata": {
  "kernelspec": {
   "display_name": "Python 3",
   "language": "python",
   "name": "python3"
  },
  "language_info": {
   "codemirror_mode": {
    "name": "ipython",
    "version": 3
   },
   "file_extension": ".py",
   "mimetype": "text/x-python",
   "name": "python",
   "nbconvert_exporter": "python",
   "pygments_lexer": "ipython3",
   "version": "3.6.6"
  },
  "varInspector": {
   "cols": {
    "lenName": 16,
    "lenType": 16,
    "lenVar": 40
   },
   "kernels_config": {
    "python": {
     "delete_cmd_postfix": "",
     "delete_cmd_prefix": "del ",
     "library": "var_list.py",
     "varRefreshCmd": "print(var_dic_list())"
    },
    "r": {
     "delete_cmd_postfix": ") ",
     "delete_cmd_prefix": "rm(",
     "library": "var_list.r",
     "varRefreshCmd": "cat(var_dic_list()) "
    }
   },
   "types_to_exclude": [
    "module",
    "function",
    "builtin_function_or_method",
    "instance",
    "_Feature"
   ],
   "window_display": false
  }
 },
 "nbformat": 4,
 "nbformat_minor": 2
}
