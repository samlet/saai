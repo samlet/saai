{
 "cells": [
  {
   "cell_type": "code",
   "execution_count": 5,
   "metadata": {
    "ExecuteTime": {
     "end_time": "2020-04-28T09:16:11.888575Z",
     "start_time": "2020-04-28T09:16:11.876450Z"
    }
   },
   "outputs": [
    {
     "data": {
      "text/plain": [
       "'hello'"
      ]
     },
     "execution_count": 5,
     "metadata": {},
     "output_type": "execute_result"
    }
   ],
   "source": [
    "class ExtensionHolder(object):\n",
    "    def __init__(self):\n",
    "        self.attrs={}\n",
    "    def __getattr__(self, attr):\n",
    "        return self.attrs[attr] if attr in self.attrs else None\n",
    "\n",
    "class Tester(object):\n",
    "    def __init__(self):\n",
    "        self._=self.extens=ExtensionHolder()\n",
    "    \n",
    "    def set_extension(self, attr_name, attr_val):\n",
    "        self._.attrs[attr_name]=attr_val\n",
    "#     def __getattr__(self, attr):\n",
    "#         if attr=='_':\n",
    "#             return self.extens\n",
    "#         return None\n",
    "\n",
    "t=Tester()\n",
    "t.set_extension('x','hello')\n",
    "t._.x\n",
    "# extens=ExtensionHolder()\n",
    "# extens.attrs['x']='hello'\n",
    "# extens.x"
   ]
  }
 ],
 "metadata": {
  "kernelspec": {
   "display_name": "Python 3",
   "language": "python",
   "name": "python3"
  },
  "language_info": {
   "codemirror_mode": {
    "name": "ipython",
    "version": 3
   },
   "file_extension": ".py",
   "mimetype": "text/x-python",
   "name": "python",
   "nbconvert_exporter": "python",
   "pygments_lexer": "ipython3",
   "version": "3.6.6"
  },
  "varInspector": {
   "cols": {
    "lenName": 16,
    "lenType": 16,
    "lenVar": 40
   },
   "kernels_config": {
    "python": {
     "delete_cmd_postfix": "",
     "delete_cmd_prefix": "del ",
     "library": "var_list.py",
     "varRefreshCmd": "print(var_dic_list())"
    },
    "r": {
     "delete_cmd_postfix": ") ",
     "delete_cmd_prefix": "rm(",
     "library": "var_list.r",
     "varRefreshCmd": "cat(var_dic_list()) "
    }
   },
   "types_to_exclude": [
    "module",
    "function",
    "builtin_function_or_method",
    "instance",
    "_Feature"
   ],
   "window_display": false
  }
 },
 "nbformat": 4,
 "nbformat_minor": 2
}
