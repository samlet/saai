{
 "cells": [
  {
   "cell_type": "code",
   "execution_count": 7,
   "metadata": {
    "ExecuteTime": {
     "end_time": "2020-03-11T03:18:19.871176Z",
     "start_time": "2020-03-11T03:18:19.832928Z"
    }
   },
   "outputs": [
    {
     "name": "stdout",
     "output_type": "stream",
     "text": [
      "True verb with advmod is ins_cust(check_interr, <lambda>): True\n",
      "True verb with obl is ins_cust(check_interr, <lambda>): True\n"
     ]
    }
   ],
   "source": [
    "from sagas.nlu.parse_client_helper import build_context\n",
    "from sagas.nlu.rules_header import *\n",
    "\n",
    "fixtures=[\n",
    "    ({'lang': 'pt', \"sents\": 'Desde quando você gosta de abacaxi?'},\n",
    "     'verb', dict(advmod=cust(check_interr, lambda w: w == 'since_when'))),\n",
    "    ({'lang': 'pt', \"sents\": 'Por que você não perguntou?'},\n",
    "     'verb', dict(obl=cust(check_interr, lambda w: w=='why'))),\n",
    "]\n",
    "for data, dominator,insp in fixtures:\n",
    "    for ctx,serv in build_context(data, dominator, name='_test_'):\n",
    "        r = serv(**insp)\n",
    "        print(r[1], r[0])"
   ]
  },
  {
   "cell_type": "code",
   "execution_count": 12,
   "metadata": {
    "ExecuteTime": {
     "end_time": "2020-03-11T03:34:00.186930Z",
     "start_time": "2020-03-11T03:34:00.152125Z"
    }
   },
   "outputs": [
    {
     "name": "stdout",
     "output_type": "stream",
     "text": [
      "True verb with pos is behave_of(want,v): True\n",
      "True verb with pos is behave_of(eat,v): True\n"
     ]
    }
   ],
   "source": [
    "fixtures=[\n",
    "    ({'lang': 'en', \"sents\": 'I want to watch a movie'},\n",
    "     'verb', behaveof('want', 'v')),\n",
    "    ({'lang': 'pt', \"sents\": 'Nós comemos massa no restaurante.'},\n",
    "     'verb', behaveof('eat', 'v')),\n",
    "]\n",
    "for data, dominator,insp in fixtures:\n",
    "    for ctx,serv in build_context(data, dominator, name='_test_'):\n",
    "        r = serv(insp)\n",
    "        print(r[1], r[0])"
   ]
  },
  {
   "cell_type": "code",
   "execution_count": 24,
   "metadata": {
    "ExecuteTime": {
     "end_time": "2020-03-11T03:42:35.806877Z",
     "start_time": "2020-03-11T03:42:35.772741Z"
    }
   },
   "outputs": [
    {
     "name": "stdout",
     "output_type": "stream",
     "text": [
      "ok -> verb with pos is behave_of(want,v): True\n"
     ]
    }
   ],
   "source": [
    "from sagas.nlu.parse_client_helper import build_context\n",
    "from sagas.nlu.rules_header import *\n",
    "\n",
    "data={'lang': 'en', \"sents\": 'I want to watch a movie'}\n",
    "ctx,pat=next(build_context(data, 'verb', name='_test_'))\n",
    "r = pat(behaveof('want', 'v'))\n",
    "print('ok' if r[1] else 'fail', '->', r[0])"
   ]
  },
  {
   "cell_type": "code",
   "execution_count": 31,
   "metadata": {
    "ExecuteTime": {
     "end_time": "2020-03-11T03:54:21.948890Z",
     "start_time": "2020-03-11T03:54:21.919048Z"
    }
   },
   "outputs": [
    {
     "name": "stdout",
     "output_type": "stream",
     "text": [
      "ok -> verb with advmod is Inspector('ins_date'): True\n",
      "[{'delivery': 'slot',\n",
      "  'inspector': 'ins_date',\n",
      "  'part': 'advmod',\n",
      "  'pattern': '_test_',\n",
      "  'provider': 'duckling',\n",
      "  'value': [{'body': 'amanhã',\n",
      "             'dim': 'time',\n",
      "             'end': 10,\n",
      "             'latent': False,\n",
      "             'start': 4,\n",
      "             'value': {'grain': 'day',\n",
      "                       'type': 'value',\n",
      "                       'value': '2020-03-11T00:00:00.000-07:00',\n",
      "                       'values': [{'grain': 'day',\n",
      "                                   'type': 'value',\n",
      "                                   'value': '2020-03-11T00:00:00.000-07:00'}]}}]}]\n"
     ]
    }
   ],
   "source": [
    "from pprint import pprint\n",
    "data={'lang': 'pt', \"sents\": 'Eu preciso disso até amanhã.'}\n",
    "ctx,pat=next(build_context(data, 'verb', name='_test_'))\n",
    "r = pat(advmod=dateins('time'))\n",
    "print('ok' if r[1] else 'fail', '->', r[0])\n",
    "pprint(r[3].results)"
   ]
  },
  {
   "cell_type": "code",
   "execution_count": 35,
   "metadata": {
    "ExecuteTime": {
     "end_time": "2020-03-12T07:40:27.888805Z",
     "start_time": "2020-03-12T07:40:27.867837Z"
    }
   },
   "outputs": [
    {
     "name": "stdout",
     "output_type": "stream",
     "text": [
      "ok -> aux with case is c_adp: True\n"
     ]
    }
   ],
   "source": [
    "data={'lang': 'pt', \"sents\": 'Ele está entre meu irmão e minha irmã.'}\n",
    "ctx,pat=next(build_context(data, 'aux', name='_test_'))\n",
    "r = pat(case='c_adp')\n",
    "print('ok' if r[1] else 'fail', '->', r[0])"
   ]
  }
 ],
 "metadata": {
  "kernelspec": {
   "display_name": "Python 3",
   "language": "python",
   "name": "python3"
  },
  "language_info": {
   "codemirror_mode": {
    "name": "ipython",
    "version": 3
   },
   "file_extension": ".py",
   "mimetype": "text/x-python",
   "name": "python",
   "nbconvert_exporter": "python",
   "pygments_lexer": "ipython3",
   "version": "3.6.6"
  },
  "varInspector": {
   "cols": {
    "lenName": 16,
    "lenType": 16,
    "lenVar": 40
   },
   "kernels_config": {
    "python": {
     "delete_cmd_postfix": "",
     "delete_cmd_prefix": "del ",
     "library": "var_list.py",
     "varRefreshCmd": "print(var_dic_list())"
    },
    "r": {
     "delete_cmd_postfix": ") ",
     "delete_cmd_prefix": "rm(",
     "library": "var_list.r",
     "varRefreshCmd": "cat(var_dic_list()) "
    }
   },
   "types_to_exclude": [
    "module",
    "function",
    "builtin_function_or_method",
    "instance",
    "_Feature"
   ],
   "window_display": false
  }
 },
 "nbformat": 4,
 "nbformat_minor": 2
}
