{
 "cells": [
  {
   "cell_type": "code",
   "execution_count": 7,
   "metadata": {
    "ExecuteTime": {
     "end_time": "2020-03-11T03:18:19.871176Z",
     "start_time": "2020-03-11T03:18:19.832928Z"
    }
   },
   "outputs": [
    {
     "name": "stdout",
     "output_type": "stream",
     "text": [
      "True verb with advmod is ins_cust(check_interr, <lambda>): True\n",
      "True verb with obl is ins_cust(check_interr, <lambda>): True\n"
     ]
    }
   ],
   "source": [
    "from sagas.nlu.parse_client_helper import build_context\n",
    "from sagas.nlu.rules_header import *\n",
    "\n",
    "fixtures=[\n",
    "    ({'lang': 'pt', \"sents\": 'Desde quando você gosta de abacaxi?'},\n",
    "     'verb', dict(advmod=cust(check_interr, lambda w: w == 'since_when'))),\n",
    "    ({'lang': 'pt', \"sents\": 'Por que você não perguntou?'},\n",
    "     'verb', dict(obl=cust(check_interr, lambda w: w=='why'))),\n",
    "]\n",
    "for data, dominator,insp in fixtures:\n",
    "    for ctx,serv in build_context(data, dominator, name='_test_'):\n",
    "        r = serv(**insp)\n",
    "        print(r[1], r[0])"
   ]
  },
  {
   "cell_type": "code",
   "execution_count": 12,
   "metadata": {
    "ExecuteTime": {
     "end_time": "2020-03-11T03:34:00.186930Z",
     "start_time": "2020-03-11T03:34:00.152125Z"
    }
   },
   "outputs": [
    {
     "name": "stdout",
     "output_type": "stream",
     "text": [
      "True verb with pos is behave_of(want,v): True\n",
      "True verb with pos is behave_of(eat,v): True\n"
     ]
    }
   ],
   "source": [
    "fixtures=[\n",
    "    ({'lang': 'en', \"sents\": 'I want to watch a movie'},\n",
    "     'verb', behaveof('want', 'v')),\n",
    "    ({'lang': 'pt', \"sents\": 'Nós comemos massa no restaurante.'},\n",
    "     'verb', behaveof('eat', 'v')),\n",
    "]\n",
    "for data, dominator,insp in fixtures:\n",
    "    for ctx,serv in build_context(data, dominator, name='_test_'):\n",
    "        r = serv(insp)\n",
    "        print(r[1], r[0])"
   ]
  },
  {
   "cell_type": "code",
   "execution_count": 24,
   "metadata": {
    "ExecuteTime": {
     "end_time": "2020-03-11T03:42:35.806877Z",
     "start_time": "2020-03-11T03:42:35.772741Z"
    }
   },
   "outputs": [
    {
     "name": "stdout",
     "output_type": "stream",
     "text": [
      "ok -> verb with pos is behave_of(want,v): True\n"
     ]
    }
   ],
   "source": [
    "from sagas.nlu.parse_client_helper import build_context\n",
    "from sagas.nlu.rules_header import *\n",
    "\n",
    "data={'lang': 'en', \"sents\": 'I want to watch a movie'}\n",
    "ctx,pat=next(build_context(data, 'verb', name='_test_'))\n",
    "r = pat(behaveof('want', 'v'))\n",
    "print('ok' if r[1] else 'fail', '->', r[0])"
   ]
  },
  {
   "cell_type": "code",
   "execution_count": 31,
   "metadata": {
    "ExecuteTime": {
     "end_time": "2020-03-11T03:54:21.948890Z",
     "start_time": "2020-03-11T03:54:21.919048Z"
    }
   },
   "outputs": [
    {
     "name": "stdout",
     "output_type": "stream",
     "text": [
      "ok -> verb with advmod is Inspector('ins_date'): True\n",
      "[{'delivery': 'slot',\n",
      "  'inspector': 'ins_date',\n",
      "  'part': 'advmod',\n",
      "  'pattern': '_test_',\n",
      "  'provider': 'duckling',\n",
      "  'value': [{'body': 'amanhã',\n",
      "             'dim': 'time',\n",
      "             'end': 10,\n",
      "             'latent': False,\n",
      "             'start': 4,\n",
      "             'value': {'grain': 'day',\n",
      "                       'type': 'value',\n",
      "                       'value': '2020-03-11T00:00:00.000-07:00',\n",
      "                       'values': [{'grain': 'day',\n",
      "                                   'type': 'value',\n",
      "                                   'value': '2020-03-11T00:00:00.000-07:00'}]}}]}]\n"
     ]
    }
   ],
   "source": [
    "from pprint import pprint\n",
    "data={'lang': 'pt', \"sents\": 'Eu preciso disso até amanhã.'}\n",
    "ctx,pat=next(build_context(data, 'verb', name='_test_'))\n",
    "r = pat(advmod=dateins('time'))\n",
    "print('ok' if r[1] else 'fail', '->', r[0])\n",
    "pprint(r[3].results)"
   ]
  },
  {
   "cell_type": "code",
   "execution_count": 35,
   "metadata": {
    "ExecuteTime": {
     "end_time": "2020-03-12T07:40:27.888805Z",
     "start_time": "2020-03-12T07:40:27.867837Z"
    }
   },
   "outputs": [
    {
     "name": "stdout",
     "output_type": "stream",
     "text": [
      "ok -> aux with case is c_adp: True\n"
     ]
    }
   ],
   "source": [
    "data={'lang': 'pt', \"sents\": 'Ele está entre meu irmão e minha irmã.'}\n",
    "ctx,pat=next(build_context(data, 'aux', name='_test_'))\n",
    "r = pat(case='c_adp')\n",
    "print('ok' if r[1] else 'fail', '->', r[0])"
   ]
  },
  {
   "cell_type": "code",
   "execution_count": 5,
   "metadata": {
    "ExecuteTime": {
     "end_time": "2020-03-13T00:54:58.694607Z",
     "start_time": "2020-03-13T00:54:58.662160Z"
    }
   },
   "outputs": [
    {
     "data": {
      "text/plain": [
       "True"
      ]
     },
     "execution_count": 5,
     "metadata": {},
     "output_type": "execute_result"
    }
   ],
   "source": [
    "from sagas.nlu.parse_client_helper import build_context\n",
    "from sagas.nlu.rules_header import *\n",
    "\n",
    "data={'lang': 'pt', \"sents\": 'A cobra fala com o menino.'}\n",
    "ctx,pat=next(build_context(data, 'aux', name='_test_'))\n",
    "\n",
    "all_of=lambda *arg: all([r[1] for r in arg])\n",
    "r = all_of(pat(nsubj='c_noun'), pat(nsubj=kindof('entity', 'n')))\n",
    "r"
   ]
  },
  {
   "cell_type": "code",
   "execution_count": 2,
   "metadata": {
    "ExecuteTime": {
     "end_time": "2020-03-17T07:25:43.951469Z",
     "start_time": "2020-03-17T07:25:39.253773Z"
    }
   },
   "outputs": [
    {
     "data": {
      "text/plain": [
       "True"
      ]
     },
     "execution_count": 2,
     "metadata": {},
     "output_type": "execute_result"
    }
   ],
   "source": [
    "from sagas.nlu.parse_client_helper import build_context\n",
    "from sagas.nlu.rules_header import *\n",
    "\n",
    "data={'lang': 'pt', \"sents\": 'A folha tem vinte centímetros.'}\n",
    "ctx,pat=next(build_context(data, 'verb', name='_test_'))\n",
    "\n",
    "all_of=lambda *arg: all([r[1] for r in arg])\n",
    "r = all_of(pat(obj=kindof('unit_of_measurement', 'n')))\n",
    "r"
   ]
  },
  {
   "cell_type": "code",
   "execution_count": 2,
   "metadata": {
    "ExecuteTime": {
     "end_time": "2020-03-17T07:35:43.946220Z",
     "start_time": "2020-03-17T07:35:43.914201Z"
    }
   },
   "outputs": [
    {
     "name": "stdout",
     "output_type": "stream",
     "text": [
      "corenlp_western\n"
     ]
    },
    {
     "data": {
      "text/plain": [
       "(False, \"verb with verify fail: {'engine': 'spacy'}\")"
      ]
     },
     "execution_count": 2,
     "metadata": {},
     "output_type": "execute_result"
    }
   ],
   "source": [
    "from sagas.nlu.parse_client_helper import build_context\n",
    "from sagas.nlu.rules_header import *\n",
    "\n",
    "data={'lang': 'pt', \"sents\": 'A folha tem vinte centímetros.'}\n",
    "ctx,pat=next(build_context(data, 'verb', name='_test_', engine='spacy'))\n",
    "# ctx,pat=next(build_context(data, 'verb', name='_test_', engine='corenlp'))\n",
    "print(ctx.engine)\n",
    "\n",
    "all_of=lambda *arg: all([r[1] for r in arg])\n",
    "rs=pat(obj=kindof('unit_of_measurement', 'n'))\n",
    "(rs[1], rs[0])"
   ]
  },
  {
   "cell_type": "code",
   "execution_count": 1,
   "metadata": {
    "ExecuteTime": {
     "end_time": "2020-03-17T05:45:29.154283Z",
     "start_time": "2020-03-17T05:45:27.835753Z"
    }
   },
   "outputs": [
    {
     "data": {
      "text/plain": [
       "True"
      ]
     },
     "execution_count": 1,
     "metadata": {},
     "output_type": "execute_result"
    }
   ],
   "source": [
    "from sagas.nlu.parse_client_helper import build_context\n",
    "from sagas.nlu.rules_header import *\n",
    "\n",
    "# Please drive slowly.\n",
    "data={'lang': 'af', \"sents\": 'Ry asseblief stadiger.'}\n",
    "ctx,pat=next(build_context(data, 'verb', name='_test_'))\n",
    "\n",
    "all_of=lambda *arg: all([r[1] for r in arg])\n",
    "r = all_of(pat(advmod=specs_trans('*', 'slow', 'fast').opt(raw_fmt=raw_fmt_pos)))\n",
    "r"
   ]
  },
  {
   "cell_type": "code",
   "execution_count": 2,
   "metadata": {
    "ExecuteTime": {
     "end_time": "2020-03-17T04:39:37.822187Z",
     "start_time": "2020-03-17T04:39:37.811749Z"
    }
   },
   "outputs": [
    {
     "data": {
      "text/plain": [
       "['asseblief/asseblief', 'stadiger/stadig']"
      ]
     },
     "execution_count": 2,
     "metadata": {},
     "output_type": "execute_result"
    }
   ],
   "source": [
    "ctx.tokens['advmod']"
   ]
  },
  {
   "cell_type": "code",
   "execution_count": 3,
   "metadata": {
    "ExecuteTime": {
     "end_time": "2020-03-17T04:53:02.362965Z",
     "start_time": "2020-03-17T04:53:02.354225Z"
    }
   },
   "outputs": [
    {
     "data": {
      "text/plain": [
       "['c_adv', 'x_bv']"
      ]
     },
     "execution_count": 3,
     "metadata": {},
     "output_type": "execute_result"
    }
   ],
   "source": [
    "ctx.feats['advmod']"
   ]
  },
  {
   "cell_type": "code",
   "execution_count": 5,
   "metadata": {
    "ExecuteTime": {
     "end_time": "2020-03-15T07:07:28.259141Z",
     "start_time": "2020-03-15T07:07:28.248311Z"
    }
   },
   "outputs": [
    {
     "data": {
      "text/plain": [
       "False"
      ]
     },
     "execution_count": 5,
     "metadata": {},
     "output_type": "execute_result"
    }
   ],
   "source": [
    "def starts_with_in(w, *args):\n",
    "    return any(w.startswith(arg) for arg in args)\n",
    "starts_with_in('obl:x', 'verb:', 'aux:', 'subj:', 'predicts:')"
   ]
  },
  {
   "cell_type": "code",
   "execution_count": 1,
   "metadata": {
    "ExecuteTime": {
     "end_time": "2020-03-17T03:55:07.210686Z",
     "start_time": "2020-03-17T03:55:02.555079Z"
    }
   },
   "outputs": [
    {
     "data": {
      "text/plain": [
       "{'expl:pv', 'obl:arg', 'punct'}"
      ]
     },
     "execution_count": 1,
     "metadata": {},
     "output_type": "execute_result"
    }
   ],
   "source": [
    "from sagas.nlu.parse_client_helper import build_context\n",
    "from sagas.nlu.rules_header import *\n",
    "\n",
    "data={'lang': 'cs', \"sents\": 'Staráme se o Žofii.'}\n",
    "ctx,pat=next(build_context(data, 'verb', name='_test_'))\n",
    "{x[0] for x in ctx.domains}"
   ]
  },
  {
   "cell_type": "code",
   "execution_count": 5,
   "metadata": {
    "ExecuteTime": {
     "end_time": "2020-03-17T03:56:31.443681Z",
     "start_time": "2020-03-17T03:56:31.434549Z"
    }
   },
   "outputs": [
    {
     "data": {
      "text/plain": [
       "['c_propn', 'x_nnfs4-----a----']"
      ]
     },
     "execution_count": 5,
     "metadata": {},
     "output_type": "execute_result"
    }
   ],
   "source": [
    "ctx.feats['obl:arg']"
   ]
  },
  {
   "cell_type": "code",
   "execution_count": 1,
   "metadata": {
    "ExecuteTime": {
     "end_time": "2020-03-19T12:46:44.796346Z",
     "start_time": "2020-03-19T12:46:43.968961Z"
    }
   },
   "outputs": [],
   "source": [
    "from sagas.nlu.nlu_startup import NluStartup\n",
    "NluStartup().start()"
   ]
  },
  {
   "cell_type": "code",
   "execution_count": 2,
   "metadata": {
    "ExecuteTime": {
     "end_time": "2020-03-19T12:46:46.530135Z",
     "start_time": "2020-03-19T12:46:46.031332Z"
    }
   },
   "outputs": [
    {
     "name": "stdout",
     "output_type": "stream",
     "text": [
      "corenlp_western\n",
      "track from 'inform', data {'key': 'tem/ter', 'ctx': context for pattern _test_, keys: punct, nsubj, obj}\n"
     ]
    },
    {
     "data": {
      "text/plain": [
       "(True,\n",
       " 'verb with obj is kind_of(unit_of_measurement,n): True, pos is ins_inform(track|{}): True',\n",
       " [{'inspector': 'kind_of',\n",
       "   'provider': 'default',\n",
       "   'part': 'obj',\n",
       "   'value': {'category': 'unit_of_measurement',\n",
       "    'pos': 'n',\n",
       "    'word': 'centímetros/centímetro'},\n",
       "   'delivery': 'sentence',\n",
       "   'pattern': '_test_'},\n",
       "  {'inspector': 'inform',\n",
       "   'provider': 'console_track',\n",
       "   'part': 'tem/ter',\n",
       "   'value': datetime.datetime(2020, 3, 19, 20, 46, 46, 520751),\n",
       "   'delivery': 'slot',\n",
       "   'pattern': '_test_'}])"
      ]
     },
     "execution_count": 2,
     "metadata": {},
     "output_type": "execute_result"
    }
   ],
   "source": [
    "from sagas.nlu.parse_client_helper import build_context\n",
    "from sagas.nlu.rules_header import *\n",
    "\n",
    "data={'lang': 'pt', \"sents\": 'A folha tem vinte centímetros.'}\n",
    "ctx,pat=next(build_context(data, 'verb', name='_test_', engine='corenlp'))\n",
    "print(ctx.engine)\n",
    "\n",
    "all_of=lambda *arg: all([r[1] for r in arg])\n",
    "rs=pat(inform('track'), obj=kindof('unit_of_measurement', 'n'))\n",
    "(rs[1], rs[0], rs[3].results)"
   ]
  }
 ],
 "metadata": {
  "kernelspec": {
   "display_name": "Python 3",
   "language": "python",
   "name": "python3"
  },
  "language_info": {
   "codemirror_mode": {
    "name": "ipython",
    "version": 3
   },
   "file_extension": ".py",
   "mimetype": "text/x-python",
   "name": "python",
   "nbconvert_exporter": "python",
   "pygments_lexer": "ipython3",
   "version": "3.6.6"
  },
  "varInspector": {
   "cols": {
    "lenName": 16,
    "lenType": 16,
    "lenVar": 40
   },
   "kernels_config": {
    "python": {
     "delete_cmd_postfix": "",
     "delete_cmd_prefix": "del ",
     "library": "var_list.py",
     "varRefreshCmd": "print(var_dic_list())"
    },
    "r": {
     "delete_cmd_postfix": ") ",
     "delete_cmd_prefix": "rm(",
     "library": "var_list.r",
     "varRefreshCmd": "cat(var_dic_list()) "
    }
   },
   "types_to_exclude": [
    "module",
    "function",
    "builtin_function_or_method",
    "instance",
    "_Feature"
   ],
   "window_display": false
  }
 },
 "nbformat": 4,
 "nbformat_minor": 2
}
