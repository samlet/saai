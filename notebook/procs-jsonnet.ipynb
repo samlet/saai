{
 "cells": [
  {
   "cell_type": "code",
   "execution_count": 1,
   "metadata": {
    "ExecuteTime": {
     "end_time": "2020-06-22T11:49:39.794073Z",
     "start_time": "2020-06-22T11:49:39.748323Z"
    }
   },
   "outputs": [
    {
     "name": "stdout",
     "output_type": "stream",
     "text": [
      "person1 is Alice, greeted by \"Hello Alice!\"\n",
      "person2 is Bob, greeted by \"Hello Bob!\"\n"
     ]
    }
   ],
   "source": [
    "import json\n",
    "import _jsonnet\n",
    "\n",
    "jsonnet_str = '''\n",
    "{\n",
    "  person1: {\n",
    "    name: \"Alice\",\n",
    "    welcome: \"Hello \" + self.name + \"!\",\n",
    "  },\n",
    "  person2: self.person1 {\n",
    "    name: std.extVar(\"OTHER_NAME\"),\n",
    "  },\n",
    "}\n",
    "'''\n",
    "\n",
    "json_str = _jsonnet.evaluate_snippet(\n",
    "    \"snippet\", jsonnet_str,\n",
    "    ext_vars={'OTHER_NAME': 'Bob'})\n",
    "\n",
    "json_obj = json.loads(json_str)\n",
    "for person_id, person in json_obj.items():\n",
    "    print('%s is %s, greeted by \"%s\"' % (person_id,\n",
    "                                         person['name'],\n",
    "                                         person['welcome']))"
   ]
  }
 ],
 "metadata": {
  "kernelspec": {
   "display_name": "Python 3",
   "language": "python",
   "name": "python3"
  },
  "language_info": {
   "codemirror_mode": {
    "name": "ipython",
    "version": 3
   },
   "file_extension": ".py",
   "mimetype": "text/x-python",
   "name": "python",
   "nbconvert_exporter": "python",
   "pygments_lexer": "ipython3",
   "version": "3.7.7"
  },
  "varInspector": {
   "cols": {
    "lenName": 16,
    "lenType": 16,
    "lenVar": 40
   },
   "kernels_config": {
    "python": {
     "delete_cmd_postfix": "",
     "delete_cmd_prefix": "del ",
     "library": "var_list.py",
     "varRefreshCmd": "print(var_dic_list())"
    },
    "r": {
     "delete_cmd_postfix": ") ",
     "delete_cmd_prefix": "rm(",
     "library": "var_list.r",
     "varRefreshCmd": "cat(var_dic_list()) "
    }
   },
   "types_to_exclude": [
    "module",
    "function",
    "builtin_function_or_method",
    "instance",
    "_Feature"
   ],
   "window_display": false
  }
 },
 "nbformat": 4,
 "nbformat_minor": 4
}
