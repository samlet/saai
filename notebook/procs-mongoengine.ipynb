{
 "cells": [
  {
   "cell_type": "code",
   "execution_count": 1,
   "metadata": {
    "ExecuteTime": {
     "end_time": "2020-03-04T17:15:06.484492Z",
     "start_time": "2020-03-04T17:15:06.284764Z"
    }
   },
   "outputs": [
    {
     "data": {
      "text/plain": [
       "MongoClient(host=['localhost:27017'], document_class=dict, tz_aware=False, connect=True, read_preference=Primary())"
      ]
     },
     "execution_count": 1,
     "metadata": {},
     "output_type": "execute_result"
    }
   ],
   "source": [
    "from mongoengine import *\n",
    "connect('mydb')"
   ]
  },
  {
   "cell_type": "code",
   "execution_count": 3,
   "metadata": {
    "ExecuteTime": {
     "end_time": "2020-03-04T17:15:31.237082Z",
     "start_time": "2020-03-04T17:15:31.217973Z"
    }
   },
   "outputs": [],
   "source": [
    "import datetime\n",
    "class BlogPost(Document):\n",
    "    title = StringField(required=True, max_length=200)\n",
    "    posted = DateTimeField(default=datetime.datetime.utcnow)\n",
    "    tags = ListField(StringField(max_length=50))\n",
    "    meta = {'allow_inheritance': True}\n",
    "\n",
    "class TextPost(BlogPost):\n",
    "    content = StringField(required=True)\n",
    "\n",
    "class LinkPost(BlogPost):\n",
    "    url = StringField(required=True)"
   ]
  },
  {
   "cell_type": "code",
   "execution_count": 4,
   "metadata": {
    "ExecuteTime": {
     "end_time": "2020-03-04T17:15:40.769989Z",
     "start_time": "2020-03-04T17:15:40.421250Z"
    }
   },
   "outputs": [
    {
     "data": {
      "text/plain": [
       "<TextPost: TextPost object>"
      ]
     },
     "execution_count": 4,
     "metadata": {},
     "output_type": "execute_result"
    }
   ],
   "source": [
    "# Create a text-based post\n",
    ">>> post1 = TextPost(title='Using MongoEngine', content='See the tutorial')\n",
    ">>> post1.tags = ['mongodb', 'mongoengine']\n",
    ">>> post1.save()"
   ]
  },
  {
   "cell_type": "code",
   "execution_count": 5,
   "metadata": {
    "ExecuteTime": {
     "end_time": "2020-03-04T17:15:49.652610Z",
     "start_time": "2020-03-04T17:15:49.608512Z"
    }
   },
   "outputs": [
    {
     "data": {
      "text/plain": [
       "<LinkPost: LinkPost object>"
      ]
     },
     "execution_count": 5,
     "metadata": {},
     "output_type": "execute_result"
    }
   ],
   "source": [
    "# Create a link-based post\n",
    ">>> post2 = LinkPost(title='MongoEngine Docs', url='hmarr.com/mongoengine')\n",
    ">>> post2.tags = ['mongoengine', 'documentation']\n",
    ">>> post2.save()"
   ]
  },
  {
   "cell_type": "code",
   "execution_count": 6,
   "metadata": {
    "ExecuteTime": {
     "end_time": "2020-03-04T17:15:56.805843Z",
     "start_time": "2020-03-04T17:15:56.677593Z"
    }
   },
   "outputs": [
    {
     "name": "stdout",
     "output_type": "stream",
     "text": [
      "=== MongoEngine Docs ===\n",
      "Link: hmarr.com/mongoengine\n",
      "=== Using MongoEngine ===\n",
      "See the tutorial\n"
     ]
    }
   ],
   "source": [
    "# Iterate over all posts using the BlogPost superclass\n",
    "for post in BlogPost.objects:\n",
    "    print('===', post.title, '===')\n",
    "    if isinstance(post, TextPost):\n",
    "        print(post.content)\n",
    "    elif isinstance(post, LinkPost):\n",
    "        print('Link:', post.url)"
   ]
  },
  {
   "cell_type": "code",
   "execution_count": 7,
   "metadata": {
    "ExecuteTime": {
     "end_time": "2020-03-04T17:16:08.998646Z",
     "start_time": "2020-03-04T17:16:08.950817Z"
    }
   },
   "outputs": [
    {
     "data": {
      "text/plain": [
       "2"
      ]
     },
     "execution_count": 7,
     "metadata": {},
     "output_type": "execute_result"
    }
   ],
   "source": [
    "# Count all blog posts and its subtypes\n",
    ">>> BlogPost.objects.count()"
   ]
  },
  {
   "cell_type": "code",
   "execution_count": 8,
   "metadata": {
    "ExecuteTime": {
     "end_time": "2020-03-04T17:16:15.226178Z",
     "start_time": "2020-03-04T17:16:15.162079Z"
    }
   },
   "outputs": [
    {
     "data": {
      "text/plain": [
       "1"
      ]
     },
     "execution_count": 8,
     "metadata": {},
     "output_type": "execute_result"
    }
   ],
   "source": [
    "TextPost.objects.count()"
   ]
  },
  {
   "cell_type": "code",
   "execution_count": 9,
   "metadata": {
    "ExecuteTime": {
     "end_time": "2020-03-04T17:16:21.751570Z",
     "start_time": "2020-03-04T17:16:21.726957Z"
    }
   },
   "outputs": [
    {
     "data": {
      "text/plain": [
       "1"
      ]
     },
     "execution_count": 9,
     "metadata": {},
     "output_type": "execute_result"
    }
   ],
   "source": [
    "LinkPost.objects.count()"
   ]
  },
  {
   "cell_type": "code",
   "execution_count": 10,
   "metadata": {
    "ExecuteTime": {
     "end_time": "2020-03-04T17:16:31.730193Z",
     "start_time": "2020-03-04T17:16:31.664670Z"
    }
   },
   "outputs": [
    {
     "data": {
      "text/plain": [
       "2"
      ]
     },
     "execution_count": 10,
     "metadata": {},
     "output_type": "execute_result"
    }
   ],
   "source": [
    "# Count tagged posts\n",
    ">>> BlogPost.objects(tags='mongoengine').count()"
   ]
  },
  {
   "cell_type": "code",
   "execution_count": 11,
   "metadata": {
    "ExecuteTime": {
     "end_time": "2020-03-04T17:16:40.435732Z",
     "start_time": "2020-03-04T17:16:40.401040Z"
    }
   },
   "outputs": [
    {
     "data": {
      "text/plain": [
       "1"
      ]
     },
     "execution_count": 11,
     "metadata": {},
     "output_type": "execute_result"
    }
   ],
   "source": [
    ">>> BlogPost.objects(tags='mongodb').count()"
   ]
  }
 ],
 "metadata": {
  "kernelspec": {
   "display_name": "Python 3",
   "language": "python",
   "name": "python3"
  },
  "language_info": {
   "codemirror_mode": {
    "name": "ipython",
    "version": 3
   },
   "file_extension": ".py",
   "mimetype": "text/x-python",
   "name": "python",
   "nbconvert_exporter": "python",
   "pygments_lexer": "ipython3",
   "version": "3.6.6"
  },
  "varInspector": {
   "cols": {
    "lenName": 16,
    "lenType": 16,
    "lenVar": 40
   },
   "kernels_config": {
    "python": {
     "delete_cmd_postfix": "",
     "delete_cmd_prefix": "del ",
     "library": "var_list.py",
     "varRefreshCmd": "print(var_dic_list())"
    },
    "r": {
     "delete_cmd_postfix": ") ",
     "delete_cmd_prefix": "rm(",
     "library": "var_list.r",
     "varRefreshCmd": "cat(var_dic_list()) "
    }
   },
   "types_to_exclude": [
    "module",
    "function",
    "builtin_function_or_method",
    "instance",
    "_Feature"
   ],
   "window_display": false
  }
 },
 "nbformat": 4,
 "nbformat_minor": 2
}
