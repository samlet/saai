{
 "cells": [
  {
   "cell_type": "code",
   "execution_count": 17,
   "metadata": {
    "ExecuteTime": {
     "end_time": "2020-03-26T07:37:36.701944Z",
     "start_time": "2020-03-26T07:37:36.691404Z"
    }
   },
   "outputs": [
    {
     "data": {
      "text/plain": [
       "'facts'"
      ]
     },
     "execution_count": 17,
     "metadata": {},
     "output_type": "execute_result"
    }
   ],
   "source": [
    "from sagas.nlu.inspectors import NamedArgInspector\n",
    "from sagas.nlu.inspector_common import Inspector, Context\n",
    "\n",
    "class FactsInspector(NamedArgInspector):\n",
    "    def run(self, key, ctx:Context):\n",
    "        lemma = ctx.lemmas[key]\n",
    "        return False\n",
    "\n",
    "facts=FactsInspector\n",
    "facts_a=facts('')\n",
    "facts_a.name()"
   ]
  },
  {
   "cell_type": "code",
   "execution_count": 18,
   "metadata": {
    "ExecuteTime": {
     "end_time": "2020-03-26T07:37:39.446605Z",
     "start_time": "2020-03-26T07:37:39.433562Z"
    }
   },
   "outputs": [
    {
     "data": {
      "text/plain": [
       "ins_facts(fact(part='/obj', roles={'x': 'len'}, cat='person'))"
      ]
     },
     "execution_count": 18,
     "metadata": {},
     "output_type": "execute_result"
    }
   ],
   "source": [
    "from typing import Text, Any, Dict, List, Union, Optional\n",
    "from dataclasses import dataclass\n",
    "@dataclass\n",
    "class fact:\n",
    "    part: str\n",
    "    roles: Optional[Dict]\n",
    "    cat: Optional[str]\n",
    "    \n",
    "    def __init__(self, part):\n",
    "        self.part=part\n",
    "        self.roles={}\n",
    "        self.cat=''\n",
    "\n",
    "    def is_cat(self, cat):\n",
    "        self.cat=cat\n",
    "        return self\n",
    "\n",
    "    def with_roles(self, **roles):\n",
    "        self.roles=roles\n",
    "        return self\n",
    "    def into(self, ins):\n",
    "        return ins(self)\n",
    "\n",
    "fact('/obj').is_cat('person').with_roles(x='len').into(facts)"
   ]
  },
  {
   "cell_type": "code",
   "execution_count": 21,
   "metadata": {
    "ExecuteTime": {
     "end_time": "2020-03-26T07:48:35.898719Z",
     "start_time": "2020-03-26T07:48:35.890474Z"
    }
   },
   "outputs": [
    {
     "data": {
      "text/plain": [
       "{'part': '/obj', 'roles': {'x': 'len'}, 'cat': 'person'}"
      ]
     },
     "execution_count": 21,
     "metadata": {},
     "output_type": "execute_result"
    }
   ],
   "source": [
    "fact('/obj').is_cat('person').with_roles(x='len').__dict__"
   ]
  },
  {
   "cell_type": "code",
   "execution_count": 20,
   "metadata": {
    "ExecuteTime": {
     "end_time": "2020-03-26T07:46:25.392181Z",
     "start_time": "2020-03-26T07:46:25.380204Z"
    }
   },
   "outputs": [
    {
     "data": {
      "text/plain": [
       "'fact'"
      ]
     },
     "execution_count": 20,
     "metadata": {},
     "output_type": "execute_result"
    }
   ],
   "source": [
    "type(fact('/obj')).__name__"
   ]
  }
 ],
 "metadata": {
  "kernelspec": {
   "display_name": "Python 3",
   "language": "python",
   "name": "python3"
  },
  "language_info": {
   "codemirror_mode": {
    "name": "ipython",
    "version": 3
   },
   "file_extension": ".py",
   "mimetype": "text/x-python",
   "name": "python",
   "nbconvert_exporter": "python",
   "pygments_lexer": "ipython3",
   "version": "3.6.6"
  },
  "varInspector": {
   "cols": {
    "lenName": 16,
    "lenType": 16,
    "lenVar": 40
   },
   "kernels_config": {
    "python": {
     "delete_cmd_postfix": "",
     "delete_cmd_prefix": "del ",
     "library": "var_list.py",
     "varRefreshCmd": "print(var_dic_list())"
    },
    "r": {
     "delete_cmd_postfix": ") ",
     "delete_cmd_prefix": "rm(",
     "library": "var_list.r",
     "varRefreshCmd": "cat(var_dic_list()) "
    }
   },
   "types_to_exclude": [
    "module",
    "function",
    "builtin_function_or_method",
    "instance",
    "_Feature"
   ],
   "window_display": false
  }
 },
 "nbformat": 4,
 "nbformat_minor": 2
}
