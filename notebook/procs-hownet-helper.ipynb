{
 "cells": [
  {
   "cell_type": "code",
   "execution_count": 27,
   "metadata": {
    "ExecuteTime": {
     "end_time": "2020-03-18T15:05:17.075163Z",
     "start_time": "2020-03-18T15:05:17.050589Z"
    }
   },
   "outputs": [
    {
     "data": {
      "text/plain": [
       "[{'word': {'Def': '{human|人:domain={education|教育},{study|学习:agent={~},location={InstitutePlace|场所:domain={education|教育},modifier={HighRank|高等},{study|学习:location={~}},{teach|教:location={~}}}}}',\n",
       "   'en_grammar': 'noun',\n",
       "   'ch_grammar': 'noun',\n",
       "   'No': '041405',\n",
       "   'syn': [{'id': '018725', 'text': '本科生'},\n",
       "    {'id': '041583', 'text': '大专生'},\n",
       "    {'id': '105566', 'text': '理工科学生'},\n",
       "    {'id': '199685', 'text': '在读大学生'},\n",
       "    {'id': '199686', 'text': '在读大学生'},\n",
       "    {'id': '199854', 'text': '在校生'},\n",
       "    {'id': '199855', 'text': '在校生'},\n",
       "    {'id': '054189', 'text': '法学院学生'},\n",
       "    {'id': '115413', 'text': '美院学生'},\n",
       "    {'id': '189009', 'text': '医科学生'},\n",
       "    {'id': '189010', 'text': '医科学生'},\n",
       "    {'id': '189073', 'text': '医务助理学生'},\n",
       "    {'id': '034287', 'text': '初中生'},\n",
       "    {'id': '056419', 'text': '放学回家挂钥匙的学生'},\n",
       "    {'id': '063723', 'text': '高中生'},\n",
       "    {'id': '120511', 'text': '男生'},\n",
       "    {'id': '123460', 'text': '女生'},\n",
       "    {'id': '177417', 'text': '小女生'},\n",
       "    {'id': '177676', 'text': '小学生'},\n",
       "    {'id': '177677', 'text': '小学生'}],\n",
       "   'ch_word': '大学生',\n",
       "   'en_word': 'university student'},\n",
       "  'tree': {'role': 'sense',\n",
       "   'name': '大学生',\n",
       "   'children': [{'role': 'None',\n",
       "     'name': 'human|人',\n",
       "     'children': [{'role': 'domain', 'name': 'education|教育'},\n",
       "      {'role': 'agent',\n",
       "       'name': 'study|学习',\n",
       "       'children': [{'role': 'location',\n",
       "         'name': 'InstitutePlace|场所',\n",
       "         'children': [{'role': 'domain', 'name': 'education|教育'},\n",
       "          {'role': 'modifier', 'name': 'HighRank|高等'},\n",
       "          {'role': 'location', 'name': 'study|学习'},\n",
       "          {'role': 'location', 'name': 'teach|教'}]}]}]}]}}]"
      ]
     },
     "execution_count": 27,
     "metadata": {},
     "output_type": "execute_result"
    }
   ],
   "source": [
    "from sagas.tool.servant_delegator import Delegator\n",
    "from sagas.zh.hownet_helper import vis_trees\n",
    "\n",
    "word='大学生'\n",
    "# trees = hownet_procs.build_sememe_trees(word)\n",
    "trees=Delegator().sememes(word=word)\n",
    "trees"
   ]
  },
  {
   "cell_type": "code",
   "execution_count": 19,
   "metadata": {
    "ExecuteTime": {
     "end_time": "2020-03-18T14:40:59.060755Z",
     "start_time": "2020-03-18T14:40:59.028586Z"
    }
   },
   "outputs": [
    {
     "data": {
      "text/plain": [
       "SenseWord(definition='{human|人:domain={education|教育},{study|学习:agent={~},location={InstitutePlace|场所:domain={education|教育},modifier={HighRank|高等},{study|学习:location={~}},{teach|教:location={~}}}}}', en_grammar='noun', zh_grammar='noun', en_word='university student', zh_word='大学生', id='041405', syns=[SenseSyn(id='018725', text='本科生'), SenseSyn(id='041583', text='大专生'), SenseSyn(id='105566', text='理工科学生'), SenseSyn(id='199685', text='在读大学生'), SenseSyn(id='199686', text='在读大学生'), SenseSyn(id='199854', text='在校生'), SenseSyn(id='199855', text='在校生'), SenseSyn(id='054189', text='法学院学生'), SenseSyn(id='115413', text='美院学生'), SenseSyn(id='189009', text='医科学生'), SenseSyn(id='189010', text='医科学生'), SenseSyn(id='189073', text='医务助理学生'), SenseSyn(id='034287', text='初中生'), SenseSyn(id='056419', text='放学回家挂钥匙的学生'), SenseSyn(id='063723', text='高中生'), SenseSyn(id='120511', text='男生'), SenseSyn(id='123460', text='女生'), SenseSyn(id='177417', text='小女生'), SenseSyn(id='177676', text='小学生'), SenseSyn(id='177677', text='小学生')])"
      ]
     },
     "execution_count": 19,
     "metadata": {},
     "output_type": "execute_result"
    }
   ],
   "source": [
    "from dataclasses import dataclass\n",
    "from typing import Text, List, Dict, Set\n",
    "@dataclass\n",
    "class SenseSyn:\n",
    "    id: str\n",
    "    text: str\n",
    "@dataclass        \n",
    "class SenseWord:\n",
    "    definition: str\n",
    "    en_grammar: str\n",
    "    zh_grammar: str\n",
    "    en_word: str\n",
    "    zh_word: str\n",
    "    id: str\n",
    "    syns: List[SenseSyn]\n",
    "\n",
    "@dataclass \n",
    "class SenseNode:\n",
    "    role: str\n",
    "    name: str\n",
    "    children: List['SenseNode']\n",
    "    def role_in(self, role_name):\n",
    "        return [c for c in self.children if c.role==role_name]\n",
    "    @property\n",
    "    def all_roles(self):\n",
    "        return {c.role for c in self.children}\n",
    "    \n",
    "@dataclass  \n",
    "class SenseTree:\n",
    "    root: SenseNode\n",
    "    inherits: List[SenseNode]\n",
    "    roles: Dict[Text, Set[Text]]\n",
    "        \n",
    "data=trees[0]\n",
    "word=data['word']\n",
    "s_word=SenseWord(definition=word['Def'], \n",
    "                 en_grammar=word['en_grammar'],\n",
    "                 zh_grammar=word['ch_grammar'],\n",
    "                 en_word=word['en_word'],\n",
    "                 zh_word=word['ch_word'],\n",
    "                 id=word['No'],\n",
    "                 syns=[SenseSyn(row['id'], row['text']) for row in word['syn']]\n",
    "                )\n",
    "s_word"
   ]
  },
  {
   "cell_type": "code",
   "execution_count": 20,
   "metadata": {
    "ExecuteTime": {
     "end_time": "2020-03-18T14:41:01.678527Z",
     "start_time": "2020-03-18T14:41:01.662012Z"
    }
   },
   "outputs": [
    {
     "data": {
      "text/plain": [
       "{'role': 'sense',\n",
       " 'name': '大学生',\n",
       " 'children': [{'role': 'None',\n",
       "   'name': 'human|人',\n",
       "   'children': [{'role': 'domain', 'name': 'education|教育'},\n",
       "    {'role': 'agent',\n",
       "     'name': 'study|学习',\n",
       "     'children': [{'role': 'location',\n",
       "       'name': 'InstitutePlace|场所',\n",
       "       'children': [{'role': 'domain', 'name': 'education|教育'},\n",
       "        {'role': 'modifier', 'name': 'HighRank|高等'},\n",
       "        {'role': 'location', 'name': 'study|学习'},\n",
       "        {'role': 'location', 'name': 'teach|教'}]}]}]}]}"
      ]
     },
     "execution_count": 20,
     "metadata": {},
     "output_type": "execute_result"
    }
   ],
   "source": [
    "tree_data=data['tree']\n",
    "tree_data"
   ]
  },
  {
   "cell_type": "code",
   "execution_count": 21,
   "metadata": {
    "ExecuteTime": {
     "end_time": "2020-03-18T14:41:07.143930Z",
     "start_time": "2020-03-18T14:41:07.118510Z"
    }
   },
   "outputs": [
    {
     "name": "stdout",
     "output_type": "stream",
     "text": [
      "SenseNode(role='sense', name='大学生', children=[SenseNode(role='', name='human|人', children=[SenseNode(role='domain', name='education|教育', children=[]), SenseNode(role='agent', name='study|学习', children=[SenseNode(role='location', name='InstitutePlace|场所', children=[SenseNode(role='domain', name='education|教育', children=[]), SenseNode(role='modifier', name='HighRank|高等', children=[]), SenseNode(role='location', name='study|学习', children=[]), SenseNode(role='location', name='teach|教', children=[])])])])])\n",
      "[('human|人', {'agent', 'domain'}, 'study|学习')]\n"
     ]
    }
   ],
   "source": [
    "def build_node(tree_data, inherits, roles):\n",
    "    role=tree_data['role']    \n",
    "    node=SenseNode(role=tree_data['role'] if role!='None' else '',\n",
    "                   name=tree_data['name'],\n",
    "                   children=[build_node(c, inherits, roles) for c in tree_data['children']] if 'children' in tree_data else []\n",
    "                  )    \n",
    "    if role=='None':\n",
    "        inherits.append(node)\n",
    "    else:\n",
    "        if role in roles:\n",
    "            roles[role].add(node.name)\n",
    "        else:\n",
    "            roles[role]={node.name}\n",
    "    return node\n",
    "\n",
    "inherits=[]\n",
    "roles={}\n",
    "root=build_node(tree_data, inherits, roles)\n",
    "\n",
    "print(root)\n",
    "print([(p.name, p.all_roles, p.role_in('agent')[0].name) for p in inherits])"
   ]
  },
  {
   "cell_type": "code",
   "execution_count": 24,
   "metadata": {
    "ExecuteTime": {
     "end_time": "2020-03-18T14:41:45.305822Z",
     "start_time": "2020-03-18T14:41:45.296170Z"
    }
   },
   "outputs": [
    {
     "data": {
      "text/plain": [
       "{'domain': {'education|教育'},\n",
       " 'modifier': {'HighRank|高等'},\n",
       " 'location': {'InstitutePlace|场所', 'study|学习', 'teach|教'},\n",
       " 'agent': {'study|学习'},\n",
       " 'sense': {'大学生'}}"
      ]
     },
     "execution_count": 24,
     "metadata": {},
     "output_type": "execute_result"
    }
   ],
   "source": [
    "roles"
   ]
  },
  {
   "cell_type": "code",
   "execution_count": 22,
   "metadata": {
    "ExecuteTime": {
     "end_time": "2020-03-18T14:41:22.636434Z",
     "start_time": "2020-03-18T14:41:22.621910Z"
    }
   },
   "outputs": [
    {
     "data": {
      "text/plain": [
       "True"
      ]
     },
     "execution_count": 22,
     "metadata": {},
     "output_type": "execute_result"
    }
   ],
   "source": [
    "s_tree=SenseTree(root=root, inherits=inherits, roles=roles)\n",
    "def cat_of(tree, cat):\n",
    "    rs=[ci for ci in tree.inherits if ci.name==cat]\n",
    "    return len(rs)>0\n",
    "\n",
    "cat_of(s_tree, 'human|人')"
   ]
  },
  {
   "cell_type": "code",
   "execution_count": 26,
   "metadata": {
    "ExecuteTime": {
     "end_time": "2020-03-18T14:46:47.463660Z",
     "start_time": "2020-03-18T14:46:47.438944Z"
    }
   },
   "outputs": [
    {
     "name": "stdout",
     "output_type": "stream",
     "text": [
      "\u001b[32mDisplay #0 sememe tree\u001b[0m\n",
      "\u001b[35msense: 大学生\u001b[0m\n",
      "\u001b[33m└── ✔: human|人\u001b[0m\n",
      "\u001b[35m    ├── domain: education|教育\u001b[0m\n",
      "\u001b[35m    └── agent: study|学习\u001b[0m\n",
      "\u001b[35m        └── location: InstitutePlace|场所\u001b[0m\n",
      "\u001b[35m            ├── domain: education|教育\u001b[0m\n",
      "\u001b[35m            ├── modifier: HighRank|高等\u001b[0m\n",
      "\u001b[35m            ├── location: study|学习\u001b[0m\n",
      "\u001b[35m            └── location: teach|教\u001b[0m\n"
     ]
    },
    {
     "data": {
      "text/plain": [
       "True"
      ]
     },
     "execution_count": 26,
     "metadata": {},
     "output_type": "execute_result"
    }
   ],
   "source": [
    "vis_trees(trees, False)\n",
    "def has_role(tree:SenseTree, **kwargs):\n",
    "    for k,v in kwargs.items():\n",
    "        role_data=tree.roles[k]\n",
    "        if v not in role_data:\n",
    "            return False\n",
    "    return True\n",
    "\n",
    "has_role(s_tree, agent='study|学习')"
   ]
  },
  {
   "cell_type": "code",
   "execution_count": 5,
   "metadata": {
    "ExecuteTime": {
     "end_time": "2020-03-18T14:14:35.919131Z",
     "start_time": "2020-03-18T14:14:35.905039Z"
    }
   },
   "outputs": [
    {
     "data": {
      "text/plain": [
       "{'{human|人:domain={education|教育},{study|学习:agent={~},location={InstitutePlace|场所:domain={education|教育},modifier={HighRank|高等},{study|学习:location={~}},{teach|教:location={~}}}}}'}"
      ]
     },
     "execution_count": 5,
     "metadata": {},
     "output_type": "execute_result"
    }
   ],
   "source": [
    "set([item['word']['Def'] for item in trees])"
   ]
  },
  {
   "cell_type": "code",
   "execution_count": 6,
   "metadata": {
    "ExecuteTime": {
     "end_time": "2020-03-18T14:14:35.959725Z",
     "start_time": "2020-03-18T14:14:35.932562Z"
    }
   },
   "outputs": [
    {
     "data": {
      "text/plain": [
       "{'{human|人:domain={education|教育},{study|学习:agent={~},location={InstitutePlace|场所:domain={education|教育},modifier={HighRank|高等},{study|学习:location={~}},{teach|教:location={~}}}}}': '041405'}"
      ]
     },
     "execution_count": 6,
     "metadata": {},
     "output_type": "execute_result"
    }
   ],
   "source": [
    "{item['word']['Def']:item['word']['No'] for item in trees}"
   ]
  },
  {
   "cell_type": "code",
   "execution_count": 7,
   "metadata": {
    "ExecuteTime": {
     "end_time": "2020-03-18T14:14:36.025262Z",
     "start_time": "2020-03-18T14:14:35.964867Z"
    }
   },
   "outputs": [
    {
     "name": "stdout",
     "output_type": "stream",
     "text": [
      "{'Def': '{human|人:domain={education|教育},{study|学习:agent={~},location={InstitutePlace|场所:domain={education|教育},modifier={HighRank|高等},{study|学习:location={~}},{teach|教:location={~}}}}}',\n",
      " 'No': '041405',\n",
      " 'ch_grammar': 'noun',\n",
      " 'ch_word': '大学生',\n",
      " 'en_grammar': 'noun',\n",
      " 'en_word': 'university student',\n",
      " 'syn': [{'id': '018725', 'text': '本科生'},\n",
      "         {'id': '041583', 'text': '大专生'},\n",
      "         {'id': '105566', 'text': '理工科学生'},\n",
      "         {'id': '199685', 'text': '在读大学生'},\n",
      "         {'id': '199686', 'text': '在读大学生'},\n",
      "         {'id': '199854', 'text': '在校生'},\n",
      "         {'id': '199855', 'text': '在校生'},\n",
      "         {'id': '054189', 'text': '法学院学生'},\n",
      "         {'id': '115413', 'text': '美院学生'},\n",
      "         {'id': '189009', 'text': '医科学生'},\n",
      "         {'id': '189010', 'text': '医科学生'},\n",
      "         {'id': '189073', 'text': '医务助理学生'},\n",
      "         {'id': '034287', 'text': '初中生'},\n",
      "         {'id': '056419', 'text': '放学回家挂钥匙的学生'},\n",
      "         {'id': '063723', 'text': '高中生'},\n",
      "         {'id': '120511', 'text': '男生'},\n",
      "         {'id': '123460', 'text': '女生'},\n",
      "         {'id': '177417', 'text': '小女生'},\n",
      "         {'id': '177676', 'text': '小学生'},\n",
      "         {'id': '177677', 'text': '小学生'}]}\n",
      "\u001b[32mDisplay #0 sememe tree\u001b[0m\n",
      "\u001b[35msense: 大学生\u001b[0m\n",
      "\u001b[33m└── ✔: human|人\u001b[0m\n",
      "\u001b[35m    ├── domain: education|教育\u001b[0m\n",
      "\u001b[35m    └── agent: study|学习\u001b[0m\n",
      "\u001b[35m        └── location: InstitutePlace|场所\u001b[0m\n",
      "\u001b[35m            ├── domain: education|教育\u001b[0m\n",
      "\u001b[35m            ├── modifier: HighRank|高等\u001b[0m\n",
      "\u001b[35m            ├── location: study|学习\u001b[0m\n",
      "\u001b[35m            └── location: teach|教\u001b[0m\n"
     ]
    }
   ],
   "source": [
    "vis_trees(trees[:2])"
   ]
  },
  {
   "cell_type": "code",
   "execution_count": 8,
   "metadata": {
    "ExecuteTime": {
     "end_time": "2020-03-18T14:14:36.043069Z",
     "start_time": "2020-03-18T14:14:36.030179Z"
    }
   },
   "outputs": [
    {
     "data": {
      "text/plain": [
       "{5, 6}"
      ]
     },
     "execution_count": 8,
     "metadata": {},
     "output_type": "execute_result"
    }
   ],
   "source": [
    "xs={5}\n",
    "xs|={6}\n",
    "xs"
   ]
  },
  {
   "cell_type": "code",
   "execution_count": null,
   "metadata": {
    "ExecuteTime": {
     "end_time": "2020-03-16T01:49:11.594092Z",
     "start_time": "2020-03-16T01:49:11.486961Z"
    }
   },
   "outputs": [],
   "source": []
  }
 ],
 "metadata": {
  "kernelspec": {
   "display_name": "Python 3",
   "language": "python",
   "name": "python3"
  },
  "language_info": {
   "codemirror_mode": {
    "name": "ipython",
    "version": 3
   },
   "file_extension": ".py",
   "mimetype": "text/x-python",
   "name": "python",
   "nbconvert_exporter": "python",
   "pygments_lexer": "ipython3",
   "version": "3.6.6"
  },
  "varInspector": {
   "cols": {
    "lenName": 16,
    "lenType": 16,
    "lenVar": 40
   },
   "kernels_config": {
    "python": {
     "delete_cmd_postfix": "",
     "delete_cmd_prefix": "del ",
     "library": "var_list.py",
     "varRefreshCmd": "print(var_dic_list())"
    },
    "r": {
     "delete_cmd_postfix": ") ",
     "delete_cmd_prefix": "rm(",
     "library": "var_list.r",
     "varRefreshCmd": "cat(var_dic_list()) "
    }
   },
   "types_to_exclude": [
    "module",
    "function",
    "builtin_function_or_method",
    "instance",
    "_Feature"
   ],
   "window_display": false
  }
 },
 "nbformat": 4,
 "nbformat_minor": 2
}
