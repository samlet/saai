{
 "cells": [
  {
   "cell_type": "code",
   "execution_count": 3,
   "metadata": {
    "ExecuteTime": {
     "end_time": "2020-03-16T07:03:53.116218Z",
     "start_time": "2020-03-16T07:03:53.085273Z"
    }
   },
   "outputs": [
    {
     "data": {
      "text/plain": [
       "[{'word': {'Def': '{human|人:domain={education|教育},{study|学习:agent={~},location={InstitutePlace|场所:domain={education|教育},modifier={HighRank|高等},{study|学习:location={~}},{teach|教:location={~}}}}}',\n",
       "   'en_grammar': 'noun',\n",
       "   'ch_grammar': 'noun',\n",
       "   'No': '041398',\n",
       "   'syn': [{'id': '018725', 'text': '本科生'},\n",
       "    {'id': '041583', 'text': '大专生'},\n",
       "    {'id': '105566', 'text': '理工科学生'},\n",
       "    {'id': '199685', 'text': '在读大学生'},\n",
       "    {'id': '199686', 'text': '在读大学生'},\n",
       "    {'id': '199854', 'text': '在校生'},\n",
       "    {'id': '199855', 'text': '在校生'},\n",
       "    {'id': '054189', 'text': '法学院学生'},\n",
       "    {'id': '115413', 'text': '美院学生'},\n",
       "    {'id': '189009', 'text': '医科学生'},\n",
       "    {'id': '189010', 'text': '医科学生'},\n",
       "    {'id': '189073', 'text': '医务助理学生'},\n",
       "    {'id': '034287', 'text': '初中生'},\n",
       "    {'id': '056419', 'text': '放学回家挂钥匙的学生'},\n",
       "    {'id': '063723', 'text': '高中生'},\n",
       "    {'id': '120511', 'text': '男生'},\n",
       "    {'id': '123460', 'text': '女生'},\n",
       "    {'id': '177417', 'text': '小女生'},\n",
       "    {'id': '177676', 'text': '小学生'},\n",
       "    {'id': '177677', 'text': '小学生'}],\n",
       "   'ch_word': '大学生',\n",
       "   'en_word': 'college boy'},\n",
       "  'tree': {'role': 'sense',\n",
       "   'name': '大学生',\n",
       "   'children': [{'role': 'None',\n",
       "     'name': 'human|人',\n",
       "     'children': [{'role': 'domain', 'name': 'education|教育'},\n",
       "      {'role': 'agent',\n",
       "       'name': 'study|学习',\n",
       "       'children': [{'role': 'location',\n",
       "         'name': 'InstitutePlace|场所',\n",
       "         'children': [{'role': 'domain', 'name': 'education|教育'},\n",
       "          {'role': 'modifier', 'name': 'HighRank|高等'},\n",
       "          {'role': 'location', 'name': 'study|学习'},\n",
       "          {'role': 'location', 'name': 'teach|教'}]}]}]}]}},\n",
       " {'word': {'Def': '{human|人:domain={education|教育},{study|学习:agent={~},location={InstitutePlace|场所:domain={education|教育},modifier={HighRank|高等},{study|学习:location={~}},{teach|教:location={~}}}}}',\n",
       "   'en_grammar': 'noun',\n",
       "   'ch_grammar': 'noun',\n",
       "   'No': '041399',\n",
       "   'syn': [{'id': '018725', 'text': '本科生'},\n",
       "    {'id': '041583', 'text': '大专生'},\n",
       "    {'id': '105566', 'text': '理工科学生'},\n",
       "    {'id': '199685', 'text': '在读大学生'},\n",
       "    {'id': '199686', 'text': '在读大学生'},\n",
       "    {'id': '199854', 'text': '在校生'},\n",
       "    {'id': '199855', 'text': '在校生'},\n",
       "    {'id': '054189', 'text': '法学院学生'},\n",
       "    {'id': '115413', 'text': '美院学生'},\n",
       "    {'id': '189009', 'text': '医科学生'},\n",
       "    {'id': '189010', 'text': '医科学生'},\n",
       "    {'id': '189073', 'text': '医务助理学生'},\n",
       "    {'id': '034287', 'text': '初中生'},\n",
       "    {'id': '056419', 'text': '放学回家挂钥匙的学生'},\n",
       "    {'id': '063723', 'text': '高中生'},\n",
       "    {'id': '120511', 'text': '男生'},\n",
       "    {'id': '123460', 'text': '女生'},\n",
       "    {'id': '177417', 'text': '小女生'},\n",
       "    {'id': '177676', 'text': '小学生'},\n",
       "    {'id': '177677', 'text': '小学生'}],\n",
       "   'ch_word': '大学生',\n",
       "   'en_word': 'college man'},\n",
       "  'tree': {'role': 'sense',\n",
       "   'name': '大学生',\n",
       "   'children': [{'role': 'None',\n",
       "     'name': 'human|人',\n",
       "     'children': [{'role': 'domain', 'name': 'education|教育'},\n",
       "      {'role': 'agent',\n",
       "       'name': 'study|学习',\n",
       "       'children': [{'role': 'location',\n",
       "         'name': 'InstitutePlace|场所',\n",
       "         'children': [{'role': 'domain', 'name': 'education|教育'},\n",
       "          {'role': 'modifier', 'name': 'HighRank|高等'},\n",
       "          {'role': 'location', 'name': 'study|学习'},\n",
       "          {'role': 'location', 'name': 'teach|教'}]}]}]}]}}]"
      ]
     },
     "execution_count": 3,
     "metadata": {},
     "output_type": "execute_result"
    }
   ],
   "source": [
    "from sagas.tool.servant_delegator import Delegator\n",
    "from sagas.zh.hownet_helper import vis_trees\n",
    "\n",
    "word='大学生'\n",
    "# trees = hownet_procs.build_sememe_trees(word)\n",
    "trees=Delegator().sememes(word=word)\n",
    "trees[:2]"
   ]
  },
  {
   "cell_type": "code",
   "execution_count": 6,
   "metadata": {
    "ExecuteTime": {
     "end_time": "2020-03-16T07:06:30.788521Z",
     "start_time": "2020-03-16T07:06:30.775339Z"
    }
   },
   "outputs": [
    {
     "data": {
      "text/plain": [
       "{'{human|人:domain={education|教育},{study|学习:agent={~},location={InstitutePlace|场所:domain={education|教育},modifier={HighRank|高等},{study|学习:location={~}},{teach|教:location={~}}}}}'}"
      ]
     },
     "execution_count": 6,
     "metadata": {},
     "output_type": "execute_result"
    }
   ],
   "source": [
    "set([item['word']['Def'] for item in trees])"
   ]
  },
  {
   "cell_type": "code",
   "execution_count": 8,
   "metadata": {
    "ExecuteTime": {
     "end_time": "2020-03-16T07:18:34.997577Z",
     "start_time": "2020-03-16T07:18:34.985966Z"
    }
   },
   "outputs": [
    {
     "data": {
      "text/plain": [
       "{'{human|人:domain={education|教育},{study|学习:agent={~},location={InstitutePlace|场所:domain={education|教育},modifier={HighRank|高等},{study|学习:location={~}},{teach|教:location={~}}}}}': '041405'}"
      ]
     },
     "execution_count": 8,
     "metadata": {},
     "output_type": "execute_result"
    }
   ],
   "source": [
    "{item['word']['Def']:item['word']['No'] for item in trees}"
   ]
  },
  {
   "cell_type": "code",
   "execution_count": 4,
   "metadata": {
    "ExecuteTime": {
     "end_time": "2020-03-16T07:04:01.770553Z",
     "start_time": "2020-03-16T07:04:01.743856Z"
    }
   },
   "outputs": [
    {
     "name": "stdout",
     "output_type": "stream",
     "text": [
      "{'Def': '{human|人:domain={education|教育},{study|学习:agent={~},location={InstitutePlace|场所:domain={education|教育},modifier={HighRank|高等},{study|学习:location={~}},{teach|教:location={~}}}}}',\n",
      " 'No': '041398',\n",
      " 'ch_grammar': 'noun',\n",
      " 'ch_word': '大学生',\n",
      " 'en_grammar': 'noun',\n",
      " 'en_word': 'college boy',\n",
      " 'syn': [{'id': '018725', 'text': '本科生'},\n",
      "         {'id': '041583', 'text': '大专生'},\n",
      "         {'id': '105566', 'text': '理工科学生'},\n",
      "         {'id': '199685', 'text': '在读大学生'},\n",
      "         {'id': '199686', 'text': '在读大学生'},\n",
      "         {'id': '199854', 'text': '在校生'},\n",
      "         {'id': '199855', 'text': '在校生'},\n",
      "         {'id': '054189', 'text': '法学院学生'},\n",
      "         {'id': '115413', 'text': '美院学生'},\n",
      "         {'id': '189009', 'text': '医科学生'},\n",
      "         {'id': '189010', 'text': '医科学生'},\n",
      "         {'id': '189073', 'text': '医务助理学生'},\n",
      "         {'id': '034287', 'text': '初中生'},\n",
      "         {'id': '056419', 'text': '放学回家挂钥匙的学生'},\n",
      "         {'id': '063723', 'text': '高中生'},\n",
      "         {'id': '120511', 'text': '男生'},\n",
      "         {'id': '123460', 'text': '女生'},\n",
      "         {'id': '177417', 'text': '小女生'},\n",
      "         {'id': '177676', 'text': '小学生'},\n",
      "         {'id': '177677', 'text': '小学生'}]}\n",
      "\u001b[32mDisplay #0 sememe tree\u001b[0m\n",
      "\u001b[35m[sense]大学生\u001b[0m\n",
      "\u001b[33m└── [None]human|人\u001b[0m\n",
      "\u001b[35m    ├── [domain]education|教育\u001b[0m\n",
      "\u001b[35m    └── [agent]study|学习\u001b[0m\n",
      "\u001b[35m        └── [location]InstitutePlace|场所\u001b[0m\n",
      "\u001b[35m            ├── [domain]education|教育\u001b[0m\n",
      "\u001b[35m            ├── [modifier]HighRank|高等\u001b[0m\n",
      "\u001b[35m            ├── [location]study|学习\u001b[0m\n",
      "\u001b[35m            └── [location]teach|教\u001b[0m\n",
      "{'Def': '{human|人:domain={education|教育},{study|学习:agent={~},location={InstitutePlace|场所:domain={education|教育},modifier={HighRank|高等},{study|学习:location={~}},{teach|教:location={~}}}}}',\n",
      " 'No': '041399',\n",
      " 'ch_grammar': 'noun',\n",
      " 'ch_word': '大学生',\n",
      " 'en_grammar': 'noun',\n",
      " 'en_word': 'college man',\n",
      " 'syn': [{'id': '018725', 'text': '本科生'},\n",
      "         {'id': '041583', 'text': '大专生'},\n",
      "         {'id': '105566', 'text': '理工科学生'},\n",
      "         {'id': '199685', 'text': '在读大学生'},\n",
      "         {'id': '199686', 'text': '在读大学生'},\n",
      "         {'id': '199854', 'text': '在校生'},\n",
      "         {'id': '199855', 'text': '在校生'},\n",
      "         {'id': '054189', 'text': '法学院学生'},\n",
      "         {'id': '115413', 'text': '美院学生'},\n",
      "         {'id': '189009', 'text': '医科学生'},\n",
      "         {'id': '189010', 'text': '医科学生'},\n",
      "         {'id': '189073', 'text': '医务助理学生'},\n",
      "         {'id': '034287', 'text': '初中生'},\n",
      "         {'id': '056419', 'text': '放学回家挂钥匙的学生'},\n",
      "         {'id': '063723', 'text': '高中生'},\n",
      "         {'id': '120511', 'text': '男生'},\n",
      "         {'id': '123460', 'text': '女生'},\n",
      "         {'id': '177417', 'text': '小女生'},\n",
      "         {'id': '177676', 'text': '小学生'},\n",
      "         {'id': '177677', 'text': '小学生'}]}\n",
      "\u001b[32mDisplay #1 sememe tree\u001b[0m\n",
      "\u001b[35m[sense]大学生\u001b[0m\n",
      "\u001b[33m└── [None]human|人\u001b[0m\n",
      "\u001b[35m    ├── [domain]education|教育\u001b[0m\n",
      "\u001b[35m    └── [agent]study|学习\u001b[0m\n",
      "\u001b[35m        └── [location]InstitutePlace|场所\u001b[0m\n",
      "\u001b[35m            ├── [domain]education|教育\u001b[0m\n",
      "\u001b[35m            ├── [modifier]HighRank|高等\u001b[0m\n",
      "\u001b[35m            ├── [location]study|学习\u001b[0m\n",
      "\u001b[35m            └── [location]teach|教\u001b[0m\n"
     ]
    }
   ],
   "source": [
    "vis_trees(trees[:2])"
   ]
  },
  {
   "cell_type": "code",
   "execution_count": 2,
   "metadata": {
    "ExecuteTime": {
     "end_time": "2020-03-16T01:48:38.401401Z",
     "start_time": "2020-03-16T01:48:38.385257Z"
    }
   },
   "outputs": [
    {
     "data": {
      "text/plain": [
       "{5, 6}"
      ]
     },
     "execution_count": 2,
     "metadata": {},
     "output_type": "execute_result"
    }
   ],
   "source": [
    "xs={5}\n",
    "xs|={6}\n",
    "xs"
   ]
  },
  {
   "cell_type": "code",
   "execution_count": null,
   "metadata": {
    "ExecuteTime": {
     "end_time": "2020-03-16T01:49:11.594092Z",
     "start_time": "2020-03-16T01:49:11.486961Z"
    }
   },
   "outputs": [],
   "source": []
  }
 ],
 "metadata": {
  "kernelspec": {
   "display_name": "Python 3",
   "language": "python",
   "name": "python3"
  },
  "language_info": {
   "codemirror_mode": {
    "name": "ipython",
    "version": 3
   },
   "file_extension": ".py",
   "mimetype": "text/x-python",
   "name": "python",
   "nbconvert_exporter": "python",
   "pygments_lexer": "ipython3",
   "version": "3.6.6"
  },
  "varInspector": {
   "cols": {
    "lenName": 16,
    "lenType": 16,
    "lenVar": 40
   },
   "kernels_config": {
    "python": {
     "delete_cmd_postfix": "",
     "delete_cmd_prefix": "del ",
     "library": "var_list.py",
     "varRefreshCmd": "print(var_dic_list())"
    },
    "r": {
     "delete_cmd_postfix": ") ",
     "delete_cmd_prefix": "rm(",
     "library": "var_list.r",
     "varRefreshCmd": "cat(var_dic_list()) "
    }
   },
   "types_to_exclude": [
    "module",
    "function",
    "builtin_function_or_method",
    "instance",
    "_Feature"
   ],
   "window_display": false
  }
 },
 "nbformat": 4,
 "nbformat_minor": 2
}
