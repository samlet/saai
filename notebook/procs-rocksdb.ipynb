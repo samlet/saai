{
 "cells": [
  {
   "cell_type": "markdown",
   "metadata": {},
   "source": [
    "⊕ [Basic Usage of python-rocksdb — python-rocksdb 0.6.7 documentation](https://python-rocksdb.readthedocs.io/en/latest/tutorial/index.html#iteration)\n",
    "\n",
    "* A more production ready open can look like this\n",
    "* 可以通过配置 block-cache 来提升读取性能，特别是在有热点的情况下，效果非常好。RocksDB 的 block-cache 分为 uncompressed block-cache 和 compressed block-cache，前者用于存储解压后的 block（其他数据库里面叫 page），后者存储压缩状态下的 block。当只配置 uncompressed block-cache 的情况下，一般采用系统的 page cache 来充当 compressed block-cache。如果配置了 compressed block-cache，可以通过设置 RocksDB 的 use_direct_reads 参数来使用 direct io 读，这样就绕过系统的 page cache，防止 page cache 和 compressed block-cache 作用重复了。另外，RocksDB 和 LevelDB 一样，每个 sst 都会有一个 bloom filter，用于加速查询。\n",
    "\n",
    "```python\n",
    "import rocksdb\n",
    "\n",
    "opts = rocksdb.Options()\n",
    "opts.create_if_missing = True\n",
    "opts.max_open_files = 300000\n",
    "opts.write_buffer_size = 67108864\n",
    "opts.max_write_buffer_number = 3\n",
    "opts.target_file_size_base = 67108864\n",
    "\n",
    "opts.table_factory = rocksdb.BlockBasedTableFactory(\n",
    "    filter_policy=rocksdb.BloomFilterPolicy(10),\n",
    "    block_cache=rocksdb.LRUCache(2 * (1024 ** 3)),\n",
    "    block_cache_compressed=rocksdb.LRUCache(500 * (1024 ** 2)))\n",
    "\n",
    "db = rocksdb.DB(\"test.db\", opts)\n",
    "```"
   ]
  },
  {
   "cell_type": "code",
   "execution_count": 2,
   "metadata": {
    "ExecuteTime": {
     "end_time": "2020-03-13T07:56:23.770310Z",
     "start_time": "2020-03-13T07:56:23.677026Z"
    }
   },
   "outputs": [],
   "source": [
    "import rocksdb\n",
    "\n",
    "class StaticPrefix(rocksdb.interfaces.SliceTransform):\n",
    "    def name(self):\n",
    "        return b'static'\n",
    "\n",
    "    def transform(self, src):\n",
    "        return (0, 5)\n",
    "\n",
    "    def in_domain(self, src):\n",
    "        return len(src) >= 5\n",
    "\n",
    "    def in_range(self, dst):\n",
    "        return len(dst) == 5\n",
    "\n",
    "\n",
    "opts = rocksdb.Options()\n",
    "opts.prefix_extractor = StaticPrefix()\n",
    "opts.allow_concurrent_memtable_write = False\n",
    "opts.memtable_factory = rocksdb.HashSkipListMemtableFactory()\n",
    "opts.create_if_missing = True\n",
    "\n",
    "db = rocksdb.DB(\"test.db\", opts)\n",
    "db.put(b'00001.x', b'x')\n",
    "db.put(b'00001.y', b'y')\n",
    "db.put(b'00002.x', b'x')"
   ]
  },
  {
   "cell_type": "code",
   "execution_count": 3,
   "metadata": {
    "ExecuteTime": {
     "end_time": "2020-03-13T07:57:09.025492Z",
     "start_time": "2020-03-13T07:57:09.017213Z"
    }
   },
   "outputs": [],
   "source": [
    "db.put(b'00002.x', b'x')\n",
    "db.put(b'00002.y', b'y')\n",
    "db.put(b'00002.z', b'z')\n",
    "\n",
    "db.put(b'00003.x', b'x')\n",
    "db.put(b'00003.y', b'y')\n",
    "db.put(b'00003.z', b'z')"
   ]
  },
  {
   "cell_type": "code",
   "execution_count": 7,
   "metadata": {
    "ExecuteTime": {
     "end_time": "2020-03-13T08:00:04.554885Z",
     "start_time": "2020-03-13T08:00:04.525065Z"
    }
   },
   "outputs": [
    {
     "data": {
      "text/plain": [
       "{b'00002.x': b'x', b'00002.y': b'y', b'00002.z': b'z'}"
      ]
     },
     "execution_count": 7,
     "metadata": {},
     "output_type": "execute_result"
    }
   ],
   "source": [
    "import itertools\n",
    "\n",
    "prefix = b'00002'\n",
    "\n",
    "it = db.iteritems()\n",
    "it.seek(prefix)\n",
    "dict(itertools.takewhile(lambda item: item[0].startswith(prefix), it))"
   ]
  }
 ],
 "metadata": {
  "kernelspec": {
   "display_name": "Python 3",
   "language": "python",
   "name": "python3"
  },
  "language_info": {
   "codemirror_mode": {
    "name": "ipython",
    "version": 3
   },
   "file_extension": ".py",
   "mimetype": "text/x-python",
   "name": "python",
   "nbconvert_exporter": "python",
   "pygments_lexer": "ipython3",
   "version": "3.6.6"
  },
  "varInspector": {
   "cols": {
    "lenName": 16,
    "lenType": 16,
    "lenVar": 40
   },
   "kernels_config": {
    "python": {
     "delete_cmd_postfix": "",
     "delete_cmd_prefix": "del ",
     "library": "var_list.py",
     "varRefreshCmd": "print(var_dic_list())"
    },
    "r": {
     "delete_cmd_postfix": ") ",
     "delete_cmd_prefix": "rm(",
     "library": "var_list.r",
     "varRefreshCmd": "cat(var_dic_list()) "
    }
   },
   "types_to_exclude": [
    "module",
    "function",
    "builtin_function_or_method",
    "instance",
    "_Feature"
   ],
   "window_display": false
  }
 },
 "nbformat": 4,
 "nbformat_minor": 2
}
