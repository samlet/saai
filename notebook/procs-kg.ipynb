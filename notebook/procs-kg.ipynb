{
 "cells": [
  {
   "cell_type": "code",
   "execution_count": 1,
   "metadata": {
    "ExecuteTime": {
     "end_time": "2020-05-30T16:22:34.462012Z",
     "start_time": "2020-05-30T16:22:32.256731Z"
    }
   },
   "outputs": [
    {
     "name": "stdout",
     "output_type": "stream",
     "text": [
      "[['姚明', '出生日期', '1980年9月12日'], ['姚明', '出生地', '上海市徐汇区'], ['姚明', '祖籍', '江苏省苏州市吴江区震泽镇']]\n"
     ]
    }
   ],
   "source": [
    "import jiagu\n",
    "text = '姚明1980年9月12日出生于上海市徐汇区，祖籍江苏省苏州市吴江区震泽镇，前中国职业篮球运动员，司职中锋，现任中职联公司董事长兼总经理。'\n",
    "knowledge = jiagu.knowledge(text)\n",
    "print(knowledge)"
   ]
  },
  {
   "cell_type": "code",
   "execution_count": 5,
   "metadata": {
    "ExecuteTime": {
     "end_time": "2020-05-30T17:15:08.348712Z",
     "start_time": "2020-05-30T17:15:08.214243Z"
    }
   },
   "outputs": [
    {
     "data": {
      "text/plain": [
       "{'entity': '韦小宝[金庸小说《鹿鼎记》男主角]',\n",
       " 'domain': '百科',\n",
       " 'desc': '韦小宝，金庸武侠小说《鹿鼎记》中的男主角。',\n",
       " 'avp': [['中文名', '韦小宝'],\n",
       "  ['其他名称', '小桂子'],\n",
       "  ['登场作品', '金庸武侠小说《鹿鼎记》及其衍生作品'],\n",
       "  ['性别', '男'],\n",
       "  ['国籍', '清朝'],\n",
       "  ['出生地', '扬州'],\n",
       "  ['门派', '天地会，神龙教，铁剑门'],\n",
       "  ['身份', '清抚远大将军，天地会青木堂香主，神龙教白龙使'],\n",
       "  ['主要成就1', '擒鳌拜，断吴三桂反叛的三路援军'],\n",
       "  ['主要成就2', '受封一等鹿鼎公钦赐巴图鲁勇号赐穿黄马褂'],\n",
       "  ['主要成就3', '助沙俄索菲亚公主夺位雅克萨之捷，签订《尼布楚条约》']],\n",
       " 'tag': ['文学形象', '人物']}"
      ]
     },
     "execution_count": 5,
     "metadata": {},
     "output_type": "execute_result"
    }
   ],
   "source": [
    "import os\n",
    "import sys\n",
    "import requests\n",
    "\n",
    "def kg_view(entity):\n",
    "    url = 'https://api.ownthink.com/kg/knowledge?entity=%s'%entity      # 知识图谱API\n",
    "    \n",
    "    sess = requests.get(url) # 请求\n",
    "    text = sess.text # 获取返回的数据\n",
    "\n",
    "    response = eval(text) # 转为字典类型\n",
    "    knowledge = response['data']\n",
    "    return knowledge\n",
    "\n",
    "kg_view('韦小宝')"
   ]
  }
 ],
 "metadata": {
  "kernelspec": {
   "display_name": "Python 3",
   "language": "python",
   "name": "python3"
  },
  "language_info": {
   "codemirror_mode": {
    "name": "ipython",
    "version": 3
   },
   "file_extension": ".py",
   "mimetype": "text/x-python",
   "name": "python",
   "nbconvert_exporter": "python",
   "pygments_lexer": "ipython3",
   "version": "3.6.6"
  },
  "varInspector": {
   "cols": {
    "lenName": 16,
    "lenType": 16,
    "lenVar": 40
   },
   "kernels_config": {
    "python": {
     "delete_cmd_postfix": "",
     "delete_cmd_prefix": "del ",
     "library": "var_list.py",
     "varRefreshCmd": "print(var_dic_list())"
    },
    "r": {
     "delete_cmd_postfix": ") ",
     "delete_cmd_prefix": "rm(",
     "library": "var_list.r",
     "varRefreshCmd": "cat(var_dic_list()) "
    }
   },
   "types_to_exclude": [
    "module",
    "function",
    "builtin_function_or_method",
    "instance",
    "_Feature"
   ],
   "window_display": false
  }
 },
 "nbformat": 4,
 "nbformat_minor": 2
}
