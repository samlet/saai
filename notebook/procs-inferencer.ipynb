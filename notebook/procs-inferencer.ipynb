{
 "cells": [
  {
   "cell_type": "code",
   "execution_count": 1,
   "metadata": {
    "ExecuteTime": {
     "end_time": "2020-03-03T01:58:33.482911Z",
     "start_time": "2020-03-03T01:58:31.729880Z"
    }
   },
   "outputs": [],
   "source": [
    "from sagas.nlu.utils import fix_sents\n",
    "import requests\n",
    "from sagas.conf.conf import cf\n",
    "\n",
    "def fix_data(data):\n",
    "    if 'engine' not in data:\n",
    "        data['engine'] = cf.engine(data['lang'])\n",
    "    data['sents']=fix_sents(data['sents'], data['lang'])\n",
    "    return data\n",
    "def parse(data):\n",
    "    if 'engine' not in data:\n",
    "        data['engine']=cf.engine(data['lang'])\n",
    "    engine=data['engine']\n",
    "    response = requests.post(f'{cf.servant(engine)}/verb_domains', json=data)\n",
    "    if response.status_code == 200:\n",
    "        return response.json()\n",
    "    return None"
   ]
  },
  {
   "cell_type": "code",
   "execution_count": 2,
   "metadata": {
    "ExecuteTime": {
     "end_time": "2020-03-03T01:58:33.535626Z",
     "start_time": "2020-03-03T01:58:33.493517Z"
    }
   },
   "outputs": [
    {
     "data": {
      "text/plain": [
       "[{'type': 'predicate',\n",
       "  'lemma': '変える',\n",
       "  'index': 3,\n",
       "  'phonetic': 'かえる',\n",
       "  'word': '変えてもらった。',\n",
       "  'rel': 'D',\n",
       "  'governor': 0,\n",
       "  'pos': 'verb',\n",
       "  'domains': [['ヲ', 0, '予約を', '予約', ['予約'], ['c_noun', 'x_n']],\n",
       "   ['時間', 1, '火曜日から', '火曜日', ['火曜日'], ['c_noun', 'x_n']],\n",
       "   ['時間', 2, '木曜日に', '木曜日', ['木曜日'], ['c_noun', 'x_n']]],\n",
       "  'stems': [],\n",
       "  'segments': [{'index': 6,\n",
       "    'upos': 'VERB',\n",
       "    'xpos': ['動詞', '*'],\n",
       "    'text': '変えて',\n",
       "    'lemmas': ['変える', 'かえる']},\n",
       "   {'index': 7,\n",
       "    'upos': 'X',\n",
       "    'xpos': ['接尾辞', '動詞性接尾辞'],\n",
       "    'text': 'もらった',\n",
       "    'lemmas': ['もらう', 'もらう']},\n",
       "   {'index': 8, 'upos': 'PUNCT', 'xpos': ['特殊', '句点'], 'text': '。'}]}]"
      ]
     },
     "execution_count": 2,
     "metadata": {},
     "output_type": "execute_result"
    }
   ],
   "source": [
    "# $ ses 'Ellos ya leyeron ese libro en la escuela.'\n",
    "# data={'lang': 'es', \"sents\": 'Ellos ya leyeron ese libro en la escuela.'}\n",
    "# $ se 'you are dead'\n",
    "# data={'lang': 'en', \"sents\": 'you are dead'}\n",
    "# $ sid 'Apa yang lebih murah?'  (What is cheaper?)\n",
    "# data={'lang': 'id', \"sents\": 'Apa yang lebih murah?'}\n",
    "# $ sid 'Berapa umur kamu?' (en=\"How old are you?\")\n",
    "# data={'lang': 'id', \"sents\": 'Berapa umur kamu?'}\n",
    "# $ sj '太陽は月に比べて大きいです。'\n",
    "# $ sj '予約を火曜日から木曜日に変えてもらった。'\n",
    "data={'lang': 'ja', \"sents\": '予約を火曜日から木曜日に変えてもらった。'}\n",
    "rs=parse(data)\n",
    "rs"
   ]
  },
  {
   "cell_type": "code",
   "execution_count": 3,
   "metadata": {
    "ExecuteTime": {
     "end_time": "2020-03-03T01:58:33.585828Z",
     "start_time": "2020-03-03T01:58:33.556601Z"
    }
   },
   "outputs": [],
   "source": [
    "class AttrDict(dict):\n",
    "    def __init__(self, *args, **kwargs):\n",
    "        super(AttrDict, self).__init__(*args, **kwargs)\n",
    "        self.__dict__ = self\n",
    "def to_obj(m):\n",
    "    d = AttrDict()\n",
    "    d.update(m)\n",
    "    return d"
   ]
  },
  {
   "cell_type": "code",
   "execution_count": 6,
   "metadata": {
    "ExecuteTime": {
     "end_time": "2020-03-03T02:04:00.086816Z",
     "start_time": "2020-03-03T02:03:59.910772Z"
    }
   },
   "outputs": [
    {
     "name": "stdout",
     "output_type": "stream",
     "text": [
      "predicate\n",
      "\u001b[36m✁ lang.spec for ja.predicate -------------------------\u001b[0m\n",
      "\u001b[33m✖ (desc_fav) verb with pos is ins_interrogative(fav): False\u001b[0m\n",
      "\u001b[33m✖ (desc_fav_not) verb with pos is ins_interrogative(fav): False, pos is ins_checker{'has_lemma': 'ない'}: False\u001b[0m\n",
      "\u001b[33m✖ (desc_fav_neg) verb with pos is ins_interrogative(fav): False, pos is ins_checker{'negative': '_'}: False\u001b[0m\n",
      "\u001b[33m✖ (desc_attitude_type) verb with pos is specs_of(('tight',),*): False\u001b[0m\n",
      "\u001b[31m✔ (change_statement) verb with pos is specs_of(('change',),v): True, ヲ is kind_of(statement,n): True, pos is ins_extract_comps(['plain', 'date_search', 'date_parse']): True\u001b[0m\n",
      "\u001b[32m.. results 8\u001b[0m\n",
      "\u001b[33m{'extract_comps/date_parse/時間', 'extract_comps/date_search/時間', 'specs_of/default/predicate', 'kind_of/default/ヲ', 'extract_comps/plain/時間'}\u001b[0m\n",
      "{'specs_of/default/...': {'category': 'change', 'pos': 'v', 'word': '変えてもらった。/変える'}, 'kind_of/default/...': {'category': 'statement', 'pos': 'n', 'word': '予約を/予約'}, 'extract_comps/plain/...': '木曜日', 'extract_comps/date_search/...': [\"('木曜日', datetime.datetime(2020, 2, 27, 0, 0))\"], 'extract_comps/date_parse/...': '2020-02-27 00:00:00'}\n",
      "\u001b[34m♯ matched id rules: {'change_statement': 8}\u001b[0m\n",
      "\u001b[35m{'type': 'predicate', 'text': '変えてもらった。', 'translit': '/bianetemoratta.', 'translate': 'I had to change.', 'lang': 'ja', 'index': 3}\u001b[0m\n",
      "\u001b[36m{'name': 'ヲ', 'text': '予約', 'translit': '/yu yue', 'translate': 'Reservation', 'index': 0}\u001b[0m\n",
      "\u001b[36m{'name': '時間', 'text': '火曜日', 'translit': '/huo yao ri', 'translate': 'Tuesday', 'index': 1}\u001b[0m\n",
      "pat(5, name='predict_convert').verb(extract_for('plain+date_search+date_parse', '時間'), specsof('*', 'convert'), ヲ=kindof('booking', '*')),\n",
      "* ---------------------------------------------\n",
      "[{'comments': ['convert.v.11',\n",
      "               'convert.v.02',\n",
      "               'change.v.01',\n",
      "               'change_state.v.01',\n",
      "               'change.v.10',\n",
      "               'reform.v.05',\n",
      "               'convert.v.01',\n",
      "               'transform.v.02',\n",
      "               'convert.v.05',\n",
      "               'revise.v.01'],\n",
      "  'indicator': '[predicate]',\n",
      "  'spec': 'convert',\n",
      "  'word': '変えてもらった。/変える'},\n",
      " {'comments': ['booking.n.02', 'reservation.n.02'],\n",
      "  'indicator': 'ヲ',\n",
      "  'spec': 'booking',\n",
      "  'word': '予約'}]\n"
     ]
    }
   ],
   "source": [
    "from sagas.nlu.rules_meta import build_meta\n",
    "from sagas.nlu.rules_lang_spec import langspecs\n",
    "from sagas.nlu.sinkers import Sinkers\n",
    "from sagas.tool.misc import translit_chunk, display_synsets\n",
    "import sagas.tracker_fn as tc\n",
    "from sagas.nlu.utils import fix_sents, join_text\n",
    "import sagas\n",
    "from pprint import pprint\n",
    "from collections import Counter\n",
    "\n",
    "enable_verbose=True\n",
    "def proc_word(type_name, word, head, index, lang):\n",
    "    from sagas.nlu.google_translator import translate\n",
    "    res, _ = translate(word, source=lang, target=target_lang(lang),\n",
    "                       trans_verbose=False)\n",
    "    \n",
    "    # result=f\"[{type_name}]({word}{translit_chunk(word, lang)}) {res}{target}\"\n",
    "    result={'type':type_name, 'text':word, \n",
    "            'translit':translit_chunk(word, lang),\n",
    "            'translate': res,\n",
    "            'lang': lang,\n",
    "            'index': index,\n",
    "           }\n",
    "    if head!='':\n",
    "        res_t, _ = translate(head, source=lang, target=target_lang(lang),\n",
    "                           trans_verbose=False, options={'disable_correct'})\n",
    "        # target=f\" ⊙︿⊙ {res_t}({head})\"\n",
    "        result['head']=head\n",
    "        result['head_trans']=res_t\n",
    "    # tc.emp('magenta', result)\n",
    "    return result\n",
    "target_lang=lambda s: cf.optional('assist_lang', 'zh') if s=='en' else 'en'\n",
    "\n",
    "# def proc_children_column(partcol, textcol, idxcol, lang):\n",
    "def proc_children_column(df, lang):\n",
    "    from sagas.nlu.google_translator import translate\n",
    "    result=[]\n",
    "    # for id, (name, r) in enumerate(zip(partcol, textcol)):\n",
    "    rels=[]\n",
    "    for id, row in df.iterrows(): \n",
    "        # df['rel'], df['children'], df['index']\n",
    "        name, r, idx=row['rel'], row['children'], row['index']\n",
    "        if name in rels:\n",
    "            continue\n",
    "        else:\n",
    "            rels.append(name)\n",
    "        if name not in ('punct', 'head_root'):        \n",
    "            sent=join_text(r, lang)\n",
    "            res, _ = translate(sent, source=lang, target=target_lang(lang),\n",
    "                               trans_verbose=False, options={'disable_correct'})\n",
    "            # chunk=f\"{indent}[{name}]({sent}{translit_chunk(sent, lang)}) {res}\"\n",
    "            chunk={'name':name, 'text':sent, \n",
    "                   'translit':translit_chunk(sent, lang),\n",
    "                   'translate':res,\n",
    "                   'index':idx,\n",
    "                  }\n",
    "            result.append(chunk)\n",
    "            # tc.emp('cyan', chunk)\n",
    "    return result\n",
    "\n",
    "def induce_spec(el, pats, type_name):\n",
    "    # print(f\"{el.indicator} {el.word}: {el.spec}\")    \n",
    "    if el.indicator=='[verb]':\n",
    "        pats.append((3, f\"behaveof('{el.spec}', 'v')\"))\n",
    "    elif el.indicator=='[aux]':\n",
    "        # pats.append((3, f\"behaveof('{el.spec}', '*')\"))\n",
    "        pass\n",
    "    elif el.indicator=='[root]':\n",
    "        pats.append((3, f\"behaveof('{el.spec}', 'n')\"))\n",
    "    elif el.indicator=='[predicate]':\n",
    "        pats.append((3, f\"specsof('*', '{el.spec}')\"))\n",
    "    else:\n",
    "        if type_name in ('aux_domains', 'subj_domains') and el.indicator=='head':\n",
    "            pats.append((3, f\"behaveof('{el.spec}', '*')\"))\n",
    "        else:\n",
    "            pats.append((1, f\"{el.indicator}=kindof('{el.spec}', '*')\"))\n",
    "\n",
    "def induce_part(chunk, pats, type_name):\n",
    "    if enable_verbose:\n",
    "        tc.emp('cyan', chunk)\n",
    "    gen_map={'nsubj': lambda: (2, \"nsubj=agency\"), \n",
    "             'advmod': lambda: (4, \"extract_for('plain', 'advmod')\"),\n",
    "             'cop': lambda: (2, \"cop='c_aux'\"),\n",
    "             'head_amod': lambda: (2, \"head_amod=interr('what')\"),\n",
    "             '時間': lambda: (4, \"extract_for('plain+date_search+date_parse', '時間')\"),\n",
    "            }\n",
    "    if chunk.name in gen_map:\n",
    "        pats.append(gen_map[chunk.name]())\n",
    "\n",
    "def induce_pattern(pat, ds):\n",
    "    if enable_verbose:\n",
    "        tc.emp('magenta', pat)    \n",
    "    def gen_verb(ind='verb', prefix='behave'):\n",
    "        spec=[d for d in ds if d['indicator']==f'[{ind}]']\n",
    "        if spec:\n",
    "            ref=spec[0]['spec']\n",
    "        else:\n",
    "            ref=pat.translate.replace(' ', '_')\n",
    "        return f\"pat(5, name='{prefix}_{ref}').verb\"\n",
    "    def gen_root():\n",
    "        spec=[d for d in ds if d['indicator']=='[root]']\n",
    "        if spec:\n",
    "            ref=spec[0]['spec']\n",
    "        else:\n",
    "            ref=pat.translate.replace(' ', '_')\n",
    "        return f\"pat(5, name='ana_{ref}').root\"\n",
    "    def gen_cop():\n",
    "        spec=[d for d in ds if d['indicator']=='head']\n",
    "        if spec:\n",
    "            ref=spec[0]['spec']\n",
    "        else:\n",
    "            ref=pat.head_trans.replace(' ', '_') if pat.lang!='en' else pat.head.replace(' ', '_')\n",
    "        return f\"pat(5, name='desc_{ref}').cop\"    \n",
    "    \n",
    "    domap={'verb_domains': gen_verb,\n",
    "           'aux_domains': gen_cop,\n",
    "           'subj_domains': gen_cop,\n",
    "           'root_domains': gen_root,\n",
    "           'predicate': lambda: gen_verb('predicate', 'predict'),\n",
    "          }\n",
    "    return domap[pat.type]()\n",
    "\n",
    "######\n",
    "sinkers = Sinkers()\n",
    "for serial, r in enumerate(rs):\n",
    "    type_name = r['type']\n",
    "    theme=type_name.split('_')[0]\n",
    "    print(type_name)\n",
    "    meta = build_meta(r, data)\n",
    "    # print(f\"meta keys {meta.keys()}\")\n",
    "    \n",
    "    mod_rs=langspecs.check_langspec(data['lang'], meta, r['domains'], type_name)\n",
    "    sinkers.add_module_results(mod_rs)\n",
    "    \n",
    "    # infers\n",
    "    pats=[]\n",
    "    def do_infers(ds):\n",
    "        df = sagas.to_df(r['domains'], ['rel', 'index', 'text', 'lemma', 'children', 'features'])\n",
    "\n",
    "        pat=proc_word(type_name, r['word'], \n",
    "                      r['head'] if 'head' in r else '', \n",
    "                      r['index'],\n",
    "                      data['lang'])\n",
    "        pat_r=induce_pattern(to_obj(pat), ds)\n",
    "        parts=proc_children_column(df, data['lang'])    \n",
    "        for part in parts:\n",
    "            induce_part(to_obj(part), pats, type_name)\n",
    "        # display_synsets(f\"[{theme}]\", meta, r, data['lang'])    \n",
    "        return pat_r\n",
    "    \n",
    "    # induce with wordnet\n",
    "    ds=display_synsets(f\"[{theme}]\", meta, r, data['lang'], collect=True)    \n",
    "    pat_r=do_infers(ds)\n",
    "    for el in ds:        \n",
    "        induce_spec(to_obj(el), pats, type_name)\n",
    "    \n",
    "    pats=sorted(pats, key=lambda pat: -pat[0])\n",
    "    paras=', '.join(p[1] for p in pats)\n",
    "    print(f\"{pat_r}({paras}),\")\n",
    "    \n",
    "    # debug\n",
    "    print('*', '-'*45)\n",
    "    pprint(ds)\n",
    "\n",
    "sinkers.process_with_sinkers()"
   ]
  },
  {
   "cell_type": "code",
   "execution_count": 5,
   "metadata": {
    "ExecuteTime": {
     "end_time": "2020-03-03T01:58:37.546944Z",
     "start_time": "2020-03-03T01:58:37.535008Z"
    }
   },
   "outputs": [
    {
     "data": {
      "text/plain": [
       "'false'"
      ]
     },
     "execution_count": 5,
     "metadata": {},
     "output_type": "execute_result"
    }
   ],
   "source": [
    "pickup=''\n",
    "'true' if pickup else 'false'"
   ]
  }
 ],
 "metadata": {
  "kernelspec": {
   "display_name": "Python 3",
   "language": "python",
   "name": "python3"
  },
  "language_info": {
   "codemirror_mode": {
    "name": "ipython",
    "version": 3
   },
   "file_extension": ".py",
   "mimetype": "text/x-python",
   "name": "python",
   "nbconvert_exporter": "python",
   "pygments_lexer": "ipython3",
   "version": "3.6.6"
  },
  "varInspector": {
   "cols": {
    "lenName": 16,
    "lenType": 16,
    "lenVar": 40
   },
   "kernels_config": {
    "python": {
     "delete_cmd_postfix": "",
     "delete_cmd_prefix": "del ",
     "library": "var_list.py",
     "varRefreshCmd": "print(var_dic_list())"
    },
    "r": {
     "delete_cmd_postfix": ") ",
     "delete_cmd_prefix": "rm(",
     "library": "var_list.r",
     "varRefreshCmd": "cat(var_dic_list()) "
    }
   },
   "types_to_exclude": [
    "module",
    "function",
    "builtin_function_or_method",
    "instance",
    "_Feature"
   ],
   "window_display": false
  }
 },
 "nbformat": 4,
 "nbformat_minor": 2
}
