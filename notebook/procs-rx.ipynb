{
 "cells": [
  {
   "cell_type": "code",
   "execution_count": 1,
   "metadata": {
    "ExecuteTime": {
     "end_time": "2020-03-21T07:29:55.825678Z",
     "start_time": "2020-03-21T07:29:55.719607Z"
    }
   },
   "outputs": [
    {
     "name": "stdout",
     "output_type": "stream",
     "text": [
      "Received 5\n",
      "Received 5\n",
      "Received 5\n",
      "Received 7\n"
     ]
    },
    {
     "data": {
      "text/plain": [
       "<rx.disposable.disposable.Disposable at 0x10f1a16a0>"
      ]
     },
     "execution_count": 1,
     "metadata": {},
     "output_type": "execute_result"
    }
   ],
   "source": [
    "import rx\n",
    "from rx import operators as ops\n",
    "\n",
    "source = rx.of(\"Alpha\", \"Beta\", \"Gamma\", \"Delta\", \"Epsilon\")\n",
    "\n",
    "composed = source.pipe(\n",
    "    ops.map(lambda s: len(s)),\n",
    "    ops.filter(lambda i: i >= 5)\n",
    ")\n",
    "composed.subscribe(lambda value: print(\"Received {0}\".format(value)))"
   ]
  },
  {
   "cell_type": "code",
   "execution_count": 6,
   "metadata": {
    "ExecuteTime": {
     "end_time": "2020-03-21T08:16:40.078881Z",
     "start_time": "2020-03-21T08:16:40.033206Z"
    }
   },
   "outputs": [
    {
     "name": "stdout",
     "output_type": "stream",
     "text": [
      "Received strdata(word='Alpha', i=5)\n"
     ]
    },
    {
     "data": {
      "text/plain": [
       "<rx.disposable.disposable.Disposable at 0x112a5ce10>"
      ]
     },
     "execution_count": 6,
     "metadata": {},
     "output_type": "execute_result"
    }
   ],
   "source": [
    "from dataclasses import dataclass\n",
    "@dataclass\n",
    "class strdata:\n",
    "    word:str\n",
    "    i:int\n",
    "        \n",
    "source = rx.of(\"Alpha\", \"Beta\")\n",
    "composed = source.pipe(\n",
    "    ops.map(lambda s: strdata(word=s, i=len(s))),\n",
    "    ops.filter(lambda c: c.i >= 5)\n",
    ")\n",
    "composed.subscribe(lambda value: print(\"Received {0}\".format(value)))"
   ]
  },
  {
   "cell_type": "code",
   "execution_count": 8,
   "metadata": {
    "ExecuteTime": {
     "end_time": "2020-03-21T08:28:02.869877Z",
     "start_time": "2020-03-21T08:28:02.827440Z"
    }
   },
   "outputs": [
    {
     "name": "stdout",
     "output_type": "stream",
     "text": [
      "Received 5.5\n"
     ]
    },
    {
     "data": {
      "text/plain": [
       "<rx.disposable.disposable.Disposable at 0x11e1fe208>"
      ]
     },
     "execution_count": 8,
     "metadata": {},
     "output_type": "execute_result"
    }
   ],
   "source": [
    "import rx\n",
    "from rx import operators as ops\n",
    "\n",
    "source = rx.of(\"Alpha\", \"Beta\", \"Gamma\", \"Delta\", \"Epsilon\")\n",
    "\n",
    "composed = source.pipe(\n",
    "    ops.map(lambda s: len(s)),\n",
    "    ops.filter(lambda i: i >= 5),\n",
    "    ops.average(),\n",
    ")\n",
    "composed.subscribe(lambda value: print(\"Received {0}\".format(value)))"
   ]
  },
  {
   "cell_type": "code",
   "execution_count": 2,
   "metadata": {
    "ExecuteTime": {
     "end_time": "2020-03-21T07:29:55.861358Z",
     "start_time": "2020-03-21T07:29:55.834636Z"
    }
   },
   "outputs": [
    {
     "name": "stdout",
     "output_type": "stream",
     "text": [
      "Received 5\n",
      "Received 5\n",
      "Received 5\n",
      "Received 7\n"
     ]
    },
    {
     "data": {
      "text/plain": [
       "<rx.disposable.disposable.Disposable at 0x10f1a1eb8>"
      ]
     },
     "execution_count": 2,
     "metadata": {},
     "output_type": "execute_result"
    }
   ],
   "source": [
    "def length_more_than_5():\n",
    "    return rx.pipe(\n",
    "        ops.map(lambda s: len(s)),\n",
    "        ops.filter(lambda i: i >= 5),\n",
    "    )\n",
    "\n",
    "rx.of(\"Alpha\", \"Beta\", \"Gamma\", \"Delta\", \"Epsilon\").pipe(\n",
    "    length_more_than_5()\n",
    ").subscribe(lambda value: print(\"Received {0}\".format(value)))"
   ]
  },
  {
   "cell_type": "markdown",
   "metadata": {
    "ExecuteTime": {
     "end_time": "2020-03-21T07:30:01.710911Z",
     "start_time": "2020-03-21T07:30:01.670411Z"
    }
   },
   "source": [
    "\n"
   ]
  }
 ],
 "metadata": {
  "kernelspec": {
   "display_name": "Python 3",
   "language": "python",
   "name": "python3"
  },
  "language_info": {
   "codemirror_mode": {
    "name": "ipython",
    "version": 3
   },
   "file_extension": ".py",
   "mimetype": "text/x-python",
   "name": "python",
   "nbconvert_exporter": "python",
   "pygments_lexer": "ipython3",
   "version": "3.6.6"
  },
  "varInspector": {
   "cols": {
    "lenName": 16,
    "lenType": 16,
    "lenVar": 40
   },
   "kernels_config": {
    "python": {
     "delete_cmd_postfix": "",
     "delete_cmd_prefix": "del ",
     "library": "var_list.py",
     "varRefreshCmd": "print(var_dic_list())"
    },
    "r": {
     "delete_cmd_postfix": ") ",
     "delete_cmd_prefix": "rm(",
     "library": "var_list.r",
     "varRefreshCmd": "cat(var_dic_list()) "
    }
   },
   "types_to_exclude": [
    "module",
    "function",
    "builtin_function_or_method",
    "instance",
    "_Feature"
   ],
   "window_display": false
  }
 },
 "nbformat": 4,
 "nbformat_minor": 2
}
