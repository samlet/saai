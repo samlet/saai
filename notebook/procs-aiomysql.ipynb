{
 "cells": [
  {
   "cell_type": "code",
   "execution_count": 4,
   "metadata": {
    "ExecuteTime": {
     "end_time": "2020-03-12T00:04:11.516008Z",
     "start_time": "2020-03-12T00:04:11.500847Z"
    }
   },
   "outputs": [
    {
     "name": "stdout",
     "output_type": "stream",
     "text": [
      "(('42', 8, None, 2, 2, 0, False),)\n"
     ]
    }
   ],
   "source": [
    "import asyncio\n",
    "import aiomysql\n",
    "\n",
    "async def test_example(loop):\n",
    "    pool = await aiomysql.create_pool(host='127.0.0.1', port=3306,\n",
    "                                      user='root', password='root',\n",
    "                                      db='test', loop=loop)\n",
    "    async with pool.acquire() as conn:\n",
    "        async with conn.cursor() as cur:\n",
    "            await cur.execute(\"SELECT 42;\")\n",
    "            print(cur.description)\n",
    "            (r,) = await cur.fetchone()\n",
    "            assert r == 42\n",
    "    pool.close()\n",
    "    await pool.wait_closed()\n",
    "\n",
    "loop = asyncio.get_event_loop()\n",
    "await test_example(loop)"
   ]
  }
 ],
 "metadata": {
  "kernelspec": {
   "display_name": "Python 3",
   "language": "python",
   "name": "python3"
  },
  "language_info": {
   "codemirror_mode": {
    "name": "ipython",
    "version": 3
   },
   "file_extension": ".py",
   "mimetype": "text/x-python",
   "name": "python",
   "nbconvert_exporter": "python",
   "pygments_lexer": "ipython3",
   "version": "3.6.6"
  },
  "varInspector": {
   "cols": {
    "lenName": 16,
    "lenType": 16,
    "lenVar": 40
   },
   "kernels_config": {
    "python": {
     "delete_cmd_postfix": "",
     "delete_cmd_prefix": "del ",
     "library": "var_list.py",
     "varRefreshCmd": "print(var_dic_list())"
    },
    "r": {
     "delete_cmd_postfix": ") ",
     "delete_cmd_prefix": "rm(",
     "library": "var_list.r",
     "varRefreshCmd": "cat(var_dic_list()) "
    }
   },
   "types_to_exclude": [
    "module",
    "function",
    "builtin_function_or_method",
    "instance",
    "_Feature"
   ],
   "window_display": false
  }
 },
 "nbformat": 4,
 "nbformat_minor": 2
}
