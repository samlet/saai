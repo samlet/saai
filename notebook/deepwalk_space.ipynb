{
 "cells": [
  {
   "cell_type": "code",
   "execution_count": 1,
   "metadata": {
    "ExecuteTime": {
     "end_time": "2020-06-02T16:20:38.800636Z",
     "start_time": "2020-06-02T16:20:34.733399Z"
    }
   },
   "outputs": [],
   "source": [
    "import networkx as nx\n",
    "import pandas as pd\n",
    "import numpy as np\n",
    "import random\n",
    "from tqdm import tqdm\n",
    "from sklearn.decomposition import PCA\n",
    "\n",
    "import matplotlib.pyplot as plt\n",
    "%matplotlib inline"
   ]
  },
  {
   "cell_type": "markdown",
   "metadata": {},
   "source": [
    "You can get the dataset from https://densitydesign.github.io/strumentalia-seealsology/\n",
    "\n",
    "__Steps to download:__\n",
    "\n",
    "a) Enter the following links:\n",
    "\n",
    "https://en.wikipedia.org/wiki/Space_research\n",
    "\n",
    "https://en.wikipedia.org/wiki/Space_Race\n",
    "\n",
    "https://en.wikipedia.org/wiki/Space_exploration\n",
    "\n",
    "b) Download the TSV file."
   ]
  },
  {
   "cell_type": "code",
   "execution_count": 2,
   "metadata": {
    "ExecuteTime": {
     "end_time": "2020-06-02T16:21:36.210049Z",
     "start_time": "2020-06-02T16:21:36.188477Z"
    }
   },
   "outputs": [],
   "source": [
    "df = pd.read_csv(\"space_data.tsv\", sep = \"\\t\")"
   ]
  },
  {
   "cell_type": "code",
   "execution_count": 3,
   "metadata": {
    "ExecuteTime": {
     "end_time": "2020-06-02T16:21:39.046807Z",
     "start_time": "2020-06-02T16:21:39.020897Z"
    }
   },
   "outputs": [
    {
     "data": {
      "text/html": [
       "<div>\n",
       "<style scoped>\n",
       "    .dataframe tbody tr th:only-of-type {\n",
       "        vertical-align: middle;\n",
       "    }\n",
       "\n",
       "    .dataframe tbody tr th {\n",
       "        vertical-align: top;\n",
       "    }\n",
       "\n",
       "    .dataframe thead th {\n",
       "        text-align: right;\n",
       "    }\n",
       "</style>\n",
       "<table border=\"1\" class=\"dataframe\">\n",
       "  <thead>\n",
       "    <tr style=\"text-align: right;\">\n",
       "      <th></th>\n",
       "      <th>source</th>\n",
       "      <th>target</th>\n",
       "      <th>depth</th>\n",
       "    </tr>\n",
       "  </thead>\n",
       "  <tbody>\n",
       "    <tr>\n",
       "      <th>0</th>\n",
       "      <td>space exploration</td>\n",
       "      <td>discovery and exploration of the solar system</td>\n",
       "      <td>1</td>\n",
       "    </tr>\n",
       "    <tr>\n",
       "      <th>1</th>\n",
       "      <td>space exploration</td>\n",
       "      <td>in-space propulsion technologies</td>\n",
       "      <td>1</td>\n",
       "    </tr>\n",
       "    <tr>\n",
       "      <th>2</th>\n",
       "      <td>space exploration</td>\n",
       "      <td>robotic spacecraft</td>\n",
       "      <td>1</td>\n",
       "    </tr>\n",
       "    <tr>\n",
       "      <th>3</th>\n",
       "      <td>space exploration</td>\n",
       "      <td>timeline of planetary exploration</td>\n",
       "      <td>1</td>\n",
       "    </tr>\n",
       "    <tr>\n",
       "      <th>4</th>\n",
       "      <td>space exploration</td>\n",
       "      <td>landings on other planets</td>\n",
       "      <td>1</td>\n",
       "    </tr>\n",
       "  </tbody>\n",
       "</table>\n",
       "</div>"
      ],
      "text/plain": [
       "              source                                         target  depth\n",
       "0  space exploration  discovery and exploration of the solar system      1\n",
       "1  space exploration               in-space propulsion technologies      1\n",
       "2  space exploration                             robotic spacecraft      1\n",
       "3  space exploration              timeline of planetary exploration      1\n",
       "4  space exploration                      landings on other planets      1"
      ]
     },
     "execution_count": 3,
     "metadata": {},
     "output_type": "execute_result"
    }
   ],
   "source": [
    "df.head()"
   ]
  },
  {
   "cell_type": "code",
   "execution_count": 4,
   "metadata": {
    "ExecuteTime": {
     "end_time": "2020-06-02T16:21:42.290016Z",
     "start_time": "2020-06-02T16:21:42.212854Z"
    }
   },
   "outputs": [
    {
     "data": {
      "text/plain": [
       "(3328, 3)"
      ]
     },
     "execution_count": 4,
     "metadata": {},
     "output_type": "execute_result"
    }
   ],
   "source": [
    "df.shape"
   ]
  },
  {
   "cell_type": "code",
   "execution_count": 5,
   "metadata": {
    "ExecuteTime": {
     "end_time": "2020-06-02T16:21:44.526484Z",
     "start_time": "2020-06-02T16:21:44.480869Z"
    }
   },
   "outputs": [],
   "source": [
    "# construct an undirected graph\n",
    "G=nx.from_pandas_edgelist(df, \"source\", \"target\", edge_attr=True, create_using=nx.Graph())"
   ]
  },
  {
   "cell_type": "code",
   "execution_count": 6,
   "metadata": {
    "ExecuteTime": {
     "end_time": "2020-06-02T16:21:47.440298Z",
     "start_time": "2020-06-02T16:21:47.397263Z"
    }
   },
   "outputs": [
    {
     "data": {
      "text/plain": [
       "2088"
      ]
     },
     "execution_count": 6,
     "metadata": {},
     "output_type": "execute_result"
    }
   ],
   "source": [
    "len(G) # number of nodes"
   ]
  },
  {
   "cell_type": "code",
   "execution_count": 7,
   "metadata": {
    "ExecuteTime": {
     "end_time": "2020-06-02T16:21:50.454607Z",
     "start_time": "2020-06-02T16:21:50.442907Z"
    }
   },
   "outputs": [],
   "source": [
    "# function to generate random walk sequences of nodes\n",
    "def get_randomwalk(node, path_length):\n",
    "    \n",
    "    random_walk = [node]\n",
    "    \n",
    "    for i in range(path_length-1):\n",
    "        temp = list(G.neighbors(node))\n",
    "        temp = list(set(temp) - set(random_walk))    \n",
    "        if len(temp) == 0:\n",
    "            break\n",
    "\n",
    "        random_node = random.choice(temp)\n",
    "        random_walk.append(random_node)\n",
    "        node = random_node\n",
    "        \n",
    "    return random_walk"
   ]
  },
  {
   "cell_type": "code",
   "execution_count": 8,
   "metadata": {
    "ExecuteTime": {
     "end_time": "2020-06-02T16:21:53.145735Z",
     "start_time": "2020-06-02T16:21:53.132173Z"
    }
   },
   "outputs": [
    {
     "data": {
      "text/plain": [
       "['space exploration', 'space capsule', 'reentry module']"
      ]
     },
     "execution_count": 8,
     "metadata": {},
     "output_type": "execute_result"
    }
   ],
   "source": [
    "get_randomwalk('space exploration', 10)"
   ]
  },
  {
   "cell_type": "code",
   "execution_count": 9,
   "metadata": {
    "ExecuteTime": {
     "end_time": "2020-06-02T16:22:20.432807Z",
     "start_time": "2020-06-02T16:22:20.051136Z"
    }
   },
   "outputs": [
    {
     "name": "stderr",
     "output_type": "stream",
     "text": [
      "100%|██████████| 2088/2088 [00:00<00:00, 5701.27it/s]\n"
     ]
    }
   ],
   "source": [
    "all_nodes = list(G.nodes())\n",
    "\n",
    "random_walks = []\n",
    "\n",
    "for n in tqdm(all_nodes):\n",
    "    for i in range(5):\n",
    "        random_walks.append(get_randomwalk(n,10))"
   ]
  },
  {
   "cell_type": "code",
   "execution_count": 10,
   "metadata": {
    "ExecuteTime": {
     "end_time": "2020-06-02T16:22:23.315571Z",
     "start_time": "2020-06-02T16:22:23.297509Z"
    }
   },
   "outputs": [
    {
     "data": {
      "text/plain": [
       "10440"
      ]
     },
     "execution_count": 10,
     "metadata": {},
     "output_type": "execute_result"
    }
   ],
   "source": [
    "# count of sequences\n",
    "len(random_walks)"
   ]
  },
  {
   "cell_type": "code",
   "execution_count": 11,
   "metadata": {
    "ExecuteTime": {
     "end_time": "2020-06-02T16:22:26.851875Z",
     "start_time": "2020-06-02T16:22:26.300988Z"
    }
   },
   "outputs": [],
   "source": [
    "from gensim.models import Word2Vec\n",
    "\n",
    "import warnings\n",
    "warnings.filterwarnings('ignore')"
   ]
  },
  {
   "cell_type": "code",
   "execution_count": 12,
   "metadata": {
    "ExecuteTime": {
     "end_time": "2020-06-02T16:22:32.592158Z",
     "start_time": "2020-06-02T16:22:32.449920Z"
    }
   },
   "outputs": [],
   "source": [
    "# train word2vec model\n",
    "model = Word2Vec(window = 4, sg = 1, hs = 0,\n",
    "                 negative = 10, # for negative sampling\n",
    "                 alpha=0.03, min_alpha=0.0007,\n",
    "                 seed = 14)\n",
    "\n",
    "model.build_vocab(random_walks, progress_per=2)"
   ]
  },
  {
   "cell_type": "code",
   "execution_count": 13,
   "metadata": {
    "ExecuteTime": {
     "end_time": "2020-06-02T16:22:40.129984Z",
     "start_time": "2020-06-02T16:22:36.841347Z"
    }
   },
   "outputs": [
    {
     "data": {
      "text/plain": [
       "(977065, 1007100)"
      ]
     },
     "execution_count": 13,
     "metadata": {},
     "output_type": "execute_result"
    }
   ],
   "source": [
    "model.train(random_walks, total_examples = model.corpus_count, epochs=20, report_delay=1)"
   ]
  },
  {
   "cell_type": "code",
   "execution_count": 14,
   "metadata": {
    "ExecuteTime": {
     "end_time": "2020-06-02T16:22:44.048815Z",
     "start_time": "2020-06-02T16:22:44.024876Z"
    }
   },
   "outputs": [
    {
     "name": "stdout",
     "output_type": "stream",
     "text": [
      "Word2Vec(vocab=2088, size=100, alpha=0.03)\n"
     ]
    }
   ],
   "source": [
    "print(model)"
   ]
  },
  {
   "cell_type": "code",
   "execution_count": 15,
   "metadata": {
    "ExecuteTime": {
     "end_time": "2020-06-02T16:22:48.200268Z",
     "start_time": "2020-06-02T16:22:48.181873Z"
    }
   },
   "outputs": [
    {
     "data": {
      "text/plain": [
       "[('reduced-gravity aircraft', 0.9726624488830566),\n",
       " ('micro-g environment', 0.9715100526809692),\n",
       " ('microgravity university', 0.9302940368652344),\n",
       " ('spaceflight osteopenia', 0.8936687707901001),\n",
       " ('renal stone formation in space', 0.8506874442100525),\n",
       " ('space flight participant', 0.8457537889480591),\n",
       " ('space tourism society', 0.8369277715682983),\n",
       " ('space adaptation syndrome', 0.8367847800254822),\n",
       " ('team composition and cohesion in spaceflight missions', 0.8093017339706421),\n",
       " ('space nursing', 0.8013267517089844)]"
      ]
     },
     "execution_count": 15,
     "metadata": {},
     "output_type": "execute_result"
    }
   ],
   "source": [
    "# find top n similar nodes\n",
    "model.similar_by_word('astronaut training')"
   ]
  },
  {
   "cell_type": "code",
   "execution_count": 16,
   "metadata": {
    "ExecuteTime": {
     "end_time": "2020-06-02T16:22:59.623564Z",
     "start_time": "2020-06-02T16:22:59.617332Z"
    }
   },
   "outputs": [],
   "source": [
    "terms = ['lunar escape systems','soviet moonshot', 'soyuz 7k-l1', 'moon landing',\n",
    "         'space food', 'food systems on space exploration missions', 'meal, ready-to-eat',\n",
    "         'space law', 'metalaw', 'moon treaty', 'legal aspects of computing',\n",
    "         'astronaut training', 'reduced-gravity aircraft', 'space adaptation syndrome', 'micro-g environment']"
   ]
  },
  {
   "cell_type": "code",
   "execution_count": 17,
   "metadata": {
    "ExecuteTime": {
     "end_time": "2020-06-02T16:23:03.324642Z",
     "start_time": "2020-06-02T16:23:03.311236Z"
    }
   },
   "outputs": [],
   "source": [
    "def plot_nodes(word_list):\n",
    "    X = model[word_list]\n",
    "    \n",
    "    # reduce dimensions to 2\n",
    "    pca = PCA(n_components=2)\n",
    "    result = pca.fit_transform(X)\n",
    "    \n",
    "    \n",
    "    plt.figure(figsize=(12,9))\n",
    "    # create a scatter plot of the projection\n",
    "    plt.scatter(result[:, 0], result[:, 1])\n",
    "    for i, word in enumerate(word_list):\n",
    "        plt.annotate(word, xy=(result[i, 0], result[i, 1]))\n",
    "        \n",
    "    plt.show()"
   ]
  },
  {
   "cell_type": "code",
   "execution_count": 18,
   "metadata": {
    "ExecuteTime": {
     "end_time": "2020-06-02T16:23:06.728275Z",
     "start_time": "2020-06-02T16:23:06.192025Z"
    }
   },
   "outputs": [
    {
     "data": {
      "image/png": "[encoded data removed]",
      "text/plain": [
       "<Figure size 864x648 with 1 Axes>"
      ]
     },
     "metadata": {
      "needs_background": "light"
     },
     "output_type": "display_data"
    }
   ],
   "source": [
    "plot_nodes(terms)"
   ]
  }
 ],
 "metadata": {
  "kernelspec": {
   "display_name": "Python 3",
   "language": "python",
   "name": "python3"
  },
  "language_info": {
   "codemirror_mode": {
    "name": "ipython",
    "version": 3
   },
   "file_extension": ".py",
   "mimetype": "text/x-python",
   "name": "python",
   "nbconvert_exporter": "python",
   "pygments_lexer": "ipython3",
   "version": "3.6.6"
  },
  "varInspector": {
   "cols": {
    "lenName": 16,
    "lenType": 16,
    "lenVar": 40
   },
   "kernels_config": {
    "python": {
     "delete_cmd_postfix": "",
     "delete_cmd_prefix": "del ",
     "library": "var_list.py",
     "varRefreshCmd": "print(var_dic_list())"
    },
    "r": {
     "delete_cmd_postfix": ") ",
     "delete_cmd_prefix": "rm(",
     "library": "var_list.r",
     "varRefreshCmd": "cat(var_dic_list()) "
    }
   },
   "types_to_exclude": [
    "module",
    "function",
    "builtin_function_or_method",
    "instance",
    "_Feature"
   ],
   "window_display": false
  }
 },
 "nbformat": 4,
 "nbformat_minor": 2
}
