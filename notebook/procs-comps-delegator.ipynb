{
 "cells": [
  {
   "cell_type": "code",
   "execution_count": 10,
   "metadata": {
    "ExecuteTime": {
     "end_time": "2020-06-29T07:48:39.920535Z",
     "start_time": "2020-06-29T07:48:39.914081Z"
    }
   },
   "outputs": [
    {
     "name": "stdout",
     "output_type": "stream",
     "text": [
      "x\n"
     ]
    }
   ],
   "source": [
    "class xr(object):\n",
    "    def __call__(self):\n",
    "        print('x')\n",
    "o=xr()\n",
    "o()"
   ]
  },
  {
   "cell_type": "code",
   "execution_count": 18,
   "metadata": {
    "ExecuteTime": {
     "end_time": "2020-06-29T07:56:07.831804Z",
     "start_time": "2020-06-29T07:56:07.804716Z"
    }
   },
   "outputs": [
    {
     "name": "stdout",
     "output_type": "stream",
     "text": [
      "http://localhost:1755/proc/simple/Simple {'sentence': 'Hugging Face is a technology company'}\n"
     ]
    },
    {
     "data": {
      "text/plain": [
       "{'code': 'ok',\n",
       " 'data': {'data': {'friends': [1, 2, '3'],\n",
       "   'id': '123',\n",
       "   'signup_ts': '2019-06-01 12:22',\n",
       "   'type': 'sagas.listings.testing.simple_co.SimpleCo'},\n",
       "  '__faust': {'ns': 'sagas.listings.co_data.CoData'}},\n",
       " '__faust': {'ns': 'sagas.listings.co_data.CoResult'}}"
      ]
     },
     "execution_count": 18,
     "metadata": {},
     "output_type": "execute_result"
    }
   ],
   "source": [
    "import requests\n",
    "import logging\n",
    "\n",
    "logger = logging.getLogger(__name__)\n",
    "\n",
    "class _executor(object):\n",
    "    def __init__(self, profile, method):        \n",
    "        self.profile=profile\n",
    "        self.method=method\n",
    "        self.url=f\"http://localhost:1755/proc/{self.profile}/{self.method}\"\n",
    "    def __call__(self, **kwargs):         \n",
    "        print(self.url, kwargs)\n",
    "        response = requests.post(self.url,json=kwargs)\n",
    "        if response.status_code == 200:\n",
    "            rs = response.json()\n",
    "            return rs\n",
    "        else:\n",
    "            return []\n",
    "    \n",
    "    def desc(self):\n",
    "        return {'url':self.url}\n",
    "                \n",
    "class CompsDelegator(object):\n",
    "    def __init__(self, profile):\n",
    "        self.profile=profile\n",
    "\n",
    "    def prepare(self, method):\n",
    "        return _executor(self.profile, method)\n",
    "\n",
    "    def __getattr__(self, method):\n",
    "        return self.prepare(method)\n",
    "    \n",
    "dele=CompsDelegator('simple')\n",
    "dele.Simple(sentence='Hugging Face is a technology company')"
   ]
  },
  {
   "cell_type": "code",
   "execution_count": 19,
   "metadata": {
    "ExecuteTime": {
     "end_time": "2020-06-29T07:56:12.501385Z",
     "start_time": "2020-06-29T07:56:12.495087Z"
    }
   },
   "outputs": [
    {
     "data": {
      "text/plain": [
       "{'url': 'http://localhost:1755/proc/simple/Simple'}"
      ]
     },
     "execution_count": 19,
     "metadata": {},
     "output_type": "execute_result"
    }
   ],
   "source": [
    "dele.Simple.desc()"
   ]
  },
  {
   "cell_type": "code",
   "execution_count": 20,
   "metadata": {
    "ExecuteTime": {
     "end_time": "2020-06-29T07:56:56.440714Z",
     "start_time": "2020-06-29T07:56:56.421597Z"
    }
   },
   "outputs": [
    {
     "name": "stdout",
     "output_type": "stream",
     "text": [
      "http://localhost:1755/proc/simple/Simple2 {'sentence': 'Hugging Face is a technology company'}\n"
     ]
    },
    {
     "data": {
      "text/plain": [
       "{'code': 'ok',\n",
       " 'data': {'data': {'friends': [1, 2, '3'],\n",
       "   'id': '345',\n",
       "   'signup_ts': '2019-06-01 12:22',\n",
       "   'type': 'sagas.listings.testing.simple_co.SimpleCo'},\n",
       "  '__faust': {'ns': 'sagas.listings.co_data.CoData'}},\n",
       " '__faust': {'ns': 'sagas.listings.co_data.CoResult'}}"
      ]
     },
     "execution_count": 20,
     "metadata": {},
     "output_type": "execute_result"
    }
   ],
   "source": [
    "class ProfileDelegator(object):\n",
    "    def __getattr__(self, method):\n",
    "        return CompsDelegator(method)\n",
    "\n",
    "profs=ProfileDelegator()\n",
    "profs.simple.Simple2(sentence='Hugging Face is a technology company')"
   ]
  },
  {
   "cell_type": "code",
   "execution_count": 21,
   "metadata": {
    "ExecuteTime": {
     "end_time": "2020-06-29T07:57:03.920116Z",
     "start_time": "2020-06-29T07:57:03.913027Z"
    }
   },
   "outputs": [
    {
     "data": {
      "text/plain": [
       "{'url': 'http://localhost:1755/proc/simple/Simple2'}"
      ]
     },
     "execution_count": 21,
     "metadata": {},
     "output_type": "execute_result"
    }
   ],
   "source": [
    "profs.simple.Simple2.desc()"
   ]
  }
 ],
 "metadata": {
  "kernelspec": {
   "display_name": "Python 3",
   "language": "python",
   "name": "python3"
  },
  "language_info": {
   "codemirror_mode": {
    "name": "ipython",
    "version": 3
   },
   "file_extension": ".py",
   "mimetype": "text/x-python",
   "name": "python",
   "nbconvert_exporter": "python",
   "pygments_lexer": "ipython3",
   "version": "3.7.7"
  },
  "varInspector": {
   "cols": {
    "lenName": 16,
    "lenType": 16,
    "lenVar": 40
   },
   "kernels_config": {
    "python": {
     "delete_cmd_postfix": "",
     "delete_cmd_prefix": "del ",
     "library": "var_list.py",
     "varRefreshCmd": "print(var_dic_list())"
    },
    "r": {
     "delete_cmd_postfix": ") ",
     "delete_cmd_prefix": "rm(",
     "library": "var_list.r",
     "varRefreshCmd": "cat(var_dic_list()) "
    }
   },
   "types_to_exclude": [
    "module",
    "function",
    "builtin_function_or_method",
    "instance",
    "_Feature"
   ],
   "window_display": false
  }
 },
 "nbformat": 4,
 "nbformat_minor": 4
}
