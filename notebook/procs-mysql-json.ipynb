{
 "cells": [
  {
   "cell_type": "code",
   "execution_count": 3,
   "metadata": {
    "ExecuteTime": {
     "end_time": "2020-03-12T05:13:19.306241Z",
     "start_time": "2020-03-12T05:13:19.258219Z"
    }
   },
   "outputs": [],
   "source": [
    "from mysql.connector import (connection)\n",
    "import mysql\n",
    "\n",
    "cnx = connection.MySQLConnection(user='root', password='root',\n",
    "                                 host='127.0.0.1',\n",
    "                                 database='test')\n",
    "# cnx.close()"
   ]
  },
  {
   "cell_type": "code",
   "execution_count": 14,
   "metadata": {
    "ExecuteTime": {
     "end_time": "2020-03-12T05:33:33.309740Z",
     "start_time": "2020-03-12T05:33:33.272284Z"
    }
   },
   "outputs": [
    {
     "name": "stdout",
     "output_type": "stream",
     "text": [
      "Creating table events already exists.\n"
     ]
    }
   ],
   "source": [
    "from mysql.connector import Error, errorcode\n",
    "\n",
    "# ref: https://www.mysqltutorial.org/mysql-json/\n",
    "def create(table_name, table_description):\n",
    "    try:\n",
    "        cursor = cnx.cursor()\n",
    "        print(\"Creating table {} \".format(table_name), end='')\n",
    "        cursor.execute(table_description)\n",
    "    except mysql.connector.Error as err:\n",
    "        if err.errno == errorcode.ER_TABLE_EXISTS_ERROR:\n",
    "            print(\"already exists.\")\n",
    "        else:\n",
    "            print(err.msg)\n",
    "    finally:\n",
    "        cursor.close()\n",
    "\n",
    "create('events', '''CREATE TABLE events( \n",
    "  id int auto_increment primary key, \n",
    "  event_name varchar(255), \n",
    "  visitor varchar(255), \n",
    "  properties json, \n",
    "  browser json\n",
    ");''')"
   ]
  },
  {
   "cell_type": "code",
   "execution_count": 9,
   "metadata": {
    "ExecuteTime": {
     "end_time": "2020-03-12T05:23:56.638110Z",
     "start_time": "2020-03-12T05:23:56.541691Z"
    }
   },
   "outputs": [
    {
     "data": {
      "text/plain": [
       "True"
      ]
     },
     "execution_count": 9,
     "metadata": {},
     "output_type": "execute_result"
    }
   ],
   "source": [
    "add_rec='''INSERT INTO events(event_name, visitor,properties, browser) \n",
    "VALUES (\n",
    "  'pageview', \n",
    "   '1',\n",
    "   '{ \"page\": \"/\" }',\n",
    "   '{ \"name\": \"Safari\", \"os\": \"Mac\", \"resolution\": { \"x\": 1920, \"y\": 1080 } }'\n",
    "),\n",
    "('pageview', \n",
    "  '2',\n",
    "  '{ \"page\": \"/contact\" }',\n",
    "  '{ \"name\": \"Firefox\", \"os\": \"Windows\", \"resolution\": { \"x\": 2560, \"y\": 1600 } }'\n",
    "),\n",
    "(\n",
    "  'pageview', \n",
    "  '1',\n",
    "  '{ \"page\": \"/products\" }',\n",
    "  '{ \"name\": \"Safari\", \"os\": \"Mac\", \"resolution\": { \"x\": 1920, \"y\": 1080 } }'\n",
    "),\n",
    "(\n",
    "  'purchase', \n",
    "   '3',\n",
    "  '{ \"amount\": 200 }',\n",
    "  '{ \"name\": \"Firefox\", \"os\": \"Windows\", \"resolution\": { \"x\": 1600, \"y\": 900 } }'\n",
    "),\n",
    "(\n",
    "  'purchase', \n",
    "   '4',\n",
    "  '{ \"amount\": 150 }',\n",
    "  '{ \"name\": \"Firefox\", \"os\": \"Windows\", \"resolution\": { \"x\": 1280, \"y\": 800 } }'\n",
    "),\n",
    "(\n",
    "  'purchase', \n",
    "  '4',\n",
    "  '{ \"amount\": 500 }',\n",
    "  '{ \"name\": \"Chrome\", \"os\": \"Windows\", \"resolution\": { \"x\": 1680, \"y\": 1050 } }'\n",
    ");\n",
    "'''\n",
    "cursor = cnx.cursor()\n",
    "cursor.execute(add_rec)\n",
    "cnx.commit()\n",
    "cursor.close()"
   ]
  },
  {
   "cell_type": "code",
   "execution_count": 11,
   "metadata": {
    "ExecuteTime": {
     "end_time": "2020-03-12T05:27:21.972754Z",
     "start_time": "2020-03-12T05:27:21.956319Z"
    }
   },
   "outputs": [
    {
     "name": "stdout",
     "output_type": "stream",
     "text": [
      "rec id:1, browser:Safari\n",
      "rec id:2, browser:Firefox\n",
      "rec id:3, browser:Safari\n",
      "rec id:4, browser:Firefox\n",
      "rec id:5, browser:Firefox\n",
      "rec id:6, browser:Chrome\n"
     ]
    },
    {
     "data": {
      "text/plain": [
       "True"
      ]
     },
     "execution_count": 11,
     "metadata": {},
     "output_type": "execute_result"
    }
   ],
   "source": [
    "# query='''SELECT id, browser->'$.name' browser\n",
    "# FROM events;\n",
    "# '''\n",
    "# To remove the quote marks, you use the inline path operator (->>)\n",
    "query='''SELECT id, browser->>'$.name' browser\n",
    "FROM events;\n",
    "'''\n",
    "cursor = cnx.cursor()\n",
    "cursor.execute(query)\n",
    "\n",
    "for (id, browser) in cursor:\n",
    "    print(f\"rec id:{id}, browser:{browser}\")\n",
    "\n",
    "cursor.close()"
   ]
  },
  {
   "cell_type": "code",
   "execution_count": 12,
   "metadata": {
    "ExecuteTime": {
     "end_time": "2020-03-12T05:29:37.777697Z",
     "start_time": "2020-03-12T05:29:37.762186Z"
    }
   },
   "outputs": [
    {
     "name": "stdout",
     "output_type": "stream",
     "text": [
      "rec Safari, 2\n",
      "rec Firefox, 3\n",
      "rec Chrome, 1\n"
     ]
    },
    {
     "data": {
      "text/plain": [
       "True"
      ]
     },
     "execution_count": 12,
     "metadata": {},
     "output_type": "execute_result"
    }
   ],
   "source": [
    "query='''SELECT browser->>'$.name' browser, \n",
    "      count(browser)\n",
    "FROM events\n",
    "GROUP BY browser->>'$.name';\n",
    "'''\n",
    "cursor = cnx.cursor()\n",
    "cursor.execute(query)\n",
    "\n",
    "for (browser,count) in cursor:\n",
    "    print(f\"rec {browser}, {count}\")\n",
    "\n",
    "cursor.close()"
   ]
  },
  {
   "cell_type": "code",
   "execution_count": 19,
   "metadata": {
    "ExecuteTime": {
     "end_time": "2020-03-12T05:58:28.660299Z",
     "start_time": "2020-03-12T05:58:28.644712Z"
    }
   },
   "outputs": [
    {
     "name": "stdout",
     "output_type": "stream",
     "text": [
      "rec 3, 200.0\n",
      "rec 4, 650.0\n"
     ]
    },
    {
     "data": {
      "text/plain": [
       "True"
      ]
     },
     "execution_count": 19,
     "metadata": {},
     "output_type": "execute_result"
    }
   ],
   "source": [
    "# To calculate the total revenue by the visitor, you use the following query:\n",
    "# paras={'amount':201}\n",
    "paras={'amount':0}\n",
    "query='''SELECT visitor, SUM(properties->>'$.amount') revenue\n",
    "FROM events\n",
    "WHERE properties->>'$.amount' > %(amount)s\n",
    "GROUP BY visitor;\n",
    "'''\n",
    "cursor = cnx.cursor()\n",
    "cursor.execute(query, paras)\n",
    "\n",
    "for (visitor,revenue) in cursor:\n",
    "    print(f\"rec {visitor}, {revenue}\")\n",
    "\n",
    "cursor.close()"
   ]
  },
  {
   "cell_type": "code",
   "execution_count": 16,
   "metadata": {
    "ExecuteTime": {
     "end_time": "2020-03-12T05:56:39.800697Z",
     "start_time": "2020-03-12T05:56:39.728344Z"
    }
   },
   "outputs": [],
   "source": [
    "?cursor.execute"
   ]
  },
  {
   "cell_type": "code",
   "execution_count": null,
   "metadata": {},
   "outputs": [],
   "source": []
  }
 ],
 "metadata": {
  "kernelspec": {
   "display_name": "Python 3",
   "language": "python",
   "name": "python3"
  },
  "language_info": {
   "codemirror_mode": {
    "name": "ipython",
    "version": 3
   },
   "file_extension": ".py",
   "mimetype": "text/x-python",
   "name": "python",
   "nbconvert_exporter": "python",
   "pygments_lexer": "ipython3",
   "version": "3.6.6"
  },
  "varInspector": {
   "cols": {
    "lenName": 16,
    "lenType": 16,
    "lenVar": 40
   },
   "kernels_config": {
    "python": {
     "delete_cmd_postfix": "",
     "delete_cmd_prefix": "del ",
     "library": "var_list.py",
     "varRefreshCmd": "print(var_dic_list())"
    },
    "r": {
     "delete_cmd_postfix": ") ",
     "delete_cmd_prefix": "rm(",
     "library": "var_list.r",
     "varRefreshCmd": "cat(var_dic_list()) "
    }
   },
   "types_to_exclude": [
    "module",
    "function",
    "builtin_function_or_method",
    "instance",
    "_Feature"
   ],
   "window_display": false
  }
 },
 "nbformat": 4,
 "nbformat_minor": 2
}
