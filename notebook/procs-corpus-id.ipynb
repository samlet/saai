{
 "cells": [
  {
   "cell_type": "code",
   "execution_count": 2,
   "metadata": {
    "ExecuteTime": {
     "end_time": "2020-04-02T14:30:21.646919Z",
     "start_time": "2020-04-02T14:30:21.521881Z"
    }
   },
   "outputs": [
    {
     "data": {
      "text/html": [
       "<div>\n",
       "<style scoped>\n",
       "    .dataframe tbody tr th:only-of-type {\n",
       "        vertical-align: middle;\n",
       "    }\n",
       "\n",
       "    .dataframe tbody tr th {\n",
       "        vertical-align: top;\n",
       "    }\n",
       "\n",
       "    .dataframe thead th {\n",
       "        text-align: right;\n",
       "    }\n",
       "</style>\n",
       "<table border=\"1\" class=\"dataframe\">\n",
       "  <thead>\n",
       "    <tr style=\"text-align: right;\">\n",
       "      <th></th>\n",
       "      <th>en</th>\n",
       "      <th>id</th>\n",
       "    </tr>\n",
       "  </thead>\n",
       "  <tbody>\n",
       "    <tr>\n",
       "      <th>0</th>\n",
       "      <td>Tom tried to defend Mary.</td>\n",
       "      <td>Tom mencoba untuk melindungi Mary.</td>\n",
       "    </tr>\n",
       "    <tr>\n",
       "      <th>1</th>\n",
       "      <td>Since he could not work out the problem that w...</td>\n",
       "      <td>Semenjak dia tidak dapat menyelesaikan masalah...</td>\n",
       "    </tr>\n",
       "    <tr>\n",
       "      <th>2</th>\n",
       "      <td>Tom posted a lewd photo of himself on social m...</td>\n",
       "      <td>Tom mengepos foto tidak senonohnya di media so...</td>\n",
       "    </tr>\n",
       "    <tr>\n",
       "      <th>3</th>\n",
       "      <td>Tom is wearing a biohazard suit.</td>\n",
       "      <td>Tom mengenakan baju biobahaya.</td>\n",
       "    </tr>\n",
       "    <tr>\n",
       "      <th>4</th>\n",
       "      <td>I felt the house shake.</td>\n",
       "      <td>Aku merasakan rumahnya berguncang.</td>\n",
       "    </tr>\n",
       "    <tr>\n",
       "      <th>5</th>\n",
       "      <td>Are you certain?</td>\n",
       "      <td>Apa kau yakin?</td>\n",
       "    </tr>\n",
       "    <tr>\n",
       "      <th>6</th>\n",
       "      <td>It is up to you.</td>\n",
       "      <td>Terserah padamu.</td>\n",
       "    </tr>\n",
       "    <tr>\n",
       "      <th>7</th>\n",
       "      <td>Let's find a solution that is acceptable to ev...</td>\n",
       "      <td>Mari cari solusi yang bisa diterima semua orang.</td>\n",
       "    </tr>\n",
       "    <tr>\n",
       "      <th>8</th>\n",
       "      <td>Grab a seat.</td>\n",
       "      <td>Duduklah.</td>\n",
       "    </tr>\n",
       "    <tr>\n",
       "      <th>9</th>\n",
       "      <td>I'm going to Europe next week.</td>\n",
       "      <td>Aku akan pergi ke Eropa minggu depan.</td>\n",
       "    </tr>\n",
       "  </tbody>\n",
       "</table>\n",
       "</div>"
      ],
      "text/plain": [
       "                                                  en  \\\n",
       "0                          Tom tried to defend Mary.   \n",
       "1  Since he could not work out the problem that w...   \n",
       "2  Tom posted a lewd photo of himself on social m...   \n",
       "3                   Tom is wearing a biohazard suit.   \n",
       "4                            I felt the house shake.   \n",
       "5                                   Are you certain?   \n",
       "6                                   It is up to you.   \n",
       "7  Let's find a solution that is acceptable to ev...   \n",
       "8                                       Grab a seat.   \n",
       "9                     I'm going to Europe next week.   \n",
       "\n",
       "                                                  id  \n",
       "0                 Tom mencoba untuk melindungi Mary.  \n",
       "1  Semenjak dia tidak dapat menyelesaikan masalah...  \n",
       "2  Tom mengepos foto tidak senonohnya di media so...  \n",
       "3                     Tom mengenakan baju biobahaya.  \n",
       "4                 Aku merasakan rumahnya berguncang.  \n",
       "5                                     Apa kau yakin?  \n",
       "6                                   Terserah padamu.  \n",
       "7   Mari cari solusi yang bisa diterima semua orang.  \n",
       "8                                          Duduklah.  \n",
       "9              Aku akan pergi ke Eropa minggu depan.  "
      ]
     },
     "execution_count": 2,
     "metadata": {},
     "output_type": "execute_result"
    }
   ],
   "source": [
    "from sagas.train.parallel_corpus import load_corpus, take_samples\n",
    "import sagas\n",
    "items=load_corpus('~/pi/ai/seq2seq/ind-eng/ind.txt')\n",
    "rows=take_samples(items)\n",
    "sagas.to_df(rows, ['en','id'])"
   ]
  },
  {
   "cell_type": "code",
   "execution_count": 4,
   "metadata": {
    "ExecuteTime": {
     "end_time": "2019-11-24T11:51:23.713633Z",
     "start_time": "2019-11-24T11:51:23.698092Z"
    }
   },
   "outputs": [
    {
     "data": {
      "text/html": [
       "<div>\n",
       "<style scoped>\n",
       "    .dataframe tbody tr th:only-of-type {\n",
       "        vertical-align: middle;\n",
       "    }\n",
       "\n",
       "    .dataframe tbody tr th {\n",
       "        vertical-align: top;\n",
       "    }\n",
       "\n",
       "    .dataframe thead th {\n",
       "        text-align: right;\n",
       "    }\n",
       "</style>\n",
       "<table border=\"1\" class=\"dataframe\">\n",
       "  <thead>\n",
       "    <tr style=\"text-align: right;\">\n",
       "      <th></th>\n",
       "      <th>en</th>\n",
       "      <th>id</th>\n",
       "    </tr>\n",
       "  </thead>\n",
       "  <tbody>\n",
       "    <tr>\n",
       "      <th>0</th>\n",
       "      <td>Run!</td>\n",
       "      <td>Lari!</td>\n",
       "    </tr>\n",
       "    <tr>\n",
       "      <th>1</th>\n",
       "      <td>Who?</td>\n",
       "      <td>Siapa?</td>\n",
       "    </tr>\n",
       "    <tr>\n",
       "      <th>2</th>\n",
       "      <td>Wow!</td>\n",
       "      <td>Wow!</td>\n",
       "    </tr>\n",
       "    <tr>\n",
       "      <th>3</th>\n",
       "      <td>Help!</td>\n",
       "      <td>Tolong!</td>\n",
       "    </tr>\n",
       "    <tr>\n",
       "      <th>4</th>\n",
       "      <td>Jump!</td>\n",
       "      <td>Lompat!</td>\n",
       "    </tr>\n",
       "  </tbody>\n",
       "</table>\n",
       "</div>"
      ],
      "text/plain": [
       "      en       id\n",
       "0   Run!    Lari!\n",
       "1   Who?   Siapa?\n",
       "2   Wow!     Wow!\n",
       "3  Help!  Tolong!\n",
       "4  Jump!  Lompat!"
      ]
     },
     "execution_count": 4,
     "metadata": {},
     "output_type": "execute_result"
    }
   ],
   "source": [
    "corpus_df=sagas.to_df(items, ['en','id'])\n",
    "corpus_df.head()"
   ]
  },
  {
   "cell_type": "code",
   "execution_count": 3,
   "metadata": {
    "ExecuteTime": {
     "end_time": "2020-04-02T14:30:28.658153Z",
     "start_time": "2020-04-02T14:30:28.475920Z"
    }
   },
   "outputs": [
    {
     "data": {
      "text/plain": [
       "['Activities',\n",
       " 'Adjectives 1',\n",
       " 'Adjectives 2',\n",
       " 'Adjectives 3',\n",
       " 'Adverbs',\n",
       " 'Appointment',\n",
       " 'Around the house',\n",
       " 'Asking for directions',\n",
       " 'Asking questions 1',\n",
       " 'Asking questions 2',\n",
       " 'At school',\n",
       " 'At the airport',\n",
       " 'At the bank',\n",
       " 'At the cinema',\n",
       " 'At the doctor',\n",
       " 'At the post office',\n",
       " 'At the restaurant 1',\n",
       " 'At the restaurant 2',\n",
       " 'At the restaurant 3',\n",
       " 'At the restaurant 4',\n",
       " 'At the train station',\n",
       " 'At the zoo',\n",
       " 'Beverages',\n",
       " 'Car breakdown',\n",
       " 'City tour',\n",
       " 'Colors',\n",
       " 'Conjunctions 1',\n",
       " 'Conjunctions 2',\n",
       " 'Conjunctions 3',\n",
       " 'Conjunctions 4',\n",
       " 'Countries and Languages',\n",
       " 'Days of the week',\n",
       " 'Double connectors',\n",
       " 'En route',\n",
       " 'Family Members',\n",
       " 'Feelings',\n",
       " 'Fruits and food',\n",
       " 'Genitive',\n",
       " 'Getting to know others',\n",
       " 'Going out in the evening',\n",
       " 'House cleaning',\n",
       " 'Imperative 1',\n",
       " 'Imperative 2',\n",
       " 'In nature',\n",
       " 'In the city',\n",
       " 'In the department store',\n",
       " 'In the discotheque',\n",
       " 'In the hotel – Arrival',\n",
       " 'In the hotel – Complaints',\n",
       " 'In the kitchen',\n",
       " 'In the swimming pool',\n",
       " 'In the taxi',\n",
       " 'Learning foreign languages',\n",
       " 'Months',\n",
       " 'Negation 1',\n",
       " 'Negation 2',\n",
       " 'Numbers',\n",
       " 'On the train',\n",
       " 'Ordinal numbers',\n",
       " 'Parts of the body',\n",
       " 'Past tense 1',\n",
       " 'Past tense 2',\n",
       " 'Past tense 3',\n",
       " 'Past tense 4',\n",
       " 'Past tense of modal verbs 1',\n",
       " 'Past tense of modal verbs 2',\n",
       " 'People',\n",
       " 'Possessive pronouns 1',\n",
       " 'Possessive pronouns 2',\n",
       " 'Preparing a trip',\n",
       " 'Public transportation',\n",
       " 'Questions – Past tense 1',\n",
       " 'Questions – Past tense 2',\n",
       " 'Reading and writing',\n",
       " 'Running errands',\n",
       " 'Seasons and Weather',\n",
       " 'Shopping',\n",
       " 'Shops',\n",
       " 'Small Talk 1',\n",
       " 'Small Talk 2',\n",
       " 'Small Talk 3',\n",
       " 'Sports',\n",
       " 'Subordinate clauses: if',\n",
       " 'Subordinate clauses: that 1',\n",
       " 'Subordinate clauses: that 2',\n",
       " 'The time',\n",
       " 'Vacation activities',\n",
       " 'Where is ... ?',\n",
       " 'Working',\n",
       " 'Yesterday – today – tomorrow',\n",
       " 'asking for something',\n",
       " 'big – small',\n",
       " 'giving reasons 1',\n",
       " 'giving reasons 2',\n",
       " 'giving reasons 3',\n",
       " 'to be allowed to',\n",
       " 'to have to do something / must',\n",
       " 'to like something',\n",
       " 'to need – to want to',\n",
       " 'to want something']"
      ]
     },
     "execution_count": 3,
     "metadata": {},
     "output_type": "execute_result"
    }
   ],
   "source": [
    "import pandas as pd\n",
    "def list_chapter_titles(lang):\n",
    "    dfjson = pd.read_json(f'~/pi/stack/crawlers/langcrs/all_{lang}.json')\n",
    "    return [name for name, group in dfjson.groupby('chapter')]\n",
    "list_chapter_titles('id')"
   ]
  },
  {
   "cell_type": "code",
   "execution_count": 33,
   "metadata": {
    "ExecuteTime": {
     "end_time": "2019-12-18T14:16:59.686377Z",
     "start_time": "2019-12-18T14:16:59.544481Z"
    }
   },
   "outputs": [
    {
     "data": {
      "text/plain": [
       "<pymongo.results.UpdateResult at 0x12d108348>"
      ]
     },
     "execution_count": 33,
     "metadata": {},
     "output_type": "execute_result"
    }
   ],
   "source": [
    "db.meta.update_one({'item': 'corpus'}, {'$set':{'chapters': list_chapter_titles('id')}}, upsert=True)"
   ]
  },
  {
   "cell_type": "code",
   "execution_count": 34,
   "metadata": {
    "ExecuteTime": {
     "end_time": "2019-12-18T14:17:22.756810Z",
     "start_time": "2019-12-18T14:17:22.732342Z"
    }
   },
   "outputs": [
    {
     "data": {
      "text/plain": [
       "{'_id': ObjectId('5dfa34dbf27fd7a9e58acf95'),\n",
       " 'item': 'corpus',\n",
       " 'chapters': ['Activities',\n",
       "  'Adjectives 1',\n",
       "  'Adjectives 2',\n",
       "  'Adjectives 3',\n",
       "  'Adverbs',\n",
       "  'Appointment',\n",
       "  'Around the house',\n",
       "  'Asking for directions',\n",
       "  'Asking questions 1',\n",
       "  'Asking questions 2',\n",
       "  'At school',\n",
       "  'At the airport',\n",
       "  'At the bank',\n",
       "  'At the cinema',\n",
       "  'At the doctor',\n",
       "  'At the post office',\n",
       "  'At the restaurant 1',\n",
       "  'At the restaurant 2',\n",
       "  'At the restaurant 3',\n",
       "  'At the restaurant 4',\n",
       "  'At the train station',\n",
       "  'At the zoo',\n",
       "  'Beverages',\n",
       "  'Car breakdown',\n",
       "  'City tour',\n",
       "  'Colors',\n",
       "  'Conjunctions 1',\n",
       "  'Conjunctions 2',\n",
       "  'Conjunctions 3',\n",
       "  'Conjunctions 4',\n",
       "  'Countries and Languages',\n",
       "  'Days of the week',\n",
       "  'Double connectors',\n",
       "  'En route',\n",
       "  'Family Members',\n",
       "  'Feelings',\n",
       "  'Fruits and food',\n",
       "  'Genitive',\n",
       "  'Getting to know others',\n",
       "  'Going out in the evening',\n",
       "  'House cleaning',\n",
       "  'Imperative 1',\n",
       "  'Imperative 2',\n",
       "  'In nature',\n",
       "  'In the city',\n",
       "  'In the department store',\n",
       "  'In the discotheque',\n",
       "  'In the hotel – Arrival',\n",
       "  'In the hotel – Complaints',\n",
       "  'In the kitchen',\n",
       "  'In the swimming pool',\n",
       "  'In the taxi',\n",
       "  'Learning foreign languages',\n",
       "  'Months',\n",
       "  'Negation 1',\n",
       "  'Negation 2',\n",
       "  'Numbers',\n",
       "  'On the train',\n",
       "  'Ordinal numbers',\n",
       "  'Parts of the body',\n",
       "  'Past tense 1',\n",
       "  'Past tense 2',\n",
       "  'Past tense 3',\n",
       "  'Past tense 4',\n",
       "  'Past tense of modal verbs 1',\n",
       "  'Past tense of modal verbs 2',\n",
       "  'People',\n",
       "  'Possessive pronouns 1',\n",
       "  'Possessive pronouns 2',\n",
       "  'Preparing a trip',\n",
       "  'Public transportation',\n",
       "  'Questions – Past tense 1',\n",
       "  'Questions – Past tense 2',\n",
       "  'Reading and writing',\n",
       "  'Running errands',\n",
       "  'Seasons and Weather',\n",
       "  'Shopping',\n",
       "  'Shops',\n",
       "  'Small Talk 1',\n",
       "  'Small Talk 2',\n",
       "  'Small Talk 3',\n",
       "  'Sports',\n",
       "  'Subordinate clauses: if',\n",
       "  'Subordinate clauses: that 1',\n",
       "  'Subordinate clauses: that 2',\n",
       "  'The time',\n",
       "  'Vacation activities',\n",
       "  'Where is ... ?',\n",
       "  'Working',\n",
       "  'Yesterday – today – tomorrow',\n",
       "  'asking for something',\n",
       "  'big – small',\n",
       "  'giving reasons 1',\n",
       "  'giving reasons 2',\n",
       "  'giving reasons 3',\n",
       "  'to be allowed to',\n",
       "  'to have to do something / must',\n",
       "  'to like something',\n",
       "  'to need – to want to',\n",
       "  'to want something']}"
      ]
     },
     "execution_count": 34,
     "metadata": {},
     "output_type": "execute_result"
    }
   ],
   "source": [
    "db.meta.find_one({'item':'corpus'})"
   ]
  },
  {
   "cell_type": "code",
   "execution_count": 2,
   "metadata": {
    "ExecuteTime": {
     "end_time": "2019-12-18T13:17:40.700643Z",
     "start_time": "2019-12-18T13:17:40.646360Z"
    }
   },
   "outputs": [
    {
     "data": {
      "text/html": [
       "<div>\n",
       "<style scoped>\n",
       "    .dataframe tbody tr th:only-of-type {\n",
       "        vertical-align: middle;\n",
       "    }\n",
       "\n",
       "    .dataframe tbody tr th {\n",
       "        vertical-align: top;\n",
       "    }\n",
       "\n",
       "    .dataframe thead th {\n",
       "        text-align: right;\n",
       "    }\n",
       "</style>\n",
       "<table border=\"1\" class=\"dataframe\">\n",
       "  <thead>\n",
       "    <tr style=\"text-align: right;\">\n",
       "      <th></th>\n",
       "      <th>chapter</th>\n",
       "      <th>index</th>\n",
       "      <th>text</th>\n",
       "      <th>translate</th>\n",
       "      <th>translit</th>\n",
       "      <th>audio</th>\n",
       "    </tr>\n",
       "  </thead>\n",
       "  <tbody>\n",
       "    <tr>\n",
       "      <th>0</th>\n",
       "      <td>People</td>\n",
       "      <td>1</td>\n",
       "      <td>I</td>\n",
       "      <td>saya</td>\n",
       "      <td></td>\n",
       "      <td>https://www.book2.nl/book2/ID/SOUND/0003.mp3</td>\n",
       "    </tr>\n",
       "    <tr>\n",
       "      <th>1</th>\n",
       "      <td>People</td>\n",
       "      <td>2</td>\n",
       "      <td>I and you</td>\n",
       "      <td>saya dan kamu</td>\n",
       "      <td></td>\n",
       "      <td>https://www.book2.nl/book2/ID/SOUND/0004.mp3</td>\n",
       "    </tr>\n",
       "    <tr>\n",
       "      <th>2</th>\n",
       "      <td>People</td>\n",
       "      <td>3</td>\n",
       "      <td>both of us</td>\n",
       "      <td>kami berdua</td>\n",
       "      <td></td>\n",
       "      <td>https://www.book2.nl/book2/ID/SOUND/0005.mp3</td>\n",
       "    </tr>\n",
       "    <tr>\n",
       "      <th>3</th>\n",
       "      <td>People</td>\n",
       "      <td>4</td>\n",
       "      <td>he</td>\n",
       "      <td>dia (laki-laki)</td>\n",
       "      <td></td>\n",
       "      <td>https://www.book2.nl/book2/ID/SOUND/0006.mp3</td>\n",
       "    </tr>\n",
       "    <tr>\n",
       "      <th>4</th>\n",
       "      <td>People</td>\n",
       "      <td>5</td>\n",
       "      <td>he and she</td>\n",
       "      <td>dia (laki-laki) dan dia (perempuan)</td>\n",
       "      <td></td>\n",
       "      <td>https://www.book2.nl/book2/ID/SOUND/0007.mp3</td>\n",
       "    </tr>\n",
       "  </tbody>\n",
       "</table>\n",
       "</div>"
      ],
      "text/plain": [
       "  chapter  index        text                            translate translit  \\\n",
       "0  People      1           I                                 saya            \n",
       "1  People      2   I and you                        saya dan kamu            \n",
       "2  People      3  both of us                          kami berdua            \n",
       "3  People      4          he                      dia (laki-laki)            \n",
       "4  People      5  he and she  dia (laki-laki) dan dia (perempuan)            \n",
       "\n",
       "                                          audio  \n",
       "0  https://www.book2.nl/book2/ID/SOUND/0003.mp3  \n",
       "1  https://www.book2.nl/book2/ID/SOUND/0004.mp3  \n",
       "2  https://www.book2.nl/book2/ID/SOUND/0005.mp3  \n",
       "3  https://www.book2.nl/book2/ID/SOUND/0006.mp3  \n",
       "4  https://www.book2.nl/book2/ID/SOUND/0007.mp3  "
      ]
     },
     "execution_count": 2,
     "metadata": {},
     "output_type": "execute_result"
    }
   ],
   "source": [
    "lang='id'\n",
    "dfjson = pd.read_json(f'/pi/stack/crawlers/langcrs/all_{lang}.json')\n",
    "dfjson.head()"
   ]
  },
  {
   "cell_type": "code",
   "execution_count": 4,
   "metadata": {
    "ExecuteTime": {
     "end_time": "2019-12-18T13:19:31.384786Z",
     "start_time": "2019-12-18T13:19:31.375717Z"
    }
   },
   "outputs": [
    {
     "name": "stdout",
     "output_type": "stream",
     "text": [
      "saya\n",
      "saya dan kamu\n",
      "kami berdua\n",
      "dia\n",
      "dia dan dia\n",
      "mereka berdua\n",
      "pria\n",
      "wanita\n",
      "anak\n",
      "sebuah keluarga\n"
     ]
    }
   ],
   "source": [
    "from sagas.nlu.utils import fix_sents\n",
    "for sent in dfjson['translate'][:10]:\n",
    "    print(fix_sents(sent, lang))"
   ]
  },
  {
   "cell_type": "code",
   "execution_count": 5,
   "metadata": {
    "ExecuteTime": {
     "end_time": "2019-12-18T13:29:19.893187Z",
     "start_time": "2019-12-18T13:29:19.758812Z"
    }
   },
   "outputs": [],
   "source": [
    "from pymongo import MongoClient\n",
    "client = MongoClient(port=27017)\n",
    "db=client.lang"
   ]
  },
  {
   "cell_type": "code",
   "execution_count": 9,
   "metadata": {
    "ExecuteTime": {
     "end_time": "2019-12-18T13:36:09.061543Z",
     "start_time": "2019-12-18T13:36:09.052961Z"
    }
   },
   "outputs": [
    {
     "name": "stdout",
     "output_type": "stream",
     "text": [
      "{'_id': ObjectId('5dfa0a52f27fd7a9e58aa65a'), 'z': 1}\n",
      "{'_id': ObjectId('5dfa0b1df27fd7a9e58aa67a'), 'x': 4}\n",
      "{'_id': ObjectId('5dfa0b35f27fd7a9e58aa67f'), 'x': 4}\n",
      "{'_id': ObjectId('5dfa0ba7f27fd7a9e58aa690'), 'y': 1, 'z': 'zval'}\n",
      "{'_id': ObjectId('5dfa0bb0f27fd7a9e58aa694'), 'y': 1, 'z': 'zval'}\n",
      "{'_id': ObjectId('5dfa0bbef27fd7a9e58aa699'), 'x': 2, 'y': 'yval', 'z': 'zval'}\n",
      "{'_id': ObjectId('5dfa0e11f27fd7a9e58aa6ef'), 'x': 1, 'y': 'yval', 'z': 'zval'}\n",
      "{'_id': ObjectId('5dfa0e45f27fd7a9e58aa6f8'), 'x': 11, 'y': 'yval'}\n"
     ]
    }
   ],
   "source": [
    "for doc in db.test.find({}):\n",
    "    print(doc)"
   ]
  },
  {
   "cell_type": "code",
   "execution_count": 20,
   "metadata": {
    "ExecuteTime": {
     "end_time": "2019-12-18T13:42:17.900480Z",
     "start_time": "2019-12-18T13:42:15.386380Z"
    }
   },
   "outputs": [],
   "source": [
    "def store_dataset(lang):\n",
    "    dfjson = pd.read_json(f'/pi/stack/crawlers/langcrs/all_{lang}.json')\n",
    "    for index, row in dfjson.iterrows():\n",
    "        result = db.corpus.update_one({'text': row['text'], 'chapter': row['chapter'], 'index':row['index']}, \n",
    "                                      {'$set':{f'lang_{lang}': row['translate']}}, \n",
    "                                      upsert=True)\n",
    "store_dataset('id')        "
   ]
  },
  {
   "cell_type": "code",
   "execution_count": 22,
   "metadata": {
    "ExecuteTime": {
     "end_time": "2019-12-18T13:42:39.486871Z",
     "start_time": "2019-12-18T13:42:36.812563Z"
    }
   },
   "outputs": [],
   "source": [
    "store_dataset('fr')"
   ]
  },
  {
   "cell_type": "code",
   "execution_count": 23,
   "metadata": {
    "ExecuteTime": {
     "end_time": "2019-12-18T13:42:45.134976Z",
     "start_time": "2019-12-18T13:42:45.125121Z"
    }
   },
   "outputs": [
    {
     "data": {
      "text/plain": [
       "1800"
      ]
     },
     "execution_count": 23,
     "metadata": {},
     "output_type": "execute_result"
    }
   ],
   "source": [
    "# db.corpus.count({})\n",
    "db.corpus.count_documents({})"
   ]
  },
  {
   "cell_type": "code",
   "execution_count": 31,
   "metadata": {
    "ExecuteTime": {
     "end_time": "2019-12-18T13:53:56.698493Z",
     "start_time": "2019-12-18T13:53:56.686488Z"
    }
   },
   "outputs": [
    {
     "name": "stdout",
     "output_type": "stream",
     "text": [
      "saya\n",
      "saya dan kamu\n",
      "kami berdua\n",
      "dia (laki-laki)\n",
      "dia (laki-laki) dan dia (perempuan)\n",
      "mereka berdua\n",
      "pria\n",
      "wanita\n",
      "anak\n",
      "sebuah keluarga\n",
      "keluarga saya\n",
      "Keluarga saya berada di sini.\n",
      "Saya di sini.\n",
      "Kamu di sini.\n",
      "Dia (laki-laki) di sini dan dia (perempuan) di sini.\n",
      "Kami di sini.\n",
      "Kalian di sini.\n",
      "Mereka semua di sini.\n"
     ]
    }
   ],
   "source": [
    "def list_chapter_text(lang, chapter, fix=False):\n",
    "    field=f'lang_{lang}' if lang!='en' else 'text'\n",
    "    print(*[doc[field] if not fix else fix_sents(doc[field], lang)\n",
    "            for doc in db.corpus.find({'chapter':chapter})], sep='\\n')\n",
    "\n",
    "list_chapter_text('id', 'People')    "
   ]
  },
  {
   "cell_type": "code",
   "execution_count": 30,
   "metadata": {
    "ExecuteTime": {
     "end_time": "2019-12-18T13:45:46.056887Z",
     "start_time": "2019-12-18T13:45:46.043733Z"
    }
   },
   "outputs": [
    {
     "name": "stdout",
     "output_type": "stream",
     "text": [
      "moi / je\n",
      "moi et toi\n",
      "nous deux\n",
      "lui / il\n",
      "lui et elle\n",
      "eux deux\n",
      "l’homme\n",
      "la femme\n",
      "l’enfant\n",
      "une famille\n",
      "ma famille\n",
      "Ma famille est ici.\n",
      "Je suis ici.\n",
      "Tu es ici.\n",
      "Il est ici et elle est ici.\n",
      "Nous sommes ici.\n",
      "Vous êtes ici.\n",
      "Ils sont tous ici.\n"
     ]
    }
   ],
   "source": [
    "list_chapter_text('fr', 'People', False)    "
   ]
  },
  {
   "cell_type": "code",
   "execution_count": 29,
   "metadata": {
    "ExecuteTime": {
     "end_time": "2019-12-18T13:45:33.799478Z",
     "start_time": "2019-12-18T13:45:33.787697Z"
    }
   },
   "outputs": [
    {
     "name": "stdout",
     "output_type": "stream",
     "text": [
      "moi\n",
      "moi et toi\n",
      "nous deux\n",
      "lui\n",
      "lui et elle\n",
      "eux deux\n",
      "l’homme\n",
      "la femme\n",
      "l’enfant\n",
      "une famille\n",
      "ma famille\n",
      "Ma famille est ici.\n",
      "Je suis ici.\n",
      "Tu es ici.\n",
      "Il est ici et elle est ici.\n",
      "Nous sommes ici.\n",
      "Vous êtes ici.\n",
      "Ils sont tous ici.\n"
     ]
    }
   ],
   "source": [
    "list_chapter_text('fr', 'People', True)    "
   ]
  },
  {
   "cell_type": "code",
   "execution_count": 32,
   "metadata": {
    "ExecuteTime": {
     "end_time": "2019-12-18T13:54:12.773828Z",
     "start_time": "2019-12-18T13:54:12.761774Z"
    }
   },
   "outputs": [
    {
     "name": "stdout",
     "output_type": "stream",
     "text": [
      "I\n",
      "I and you\n",
      "both of us\n",
      "he\n",
      "he and she\n",
      "they both\n",
      "the man\n",
      "the woman\n",
      "the child\n",
      "a family\n",
      "my family\n",
      "My family is here.\n",
      "I am here.\n",
      "You are here.\n",
      "He is here and she is here.\n",
      "We are here.\n",
      "You are here.\n",
      "They are all here.\n"
     ]
    }
   ],
   "source": [
    "list_chapter_text('en', 'People')    "
   ]
  },
  {
   "cell_type": "code",
   "execution_count": 36,
   "metadata": {
    "ExecuteTime": {
     "end_time": "2019-12-18T14:20:18.328580Z",
     "start_time": "2019-12-18T14:20:18.309367Z"
    }
   },
   "outputs": [
    {
     "data": {
      "text/plain": [
       "{'_id': ObjectId('5dfa2b10f27fd7a9e58aaa4f'),\n",
       " 'chapter': 'People',\n",
       " 'index': 3,\n",
       " 'text': 'both of us',\n",
       " 'lang_id': 'kami berdua',\n",
       " 'lang_fr': 'nous deux'}"
      ]
     },
     "execution_count": 36,
     "metadata": {},
     "output_type": "execute_result"
    }
   ],
   "source": [
    "db.corpus.find_one({'chapter':'People', 'index':3})"
   ]
  },
  {
   "cell_type": "code",
   "execution_count": 43,
   "metadata": {
    "ExecuteTime": {
     "end_time": "2019-12-18T14:25:50.456922Z",
     "start_time": "2019-12-18T14:25:50.440528Z"
    }
   },
   "outputs": [
    {
     "data": {
      "text/plain": [
       "{'_id': ObjectId('5dfa2b10f27fd7a9e58aaa4f'),\n",
       " 'chapter': 'People',\n",
       " 'index': 3,\n",
       " 'text': 'both of us',\n",
       " 'lang_id': 'kami berdua',\n",
       " 'lang_fr': 'nous deux',\n",
       " 'intent': 'person_plural'}"
      ]
     },
     "execution_count": 43,
     "metadata": {},
     "output_type": "execute_result"
    }
   ],
   "source": [
    "rec=db.corpus.find_one({'text': 'both of us'})\n",
    "rec"
   ]
  },
  {
   "cell_type": "code",
   "execution_count": 45,
   "metadata": {
    "ExecuteTime": {
     "end_time": "2019-12-18T14:26:25.394850Z",
     "start_time": "2019-12-18T14:26:25.381426Z"
    }
   },
   "outputs": [
    {
     "data": {
      "text/plain": [
       "'person_plural'"
      ]
     },
     "execution_count": 45,
     "metadata": {},
     "output_type": "execute_result"
    }
   ],
   "source": [
    "rec['intent'] if 'intent' in rec else 'none.'"
   ]
  },
  {
   "cell_type": "code",
   "execution_count": 41,
   "metadata": {
    "ExecuteTime": {
     "end_time": "2019-12-18T14:25:16.020027Z",
     "start_time": "2019-12-18T14:25:16.004073Z"
    }
   },
   "outputs": [],
   "source": [
    "result = db.corpus.update_many({'text': 'both of us'}, {'$set':{'intent': 'person_plural'}}, upsert=True)"
   ]
  },
  {
   "cell_type": "code",
   "execution_count": 58,
   "metadata": {
    "ExecuteTime": {
     "end_time": "2019-12-18T21:25:57.331791Z",
     "start_time": "2019-12-18T21:25:57.318059Z"
    }
   },
   "outputs": [
    {
     "name": "stdout",
     "output_type": "stream",
     "text": [
      "{'person_plural'}\n"
     ]
    },
    {
     "data": {
      "text/plain": [
       "{'both of us': 'person_plural'}"
      ]
     },
     "execution_count": 58,
     "metadata": {},
     "output_type": "execute_result"
    }
   ],
   "source": [
    "rs=db.corpus.find({ '$and': [ \n",
    "    { \"intent\": {'$not':{'$size': 0}} },\n",
    "    { \"intent\": {'$exists': True } }\n",
    "]})\n",
    "# print(rs.count())\n",
    "rm={r['text']:r['intent'] for r in rs}\n",
    "print({r for r in rm.values()})\n",
    "rm"
   ]
  }
 ],
 "metadata": {
  "kernelspec": {
   "display_name": "Python 3",
   "language": "python",
   "name": "python3"
  },
  "language_info": {
   "codemirror_mode": {
    "name": "ipython",
    "version": 3
   },
   "file_extension": ".py",
   "mimetype": "text/x-python",
   "name": "python",
   "nbconvert_exporter": "python",
   "pygments_lexer": "ipython3",
   "version": "3.6.6"
  },
  "varInspector": {
   "cols": {
    "lenName": 16,
    "lenType": 16,
    "lenVar": 40
   },
   "kernels_config": {
    "python": {
     "delete_cmd_postfix": "",
     "delete_cmd_prefix": "del ",
     "library": "var_list.py",
     "varRefreshCmd": "print(var_dic_list())"
    },
    "r": {
     "delete_cmd_postfix": ") ",
     "delete_cmd_prefix": "rm(",
     "library": "var_list.r",
     "varRefreshCmd": "cat(var_dic_list()) "
    }
   },
   "types_to_exclude": [
    "module",
    "function",
    "builtin_function_or_method",
    "instance",
    "_Feature"
   ],
   "window_display": false
  }
 },
 "nbformat": 4,
 "nbformat_minor": 2
}
