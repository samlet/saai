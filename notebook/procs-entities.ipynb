{
 "cells": [
  {
   "cell_type": "code",
   "execution_count": 5,
   "metadata": {
    "ExecuteTime": {
     "end_time": "2020-04-08T16:21:21.671153Z",
     "start_time": "2020-04-08T16:21:21.652860Z"
    }
   },
   "outputs": [
    {
     "data": {
      "text/plain": [
       "Entity(start=16, end=20, extractor='SpacyEntityExtractor', value='U.K.', entity='GPE', confidence=1)"
      ]
     },
     "execution_count": 5,
     "metadata": {},
     "output_type": "execute_result"
    }
   ],
   "source": [
    "from sagas.nlu.intf import Entity\n",
    "Entity.from_json(\"\"\"{\n",
    "        \"start\": 16,\n",
    "        \"extractor\": \"SpacyEntityExtractor\",\n",
    "        \"end\": 20,\n",
    "        \"value\": \"U.K.\",\n",
    "        \"entity\": \"GPE\",\n",
    "        \"confidence\": 1\n",
    "    }\"\"\")"
   ]
  },
  {
   "cell_type": "code",
   "execution_count": 21,
   "metadata": {
    "ExecuteTime": {
     "end_time": "2020-04-08T18:29:06.622230Z",
     "start_time": "2020-04-08T18:29:06.605903Z"
    }
   },
   "outputs": [
    {
     "data": {
      "text/plain": [
       "Entity(start=16, end=20, extractor='SpacyEntityExtractor', value='U.K.', entity='GPE', confidence=1)"
      ]
     },
     "execution_count": 21,
     "metadata": {},
     "output_type": "execute_result"
    }
   ],
   "source": [
    "Entity.from_dict({\n",
    "        \"start\": 16,\n",
    "        \"extractor\": \"SpacyEntityExtractor\",\n",
    "        \"end\": 20,\n",
    "        \"value\": \"U.K.\",\n",
    "        \"entity\": \"GPE\",\n",
    "        \"confidence\": 1\n",
    "    })"
   ]
  },
  {
   "cell_type": "code",
   "execution_count": 18,
   "metadata": {
    "ExecuteTime": {
     "end_time": "2020-04-08T17:03:53.334583Z",
     "start_time": "2020-04-08T17:03:52.902617Z"
    }
   },
   "outputs": [
    {
     "name": "stdout",
     "output_type": "stream",
     "text": [
      "root: man (man, noun) \n",
      "|-- nsubj: Chris (Chris, propn) \n",
      "|   +-- flat: Manning (Manning, propn) \n",
      "|-- cop: is (be, aux) \n",
      "|-- det: a (a, det) \n",
      "|-- amod: good (good, adj) \n",
      "+-- punct: . (., punct) \n"
     ]
    },
    {
     "data": {
      "text/plain": [
       "((24, 27), [['B-PERSON'], ['O'], ['O'], ['O'], ['O']])"
      ]
     },
     "execution_count": 18,
     "metadata": {},
     "output_type": "execute_result"
    }
   ],
   "source": [
    "from sagas.nlu.anal import build_anal_tree, Doc, AnalNode\n",
    "f=build_anal_tree(\"Chris Manning is a good man.\", 'en', 'stanza')\n",
    "f.draw()\n",
    "f.position, [n.entity for n in f.children]"
   ]
  },
  {
   "cell_type": "code",
   "execution_count": 20,
   "metadata": {
    "ExecuteTime": {
     "end_time": "2020-04-08T17:06:52.781264Z",
     "start_time": "2020-04-08T17:06:52.766376Z"
    }
   },
   "outputs": [
    {
     "name": "stdout",
     "output_type": "stream",
     "text": [
      "root: works (work, verb) Pres_3_Sing\n",
      "|-- nsubj: He (he, pron) \n",
      "|-- obl: University (University, propn) \n",
      "|   |-- case: in (in, adp) \n",
      "|   +-- compound: Stanford (Stanford, propn) \n",
      "+-- punct: . (., punct) \n"
     ]
    },
    {
     "data": {
      "text/plain": [
       "((3, 8), [['O'], ['E-ORG'], ['O'], ['B-ORG'], ['O']])"
      ]
     },
     "execution_count": 20,
     "metadata": {},
     "output_type": "execute_result"
    }
   ],
   "source": [
    "from sagas.nlu.anal import build_anal_tree, Doc, AnalNode\n",
    "f=build_anal_tree(\"He works in Stanford University.\", 'en', 'stanza')\n",
    "f.draw()\n",
    "f.position, [n.entity for n in f.descendants]"
   ]
  },
  {
   "cell_type": "code",
   "execution_count": 11,
   "metadata": {
    "ExecuteTime": {
     "end_time": "2020-04-08T16:51:20.555791Z",
     "start_time": "2020-04-08T16:51:20.060481Z"
    }
   },
   "outputs": [
    {
     "name": "stdout",
     "output_type": "stream",
     "text": [
      "total tokens and words: 13 13\n",
      "<Token id=1;words=[<Word id=1;text=Chris;lemma=Chris;upos=PROPN;xpos=NNP;feats=Number=Sing;head=6;deprel=nsubj>]>\n",
      "<Token id=2;words=[<Word id=2;text=Manning;lemma=Manning;upos=PROPN;xpos=NNP;feats=Number=Sing;head=1;deprel=flat>]>\n",
      "<Token id=3;words=[<Word id=3;text=is;lemma=be;upos=AUX;xpos=VBZ;feats=Mood=Ind|Number=Sing|Person=3|Tense=Pres|VerbForm=Fin;head=6;deprel=cop>]>\n",
      "<Token id=4;words=[<Word id=4;text=a;lemma=a;upos=DET;xpos=DT;feats=Definite=Ind|PronType=Art;head=6;deprel=det>]>\n",
      "<Token id=5;words=[<Word id=5;text=good;lemma=good;upos=ADJ;xpos=JJ;feats=Degree=Pos;head=6;deprel=amod>]>\n",
      "<Token id=6;words=[<Word id=6;text=man;lemma=man;upos=NOUN;xpos=NN;feats=Number=Sing;head=0;deprel=root>]>\n",
      "<Token id=7;words=[<Word id=7;text=.;lemma=.;upos=PUNCT;xpos=.;head=6;deprel=punct>]>\n",
      "('Chris', '6', 'nsubj')\n",
      "('Manning', '1', 'flat')\n",
      "('is', '6', 'cop')\n",
      "('a', '6', 'det')\n",
      "('good', '6', 'amod')\n",
      "('man', '0', 'root')\n",
      "('.', '6', 'punct')\n"
     ]
    }
   ],
   "source": [
    "from sagas.nlu.stanza_helper import get_nlp\n",
    "\n",
    "nlp=get_nlp('en')\n",
    "sts=nlp(\"Chris Manning is a good man. He works in Stanford University.\")\n",
    "print('total tokens and words:', sts.num_tokens, sts.num_words)\n",
    "sts.sentences[0].print_tokens()\n",
    "sts.sentences[0].print_dependencies()"
   ]
  },
  {
   "cell_type": "code",
   "execution_count": 17,
   "metadata": {
    "ExecuteTime": {
     "end_time": "2020-04-08T17:01:08.931175Z",
     "start_time": "2020-04-08T17:01:08.919551Z"
    }
   },
   "outputs": [
    {
     "data": {
      "text/plain": [
       "[{\n",
       "   \"text\": \"Chris Manning\",\n",
       "   \"type\": \"PERSON\",\n",
       "   \"start_char\": 0,\n",
       "   \"end_char\": 13\n",
       " }, {\n",
       "   \"text\": \"Stanford University\",\n",
       "   \"type\": \"ORG\",\n",
       "   \"start_char\": 41,\n",
       "   \"end_char\": 60\n",
       " }]"
      ]
     },
     "execution_count": 17,
     "metadata": {},
     "output_type": "execute_result"
    }
   ],
   "source": [
    "[ent for ent in sts.ents]"
   ]
  },
  {
   "cell_type": "code",
   "execution_count": 3,
   "metadata": {
    "ExecuteTime": {
     "end_time": "2020-04-08T18:53:12.994705Z",
     "start_time": "2020-04-08T18:53:12.966981Z"
    }
   },
   "outputs": [
    {
     "data": {
      "text/plain": [
       "[Entity(start=19, end=28, extractor='CRFEntityExtractor', value='hi', entity='price', confidence=0.930441018)]"
      ]
     },
     "execution_count": 3,
     "metadata": {},
     "output_type": "execute_result"
    }
   ],
   "source": [
    "from sagas.nlu.rasa_procs import get_entities\n",
    "get_entities('id like to find an expensive restaurant', 'rasa_simple')\n",
    "# sents='looking for a moderately priced restaurant'\n",
    "# get_entities(sents, 'rasa_simple')"
   ]
  },
  {
   "cell_type": "code",
   "execution_count": 1,
   "metadata": {
    "ExecuteTime": {
     "end_time": "2020-04-08T19:45:41.278757Z",
     "start_time": "2020-04-08T19:45:39.805857Z"
    }
   },
   "outputs": [
    {
     "name": "stdout",
     "output_type": "stream",
     "text": [
      "root: like (like, verb) \n",
      "|-- nsubj: i (i, pron) \n",
      "|-- aux: would (would, aux) \n",
      "|-- xcomp: find (find, verb) \n",
      "|   |-- mark: to (to, part) \n",
      "|   +-- obj: restaurant (restaurant, noun) \n",
      "|       |-- det: an (a, det) \n",
      "|       +-- amod: expensive (expensive, adj) \n",
      "+-- punct: . (., punct) \n"
     ]
    },
    {
     "data": {
      "text/plain": [
       "(3,\n",
       " [(1, 'i'),\n",
       "  (2, 'would'),\n",
       "  (5, 'find'),\n",
       "  (4, 'to'),\n",
       "  (8, 'restaurant'),\n",
       "  (6, 'an'),\n",
       "  (7, 'expensive'),\n",
       "  (9, '.')],\n",
       " {7: Entity(start=24, end=33, extractor='CRFEntityExtractor', value='hi', entity='price', confidence=0.930441018)},\n",
       " None,\n",
       " Entity(start=24, end=33, extractor='CRFEntityExtractor', value='hi', entity='price', confidence=0.930441018))"
      ]
     },
     "execution_count": 1,
     "metadata": {},
     "output_type": "execute_result"
    }
   ],
   "source": [
    "from sagas.nlu.anal import build_anal_tree, Doc, AnalNode\n",
    "f=build_anal_tree('i would like to find an expensive restaurant', 'en', 'stanza')\n",
    "f.draw()\n",
    "f.index, [(n.index,n.text) for n in f.descendants], \\\n",
    "    f.doc.ensure_data('rasa_simple'), f.ner, \\\n",
    "    f.get_by_index(7).ner"
   ]
  }
 ],
 "metadata": {
  "kernelspec": {
   "display_name": "Python 3",
   "language": "python",
   "name": "python3"
  },
  "language_info": {
   "codemirror_mode": {
    "name": "ipython",
    "version": 3
   },
   "file_extension": ".py",
   "mimetype": "text/x-python",
   "name": "python",
   "nbconvert_exporter": "python",
   "pygments_lexer": "ipython3",
   "version": "3.6.6"
  },
  "varInspector": {
   "cols": {
    "lenName": 16,
    "lenType": 16,
    "lenVar": 40
   },
   "kernels_config": {
    "python": {
     "delete_cmd_postfix": "",
     "delete_cmd_prefix": "del ",
     "library": "var_list.py",
     "varRefreshCmd": "print(var_dic_list())"
    },
    "r": {
     "delete_cmd_postfix": ") ",
     "delete_cmd_prefix": "rm(",
     "library": "var_list.r",
     "varRefreshCmd": "cat(var_dic_list()) "
    }
   },
   "types_to_exclude": [
    "module",
    "function",
    "builtin_function_or_method",
    "instance",
    "_Feature"
   ],
   "window_display": false
  }
 },
 "nbformat": 4,
 "nbformat_minor": 2
}
