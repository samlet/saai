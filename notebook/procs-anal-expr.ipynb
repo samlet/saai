{
 "cells": [
  {
   "cell_type": "code",
   "execution_count": 6,
   "metadata": {
    "ExecuteTime": {
     "end_time": "2020-04-11T08:25:27.225684Z",
     "start_time": "2020-04-11T08:25:27.207740Z"
    }
   },
   "outputs": [
    {
     "name": "stdout",
     "output_type": "stream",
     "text": [
      "match ->  behave_(ops=[], subj='s', obj='b', iobj=None, behave='o', flags={})\n",
      "match ->  behave_(ops=[('and', behave_(ops=[], subj='s2', obj='b', iobj=None, behave='o', flags={})), ('and', behave_(ops=[], subj='s3', obj='b', iobj=None, behave='o', flags={}))], subj='s1', obj='b', iobj=None, behave='o', flags={})\n"
     ]
    },
    {
     "data": {
      "text/plain": [
       "behave_(ops=[('and', behave_(ops=[], subj='s2', obj='b', iobj=None, behave='o', flags={})), ('and', behave_(ops=[], subj='s3', obj='b', iobj=None, behave='o', flags={}))], subj='s1', obj='b', iobj=None, behave='o', flags={})"
      ]
     },
     "execution_count": 6,
     "metadata": {},
     "output_type": "execute_result"
    }
   ],
   "source": [
    "from typing import Text, Any, Dict, List, Union, Optional, Tuple, Set\n",
    "from dataclasses import dataclass\n",
    "import json\n",
    "\n",
    "@dataclass\n",
    "class base_model_(object):\n",
    "    ops: List[Tuple]\n",
    "    def __and__(self, other):\n",
    "        self.ops.append(('and', other))\n",
    "        return self\n",
    "    def __or__(self, other):\n",
    "        self.ops.append(('or', other))\n",
    "        return self\n",
    "        \n",
    "@dataclass\n",
    "class behave_(base_model_):\n",
    "    subj: Union[str, 'behave_', 'desc_']\n",
    "    obj: Union[str, 'behave_', 'desc_']\n",
    "    iobj: Union[str, 'behave_', 'desc_']\n",
    "    behave: Union[str, 'behave_', 'desc_']    \n",
    "    flags: Dict[Text, Any]\n",
    "    def __init__(self, subj, behave, obj, iobj=None, **kwargs):\n",
    "        self.subj=subj\n",
    "        self.obj=obj\n",
    "        self.iobj=iobj\n",
    "        self.behave=behave        \n",
    "        self.ops=[]\n",
    "        self.flags=kwargs\n",
    "\n",
    "class AnalExpr(object):\n",
    "    def __init__(self, node):\n",
    "        self.node=node\n",
    "    def __eq__(self, other):\n",
    "        print('match -> ', other)\n",
    "        return other\n",
    "\n",
    "node_ex=AnalExpr('n')\n",
    "node_ex==behave_('s','o','b')\n",
    "node_ex==behave_('s1','o','b') & behave_('s2','o','b') & behave_('s3','o','b')"
   ]
  },
  {
   "cell_type": "code",
   "execution_count": 11,
   "metadata": {
    "ExecuteTime": {
     "end_time": "2020-04-11T09:02:33.245092Z",
     "start_time": "2020-04-11T09:02:33.237871Z"
    }
   },
   "outputs": [
    {
     "name": "stdout",
     "output_type": "stream",
     "text": [
      "('s1', 's2', 's3')\n",
      "('o', 'o', 'o')\n",
      "('b', 'b', 'b')\n"
     ]
    }
   ],
   "source": [
    "a=['s1','o','b']\n",
    "b=('s2','o','b')\n",
    "c=('s3','o','b')\n",
    "for n in zip(a,b,c):\n",
    "    print(n)"
   ]
  },
  {
   "cell_type": "code",
   "execution_count": 14,
   "metadata": {
    "ExecuteTime": {
     "end_time": "2020-04-11T10:10:24.003264Z",
     "start_time": "2020-04-11T10:10:23.994699Z"
    }
   },
   "outputs": [],
   "source": [
    "@dataclass\n",
    "class path_:\n",
    "    val: str\n",
    "\n",
    "# x={path_('x'):6}"
   ]
  },
  {
   "cell_type": "code",
   "execution_count": 1,
   "metadata": {
    "ExecuteTime": {
     "end_time": "2020-04-11T11:04:06.330949Z",
     "start_time": "2020-04-11T11:04:05.458705Z"
    }
   },
   "outputs": [
    {
     "data": {
      "text/plain": [
       "path: xcomp -> behave_"
      ]
     },
     "execution_count": 1,
     "metadata": {},
     "output_type": "execute_result"
    }
   ],
   "source": [
    "from sagas.nlu.anal_data_types import behave_, desc_, phrase_, rel_, pos_, path_, _\n",
    "path_('xcomp')==behave_(_, 'change|变', 'mind')"
   ]
  }
 ],
 "metadata": {
  "kernelspec": {
   "display_name": "Python 3",
   "language": "python",
   "name": "python3"
  },
  "language_info": {
   "codemirror_mode": {
    "name": "ipython",
    "version": 3
   },
   "file_extension": ".py",
   "mimetype": "text/x-python",
   "name": "python",
   "nbconvert_exporter": "python",
   "pygments_lexer": "ipython3",
   "version": "3.6.6"
  },
  "varInspector": {
   "cols": {
    "lenName": 16,
    "lenType": 16,
    "lenVar": 40
   },
   "kernels_config": {
    "python": {
     "delete_cmd_postfix": "",
     "delete_cmd_prefix": "del ",
     "library": "var_list.py",
     "varRefreshCmd": "print(var_dic_list())"
    },
    "r": {
     "delete_cmd_postfix": ") ",
     "delete_cmd_prefix": "rm(",
     "library": "var_list.r",
     "varRefreshCmd": "cat(var_dic_list()) "
    }
   },
   "types_to_exclude": [
    "module",
    "function",
    "builtin_function_or_method",
    "instance",
    "_Feature"
   ],
   "window_display": false
  }
 },
 "nbformat": 4,
 "nbformat_minor": 2
}
