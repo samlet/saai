{
 "cells": [
  {
   "cell_type": "code",
   "execution_count": 20,
   "metadata": {
    "ExecuteTime": {
     "end_time": "2020-04-09T19:16:26.576373Z",
     "start_time": "2020-04-09T19:16:26.556292Z"
    }
   },
   "outputs": [
    {
     "name": "stdout",
     "output_type": "stream",
     "text": [
      "match ->  behave_(subj='s', obj='o', behave='b', ops=[])\n",
      "match ->  behave_(subj='s1', obj='o', behave='b', ops=[('and', behave_(subj='s2', obj='o', behave='b', ops=[])), ('and', behave_(subj='s3', obj='o', behave='b', ops=[]))])\n"
     ]
    },
    {
     "data": {
      "text/plain": [
       "behave_(subj='s1', obj='o', behave='b', ops=[('and', behave_(subj='s2', obj='o', behave='b', ops=[])), ('and', behave_(subj='s3', obj='o', behave='b', ops=[]))])"
      ]
     },
     "execution_count": 20,
     "metadata": {},
     "output_type": "execute_result"
    }
   ],
   "source": [
    "from typing import Text, Any, Dict, List, Union, Optional, Tuple, Set\n",
    "from dataclasses import dataclass\n",
    "import json\n",
    "\n",
    "@dataclass\n",
    "class behave_(object):\n",
    "    subj: Union[str, 'behave_', 'desc_']\n",
    "    obj: Union[str, 'behave_', 'desc_']\n",
    "    behave: Union[str, 'behave_', 'desc_']\n",
    "    ops: List[Tuple]\n",
    "    \n",
    "    def __init__(self, subj, obj, behave):\n",
    "        self.subj=subj\n",
    "        self.obj=obj\n",
    "        self.behave=behave\n",
    "        self.ops=[]\n",
    "    def __and__(self, other):\n",
    "        self.ops.append(('and', other))\n",
    "        return self\n",
    "    def __or__(self, other):\n",
    "        self.ops.append(('or', other))\n",
    "        return self\n",
    "\n",
    "class AnalExpr(object):\n",
    "    def __init__(self, node):\n",
    "        self.node=node\n",
    "    def __eq__(self, other):\n",
    "        print('match -> ', other)\n",
    "        return other\n",
    "\n",
    "node_ex=AnalExpr('n')\n",
    "node_ex==behave_('s','o','b')\n",
    "node_ex==behave_('s1','o','b') & behave_('s2','o','b') & behave_('s3','o','b')"
   ]
  }
 ],
 "metadata": {
  "kernelspec": {
   "display_name": "Python 3",
   "language": "python",
   "name": "python3"
  },
  "language_info": {
   "codemirror_mode": {
    "name": "ipython",
    "version": 3
   },
   "file_extension": ".py",
   "mimetype": "text/x-python",
   "name": "python",
   "nbconvert_exporter": "python",
   "pygments_lexer": "ipython3",
   "version": "3.6.6"
  },
  "varInspector": {
   "cols": {
    "lenName": 16,
    "lenType": 16,
    "lenVar": 40
   },
   "kernels_config": {
    "python": {
     "delete_cmd_postfix": "",
     "delete_cmd_prefix": "del ",
     "library": "var_list.py",
     "varRefreshCmd": "print(var_dic_list())"
    },
    "r": {
     "delete_cmd_postfix": ") ",
     "delete_cmd_prefix": "rm(",
     "library": "var_list.r",
     "varRefreshCmd": "cat(var_dic_list()) "
    }
   },
   "types_to_exclude": [
    "module",
    "function",
    "builtin_function_or_method",
    "instance",
    "_Feature"
   ],
   "window_display": false
  }
 },
 "nbformat": 4,
 "nbformat_minor": 2
}
