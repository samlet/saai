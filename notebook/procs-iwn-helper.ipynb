{
 "cells": [
  {
   "cell_type": "code",
   "execution_count": 5,
   "metadata": {
    "ExecuteTime": {
     "end_time": "2020-03-20T04:46:35.667095Z",
     "start_time": "2020-03-20T04:46:35.426295Z"
    }
   },
   "outputs": [
    {
     "data": {
      "text/plain": [
       "[{'synset': 'seba',\n",
       "  'index': 8357,\n",
       "  'head': 'सेब',\n",
       "  'trans': {'word': 'apple', 'candidates': ['apple']}},\n",
       " {'synset': 'pera',\n",
       "  'index': 2349,\n",
       "  'head': 'पेड़',\n",
       "  'trans': {'word': 'tree', 'candidates': ['tree']}},\n",
       " {'synset': 'vanaspati',\n",
       "  'index': 1249,\n",
       "  'head': 'वनस्पति',\n",
       "  'trans': {'word': 'plant',\n",
       "   'candidates': ['plant', 'foliage', 'tree', 'greenstuff']}},\n",
       " {'synset': 'jiva',\n",
       "  'index': 1998,\n",
       "  'head': 'जीव',\n",
       "  'trans': {'word': 'life/creatures',\n",
       "   'candidates': ['life', 'soul', 'being', 'animal']}},\n",
       " {'synset': 'vastu',\n",
       "  'index': 923,\n",
       "  'head': 'वस्तु',\n",
       "  'trans': {'word': 'object/thing',\n",
       "   'candidates': ['object',\n",
       "    'commodity',\n",
       "    'item',\n",
       "    'thing',\n",
       "    'article',\n",
       "    'objective',\n",
       "    'manufactures']}},\n",
       " {'synset': 'seba',\n",
       "  'index': 8358,\n",
       "  'head': 'सेब',\n",
       "  'trans': {'word': 'apple', 'candidates': ['apple']}},\n",
       " {'synset': 'khadya phala',\n",
       "  'index': 4650,\n",
       "  'head': 'खाद्य फल',\n",
       "  'trans': {'word': 'edible fruits', 'candidates': []}}]"
      ]
     },
     "execution_count": 5,
     "metadata": {},
     "output_type": "execute_result"
    }
   ],
   "source": [
    "from sagas.tool.servant_delegator import Delegator\n",
    "word=\"सेब\"\n",
    "pos='noun'\n",
    "rs=Delegator().iwn_hypers(word=word, pos=pos)\n",
    "rs"
   ]
  },
  {
   "cell_type": "code",
   "execution_count": 12,
   "metadata": {
    "ExecuteTime": {
     "end_time": "2020-03-20T04:49:14.075485Z",
     "start_time": "2020-03-20T04:49:14.065109Z"
    }
   },
   "outputs": [
    {
     "data": {
      "text/plain": [
       "(True, True, True, False)"
      ]
     },
     "execution_count": 12,
     "metadata": {},
     "output_type": "execute_result"
    }
   ],
   "source": [
    "axis='khadya phala|edible fruits'\n",
    "def pred_axis(axis):\n",
    "    key,anno=axis.split('|')\n",
    "    syns=[syn for syn in rs if syn['synset']==key]\n",
    "    if syns:\n",
    "        for syn in syns:\n",
    "            trans=syn['trans']\n",
    "            if anno==trans['word'] or anno in trans['candidates']:\n",
    "                return True\n",
    "    return False\n",
    "\n",
    "pred_axis(axis), pred_axis('seba|apple'), pred_axis('vanaspati|tree'), pred_axis('vanaspati|err')"
   ]
  },
  {
   "cell_type": "code",
   "execution_count": 1,
   "metadata": {
    "ExecuteTime": {
     "end_time": "2020-03-20T07:25:43.087894Z",
     "start_time": "2020-03-20T07:25:42.459667Z"
    }
   },
   "outputs": [
    {
     "data": {
      "text/plain": [
       "'noun'"
      ]
     },
     "execution_count": 1,
     "metadata": {},
     "output_type": "execute_result"
    }
   ],
   "source": [
    "from sagas.nlu.utils import norm_pos\n",
    "norm_pos('c_noun')"
   ]
  },
  {
   "cell_type": "code",
   "execution_count": 2,
   "metadata": {
    "ExecuteTime": {
     "end_time": "2020-03-20T07:25:45.383579Z",
     "start_time": "2020-03-20T07:25:45.030910Z"
    }
   },
   "outputs": [
    {
     "data": {
      "text/plain": [
       "True"
      ]
     },
     "execution_count": 2,
     "metadata": {},
     "output_type": "execute_result"
    }
   ],
   "source": [
    "from sagas.hi.iwn_helper import inherit_axis\n",
    "inherit_axis('सेब', 'c_noun', 'khadya phala|edible fruits')"
   ]
  }
 ],
 "metadata": {
  "kernelspec": {
   "display_name": "Python 3",
   "language": "python",
   "name": "python3"
  },
  "language_info": {
   "codemirror_mode": {
    "name": "ipython",
    "version": 3
   },
   "file_extension": ".py",
   "mimetype": "text/x-python",
   "name": "python",
   "nbconvert_exporter": "python",
   "pygments_lexer": "ipython3",
   "version": "3.6.6"
  },
  "varInspector": {
   "cols": {
    "lenName": 16,
    "lenType": 16,
    "lenVar": 40
   },
   "kernels_config": {
    "python": {
     "delete_cmd_postfix": "",
     "delete_cmd_prefix": "del ",
     "library": "var_list.py",
     "varRefreshCmd": "print(var_dic_list())"
    },
    "r": {
     "delete_cmd_postfix": ") ",
     "delete_cmd_prefix": "rm(",
     "library": "var_list.r",
     "varRefreshCmd": "cat(var_dic_list()) "
    }
   },
   "types_to_exclude": [
    "module",
    "function",
    "builtin_function_or_method",
    "instance",
    "_Feature"
   ],
   "window_display": false
  }
 },
 "nbformat": 4,
 "nbformat_minor": 2
}
