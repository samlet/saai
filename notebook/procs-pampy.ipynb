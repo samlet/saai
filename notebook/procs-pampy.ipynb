{
 "cells": [
  {
   "cell_type": "code",
   "execution_count": 1,
   "metadata": {
    "ExecuteTime": {
     "end_time": "2020-03-12T08:15:50.429779Z",
     "start_time": "2020-03-12T08:15:50.419287Z"
    }
   },
   "outputs": [
    {
     "name": "stdout",
     "output_type": "stream",
     "text": [
      "125.88\n"
     ]
    }
   ],
   "source": [
    "from dataclasses import dataclass\n",
    "\n",
    "@dataclass\n",
    "class InventoryItem:\n",
    "    name: str\n",
    "    unit_price: float\n",
    "    quantity_on_hand: int = 0\n",
    "\n",
    "    def total_cost(self) -> float:\n",
    "        return self.unit_price * self.quantity_on_hand\n",
    "\n",
    "item = InventoryItem('hammers', 10.49, 12)\n",
    "print(item.total_cost())"
   ]
  },
  {
   "cell_type": "code",
   "execution_count": 3,
   "metadata": {
    "ExecuteTime": {
     "end_time": "2020-03-12T08:16:27.864064Z",
     "start_time": "2020-03-12T08:16:27.843320Z"
    }
   },
   "outputs": [
    {
     "data": {
      "text/plain": [
       "7"
      ]
     },
     "execution_count": 3,
     "metadata": {},
     "output_type": "execute_result"
    }
   ],
   "source": [
    "from pampy import match, _\n",
    "@dataclass\n",
    "class Pet:\n",
    "    name: str\n",
    "    age: int\n",
    "\n",
    "pet = Pet('rover', 7)\n",
    "\n",
    "match(pet, Pet('rover', _), lambda age: age)                    # => 7"
   ]
  },
  {
   "cell_type": "code",
   "execution_count": 4,
   "metadata": {
    "ExecuteTime": {
     "end_time": "2020-03-12T08:16:35.828708Z",
     "start_time": "2020-03-12T08:16:35.818241Z"
    }
   },
   "outputs": [
    {
     "data": {
      "text/plain": [
       "('rover', 7)"
      ]
     },
     "execution_count": 4,
     "metadata": {},
     "output_type": "execute_result"
    }
   ],
   "source": [
    "match(pet, Pet(_, 7), lambda name: name)                        # => 'rover'\n",
    "match(pet, Pet(_, _), lambda name, age: (name, age))            # => ('rover', 7)"
   ]
  },
  {
   "cell_type": "code",
   "execution_count": 23,
   "metadata": {
    "ExecuteTime": {
     "end_time": "2020-03-12T09:50:00.743007Z",
     "start_time": "2020-03-12T09:50:00.733353Z"
    }
   },
   "outputs": [
    {
     "data": {
      "text/plain": [
       "('adp', 'noun')"
      ]
     },
     "execution_count": 23,
     "metadata": {},
     "output_type": "execute_result"
    }
   ],
   "source": [
    "pet = { 'type': 'dog', 'details': { 'pos': 'adp' }, 'mark': {'pos': 'noun'} }\n",
    "\n",
    "match(pet, { 'details': { 'pos': _ }, 'mark': {'pos':_} }, lambda x,y: (x,y),\n",
    "      _,              \"anything else\"\n",
    "     )        # => 3"
   ]
  },
  {
   "cell_type": "code",
   "execution_count": 16,
   "metadata": {
    "ExecuteTime": {
     "end_time": "2020-03-12T08:44:19.937335Z",
     "start_time": "2020-03-12T08:44:19.933021Z"
    }
   },
   "outputs": [],
   "source": [
    "x={1:5}"
   ]
  },
  {
   "cell_type": "code",
   "execution_count": 17,
   "metadata": {
    "ExecuteTime": {
     "end_time": "2020-03-12T09:32:34.802176Z",
     "start_time": "2020-03-12T09:32:34.792151Z"
    }
   },
   "outputs": [
    {
     "name": "stdout",
     "output_type": "stream",
     "text": [
      "2.0\n",
      "['fuffy', 'puffy', 'buffy']\n"
     ]
    }
   ],
   "source": [
    "data = [\n",
    "    {\"type\": \"dog\", \"dog-name\": \"fuffy\", \"info\": {\"age\": 2}},\n",
    "    {\"type\": \"pet\", \"dog-name\": \"puffy\", \"info\": {\"age\": 1}},\n",
    "    {\"type\": \"cat\", \"cat-name\": \"buffy\", \"cat-info\": {\"age\": 3}},\n",
    "]\n",
    "\n",
    "# I want the average age of a pet, but the data is inconsistent :/\n",
    "ages = [match(row, {_: {\"age\": int}}, lambda field, age: age) for row in data]\n",
    "average_age = sum(ages) / len(ages)\n",
    "# self.assertEqual(average_age, (2+1+3)/3)\n",
    "print(average_age)\n",
    "\n",
    "# I want al the names, but data is inconsistent!\n",
    "names = [match(row, {\"type\": _, _: str}, lambda type, name_field, name: name) for row in data]\n",
    "# self.assertEqual(names, ['fuffy', 'puffy', 'buffy'])\n",
    "print(names)"
   ]
  },
  {
   "cell_type": "code",
   "execution_count": 20,
   "metadata": {
    "ExecuteTime": {
     "end_time": "2020-03-12T09:38:06.195748Z",
     "start_time": "2020-03-12T09:38:06.185111Z"
    }
   },
   "outputs": [
    {
     "data": {
      "text/plain": [
       "True"
      ]
     },
     "execution_count": 20,
     "metadata": {},
     "output_type": "execute_result"
    }
   ],
   "source": [
    "x={'x','y'}\n",
    "y={'y', 'x'}\n",
    "x==y"
   ]
  }
 ],
 "metadata": {
  "kernelspec": {
   "display_name": "Python 3",
   "language": "python",
   "name": "python3"
  },
  "language_info": {
   "codemirror_mode": {
    "name": "ipython",
    "version": 3
   },
   "file_extension": ".py",
   "mimetype": "text/x-python",
   "name": "python",
   "nbconvert_exporter": "python",
   "pygments_lexer": "ipython3",
   "version": "3.6.6"
  },
  "varInspector": {
   "cols": {
    "lenName": 16,
    "lenType": 16,
    "lenVar": 40
   },
   "kernels_config": {
    "python": {
     "delete_cmd_postfix": "",
     "delete_cmd_prefix": "del ",
     "library": "var_list.py",
     "varRefreshCmd": "print(var_dic_list())"
    },
    "r": {
     "delete_cmd_postfix": ") ",
     "delete_cmd_prefix": "rm(",
     "library": "var_list.r",
     "varRefreshCmd": "cat(var_dic_list()) "
    }
   },
   "types_to_exclude": [
    "module",
    "function",
    "builtin_function_or_method",
    "instance",
    "_Feature"
   ],
   "window_display": false
  }
 },
 "nbformat": 4,
 "nbformat_minor": 2
}
