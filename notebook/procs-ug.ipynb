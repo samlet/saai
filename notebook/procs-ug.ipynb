{
 "cells": [
  {
   "cell_type": "code",
   "execution_count": 2,
   "metadata": {
    "ExecuteTime": {
     "end_time": "2020-03-17T13:08:29.272729Z",
     "start_time": "2020-03-17T13:08:28.483109Z"
    }
   },
   "outputs": [],
   "source": [
    "import epitran\n",
    "epi = epitran.Epitran('uig-Arab')  # Uyghur in Perso-Arabic script"
   ]
  },
  {
   "cell_type": "code",
   "execution_count": 3,
   "metadata": {
    "ExecuteTime": {
     "end_time": "2020-03-17T13:08:41.057982Z",
     "start_time": "2020-03-17T13:08:41.039525Z"
    }
   },
   "outputs": [
    {
     "data": {
      "text/plain": [
       "'düğün'"
      ]
     },
     "execution_count": 3,
     "metadata": {},
     "output_type": "execute_result"
    }
   ],
   "source": [
    "epi.transliterate(u'Düğün')"
   ]
  },
  {
   "cell_type": "code",
   "execution_count": 4,
   "metadata": {
    "ExecuteTime": {
     "end_time": "2020-03-17T13:09:41.730787Z",
     "start_time": "2020-03-17T13:09:41.716988Z"
    }
   },
   "outputs": [
    {
     "data": {
      "text/plain": [
       "'afriqa'"
      ]
     },
     "execution_count": 4,
     "metadata": {},
     "output_type": "execute_result"
    }
   ],
   "source": [
    "text='ئافرىقا'\n",
    "epi.transliterate(text)"
   ]
  },
  {
   "cell_type": "code",
   "execution_count": 5,
   "metadata": {
    "ExecuteTime": {
     "end_time": "2020-03-17T13:10:24.846453Z",
     "start_time": "2020-03-17T13:10:24.836023Z"
    }
   },
   "outputs": [
    {
     "data": {
      "text/plain": [
       "'mɛn bir oquʁut͡ʃi'"
      ]
     },
     "execution_count": 5,
     "metadata": {},
     "output_type": "execute_result"
    }
   ],
   "source": [
    "text='مەن بىر ئوقۇغۇچى'\n",
    "epi.transliterate(text)"
   ]
  },
  {
   "cell_type": "code",
   "execution_count": 9,
   "metadata": {
    "ExecuteTime": {
     "end_time": "2020-03-17T14:14:10.369707Z",
     "start_time": "2020-03-17T14:14:10.336549Z"
    }
   },
   "outputs": [
    {
     "data": {
      "text/plain": [
       "('نۇسخسى', 'nusχsi')"
      ]
     },
     "execution_count": 9,
     "metadata": {},
     "output_type": "execute_result"
    }
   ],
   "source": [
    "from sagas.nlu.parse_client_helper import build_context\n",
    "from sagas.nlu.rules_header import *\n",
    "\n",
    "data={'lang': 'ug', \"sents\": 'بۇ گىلەمنىڭ نۇسخسى چىرايلىقكەن.'}\n",
    "ctx,pat=next(build_context(data, 'verb', name='_test_'))\n",
    "# {x[0] for x in ctx.domains}\n",
    "text=ctx.words['obj']\n",
    "(text, epi.transliterate(text))"
   ]
  },
  {
   "cell_type": "code",
   "execution_count": 10,
   "metadata": {
    "ExecuteTime": {
     "end_time": "2020-03-17T14:18:27.408313Z",
     "start_time": "2020-03-17T14:18:27.400726Z"
    }
   },
   "outputs": [
    {
     "data": {
      "text/plain": [
       "'بۇ گىلەمنىڭ نۇسخسى'"
      ]
     },
     "execution_count": 10,
     "metadata": {},
     "output_type": "execute_result"
    }
   ],
   "source": [
    "ctx.get_single_chunk_text('obj')"
   ]
  },
  {
   "cell_type": "code",
   "execution_count": 15,
   "metadata": {
    "ExecuteTime": {
     "end_time": "2020-03-17T14:24:07.655115Z",
     "start_time": "2020-03-17T14:24:07.630032Z"
    }
   },
   "outputs": [
    {
     "data": {
      "text/plain": [
       "('يىغلىمايۋاتىدۇ', 'jiʁlimajwatidu')"
      ]
     },
     "execution_count": 15,
     "metadata": {},
     "output_type": "execute_result"
    }
   ],
   "source": [
    "from sagas.nlu.parse_client_helper import build_context\n",
    "from sagas.nlu.rules_header import *\n",
    "\n",
    "data={'lang': 'ug', \"sents\": 'بوۋاق يىغلىمايۋاتىدۇ.'}\n",
    "ctx,pat=next(build_context(data, 'verb', name='_test_'))\n",
    "text=ctx.meta['word']\n",
    "(text, epi.transliterate(text))"
   ]
  },
  {
   "cell_type": "code",
   "execution_count": 17,
   "metadata": {
    "ExecuteTime": {
     "end_time": "2020-03-17T15:06:16.877475Z",
     "start_time": "2020-03-17T15:06:16.869377Z"
    }
   },
   "outputs": [
    {
     "data": {
      "text/plain": [
       "['uig.txt']"
      ]
     },
     "execution_count": 17,
     "metadata": {},
     "output_type": "execute_result"
    }
   ],
   "source": [
    "import glob\n",
    "glob.glob('*.txt')"
   ]
  },
  {
   "cell_type": "code",
   "execution_count": 24,
   "metadata": {
    "ExecuteTime": {
     "end_time": "2020-03-17T15:13:16.838204Z",
     "start_time": "2020-03-17T15:13:16.807373Z"
    }
   },
   "outputs": [
    {
     "data": {
      "text/html": [
       "<div>\n",
       "<style scoped>\n",
       "    .dataframe tbody tr th:only-of-type {\n",
       "        vertical-align: middle;\n",
       "    }\n",
       "\n",
       "    .dataframe tbody tr th {\n",
       "        vertical-align: top;\n",
       "    }\n",
       "\n",
       "    .dataframe thead th {\n",
       "        text-align: right;\n",
       "    }\n",
       "</style>\n",
       "<table border=\"1\" class=\"dataframe\">\n",
       "  <thead>\n",
       "    <tr style=\"text-align: right;\">\n",
       "      <th></th>\n",
       "      <th>Who am I?</th>\n",
       "      <th>مەن كىم ؟</th>\n",
       "    </tr>\n",
       "  </thead>\n",
       "  <tbody>\n",
       "    <tr>\n",
       "      <th>0</th>\n",
       "      <td>He shaved.</td>\n",
       "      <td>ئۇ ساقىلىنى ئالدى.</td>\n",
       "    </tr>\n",
       "    <tr>\n",
       "      <th>1</th>\n",
       "      <td>I am sick.</td>\n",
       "      <td>مەن كېسەل.</td>\n",
       "    </tr>\n",
       "    <tr>\n",
       "      <th>2</th>\n",
       "      <td>I like you.</td>\n",
       "      <td>مەن سىزنى ياخشى كۆرمەن</td>\n",
       "    </tr>\n",
       "    <tr>\n",
       "      <th>3</th>\n",
       "      <td>Who are we?</td>\n",
       "      <td>بىز كىم؟</td>\n",
       "    </tr>\n",
       "    <tr>\n",
       "      <th>4</th>\n",
       "      <td>I need help.</td>\n",
       "      <td>ماڭا ياردەم كېرەك.</td>\n",
       "    </tr>\n",
       "    <tr>\n",
       "      <th>...</th>\n",
       "      <td>...</td>\n",
       "      <td>...</td>\n",
       "    </tr>\n",
       "    <tr>\n",
       "      <th>277</th>\n",
       "      <td>Tom and Mary blamed themselves for everything ...</td>\n",
       "      <td>توم بىلەن مارىيە قىلىپ قويغان خاتالىقلىرىنى ئۆ...</td>\n",
       "    </tr>\n",
       "    <tr>\n",
       "      <th>278</th>\n",
       "      <td>We're on strike because the company hasn't imp...</td>\n",
       "      <td>شىركەت مۇئاشىمىزنى ئۆستۈرمىگەنلىكتىن ئىش تاشلا...</td>\n",
       "    </tr>\n",
       "    <tr>\n",
       "      <th>279</th>\n",
       "      <td>British and Japanese cars have steering wheels...</td>\n",
       "      <td>ئەنگىلىيە ۋە ياپۇنىيە ماشىنىلىرىنىڭ رولى ئوڭ ت...</td>\n",
       "    </tr>\n",
       "    <tr>\n",
       "      <th>280</th>\n",
       "      <td>My family is still working, so they can't go t...</td>\n",
       "      <td>ئائىلەمدىكىلەر ئىشلەۋاتقان بولغاچ دەماللىققا ت...</td>\n",
       "    </tr>\n",
       "    <tr>\n",
       "      <th>281</th>\n",
       "      <td>It is very difficult to persuade people to cha...</td>\n",
       "      <td>كىشىلەرنى تۇرمۇش ئۇسۇلىنى ئۆزگەرتىشكە ئۈندەش ن...</td>\n",
       "    </tr>\n",
       "  </tbody>\n",
       "</table>\n",
       "<p>282 rows × 2 columns</p>\n",
       "</div>"
      ],
      "text/plain": [
       "                                             Who am I?  \\\n",
       "0                                           He shaved.   \n",
       "1                                           I am sick.   \n",
       "2                                          I like you.   \n",
       "3                                          Who are we?   \n",
       "4                                         I need help.   \n",
       "..                                                 ...   \n",
       "277  Tom and Mary blamed themselves for everything ...   \n",
       "278  We're on strike because the company hasn't imp...   \n",
       "279  British and Japanese cars have steering wheels...   \n",
       "280  My family is still working, so they can't go t...   \n",
       "281  It is very difficult to persuade people to cha...   \n",
       "\n",
       "                                             مەن كىم ؟  \n",
       "0                                   ئۇ ساقىلىنى ئالدى.  \n",
       "1                                           مەن كېسەل.  \n",
       "2                               مەن سىزنى ياخشى كۆرمەن  \n",
       "3                                             بىز كىم؟  \n",
       "4                                   ماڭا ياردەم كېرەك.  \n",
       "..                                                 ...  \n",
       "277  توم بىلەن مارىيە قىلىپ قويغان خاتالىقلىرىنى ئۆ...  \n",
       "278  شىركەت مۇئاشىمىزنى ئۆستۈرمىگەنلىكتىن ئىش تاشلا...  \n",
       "279  ئەنگىلىيە ۋە ياپۇنىيە ماشىنىلىرىنىڭ رولى ئوڭ ت...  \n",
       "280  ئائىلەمدىكىلەر ئىشلەۋاتقان بولغاچ دەماللىققا ت...  \n",
       "281  كىشىلەرنى تۇرمۇش ئۇسۇلىنى ئۆزگەرتىشكە ئۈندەش ن...  \n",
       "\n",
       "[282 rows x 2 columns]"
      ]
     },
     "execution_count": 24,
     "metadata": {},
     "output_type": "execute_result"
    }
   ],
   "source": [
    "import pandas as pd\n",
    "data_path='uig.txt'\n",
    "df = pd.read_csv(data_path, sep='\\t').drop(df.columns[-1], axis=1)\n",
    "df"
   ]
  }
 ],
 "metadata": {
  "kernelspec": {
   "display_name": "Python 3",
   "language": "python",
   "name": "python3"
  },
  "language_info": {
   "codemirror_mode": {
    "name": "ipython",
    "version": 3
   },
   "file_extension": ".py",
   "mimetype": "text/x-python",
   "name": "python",
   "nbconvert_exporter": "python",
   "pygments_lexer": "ipython3",
   "version": "3.6.6"
  },
  "varInspector": {
   "cols": {
    "lenName": 16,
    "lenType": 16,
    "lenVar": 40
   },
   "kernels_config": {
    "python": {
     "delete_cmd_postfix": "",
     "delete_cmd_prefix": "del ",
     "library": "var_list.py",
     "varRefreshCmd": "print(var_dic_list())"
    },
    "r": {
     "delete_cmd_postfix": ") ",
     "delete_cmd_prefix": "rm(",
     "library": "var_list.r",
     "varRefreshCmd": "cat(var_dic_list()) "
    }
   },
   "types_to_exclude": [
    "module",
    "function",
    "builtin_function_or_method",
    "instance",
    "_Feature"
   ],
   "window_display": false
  }
 },
 "nbformat": 4,
 "nbformat_minor": 2
}
