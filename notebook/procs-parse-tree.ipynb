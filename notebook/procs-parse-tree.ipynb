{
 "cells": [
  {
   "cell_type": "code",
   "execution_count": 1,
   "metadata": {
    "ExecuteTime": {
     "end_time": "2020-04-04T15:05:00.356717Z",
     "start_time": "2020-04-04T15:04:58.134333Z"
    }
   },
   "outputs": [
    {
     "name": "stdout",
     "output_type": "stream",
     "text": [
      "root: estamos(estar; we're, verb, 2)\n",
      "├── punct: .(_, punct, 6)\n",
      "├── obl: escuela(escuela; school, noun, 5)\n",
      "│   ├── det: la(el; the, det, 4)\n",
      "│   └── case: en(en; in, adp, 3)\n",
      "└── nsubj: Nosotros(yo; We, pron, 1)\n"
     ]
    }
   ],
   "source": [
    "from sagas.nlu.nlu_tools import vis_tree\n",
    "from sagas.nlu.ruleset_procs import cached_chunks\n",
    "chunks = cached_chunks('Nosotros estamos en la escuela.',\n",
    "                       source='es',\n",
    "                       engine='stanza')\n",
    "ds=chunks['root_domains'][0]\n",
    "vis_tree(ds, 'es', trans=True)"
   ]
  },
  {
   "cell_type": "code",
   "execution_count": 2,
   "metadata": {
    "ExecuteTime": {
     "end_time": "2020-04-04T15:05:00.381959Z",
     "start_time": "2020-04-04T15:05:00.362956Z"
    }
   },
   "outputs": [
    {
     "data": {
      "text/plain": [
       "[{'index': 1,\n",
       "  'text': 'Nosotros',\n",
       "  'lemma': 'yo',\n",
       "  'upos': 'PRON',\n",
       "  'xpos': 'PRON',\n",
       "  'feats': 'Case=Acc,Nom|Gender=Masc|Number=Plur|Person=1|PronType=Prs',\n",
       "  'governor': 2,\n",
       "  'dependency_relation': 'nsubj',\n",
       "  'entity': ['O'],\n",
       "  'segments': []},\n",
       " {'index': 2,\n",
       "  'text': 'estamos',\n",
       "  'lemma': 'estar',\n",
       "  'upos': 'VERB',\n",
       "  'xpos': 'VERB',\n",
       "  'feats': 'Mood=Ind|Number=Plur|Person=1|Tense=Pres|VerbForm=Fin',\n",
       "  'governor': 0,\n",
       "  'dependency_relation': 'root',\n",
       "  'entity': ['O'],\n",
       "  'segments': []},\n",
       " {'index': 3,\n",
       "  'text': 'en',\n",
       "  'lemma': 'en',\n",
       "  'upos': 'ADP',\n",
       "  'xpos': 'ADP',\n",
       "  'feats': 'AdpType=Prep',\n",
       "  'governor': 5,\n",
       "  'dependency_relation': 'case',\n",
       "  'entity': ['O'],\n",
       "  'segments': []},\n",
       " {'index': 4,\n",
       "  'text': 'la',\n",
       "  'lemma': 'el',\n",
       "  'upos': 'DET',\n",
       "  'xpos': 'DET',\n",
       "  'feats': 'Definite=Def|Gender=Fem|Number=Sing|PronType=Art',\n",
       "  'governor': 5,\n",
       "  'dependency_relation': 'det',\n",
       "  'entity': ['O'],\n",
       "  'segments': []},\n",
       " {'index': 5,\n",
       "  'text': 'escuela',\n",
       "  'lemma': 'escuela',\n",
       "  'upos': 'NOUN',\n",
       "  'xpos': 'NOUN',\n",
       "  'feats': 'Gender=Fem|Number=Sing',\n",
       "  'governor': 2,\n",
       "  'dependency_relation': 'obl',\n",
       "  'entity': ['O'],\n",
       "  'segments': []},\n",
       " {'index': 6,\n",
       "  'text': '.',\n",
       "  'lemma': '.',\n",
       "  'upos': 'PUNCT',\n",
       "  'xpos': 'PUNCT',\n",
       "  'feats': 'PunctType=Peri',\n",
       "  'governor': 2,\n",
       "  'dependency_relation': 'punct',\n",
       "  'entity': ['O'],\n",
       "  'segments': []}]"
      ]
     },
     "execution_count": 2,
     "metadata": {},
     "output_type": "execute_result"
    }
   ],
   "source": [
    "chunks['doc'].as_json"
   ]
  },
  {
   "cell_type": "code",
   "execution_count": 3,
   "metadata": {
    "ExecuteTime": {
     "end_time": "2020-04-04T15:05:00.415483Z",
     "start_time": "2020-04-04T15:05:00.385680Z"
    }
   },
   "outputs": [
    {
     "data": {
      "text/plain": [
       "AnalNode(dependency_relation='nsubj', entity=['O'], feats={'Case': 'Acc,Nom', 'Gender': 'Masc', 'Number': 'Plur', 'Person': '1', 'PronType': 'Prs'}, governor=2, index=1, lemma='yo', name='nsubj', segments=[], text='Nosotros', tok=<JsonifyWordImpl index=1;text=Nosotros;lemma=yo;upos=PRON;xpos=PRON;feats=Case=Acc,Nom|Gender=Masc|Number=Plur|Person=1|PronType=Prs;governor=2;dependency_relation=nsubj>, upos='PRON', xpos='PRON')"
      ]
     },
     "execution_count": 3,
     "metadata": {},
     "output_type": "execute_result"
    }
   ],
   "source": [
    "from anytree.node.nodemixin import NodeMixin\n",
    "from anytree.node.util import _repr\n",
    "from sagas.nlu.uni_intf import SentenceIntf, WordIntf, RootWordImpl\n",
    "from sagas.nlu.features import feats_map\n",
    "class Token(object):\n",
    "    def __init__(self, tok:WordIntf):\n",
    "        self.tok=tok        \n",
    "        self.name=tok.dependency_relation if tok is not None else '_'\n",
    "class AnalNode(NodeMixin, Token):\n",
    "    def __init__(self, tok, parent=None, children=None, **kwargs):\n",
    "        super(AnalNode, self).__init__(tok)\n",
    "        self.__dict__.update(kwargs)\n",
    "        if tok:\n",
    "            self.__dict__.update(tok.ctx)\n",
    "            self.feats=feats_map(tok.feats)\n",
    "        self.parent = parent\n",
    "        if children:\n",
    "            self.children = children\n",
    "\n",
    "    def __repr__(self):\n",
    "        return _repr(self)\n",
    "\n",
    "words=chunks['doc'].words\n",
    "root = AnalNode(words[0])\n",
    "root"
   ]
  },
  {
   "cell_type": "code",
   "execution_count": 4,
   "metadata": {
    "ExecuteTime": {
     "end_time": "2020-04-04T15:05:00.428210Z",
     "start_time": "2020-04-04T15:05:00.418615Z"
    }
   },
   "outputs": [
    {
     "name": "stdout",
     "output_type": "stream",
     "text": [
      "root: estamos\n",
      "|-- nsubj: Nosotros\n",
      "|-- obl: escuela\n",
      "|   |-- case: en\n",
      "|   +-- det: la\n",
      "+-- punct: .\n"
     ]
    }
   ],
   "source": [
    "from anytree import Node, RenderTree, AsciiStyle, Walker, Resolver\n",
    "\n",
    "node_map={word.index:AnalNode(word) for word in words}\n",
    "node_map[0]=AnalNode(None)\n",
    "tree_root=next(w for w in node_map.values() if w.governor==0)\n",
    "def set_parent(w):\n",
    "    if w.tok:\n",
    "        w.parent=node_map[w.tok.governor]\n",
    "list(map(set_parent, node_map.values()))\n",
    "# print(RenderTree(tree_root, style=AsciiStyle()).by_attr('name'))\n",
    "print(RenderTree(tree_root, style=AsciiStyle()).by_attr(lambda n: f\"{n.dependency_relation}: {n.text}\"))"
   ]
  },
  {
   "cell_type": "code",
   "execution_count": 5,
   "metadata": {
    "ExecuteTime": {
     "end_time": "2020-04-04T15:05:00.444767Z",
     "start_time": "2020-04-04T15:05:00.436323Z"
    }
   },
   "outputs": [
    {
     "data": {
      "text/plain": [
       "(AnalNode(dependency_relation='root', entity=['O'], feats={'Mood': 'Ind', 'Number': 'Plur', 'Person': '1', 'Tense': 'Pres', 'VerbForm': 'Fin'}, governor=0, index=2, lemma='estar', name='root', segments=[], text='estamos', tok=<JsonifyWordImpl index=2;text=estamos;lemma=estar;upos=VERB;xpos=VERB;feats=Mood=Ind|Number=Plur|Person=1|Tense=Pres|VerbForm=Fin;governor=0;dependency_relation=root>, upos='VERB', xpos='VERB'),)"
      ]
     },
     "execution_count": 5,
     "metadata": {},
     "output_type": "execute_result"
    }
   ],
   "source": [
    "from anytree.search import findall, findall_by_attr\n",
    "words=findall_by_attr(tree_root, name='upos', value='VERB')\n",
    "words"
   ]
  },
  {
   "cell_type": "code",
   "execution_count": 6,
   "metadata": {
    "ExecuteTime": {
     "end_time": "2020-04-04T15:05:00.458507Z",
     "start_time": "2020-04-04T15:05:00.450404Z"
    }
   },
   "outputs": [
    {
     "name": "stdout",
     "output_type": "stream",
     "text": [
      "Pres_1_Plur\n"
     ]
    }
   ],
   "source": [
    "word=words[0]\n",
    "if 'Person' in word.feats:\n",
    "    personal=word.feats['Tense']+'_'+word.feats['Person']+'_'+word.feats['Number']\n",
    "    print(personal)"
   ]
  },
  {
   "cell_type": "code",
   "execution_count": 5,
   "metadata": {
    "ExecuteTime": {
     "end_time": "2020-04-04T17:05:44.666562Z",
     "start_time": "2020-04-04T17:05:44.639865Z"
    }
   },
   "outputs": [
    {
     "name": "stdout",
     "output_type": "stream",
     "text": [
      "root: sleeps (verb)\n",
      "|-- nsubj: she (pron)\n",
      "|-- obl: bed (noun)\n",
      "|   |-- case: on (adp)\n",
      "|   |-- det: the (det)\n",
      "|   +-- amod: green (adj)\n",
      "+-- punct: . (punct)\n"
     ]
    },
    {
     "data": {
      "text/plain": [
       "('sleeps', False, True)"
      ]
     },
     "execution_count": 5,
     "metadata": {},
     "output_type": "execute_result"
    }
   ],
   "source": [
    "from sagas.nlu.anal import build_anal_tree\n",
    "from anytree.search import findall, findall_by_attr\n",
    "\n",
    "sents='she sleeps on the green bed'\n",
    "lang='en'\n",
    "engine='stanza'\n",
    "\n",
    "f=build_anal_tree(sents, lang, engine)\n",
    "# f.verbs\n",
    "# f.rels('nsubj')\n",
    "f.draw()\n",
    "f.verbs[0].text, f.verbs[0].is_cat('physical_condition', '~'), \\\n",
    "    f.verbs[0].is_cat('physical_condition', 'n')"
   ]
  },
  {
   "cell_type": "code",
   "execution_count": 6,
   "metadata": {
    "ExecuteTime": {
     "end_time": "2020-04-04T17:06:10.609788Z",
     "start_time": "2020-04-04T17:06:10.589142Z"
    }
   },
   "outputs": [
    {
     "data": {
      "text/plain": [
       "'sleep'"
      ]
     },
     "execution_count": 6,
     "metadata": {},
     "output_type": "execute_result"
    }
   ],
   "source": [
    "f.verbs[0].axis"
   ]
  },
  {
   "cell_type": "code",
   "execution_count": 3,
   "metadata": {
    "ExecuteTime": {
     "end_time": "2020-04-04T15:36:17.154096Z",
     "start_time": "2020-04-04T15:36:17.143859Z"
    }
   },
   "outputs": [
    {
     "data": {
      "text/plain": [
       "AnalNode(dependency_relation='amod', entity=['O'], feats={'Degree': 'Pos'}, governor=6, index=5, lemma='green', name='amod', segments=[], text='green', tok=<JsonifyWordImpl index=5;text=green;lemma=green;upos=ADJ;xpos=JJ;feats=Degree=Pos;governor=6;dependency_relation=amod>, upos='ADJ', xpos='JJ')"
      ]
     },
     "execution_count": 3,
     "metadata": {},
     "output_type": "execute_result"
    }
   ],
   "source": [
    "from anytree import Node, RenderTree, AsciiStyle, Walker, Resolver\n",
    "r = Resolver('dependency_relation')\n",
    "r.get(f, \"./obl/amod\")"
   ]
  },
  {
   "cell_type": "code",
   "execution_count": 1,
   "metadata": {
    "ExecuteTime": {
     "end_time": "2020-04-04T19:02:08.701621Z",
     "start_time": "2020-04-04T19:02:06.847814Z"
    }
   },
   "outputs": [
    {
     "name": "stdout",
     "output_type": "stream",
     "text": [
      "root: estudiamos (estudiar, verb)\n",
      "|-- nsubj: Nosotros (yo, pron)\n",
      "|-- obj: francés (francés, noun)\n",
      "+-- punct: . (., punct)\n"
     ]
    },
    {
     "data": {
      "text/plain": [
       "('estudiamos', True, 'study')"
      ]
     },
     "execution_count": 1,
     "metadata": {},
     "output_type": "execute_result"
    }
   ],
   "source": [
    "from sagas.nlu.anal import build_anal_tree\n",
    "from anytree.search import findall, findall_by_attr\n",
    "f=build_anal_tree('Nosotros estudiamos francés.', 'es', 'stanza')\n",
    "f.draw()\n",
    "f.verbs[0].text, f.verbs[0].is_cat('learn'), \\\n",
    "    f.verbs[0].axis"
   ]
  },
  {
   "cell_type": "code",
   "execution_count": 2,
   "metadata": {
    "ExecuteTime": {
     "end_time": "2020-04-04T19:02:16.235478Z",
     "start_time": "2020-04-04T19:02:16.129707Z"
    }
   },
   "outputs": [
    {
     "data": {
      "text/plain": [
       "'study'"
      ]
     },
     "execution_count": 2,
     "metadata": {},
     "output_type": "execute_result"
    }
   ],
   "source": [
    "f.spec()"
   ]
  },
  {
   "cell_type": "code",
   "execution_count": 6,
   "metadata": {
    "ExecuteTime": {
     "end_time": "2020-04-04T18:10:25.431774Z",
     "start_time": "2020-04-04T18:10:25.367804Z"
    }
   },
   "outputs": [
    {
     "data": {
      "text/plain": [
       "True"
      ]
     },
     "execution_count": 6,
     "metadata": {},
     "output_type": "execute_result"
    }
   ],
   "source": [
    "# f.nouns[0].with_trans().sense\n",
    "f.nouns[0].with_trans()\n",
    "f.nouns[0].inherts('language|语言')"
   ]
  },
  {
   "cell_type": "code",
   "execution_count": 8,
   "metadata": {
    "ExecuteTime": {
     "end_time": "2020-04-04T18:15:42.878406Z",
     "start_time": "2020-04-04T18:15:42.851500Z"
    }
   },
   "outputs": [
    {
     "name": "stdout",
     "output_type": "stream",
     "text": [
      "0 []\n",
      "1 estudiamos\n",
      "2 ['francés']\n"
     ]
    }
   ],
   "source": [
    "rs=f.walk_to(f.nouns[0])\n",
    "for i,node in enumerate(rs):\n",
    "    print(i, [n.text for n in node] if isinstance(node, tuple) else node.text)"
   ]
  },
  {
   "cell_type": "code",
   "execution_count": 2,
   "metadata": {
    "ExecuteTime": {
     "end_time": "2020-04-04T18:41:37.371440Z",
     "start_time": "2020-04-04T18:41:37.360807Z"
    }
   },
   "outputs": [
    {
     "data": {
      "text/plain": [
       "' ._ estudiamos(root) ._ francés(obj)'"
      ]
     },
     "execution_count": 2,
     "metadata": {},
     "output_type": "execute_result"
    }
   ],
   "source": [
    "node_repr=lambda n: f\"{n.text}({n.dependency_relation})\"\n",
    "val_repr=lambda node: [node_repr(n) for n in node] if isinstance(node, tuple) else [node_repr(node)]\n",
    "' ._ '.join([','.join(val_repr(r)) for r in f.walk_to(f.nouns[0])])"
   ]
  },
  {
   "cell_type": "code",
   "execution_count": 7,
   "metadata": {
    "ExecuteTime": {
     "end_time": "2020-04-04T18:50:12.808798Z",
     "start_time": "2020-04-04T18:50:12.798584Z"
    }
   },
   "outputs": [
    {
     "data": {
      "text/plain": [
       "[AnalNode(dependency_relation='nsubj', entity=['O'], feats={'Case': 'Acc,Nom', 'Gender': 'Masc', 'Number': 'Plur', 'Person': '1', 'PronType': 'Prs'}, governor=2, index=1, lang='es', lemma='yo', name='nsubj', segments=[], text='Nosotros', tok=<JsonifyWordImpl index=1;text=Nosotros;lemma=yo;upos=PRON;xpos=PRON;feats=Case=Acc,Nom|Gender=Masc|Number=Plur|Person=1|PronType=Prs;governor=2;dependency_relation=nsubj>, upos='PRON', xpos='PRON')]"
      ]
     },
     "execution_count": 7,
     "metadata": {},
     "output_type": "execute_result"
    }
   ],
   "source": [
    "f.resolve_rels('*subj')"
   ]
  },
  {
   "cell_type": "code",
   "execution_count": 9,
   "metadata": {
    "ExecuteTime": {
     "end_time": "2020-04-04T18:51:24.313520Z",
     "start_time": "2020-04-04T18:51:24.295568Z"
    }
   },
   "outputs": [
    {
     "name": "stdout",
     "output_type": "stream",
     "text": [
      "Nosotros(nsubj) ._ estudiamos(root) ._ francés(obj)\n"
     ]
    }
   ],
   "source": [
    "from itertools import chain\n",
    "def generic_paths(f):\n",
    "    subjs=f.resolve_rels('*subj')\n",
    "    start=subjs[0] if subjs else f\n",
    "    for n in chain(f.nouns, f.adjectives):\n",
    "        start.walk_to(n, verbose=True)\n",
    "\n",
    "generic_paths(f)"
   ]
  },
  {
   "cell_type": "code",
   "execution_count": 2,
   "metadata": {
    "ExecuteTime": {
     "end_time": "2020-04-04T18:33:23.354542Z",
     "start_time": "2020-04-04T18:33:23.283543Z"
    },
    "scrolled": true
   },
   "outputs": [
    {
     "data": {
      "text/plain": [
       "('yo', 'I', '__1_Plur')"
      ]
     },
     "execution_count": 2,
     "metadata": {},
     "output_type": "execute_result"
    }
   ],
   "source": [
    "f.rels('nsubj')[0].lemma, f.rels('nsubj')[0].axis, \\\n",
    "    f.rels('nsubj')[0].personal_pronoun_repr"
   ]
  },
  {
   "cell_type": "code",
   "execution_count": null,
   "metadata": {},
   "outputs": [],
   "source": []
  },
  {
   "cell_type": "code",
   "execution_count": 3,
   "metadata": {
    "ExecuteTime": {
     "end_time": "2020-04-04T18:02:55.016388Z",
     "start_time": "2020-04-04T18:02:54.962061Z"
    }
   },
   "outputs": [
    {
     "data": {
      "text/plain": [
       "'French'"
      ]
     },
     "execution_count": 3,
     "metadata": {},
     "output_type": "execute_result"
    }
   ],
   "source": [
    "f.nouns[0].axis"
   ]
  },
  {
   "cell_type": "code",
   "execution_count": 5,
   "metadata": {
    "ExecuteTime": {
     "end_time": "2020-04-04T17:39:15.950669Z",
     "start_time": "2020-04-04T17:39:15.890292Z"
    }
   },
   "outputs": [
    {
     "data": {
      "text/plain": [
       "'study'"
      ]
     },
     "execution_count": 5,
     "metadata": {},
     "output_type": "execute_result"
    }
   ],
   "source": [
    "f.axis"
   ]
  },
  {
   "cell_type": "code",
   "execution_count": 2,
   "metadata": {
    "ExecuteTime": {
     "end_time": "2020-04-04T17:09:35.575998Z",
     "start_time": "2020-04-04T17:09:35.565895Z"
    }
   },
   "outputs": [
    {
     "data": {
      "text/plain": [
       "AnalNode(engine='stanza', lang='es', name='_', sents='Nosotros estudiamos francés.', tok=None)"
      ]
     },
     "execution_count": 2,
     "metadata": {},
     "output_type": "execute_result"
    }
   ],
   "source": [
    "f.parent"
   ]
  }
 ],
 "metadata": {
  "kernelspec": {
   "display_name": "Python 3",
   "language": "python",
   "name": "python3"
  },
  "language_info": {
   "codemirror_mode": {
    "name": "ipython",
    "version": 3
   },
   "file_extension": ".py",
   "mimetype": "text/x-python",
   "name": "python",
   "nbconvert_exporter": "python",
   "pygments_lexer": "ipython3",
   "version": "3.6.6"
  },
  "varInspector": {
   "cols": {
    "lenName": 16,
    "lenType": 16,
    "lenVar": 40
   },
   "kernels_config": {
    "python": {
     "delete_cmd_postfix": "",
     "delete_cmd_prefix": "del ",
     "library": "var_list.py",
     "varRefreshCmd": "print(var_dic_list())"
    },
    "r": {
     "delete_cmd_postfix": ") ",
     "delete_cmd_prefix": "rm(",
     "library": "var_list.r",
     "varRefreshCmd": "cat(var_dic_list()) "
    }
   },
   "types_to_exclude": [
    "module",
    "function",
    "builtin_function_or_method",
    "instance",
    "_Feature"
   ],
   "window_display": false
  }
 },
 "nbformat": 4,
 "nbformat_minor": 2
}
