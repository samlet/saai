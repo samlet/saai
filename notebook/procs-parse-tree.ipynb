{
 "cells": [
  {
   "cell_type": "code",
   "execution_count": 1,
   "metadata": {
    "ExecuteTime": {
     "end_time": "2020-04-03T10:31:08.732124Z",
     "start_time": "2020-04-03T10:31:06.387905Z"
    }
   },
   "outputs": [
    {
     "name": "stdout",
     "output_type": "stream",
     "text": [
      "root: estamos(estar; we're, verb, 2)\n",
      "├── obl: escuela(escuela; school, noun, 5)\n",
      "│   ├── det: la(el; the, det, 4)\n",
      "│   └── case: en(en; in, adp, 3)\n",
      "├── nsubj: Nosotros(yo; We, pron, 1)\n",
      "└── punct: .(_, punct, 6)\n"
     ]
    }
   ],
   "source": [
    "from sagas.nlu.nlu_tools import vis_tree\n",
    "from sagas.nlu.ruleset_procs import cached_chunks\n",
    "chunks = cached_chunks('Nosotros estamos en la escuela.',\n",
    "                       source='es',\n",
    "                       engine='stanza')\n",
    "ds=chunks['root_domains'][0]\n",
    "vis_tree(ds, 'es', trans=True)"
   ]
  },
  {
   "cell_type": "code",
   "execution_count": 2,
   "metadata": {
    "ExecuteTime": {
     "end_time": "2020-04-03T10:31:08.764637Z",
     "start_time": "2020-04-03T10:31:08.744651Z"
    }
   },
   "outputs": [
    {
     "data": {
      "text/plain": [
       "[{'index': 1,\n",
       "  'text': 'Nosotros',\n",
       "  'lemma': 'yo',\n",
       "  'upos': 'PRON',\n",
       "  'xpos': 'PRON',\n",
       "  'feats': 'Case=Acc,Nom|Gender=Masc|Number=Plur|Person=1|PronType=Prs',\n",
       "  'governor': 2,\n",
       "  'dependency_relation': 'nsubj',\n",
       "  'entity': ['O'],\n",
       "  'segments': []},\n",
       " {'index': 2,\n",
       "  'text': 'estamos',\n",
       "  'lemma': 'estar',\n",
       "  'upos': 'VERB',\n",
       "  'xpos': 'VERB',\n",
       "  'feats': 'Mood=Ind|Number=Plur|Person=1|Tense=Pres|VerbForm=Fin',\n",
       "  'governor': 0,\n",
       "  'dependency_relation': 'root',\n",
       "  'entity': ['O'],\n",
       "  'segments': []},\n",
       " {'index': 3,\n",
       "  'text': 'en',\n",
       "  'lemma': 'en',\n",
       "  'upos': 'ADP',\n",
       "  'xpos': 'ADP',\n",
       "  'feats': 'AdpType=Prep',\n",
       "  'governor': 5,\n",
       "  'dependency_relation': 'case',\n",
       "  'entity': ['O'],\n",
       "  'segments': []},\n",
       " {'index': 4,\n",
       "  'text': 'la',\n",
       "  'lemma': 'el',\n",
       "  'upos': 'DET',\n",
       "  'xpos': 'DET',\n",
       "  'feats': 'Definite=Def|Gender=Fem|Number=Sing|PronType=Art',\n",
       "  'governor': 5,\n",
       "  'dependency_relation': 'det',\n",
       "  'entity': ['O'],\n",
       "  'segments': []},\n",
       " {'index': 5,\n",
       "  'text': 'escuela',\n",
       "  'lemma': 'escuela',\n",
       "  'upos': 'NOUN',\n",
       "  'xpos': 'NOUN',\n",
       "  'feats': 'Gender=Fem|Number=Sing',\n",
       "  'governor': 2,\n",
       "  'dependency_relation': 'obl',\n",
       "  'entity': ['O'],\n",
       "  'segments': []},\n",
       " {'index': 6,\n",
       "  'text': '.',\n",
       "  'lemma': '.',\n",
       "  'upos': 'PUNCT',\n",
       "  'xpos': 'PUNCT',\n",
       "  'feats': 'PunctType=Peri',\n",
       "  'governor': 2,\n",
       "  'dependency_relation': 'punct',\n",
       "  'entity': ['O'],\n",
       "  'segments': []}]"
      ]
     },
     "execution_count": 2,
     "metadata": {},
     "output_type": "execute_result"
    }
   ],
   "source": [
    "chunks['doc'].as_json"
   ]
  },
  {
   "cell_type": "code",
   "execution_count": 15,
   "metadata": {
    "ExecuteTime": {
     "end_time": "2020-04-03T10:46:58.130474Z",
     "start_time": "2020-04-03T10:46:58.101144Z"
    }
   },
   "outputs": [
    {
     "data": {
      "text/plain": [
       "AnalNode(dependency_relation='nsubj', entity=['O'], feats={'Case': 'Acc,Nom', 'Gender': 'Masc', 'Number': 'Plur', 'Person': '1', 'PronType': 'Prs'}, governor=2, index=1, lemma='yo', name='nsubj', segments=[], text='Nosotros', tok=<JsonifyWordImpl index=1;text=Nosotros;lemma=yo;upos=PRON;xpos=PRON;feats=Case=Acc,Nom|Gender=Masc|Number=Plur|Person=1|PronType=Prs;governor=2;dependency_relation=nsubj>, upos='PRON', xpos='PRON')"
      ]
     },
     "execution_count": 15,
     "metadata": {},
     "output_type": "execute_result"
    }
   ],
   "source": [
    "from anytree.node.nodemixin import NodeMixin\n",
    "from anytree.node.util import _repr\n",
    "from sagas.nlu.uni_intf import SentenceIntf, WordIntf, RootWordImpl\n",
    "from sagas.nlu.features import feats_map\n",
    "class Token(object):\n",
    "    def __init__(self, tok:WordIntf):\n",
    "        self.tok=tok        \n",
    "        self.name=tok.dependency_relation if tok is not None else '_'\n",
    "class AnalNode(NodeMixin, Token):\n",
    "    def __init__(self, tok, parent=None, children=None, **kwargs):\n",
    "        super(AnalNode, self).__init__(tok)\n",
    "        self.__dict__.update(kwargs)\n",
    "        if tok:\n",
    "            self.__dict__.update(tok.ctx)\n",
    "            self.feats=feats_map(tok.feats)\n",
    "        self.parent = parent\n",
    "        if children:\n",
    "            self.children = children\n",
    "\n",
    "    def __repr__(self):\n",
    "        return _repr(self)\n",
    "\n",
    "words=chunks['doc'].words\n",
    "root = AnalNode(words[0])\n",
    "root"
   ]
  },
  {
   "cell_type": "code",
   "execution_count": 16,
   "metadata": {
    "ExecuteTime": {
     "end_time": "2020-04-03T10:47:08.945998Z",
     "start_time": "2020-04-03T10:47:08.933540Z"
    }
   },
   "outputs": [
    {
     "name": "stdout",
     "output_type": "stream",
     "text": [
      "root: estamos\n",
      "|-- nsubj: Nosotros\n",
      "|-- obl: escuela\n",
      "|   |-- case: en\n",
      "|   +-- det: la\n",
      "+-- punct: .\n"
     ]
    }
   ],
   "source": [
    "from anytree import Node, RenderTree, AsciiStyle, Walker, Resolver\n",
    "\n",
    "node_map={word.index:AnalNode(word) for word in words}\n",
    "node_map[0]=AnalNode(None)\n",
    "tree_root=next(w for w in node_map.values() if w.governor==0)\n",
    "def set_parent(w):\n",
    "    if w.tok:\n",
    "        w.parent=node_map[w.tok.governor]\n",
    "list(map(set_parent, node_map.values()))\n",
    "# print(RenderTree(tree_root, style=AsciiStyle()).by_attr('name'))\n",
    "print(RenderTree(tree_root, style=AsciiStyle()).by_attr(lambda n: f\"{n.dependency_relation}: {n.text}\"))"
   ]
  },
  {
   "cell_type": "code",
   "execution_count": 17,
   "metadata": {
    "ExecuteTime": {
     "end_time": "2020-04-03T10:47:11.024865Z",
     "start_time": "2020-04-03T10:47:11.014927Z"
    }
   },
   "outputs": [
    {
     "data": {
      "text/plain": [
       "(AnalNode(dependency_relation='root', entity=['O'], feats={'Mood': 'Ind', 'Number': 'Plur', 'Person': '1', 'Tense': 'Pres', 'VerbForm': 'Fin'}, governor=0, index=2, lemma='estar', name='root', segments=[], text='estamos', tok=<JsonifyWordImpl index=2;text=estamos;lemma=estar;upos=VERB;xpos=VERB;feats=Mood=Ind|Number=Plur|Person=1|Tense=Pres|VerbForm=Fin;governor=0;dependency_relation=root>, upos='VERB', xpos='VERB'),)"
      ]
     },
     "execution_count": 17,
     "metadata": {},
     "output_type": "execute_result"
    }
   ],
   "source": [
    "from anytree.search import findall, findall_by_attr\n",
    "words=findall_by_attr(tree_root, name='upos', value='VERB')\n",
    "words"
   ]
  }
 ],
 "metadata": {
  "kernelspec": {
   "display_name": "Python 3",
   "language": "python",
   "name": "python3"
  },
  "language_info": {
   "codemirror_mode": {
    "name": "ipython",
    "version": 3
   },
   "file_extension": ".py",
   "mimetype": "text/x-python",
   "name": "python",
   "nbconvert_exporter": "python",
   "pygments_lexer": "ipython3",
   "version": "3.6.6"
  },
  "varInspector": {
   "cols": {
    "lenName": 16,
    "lenType": 16,
    "lenVar": 40
   },
   "kernels_config": {
    "python": {
     "delete_cmd_postfix": "",
     "delete_cmd_prefix": "del ",
     "library": "var_list.py",
     "varRefreshCmd": "print(var_dic_list())"
    },
    "r": {
     "delete_cmd_postfix": ") ",
     "delete_cmd_prefix": "rm(",
     "library": "var_list.r",
     "varRefreshCmd": "cat(var_dic_list()) "
    }
   },
   "types_to_exclude": [
    "module",
    "function",
    "builtin_function_or_method",
    "instance",
    "_Feature"
   ],
   "window_display": false
  }
 },
 "nbformat": 4,
 "nbformat_minor": 2
}
