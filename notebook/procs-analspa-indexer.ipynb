{
 "cells": [
  {
   "cell_type": "code",
   "execution_count": 1,
   "metadata": {
    "ExecuteTime": {
     "end_time": "2020-06-11T00:36:32.479963Z",
     "start_time": "2020-06-11T00:36:29.845809Z"
    }
   },
   "outputs": [],
   "source": [
    "from sagas.nlu.anal import from_doc\n",
    "from os.path import expanduser\n",
    "from spacy.lookups import Lookups\n",
    "from sagas.nlu.analspa import analspa, read_doc, write_docs\n",
    "\n",
    "idx_file=expanduser(\"~/pi/data/docs/simple_4318_verbs.idx\")\n",
    "\n",
    "lookups = Lookups()\n",
    "lookups.from_disk(idx_file)\n",
    "table = lookups.get_table(\"verbs\")"
   ]
  },
  {
   "cell_type": "code",
   "execution_count": 2,
   "metadata": {
    "ExecuteTime": {
     "end_time": "2020-06-11T00:36:35.232952Z",
     "start_time": "2020-06-11T00:36:32.484231Z"
    }
   },
   "outputs": [],
   "source": [
    "docs_loc='~/pi/data/docs/'\n",
    "bin_name='simple_4318.bin'\n",
    "docs=read_doc('en', docs_loc+bin_name)"
   ]
  },
  {
   "cell_type": "code",
   "execution_count": 3,
   "metadata": {
    "ExecuteTime": {
     "end_time": "2020-06-11T00:36:35.251394Z",
     "start_time": "2020-06-11T00:36:35.235537Z"
    }
   },
   "outputs": [
    {
     "data": {
      "text/plain": [
       "(salman has decided to mentor his longtime loyal bodyguard shera's son as well.,\n",
       " spacy.tokens.doc.Doc)"
      ]
     },
     "execution_count": 3,
     "metadata": {},
     "output_type": "execute_result"
    }
   ],
   "source": [
    "idx=table[\"decide\"][2]['idx']\n",
    "docs[idx], type(docs[idx])"
   ]
  },
  {
   "cell_type": "code",
   "execution_count": 4,
   "metadata": {
    "ExecuteTime": {
     "end_time": "2020-06-11T00:37:47.954939Z",
     "start_time": "2020-06-11T00:37:47.945046Z"
    }
   },
   "outputs": [
    {
     "data": {
      "text/plain": [
       "15"
      ]
     },
     "execution_count": 4,
     "metadata": {},
     "output_type": "execute_result"
    }
   ],
   "source": [
    "from sagas.nlu.uni_impl_spacy import SpacySentImpl\n",
    "doc=docs[idx]\n",
    "sent_imp=SpacySentImpl(doc, text=doc.text)\n",
    "len(sent_imp.words)"
   ]
  },
  {
   "cell_type": "code",
   "execution_count": 10,
   "metadata": {
    "ExecuteTime": {
     "end_time": "2020-06-11T00:39:59.161329Z",
     "start_time": "2020-06-11T00:39:59.148559Z"
    }
   },
   "outputs": [
    {
     "data": {
      "text/plain": [
       "(\"salman has decided to mentor his longtime loyal bodyguard shera's son as well.\",\n",
       " 'decide',\n",
       " 'salman')"
      ]
     },
     "execution_count": 10,
     "metadata": {},
     "output_type": "execute_result"
    }
   ],
   "source": [
    "f=from_doc(sent_imp, 'en', 'spacy')\n",
    "f.doc.sents, f.lemma, f.as_behave().subj.lemma"
   ]
  },
  {
   "cell_type": "code",
   "execution_count": 11,
   "metadata": {
    "ExecuteTime": {
     "end_time": "2020-06-11T00:40:50.126842Z",
     "start_time": "2020-06-11T00:40:50.112264Z"
    }
   },
   "outputs": [
    {
     "name": "stdout",
     "output_type": "stream",
     "text": [
      "root: decided (3; decide, verb)\n",
      "|-- nsubj: salman (1; salman, propn)\n",
      "|-- aux: has (2; have, aux)\n",
      "|-- xcomp: mentor (5; mentor, verb)\n",
      "|   |-- aux: to (4; to, part)\n",
      "|   |-- dobj: son (12; son, noun)\n",
      "|   |   +-- poss: shera (10; shera, propn)\n",
      "|   |       |-- poss: his (6; -PRON-, det)\n",
      "|   |       |-- amod: longtime (7; longtime, adj)\n",
      "|   |       |-- compound: bodyguard (9; bodyguard, propn)\n",
      "|   |       |   +-- amod: loyal (8; loyal, adj)\n",
      "|   |       +-- case: 's (11; 's, part)\n",
      "|   +-- advmod: well (14; well, adv)\n",
      "|       +-- advmod: as (13; as, adv)\n",
      "+-- punct: . (15; ., punct)\n"
     ]
    }
   ],
   "source": [
    "f.draw()"
   ]
  }
 ],
 "metadata": {
  "kernelspec": {
   "display_name": "Python 3",
   "language": "python",
   "name": "python3"
  },
  "language_info": {
   "codemirror_mode": {
    "name": "ipython",
    "version": 3
   },
   "file_extension": ".py",
   "mimetype": "text/x-python",
   "name": "python",
   "nbconvert_exporter": "python",
   "pygments_lexer": "ipython3",
   "version": "3.6.6"
  },
  "varInspector": {
   "cols": {
    "lenName": 16,
    "lenType": 16,
    "lenVar": 40
   },
   "kernels_config": {
    "python": {
     "delete_cmd_postfix": "",
     "delete_cmd_prefix": "del ",
     "library": "var_list.py",
     "varRefreshCmd": "print(var_dic_list())"
    },
    "r": {
     "delete_cmd_postfix": ") ",
     "delete_cmd_prefix": "rm(",
     "library": "var_list.r",
     "varRefreshCmd": "cat(var_dic_list()) "
    }
   },
   "types_to_exclude": [
    "module",
    "function",
    "builtin_function_or_method",
    "instance",
    "_Feature"
   ],
   "window_display": false
  }
 },
 "nbformat": 4,
 "nbformat_minor": 2
}
