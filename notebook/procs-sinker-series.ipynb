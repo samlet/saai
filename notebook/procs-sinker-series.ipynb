{
 "cells": [
  {
   "cell_type": "code",
   "execution_count": 14,
   "metadata": {
    "ExecuteTime": {
     "end_time": "2020-03-04T19:27:56.938426Z",
     "start_time": "2020-03-04T19:27:56.915318Z"
    }
   },
   "outputs": [
    {
     "name": "stdout",
     "output_type": "stream",
     "text": [
      "{'_count': 'ins_date:$[0].value.value', 'action': 'specs_of:category', 'object': 'kind_of:category'}\n",
      "tags {'action': 'correct', 'object': 'artifact'}\n",
      "fields {'count': 8}\n"
     ]
    }
   ],
   "source": [
    "results=[{'delivery': 'sentence',\n",
    "  'inspector': 'specs_of',\n",
    "  'part': 'predicate',\n",
    "  'provider': 'default',\n",
    "  'value': {'category': 'correct', 'pos': 'v', 'word': '直した。/直す'}},\n",
    " {'delivery': 'slot',\n",
    "  'inspector': 'ins_date',\n",
    "  'part': '修飾',\n",
    "  'provider': 'duckling',\n",
    "  'value': [{'body': '8',\n",
    "             'dim': 'number',\n",
    "             'end': 1,\n",
    "             'latent': False,\n",
    "             'start': 0,\n",
    "             'value': {'type': 'value', 'value': 8}}]},\n",
    " {'delivery': 'sentence',\n",
    "  'inspector': 'kind_of',\n",
    "  'part': 'ヲ',\n",
    "  'provider': 'default',\n",
    "  'value': {'category': 'artifact', 'pos': 'n', 'word': '流しを/流し'}},\n",
    " {'delivery': 'slot',\n",
    "  'inspector': 'series',\n",
    "  'part': 'defined',\n",
    "  'provider': 'events',\n",
    "  'value': {'_count': 'ins_date:$[0].value.value',\n",
    "            'action': 'specs_of:category',\n",
    "            'object': 'kind_of:category'}}]\n",
    "\n",
    "from jsonpath_ng import jsonpath, parse\n",
    "\n",
    "val_list = [r['value'] for r in results if r['inspector'] == 'series']\n",
    "tags={}\n",
    "fields={}\n",
    "for val in val_list:\n",
    "    print(f\"{val}\")    \n",
    "    for k,expr in val.items():        \n",
    "        if k.startswith('_'):\n",
    "            key=k[1:]\n",
    "            target_c=fields\n",
    "        else:\n",
    "            key=k\n",
    "            target_c=tags\n",
    "        ins_name,val_expr=expr.split(':')\n",
    "        head=next(item for item in results if item['inspector']==ins_name)\n",
    "        vals=head['value']\n",
    "        if val_expr.startswith('$'):\n",
    "            jsonpath_expr = parse(val_expr)\n",
    "            eval_val=next(match.value for match in jsonpath_expr.find(vals))\n",
    "        else:\n",
    "            eval_val=vals[val_expr]\n",
    "        target_c[key]=eval_val\n",
    "print('tags', tags)\n",
    "print('fields', fields)"
   ]
  },
  {
   "cell_type": "code",
   "execution_count": 19,
   "metadata": {
    "ExecuteTime": {
     "end_time": "2020-03-04T19:32:37.243579Z",
     "start_time": "2020-03-04T19:32:37.236201Z"
    }
   },
   "outputs": [
    {
     "data": {
      "text/plain": [
       "{'delivery': 'slot',\n",
       " 'inspector': 'series',\n",
       " 'part': 'defined',\n",
       " 'provider': 'events',\n",
       " 'value': {'_count': 'ins_date:$[0].value.value',\n",
       "  'action': 'specs_of:category',\n",
       "  'object': 'kind_of:category'}}"
      ]
     },
     "execution_count": 19,
     "metadata": {},
     "output_type": "execute_result"
    }
   ],
   "source": [
    "series_ins=[r for r in results if r['inspector'] == 'series']\n",
    "series=series_ins[0]\n",
    "series"
   ]
  },
  {
   "cell_type": "code",
   "execution_count": 16,
   "metadata": {
    "ExecuteTime": {
     "end_time": "2020-03-04T19:29:42.251734Z",
     "start_time": "2020-03-04T19:29:42.238005Z"
    }
   },
   "outputs": [
    {
     "name": "stdout",
     "output_type": "stream",
     "text": [
      "[{'name': '_internal'}, {'name': 'testDB'}, {'name': 'NOAA_water_database'}, {'name': 'pyexample'}, {'name': 'events'}]\n"
     ]
    }
   ],
   "source": [
    "from influxdb import InfluxDBClient\n",
    "\n",
    "client = InfluxDBClient('localhost', 8086, 'root', '', 'events')\n",
    "print(client.get_list_database())\n",
    "# client.create_database(\"events\")"
   ]
  },
  {
   "cell_type": "code",
   "execution_count": 21,
   "metadata": {
    "ExecuteTime": {
     "end_time": "2020-03-04T19:33:48.996662Z",
     "start_time": "2020-03-04T19:33:48.984608Z"
    }
   },
   "outputs": [
    {
     "name": "stdout",
     "output_type": "stream",
     "text": [
      "Result: ResultSet({'('measurements', None)': [{'name': 'events'}]})\n"
     ]
    }
   ],
   "source": [
    "result = client.query(\"show measurements;\")\n",
    "print(\"Result: {0}\".format(result))"
   ]
  },
  {
   "cell_type": "code",
   "execution_count": 20,
   "metadata": {
    "ExecuteTime": {
     "end_time": "2020-03-04T19:33:43.442265Z",
     "start_time": "2020-03-04T19:33:43.242915Z"
    }
   },
   "outputs": [
    {
     "data": {
      "text/plain": [
       "True"
      ]
     },
     "execution_count": 20,
     "metadata": {},
     "output_type": "execute_result"
    }
   ],
   "source": [
    "json_body = [\n",
    "    {\n",
    "        \"measurement\": f\"{series['provider']}\",\n",
    "        \"tags\": tags,\n",
    "        #\"time\": \"2017-03-12T22:00:00Z\",\n",
    "        \"fields\": fields\n",
    "    }\n",
    "]\n",
    "client.write_points(json_body)"
   ]
  },
  {
   "cell_type": "code",
   "execution_count": 25,
   "metadata": {
    "ExecuteTime": {
     "end_time": "2020-03-04T19:36:32.587667Z",
     "start_time": "2020-03-04T19:36:32.576247Z"
    }
   },
   "outputs": [
    {
     "name": "stdout",
     "output_type": "stream",
     "text": [
      "Result: ResultSet({'('events', None)': [{'time': '2020-03-04T19:33:43.248733Z', 'action': 'correct', 'count': 8, 'object': 'artifact'}]})\n"
     ]
    }
   ],
   "source": [
    "qs=f\"select * from {series['provider']};\"\n",
    "result = client.query(qs)    \n",
    "print(\"Result: {0}\".format(result))"
   ]
  },
  {
   "cell_type": "code",
   "execution_count": 11,
   "metadata": {
    "ExecuteTime": {
     "end_time": "2020-03-04T19:24:43.953894Z",
     "start_time": "2020-03-04T19:24:43.937005Z"
    }
   },
   "outputs": [
    {
     "data": {
      "text/plain": [
       "8"
      ]
     },
     "execution_count": 11,
     "metadata": {},
     "output_type": "execute_result"
    }
   ],
   "source": [
    "from jsonpath_ng import jsonpath, parse\n",
    "vals=[{'body': '8',\n",
    "             'dim': 'number',\n",
    "             'end': 1,\n",
    "             'latent': False,\n",
    "             'start': 0,\n",
    "             'value': {'type': 'value', 'value': 8}}]\n",
    "jsonpath_expr = parse('$[0].value.value')\n",
    "next(match.value for match in jsonpath_expr.find(vals))"
   ]
  }
 ],
 "metadata": {
  "kernelspec": {
   "display_name": "Python 3",
   "language": "python",
   "name": "python3"
  },
  "language_info": {
   "codemirror_mode": {
    "name": "ipython",
    "version": 3
   },
   "file_extension": ".py",
   "mimetype": "text/x-python",
   "name": "python",
   "nbconvert_exporter": "python",
   "pygments_lexer": "ipython3",
   "version": "3.6.6"
  },
  "varInspector": {
   "cols": {
    "lenName": 16,
    "lenType": 16,
    "lenVar": 40
   },
   "kernels_config": {
    "python": {
     "delete_cmd_postfix": "",
     "delete_cmd_prefix": "del ",
     "library": "var_list.py",
     "varRefreshCmd": "print(var_dic_list())"
    },
    "r": {
     "delete_cmd_postfix": ") ",
     "delete_cmd_prefix": "rm(",
     "library": "var_list.r",
     "varRefreshCmd": "cat(var_dic_list()) "
    }
   },
   "types_to_exclude": [
    "module",
    "function",
    "builtin_function_or_method",
    "instance",
    "_Feature"
   ],
   "window_display": false
  }
 },
 "nbformat": 4,
 "nbformat_minor": 2
}
