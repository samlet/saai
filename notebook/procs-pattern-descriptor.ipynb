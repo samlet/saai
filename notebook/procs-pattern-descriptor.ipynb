{
 "cells": [
  {
   "cell_type": "code",
   "execution_count": 12,
   "metadata": {
    "ExecuteTime": {
     "end_time": "2020-03-27T07:35:46.335177Z",
     "start_time": "2020-03-27T07:35:46.312933Z"
    }
   },
   "outputs": [
    {
     "data": {
      "text/plain": [
       "'behave eat for food, modal want'"
      ]
     },
     "execution_count": 12,
     "metadata": {},
     "output_type": "execute_result"
    }
   ],
   "source": [
    "from typing import Text, Any, Dict, List, Set, Union, Optional\n",
    "from dataclasses import dataclass\n",
    "import string\n",
    "\n",
    "@dataclass\n",
    "class token:\n",
    "    value:str\n",
    "    children:Optional[Dict[Text, 'token']]\n",
    "    \n",
    "class PatternFormatter(string.Formatter):\n",
    "\n",
    "    def format_field(self, value, spec):\n",
    "        if spec == '_':\n",
    "            return value.value\n",
    "        elif spec.startswith('/'):\n",
    "            return value.children[spec[1:]].value\n",
    "        else:\n",
    "            return super(SuperFormatter, self).format_field(value, spec)\n",
    "        \n",
    "pf = PatternFormatter()\n",
    "patt='behave {obj:_} for {obj:/obj}, modal {_:_}'\n",
    "obj=token('eat', children={'obj':token('food',{})})\n",
    "pf.format(patt, obj=obj, _=token('want',{}))"
   ]
  },
  {
   "cell_type": "code",
   "execution_count": 15,
   "metadata": {
    "ExecuteTime": {
     "end_time": "2020-03-27T08:29:01.259734Z",
     "start_time": "2020-03-27T08:29:01.250293Z"
    }
   },
   "outputs": [
    {
     "data": {
      "text/plain": [
       "'behave eat for food, modal want'"
      ]
     },
     "execution_count": 15,
     "metadata": {},
     "output_type": "execute_result"
    }
   ],
   "source": [
    "objs={'obj':obj, '_':token('want',{})}\n",
    "pf.format(patt, **objs)"
   ]
  },
  {
   "cell_type": "code",
   "execution_count": 40,
   "metadata": {
    "ExecuteTime": {
     "end_time": "2020-03-28T03:41:09.443585Z",
     "start_time": "2020-03-28T03:41:09.432751Z"
    },
    "scrolled": true
   },
   "outputs": [
    {
     "data": {
      "text/plain": [
       "{'delivery': 'sentence',\n",
       " 'inspector': 'specs_of',\n",
       " 'part': '_',\n",
       " 'pattern': 'behave {obj:_} for {obj:/obj}, modal {_:_}',\n",
       " 'provider': 'default',\n",
       " 'value': {'category': 'request',\n",
       "  'pos': 'v',\n",
       "  'subs': [{'candidates': 'request', 'substitute': 'request', 'word': 'iste'}],\n",
       "  'words': ['istiyorum/iste']}}"
      ]
     },
     "execution_count": 40,
     "metadata": {},
     "output_type": "execute_result"
    }
   ],
   "source": [
    "# $ str 'Rezervasyonumu onaylamak istiyorum.'\n",
    "results=[{'delivery': 'sentence',\n",
    "  'inspector': 'specs_of',\n",
    "  'part': '_',\n",
    "  'pattern': 'behave {obj:_} for {obj:/obj}, modal {_:_}',\n",
    "  'provider': 'default',\n",
    "  'value': {'category': 'request',\n",
    "            'pos': 'v',\n",
    "            'subs': [{'candidates': 'request',\n",
    "                      'substitute': 'request',\n",
    "                      'word': 'iste'}],\n",
    "            'words': ['istiyorum/iste']}},\n",
    " {'delivery': 'slot',\n",
    "  'inspector': 'pipes',\n",
    "  'part': 'verb:obj/obj',\n",
    "  'pattern': 'behave {obj:_} for {obj:/obj}, modal {_:_}',\n",
    "  'provider': 'cat/cat_proc',\n",
    "  'value': [{'cat': 'reservation',\n",
    "             'path': '/obj/obj',\n",
    "             'pos': 'noun',\n",
    "             'trans': 'reservation',\n",
    "             'value': 'reservation',\n",
    "             'word': 'rezervasyon'}]},\n",
    " {'delivery': 'sentence',\n",
    "  'inspector': 'kind_of',\n",
    "  'part': 'obj',\n",
    "  'pattern': 'behave {obj:_} for {obj:/obj}, modal {_:_}',\n",
    "  'provider': 'default',\n",
    "  'value': {'category': 'approve', 'pos': '*', 'word': 'onaylamak/onayla'}}]\n",
    "\n",
    "\n",
    "results[0]"
   ]
  },
  {
   "cell_type": "code",
   "execution_count": 41,
   "metadata": {
    "ExecuteTime": {
     "end_time": "2020-03-28T03:41:12.321319Z",
     "start_time": "2020-03-28T03:41:12.297698Z"
    }
   },
   "outputs": [
    {
     "data": {
      "text/plain": [
       "{'behave {obj:_} for {obj:/obj}, modal {_:_}'}"
      ]
     },
     "execution_count": 41,
     "metadata": {},
     "output_type": "execute_result"
    }
   ],
   "source": [
    "all_pats=set([r['pattern'] for r in results if '{' in r['pattern']])\n",
    "all_pats"
   ]
  },
  {
   "cell_type": "code",
   "execution_count": 42,
   "metadata": {
    "ExecuteTime": {
     "end_time": "2020-03-28T03:41:14.943455Z",
     "start_time": "2020-03-28T03:41:14.933786Z"
    }
   },
   "outputs": [
    {
     "name": "stdout",
     "output_type": "stream",
     "text": [
      "3\n"
     ]
    }
   ],
   "source": [
    "for pat in all_pats:\n",
    "    rs=[r for r in results if r['pattern']==pat]\n",
    "    print(len(rs))"
   ]
  },
  {
   "cell_type": "code",
   "execution_count": 29,
   "metadata": {
    "ExecuteTime": {
     "end_time": "2020-03-27T14:06:05.860102Z",
     "start_time": "2020-03-27T14:06:05.793555Z"
    }
   },
   "outputs": [
    {
     "data": {
      "text/plain": [
       "'request'"
      ]
     },
     "execution_count": 29,
     "metadata": {},
     "output_type": "execute_result"
    }
   ],
   "source": [
    "def get_descriptor(result, expr) -> List[Text]:\n",
    "    from jsonpath_ng.ext import parse\n",
    "    jsonpath_expr = parse(expr)\n",
    "    return next((match.value for match in jsonpath_expr.find(result)), None)\n",
    "get_descriptor(results[0], '$.value.category')"
   ]
  },
  {
   "cell_type": "code",
   "execution_count": 22,
   "metadata": {
    "ExecuteTime": {
     "end_time": "2020-03-27T09:20:20.476565Z",
     "start_time": "2020-03-27T09:20:20.423496Z"
    }
   },
   "outputs": [
    {
     "data": {
      "text/plain": [
       "'reservation'"
      ]
     },
     "execution_count": 22,
     "metadata": {},
     "output_type": "execute_result"
    }
   ],
   "source": [
    "get_descriptor(results[1], '$.value[*].cat')"
   ]
  },
  {
   "cell_type": "code",
   "execution_count": 33,
   "metadata": {
    "ExecuteTime": {
     "end_time": "2020-03-27T14:26:39.000032Z",
     "start_time": "2020-03-27T14:26:38.806376Z"
    },
    "code_folding": []
   },
   "outputs": [
    {
     "data": {
      "text/plain": [
       "{'_': token(value='request', children={}),\n",
       " 'obj': token(value='approve', children={'obj': token(value='reservation', children={})})}"
      ]
     },
     "execution_count": 33,
     "metadata": {},
     "output_type": "execute_result"
    }
   ],
   "source": [
    "import re\n",
    "\n",
    "descriptors={'specs_of': '$.value.category',\n",
    "             'kind_of': '$.value.category',\n",
    "             'pipes': '$.value[*].value',\n",
    "            }\n",
    "\n",
    "def set_val(var_map, part, val):\n",
    "    if ':' in part:\n",
    "        domain, part, sub=re.split('[:/]', part)\n",
    "        if part not in var_map:\n",
    "            var_map[part]=token('', children={sub:token(val,{})})\n",
    "        else:\n",
    "            var_map[part].children[sub]=token(val, {})\n",
    "    else:\n",
    "        if part not in var_map:\n",
    "            var_map[part]=token(val, {})\n",
    "        else:\n",
    "            var_map[part].value=val\n",
    "\n",
    "var_map={}\n",
    "for rs in results:\n",
    "    ins=rs['inspector']\n",
    "    part=rs['part']\n",
    "    if ins in descriptors:\n",
    "        expr=descriptors[ins]\n",
    "        val=get_descriptor(rs, expr)\n",
    "        if val:\n",
    "            set_val(var_map, part, val)\n",
    "        else:\n",
    "            print(f'absent val: {expr}')\n",
    "\n",
    "var_map"
   ]
  },
  {
   "cell_type": "code",
   "execution_count": 34,
   "metadata": {
    "ExecuteTime": {
     "end_time": "2020-03-27T14:27:35.678832Z",
     "start_time": "2020-03-27T14:27:35.665983Z"
    }
   },
   "outputs": [
    {
     "data": {
      "text/plain": [
       "'behave approve for reservation, modal request'"
      ]
     },
     "execution_count": 34,
     "metadata": {},
     "output_type": "execute_result"
    }
   ],
   "source": [
    "pf.format(patt, **var_map)"
   ]
  },
  {
   "cell_type": "code",
   "execution_count": 32,
   "metadata": {
    "ExecuteTime": {
     "end_time": "2020-03-27T14:18:04.613046Z",
     "start_time": "2020-03-27T14:18:04.590498Z"
    }
   },
   "outputs": [
    {
     "data": {
      "text/plain": [
       "['verb', 'obj', 'obj']"
      ]
     },
     "execution_count": 32,
     "metadata": {},
     "output_type": "execute_result"
    }
   ],
   "source": [
    "import re\n",
    "re.split('[:/]', 'verb:obj/obj')"
   ]
  }
 ],
 "metadata": {
  "kernelspec": {
   "display_name": "Python 3",
   "language": "python",
   "name": "python3"
  },
  "language_info": {
   "codemirror_mode": {
    "name": "ipython",
    "version": 3
   },
   "file_extension": ".py",
   "mimetype": "text/x-python",
   "name": "python",
   "nbconvert_exporter": "python",
   "pygments_lexer": "ipython3",
   "version": "3.6.6"
  },
  "varInspector": {
   "cols": {
    "lenName": 16,
    "lenType": 16,
    "lenVar": 40
   },
   "kernels_config": {
    "python": {
     "delete_cmd_postfix": "",
     "delete_cmd_prefix": "del ",
     "library": "var_list.py",
     "varRefreshCmd": "print(var_dic_list())"
    },
    "r": {
     "delete_cmd_postfix": ") ",
     "delete_cmd_prefix": "rm(",
     "library": "var_list.r",
     "varRefreshCmd": "cat(var_dic_list()) "
    }
   },
   "types_to_exclude": [
    "module",
    "function",
    "builtin_function_or_method",
    "instance",
    "_Feature"
   ],
   "window_display": false
  }
 },
 "nbformat": 4,
 "nbformat_minor": 2
}
