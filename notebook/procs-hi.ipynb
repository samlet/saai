{
 "cells": [
  {
   "cell_type": "code",
   "execution_count": 1,
   "metadata": {
    "ExecuteTime": {
     "end_time": "2020-03-14T11:59:44.754104Z",
     "start_time": "2020-03-14T11:59:44.731409Z"
    }
   },
   "outputs": [
    {
     "data": {
      "text/plain": [
       "('/Users/xiaofeiwu/iwn_data', True)"
      ]
     },
     "execution_count": 1,
     "metadata": {},
     "output_type": "execute_result"
    }
   ],
   "source": [
    "import os\n",
    "from pathlib import Path\n",
    "USER_HOME = str(Path.home())\n",
    "IWN_DATA_PATH = os.path.join(*[USER_HOME, 'iwn_data'])\n",
    "\n",
    "IWN_DATA_PATH, os.path.exists(IWN_DATA_PATH)"
   ]
  },
  {
   "cell_type": "code",
   "execution_count": 2,
   "metadata": {
    "ExecuteTime": {
     "end_time": "2020-03-14T11:59:46.982207Z",
     "start_time": "2020-03-14T11:59:44.759077Z"
    }
   },
   "outputs": [
    {
     "name": "stderr",
     "output_type": "stream",
     "text": [
      "2020-03-14:19:59:45,829 INFO     [iwn.py:43] Loading hindi language synsets...\n"
     ]
    }
   ],
   "source": [
    "import pyiwn\n",
    "iwn = pyiwn.IndoWordNet()"
   ]
  },
  {
   "cell_type": "code",
   "execution_count": 3,
   "metadata": {
    "ExecuteTime": {
     "end_time": "2020-03-14T11:59:47.004288Z",
     "start_time": "2020-03-14T11:59:46.989622Z"
    }
   },
   "outputs": [
    {
     "data": {
      "text/plain": [
       "40360"
      ]
     },
     "execution_count": 3,
     "metadata": {},
     "output_type": "execute_result"
    }
   ],
   "source": [
    "all_syns=iwn.all_synsets()\n",
    "len(all_syns)"
   ]
  },
  {
   "cell_type": "code",
   "execution_count": 4,
   "metadata": {
    "ExecuteTime": {
     "end_time": "2020-03-14T11:59:47.022582Z",
     "start_time": "2020-03-14T11:59:47.009959Z"
    }
   },
   "outputs": [
    {
     "data": {
      "text/plain": [
       "[Synset('अजन्मा.adjective.1'),\n",
       " Synset('स्वयंभू.adjective.30168'),\n",
       " Synset('अशुभ.adjective.2')]"
      ]
     },
     "execution_count": 4,
     "metadata": {},
     "output_type": "execute_result"
    }
   ],
   "source": [
    "all_syns[:3]"
   ]
  },
  {
   "cell_type": "code",
   "execution_count": 5,
   "metadata": {
    "ExecuteTime": {
     "end_time": "2020-03-14T11:59:47.040803Z",
     "start_time": "2020-03-14T11:59:47.027707Z"
    }
   },
   "outputs": [
    {
     "data": {
      "text/plain": [
       "'Synset'"
      ]
     },
     "execution_count": 5,
     "metadata": {},
     "output_type": "execute_result"
    }
   ],
   "source": [
    "from pyiwn.iwn import Synset\n",
    "Synset.__name__"
   ]
  },
  {
   "cell_type": "code",
   "execution_count": 6,
   "metadata": {
    "ExecuteTime": {
     "end_time": "2020-03-14T11:59:47.077911Z",
     "start_time": "2020-03-14T11:59:47.044956Z"
    }
   },
   "outputs": [
    {
     "data": {
      "text/plain": [
       "'Synset'"
      ]
     },
     "execution_count": 6,
     "metadata": {},
     "output_type": "execute_result"
    }
   ],
   "source": [
    "type(all_syns[0]).__name__"
   ]
  },
  {
   "cell_type": "code",
   "execution_count": 7,
   "metadata": {
    "ExecuteTime": {
     "end_time": "2020-03-14T11:59:47.101023Z",
     "start_time": "2020-03-14T11:59:47.090990Z"
    }
   },
   "outputs": [
    {
     "data": {
      "text/plain": [
       "True"
      ]
     },
     "execution_count": 7,
     "metadata": {},
     "output_type": "execute_result"
    }
   ],
   "source": [
    "type(all_syns[0])==Synset"
   ]
  },
  {
   "cell_type": "code",
   "execution_count": 8,
   "metadata": {
    "ExecuteTime": {
     "end_time": "2020-03-14T11:59:47.146043Z",
     "start_time": "2020-03-14T11:59:47.104044Z"
    }
   },
   "outputs": [
    {
     "name": "stdout",
     "output_type": "stream",
     "text": [
      "29846 [Synset('पवित्र स्थान.noun.4'), Synset('शिवालय.noun.5'), Synset('अपवित्र स्थान.noun.6')] [4, 5, 6]\n"
     ]
    }
   ],
   "source": [
    "from pyiwn import PosTag \n",
    "all_nouns=iwn.all_synsets(pos=PosTag.NOUN)\n",
    "print(len(all_nouns), all_nouns[:3],\n",
    "      [w.synset_id() for w in all_nouns[:3]]\n",
    "     )"
   ]
  },
  {
   "cell_type": "code",
   "execution_count": 9,
   "metadata": {
    "ExecuteTime": {
     "end_time": "2020-03-14T11:59:47.537515Z",
     "start_time": "2020-03-14T11:59:47.156256Z"
    }
   },
   "outputs": [
    {
     "data": {
      "text/plain": [
       "{'phutabala': {'index': 14396,\n",
       "  'head': 'फुटबाल',\n",
       "  'trans': {'word': 'football', 'candidates': ['football']}}}"
      ]
     },
     "execution_count": 9,
     "metadata": {},
     "output_type": "execute_result"
    }
   ],
   "source": [
    "from sagas.nlu.transliterations import translits\n",
    "from sagas.nlu.google_translator import translate, with_words, WordsObserver\n",
    "tr=lambda w:translits.translit(w, 'hi')\n",
    "def trans(w):\n",
    "    r,t=translate(w, source='hi', target='en', options={'get_pronounce'}, tracker=with_words())\n",
    "    df=t.observer(WordsObserver).word_trans_df\n",
    "    if df is not None:\n",
    "        candidates=[w for w in df['word']][:3]\n",
    "    else:\n",
    "        candidates=[]\n",
    "    return {'word': r.lower(),\n",
    "            'candidates':candidates}\n",
    "def word_map(id):\n",
    "    return {tr(w.head_word()):{'index':w.synset_id(), 'head':w.head_word(), 'trans':trans(w.head_word())} for w in all_nouns if w.synset_id()==id}\n",
    "def word_list(id):\n",
    "    return [{tr(w.head_word()):(w.head_word(), trans(w.head_word()))} for w in all_nouns if w.synset_id()==id]\n",
    "word_map(14396)\n",
    "# word_list(14396)"
   ]
  },
  {
   "cell_type": "code",
   "execution_count": 10,
   "metadata": {
    "ExecuteTime": {
     "end_time": "2020-03-14T11:59:47.610441Z",
     "start_time": "2020-03-14T11:59:47.545090Z"
    }
   },
   "outputs": [
    {
     "name": "stdout",
     "output_type": "stream",
     "text": [
      "Activity\n"
     ]
    },
    {
     "data": {
      "text/html": [
       "<div>\n",
       "<style scoped>\n",
       "    .dataframe tbody tr th:only-of-type {\n",
       "        vertical-align: middle;\n",
       "    }\n",
       "\n",
       "    .dataframe tbody tr th {\n",
       "        vertical-align: top;\n",
       "    }\n",
       "\n",
       "    .dataframe thead th {\n",
       "        text-align: right;\n",
       "    }\n",
       "</style>\n",
       "<table border=\"1\" class=\"dataframe\">\n",
       "  <thead>\n",
       "    <tr style=\"text-align: right;\">\n",
       "      <th></th>\n",
       "      <th>word</th>\n",
       "      <th>translations</th>\n",
       "    </tr>\n",
       "  </thead>\n",
       "  <tbody>\n",
       "    <tr>\n",
       "      <th>0</th>\n",
       "      <td>behaviour</td>\n",
       "      <td>[व्यवहार, बर्ताव, गतिविधि, चाल-चलन]</td>\n",
       "    </tr>\n",
       "    <tr>\n",
       "      <th>1</th>\n",
       "      <td>development</td>\n",
       "      <td>[वृद्धि, गतिविधि, घटनाक्रम, विस्तार]</td>\n",
       "    </tr>\n",
       "  </tbody>\n",
       "</table>\n",
       "</div>"
      ],
      "text/plain": [
       "          word                          translations\n",
       "0    behaviour   [व्यवहार, बर्ताव, गतिविधि, चाल-चलन]\n",
       "1  development  [वृद्धि, गतिविधि, घटनाक्रम, विस्तार]"
      ]
     },
     "execution_count": 10,
     "metadata": {},
     "output_type": "execute_result"
    }
   ],
   "source": [
    "from sagas.nlu.google_translator import translate, with_words, WordsObserver\n",
    "r,t=translate('गतिविधि', source='hi', target='en', options={'get_pronounce'}, tracker=with_words())\n",
    "print(r)\n",
    "t.observer(WordsObserver).word_trans_df"
   ]
  },
  {
   "cell_type": "code",
   "execution_count": 11,
   "metadata": {
    "ExecuteTime": {
     "end_time": "2020-03-14T11:59:47.638301Z",
     "start_time": "2020-03-14T11:59:47.628359Z"
    }
   },
   "outputs": [
    {
     "data": {
      "text/plain": [
       "['behaviour', 'development']"
      ]
     },
     "execution_count": 11,
     "metadata": {},
     "output_type": "execute_result"
    }
   ],
   "source": [
    "[w for w in t.observer(WordsObserver).word_trans_df['word']][:3]"
   ]
  },
  {
   "cell_type": "code",
   "execution_count": 12,
   "metadata": {
    "ExecuteTime": {
     "end_time": "2020-03-14T11:59:47.806101Z",
     "start_time": "2020-03-14T11:59:47.643897Z"
    }
   },
   "outputs": [
    {
     "data": {
      "text/plain": [
       "{'khelakuda': {'index': 672,\n",
       "  'head': 'खेलकूद',\n",
       "  'trans': {'word': 'sports',\n",
       "   'candidates': ['athletics', 'pastime', 'games & sport']}}}"
      ]
     },
     "execution_count": 12,
     "metadata": {},
     "output_type": "execute_result"
    }
   ],
   "source": [
    "word_map(672)"
   ]
  },
  {
   "cell_type": "code",
   "execution_count": 13,
   "metadata": {
    "ExecuteTime": {
     "end_time": "2020-03-14T11:59:47.882340Z",
     "start_time": "2020-03-14T11:59:47.811314Z"
    }
   },
   "outputs": [
    {
     "data": {
      "text/plain": [
       "[{'gatividhi': ('गतिविधि',\n",
       "   {'word': 'activity', 'candidates': ['behaviour', 'development']})}]"
      ]
     },
     "execution_count": 13,
     "metadata": {},
     "output_type": "execute_result"
    }
   ],
   "source": [
    "word_list(673)"
   ]
  },
  {
   "cell_type": "code",
   "execution_count": 14,
   "metadata": {
    "ExecuteTime": {
     "end_time": "2020-03-14T11:59:47.894813Z",
     "start_time": "2020-03-14T11:59:47.886280Z"
    }
   },
   "outputs": [
    {
     "name": "stdout",
     "output_type": "stream",
     "text": [
      "[]\n"
     ]
    }
   ],
   "source": [
    "def fn(*arg):\n",
    "    print(list(arg))\n",
    "fn()"
   ]
  },
  {
   "cell_type": "code",
   "execution_count": 15,
   "metadata": {
    "ExecuteTime": {
     "end_time": "2020-03-14T11:59:47.987883Z",
     "start_time": "2020-03-14T11:59:47.901560Z"
    }
   },
   "outputs": [],
   "source": [
    "data_path='/pi/ai/nltk/hindi/iwn_data/synset_relations/hypernymy.noun'\n",
    "def load_hypernymy(file_path):\n",
    "    d = {}\n",
    "    for line in open(file_path):\n",
    "        line_parts = line.split('\\t')\n",
    "        synset_id, synset_ids = line_parts\n",
    "        synset_id = int(synset_id)\n",
    "        synset_ids = list(map(int, synset_ids.split(',')))\n",
    "        # synset_ids = list(filter(lambda x: True if x in self._synset_df.index else False, synset_ids))\n",
    "        if synset_id in d:\n",
    "            d[synset_id].extend(synset_ids)\n",
    "        else:\n",
    "            if synset_ids:\n",
    "                d[synset_id] = synset_ids\n",
    "    return d\n",
    "hypers=load_hypernymy(data_path)"
   ]
  },
  {
   "cell_type": "code",
   "execution_count": 16,
   "metadata": {
    "ExecuteTime": {
     "end_time": "2020-03-14T11:59:48.008996Z",
     "start_time": "2020-03-14T11:59:47.994981Z"
    }
   },
   "outputs": [
    {
     "data": {
      "text/plain": [
       "([672], [673], [12149])"
      ]
     },
     "execution_count": 16,
     "metadata": {},
     "output_type": "execute_result"
    }
   ],
   "source": [
    "hypers[14396], hypers[672], hypers[183] # , hypers[12149]"
   ]
  },
  {
   "cell_type": "code",
   "execution_count": 17,
   "metadata": {
    "ExecuteTime": {
     "end_time": "2020-03-14T11:59:48.026638Z",
     "start_time": "2020-03-14T11:59:48.016842Z"
    }
   },
   "outputs": [
    {
     "data": {
      "text/plain": [
       "[14396, 672, 673, 183]"
      ]
     },
     "execution_count": 17,
     "metadata": {},
     "output_type": "execute_result"
    }
   ],
   "source": [
    "def get_all_hypers(syn_ids, results):\n",
    "    for syn_id in syn_ids:\n",
    "        if syn_id in hypers:\n",
    "            results.append(syn_id)\n",
    "            get_all_hypers(hypers[syn_id], results)\n",
    "# [syn_id for syn_id in get_all_hypers([14396])]\n",
    "results=[]\n",
    "get_all_hypers([14396], results)\n",
    "results"
   ]
  },
  {
   "cell_type": "code",
   "execution_count": 18,
   "metadata": {
    "ExecuteTime": {
     "end_time": "2020-03-14T11:59:48.221517Z",
     "start_time": "2020-03-14T11:59:48.029456Z"
    }
   },
   "outputs": [
    {
     "name": "stdout",
     "output_type": "stream",
     "text": [
      "{'phutabala': {'index': 14396, 'head': 'फुटबाल', 'trans': {'word': 'football', 'candidates': ['football']}}}\n",
      "{'khelakuda': {'index': 672, 'head': 'खेलकूद', 'trans': {'word': 'sports', 'candidates': ['athletics', 'pastime', 'games & sport']}}}\n",
      "{'gatividhi': {'index': 673, 'head': 'गतिविधि', 'trans': {'word': 'activity', 'candidates': ['behaviour', 'development']}}}\n",
      "{'kama': {'index': 183, 'head': 'काम', 'trans': {'word': 'work', 'candidates': ['job', 'task', 'deed']}}}\n"
     ]
    }
   ],
   "source": [
    "for sid in results:\n",
    "    print(word_map(sid))"
   ]
  },
  {
   "cell_type": "code",
   "execution_count": 19,
   "metadata": {
    "ExecuteTime": {
     "end_time": "2020-03-14T11:59:48.514656Z",
     "start_time": "2020-03-14T11:59:48.224872Z"
    }
   },
   "outputs": [
    {
     "data": {
      "text/plain": [
       "[{'seba': {'index': 8357,\n",
       "   'head': 'सेब',\n",
       "   'trans': {'word': 'apple', 'candidates': ['apple']}}},\n",
       " {'pera': {'index': 2349,\n",
       "   'head': 'पेड़',\n",
       "   'trans': {'word': 'tree', 'candidates': ['tree']}}},\n",
       " {'vanaspati': {'index': 1249,\n",
       "   'head': 'वनस्पति',\n",
       "   'trans': {'word': 'plant', 'candidates': ['vegetable']}}},\n",
       " {'jiva': {'index': 1998,\n",
       "   'head': 'जीव',\n",
       "   'trans': {'word': 'creatures',\n",
       "    'candidates': ['organism', 'creature', 'subaerial']}}},\n",
       " {'vastu': {'index': 923,\n",
       "   'head': 'वस्तु',\n",
       "   'trans': {'word': 'thing', 'candidates': ['object', 'commodity', 'item']}}},\n",
       " {'seba': {'index': 8358,\n",
       "   'head': 'सेब',\n",
       "   'trans': {'word': 'apple', 'candidates': ['apple']}}},\n",
       " {'khadya phala': {'index': 4650,\n",
       "   'head': 'खाद्य फल',\n",
       "   'trans': {'word': 'edible fruits', 'candidates': []}}}]"
      ]
     },
     "execution_count": 19,
     "metadata": {},
     "output_type": "execute_result"
    }
   ],
   "source": [
    "def get_word_hypers(word):\n",
    "    results=[]\n",
    "    ids=[syn.synset_id() for syn in iwn.synsets(word)]\n",
    "    get_all_hypers(ids, results)\n",
    "    return [word_map(sid) for sid in results]\n",
    "get_word_hypers('सेब')"
   ]
  },
  {
   "cell_type": "code",
   "execution_count": 39,
   "metadata": {
    "ExecuteTime": {
     "end_time": "2020-03-14T12:02:57.380454Z",
     "start_time": "2020-03-14T12:02:57.245893Z"
    }
   },
   "outputs": [
    {
     "data": {
      "text/plain": [
       "[{'seba': {'index': 8358,\n",
       "   'head': 'सेब',\n",
       "   'trans': {'word': 'apple', 'candidates': ['apple']}}},\n",
       " {'khadya phala': {'index': 4650,\n",
       "   'head': 'खाद्य फल',\n",
       "   'trans': {'word': 'edible fruits', 'candidates': []}}}]"
      ]
     },
     "execution_count": 39,
     "metadata": {},
     "output_type": "execute_result"
    }
   ],
   "source": [
    "def get_hypers_by_id(ids):\n",
    "    results=[]\n",
    "    get_all_hypers(ids if isinstance(ids, list) else [ids], results)\n",
    "    return [word_map(sid) for sid in results]\n",
    "get_hypers_by_id(8358)"
   ]
  },
  {
   "cell_type": "code",
   "execution_count": 40,
   "metadata": {
    "ExecuteTime": {
     "end_time": "2020-03-14T12:10:28.518541Z",
     "start_time": "2020-03-14T12:10:28.489864Z"
    }
   },
   "outputs": [
    {
     "data": {
      "text/plain": [
       "[Synset('सेब.noun.8357'), Synset('सेब.noun.8358')]"
      ]
     },
     "execution_count": 40,
     "metadata": {},
     "output_type": "execute_result"
    }
   ],
   "source": [
    "iwn.synsets('सेब')"
   ]
  },
  {
   "cell_type": "code",
   "execution_count": 41,
   "metadata": {
    "ExecuteTime": {
     "end_time": "2020-03-14T12:11:43.363140Z",
     "start_time": "2020-03-14T12:11:43.281210Z"
    }
   },
   "outputs": [
    {
     "data": {
      "text/plain": [
       "[Synset('परिवार.noun.4388'),\n",
       " Synset('परिवार.noun.28473'),\n",
       " Synset('परिवार.noun.35693'),\n",
       " Synset('परिवार.noun.35694'),\n",
       " Synset('परिवार.noun.35695')]"
      ]
     },
     "execution_count": 41,
     "metadata": {},
     "output_type": "execute_result"
    }
   ],
   "source": [
    "iwn.synsets('परिवार')"
   ]
  },
  {
   "cell_type": "code",
   "execution_count": 42,
   "metadata": {
    "ExecuteTime": {
     "end_time": "2020-03-14T12:12:21.131674Z",
     "start_time": "2020-03-14T12:12:16.964864Z"
    }
   },
   "outputs": [
    {
     "data": {
      "text/plain": [
       "[{'parivara': {'index': 4388,\n",
       "   'head': 'परिवार',\n",
       "   'trans': {'word': 'family', 'candidates': ['family', 'house', 'kin']}}},\n",
       " {'loga': {'index': 189,\n",
       "   'head': 'लोग',\n",
       "   'trans': {'word': 'people', 'candidates': ['people', 'folk', 'demos']}}},\n",
       " {'samudaya': {'index': 10729,\n",
       "   'head': 'समुदाय',\n",
       "   'trans': {'word': 'community',\n",
       "    'candidates': ['community', 'summation', 'party']}}},\n",
       " {'vastu': {'index': 923,\n",
       "   'head': 'वस्तु',\n",
       "   'trans': {'word': 'thing', 'candidates': ['object', 'commodity', 'item']}}},\n",
       " {'parivara': {'index': 28473,\n",
       "   'head': 'परिवार',\n",
       "   'trans': {'word': 'family', 'candidates': ['family', 'house', 'kin']}}},\n",
       " {'samudaya': {'index': 10729,\n",
       "   'head': 'समुदाय',\n",
       "   'trans': {'word': 'community',\n",
       "    'candidates': ['community', 'summation', 'party']}}},\n",
       " {'vastu': {'index': 923,\n",
       "   'head': 'वस्तु',\n",
       "   'trans': {'word': 'thing', 'candidates': ['object', 'commodity', 'item']}}},\n",
       " {'parivara': {'index': 35693,\n",
       "   'head': 'परिवार',\n",
       "   'trans': {'word': 'family', 'candidates': ['family', 'house', 'kin']}}},\n",
       " {'vansaja': {'index': 1153,\n",
       "   'head': 'वंशज',\n",
       "   'trans': {'word': 'descendant',\n",
       "    'candidates': ['descendant', 'scion', 'offspring']}}},\n",
       " {'ristedara': {'index': 165,\n",
       "   'head': 'रिश्तेदार',\n",
       "   'trans': {'word': 'relatives', 'candidates': ['kindred', 'kinsman']}}},\n",
       " {'vyakti': {'index': 196,\n",
       "   'head': 'व्यक्ति',\n",
       "   'trans': {'word': 'person',\n",
       "    'candidates': ['person', 'individual', 'fellow']}}},\n",
       " {'parivara': {'index': 35694,\n",
       "   'head': 'परिवार',\n",
       "   'trans': {'word': 'family', 'candidates': ['family', 'house', 'kin']}}},\n",
       " {'varga': {'index': 3406,\n",
       "   'head': 'वर्ग',\n",
       "   'trans': {'word': 'category',\n",
       "    'candidates': ['square', 'class', 'category']}}},\n",
       " {'samuha': {'index': 1627,\n",
       "   'head': 'समूह',\n",
       "   'trans': {'word': 'group', 'candidates': ['group', 'set', 'cluster']}}},\n",
       " {'vastu': {'index': 923,\n",
       "   'head': 'वस्तु',\n",
       "   'trans': {'word': 'thing', 'candidates': ['object', 'commodity', 'item']}}},\n",
       " {'parivara': {'index': 35695,\n",
       "   'head': 'परिवार',\n",
       "   'trans': {'word': 'family', 'candidates': ['family', 'house', 'kin']}}},\n",
       " {'loga': {'index': 189,\n",
       "   'head': 'लोग',\n",
       "   'trans': {'word': 'people', 'candidates': ['people', 'folk', 'demos']}}},\n",
       " {'samudaya': {'index': 10729,\n",
       "   'head': 'समुदाय',\n",
       "   'trans': {'word': 'community',\n",
       "    'candidates': ['community', 'summation', 'party']}}},\n",
       " {'vastu': {'index': 923,\n",
       "   'head': 'वस्तु',\n",
       "   'trans': {'word': 'thing', 'candidates': ['object', 'commodity', 'item']}}}]"
      ]
     },
     "execution_count": 42,
     "metadata": {},
     "output_type": "execute_result"
    }
   ],
   "source": [
    "get_word_hypers('परिवार')"
   ]
  },
  {
   "cell_type": "code",
   "execution_count": 21,
   "metadata": {
    "ExecuteTime": {
     "end_time": "2020-03-14T11:59:48.650036Z",
     "start_time": "2020-03-14T11:59:48.547290Z"
    }
   },
   "outputs": [
    {
     "name": "stdout",
     "output_type": "stream",
     "text": [
      "hypo Synset('तेल.noun.480') [Synset('तारपीन.noun.5978'), Synset('खनिज तेल.noun.6029'), Synset('खाद्य तेल.noun.6030'), Synset('वनस्पतीय तेल.noun.6032'), Synset('फुलेल.noun.9546'), Synset('निशातैल.noun.16556'), Synset('लाक्षातैल.noun.17506'), Synset('दीपिकातैल.noun.17589'), Synset('दीक.noun.17789'), Synset('ग्रीस.noun.18990'), Synset('औंगन.noun.18991'), Synset('मसाला.noun.29560'), Synset('ताड़पीन तेल.noun.32112'), Synset('तैलिन.noun.32324'), Synset('चंदनादि-तैल.noun.32325'), Synset('कोकम का तेल.noun.35174'), Synset('नारियल तेल.noun.37441')]\n",
      "hypo Synset('खनिज तेल.noun.6029') [Synset('डीजल.noun.20150'), Synset('पेट्रोल.noun.20151'), Synset('नैफ्था.noun.23783')]\n"
     ]
    }
   ],
   "source": [
    "syns=iwn.synsets('तेल')\n",
    "for syn in syns:\n",
    "    rels=iwn.synset_relation(syn, pyiwn.SynsetRelations.HYPERNYMY)\n",
    "    if rels:\n",
    "        print('hyper', syn, rels)\n",
    "    rels=iwn.synset_relation(syn, pyiwn.SynsetRelations.HYPONYMY)\n",
    "    if rels:\n",
    "        print('hypo', syn, rels)"
   ]
  },
  {
   "cell_type": "code",
   "execution_count": 22,
   "metadata": {
    "ExecuteTime": {
     "end_time": "2020-03-14T11:59:48.688380Z",
     "start_time": "2020-03-14T11:59:48.654038Z"
    }
   },
   "outputs": [
    {
     "data": {
      "text/plain": [
       "[]"
      ]
     },
     "execution_count": 22,
     "metadata": {},
     "output_type": "execute_result"
    }
   ],
   "source": [
    "iwn.synset_relation(iwn.synsets('सेब')[0], pyiwn.SynsetRelations.HYPERNYMY)\n",
    "# HYPONYMY\n",
    "# iwn.synset_relation(iwn.synsets('सेब')[0], pyiwn.SynsetRelations.HYPONYMY)"
   ]
  },
  {
   "cell_type": "code",
   "execution_count": 23,
   "metadata": {
    "ExecuteTime": {
     "end_time": "2020-03-14T11:59:48.738518Z",
     "start_time": "2020-03-14T11:59:48.693948Z"
    }
   },
   "outputs": [
    {
     "data": {
      "text/plain": [
       "[Synset('फुटबाल.noun.14395'), Synset('फुटबाल.noun.14396')]"
      ]
     },
     "execution_count": 23,
     "metadata": {},
     "output_type": "execute_result"
    }
   ],
   "source": [
    "aam_synsets=iwn.synsets('फ़ुटबाल')\n",
    "aam_synsets"
   ]
  },
  {
   "cell_type": "code",
   "execution_count": 24,
   "metadata": {
    "ExecuteTime": {
     "end_time": "2020-03-14T11:59:48.749822Z",
     "start_time": "2020-03-14T11:59:48.742458Z"
    }
   },
   "outputs": [
    {
     "data": {
      "text/plain": [
       "['फुटबाल में हवा कम है इसलिए मारने पर अधिक दूर नहीं जा रहा है ।']"
      ]
     },
     "execution_count": 24,
     "metadata": {},
     "output_type": "execute_result"
    }
   ],
   "source": [
    "aam_synsets[0].examples()"
   ]
  },
  {
   "cell_type": "code",
   "execution_count": 25,
   "metadata": {
    "ExecuteTime": {
     "end_time": "2020-03-14T11:59:48.764461Z",
     "start_time": "2020-03-14T11:59:48.753664Z"
    }
   },
   "outputs": [
    {
     "data": {
      "text/plain": [
       "'मैदान में खेलने की एक बड़ी गेंद जिसे पैर से मारते हैं'"
      ]
     },
     "execution_count": 25,
     "metadata": {},
     "output_type": "execute_result"
    }
   ],
   "source": [
    "aam_synsets[0].gloss()"
   ]
  },
  {
   "cell_type": "code",
   "execution_count": 26,
   "metadata": {
    "ExecuteTime": {
     "end_time": "2020-03-14T11:59:48.786049Z",
     "start_time": "2020-03-14T11:59:48.767133Z"
    }
   },
   "outputs": [
    {
     "data": {
      "text/plain": [
       "'futabala'"
      ]
     },
     "execution_count": 26,
     "metadata": {},
     "output_type": "execute_result"
    }
   ],
   "source": [
    "from sagas.nlu.transliterations import translits\n",
    "translits.translit('फ़ुटबाल', 'hi')"
   ]
  },
  {
   "cell_type": "code",
   "execution_count": 27,
   "metadata": {
    "ExecuteTime": {
     "end_time": "2020-03-14T11:59:48.798764Z",
     "start_time": "2020-03-14T11:59:48.789751Z"
    }
   },
   "outputs": [
    {
     "data": {
      "text/plain": [
       "'phutabala.noun.14395'"
      ]
     },
     "execution_count": 27,
     "metadata": {},
     "output_type": "execute_result"
    }
   ],
   "source": [
    "translits.translit('फुटबाल.noun.14395', 'hi')"
   ]
  },
  {
   "cell_type": "code",
   "execution_count": 28,
   "metadata": {
    "ExecuteTime": {
     "end_time": "2020-03-14T11:59:48.833938Z",
     "start_time": "2020-03-14T11:59:48.801824Z"
    }
   },
   "outputs": [
    {
     "name": "stdout",
     "output_type": "stream",
     "text": [
      "phutabala.noun.14395 ['phutabala', 'futabala', 'phutabola', 'futabola']\n",
      "phutabala.noun.14396 ['phutabala', 'futabala', 'phutabola', 'futabola']\n"
     ]
    }
   ],
   "source": [
    "from sagas.nlu.transliterations import translits\n",
    "# aam = aam_synsets[0]\n",
    "def print_syns(aam_synsets):\n",
    "    for aam in aam_synsets:\n",
    "        head=translits.translit(aam.head_word(), 'hi')\n",
    "        print(f\"{head}.{aam.pos()}.{aam.synset_id()}\" ,\n",
    "              [translits.translit(lemma,'hi') for lemma in aam.lemma_names()])\n",
    "aam_synsets=iwn.synsets('फ़ुटबाल')\n",
    "print_syns(aam_synsets)"
   ]
  },
  {
   "cell_type": "code",
   "execution_count": 29,
   "metadata": {
    "ExecuteTime": {
     "end_time": "2020-03-14T11:59:48.895920Z",
     "start_time": "2020-03-14T11:59:48.837770Z"
    }
   },
   "outputs": [
    {
     "data": {
      "text/plain": [
       "'Football'"
      ]
     },
     "execution_count": 29,
     "metadata": {},
     "output_type": "execute_result"
    }
   ],
   "source": [
    "from sagas.nlu.google_translator import translate\n",
    "r, _ = translate('फुटबाल', source='hi', target='en', options={'get_pronounce'})\n",
    "r"
   ]
  },
  {
   "cell_type": "code",
   "execution_count": 30,
   "metadata": {
    "ExecuteTime": {
     "end_time": "2020-03-14T11:59:48.997713Z",
     "start_time": "2020-03-14T11:59:48.906966Z"
    }
   },
   "outputs": [
    {
     "name": "stdout",
     "output_type": "stream",
     "text": [
      "** hypo Synset('फुटबाल.noun.14396')\n",
      "ragbi.noun.25718 ['ragbi', 'ragabi', 'ragabi phutabala', 'ragbi phutabala']\n"
     ]
    }
   ],
   "source": [
    "# syns=iwn.synsets('तेल')\n",
    "syns=iwn.synsets('फुटबाल')\n",
    "for syn in syns:\n",
    "    rels=iwn.synset_relation(syn, pyiwn.SynsetRelations.HYPERNYMY)\n",
    "    if rels:\n",
    "        print('++ hyper', syn, rels)\n",
    "    rels=iwn.synset_relation(syn, pyiwn.SynsetRelations.HYPONYMY)\n",
    "    if rels:\n",
    "        print('** hypo', syn)\n",
    "        print_syns(rels)"
   ]
  },
  {
   "cell_type": "code",
   "execution_count": 31,
   "metadata": {
    "ExecuteTime": {
     "end_time": "2020-03-14T11:59:49.019327Z",
     "start_time": "2020-03-14T11:59:49.001136Z"
    }
   },
   "outputs": [
    {
     "data": {
      "text/plain": [
       "0"
      ]
     },
     "execution_count": 31,
     "metadata": {},
     "output_type": "execute_result"
    }
   ],
   "source": [
    "aam = aam_synsets[0]\n",
    "hyponyms = iwn.synset_relation(aam, pyiwn.SynsetRelations.HYPONYMY)\n",
    "len(hyponyms)"
   ]
  },
  {
   "cell_type": "code",
   "execution_count": 32,
   "metadata": {
    "ExecuteTime": {
     "end_time": "2020-03-14T11:59:49.030208Z",
     "start_time": "2020-03-14T11:59:49.023115Z"
    }
   },
   "outputs": [],
   "source": [
    "print_syns(hyponyms)"
   ]
  },
  {
   "cell_type": "code",
   "execution_count": 33,
   "metadata": {
    "ExecuteTime": {
     "end_time": "2020-03-14T11:59:49.044212Z",
     "start_time": "2020-03-14T11:59:49.034762Z"
    }
   },
   "outputs": [
    {
     "data": {
      "text/plain": [
       "[]"
      ]
     },
     "execution_count": 33,
     "metadata": {},
     "output_type": "execute_result"
    }
   ],
   "source": [
    "iwn.synset_relation(aam, pyiwn.SynsetRelations.HYPERNYMY)"
   ]
  },
  {
   "cell_type": "code",
   "execution_count": 34,
   "metadata": {
    "ExecuteTime": {
     "end_time": "2020-03-14T11:59:49.088075Z",
     "start_time": "2020-03-14T11:59:49.047589Z"
    }
   },
   "outputs": [],
   "source": [
    "from anytree import Node, RenderTree\n",
    "udo = Node(\"Udo\")\n",
    "marc = Node(\"Marc\", parent=udo)\n",
    "lian = Node(\"Lian\", parent=marc)\n",
    "dan = Node(\"Dan\", parent=udo)\n",
    "jet = Node(\"Jet\", parent=dan)\n",
    "jan = Node(\"Jan\", parent=dan)\n",
    "joe = Node(\"Joe\", parent=dan)"
   ]
  },
  {
   "cell_type": "code",
   "execution_count": 35,
   "metadata": {
    "ExecuteTime": {
     "end_time": "2020-03-14T11:59:49.099148Z",
     "start_time": "2020-03-14T11:59:49.093977Z"
    }
   },
   "outputs": [
    {
     "name": "stdout",
     "output_type": "stream",
     "text": [
      "Node('/Udo')\n"
     ]
    }
   ],
   "source": [
    "print(udo)"
   ]
  },
  {
   "cell_type": "code",
   "execution_count": 36,
   "metadata": {
    "ExecuteTime": {
     "end_time": "2020-03-14T11:59:49.109013Z",
     "start_time": "2020-03-14T11:59:49.101962Z"
    }
   },
   "outputs": [
    {
     "name": "stdout",
     "output_type": "stream",
     "text": [
      "Udo\n",
      "├── Marc\n",
      "│   └── Lian\n",
      "└── Dan\n",
      "    ├── Jet\n",
      "    ├── Jan\n",
      "    └── Joe\n"
     ]
    }
   ],
   "source": [
    "for pre, fill, node in RenderTree(udo):\n",
    "    print(\"%s%s\" % (pre, node.name))"
   ]
  },
  {
   "cell_type": "code",
   "execution_count": 37,
   "metadata": {
    "ExecuteTime": {
     "end_time": "2020-03-14T11:59:49.138111Z",
     "start_time": "2020-03-14T11:59:49.113160Z"
    }
   },
   "outputs": [
    {
     "name": "stdout",
     "output_type": "stream",
     "text": [
      "Node('/Udo')\n",
      "├── Node('/Udo/Marc')\n",
      "│   └── Node('/Udo/Marc/Lian')\n",
      "└── Node('/Udo/Dan')\n",
      "    ├── Node('/Udo/Dan/Jet')\n",
      "    ├── Node('/Udo/Dan/Jan')\n",
      "    └── Node('/Udo/Dan/Joe')\n"
     ]
    }
   ],
   "source": [
    "print(RenderTree(udo))"
   ]
  },
  {
   "cell_type": "code",
   "execution_count": 38,
   "metadata": {
    "ExecuteTime": {
     "end_time": "2020-03-14T11:59:49.317556Z",
     "start_time": "2020-03-14T11:59:49.169038Z"
    }
   },
   "outputs": [
    {
     "data": {
      "image/png": "[encoded data removed]",
      "text/plain": [
       "<IPython.core.display.Image object>"
      ]
     },
     "execution_count": 38,
     "metadata": {},
     "output_type": "execute_result"
    }
   ],
   "source": [
    "from anytree.exporter import DotExporter\n",
    "from IPython.display import Image\n",
    "# graphviz needs to be installed for the next line!\n",
    "DotExporter(udo).to_picture(\"udo.png\")\n",
    "Image(filename='udo.png') "
   ]
  },
  {
   "cell_type": "code",
   "execution_count": null,
   "metadata": {},
   "outputs": [],
   "source": []
  }
 ],
 "metadata": {
  "kernelspec": {
   "display_name": "Python 3",
   "language": "python",
   "name": "python3"
  },
  "language_info": {
   "codemirror_mode": {
    "name": "ipython",
    "version": 3
   },
   "file_extension": ".py",
   "mimetype": "text/x-python",
   "name": "python",
   "nbconvert_exporter": "python",
   "pygments_lexer": "ipython3",
   "version": "3.6.6"
  },
  "varInspector": {
   "cols": {
    "lenName": 16,
    "lenType": 16,
    "lenVar": 40
   },
   "kernels_config": {
    "python": {
     "delete_cmd_postfix": "",
     "delete_cmd_prefix": "del ",
     "library": "var_list.py",
     "varRefreshCmd": "print(var_dic_list())"
    },
    "r": {
     "delete_cmd_postfix": ") ",
     "delete_cmd_prefix": "rm(",
     "library": "var_list.r",
     "varRefreshCmd": "cat(var_dic_list()) "
    }
   },
   "types_to_exclude": [
    "module",
    "function",
    "builtin_function_or_method",
    "instance",
    "_Feature"
   ],
   "window_display": false
  }
 },
 "nbformat": 4,
 "nbformat_minor": 2
}
