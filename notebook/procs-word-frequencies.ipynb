{
 "cells": [
  {
   "cell_type": "code",
   "execution_count": 4,
   "metadata": {
    "ExecuteTime": {
     "end_time": "2020-04-17T09:39:49.082704Z",
     "start_time": "2020-04-17T09:39:49.073790Z"
    }
   },
   "outputs": [
    {
     "data": {
      "text/plain": [
       "7.77"
      ]
     },
     "execution_count": 4,
     "metadata": {},
     "output_type": "execute_result"
    }
   ],
   "source": [
    "# from wordfreq import word_frequency\n",
    "from wordfreq import zipf_frequency\n",
    "# zipf_frequency is a variation on word_frequency that aims \n",
    "# to return the word frequency on a human-friendly logarithmic scale.\n",
    "# word_frequency('café', 'en')\n",
    "zipf_frequency('the', 'en')"
   ]
  },
  {
   "cell_type": "code",
   "execution_count": 15,
   "metadata": {
    "ExecuteTime": {
     "end_time": "2020-04-17T09:50:07.661185Z",
     "start_time": "2020-04-17T09:50:07.646418Z"
    }
   },
   "outputs": [
    {
     "data": {
      "text/plain": [
       "(1.57, 0.0)"
      ]
     },
     "execution_count": 15,
     "metadata": {},
     "output_type": "execute_result"
    }
   ],
   "source": [
    "zipf_frequency('zipf', 'en'), zipf_frequency('zipf', 'en', wordlist='small')"
   ]
  },
  {
   "cell_type": "code",
   "execution_count": 7,
   "metadata": {
    "ExecuteTime": {
     "end_time": "2020-04-17T09:40:36.951926Z",
     "start_time": "2020-04-17T09:40:36.599244Z"
    }
   },
   "outputs": [
    {
     "name": "stderr",
     "output_type": "stream",
     "text": [
      "Building prefix dict from /Users/xiaofeiwu/miniconda3/envs/rasa/lib/python3.6/site-packages/wordfreq/data/jieba_zh.txt ...\n",
      "Dumping model to file cache /var/folders/fv/7k1qk5v11dn33sdcngv2wbnm0000gn/T/jieba.u61887de04b906acd02429c54076f3672.cache\n",
      "Loading model cost 0.103 seconds.\n",
      "Prefix dict has been built successfully.\n"
     ]
    },
    {
     "data": {
      "text/plain": [
       "3.61"
      ]
     },
     "execution_count": 7,
     "metadata": {},
     "output_type": "execute_result"
    }
   ],
   "source": [
    "zipf_frequency('北京地铁', 'zh')  # \"Beijing Subway\""
   ]
  },
  {
   "cell_type": "code",
   "execution_count": 8,
   "metadata": {
    "ExecuteTime": {
     "end_time": "2020-04-17T09:42:23.686186Z",
     "start_time": "2020-04-17T09:42:23.679116Z"
    }
   },
   "outputs": [
    {
     "data": {
      "text/plain": [
       "[6.09, 3.92, 4.88, 5.95]"
      ]
     },
     "execution_count": 8,
     "metadata": {},
     "output_type": "execute_result"
    }
   ],
   "source": [
    "[zipf_frequency(w, 'zh') for w in ['想', '思念', '思考', '认为']]"
   ]
  },
  {
   "cell_type": "code",
   "execution_count": 19,
   "metadata": {
    "ExecuteTime": {
     "end_time": "2020-04-17T10:01:12.649967Z",
     "start_time": "2020-04-17T10:01:12.635417Z"
    }
   },
   "outputs": [
    {
     "data": {
      "text/plain": [
       "([('would like to', 6.01),\n",
       "  ('would like', 6.03),\n",
       "  ('would', 6.27),\n",
       "  ('will', 6.45),\n",
       "  ('want', 6.03),\n",
       "  ('wish', 5.19),\n",
       "  ('hope', 5.4)],\n",
       " ('will', 6.45))"
      ]
     },
     "execution_count": 19,
     "metadata": {},
     "output_type": "execute_result"
    }
   ],
   "source": [
    "freqs=[(w, zipf_frequency(w, 'en')) for w in ['would like to', 'would like', 'would', 'will', 'want', 'wish', 'hope']]\n",
    "freqs, sorted(freqs, key=lambda x:-x[1])[0]"
   ]
  },
  {
   "cell_type": "code",
   "execution_count": 36,
   "metadata": {
    "ExecuteTime": {
     "end_time": "2020-04-17T10:53:40.647075Z",
     "start_time": "2020-04-17T10:53:40.535259Z"
    }
   },
   "outputs": [
    {
     "name": "stdout",
     "output_type": "stream",
     "text": [
      "root: need (need, verb)\n",
      "|-- nsubj: i (i, pron)\n",
      "|-- obj: food (food, noun)\n",
      "+-- punct: . (., punct)\n",
      "{'need|需求', 'lack|缺少', 'request|要求'}\n",
      "[('request|要求', '044394'), ('lack|缺少', '131586'), ('need|需求', '193584')]\n",
      "('need', 5.96) [('need', 5.96), ('lack', 4.96), ('request', 4.69)]\n",
      "('要求', 5.73) [('需求', 5.01), ('缺少', 4.4), ('要求', 5.73)]\n"
     ]
    }
   ],
   "source": [
    "from sagas.nlu.anal import build_anal_tree, Doc, AnalNode\n",
    "from sagas.nlu.anal_corpus import model_info\n",
    "f=build_anal_tree('i need food', 'en', 'stanza')\n",
    "f.draw()\n",
    "print(f.types)\n",
    "print([(t.name, st.word.id) for st in f.sense for t in st.inherits])\n",
    "tokens=[t.split('|') for t in f.types]\n",
    "freqs_en=[(w, zipf_frequency(w, 'en')) for w in [tok[0] for tok in tokens]]\n",
    "print(sorted(freqs_en, key=lambda x:-x[1])[0], freqs_en)\n",
    "freqs_zh=[(w, zipf_frequency(w, 'zh')) for w in [tok[1] for tok in tokens]]\n",
    "print(sorted(freqs_zh, key=lambda x:-x[1])[0], freqs_zh)"
   ]
  }
 ],
 "metadata": {
  "kernelspec": {
   "display_name": "Python 3",
   "language": "python",
   "name": "python3"
  },
  "language_info": {
   "codemirror_mode": {
    "name": "ipython",
    "version": 3
   },
   "file_extension": ".py",
   "mimetype": "text/x-python",
   "name": "python",
   "nbconvert_exporter": "python",
   "pygments_lexer": "ipython3",
   "version": "3.6.6"
  },
  "varInspector": {
   "cols": {
    "lenName": 16,
    "lenType": 16,
    "lenVar": 40
   },
   "kernels_config": {
    "python": {
     "delete_cmd_postfix": "",
     "delete_cmd_prefix": "del ",
     "library": "var_list.py",
     "varRefreshCmd": "print(var_dic_list())"
    },
    "r": {
     "delete_cmd_postfix": ") ",
     "delete_cmd_prefix": "rm(",
     "library": "var_list.r",
     "varRefreshCmd": "cat(var_dic_list()) "
    }
   },
   "types_to_exclude": [
    "module",
    "function",
    "builtin_function_or_method",
    "instance",
    "_Feature"
   ],
   "window_display": false
  }
 },
 "nbformat": 4,
 "nbformat_minor": 2
}
