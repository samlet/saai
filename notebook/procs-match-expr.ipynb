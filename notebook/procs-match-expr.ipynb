{
 "cells": [
  {
   "cell_type": "code",
   "execution_count": 1,
   "metadata": {
    "ExecuteTime": {
     "end_time": "2020-04-13T14:14:24.162820Z",
     "start_time": "2020-04-13T14:14:22.605556Z"
    }
   },
   "outputs": [
    {
     "data": {
      "text/plain": [
       "desc_(ops=[], flags=(), subj='result|结果', aux=_, desc=_)"
      ]
     },
     "execution_count": 1,
     "metadata": {},
     "output_type": "execute_result"
    }
   ],
   "source": [
    "from sagas.nlu.anal_expr import match\n",
    "from sagas.nlu.anal_data_types import behave_, desc_, phrase_, rel_, path_, _, _1, _2\n",
    "from sagas.nlu.anal import build_anal_tree, Doc, AnalNode\n",
    "\n",
    "_1 << desc_('result|结果', _)\n",
    "_1.req"
   ]
  },
  {
   "cell_type": "code",
   "execution_count": 6,
   "metadata": {
    "ExecuteTime": {
     "end_time": "2020-04-13T14:33:19.135434Z",
     "start_time": "2020-04-13T14:33:19.103396Z"
    }
   },
   "outputs": [
    {
     "name": "stdout",
     "output_type": "stream",
     "text": [
      "[1, 2]\n"
     ]
    },
    {
     "data": {
      "text/plain": [
       "[1, 2, 5]"
      ]
     },
     "execution_count": 6,
     "metadata": {},
     "output_type": "execute_result"
    }
   ],
   "source": [
    "q=[1,2,3]\n",
    "q.pop()\n",
    "print(q)\n",
    "q.append(5)\n",
    "q"
   ]
  },
  {
   "cell_type": "code",
   "execution_count": 10,
   "metadata": {
    "ExecuteTime": {
     "end_time": "2020-04-13T14:49:11.235965Z",
     "start_time": "2020-04-13T14:49:11.205836Z"
    }
   },
   "outputs": [
    {
     "name": "stdout",
     "output_type": "stream",
     "text": [
      "False\n",
      "1\n",
      "....\n"
     ]
    },
    {
     "data": {
      "text/plain": [
       "True"
      ]
     },
     "execution_count": 10,
     "metadata": {},
     "output_type": "execute_result"
    }
   ],
   "source": [
    "import queue\n",
    "q = queue.Queue()\n",
    "q.put(1)\n",
    "print(q.empty())\n",
    "r=q.get_nowait()\n",
    "print(r)\n",
    "try:\n",
    "    r=q.get_nowait()\n",
    "    # print(r if r is not None else '_')\n",
    "except queue.Empty as e:\n",
    "    print('....')\n",
    "\n",
    "q.empty()"
   ]
  },
  {
   "cell_type": "code",
   "execution_count": 12,
   "metadata": {
    "ExecuteTime": {
     "end_time": "2020-04-13T15:19:13.703855Z",
     "start_time": "2020-04-13T15:19:13.632315Z"
    }
   },
   "outputs": [
    {
     "name": "stdout",
     "output_type": "stream",
     "text": [
      "Initial queue\n",
      "deque(['a', 'b', 'c'])\n",
      "\n",
      "Elements dequeued from the queue\n",
      "a\n",
      "b\n",
      "c\n",
      "\n",
      "Queue after removing elements\n",
      "deque([]) 0\n"
     ]
    }
   ],
   "source": [
    "from collections import deque \n",
    "  \n",
    "# Initializing a queue \n",
    "q = deque() \n",
    "  \n",
    "# Adding elements to a queue \n",
    "q.append('a') \n",
    "q.append('b') \n",
    "q.append('c') \n",
    "  \n",
    "print(\"Initial queue\") \n",
    "print(q) \n",
    "  \n",
    "# Removing elements from a queue \n",
    "print(\"\\nElements dequeued from the queue\") \n",
    "print(q.popleft()) \n",
    "print(q.popleft()) \n",
    "print(q.popleft()) \n",
    "  \n",
    "print(\"\\nQueue after removing elements\") \n",
    "print(q, len(q)) "
   ]
  }
 ],
 "metadata": {
  "kernelspec": {
   "display_name": "Python 3",
   "language": "python",
   "name": "python3"
  },
  "language_info": {
   "codemirror_mode": {
    "name": "ipython",
    "version": 3
   },
   "file_extension": ".py",
   "mimetype": "text/x-python",
   "name": "python",
   "nbconvert_exporter": "python",
   "pygments_lexer": "ipython3",
   "version": "3.6.6"
  },
  "varInspector": {
   "cols": {
    "lenName": 16,
    "lenType": 16,
    "lenVar": 40
   },
   "kernels_config": {
    "python": {
     "delete_cmd_postfix": "",
     "delete_cmd_prefix": "del ",
     "library": "var_list.py",
     "varRefreshCmd": "print(var_dic_list())"
    },
    "r": {
     "delete_cmd_postfix": ") ",
     "delete_cmd_prefix": "rm(",
     "library": "var_list.r",
     "varRefreshCmd": "cat(var_dic_list()) "
    }
   },
   "types_to_exclude": [
    "module",
    "function",
    "builtin_function_or_method",
    "instance",
    "_Feature"
   ],
   "window_display": false
  }
 },
 "nbformat": 4,
 "nbformat_minor": 2
}
