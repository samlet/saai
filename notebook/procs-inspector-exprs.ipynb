{
 "cells": [
  {
   "cell_type": "code",
   "execution_count": 21,
   "metadata": {
    "ExecuteTime": {
     "end_time": "2020-03-24T03:03:11.953297Z",
     "start_time": "2020-03-24T03:03:11.927440Z"
    }
   },
   "outputs": [
    {
     "name": "stdout",
     "output_type": "stream",
     "text": [
      "== animal\n",
      "!= animal\n",
      "< {'animal', 'plant'}\n",
      "== animal\n",
      "== animal\n",
      "or ins_plain(obl)\n",
      "== animal\n",
      "== animal\n",
      "and ins_plain(obl)\n",
      "***************\n",
      "cat: ('obj',), {}\n",
      "== animal\n",
      "sense: ('obj',), {}\n",
      "rshift animal\n"
     ]
    },
    {
     "data": {
      "text/plain": [
       "ins_plain()"
      ]
     },
     "execution_count": 21,
     "metadata": {},
     "output_type": "execute_result"
    }
   ],
   "source": [
    "from sagas.nlu.inspector_common import Inspector, Context\n",
    "class CatInspector(Inspector):\n",
    "    \"\"\"\n",
    "    A plain inspector, as a template\n",
    "    \"\"\"\n",
    "    def __init__(self, arg=''):\n",
    "        self.arg=arg\n",
    "        self.calls = []\n",
    "\n",
    "    def name(self):\n",
    "        return \"plain\"\n",
    "\n",
    "    def run(self, key, ctx:Context):\n",
    "        lemma = ctx.lemmas[key]\n",
    "        return False\n",
    "    def __eq__(self, other):\n",
    "        print('==', other)\n",
    "        return self\n",
    "    def __ne__(self, other):\n",
    "        print('!=', other)\n",
    "        return self\n",
    "    def __lt__(self, other):\n",
    "        print('<', other)\n",
    "        return self\n",
    "    \n",
    "    def __and__(self, other):\n",
    "        print('and', other)\n",
    "        return self\n",
    "    \n",
    "    def __or__(self, other):\n",
    "        print('or', other)\n",
    "        return self\n",
    "    \n",
    "    def __getattr__(self, method):\n",
    "        def serv(*args, **kwargs):\n",
    "            print(f\"{method}: {args}, {kwargs}\")\n",
    "            self.calls.append((method, args, kwargs))\n",
    "            return self\n",
    "\n",
    "        return serv\n",
    "    \n",
    "    def __rshift__(self, other):\n",
    "        print('rshift', other)\n",
    "        return self\n",
    "    def __str__(self):\n",
    "        return f\"ins_{self.name()}({self.arg})\"\n",
    "    \n",
    "cat_ins=CatInspector\n",
    "cat_ins('obj')=='animal'\n",
    "cat_ins('obj')!='animal'\n",
    "cat_ins('obj')<{'animal', 'plant'}\n",
    "(cat_ins('obj')=='animal')|(cat_ins('obl')=='animal')\n",
    "(cat_ins('obj')=='animal')&(cat_ins('obl')=='animal')\n",
    "\n",
    "print('*'*15)\n",
    "ins=CatInspector()\n",
    "ins.cat('obj')=='animal'\n",
    "ins.sense('obj')>>'animal'"
   ]
  },
  {
   "cell_type": "code",
   "execution_count": null,
   "metadata": {},
   "outputs": [],
   "source": []
  }
 ],
 "metadata": {
  "kernelspec": {
   "display_name": "Python 3",
   "language": "python",
   "name": "python3"
  },
  "language_info": {
   "codemirror_mode": {
    "name": "ipython",
    "version": 3
   },
   "file_extension": ".py",
   "mimetype": "text/x-python",
   "name": "python",
   "nbconvert_exporter": "python",
   "pygments_lexer": "ipython3",
   "version": "3.6.6"
  },
  "varInspector": {
   "cols": {
    "lenName": 16,
    "lenType": 16,
    "lenVar": 40
   },
   "kernels_config": {
    "python": {
     "delete_cmd_postfix": "",
     "delete_cmd_prefix": "del ",
     "library": "var_list.py",
     "varRefreshCmd": "print(var_dic_list())"
    },
    "r": {
     "delete_cmd_postfix": ") ",
     "delete_cmd_prefix": "rm(",
     "library": "var_list.r",
     "varRefreshCmd": "cat(var_dic_list()) "
    }
   },
   "types_to_exclude": [
    "module",
    "function",
    "builtin_function_or_method",
    "instance",
    "_Feature"
   ],
   "window_display": false
  }
 },
 "nbformat": 4,
 "nbformat_minor": 2
}
