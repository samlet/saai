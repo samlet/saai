{
 "cells": [
  {
   "cell_type": "code",
   "execution_count": 1,
   "metadata": {
    "ExecuteTime": {
     "end_time": "2020-05-24T06:39:19.493245Z",
     "start_time": "2020-05-24T06:39:17.413160Z"
    }
   },
   "outputs": [
    {
     "name": "stdout",
     "output_type": "stream",
     "text": [
      "root: 行き (7; 行く, verb)\n",
      "|-- iobj: 12月 (3; 12月, noun)\n",
      "|   |-- nmod: 年 (2; 年, noun)\n",
      "|   |   +-- nummod: 2008 (1; 2008, num)\n",
      "|   +-- case: に (4; に, adp)\n",
      "|-- iobj: 上海 (5; 上海, propn)\n",
      "|   +-- case: に (6; に, adp)\n",
      "|-- aux: たいです (8; たい, aux)\n",
      "+-- punct: 。 (9; 。, punct)\n"
     ]
    },
    {
     "data": {
      "text/plain": [
       "('行き',\n",
       " '2008年12月に',\n",
       " [('2008年12月', datetime.datetime(11, 5, 24, 14, 39, 19, 484058))])"
      ]
     },
     "execution_count": 1,
     "metadata": {},
     "output_type": "execute_result"
    }
   ],
   "source": [
    "from sagas.nlu.anal import build_anal_tree, Doc\n",
    "from anytree.search import findall, findall_by_attr\n",
    "f=build_anal_tree('2008年12月に上海に行きたいです。', 'ja', 'stanza')\n",
    "f.draw()\n",
    "f.verbs[0].text, f.rels('iobj')[0].chunk, f.rels('iobj')[0].as_date()"
   ]
  },
  {
   "cell_type": "code",
   "execution_count": 2,
   "metadata": {
    "ExecuteTime": {
     "end_time": "2020-05-24T06:39:19.589716Z",
     "start_time": "2020-05-24T06:39:19.499953Z"
    }
   },
   "outputs": [
    {
     "name": "stdout",
     "output_type": "stream",
     "text": [
      "root: 経営している。 (4; 経営, noun)\n",
      "|-- nsubj: 彼は (1; 彼, noun)\n",
      "|-- obl: 大阪で (2; 大阪, noun)\n",
      "+-- obj: 美容院を (3; 美容院, noun)\n"
     ]
    },
    {
     "data": {
      "text/html": [
       "<div>\n",
       "<style scoped>\n",
       "    .dataframe tbody tr th:only-of-type {\n",
       "        vertical-align: middle;\n",
       "    }\n",
       "\n",
       "    .dataframe tbody tr th {\n",
       "        vertical-align: top;\n",
       "    }\n",
       "\n",
       "    .dataframe thead th {\n",
       "        text-align: right;\n",
       "    }\n",
       "</style>\n",
       "<table border=\"1\" class=\"dataframe\">\n",
       "  <thead>\n",
       "    <tr style=\"text-align: right;\">\n",
       "      <th></th>\n",
       "      <th>rel</th>\n",
       "      <th>index</th>\n",
       "      <th>text</th>\n",
       "      <th>lemma</th>\n",
       "      <th>children</th>\n",
       "      <th>features</th>\n",
       "    </tr>\n",
       "  </thead>\n",
       "  <tbody>\n",
       "    <tr>\n",
       "      <th>0</th>\n",
       "      <td>ガ</td>\n",
       "      <td>0</td>\n",
       "      <td>彼は</td>\n",
       "      <td>彼</td>\n",
       "      <td>[彼]</td>\n",
       "      <td>[c_noun, x_n]</td>\n",
       "    </tr>\n",
       "    <tr>\n",
       "      <th>1</th>\n",
       "      <td>ヲ</td>\n",
       "      <td>2</td>\n",
       "      <td>美容院を</td>\n",
       "      <td>美容院</td>\n",
       "      <td>[美容院]</td>\n",
       "      <td>[c_noun, x_n]</td>\n",
       "    </tr>\n",
       "    <tr>\n",
       "      <th>2</th>\n",
       "      <td>デ</td>\n",
       "      <td>1</td>\n",
       "      <td>大阪で</td>\n",
       "      <td>大阪</td>\n",
       "      <td>[大阪]</td>\n",
       "      <td>[c_noun, x_c]</td>\n",
       "    </tr>\n",
       "  </tbody>\n",
       "</table>\n",
       "</div>"
      ],
      "text/plain": [
       "  rel  index  text lemma children       features\n",
       "0   ガ      0    彼は     彼      [彼]  [c_noun, x_n]\n",
       "1   ヲ      2  美容院を   美容院    [美容院]  [c_noun, x_n]\n",
       "2   デ      1   大阪で    大阪     [大阪]  [c_noun, x_c]"
      ]
     },
     "execution_count": 2,
     "metadata": {},
     "output_type": "execute_result"
    }
   ],
   "source": [
    "from sagas.nlu.anal import build_anal_tree, Doc\n",
    "from anytree.search import findall, findall_by_attr\n",
    "f=build_anal_tree('彼は大阪で美容院を経営している。', 'ja', 'knp')\n",
    "f.draw()\n",
    "f.doc.predict_domains_df[0]"
   ]
  },
  {
   "cell_type": "code",
   "execution_count": 3,
   "metadata": {
    "ExecuteTime": {
     "end_time": "2020-05-24T06:39:19.627499Z",
     "start_time": "2020-05-24T06:39:19.603368Z"
    }
   },
   "outputs": [
    {
     "data": {
      "text/plain": [
       "(['LOC'],\n",
       " AnalNode(dependency_relation='obl', dependency_relation_raw='デ', entity=['LOC'], extens=<sagas.nlu.anal_data_types.ExtensionHolder object at 0x120eee208>, feats='<地名疑><デ><助詞><体言><係:デ格><区切:0-0><格要素><連用要素><名詞項候補><先行詞候補><正規化代表表記:大阪/おおさか><NE:LOCATION:大阪><解析格:デ>', governor=4, index=2, lang='ja', lemma='大阪', name='obl', position=(2, 5), segments=[{'index': 2, 'upos': 'NOUN', 'xpos': ['名詞', '地名'], 'text': '大阪', 'lemmas': ['大阪', 'おおさか'], 'entity': 'LOC'}, {'index': 3, 'upos': 'ADP', 'xpos': ['助詞', '格助詞'], 'text': 'で'}], term={}, text='大阪で', tok=<KnpWordWrapper index=2;text=大阪で;lemma=大阪;upos=NOUN;xpos=C_p;feats=<地名疑><デ><助詞><体言><係:デ格><区切:0-0><格要素><連用要素><名詞項候補><先行詞候補><正規化代表表記:大阪/おおさか><NE:LOCATION:大阪><解析格:デ>;governor=4;dependency_relation=obl>, upos='NOUN', xpos='C_p'))"
      ]
     },
     "execution_count": 3,
     "metadata": {},
     "output_type": "execute_result"
    }
   ],
   "source": [
    "tok=f.get_by_index(2)\n",
    "tok.entity, tok"
   ]
  },
  {
   "cell_type": "code",
   "execution_count": 8,
   "metadata": {
    "ExecuteTime": {
     "end_time": "2020-05-24T06:42:18.523212Z",
     "start_time": "2020-05-24T06:42:18.465126Z"
    }
   },
   "outputs": [
    {
     "name": "stdout",
     "output_type": "stream",
     "text": [
      "root: 在 (2; 在, adp)\n",
      "|-- nsubj: 他 (1; 他, pron)\n",
      "|-- obl: 北京 (3; 北京, propn)\n",
      "|-- obl: 美容院 (5; 美容院, noun)\n",
      "|   +-- att: 经营 (4; 经营, verb)\n",
      "+-- punct: 。 (6; 。, punct)\n",
      "北京 ['S-Ns']\n"
     ]
    },
    {
     "data": {
      "text/html": [
       "<div>\n",
       "<style scoped>\n",
       "    .dataframe tbody tr th:only-of-type {\n",
       "        vertical-align: middle;\n",
       "    }\n",
       "\n",
       "    .dataframe tbody tr th {\n",
       "        vertical-align: top;\n",
       "    }\n",
       "\n",
       "    .dataframe thead th {\n",
       "        text-align: right;\n",
       "    }\n",
       "</style>\n",
       "<table border=\"1\" class=\"dataframe\">\n",
       "  <thead>\n",
       "    <tr style=\"text-align: right;\">\n",
       "      <th></th>\n",
       "      <th>rel</th>\n",
       "      <th>index</th>\n",
       "      <th>text</th>\n",
       "      <th>lemma</th>\n",
       "      <th>children</th>\n",
       "      <th>features</th>\n",
       "    </tr>\n",
       "  </thead>\n",
       "  <tbody>\n",
       "    <tr>\n",
       "      <th>0</th>\n",
       "      <td>a0</td>\n",
       "      <td>0</td>\n",
       "      <td>他</td>\n",
       "      <td>他</td>\n",
       "      <td>[他]</td>\n",
       "      <td>[c_pron, x_r]</td>\n",
       "    </tr>\n",
       "  </tbody>\n",
       "</table>\n",
       "</div>"
      ],
      "text/plain": [
       "  rel  index text lemma children       features\n",
       "0  a0      0    他     他      [他]  [c_pron, x_r]"
      ]
     },
     "execution_count": 8,
     "metadata": {},
     "output_type": "execute_result"
    }
   ],
   "source": [
    "from sagas.nlu.anal import build_anal_tree, Doc\n",
    "from anytree.search import findall, findall_by_attr\n",
    "f=build_anal_tree('他在北京经营美容院。', 'zh', 'analz')\n",
    "# f=build_anal_tree('他在北京经营美容院。', 'zh', 'ltp')\n",
    "f.draw()\n",
    "print(f.get_by_index(3).text, f.get_by_index(3).entity)\n",
    "f.doc.predict_domains_df[0]"
   ]
  },
  {
   "cell_type": "code",
   "execution_count": 9,
   "metadata": {
    "ExecuteTime": {
     "end_time": "2020-05-24T06:50:23.822212Z",
     "start_time": "2020-05-24T06:50:23.739742Z"
    }
   },
   "outputs": [
    {
     "name": "stdout",
     "output_type": "stream",
     "text": [
      "root: 去 (5; 去, verb)\n",
      "|-- nsubj: 他 (1; 他, pron)\n",
      "|-- adv: 从 (2; 从, adp)\n",
      "|   +-- obl: 坐飞机 (4; 坐飞机, noun)\n",
      "|       +-- att: 北京 (3; 北京, propn)\n",
      "+-- obj: 纽约 (6; 纽约, propn)\n"
     ]
    },
    {
     "data": {
      "text/html": [
       "<div>\n",
       "<style scoped>\n",
       "    .dataframe tbody tr th:only-of-type {\n",
       "        vertical-align: middle;\n",
       "    }\n",
       "\n",
       "    .dataframe tbody tr th {\n",
       "        vertical-align: top;\n",
       "    }\n",
       "\n",
       "    .dataframe thead th {\n",
       "        text-align: right;\n",
       "    }\n",
       "</style>\n",
       "<table border=\"1\" class=\"dataframe\">\n",
       "  <thead>\n",
       "    <tr style=\"text-align: right;\">\n",
       "      <th></th>\n",
       "      <th>rel</th>\n",
       "      <th>index</th>\n",
       "      <th>text</th>\n",
       "      <th>lemma</th>\n",
       "      <th>children</th>\n",
       "      <th>features</th>\n",
       "    </tr>\n",
       "  </thead>\n",
       "  <tbody>\n",
       "    <tr>\n",
       "      <th>0</th>\n",
       "      <td>a0</td>\n",
       "      <td>0</td>\n",
       "      <td>他</td>\n",
       "      <td>他</td>\n",
       "      <td>[他]</td>\n",
       "      <td>[c_pron, x_r]</td>\n",
       "    </tr>\n",
       "    <tr>\n",
       "      <th>1</th>\n",
       "      <td>dir</td>\n",
       "      <td>3</td>\n",
       "      <td>坐飞机</td>\n",
       "      <td>坐飞机</td>\n",
       "      <td>[从, 北京, 坐飞机]</td>\n",
       "      <td>[c_noun, x_n]</td>\n",
       "    </tr>\n",
       "    <tr>\n",
       "      <th>2</th>\n",
       "      <td>a1</td>\n",
       "      <td>5</td>\n",
       "      <td>纽约</td>\n",
       "      <td>纽约</td>\n",
       "      <td>[纽约]</td>\n",
       "      <td>[c_propn, x_ns]</td>\n",
       "    </tr>\n",
       "  </tbody>\n",
       "</table>\n",
       "</div>"
      ],
      "text/plain": [
       "   rel  index text lemma      children         features\n",
       "0   a0      0    他     他           [他]    [c_pron, x_r]\n",
       "1  dir      3  坐飞机   坐飞机  [从, 北京, 坐飞机]    [c_noun, x_n]\n",
       "2   a1      5   纽约    纽约          [纽约]  [c_propn, x_ns]"
      ]
     },
     "execution_count": 9,
     "metadata": {},
     "output_type": "execute_result"
    }
   ],
   "source": [
    "f=build_anal_tree('他从北京坐飞机去纽约', 'zh', 'analz')\n",
    "f.draw()\n",
    "f.doc.predict_domains_df[0]"
   ]
  },
  {
   "cell_type": "code",
   "execution_count": 14,
   "metadata": {
    "ExecuteTime": {
     "end_time": "2020-05-24T06:56:11.180817Z",
     "start_time": "2020-05-24T06:56:11.131944Z"
    }
   },
   "outputs": [
    {
     "name": "stdout",
     "output_type": "stream",
     "text": [
      "root: 去 (2; 去, verb)\n",
      "|-- nsubj: 他 (1; 他, pron)\n",
      "|-- obj: 北京 (3; 北京, propn)\n",
      "+-- coo: 开 (4; 开, verb)\n",
      "    +-- obj: 饭馆 (5; 饭馆, noun)\n"
     ]
    },
    {
     "data": {
      "text/html": [
       "<div>\n",
       "<style scoped>\n",
       "    .dataframe tbody tr th:only-of-type {\n",
       "        vertical-align: middle;\n",
       "    }\n",
       "\n",
       "    .dataframe tbody tr th {\n",
       "        vertical-align: top;\n",
       "    }\n",
       "\n",
       "    .dataframe thead th {\n",
       "        text-align: right;\n",
       "    }\n",
       "</style>\n",
       "<table border=\"1\" class=\"dataframe\">\n",
       "  <thead>\n",
       "    <tr style=\"text-align: right;\">\n",
       "      <th></th>\n",
       "      <th>rel</th>\n",
       "      <th>index</th>\n",
       "      <th>text</th>\n",
       "      <th>lemma</th>\n",
       "      <th>children</th>\n",
       "      <th>features</th>\n",
       "    </tr>\n",
       "  </thead>\n",
       "  <tbody>\n",
       "    <tr>\n",
       "      <th>0</th>\n",
       "      <td>a0</td>\n",
       "      <td>0</td>\n",
       "      <td>他</td>\n",
       "      <td>他</td>\n",
       "      <td>[他]</td>\n",
       "      <td>[c_pron, x_r]</td>\n",
       "    </tr>\n",
       "    <tr>\n",
       "      <th>1</th>\n",
       "      <td>a1</td>\n",
       "      <td>2</td>\n",
       "      <td>北京</td>\n",
       "      <td>北京</td>\n",
       "      <td>[北京]</td>\n",
       "      <td>[c_propn, x_ns]</td>\n",
       "    </tr>\n",
       "  </tbody>\n",
       "</table>\n",
       "</div>"
      ],
      "text/plain": [
       "  rel  index text lemma children         features\n",
       "0  a0      0    他     他      [他]    [c_pron, x_r]\n",
       "1  a1      2   北京    北京     [北京]  [c_propn, x_ns]"
      ]
     },
     "execution_count": 14,
     "metadata": {},
     "output_type": "execute_result"
    }
   ],
   "source": [
    "f=build_anal_tree('他去北京开饭馆', 'zh', 'analz')\n",
    "f.draw()\n",
    "f.doc.predict_domains_df[0]"
   ]
  },
  {
   "cell_type": "code",
   "execution_count": 15,
   "metadata": {
    "ExecuteTime": {
     "end_time": "2020-05-24T06:56:21.161966Z",
     "start_time": "2020-05-24T06:56:21.095441Z"
    }
   },
   "outputs": [
    {
     "name": "stdout",
     "output_type": "stream",
     "text": [
      "root: 开 (4; 开, verb)\n",
      "|-- nsubj: 他 (1; 他, pron)\n",
      "|-- adv: 在 (2; 在, adp)\n",
      "|   +-- obl: 北京 (3; 北京, propn)\n",
      "+-- obj: 饭馆 (5; 饭馆, noun)\n"
     ]
    },
    {
     "data": {
      "text/html": [
       "<div>\n",
       "<style scoped>\n",
       "    .dataframe tbody tr th:only-of-type {\n",
       "        vertical-align: middle;\n",
       "    }\n",
       "\n",
       "    .dataframe tbody tr th {\n",
       "        vertical-align: top;\n",
       "    }\n",
       "\n",
       "    .dataframe thead th {\n",
       "        text-align: right;\n",
       "    }\n",
       "</style>\n",
       "<table border=\"1\" class=\"dataframe\">\n",
       "  <thead>\n",
       "    <tr style=\"text-align: right;\">\n",
       "      <th></th>\n",
       "      <th>rel</th>\n",
       "      <th>index</th>\n",
       "      <th>text</th>\n",
       "      <th>lemma</th>\n",
       "      <th>children</th>\n",
       "      <th>features</th>\n",
       "    </tr>\n",
       "  </thead>\n",
       "  <tbody>\n",
       "    <tr>\n",
       "      <th>0</th>\n",
       "      <td>a0</td>\n",
       "      <td>0</td>\n",
       "      <td>他</td>\n",
       "      <td>他</td>\n",
       "      <td>[他]</td>\n",
       "      <td>[c_pron, x_r]</td>\n",
       "    </tr>\n",
       "    <tr>\n",
       "      <th>1</th>\n",
       "      <td>loc</td>\n",
       "      <td>2</td>\n",
       "      <td>北京</td>\n",
       "      <td>北京</td>\n",
       "      <td>[在, 北京]</td>\n",
       "      <td>[c_propn, x_ns]</td>\n",
       "    </tr>\n",
       "    <tr>\n",
       "      <th>2</th>\n",
       "      <td>a1</td>\n",
       "      <td>4</td>\n",
       "      <td>饭馆</td>\n",
       "      <td>饭馆</td>\n",
       "      <td>[饭馆]</td>\n",
       "      <td>[c_noun, x_n]</td>\n",
       "    </tr>\n",
       "  </tbody>\n",
       "</table>\n",
       "</div>"
      ],
      "text/plain": [
       "   rel  index text lemma children         features\n",
       "0   a0      0    他     他      [他]    [c_pron, x_r]\n",
       "1  loc      2   北京    北京  [在, 北京]  [c_propn, x_ns]\n",
       "2   a1      4   饭馆    饭馆     [饭馆]    [c_noun, x_n]"
      ]
     },
     "execution_count": 15,
     "metadata": {},
     "output_type": "execute_result"
    }
   ],
   "source": [
    "f=build_anal_tree('他在北京开饭馆', 'zh', 'analz')\n",
    "f.draw()\n",
    "f.doc.predict_domains_df[0]"
   ]
  },
  {
   "cell_type": "code",
   "execution_count": 16,
   "metadata": {
    "ExecuteTime": {
     "end_time": "2020-05-24T06:56:45.280498Z",
     "start_time": "2020-05-24T06:56:45.174334Z"
    }
   },
   "outputs": [
    {
     "name": "stdout",
     "output_type": "stream",
     "text": [
      "root: 打杂 (7; 打杂, verb)\n",
      "|-- nsubj: 他 (1; 他, pron)\n",
      "+-- adv: 在 (2; 在, adp)\n",
      "    +-- obl: 里 (6; 里, noun)\n",
      "        +-- att: 饭馆 (5; 饭馆, noun)\n",
      "            +-- att: 北京 (3; 北京, propn)\n",
      "                +-- rad: 的 (4; 的, part)\n"
     ]
    },
    {
     "data": {
      "text/html": [
       "<div>\n",
       "<style scoped>\n",
       "    .dataframe tbody tr th:only-of-type {\n",
       "        vertical-align: middle;\n",
       "    }\n",
       "\n",
       "    .dataframe tbody tr th {\n",
       "        vertical-align: top;\n",
       "    }\n",
       "\n",
       "    .dataframe thead th {\n",
       "        text-align: right;\n",
       "    }\n",
       "</style>\n",
       "<table border=\"1\" class=\"dataframe\">\n",
       "  <thead>\n",
       "    <tr style=\"text-align: right;\">\n",
       "      <th></th>\n",
       "      <th>rel</th>\n",
       "      <th>index</th>\n",
       "      <th>text</th>\n",
       "      <th>lemma</th>\n",
       "      <th>children</th>\n",
       "      <th>features</th>\n",
       "    </tr>\n",
       "  </thead>\n",
       "  <tbody>\n",
       "    <tr>\n",
       "      <th>0</th>\n",
       "      <td>a0</td>\n",
       "      <td>0</td>\n",
       "      <td>他</td>\n",
       "      <td>他</td>\n",
       "      <td>[他]</td>\n",
       "      <td>[c_pron, x_r]</td>\n",
       "    </tr>\n",
       "    <tr>\n",
       "      <th>1</th>\n",
       "      <td>loc</td>\n",
       "      <td>5</td>\n",
       "      <td>里</td>\n",
       "      <td>里</td>\n",
       "      <td>[在, 北京, 的, 饭馆, 里]</td>\n",
       "      <td>[c_noun, x_nd]</td>\n",
       "    </tr>\n",
       "  </tbody>\n",
       "</table>\n",
       "</div>"
      ],
      "text/plain": [
       "   rel  index text lemma           children        features\n",
       "0   a0      0    他     他                [他]   [c_pron, x_r]\n",
       "1  loc      5    里     里  [在, 北京, 的, 饭馆, 里]  [c_noun, x_nd]"
      ]
     },
     "execution_count": 16,
     "metadata": {},
     "output_type": "execute_result"
    }
   ],
   "source": [
    "f=build_anal_tree('他在北京的饭馆里打杂', 'zh', 'analz')\n",
    "f.draw()\n",
    "f.doc.predict_domains_df[0]"
   ]
  },
  {
   "cell_type": "code",
   "execution_count": 20,
   "metadata": {
    "ExecuteTime": {
     "end_time": "2020-05-24T07:00:27.303121Z",
     "start_time": "2020-05-24T07:00:27.226191Z"
    }
   },
   "outputs": [
    {
     "name": "stdout",
     "output_type": "stream",
     "text": [
      "root: 经营 (4; 经营, verb)\n",
      "|-- nsubj: 他 (1; 他, pron)\n",
      "|-- adv: 在 (2; 在, adp)\n",
      "|   +-- obl: 北京 (3; 北京, propn)\n",
      "+-- obj: 理发店 (5; 理发店, noun)\n"
     ]
    },
    {
     "data": {
      "text/html": [
       "<div>\n",
       "<style scoped>\n",
       "    .dataframe tbody tr th:only-of-type {\n",
       "        vertical-align: middle;\n",
       "    }\n",
       "\n",
       "    .dataframe tbody tr th {\n",
       "        vertical-align: top;\n",
       "    }\n",
       "\n",
       "    .dataframe thead th {\n",
       "        text-align: right;\n",
       "    }\n",
       "</style>\n",
       "<table border=\"1\" class=\"dataframe\">\n",
       "  <thead>\n",
       "    <tr style=\"text-align: right;\">\n",
       "      <th></th>\n",
       "      <th>rel</th>\n",
       "      <th>index</th>\n",
       "      <th>text</th>\n",
       "      <th>lemma</th>\n",
       "      <th>children</th>\n",
       "      <th>features</th>\n",
       "    </tr>\n",
       "  </thead>\n",
       "  <tbody>\n",
       "    <tr>\n",
       "      <th>0</th>\n",
       "      <td>a0</td>\n",
       "      <td>0</td>\n",
       "      <td>他</td>\n",
       "      <td>他</td>\n",
       "      <td>[他]</td>\n",
       "      <td>[c_pron, x_r]</td>\n",
       "    </tr>\n",
       "    <tr>\n",
       "      <th>1</th>\n",
       "      <td>loc</td>\n",
       "      <td>2</td>\n",
       "      <td>北京</td>\n",
       "      <td>北京</td>\n",
       "      <td>[在, 北京]</td>\n",
       "      <td>[c_propn, x_ns]</td>\n",
       "    </tr>\n",
       "    <tr>\n",
       "      <th>2</th>\n",
       "      <td>a1</td>\n",
       "      <td>4</td>\n",
       "      <td>理发店</td>\n",
       "      <td>理发店</td>\n",
       "      <td>[理发店]</td>\n",
       "      <td>[c_noun, x_n]</td>\n",
       "    </tr>\n",
       "  </tbody>\n",
       "</table>\n",
       "</div>"
      ],
      "text/plain": [
       "   rel  index text lemma children         features\n",
       "0   a0      0    他     他      [他]    [c_pron, x_r]\n",
       "1  loc      2   北京    北京  [在, 北京]  [c_propn, x_ns]\n",
       "2   a1      4  理发店   理发店    [理发店]    [c_noun, x_n]"
      ]
     },
     "execution_count": 20,
     "metadata": {},
     "output_type": "execute_result"
    }
   ],
   "source": [
    "# f=build_anal_tree('他在北京经营饭馆', 'zh', 'analz')\n",
    "# f=build_anal_tree('他在北京经营赌场', 'zh', 'analz')\n",
    "# f=build_anal_tree('他在北京经营美容院', 'zh', 'analz')  # ?\n",
    "f=build_anal_tree('他在北京经营理发店', 'zh', 'analz')\n",
    "f.draw()\n",
    "f.doc.predict_domains_df[0]"
   ]
  },
  {
   "cell_type": "code",
   "execution_count": 21,
   "metadata": {
    "ExecuteTime": {
     "end_time": "2020-05-27T19:15:36.165069Z",
     "start_time": "2020-05-27T19:15:36.145474Z"
    }
   },
   "outputs": [],
   "source": [
    "ja_sents=['動物農場という小説を読みました。',\n",
    "          '去年に比べて今年は収穫量が少ない。',\n",
    "         ]\n",
    "zh_sents=['我读了一本叫动物农场的小说。',\n",
    "         ]\n",
    "en_sents=['I read a novel called Animal Farm',\n",
    "         ]"
   ]
  }
 ],
 "metadata": {
  "kernelspec": {
   "display_name": "Python 3",
   "language": "python",
   "name": "python3"
  },
  "language_info": {
   "codemirror_mode": {
    "name": "ipython",
    "version": 3
   },
   "file_extension": ".py",
   "mimetype": "text/x-python",
   "name": "python",
   "nbconvert_exporter": "python",
   "pygments_lexer": "ipython3",
   "version": "3.6.6"
  },
  "varInspector": {
   "cols": {
    "lenName": 16,
    "lenType": 16,
    "lenVar": 40
   },
   "kernels_config": {
    "python": {
     "delete_cmd_postfix": "",
     "delete_cmd_prefix": "del ",
     "library": "var_list.py",
     "varRefreshCmd": "print(var_dic_list())"
    },
    "r": {
     "delete_cmd_postfix": ") ",
     "delete_cmd_prefix": "rm(",
     "library": "var_list.r",
     "varRefreshCmd": "cat(var_dic_list()) "
    }
   },
   "types_to_exclude": [
    "module",
    "function",
    "builtin_function_or_method",
    "instance",
    "_Feature"
   ],
   "window_display": false
  }
 },
 "nbformat": 4,
 "nbformat_minor": 2
}
