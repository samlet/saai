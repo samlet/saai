{
 "cells": [
  {
   "cell_type": "code",
   "execution_count": 3,
   "metadata": {
    "ExecuteTime": {
     "end_time": "2020-04-08T07:02:36.845333Z",
     "start_time": "2020-04-08T07:02:36.836878Z"
    }
   },
   "outputs": [
    {
     "data": {
      "text/plain": [
       "\"'a':'ADJ','b':'NOUN','c':'CCONJ','d':'ADV','e':'INTJ','g':'NOUN','h':'PART','i':'NOUN','j':'PROPN','k':'PART','m':'NUM','n':'NOUN','nd':'NOUN','nh':'PROPN','ni':'PROPN','nl':'NOUN','ns':'PROPN','nt':'NOUN','nz':'PROPN','o':'INTJ','p':'ADP','q':'NOUN','r':'PRON','u':'PART','v':'VERB','wp':'PUNCT','ws':'X','x':'SYM'\""
      ]
     },
     "execution_count": 3,
     "metadata": {},
     "output_type": "execute_result"
    }
   ],
   "source": [
    "pos_raw='''a\tADJ\n",
    "b\tNOUN\n",
    "c\tCCONJ\n",
    "d\tADV\n",
    "e\tINTJ\n",
    "g\tNOUN\n",
    "h\tPART\n",
    "i\tNOUN\n",
    "j\tPROPN\n",
    "k\tPART\n",
    "m\tNUM\n",
    "n\tNOUN\n",
    "nd\tNOUN\n",
    "nh\tPROPN\n",
    "ni\tPROPN\n",
    "nl\tNOUN\n",
    "ns\tPROPN\n",
    "nt\tNOUN\n",
    "nz\tPROPN\n",
    "o\tINTJ\n",
    "p\tADP\n",
    "q\tNOUN\n",
    "r\tPRON\n",
    "u\tPART\n",
    "v\tVERB\n",
    "wp\tPUNCT\n",
    "ws\tX\n",
    "x\tSYM'''.split('\\n')\n",
    "','.join([f\"'{pair[0]}':'{pair[1]}'\" for pair in [pos.split('\\t') for pos in pos_raw]])"
   ]
  }
 ],
 "metadata": {
  "kernelspec": {
   "display_name": "Python 3",
   "language": "python",
   "name": "python3"
  },
  "language_info": {
   "codemirror_mode": {
    "name": "ipython",
    "version": 3
   },
   "file_extension": ".py",
   "mimetype": "text/x-python",
   "name": "python",
   "nbconvert_exporter": "python",
   "pygments_lexer": "ipython3",
   "version": "3.6.6"
  },
  "varInspector": {
   "cols": {
    "lenName": 16,
    "lenType": 16,
    "lenVar": 40
   },
   "kernels_config": {
    "python": {
     "delete_cmd_postfix": "",
     "delete_cmd_prefix": "del ",
     "library": "var_list.py",
     "varRefreshCmd": "print(var_dic_list())"
    },
    "r": {
     "delete_cmd_postfix": ") ",
     "delete_cmd_prefix": "rm(",
     "library": "var_list.r",
     "varRefreshCmd": "cat(var_dic_list()) "
    }
   },
   "types_to_exclude": [
    "module",
    "function",
    "builtin_function_or_method",
    "instance",
    "_Feature"
   ],
   "window_display": false
  }
 },
 "nbformat": 4,
 "nbformat_minor": 2
}
