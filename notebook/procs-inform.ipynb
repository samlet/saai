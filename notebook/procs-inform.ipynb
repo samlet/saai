{
 "cells": [
  {
   "cell_type": "code",
   "execution_count": 1,
   "metadata": {
    "ExecuteTime": {
     "end_time": "2020-03-19T12:28:01.825679Z",
     "start_time": "2020-03-19T12:28:01.768106Z"
    }
   },
   "outputs": [
    {
     "data": {
      "text/plain": [
       "True"
      ]
     },
     "execution_count": 1,
     "metadata": {},
     "output_type": "execute_result"
    }
   ],
   "source": [
    "from blinker import signal\n",
    "initialized = signal('initialized')\n",
    "initialized is signal('initialized')\n",
    "# Every call to signal('name') returns the same signal object, \n",
    "# allowing unconnected parts of code (different modules, plugins, anything) \n",
    "# to all use the same signal without requiring any code sharing or special imports."
   ]
  },
  {
   "cell_type": "code",
   "execution_count": 2,
   "metadata": {
    "ExecuteTime": {
     "end_time": "2020-03-19T12:28:01.840024Z",
     "start_time": "2020-03-19T12:28:01.828886Z"
    }
   },
   "outputs": [
    {
     "data": {
      "text/plain": [
       "<function __main__.subscriber(sender)>"
      ]
     },
     "execution_count": 2,
     "metadata": {},
     "output_type": "execute_result"
    }
   ],
   "source": [
    "def subscriber(sender):\n",
    "    print(\"Got a signal sent by %r\" % sender)\n",
    "\n",
    "ready = signal('ready')\n",
    "ready.connect(subscriber)"
   ]
  },
  {
   "cell_type": "code",
   "execution_count": 3,
   "metadata": {
    "ExecuteTime": {
     "end_time": "2020-03-19T12:28:01.852576Z",
     "start_time": "2020-03-19T12:28:01.842788Z"
    }
   },
   "outputs": [
    {
     "name": "stdout",
     "output_type": "stream",
     "text": [
      "Got a signal sent by <Processor a>\n",
      "Processing.\n"
     ]
    }
   ],
   "source": [
    "class Processor:\n",
    "   def __init__(self, name):\n",
    "       self.name = name\n",
    "\n",
    "   def go(self):\n",
    "       ready = signal('ready')\n",
    "       ready.send(self)\n",
    "       print(\"Processing.\")\n",
    "       complete = signal('complete')\n",
    "       complete.send(self)\n",
    "\n",
    "   def __repr__(self):\n",
    "       return '<Processor %s>' % self.name\n",
    "\n",
    "processor_a = Processor('a')\n",
    "processor_a.go()"
   ]
  },
  {
   "cell_type": "code",
   "execution_count": 4,
   "metadata": {
    "ExecuteTime": {
     "end_time": "2020-03-19T12:28:01.870885Z",
     "start_time": "2020-03-19T12:28:01.855778Z"
    }
   },
   "outputs": [],
   "source": [
    "send_data = signal('send-data')"
   ]
  },
  {
   "cell_type": "code",
   "execution_count": 5,
   "metadata": {
    "ExecuteTime": {
     "end_time": "2020-03-19T12:28:01.899923Z",
     "start_time": "2020-03-19T12:28:01.890419Z"
    }
   },
   "outputs": [],
   "source": [
    "send_data = signal('send-data')\n",
    "@send_data.connect\n",
    "def receive_data(sender, **kw):\n",
    "    print(\"Caught signal from %r, data %r\" % (sender, kw))\n",
    "    return 'received!'"
   ]
  },
  {
   "cell_type": "code",
   "execution_count": 6,
   "metadata": {
    "ExecuteTime": {
     "end_time": "2020-03-19T12:28:01.926729Z",
     "start_time": "2020-03-19T12:28:01.917559Z"
    }
   },
   "outputs": [
    {
     "data": {
      "text/plain": [
       "blinker.base.NamedSignal"
      ]
     },
     "execution_count": 6,
     "metadata": {},
     "output_type": "execute_result"
    }
   ],
   "source": [
    "type(send_data)"
   ]
  },
  {
   "cell_type": "code",
   "execution_count": 7,
   "metadata": {
    "ExecuteTime": {
     "end_time": "2020-03-19T12:28:01.938453Z",
     "start_time": "2020-03-19T12:28:01.930613Z"
    }
   },
   "outputs": [
    {
     "name": "stdout",
     "output_type": "stream",
     "text": [
      "Caught signal from 'anonymous', data {'abc': 123}\n"
     ]
    },
    {
     "data": {
      "text/plain": [
       "[(<function __main__.receive_data(sender, **kw)>, 'received!')]"
      ]
     },
     "execution_count": 7,
     "metadata": {},
     "output_type": "execute_result"
    }
   ],
   "source": [
    "result = send_data.send('anonymous', abc=123)\n",
    "result"
   ]
  },
  {
   "cell_type": "code",
   "execution_count": 8,
   "metadata": {
    "ExecuteTime": {
     "end_time": "2020-03-19T12:28:01.949029Z",
     "start_time": "2020-03-19T12:28:01.941668Z"
    }
   },
   "outputs": [
    {
     "data": {
      "text/plain": [
       "{'receive_data': 'received!'}"
      ]
     },
     "execution_count": 8,
     "metadata": {},
     "output_type": "execute_result"
    }
   ],
   "source": [
    "{fn.__name__:r for fn,r in result}"
   ]
  },
  {
   "cell_type": "code",
   "execution_count": 9,
   "metadata": {
    "ExecuteTime": {
     "end_time": "2020-03-19T12:28:01.958575Z",
     "start_time": "2020-03-19T12:28:01.951985Z"
    }
   },
   "outputs": [
    {
     "data": {
      "text/plain": [
       "[{'name': 'receive_data', 'result': 'received!'}]"
      ]
     },
     "execution_count": 9,
     "metadata": {},
     "output_type": "execute_result"
    }
   ],
   "source": [
    "[{'name':fn.__name__, 'result':r} for fn, r in result]"
   ]
  },
  {
   "cell_type": "code",
   "execution_count": 10,
   "metadata": {
    "ExecuteTime": {
     "end_time": "2020-03-19T12:28:01.972596Z",
     "start_time": "2020-03-19T12:28:01.962506Z"
    }
   },
   "outputs": [
    {
     "name": "stdout",
     "output_type": "stream",
     "text": [
      "Caught signal from 'anonymous', data {'abc': 124}\n"
     ]
    },
    {
     "data": {
      "text/plain": [
       "[(<function __main__.receive_data(sender, **kw)>, 'received!')]"
      ]
     },
     "execution_count": 10,
     "metadata": {},
     "output_type": "execute_result"
    }
   ],
   "source": [
    "send_data_other = signal('send-data')\n",
    "send_data_other.send('anonymous', abc=124)"
   ]
  },
  {
   "cell_type": "code",
   "execution_count": 11,
   "metadata": {
    "ExecuteTime": {
     "end_time": "2020-03-19T12:28:01.988056Z",
     "start_time": "2020-03-19T12:28:01.977111Z"
    }
   },
   "outputs": [
    {
     "data": {
      "text/plain": [
       "True"
      ]
     },
     "execution_count": 11,
     "metadata": {},
     "output_type": "execute_result"
    }
   ],
   "source": [
    "bool(signal('send-data').receivers)"
   ]
  },
  {
   "cell_type": "code",
   "execution_count": 12,
   "metadata": {
    "ExecuteTime": {
     "end_time": "2020-03-19T12:28:02.006616Z",
     "start_time": "2020-03-19T12:28:01.994594Z"
    }
   },
   "outputs": [
    {
     "data": {
      "text/plain": [
       "True"
      ]
     },
     "execution_count": 12,
     "metadata": {},
     "output_type": "execute_result"
    }
   ],
   "source": [
    "signal('send-data').has_receivers_for(receive_data)"
   ]
  },
  {
   "cell_type": "code",
   "execution_count": 13,
   "metadata": {
    "ExecuteTime": {
     "end_time": "2020-03-19T12:28:02.018300Z",
     "start_time": "2020-03-19T12:28:02.010577Z"
    }
   },
   "outputs": [
    {
     "data": {
      "text/plain": [
       "True"
      ]
     },
     "execution_count": 13,
     "metadata": {},
     "output_type": "execute_result"
    }
   ],
   "source": [
    "from blinker import Signal\n",
    "isinstance(send_data, Signal)"
   ]
  },
  {
   "cell_type": "code",
   "execution_count": 14,
   "metadata": {
    "ExecuteTime": {
     "end_time": "2020-03-19T12:28:02.051572Z",
     "start_time": "2020-03-19T12:28:02.022501Z"
    }
   },
   "outputs": [
    {
     "data": {
      "text/plain": [
       "'send-data'"
      ]
     },
     "execution_count": 14,
     "metadata": {},
     "output_type": "execute_result"
    }
   ],
   "source": [
    "send_data.name"
   ]
  },
  {
   "cell_type": "code",
   "execution_count": 15,
   "metadata": {
    "ExecuteTime": {
     "end_time": "2020-03-19T12:28:02.075696Z",
     "start_time": "2020-03-19T12:28:02.061422Z"
    }
   },
   "outputs": [
    {
     "name": "stdout",
     "output_type": "stream",
     "text": [
      "tests.s1 True\n",
      "tests.s2 True\n",
      "tests.unk False\n"
     ]
    }
   ],
   "source": [
    "import fnmatch\n",
    "\n",
    "s1=signal('tests.s1')\n",
    "s2=signal('tests.s2')\n",
    "sunk=signal('tests.unk')\n",
    "\n",
    "signals=[s1,s2,sunk]\n",
    "pattern = \"tests.s*\"\n",
    "for s in signals:\n",
    "    match = fnmatch.fnmatch(s.name, pattern)\n",
    "    print(s.name, match)"
   ]
  },
  {
   "cell_type": "code",
   "execution_count": 16,
   "metadata": {
    "ExecuteTime": {
     "end_time": "2020-03-19T12:28:03.671925Z",
     "start_time": "2020-03-19T12:28:02.079943Z"
    }
   },
   "outputs": [],
   "source": [
    "from sagas.nlu.nlu_startup import NluStartup\n",
    "NluStartup().start()"
   ]
  },
  {
   "cell_type": "code",
   "execution_count": 17,
   "metadata": {
    "ExecuteTime": {
     "end_time": "2020-03-19T12:28:03.694903Z",
     "start_time": "2020-03-19T12:28:03.674247Z"
    }
   },
   "outputs": [
    {
     "name": "stdout",
     "output_type": "stream",
     "text": [
      "track from 'sender', data {'key': 'xxx', 'ctx': None}\n"
     ]
    },
    {
     "data": {
      "text/plain": [
       "[{'name': 'console_track',\n",
       "  'result': datetime.datetime(2020, 3, 19, 20, 28, 3, 678182)}]"
      ]
     },
     "execution_count": 17,
     "metadata": {},
     "output_type": "execute_result"
    }
   ],
   "source": [
    "from sagas.nlu.signals import signals\n",
    "signals.fire('sender', 'track', key='xxx', ctx=None)"
   ]
  },
  {
   "cell_type": "code",
   "execution_count": 18,
   "metadata": {
    "ExecuteTime": {
     "end_time": "2020-03-19T12:28:03.722134Z",
     "start_time": "2020-03-19T12:28:03.704156Z"
    }
   },
   "outputs": [
    {
     "name": "stdout",
     "output_type": "stream",
     "text": [
      "track from 'sender', data {'key': 'xxx', 'ctx': None}\n"
     ]
    },
    {
     "data": {
      "text/plain": [
       "[{'name': 'console_track',\n",
       "  'result': datetime.datetime(2020, 3, 19, 20, 28, 3, 706652)}]"
      ]
     },
     "execution_count": 18,
     "metadata": {},
     "output_type": "execute_result"
    }
   ],
   "source": [
    "signals.fire('sender', 'tr?ck', key='xxx', ctx=None)"
   ]
  },
  {
   "cell_type": "code",
   "execution_count": 19,
   "metadata": {
    "ExecuteTime": {
     "end_time": "2020-03-19T12:28:03.743778Z",
     "start_time": "2020-03-19T12:28:03.727394Z"
    }
   },
   "outputs": [
    {
     "name": "stdout",
     "output_type": "stream",
     "text": [
      "track from 'sender', data {'key': 'xxx', 'ctx': None}\n"
     ]
    },
    {
     "data": {
      "text/plain": [
       "[{'name': 'console_track',\n",
       "  'result': datetime.datetime(2020, 3, 19, 20, 28, 3, 730478)}]"
      ]
     },
     "execution_count": 19,
     "metadata": {},
     "output_type": "execute_result"
    }
   ],
   "source": [
    "signals.fire('sender', 'tr*', key='xxx', ctx=None)"
   ]
  }
 ],
 "metadata": {
  "kernelspec": {
   "display_name": "Python 3",
   "language": "python",
   "name": "python3"
  },
  "language_info": {
   "codemirror_mode": {
    "name": "ipython",
    "version": 3
   },
   "file_extension": ".py",
   "mimetype": "text/x-python",
   "name": "python",
   "nbconvert_exporter": "python",
   "pygments_lexer": "ipython3",
   "version": "3.6.6"
  },
  "varInspector": {
   "cols": {
    "lenName": 16,
    "lenType": 16,
    "lenVar": 40
   },
   "kernels_config": {
    "python": {
     "delete_cmd_postfix": "",
     "delete_cmd_prefix": "del ",
     "library": "var_list.py",
     "varRefreshCmd": "print(var_dic_list())"
    },
    "r": {
     "delete_cmd_postfix": ") ",
     "delete_cmd_prefix": "rm(",
     "library": "var_list.r",
     "varRefreshCmd": "cat(var_dic_list()) "
    }
   },
   "types_to_exclude": [
    "module",
    "function",
    "builtin_function_or_method",
    "instance",
    "_Feature"
   ],
   "window_display": false
  }
 },
 "nbformat": 4,
 "nbformat_minor": 2
}
