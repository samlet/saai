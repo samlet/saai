{
 "cells": [
  {
   "cell_type": "code",
   "execution_count": 1,
   "metadata": {
    "ExecuteTime": {
     "end_time": "2020-03-25T08:08:52.959426Z",
     "start_time": "2020-03-25T08:08:48.652404Z"
    }
   },
   "outputs": [
    {
     "name": "stderr",
     "output_type": "stream",
     "text": [
      "2020-03-25 16:08:49 INFO: Loading these models for language: en (English):\n",
      "=========================\n",
      "| Processor | Package   |\n",
      "-------------------------\n",
      "| tokenize  | ewt       |\n",
      "| pos       | ewt       |\n",
      "| lemma     | ewt       |\n",
      "| depparse  | ewt       |\n",
      "| ner       | ontonotes |\n",
      "=========================\n",
      "\n",
      "2020-03-25 16:08:49 INFO: Use device: cpu\n",
      "2020-03-25 16:08:49 INFO: Loading: tokenize\n",
      "2020-03-25 16:08:49 INFO: Loading: pos\n",
      "2020-03-25 16:08:50 INFO: Loading: lemma\n",
      "2020-03-25 16:08:50 INFO: Loading: depparse\n",
      "2020-03-25 16:08:51 INFO: Loading: ner\n",
      "2020-03-25 16:08:52 INFO: Done loading processors!\n"
     ]
    }
   ],
   "source": [
    "from sagas.nlu.uni_cli import parse_with\n",
    "sents='I was born in Beijing.'\n",
    "sent=parse_with(sents, 'en', engine='stanza')"
   ]
  },
  {
   "cell_type": "code",
   "execution_count": 2,
   "metadata": {
    "ExecuteTime": {
     "end_time": "2020-03-25T08:08:57.630097Z",
     "start_time": "2020-03-25T08:08:57.601830Z"
    }
   },
   "outputs": [
    {
     "data": {
      "text/plain": [
       "[{'index': 1,\n",
       "  'text': 'I',\n",
       "  'lemma': 'I',\n",
       "  'upos': 'PRON',\n",
       "  'xpos': 'PRP',\n",
       "  'feats': 'Case=Nom|Number=Sing|Person=1|PronType=Prs',\n",
       "  'governor': 3,\n",
       "  'dependency_relation': 'nsubj:pass',\n",
       "  'entity': ['O'],\n",
       "  'segments': []},\n",
       " {'index': 2,\n",
       "  'text': 'was',\n",
       "  'lemma': 'be',\n",
       "  'upos': 'AUX',\n",
       "  'xpos': 'VBD',\n",
       "  'feats': 'Mood=Ind|Number=Sing|Person=3|Tense=Past|VerbForm=Fin',\n",
       "  'governor': 3,\n",
       "  'dependency_relation': 'aux:pass',\n",
       "  'entity': ['O'],\n",
       "  'segments': []},\n",
       " {'index': 3,\n",
       "  'text': 'born',\n",
       "  'lemma': 'bear',\n",
       "  'upos': 'VERB',\n",
       "  'xpos': 'VBN',\n",
       "  'feats': 'Tense=Past|VerbForm=Part|Voice=Pass',\n",
       "  'governor': 0,\n",
       "  'dependency_relation': 'root',\n",
       "  'entity': ['O'],\n",
       "  'segments': []},\n",
       " {'index': 4,\n",
       "  'text': 'in',\n",
       "  'lemma': 'in',\n",
       "  'upos': 'ADP',\n",
       "  'xpos': 'IN',\n",
       "  'feats': '',\n",
       "  'governor': 5,\n",
       "  'dependency_relation': 'case',\n",
       "  'entity': ['O'],\n",
       "  'segments': []},\n",
       " {'index': 5,\n",
       "  'text': 'Beijing',\n",
       "  'lemma': 'Beijing',\n",
       "  'upos': 'PROPN',\n",
       "  'xpos': 'NNP',\n",
       "  'feats': 'Number=Sing',\n",
       "  'governor': 3,\n",
       "  'dependency_relation': 'obl',\n",
       "  'entity': ['S-GPE'],\n",
       "  'segments': []},\n",
       " {'index': 6,\n",
       "  'text': '.',\n",
       "  'lemma': '.',\n",
       "  'upos': 'PUNCT',\n",
       "  'xpos': '.',\n",
       "  'feats': '',\n",
       "  'governor': 3,\n",
       "  'dependency_relation': 'punct',\n",
       "  'entity': ['O'],\n",
       "  'segments': []}]"
      ]
     },
     "execution_count": 2,
     "metadata": {},
     "output_type": "execute_result"
    }
   ],
   "source": [
    "sent.as_json"
   ]
  },
  {
   "cell_type": "code",
   "execution_count": 4,
   "metadata": {
    "ExecuteTime": {
     "end_time": "2020-03-25T08:46:27.559685Z",
     "start_time": "2020-03-25T08:46:27.539607Z"
    }
   },
   "outputs": [
    {
     "data": {
      "text/plain": [
       "[{'index': 1,\n",
       "  'text': 'I',\n",
       "  'lemma': 'I',\n",
       "  'upos': 'PRON',\n",
       "  'xpos': 'PRP',\n",
       "  'feats': 'Case=Nom|Number=Sing|Person=1|PronType=Prs',\n",
       "  'governor': 3,\n",
       "  'dependency_relation': 'nsubj:pass',\n",
       "  'entity': [],\n",
       "  'segments': []},\n",
       " {'index': 2,\n",
       "  'text': 'was',\n",
       "  'lemma': 'be',\n",
       "  'upos': 'AUX',\n",
       "  'xpos': 'VBD',\n",
       "  'feats': 'Mood=Ind|Number=Sing|Person=3|Tense=Past|VerbForm=Fin',\n",
       "  'governor': 3,\n",
       "  'dependency_relation': 'aux:pass',\n",
       "  'entity': [],\n",
       "  'segments': []},\n",
       " {'index': 3,\n",
       "  'text': 'born',\n",
       "  'lemma': 'bear',\n",
       "  'upos': 'VERB',\n",
       "  'xpos': 'VBN',\n",
       "  'feats': 'Tense=Past|VerbForm=Part|Voice=Pass',\n",
       "  'governor': 0,\n",
       "  'dependency_relation': 'root',\n",
       "  'entity': [],\n",
       "  'segments': []},\n",
       " {'index': 4,\n",
       "  'text': 'in',\n",
       "  'lemma': 'in',\n",
       "  'upos': 'ADP',\n",
       "  'xpos': 'IN',\n",
       "  'feats': '_',\n",
       "  'governor': 5,\n",
       "  'dependency_relation': 'case',\n",
       "  'entity': [],\n",
       "  'segments': []},\n",
       " {'index': 5,\n",
       "  'text': 'Beijing',\n",
       "  'lemma': 'Beijing',\n",
       "  'upos': 'PROPN',\n",
       "  'xpos': 'NNP',\n",
       "  'feats': 'Number=Sing',\n",
       "  'governor': 3,\n",
       "  'dependency_relation': 'obl',\n",
       "  'entity': [],\n",
       "  'segments': []},\n",
       " {'index': 6,\n",
       "  'text': '.',\n",
       "  'lemma': '.',\n",
       "  'upos': 'PUNCT',\n",
       "  'xpos': '.',\n",
       "  'feats': '_',\n",
       "  'governor': 3,\n",
       "  'dependency_relation': 'punct',\n",
       "  'entity': [],\n",
       "  'segments': []}]"
      ]
     },
     "execution_count": 4,
     "metadata": {},
     "output_type": "execute_result"
    }
   ],
   "source": [
    "from sagas.nlu.uni_cli import parse_with\n",
    "sents='I was born in Beijing.'\n",
    "sent=parse_with(sents, 'en', engine='corenlp')\n",
    "sent.as_json"
   ]
  }
 ],
 "metadata": {
  "kernelspec": {
   "display_name": "Python 3",
   "language": "python",
   "name": "python3"
  },
  "language_info": {
   "codemirror_mode": {
    "name": "ipython",
    "version": 3
   },
   "file_extension": ".py",
   "mimetype": "text/x-python",
   "name": "python",
   "nbconvert_exporter": "python",
   "pygments_lexer": "ipython3",
   "version": "3.6.6"
  },
  "varInspector": {
   "cols": {
    "lenName": 16,
    "lenType": 16,
    "lenVar": 40
   },
   "kernels_config": {
    "python": {
     "delete_cmd_postfix": "",
     "delete_cmd_prefix": "del ",
     "library": "var_list.py",
     "varRefreshCmd": "print(var_dic_list())"
    },
    "r": {
     "delete_cmd_postfix": ") ",
     "delete_cmd_prefix": "rm(",
     "library": "var_list.r",
     "varRefreshCmd": "cat(var_dic_list()) "
    }
   },
   "types_to_exclude": [
    "module",
    "function",
    "builtin_function_or_method",
    "instance",
    "_Feature"
   ],
   "window_display": false
  }
 },
 "nbformat": 4,
 "nbformat_minor": 2
}
