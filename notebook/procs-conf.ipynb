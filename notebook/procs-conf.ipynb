{
 "cells": [
  {
   "cell_type": "code",
   "execution_count": 2,
   "metadata": {
    "ExecuteTime": {
     "end_time": "2020-03-30T08:35:40.582216Z",
     "start_time": "2020-03-30T08:35:40.510254Z"
    }
   },
   "outputs": [
    {
     "name": "stdout",
     "output_type": "stream",
     "text": [
      "False\n",
      "True\n",
      "/Users/xiaofeiwu /Users/xiaofeiwu/.bash_profile /tmp .\n",
      "/Users/xiaofeiwu\n"
     ]
    }
   ],
   "source": [
    "import io_utils\n",
    "import os\n",
    "from os.path import expanduser\n",
    "print(io_utils.exists('~/.bash_profile'))\n",
    "print(io_utils.exists(expanduser('~/.bash_profile')))\n",
    "\n",
    "home = expanduser(\"~\")\n",
    "print(home, expanduser('~/.bash_profile'), expanduser('/tmp'), expanduser('.'))\n",
    "\n",
    "# Python 3.5+ \n",
    "from pathlib import Path\n",
    "home = str(Path.home())\n",
    "print(home)"
   ]
  },
  {
   "cell_type": "code",
   "execution_count": 4,
   "metadata": {
    "ExecuteTime": {
     "end_time": "2020-03-30T08:18:07.218310Z",
     "start_time": "2020-03-30T08:18:07.206301Z"
    }
   },
   "outputs": [
    {
     "name": "stdout",
     "output_type": "stream",
     "text": [
      "/Users/xiaofeiwu/pi\n"
     ]
    },
    {
     "data": {
      "text/plain": [
       "True"
      ]
     },
     "execution_count": 4,
     "metadata": {},
     "output_type": "execute_result"
    }
   ],
   "source": [
    "from sagas.conf.conf import cf\n",
    "import io_utils\n",
    "\n",
    "print(cf.conf_dir)\n",
    "f=f'{cf.conf_dir}/ai/seq2seq/cmn-eng-2019/cmn.txt'\n",
    "io_utils.exists(f)"
   ]
  },
  {
   "cell_type": "code",
   "execution_count": 1,
   "metadata": {
    "ExecuteTime": {
     "end_time": "2020-03-30T08:28:08.564494Z",
     "start_time": "2020-03-30T08:28:07.591634Z"
    }
   },
   "outputs": [
    {
     "data": {
      "text/plain": [
       "[['Go.', '行け。\\n'],\n",
       " ['Go.', '行きなさい。\\n'],\n",
       " ['Hi.', 'やっほー。\\n'],\n",
       " ['Hi.', 'こんにちは！\\n'],\n",
       " ['Run.', '走れ。\\n']]"
      ]
     },
     "execution_count": 1,
     "metadata": {},
     "output_type": "execute_result"
    }
   ],
   "source": [
    "from sagas.nlu.corpus_helper import filter_term, lines\n",
    "lines('~/pi/ai/seq2seq/jpn-eng-2019/jpn.txt')[:5]"
   ]
  }
 ],
 "metadata": {
  "kernelspec": {
   "display_name": "Python 3",
   "language": "python",
   "name": "python3"
  },
  "language_info": {
   "codemirror_mode": {
    "name": "ipython",
    "version": 3
   },
   "file_extension": ".py",
   "mimetype": "text/x-python",
   "name": "python",
   "nbconvert_exporter": "python",
   "pygments_lexer": "ipython3",
   "version": "3.6.6"
  },
  "varInspector": {
   "cols": {
    "lenName": 16,
    "lenType": 16,
    "lenVar": 40
   },
   "kernels_config": {
    "python": {
     "delete_cmd_postfix": "",
     "delete_cmd_prefix": "del ",
     "library": "var_list.py",
     "varRefreshCmd": "print(var_dic_list())"
    },
    "r": {
     "delete_cmd_postfix": ") ",
     "delete_cmd_prefix": "rm(",
     "library": "var_list.r",
     "varRefreshCmd": "cat(var_dic_list()) "
    }
   },
   "types_to_exclude": [
    "module",
    "function",
    "builtin_function_or_method",
    "instance",
    "_Feature"
   ],
   "window_display": false
  }
 },
 "nbformat": 4,
 "nbformat_minor": 2
}
