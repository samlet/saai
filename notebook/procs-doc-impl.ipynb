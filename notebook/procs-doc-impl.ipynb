{
 "cells": [
  {
   "cell_type": "code",
   "execution_count": 5,
   "metadata": {
    "ExecuteTime": {
     "end_time": "2020-04-11T17:35:51.075574Z",
     "start_time": "2020-04-11T17:35:51.048333Z"
    }
   },
   "outputs": [
    {
     "name": "stdout",
     "output_type": "stream",
     "text": [
      "root: 有 (有, verb)\n",
      "|-- adv: 附近 (附近, noun)\n",
      "+-- obj: 饭馆 (饭馆, noun)\n",
      "    |-- att: 什么 (什么, pron)\n",
      "    +-- att: 好吃 (好吃, adj)\n",
      "        +-- rad: 的 (的, part)\n"
     ]
    },
    {
     "data": {
      "text/plain": [
       "('饭馆', '饭馆')"
      ]
     },
     "execution_count": 5,
     "metadata": {},
     "output_type": "execute_result"
    }
   ],
   "source": [
    "from sagas.nlu.uni_intf import RootWordImpl, WordIntf, SentenceIntf\n",
    "\n",
    "rel_mapping={'hed': 'root', 'sbv': 'nsubj',\n",
    "             'vob': 'obj', 'iob': 'iobj', 'fob': 'obj', 'pob': 'obl',\n",
    "            }\n",
    "class LtpWordWrapper(WordIntf):\n",
    "    def setup(self, token):\n",
    "        deprel=token['dependency_relation']\n",
    "        token['dependency_relation']=rel_mapping[deprel] if deprel in rel_mapping else deprel\n",
    "        token['dependency_relation_raw']=deprel\n",
    "        return token\n",
    "\n",
    "class LtpSentWrapper(SentenceIntf):\n",
    "    def setup(self, json_words):\n",
    "        words = []\n",
    "        for word in json_words:\n",
    "            words.append(LtpWordWrapper(word))\n",
    "        return words, []\n",
    "    \n",
    "from sagas.nlu.anal import build_anal_tree, Doc\n",
    "from sagas.nlu.uni_jsonifier import JsonifySentImpl\n",
    "from anytree.search import findall, findall_by_attr\n",
    "\n",
    "f=build_anal_tree('附近有什么好吃的饭馆', 'zh', 'ltp', None, LtpSentWrapper)\n",
    "f.draw()\n",
    "# f.doc.predicts    \n",
    "f.resolve_rel(\"obj\").text, \\\n",
    "    f.resolve_rels(\"obj*\")[0].text"
   ]
  },
  {
   "cell_type": "code",
   "execution_count": 19,
   "metadata": {
    "ExecuteTime": {
     "end_time": "2020-04-11T14:43:24.100017Z",
     "start_time": "2020-04-11T14:43:24.084940Z"
    }
   },
   "outputs": [
    {
     "data": {
      "text/plain": [
       "[{'type': 'predicate',\n",
       "  'lemma': '有',\n",
       "  'index': 1,\n",
       "  'phonetic': 'you',\n",
       "  'word': '有',\n",
       "  'rel': 'hed',\n",
       "  'governor': 0,\n",
       "  'pos': 'verb',\n",
       "  'domains': [['a0', 0, '附近', '附近', ['附近'], ['c_noun', 'x_nd']],\n",
       "   ['a1', 5, '饭馆', '饭馆', ['什么', '好吃', '的', '饭馆'], ['c_noun', 'x_n']]],\n",
       "  'stems': []}]"
      ]
     },
     "execution_count": 19,
     "metadata": {},
     "output_type": "execute_result"
    }
   ],
   "source": [
    "f.doc.predicts"
   ]
  },
  {
   "cell_type": "code",
   "execution_count": 12,
   "metadata": {
    "ExecuteTime": {
     "end_time": "2020-04-11T18:10:47.650971Z",
     "start_time": "2020-04-11T18:10:47.568411Z"
    }
   },
   "outputs": [
    {
     "data": {
      "text/html": [
       "<div>\n",
       "<style scoped>\n",
       "    .dataframe tbody tr th:only-of-type {\n",
       "        vertical-align: middle;\n",
       "    }\n",
       "\n",
       "    .dataframe tbody tr th {\n",
       "        vertical-align: top;\n",
       "    }\n",
       "\n",
       "    .dataframe thead th {\n",
       "        text-align: right;\n",
       "    }\n",
       "</style>\n",
       "<table border=\"1\" class=\"dataframe\">\n",
       "  <thead>\n",
       "    <tr style=\"text-align: right;\">\n",
       "      <th></th>\n",
       "      <th>rel</th>\n",
       "      <th>index</th>\n",
       "      <th>text</th>\n",
       "      <th>lemma</th>\n",
       "      <th>children</th>\n",
       "      <th>features</th>\n",
       "    </tr>\n",
       "  </thead>\n",
       "  <tbody>\n",
       "    <tr>\n",
       "      <th>0</th>\n",
       "      <td>a0</td>\n",
       "      <td>0</td>\n",
       "      <td>附近</td>\n",
       "      <td>附近</td>\n",
       "      <td>[附近]</td>\n",
       "      <td>[c_noun, x_nd]</td>\n",
       "    </tr>\n",
       "    <tr>\n",
       "      <th>1</th>\n",
       "      <td>a1</td>\n",
       "      <td>5</td>\n",
       "      <td>饭馆</td>\n",
       "      <td>饭馆</td>\n",
       "      <td>[什么, 好吃, 的, 饭馆]</td>\n",
       "      <td>[c_noun, x_n]</td>\n",
       "    </tr>\n",
       "  </tbody>\n",
       "</table>\n",
       "</div>"
      ],
      "text/plain": [
       "  rel  index text lemma         children        features\n",
       "0  a0      0   附近    附近             [附近]  [c_noun, x_nd]\n",
       "1  a1      5   饭馆    饭馆  [什么, 好吃, 的, 饭馆]   [c_noun, x_n]"
      ]
     },
     "metadata": {},
     "output_type": "display_data"
    },
    {
     "data": {
      "text/plain": [
       "[{'rel': 'a0',\n",
       "  'index': 0,\n",
       "  'text': '附近',\n",
       "  'lemma': '附近',\n",
       "  'children': ['附近'],\n",
       "  'features': ['c_noun', 'x_nd']},\n",
       " {'rel': 'a1',\n",
       "  'index': 5,\n",
       "  'text': '饭馆',\n",
       "  'lemma': '饭馆',\n",
       "  'children': ['什么', '好吃', '的', '饭馆'],\n",
       "  'features': ['c_noun', 'x_n']}]"
      ]
     },
     "execution_count": 12,
     "metadata": {},
     "output_type": "execute_result"
    }
   ],
   "source": [
    "import sagas\n",
    "import pandas as pd\n",
    "import sagas.util.pandas_helper as ph\n",
    "\n",
    "r=f.doc.predicts[0]\n",
    "df = sagas.to_df(r['domains'], ['rel', 'index', 'text', 'lemma', 'children', 'features'])\n",
    "display(df)\n",
    "ph.to_json(df)"
   ]
  },
  {
   "cell_type": "code",
   "execution_count": 22,
   "metadata": {
    "ExecuteTime": {
     "end_time": "2020-04-11T18:27:50.306356Z",
     "start_time": "2020-04-11T18:27:50.273427Z"
    }
   },
   "outputs": [
    {
     "data": {
      "text/plain": [
       "[Predict(type='predicate', lemma='有', index=1, phonetic='you', word='有', rel='hed', governor=0, pos='verb', domains=[SemanticRole(rel='a0', index=0, text='附近', lemma='附近', children=['附近'], features=['c_noun', 'x_nd']), SemanticRole(rel='a1', index=5, text='饭馆', lemma='饭馆', children=['什么', '好吃', '的', '饭馆'], features=['c_noun', 'x_n'])])]"
      ]
     },
     "execution_count": 22,
     "metadata": {},
     "output_type": "execute_result"
    }
   ],
   "source": [
    "from typing import Text, Any, Dict, List, Union, Optional, Tuple, Set\n",
    "from dataclasses import dataclass\n",
    "from dataclasses_json import dataclass_json\n",
    "\n",
    "@dataclass_json\n",
    "@dataclass\n",
    "class SemanticRole:\n",
    "    rel: str\n",
    "    index: int\n",
    "    text: str\n",
    "    lemma: str\n",
    "    children: List[Text]\n",
    "    features: List[Text]\n",
    "\n",
    "@dataclass_json\n",
    "@dataclass\n",
    "class Predict:\n",
    "    type: str\n",
    "    lemma: str\n",
    "    index: int\n",
    "    phonetic: str\n",
    "    word: str\n",
    "    rel: str\n",
    "    governor: int\n",
    "    pos: str\n",
    "    domains: List[SemanticRole]\n",
    "\n",
    "preds=[]\n",
    "for p in f.doc.predicts:\n",
    "    pred=Predict(type=p['type'], lemma=p['lemma'], index=p['index'],\n",
    "                 phonetic=p['phonetic'], word=p['word'], \n",
    "                 rel=p['rel'], governor=p['governor'],\n",
    "                 pos=p['pos'], domains=[]\n",
    "                )\n",
    "    df = sagas.to_df(p['domains'], ['rel', 'index', 'text', 'lemma', 'children', 'features'])\n",
    "    \n",
    "    for e in ph.to_json(df):\n",
    "        pred.domains.append(SemanticRole(rel=e['rel'], index=e['index'], text=e['text'],\n",
    "                     lemma=e['lemma'], children=e['children'], \n",
    "                     features=e['features']\n",
    "                    ))\n",
    "    preds.append(pred)\n",
    "preds"
   ]
  },
  {
   "cell_type": "code",
   "execution_count": 3,
   "metadata": {
    "ExecuteTime": {
     "end_time": "2020-04-11T16:13:09.402149Z",
     "start_time": "2020-04-11T16:13:09.026097Z"
    }
   },
   "outputs": [
    {
     "name": "stdout",
     "output_type": "stream",
     "text": [
      "0 下鴨神社の参道は暗かった。\n",
      "root: 暗かった。 (暗い, adj)\n",
      "+-- nsubj: 参道は (参道, noun)\n",
      "    +-- att: 神社の (神社, noun)\n",
      "        +-- att: 下鴨 (下鴨, noun)\n",
      "1 2008年12月に上海に行きたいです。\n",
      "root: 行きたいです。 (行く, verb)\n",
      "|-- obl:time: 12月に (12, num)\n",
      "|   +-- att: 2008年 (2008, num)\n",
      "+-- obl: 上海に (上海, noun)\n",
      "2 望遠鏡で泳いでいる少女を見た。\n",
      "root: 見た。 (見る, verb)\n",
      "|-- obl: 鏡で (鏡, noun)\n",
      "|   +-- att: 望遠 (望遠, noun)\n",
      "+-- obj: 少女を (少女, noun)\n",
      "    +-- nsubj: 泳いでいる (泳ぐ, verb)\n",
      "3 アテネ行きの便を予約したいのですが。\n",
      "root: 予約したいのですが。 (予約, noun)\n",
      "+-- obj: 便を (便, noun)\n",
      "    +-- att: 行きの (行き, x)\n",
      "        +-- att: アテネ (アテネ, noun)\n",
      "4 直行便ですか？\n",
      "root: 便ですか？ (便, noun)\n",
      "+-- att: 直行 (直行, noun)\n",
      "5 次のローマ行きは何時ですか？\n",
      "root: 何時ですか？ (何, num)\n",
      "+-- nsubj: 行きは (行き, x)\n",
      "    |-- att: 次の (次の, det)\n",
      "    +-- att: ローマ (ローマ, noun)\n",
      "6 荷物はどれくらい持っていけますか？\n",
      "root: 持っていけますか？ (持つ, verb)\n",
      "|-- obj: 荷物は (荷物, noun)\n",
      "+-- nsubj: どれくらい (どれ, x)\n",
      "7 家へ帰りたいです。\n",
      "root: 帰りたいです。 (帰る, verb)\n",
      "+-- obl: 家へ (家, noun)\n",
      "8 メニューをお願いします。\n",
      "root: お願いします。 (願う, x)\n",
      "+-- obj: メニューを (メニュー, noun)\n",
      "9 コーヒーをミルク付きでお願いします。\n",
      "root: お願いします。 (願う, x)\n",
      "|-- obj: コーヒーを (珈琲, noun)\n",
      "+-- obl: 付きで (付き, noun)\n",
      "    +-- att: ミルク (ミルク, noun)\n"
     ]
    }
   ],
   "source": [
    "from sagas.nlu.uni_intf import RootWordImpl, WordIntf, SentenceIntf\n",
    "import sagas\n",
    "from sagas.nlu.utils import fix_sents\n",
    "\n",
    "rel_mapping={'D': 'att', '時間': 'obl:time', \n",
    "             'ガ': 'nsubj', 'ヲ': 'obj',\n",
    "             'デ': 'obl', 'ニ':'obl',\n",
    "            }\n",
    "class KnpWordWrapper(WordIntf):\n",
    "    def setup(self, token):\n",
    "        deprel=token['dependency_relation']\n",
    "        token['dependency_relation']=rel_mapping[deprel] if deprel in rel_mapping else deprel\n",
    "        token['dependency_relation_raw']=deprel\n",
    "        return token\n",
    "\n",
    "class KnpSentWrapper(SentenceIntf):\n",
    "    def setup(self, json_words):\n",
    "        words = []\n",
    "        for word in json_words:\n",
    "            words.append(KnpWordWrapper(word))\n",
    "        return words, []\n",
    "    \n",
    "from sagas.nlu.anal import build_anal_tree, Doc\n",
    "sents=[\"下鴨神社の参道は暗かった。\", \n",
    "       '2008年12月に上海に行きたいです。',\n",
    "       \"望遠鏡で泳いでいる少女を見た。\",\n",
    "       'アテネ行きの 便を 予約したいの です が 。',\n",
    "       '直行便 ですか ？',\n",
    "       '次の ローマ行きは 何時 です か ？',\n",
    "       '荷物は どれくらい 持って いけます か ？',\n",
    "       '家へ 帰りたい です 。',\n",
    "       'メニューを お願い します 。',\n",
    "       'コーヒーを ミルク付きで お願い します 。',\n",
    "      ]\n",
    "for i,s in enumerate(sents):\n",
    "    # s=fix_sents(s,'ja')    \n",
    "    f=build_anal_tree(s, 'ja', 'knp', None, KnpSentWrapper)\n",
    "    print(i,f.doc.sents)\n",
    "    f.draw()"
   ]
  },
  {
   "cell_type": "code",
   "execution_count": 47,
   "metadata": {
    "ExecuteTime": {
     "end_time": "2020-04-11T15:48:59.144521Z",
     "start_time": "2020-04-11T15:48:59.109239Z"
    }
   },
   "outputs": [
    {
     "name": "stdout",
     "output_type": "stream",
     "text": [
      "root: 行きたいです。 (行く, verb)\n",
      "|-- obl:time: 12月に (12, num)\n",
      "|   +-- att: 2008年 (2008, num)\n",
      "+-- obl: 上海に (上海, noun)\n"
     ]
    },
    {
     "data": {
      "text/html": [
       "<div>\n",
       "<style scoped>\n",
       "    .dataframe tbody tr th:only-of-type {\n",
       "        vertical-align: middle;\n",
       "    }\n",
       "\n",
       "    .dataframe tbody tr th {\n",
       "        vertical-align: top;\n",
       "    }\n",
       "\n",
       "    .dataframe thead th {\n",
       "        text-align: right;\n",
       "    }\n",
       "</style>\n",
       "<table border=\"1\" class=\"dataframe\">\n",
       "  <thead>\n",
       "    <tr style=\"text-align: right;\">\n",
       "      <th></th>\n",
       "      <th>rel</th>\n",
       "      <th>index</th>\n",
       "      <th>text</th>\n",
       "      <th>lemma</th>\n",
       "      <th>children</th>\n",
       "      <th>features</th>\n",
       "    </tr>\n",
       "  </thead>\n",
       "  <tbody>\n",
       "    <tr>\n",
       "      <th>0</th>\n",
       "      <td>ニ</td>\n",
       "      <td>2</td>\n",
       "      <td>上海に</td>\n",
       "      <td>上海</td>\n",
       "      <td>[上海]</td>\n",
       "      <td>[c_noun, x_c]</td>\n",
       "    </tr>\n",
       "    <tr>\n",
       "      <th>1</th>\n",
       "      <td>時間</td>\n",
       "      <td>1</td>\n",
       "      <td>12月に</td>\n",
       "      <td>月</td>\n",
       "      <td>[12, 月]</td>\n",
       "      <td>[c_num, x_n]</td>\n",
       "    </tr>\n",
       "  </tbody>\n",
       "</table>\n",
       "</div>"
      ],
      "text/plain": [
       "  rel  index  text lemma children       features\n",
       "0   ニ      2   上海に    上海     [上海]  [c_noun, x_c]\n",
       "1  時間      1  12月に     月  [12, 月]   [c_num, x_n]"
      ]
     },
     "metadata": {},
     "output_type": "display_data"
    },
    {
     "data": {
      "text/plain": [
       "('上海に', '12月に')"
      ]
     },
     "execution_count": 47,
     "metadata": {},
     "output_type": "execute_result"
    }
   ],
   "source": [
    "from sagas.nlu.anal import build_anal_tree, Doc\n",
    "from sagas.nlu.uni_jsonifier import JsonifySentImpl\n",
    "from anytree.search import findall, findall_by_attr\n",
    "\n",
    "f=build_anal_tree('2008年12月に上海に行きたいです。', 'ja', 'knp', None, KnpSentWrapper)\n",
    "f.draw()\n",
    "r=f.doc.predicts[0]\n",
    "df = sagas.to_df(r['domains'], ['rel', 'index', 'text', 'lemma', 'children', 'features'])\n",
    "display(df)\n",
    "f.resolve_rel(\"obl\").text, \\\n",
    "    f.resolve_rels(\"obl*\")[0].text"
   ]
  },
  {
   "cell_type": "code",
   "execution_count": 48,
   "metadata": {
    "ExecuteTime": {
     "end_time": "2020-04-11T15:49:02.728081Z",
     "start_time": "2020-04-11T15:49:02.712384Z"
    }
   },
   "outputs": [
    {
     "name": "stdout",
     "output_type": "stream",
     "text": [
      "root: 見た。 (見る, verb)\n",
      "|-- obl: 鏡で (鏡, noun)\n",
      "|   +-- att: 望遠 (望遠, noun)\n",
      "+-- obj: 少女を (少女, noun)\n",
      "    +-- nsubj: 泳いでいる (泳ぐ, verb)\n"
     ]
    }
   ],
   "source": [
    "from sagas.nlu.anal import build_anal_tree, Doc\n",
    "f=build_anal_tree(\"望遠鏡で泳いでいる少女を見た。\", 'ja', 'knp', None, KnpSentWrapper)\n",
    "f.draw()"
   ]
  },
  {
   "cell_type": "code",
   "execution_count": 3,
   "metadata": {
    "ExecuteTime": {
     "end_time": "2020-04-11T19:55:30.281519Z",
     "start_time": "2020-04-11T19:55:30.181336Z"
    }
   },
   "outputs": [
    {
     "name": "stdout",
     "output_type": "stream",
     "text": [
      "root: 暗かった。 (暗い, adj)\n",
      "+-- nsubj: 参道は (参道, noun)\n",
      "    +-- att: 神社の (神社, noun)\n",
      "        +-- att: 下鴨 (下鴨, noun)\n",
      "[Predict(type='predicate', lemma='暗い', index=3, phonetic='くらい', word='暗かった。', rel='D', governor=0, pos='adj', domains=[SemanticRole(rel='ガ', index=2, text='参道は', lemma='参道', children=['参道'], features=['c_noun', 'x_n'])])]\n"
     ]
    },
    {
     "data": {
      "text/html": [
       "<div>\n",
       "<style scoped>\n",
       "    .dataframe tbody tr th:only-of-type {\n",
       "        vertical-align: middle;\n",
       "    }\n",
       "\n",
       "    .dataframe tbody tr th {\n",
       "        vertical-align: top;\n",
       "    }\n",
       "\n",
       "    .dataframe thead th {\n",
       "        text-align: right;\n",
       "    }\n",
       "</style>\n",
       "<table border=\"1\" class=\"dataframe\">\n",
       "  <thead>\n",
       "    <tr style=\"text-align: right;\">\n",
       "      <th></th>\n",
       "      <th>rel</th>\n",
       "      <th>index</th>\n",
       "      <th>text</th>\n",
       "      <th>lemma</th>\n",
       "      <th>children</th>\n",
       "      <th>features</th>\n",
       "    </tr>\n",
       "  </thead>\n",
       "  <tbody>\n",
       "    <tr>\n",
       "      <th>0</th>\n",
       "      <td>ガ</td>\n",
       "      <td>2</td>\n",
       "      <td>参道は</td>\n",
       "      <td>参道</td>\n",
       "      <td>[参道]</td>\n",
       "      <td>[c_noun, x_n]</td>\n",
       "    </tr>\n",
       "  </tbody>\n",
       "</table>\n",
       "</div>"
      ],
      "text/plain": [
       "  rel  index text lemma children       features\n",
       "0   ガ      2  参道は    参道     [参道]  [c_noun, x_n]"
      ]
     },
     "metadata": {},
     "output_type": "display_data"
    }
   ],
   "source": [
    "from sagas.nlu.anal import build_anal_tree, Doc\n",
    "sents=[\"下鴨神社の参道は暗かった。\"]\n",
    "for s in sents:\n",
    "    f=build_anal_tree(s, 'ja', 'knp')\n",
    "    f.draw()\n",
    "    print(f.doc.predicts)\n",
    "    list(map(display, f.doc.predict_domains_df))"
   ]
  }
 ],
 "metadata": {
  "kernelspec": {
   "display_name": "Python 3",
   "language": "python",
   "name": "python3"
  },
  "language_info": {
   "codemirror_mode": {
    "name": "ipython",
    "version": 3
   },
   "file_extension": ".py",
   "mimetype": "text/x-python",
   "name": "python",
   "nbconvert_exporter": "python",
   "pygments_lexer": "ipython3",
   "version": "3.6.6"
  },
  "varInspector": {
   "cols": {
    "lenName": 16,
    "lenType": 16,
    "lenVar": 40
   },
   "kernels_config": {
    "python": {
     "delete_cmd_postfix": "",
     "delete_cmd_prefix": "del ",
     "library": "var_list.py",
     "varRefreshCmd": "print(var_dic_list())"
    },
    "r": {
     "delete_cmd_postfix": ") ",
     "delete_cmd_prefix": "rm(",
     "library": "var_list.r",
     "varRefreshCmd": "cat(var_dic_list()) "
    }
   },
   "types_to_exclude": [
    "module",
    "function",
    "builtin_function_or_method",
    "instance",
    "_Feature"
   ],
   "window_display": false
  }
 },
 "nbformat": 4,
 "nbformat_minor": 2
}
