{
 "cells": [
  {
   "cell_type": "markdown",
   "metadata": {},
   "source": [
    "## Word Sense Disambiguation (WSD, 词义消歧)"
   ]
  },
  {
   "cell_type": "code",
   "execution_count": 6,
   "metadata": {
    "ExecuteTime": {
     "end_time": "2020-03-14T01:58:18.599012Z",
     "start_time": "2020-03-14T01:58:18.586984Z"
    }
   },
   "outputs": [
    {
     "data": {
      "text/plain": [
       "Synset('depository_financial_institution.n.01')"
      ]
     },
     "execution_count": 6,
     "metadata": {},
     "output_type": "execute_result"
    }
   ],
   "source": [
    "# Word Sense Disambiguation (WSD)\n",
    "from pywsd.lesk import simple_lesk\n",
    "sent = 'I went to the bank to deposit my money'\n",
    "ambiguous = 'bank'\n",
    "answer = simple_lesk(sent, ambiguous, pos='n')\n",
    "answer"
   ]
  },
  {
   "cell_type": "code",
   "execution_count": 8,
   "metadata": {
    "ExecuteTime": {
     "end_time": "2020-03-14T01:58:36.049127Z",
     "start_time": "2020-03-14T01:58:36.034734Z"
    }
   },
   "outputs": [
    {
     "data": {
      "text/plain": [
       "Synset('depository_financial_institution.n.01')"
      ]
     },
     "execution_count": 8,
     "metadata": {},
     "output_type": "execute_result"
    }
   ],
   "source": [
    "simple_lesk(sent, 'bank')"
   ]
  },
  {
   "cell_type": "code",
   "execution_count": 2,
   "metadata": {
    "ExecuteTime": {
     "end_time": "2020-03-14T01:47:32.662803Z",
     "start_time": "2020-03-14T01:47:32.638852Z"
    }
   },
   "outputs": [
    {
     "data": {
      "text/plain": [
       "'a financial institution that accepts deposits and channels the money into lending activities'"
      ]
     },
     "execution_count": 2,
     "metadata": {},
     "output_type": "execute_result"
    }
   ],
   "source": [
    "answer.definition()"
   ]
  },
  {
   "cell_type": "code",
   "execution_count": 3,
   "metadata": {
    "ExecuteTime": {
     "end_time": "2020-03-14T01:55:43.662995Z",
     "start_time": "2020-03-14T01:55:43.645125Z"
    }
   },
   "outputs": [
    {
     "data": {
      "text/plain": [
       "[('I', None),\n",
       " ('went', Synset('run_low.v.01')),\n",
       " ('to', None),\n",
       " ('the', None),\n",
       " ('bank', Synset('depository_financial_institution.n.01')),\n",
       " ('to', None),\n",
       " ('deposit', Synset('deposit.v.02')),\n",
       " ('my', None),\n",
       " ('money', Synset('money.n.03'))]"
      ]
     },
     "execution_count": 3,
     "metadata": {},
     "output_type": "execute_result"
    }
   ],
   "source": [
    "from pywsd import disambiguate\n",
    "from pywsd.similarity import max_similarity as maxsim\n",
    "disambiguate('I went to the bank to deposit my money')"
   ]
  },
  {
   "cell_type": "code",
   "execution_count": 20,
   "metadata": {
    "ExecuteTime": {
     "end_time": "2020-03-14T02:35:31.759713Z",
     "start_time": "2020-03-14T02:35:31.743350Z"
    }
   },
   "outputs": [
    {
     "data": {
      "text/plain": [
       "['went(run_low.v.01)',\n",
       " 'bank(depository_financial_institution.n.01)',\n",
       " 'deposit(deposit.v.02)',\n",
       " 'money(money.n.03)']"
      ]
     },
     "execution_count": 20,
     "metadata": {},
     "output_type": "execute_result"
    }
   ],
   "source": [
    "rs=disambiguate('I went to the bank to deposit my money')\n",
    "[f\"{r[0]}({r[1].name()})\" for r in rs if r[1]]"
   ]
  },
  {
   "cell_type": "code",
   "execution_count": 23,
   "metadata": {
    "ExecuteTime": {
     "end_time": "2020-03-14T02:38:17.180113Z",
     "start_time": "2020-03-14T02:38:17.165569Z"
    }
   },
   "outputs": [
    {
     "data": {
      "text/plain": [
       "[('went', 'run_low.v.01', 'to be spent or finished'),\n",
       " ('bank',\n",
       "  'depository_financial_institution.n.01',\n",
       "  'a financial institution that accepts deposits and channels the money into lending activities'),\n",
       " ('deposit', 'deposit.v.02', 'put into a bank account'),\n",
       " ('money',\n",
       "  'money.n.03',\n",
       "  'the official currency issued by a government or national bank')]"
      ]
     },
     "execution_count": 23,
     "metadata": {},
     "output_type": "execute_result"
    }
   ],
   "source": [
    "[(r[0], r[1].name(), r[1].definition()) for r in rs if r[1]]"
   ]
  },
  {
   "cell_type": "code",
   "execution_count": 26,
   "metadata": {
    "ExecuteTime": {
     "end_time": "2020-03-14T02:42:18.208980Z",
     "start_time": "2020-03-14T02:42:17.830680Z"
    }
   },
   "outputs": [
    {
     "data": {
      "text/plain": [
       "[('went',\n",
       "  'travel.v.01',\n",
       "  'change location; move, travel, or proceed, also metaphorically'),\n",
       " ('bank',\n",
       "  'bank.n.06',\n",
       "  'the funds held by a gambling house or the dealer in some gambling games'),\n",
       " ('deposit', 'deposit.v.02', 'put into a bank account'),\n",
       " ('money', 'money.n.02', 'wealth reckoned in terms of money')]"
      ]
     },
     "execution_count": 26,
     "metadata": {},
     "output_type": "execute_result"
    }
   ],
   "source": [
    "sents='I went to the bank to deposit my money'\n",
    "extract_syn=lambda r: (r[0], r[1].name(), r[1].definition())\n",
    "[extract_syn(r) for r in disambiguate(\n",
    "                sents, algorithm=maxsim,\n",
    "                similarity_option='wup',\n",
    "                keepLemmas=False) if r[1]]"
   ]
  },
  {
   "cell_type": "code",
   "execution_count": 27,
   "metadata": {
    "ExecuteTime": {
     "end_time": "2020-03-14T02:44:16.910979Z",
     "start_time": "2020-03-14T02:44:16.895903Z"
    }
   },
   "outputs": [
    {
     "data": {
      "text/plain": [
       "[('went', 'run_low.v.01', 'to be spent or finished'),\n",
       " ('bank',\n",
       "  'depository_financial_institution.n.01',\n",
       "  'a financial institution that accepts deposits and channels the money into lending activities'),\n",
       " ('deposit', 'deposit.v.02', 'put into a bank account'),\n",
       " ('money',\n",
       "  'money.n.03',\n",
       "  'the official currency issued by a government or national bank')]"
      ]
     },
     "execution_count": 27,
     "metadata": {},
     "output_type": "execute_result"
    }
   ],
   "source": [
    "def extract_sents():\n",
    "    rs = disambiguate(sents)\n",
    "    return [extract_syn(r) for r in rs if r[1]]\n",
    "extract_sents()"
   ]
  },
  {
   "cell_type": "code",
   "execution_count": 4,
   "metadata": {
    "ExecuteTime": {
     "end_time": "2020-03-13T05:52:38.895807Z",
     "start_time": "2020-03-13T05:52:38.578493Z"
    }
   },
   "outputs": [
    {
     "data": {
      "text/plain": [
       "[('I', 'i', None),\n",
       " ('went', 'go', Synset('travel.v.01')),\n",
       " ('to', 'to', None),\n",
       " ('the', 'the', None),\n",
       " ('bank', 'bank', Synset('bank.n.06')),\n",
       " ('to', 'to', None),\n",
       " ('deposit', 'deposit', Synset('deposit.v.02')),\n",
       " ('my', 'my', None),\n",
       " ('money', 'money', Synset('money.n.02'))]"
      ]
     },
     "execution_count": 4,
     "metadata": {},
     "output_type": "execute_result"
    }
   ],
   "source": [
    "disambiguate('I went to the bank to deposit my money', algorithm=maxsim, similarity_option='wup', keepLemmas=True)"
   ]
  },
  {
   "cell_type": "code",
   "execution_count": 13,
   "metadata": {
    "ExecuteTime": {
     "end_time": "2020-03-14T02:01:52.499088Z",
     "start_time": "2020-03-14T02:01:52.484451Z"
    }
   },
   "outputs": [
    {
     "data": {
      "text/plain": [
       "Synset('twenty_dollar_bill.n.01')"
      ]
     },
     "execution_count": 13,
     "metadata": {},
     "output_type": "execute_result"
    }
   ],
   "source": [
    "from pywsd.lesk import simple_lesk, cosine_lesk, adapted_lesk\n",
    "cosine_lesk('The sheet is twenty centimeters.', 'twenty')"
   ]
  },
  {
   "cell_type": "code",
   "execution_count": 15,
   "metadata": {
    "ExecuteTime": {
     "end_time": "2020-03-14T02:02:47.875110Z",
     "start_time": "2020-03-14T02:02:47.843135Z"
    }
   },
   "outputs": [
    {
     "data": {
      "text/plain": [
       "Synset('sheet.n.03')"
      ]
     },
     "execution_count": 15,
     "metadata": {},
     "output_type": "execute_result"
    }
   ],
   "source": [
    "cosine_lesk('The sheet is twenty centimeters.', 'sheet')"
   ]
  },
  {
   "cell_type": "code",
   "execution_count": 16,
   "metadata": {
    "ExecuteTime": {
     "end_time": "2020-03-14T02:03:10.482555Z",
     "start_time": "2020-03-14T02:03:10.454972Z"
    }
   },
   "outputs": [
    {
     "data": {
      "text/plain": [
       "['sheet(tabloid.n.02)', 'twenty(twenty.s.01)', 'centimeters(centimeter.n.01)']"
      ]
     },
     "execution_count": 16,
     "metadata": {},
     "output_type": "execute_result"
    }
   ],
   "source": [
    "rs=disambiguate('The sheet is twenty centimeters.')\n",
    "[f\"{r[0]}({r[1].name()})\" for r in rs if r[1]]"
   ]
  },
  {
   "cell_type": "code",
   "execution_count": 18,
   "metadata": {
    "ExecuteTime": {
     "end_time": "2020-03-14T02:04:33.254306Z",
     "start_time": "2020-03-14T02:04:33.190216Z"
    }
   },
   "outputs": [
    {
     "data": {
      "text/plain": [
       "['sheet(sheet.n.02)', 'twenty(twenty.s.01)', 'centimeters(centimeter.n.01)']"
      ]
     },
     "execution_count": 18,
     "metadata": {},
     "output_type": "execute_result"
    }
   ],
   "source": [
    "rs=disambiguate('The sheet is twenty centimeters.', algorithm=maxsim, similarity_option='wup')\n",
    "[f\"{r[0]}({r[1].name()})\" for r in rs if r[1]]"
   ]
  },
  {
   "cell_type": "code",
   "execution_count": 19,
   "metadata": {
    "ExecuteTime": {
     "end_time": "2020-03-14T02:14:30.526879Z",
     "start_time": "2020-03-14T02:14:30.509979Z"
    }
   },
   "outputs": [
    {
     "data": {
      "text/plain": [
       "['dog(pawl.n.01)']"
      ]
     },
     "execution_count": 19,
     "metadata": {},
     "output_type": "execute_result"
    }
   ],
   "source": [
    "rs=disambiguate('it is a dog.')\n",
    "[f\"{r[0]}({r[1].name()})\" for r in rs if r[1]]"
   ]
  },
  {
   "cell_type": "code",
   "execution_count": 31,
   "metadata": {
    "ExecuteTime": {
     "end_time": "2020-03-14T02:57:29.206232Z",
     "start_time": "2020-03-14T02:57:29.180963Z"
    }
   },
   "outputs": [
    {
     "name": "stdout",
     "output_type": "stream",
     "text": [
      "[['sheet', 'tabloid.n.02', 'newspaper with half-size pages'],\n",
      " ['twenty',\n",
      "  'twenty.s.01',\n",
      "  'denoting a quantity consisting of 20 items or units'],\n",
      " ['centimeters',\n",
      "  'centimeter.n.01',\n",
      "  'a metric unit of length equal to one hundredth of a meter']]\n"
     ]
    }
   ],
   "source": [
    "import requests\n",
    "from pprint import pprint\n",
    "response = requests.post('http://localhost:1700/en/wsd/default',\n",
    "                             json={'sents': 'The sheet is twenty centimeters.'})\n",
    "if response.status_code == 200:\n",
    "    rs = response.json()\n",
    "    pprint(rs)"
   ]
  }
 ],
 "metadata": {
  "kernelspec": {
   "display_name": "Python 3",
   "language": "python",
   "name": "python3"
  },
  "varInspector": {
   "cols": {
    "lenName": 16,
    "lenType": 16,
    "lenVar": 40
   },
   "kernels_config": {
    "python": {
     "delete_cmd_postfix": "",
     "delete_cmd_prefix": "del ",
     "library": "var_list.py",
     "varRefreshCmd": "print(var_dic_list())"
    },
    "r": {
     "delete_cmd_postfix": ") ",
     "delete_cmd_prefix": "rm(",
     "library": "var_list.r",
     "varRefreshCmd": "cat(var_dic_list()) "
    }
   },
   "types_to_exclude": [
    "module",
    "function",
    "builtin_function_or_method",
    "instance",
    "_Feature"
   ],
   "window_display": false
  }
 },
 "nbformat": 4,
 "nbformat_minor": 2
}
