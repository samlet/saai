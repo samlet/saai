{
 "cells": [
  {
   "cell_type": "code",
   "execution_count": 20,
   "metadata": {
    "ExecuteTime": {
     "end_time": "2020-03-20T05:22:26.712507Z",
     "start_time": "2020-03-20T05:22:26.694894Z"
    }
   },
   "outputs": [
    {
     "name": "stdout",
     "output_type": "stream",
     "text": [
      "axis: ('khadya phala|edible fruits',), {}\n"
     ]
    },
    {
     "data": {
      "text/plain": [
       "ins_general(obj)"
      ]
     },
     "execution_count": 20,
     "metadata": {},
     "output_type": "execute_result"
    }
   ],
   "source": [
    "from typing import Text, Any, Dict, List, Union\n",
    "from sagas.nlu.inspector_common import Inspector, Context\n",
    "\n",
    "class GeneralInspector(Inspector):\n",
    "    def __init__(self, arg=''):\n",
    "        self.arg=arg\n",
    "        self.calls=[]\n",
    "    def name(self):\n",
    "        return \"general\"\n",
    "\n",
    "    def run(self, key, ctx:Context):\n",
    "        results=[]\n",
    "        for call in self.calls:\n",
    "            if call[0] in self.fn_map:\n",
    "                r=self.fn_map[call[0]](key, ctx, *call[1], **call[2])\n",
    "                results.append(r)\n",
    "            else:\n",
    "                raise ValueError(f\"Cannot find fn {call[0]}\")\n",
    "        return all(results)\n",
    "    \n",
    "    @property\n",
    "    def fn_map(self):\n",
    "        return {}\n",
    "    def __getattr__(self, method):\n",
    "        def serv(*args, **kwargs):\n",
    "            print(f\"{method}: {args}, {kwargs}\")\n",
    "            self.calls.append((method, args, kwargs))\n",
    "            return self\n",
    "        return serv\n",
    "    \n",
    "    def __str__(self):\n",
    "        return f\"ins_{self.name()}({self.arg})\"\n",
    "    \n",
    "gi=GeneralInspector\n",
    "gi('obj').axis('khadya phala|edible fruits')"
   ]
  },
  {
   "cell_type": "code",
   "execution_count": 24,
   "metadata": {
    "ExecuteTime": {
     "end_time": "2020-03-20T05:32:55.224551Z",
     "start_time": "2020-03-20T05:32:55.213604Z"
    }
   },
   "outputs": [
    {
     "name": "stdout",
     "output_type": "stream",
     "text": [
      "axis: ('khadya phala|edible fruits',), {}\n"
     ]
    },
    {
     "data": {
      "text/plain": [
       "True"
      ]
     },
     "execution_count": 24,
     "metadata": {},
     "output_type": "execute_result"
    }
   ],
   "source": [
    "class PredAxis(GeneralInspector):\n",
    "    @property\n",
    "    def fn_map(self):\n",
    "        return {'axis': lambda key, ctx, *args, **kwargs: True}\n",
    "\n",
    "gi=PredAxis\n",
    "ins=gi('obj').axis('khadya phala|edible fruits')\n",
    "ins.run('obj', None)"
   ]
  },
  {
   "cell_type": "code",
   "execution_count": null,
   "metadata": {},
   "outputs": [],
   "source": []
  }
 ],
 "metadata": {
  "kernelspec": {
   "display_name": "Python 3",
   "language": "python",
   "name": "python3"
  },
  "language_info": {
   "codemirror_mode": {
    "name": "ipython",
    "version": 3
   },
   "file_extension": ".py",
   "mimetype": "text/x-python",
   "name": "python",
   "nbconvert_exporter": "python",
   "pygments_lexer": "ipython3",
   "version": "3.6.6"
  },
  "varInspector": {
   "cols": {
    "lenName": 16,
    "lenType": 16,
    "lenVar": 40
   },
   "kernels_config": {
    "python": {
     "delete_cmd_postfix": "",
     "delete_cmd_prefix": "del ",
     "library": "var_list.py",
     "varRefreshCmd": "print(var_dic_list())"
    },
    "r": {
     "delete_cmd_postfix": ") ",
     "delete_cmd_prefix": "rm(",
     "library": "var_list.r",
     "varRefreshCmd": "cat(var_dic_list()) "
    }
   },
   "types_to_exclude": [
    "module",
    "function",
    "builtin_function_or_method",
    "instance",
    "_Feature"
   ],
   "window_display": false
  }
 },
 "nbformat": 4,
 "nbformat_minor": 2
}
