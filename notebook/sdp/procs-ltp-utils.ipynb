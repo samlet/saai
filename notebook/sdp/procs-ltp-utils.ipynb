{
 "cells": [
  {
   "cell_type": "code",
   "execution_count": 1,
   "metadata": {
    "ExecuteTime": {
     "end_time": "2020-06-19T15:26:41.002101Z",
     "start_time": "2020-06-19T15:26:35.593226Z"
    }
   },
   "outputs": [
    {
     "data": {
      "text/plain": [
       "[('PER', 0, 1), ('LOC', 3, 3)]"
      ]
     },
     "execution_count": 1,
     "metadata": {},
     "output_type": "execute_result"
    }
   ],
   "source": [
    "from ltp.utils.seqeval.sequence_labeling import get_entities\n",
    "seq = ['B-PER', 'I-PER', 'O', 'B-LOC']\n",
    "get_entities(seq)"
   ]
  },
  {
   "cell_type": "code",
   "execution_count": 2,
   "metadata": {
    "ExecuteTime": {
     "end_time": "2020-06-19T15:27:00.448790Z",
     "start_time": "2020-06-19T15:27:00.441532Z"
    }
   },
   "outputs": [
    {
     "data": {
      "text/plain": [
       "[('ARG0', 1, 1), ('ARGM-MNR', 2, 2), ('V', 3, 3), ('ARG1', 4, 12)]"
      ]
     },
     "execution_count": 2,
     "metadata": {},
     "output_type": "execute_result"
    }
   ],
   "source": [
    "get_entities(['O',\n",
    "    'B-ARG0',\n",
    "    'B-ARGM-MNR',\n",
    "    'B-V',\n",
    "    'B-ARG1',\n",
    "    'I-ARG1',\n",
    "    'I-ARG1',\n",
    "    'I-ARG1',\n",
    "    'I-ARG1',\n",
    "    'I-ARG1',\n",
    "    'I-ARG1',\n",
    "    'I-ARG1',\n",
    "    'I-ARG1',\n",
    "    'O'])"
   ]
  },
  {
   "cell_type": "code",
   "execution_count": 3,
   "metadata": {
    "ExecuteTime": {
     "end_time": "2020-06-19T15:28:02.499148Z",
     "start_time": "2020-06-19T15:28:02.480729Z"
    }
   },
   "outputs": [
    {
     "data": {
      "text/plain": [
       "[('V', 5, 5)]"
      ]
     },
     "execution_count": 3,
     "metadata": {},
     "output_type": "execute_result"
    }
   ],
   "source": [
    "get_entities(['O',\n",
    "    'O',\n",
    "    'O',\n",
    "    'O',\n",
    "    'O',\n",
    "    'B-V',\n",
    "    'O',\n",
    "    'O',\n",
    "    'O',\n",
    "    'O',\n",
    "    'O',\n",
    "    'O',\n",
    "    'O',\n",
    "    'O'])"
   ]
  }
 ],
 "metadata": {
  "kernelspec": {
   "display_name": "Python 3",
   "language": "python",
   "name": "python3"
  },
  "language_info": {
   "codemirror_mode": {
    "name": "ipython",
    "version": 3
   },
   "file_extension": ".py",
   "mimetype": "text/x-python",
   "name": "python",
   "nbconvert_exporter": "python",
   "pygments_lexer": "ipython3",
   "version": "3.7.7"
  },
  "varInspector": {
   "cols": {
    "lenName": 16,
    "lenType": 16,
    "lenVar": 40
   },
   "kernels_config": {
    "python": {
     "delete_cmd_postfix": "",
     "delete_cmd_prefix": "del ",
     "library": "var_list.py",
     "varRefreshCmd": "print(var_dic_list())"
    },
    "r": {
     "delete_cmd_postfix": ") ",
     "delete_cmd_prefix": "rm(",
     "library": "var_list.r",
     "varRefreshCmd": "cat(var_dic_list()) "
    }
   },
   "types_to_exclude": [
    "module",
    "function",
    "builtin_function_or_method",
    "instance",
    "_Feature"
   ],
   "window_display": false
  }
 },
 "nbformat": 4,
 "nbformat_minor": 4
}
