{
 "cells": [
  {
   "cell_type": "code",
   "execution_count": 16,
   "metadata": {
    "ExecuteTime": {
     "end_time": "2020-06-17T01:34:42.772377Z",
     "start_time": "2020-06-17T01:34:01.035287Z"
    }
   },
   "outputs": [
    {
     "name": "stderr",
     "output_type": "stream",
     "text": [
      "Epochs: 100%|██████████| 100/100 [00:28<00:00,  3.54it/s, t_loss=1.535, i_loss=0.217, entity_loss=0.277, group_loss=0.258, role_loss=0.108, i_acc=1.000, entity_f1=0.751, group_f1=0.740, role_f1=0.647]\n"
     ]
    }
   ],
   "source": [
    "from rasa.nlu import train\n",
    "from rasa.nlu.classifiers import LABEL_RANKING_LENGTH\n",
    "from rasa.nlu.config import RasaNLUModelConfig\n",
    "from rasa.nlu.constants import TEXT, SPARSE_FEATURE_NAMES, DENSE_FEATURE_NAMES, INTENT\n",
    "from rasa.utils.tensorflow.constants import (\n",
    "    LOSS_TYPE,\n",
    "    RANDOM_SEED,\n",
    "    RANKING_LENGTH,\n",
    "    EPOCHS,\n",
    "    MASKED_LM,\n",
    "    TENSORBOARD_LOG_LEVEL,\n",
    "    TENSORBOARD_LOG_DIR,\n",
    "    EVAL_NUM_EPOCHS,\n",
    "    EVAL_NUM_EXAMPLES,\n",
    "    BILOU_FLAG,\n",
    ")\n",
    "from rasa.nlu.classifiers.diet_classifier import DIETClassifier\n",
    "from rasa.nlu.model import Interpreter\n",
    "from rasa.nlu.training_data import Message\n",
    "from rasa.utils import train_utils\n",
    "from rasa.nlu import components, utils\n",
    "\n",
    "def as_pipeline(*components):\n",
    "    return [{\"name\": c} for c in components]\n",
    "\n",
    "# classifier_params={RANDOM_SEED: 1, EPOCHS: 1, BILOU_FLAG: False}\n",
    "classifier_params={RANDOM_SEED: 1, EPOCHS: 100, BILOU_FLAG: False}\n",
    "pipeline = as_pipeline(\n",
    "    \"WhitespaceTokenizer\", \"CountVectorsFeaturizer\", \"DIETClassifier\",\n",
    "    \"EntitySynonymMapper\"\n",
    ")\n",
    "assert pipeline[2][\"name\"] == \"DIETClassifier\"\n",
    "pipeline[2].update(classifier_params)\n",
    "\n",
    "_config = RasaNLUModelConfig({\"pipeline\": pipeline, \"language\": \"en\"})\n",
    "tmpdir='out'\n",
    "component_builder = components.ComponentBuilder()\n",
    "(trainer, trained, persisted_path) = await train(\n",
    "    _config,\n",
    "    path=tmpdir,\n",
    "    data=\"demo-rasa-composite-entities.md\",\n",
    "    component_builder=component_builder,\n",
    ")"
   ]
  },
  {
   "cell_type": "code",
   "execution_count": 7,
   "metadata": {
    "ExecuteTime": {
     "end_time": "2020-06-17T01:21:32.567478Z",
     "start_time": "2020-06-17T01:21:27.628785Z"
    }
   },
   "outputs": [
    {
     "name": "stdout",
     "output_type": "stream",
     "text": [
      "WARNING:tensorflow:From /Users/xiaofeiwu/miniconda3/envs/bigdata/lib/python3.7/site-packages/tensorflow_core/python/ops/array_grad.py:563: _EagerTensorBase.cpu (from tensorflow.python.framework.ops) is deprecated and will be removed in a future version.\n",
      "Instructions for updating:\n",
      "Use tf.identity instead.\n"
     ]
    }
   ],
   "source": [
    "loaded = Interpreter.load(persisted_path, component_builder)\n",
    "\n",
    "assert loaded.pipeline\n",
    "text = \"I am looking for an italian restaurant\"\n",
    "assert loaded.parse(text) == trained.parse(text)"
   ]
  },
  {
   "cell_type": "code",
   "execution_count": 11,
   "metadata": {
    "ExecuteTime": {
     "end_time": "2020-06-17T01:24:45.772373Z",
     "start_time": "2020-06-17T01:24:45.741717Z"
    }
   },
   "outputs": [
    {
     "data": {
      "text/plain": [
       "{'intent': {'name': 'affirm', 'confidence': 0.30026865005493164},\n",
       " 'entities': [],\n",
       " 'intent_ranking': [{'name': 'affirm', 'confidence': 0.30026865005493164},\n",
       "  {'name': 'order_pizza', 'confidence': 0.29987359046936035},\n",
       "  {'name': 'book_flight', 'confidence': 0.16730810701847076},\n",
       "  {'name': 'chitchat', 'confidence': 0.10088472813367844},\n",
       "  {'name': 'greet', 'confidence': 0.08982272446155548},\n",
       "  {'name': 'goodbye', 'confidence': 0.04184221476316452}],\n",
       " 'text': 'I am looking for an italian restaurant'}"
      ]
     },
     "execution_count": 11,
     "metadata": {},
     "output_type": "execute_result"
    }
   ],
   "source": [
    "# loaded.parse(text)\n",
    "trained.parse(\"I am looking for an italian restaurant\")"
   ]
  },
  {
   "cell_type": "code",
   "execution_count": 17,
   "metadata": {
    "ExecuteTime": {
     "end_time": "2020-06-17T01:34:57.489977Z",
     "start_time": "2020-06-17T01:34:55.702138Z"
    }
   },
   "outputs": [
    {
     "data": {
      "text/plain": [
       "{'intent': {'name': 'book_flight', 'confidence': 0.9999995231628418},\n",
       " 'entities': [{'entity': 'location',\n",
       "   'start': 19,\n",
       "   'end': 25,\n",
       "   'role': 'to',\n",
       "   'value': 'Berlin',\n",
       "   'extractor': 'DIETClassifier'},\n",
       "  {'entity': 'location',\n",
       "   'start': 29,\n",
       "   'end': 31,\n",
       "   'role': 'from',\n",
       "   'value': 'San Fransisco',\n",
       "   'extractor': 'DIETClassifier',\n",
       "   'processors': ['EntitySynonymMapper']}],\n",
       " 'intent_ranking': [{'name': 'book_flight', 'confidence': 0.9999995231628418},\n",
       "  {'name': 'chitchat', 'confidence': 3.4653672287277004e-07},\n",
       "  {'name': 'affirm', 'confidence': 9.466146622116867e-08},\n",
       "  {'name': 'order_pizza', 'confidence': 5.335387243121659e-08},\n",
       "  {'name': 'greet', 'confidence': 4.062503577983989e-08},\n",
       "  {'name': 'goodbye', 'confidence': 9.429986791431588e-10}],\n",
       " 'text': 'Book a flight from Berlin to SF'}"
      ]
     },
     "execution_count": 17,
     "metadata": {},
     "output_type": "execute_result"
    }
   ],
   "source": [
    "trained.parse(\"Book a flight from Berlin to SF\")"
   ]
  },
  {
   "cell_type": "code",
   "execution_count": 19,
   "metadata": {
    "ExecuteTime": {
     "end_time": "2020-06-17T01:39:46.936565Z",
     "start_time": "2020-06-17T01:39:46.897730Z"
    }
   },
   "outputs": [
    {
     "data": {
      "text/plain": [
       "({'SF': 'San Fransisco'},\n",
       " {'affirm', 'book_flight', 'chitchat', 'goodbye', 'greet', 'order_pizza'})"
      ]
     },
     "execution_count": 19,
     "metadata": {},
     "output_type": "execute_result"
    }
   ],
   "source": [
    "from rasa.nlu import training_data\n",
    "td = training_data.load_data(\"demo-rasa-composite-entities.md\")\n",
    "td.entity_synonyms, td.intents"
   ]
  },
  {
   "cell_type": "code",
   "execution_count": 20,
   "metadata": {
    "ExecuteTime": {
     "end_time": "2020-06-17T01:40:14.098431Z",
     "start_time": "2020-06-17T01:40:14.091353Z"
    }
   },
   "outputs": [
    {
     "data": {
      "text/plain": [
       "8"
      ]
     },
     "execution_count": 20,
     "metadata": {},
     "output_type": "execute_result"
    }
   ],
   "source": [
    "td.examples_per_entity[\"entity 'location'\"]"
   ]
  },
  {
   "cell_type": "code",
   "execution_count": 21,
   "metadata": {
    "ExecuteTime": {
     "end_time": "2020-06-17T01:41:53.972256Z",
     "start_time": "2020-06-17T01:41:53.963669Z"
    }
   },
   "outputs": [
    {
     "data": {
      "text/plain": [
       "'md'"
      ]
     },
     "execution_count": 21,
     "metadata": {},
     "output_type": "execute_result"
    }
   ],
   "source": [
    "from rasa.nlu.convert import convert_training_data\n",
    "from rasa.nlu.training_data.util import get_file_format\n",
    "get_file_format(\"demo-rasa-composite-entities.md\")"
   ]
  },
  {
   "cell_type": "code",
   "execution_count": 22,
   "metadata": {
    "ExecuteTime": {
     "end_time": "2020-06-17T01:44:23.320487Z",
     "start_time": "2020-06-17T01:44:23.285341Z"
    }
   },
   "outputs": [],
   "source": [
    "data_file=\"demo-rasa-composite-entities.md\"\n",
    "out_path = tmpdir+'/rasa_nlu_data.json'\n",
    "convert_training_data(data_file, out_path, output_format='json', language=None)"
   ]
  }
 ],
 "metadata": {
  "kernelspec": {
   "display_name": "Python 3",
   "language": "python",
   "name": "python3"
  },
  "language_info": {
   "codemirror_mode": {
    "name": "ipython",
    "version": 3
   },
   "file_extension": ".py",
   "mimetype": "text/x-python",
   "name": "python",
   "nbconvert_exporter": "python",
   "pygments_lexer": "ipython3",
   "version": "3.7.7"
  },
  "varInspector": {
   "cols": {
    "lenName": 16,
    "lenType": 16,
    "lenVar": 40
   },
   "kernels_config": {
    "python": {
     "delete_cmd_postfix": "",
     "delete_cmd_prefix": "del ",
     "library": "var_list.py",
     "varRefreshCmd": "print(var_dic_list())"
    },
    "r": {
     "delete_cmd_postfix": ") ",
     "delete_cmd_prefix": "rm(",
     "library": "var_list.r",
     "varRefreshCmd": "cat(var_dic_list()) "
    }
   },
   "types_to_exclude": [
    "module",
    "function",
    "builtin_function_or_method",
    "instance",
    "_Feature"
   ],
   "window_display": false
  }
 },
 "nbformat": 4,
 "nbformat_minor": 4
}
