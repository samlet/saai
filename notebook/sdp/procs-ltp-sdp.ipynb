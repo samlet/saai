{
 "cells": [
  {
   "cell_type": "code",
   "execution_count": 1,
   "metadata": {
    "ExecuteTime": {
     "end_time": "2020-06-17T11:18:35.438175Z",
     "start_time": "2020-06-17T11:18:30.276418Z"
    }
   },
   "outputs": [],
   "source": [
    "from ltp import LTP\n",
    "ltp = LTP()"
   ]
  },
  {
   "cell_type": "code",
   "execution_count": 22,
   "metadata": {
    "ExecuteTime": {
     "end_time": "2020-06-17T11:45:03.933463Z",
     "start_time": "2020-06-17T11:45:03.924895Z"
    }
   },
   "outputs": [],
   "source": [
    "from typing import Text, Any, Dict, List, Union, Optional, Tuple, Set\n",
    "from anytree.node.nodemixin import NodeMixin\n",
    "from anytree.node.util import _repr\n",
    "class AnalBaseNode(NodeMixin, object):\n",
    "    name: str\n",
    "\n",
    "    tags: Set[Text]={}\n",
    "    term: str='_'\n",
    "    description: str=''\n",
    "\n",
    "    def __init__(self, name, parent=None, children=None, **kwargs):\n",
    "        self.name=name\n",
    "        self.__dict__.update(kwargs)        \n",
    "        self.parent = parent\n",
    "        if children:\n",
    "            self.children = children\n",
    "\n",
    "    def __repr__(self):\n",
    "        return _repr(self)\n",
    "\n",
    "class AnalKgNode(AnalBaseNode):\n",
    "    def __repr__(self):\n",
    "        return _repr(self)"
   ]
  },
  {
   "cell_type": "code",
   "execution_count": 7,
   "metadata": {
    "ExecuteTime": {
     "end_time": "2020-06-17T11:23:38.085579Z",
     "start_time": "2020-06-17T11:23:37.968569Z"
    }
   },
   "outputs": [
    {
     "name": "stdout",
     "output_type": "stream",
     "text": [
      "['他', '叫', '汤姆', '去', '拿', '外衣', '。']\n",
      "他 (Agt) 叫\n",
      "叫 (Root) 。\n",
      "汤姆 (Datv) 叫\n",
      "去 (eEfft) 叫\n",
      "拿 (eEfft) 去\n",
      "外衣 (Pat) 拿\n",
      "。 (mPunc) 叫\n"
     ]
    }
   ],
   "source": [
    "def proc_sents(sents):\n",
    "    seg, hidden = ltp.seg([sents])\n",
    "    print(seg[0])\n",
    "    sdp = ltp.sdp(hidden, graph=False)\n",
    "    for start, end, tag in sdp[0]:\n",
    "        print(seg[0][start-1],f\"({tag})\", seg[0][end-1])\n",
    "\n",
    "proc_sents(\"他叫汤姆去拿外衣。\")"
   ]
  },
  {
   "cell_type": "code",
   "execution_count": 54,
   "metadata": {
    "ExecuteTime": {
     "end_time": "2020-06-17T12:30:38.914534Z",
     "start_time": "2020-06-17T12:30:38.901675Z"
    }
   },
   "outputs": [
    {
     "data": {
      "text/plain": [
       "{'Tag': 'Description_关系类型',\n",
       " 'Agt': 'Agent_施事关系',\n",
       " 'Exp': 'Experiencer_当事关系',\n",
       " 'Aft': 'Affection_感事关系',\n",
       " 'Poss': 'Possessor_领事关系',\n",
       " 'Pat': 'Patient_受事关系',\n",
       " 'Cont': 'Content_客事关系',\n",
       " 'Prod': 'Product_成事关系',\n",
       " 'Orig': 'Origin_源事关系',\n",
       " 'Datv': 'Dative_涉事关系',\n",
       " 'Comp': 'Comitative_比较角色',\n",
       " 'Belg': 'Belongings_属事角色',\n",
       " 'Clas': 'Classification_类事角色',\n",
       " 'Accd': 'According_依据角色',\n",
       " 'Reas': 'Reason_缘故角色',\n",
       " 'Int': 'Intention_意图角色',\n",
       " 'Cons': 'Consequence_结局角色',\n",
       " 'Mann': 'Manner_方式角色',\n",
       " 'Tool': 'Tool_工具角色',\n",
       " 'Malt': 'Material_材料角色',\n",
       " 'Matl': 'Material_材料角色',\n",
       " 'Time': 'Time_时间角色',\n",
       " 'Loc': 'Location_空间角色',\n",
       " 'Proc': 'Process_历程角色',\n",
       " 'Dir': 'Direction_趋向角色',\n",
       " 'Sco': 'Scope_范围角色',\n",
       " 'Quan': 'Quantity_数量角色',\n",
       " 'Qp': 'Quantity-phrase_数量数组',\n",
       " 'Freq': 'Frequency_频率角色',\n",
       " 'Seq': 'Sequence_顺序角色',\n",
       " 'Desc(Feat)': 'Description_描写角色',\n",
       " 'Host': 'Host_宿主角色',\n",
       " 'Nmod': 'Name-modifier_名字修饰角色',\n",
       " 'Tmod': 'Time-modifier_时间修饰角色',\n",
       " 'r + main role': '_反角色',\n",
       " 'd + main role': '_嵌套角色',\n",
       " 'eCoo': 'event Coordination_并列关系',\n",
       " 'eSelt': 'event Selection_选择关系',\n",
       " 'eEqu': 'event Equivalent_等同关系',\n",
       " 'ePrec': 'event Precedent_先行关系',\n",
       " 'eSucc': 'event Successor_顺承关系',\n",
       " 'eProg': 'event Progression_递进关系',\n",
       " 'eAdvt': 'event adversative_转折关系',\n",
       " 'eCau': 'event Cause_原因关系',\n",
       " 'eResu': 'event Result_结果关系',\n",
       " 'eInf': 'event Inference_推论关系',\n",
       " 'eCond': 'event Condition_条件关系',\n",
       " 'eSupp': 'event Supposition_假设关系',\n",
       " 'eConc': 'event Concession_让步关系',\n",
       " 'eMetd': 'event Method_手段关系',\n",
       " 'ePurp': 'event Purpose_目的关系',\n",
       " 'eAban': 'event Abandonment_割舍关系',\n",
       " 'ePref': 'event Preference_选取关系',\n",
       " 'eSum': 'event Summary_总括关系',\n",
       " 'eRect': 'event Recount_分叙关系',\n",
       " 'mConj': 'Recount Marker_连词标记',\n",
       " 'mAux': 'Auxiliary_的字标记',\n",
       " 'mPrep': 'Preposition_介词标记',\n",
       " 'mTone': 'Tone_语气标记',\n",
       " 'mTime': 'Time_时间标记',\n",
       " 'mRang': 'Range_范围标记',\n",
       " 'mDegr': 'Degree_程度标记',\n",
       " 'mFreq': 'Frequency Marker_频率标记',\n",
       " 'mDir': 'Direction Marker_趋向标记',\n",
       " 'mPars': 'Parenthesis Marker_插入语标记',\n",
       " 'mNeg': 'Negation Marker_否定标记',\n",
       " 'mMod': 'Modal Marker_情态标记',\n",
       " 'mPunc': 'Punctuation Marker_标点标记',\n",
       " 'mPept': 'Repetition Marker_重复标记',\n",
       " 'mMaj': 'Majority Marker_多数标记',\n",
       " 'mVain': 'Vain Marker_实词虚化标记',\n",
       " 'mSepa': 'Seperation Marker_离合标记',\n",
       " 'Root': 'Root_根节点'}"
      ]
     },
     "execution_count": 54,
     "metadata": {},
     "output_type": "execute_result"
    }
   ],
   "source": [
    "term_exprs='''关系类型\tTag\tDescription\tExample\n",
    "施事关系\tAgt\tAgent\t我送她一束花 (我 <-- 送)\n",
    "当事关系\tExp\tExperiencer\t我跑得快 (跑 --> 我)\n",
    "感事关系\tAft\tAffection\t我思念家乡 (思念 --> 我)\n",
    "领事关系\tPoss\tPossessor\t他有一本好读 (他 <-- 有)\n",
    "受事关系\tPat\tPatient\t他打了小明 (打 --> 小明)\n",
    "客事关系\tCont\tContent\t他听到鞭炮声 (听 --> 鞭炮声)\n",
    "成事关系\tProd\tProduct\t他写了本小说 (写 --> 小说)\n",
    "源事关系\tOrig\tOrigin\t我军缴获敌人四辆坦克 (缴获 --> 坦克)\n",
    "涉事关系\tDatv\tDative\t他告诉我个秘密 ( 告诉 --> 我 )\n",
    "比较角色\tComp\tComitative\t他成绩比我好 (他 --> 我)\n",
    "属事角色\tBelg\tBelongings\t老赵有俩女儿 (老赵 <-- 有)\n",
    "类事角色\tClas\tClassification\t他是中学生 (是 --> 中学生)\n",
    "依据角色\tAccd\tAccording\t本庭依法宣判 (依法 <-- 宣判)\n",
    "缘故角色\tReas\tReason\t他在愁女儿婚事 (愁 --> 婚事)\n",
    "意图角色\tInt\tIntention\t为了金牌他拼命努力 (金牌 <-- 努力)\n",
    "结局角色\tCons\tConsequence\t他跑了满头大汗 (跑 --> 满头大汗)\n",
    "方式角色\tMann\tManner\t球慢慢滚进空门 (慢慢 <-- 滚)\n",
    "工具角色\tTool\tTool\t她用砂锅熬粥 (砂锅 <-- 熬粥)\n",
    "材料角色\tMalt\tMaterial\t她用小米熬粥 (小米 <-- 熬粥)\n",
    "材料角色\tMatl\tMaterial\t她用小米熬粥 (小米 <-- 熬粥)\n",
    "时间角色\tTime\tTime\t唐朝有个李白 (唐朝 <-- 有)\n",
    "空间角色\tLoc\tLocation\t这房子朝南 (朝 --> 南)\n",
    "历程角色\tProc\tProcess\t火车正在过长江大桥 (过 --> 大桥)\n",
    "趋向角色\tDir\tDirection\t部队奔向南方 (奔 --> 南)\n",
    "范围角色\tSco\tScope\t产品应该比质量 (比 --> 质量)\n",
    "数量角色\tQuan\tQuantity\t一年有365天 (有 --> 天)\n",
    "数量数组\tQp\tQuantity-phrase\t三本书 (三 --> 本)\n",
    "频率角色\tFreq\tFrequency\t他每天看书 (每天 <-- 看)\n",
    "顺序角色\tSeq\tSequence\t他跑第一 (跑 --> 第一)\n",
    "描写角色\tDesc(Feat)\tDescription\t他长得胖 (长 --> 胖)\n",
    "宿主角色\tHost\tHost\t住房面积 (住房 <-- 面积)\n",
    "名字修饰角色\tNmod\tName-modifier\t果戈里大街 (果戈里 <-- 大街)\n",
    "时间修饰角色\tTmod\tTime-modifier\t星期一上午 (星期一 <-- 上午)\n",
    "反角色\tr + main role\t\t打篮球的小姑娘 (打篮球 <-- 姑娘)\n",
    "嵌套角色\td + main role\t\t爷爷看见孙子在跑 (看见 --> 跑)\n",
    "并列关系\teCoo\tevent Coordination\t我喜欢唱歌和跳舞 (唱歌 --> 跳舞)\n",
    "选择关系\teSelt\tevent Selection\t您是喝茶还是喝咖啡 (茶 --> 咖啡)\n",
    "等同关系\teEqu\tevent Equivalent\t他们三个人一起走 (他们 --> 三个人)\n",
    "先行关系\tePrec\tevent Precedent\t首先，先\n",
    "顺承关系\teSucc\tevent Successor\t随后，然后\n",
    "递进关系\teProg\tevent Progression\t况且，并且\n",
    "转折关系\teAdvt\tevent adversative\t却，然而\n",
    "原因关系\teCau\tevent Cause\t因为，既然\n",
    "结果关系\teResu\tevent Result\t因此，以致\n",
    "推论关系\teInf\tevent Inference\t才，则\n",
    "条件关系\teCond\tevent Condition\t只要，除非\n",
    "假设关系\teSupp\tevent Supposition\t如果，要是\n",
    "让步关系\teConc\tevent Concession\t纵使，哪怕\n",
    "手段关系\teMetd\tevent Method\t\n",
    "目的关系\tePurp\tevent Purpose\t为了，以便\n",
    "割舍关系\teAban\tevent Abandonment\t与其，也不\n",
    "选取关系\tePref\tevent Preference\t不如，宁愿\n",
    "总括关系\teSum\tevent Summary\t总而言之\n",
    "分叙关系\teRect\tevent Recount\t例如，比方说\n",
    "连词标记\tmConj\tRecount Marker\t和，或\n",
    "的字标记\tmAux\tAuxiliary\t的，地，得\n",
    "介词标记\tmPrep\tPreposition\t把，被\n",
    "语气标记\tmTone\tTone\t吗，呢\n",
    "时间标记\tmTime\tTime\t才，曾经\n",
    "范围标记\tmRang\tRange\t都，到处\n",
    "程度标记\tmDegr\tDegree\t很，稍微\n",
    "频率标记\tmFreq\tFrequency Marker\t再，常常\n",
    "趋向标记\tmDir\tDirection Marker\t上去，下来\n",
    "插入语标记\tmPars\tParenthesis Marker\t总的来说，众所周知\n",
    "否定标记\tmNeg\tNegation Marker\t不，没，未\n",
    "情态标记\tmMod\tModal Marker\t幸亏，会，能\n",
    "标点标记\tmPunc\tPunctuation Marker\t，。！\n",
    "重复标记\tmPept\tRepetition Marker\t走啊走 (走 --> 走)\n",
    "多数标记\tmMaj\tMajority Marker\t们，等\n",
    "实词虚化标记\tmVain\tVain Marker\t\n",
    "离合标记\tmSepa\tSeperation Marker\t吃了个饭 (吃 --> 饭) 洗了个澡 (洗 --> 澡)\n",
    "根节点\tRoot\tRoot\t全句核心节点'''.split('\\n')\n",
    "rows=[r.split('\\t') for r in term_exprs]\n",
    "terms_map={t[1]:f\"{t[2]}_{t[0]}\" for t in rows}\n",
    "terms_map"
   ]
  },
  {
   "cell_type": "code",
   "execution_count": 55,
   "metadata": {
    "ExecuteTime": {
     "end_time": "2020-06-17T12:30:47.036894Z",
     "start_time": "2020-06-17T12:30:46.912786Z"
    }
   },
   "outputs": [
    {
     "name": "stdout",
     "output_type": "stream",
     "text": [
      "_(): 。\n",
      "└── Root(Root_根节点): 叫\n",
      "    ├── Agt(Agent_施事关系): 他\n",
      "    ├── Datv(Dative_涉事关系): 汤姆\n",
      "    └── eEfft(_): 去\n",
      "        └── eEfft(_): 拿\n",
      "            └── Pat(Patient_受事关系): 外衣\n"
     ]
    }
   ],
   "source": [
    "from anytree import Node, RenderTree\n",
    "nodecls=AnalKgNode\n",
    "def build_tree(sents, verbose=True, lang='zh'):\n",
    "    if not sents.endswith(('.', '?', '。', '？', '！')):\n",
    "        sents=sents+'.'\n",
    "    seg, hidden = ltp.seg([sents])\n",
    "    words=seg[0]\n",
    "    nodes = [nodecls(word, lang=lang) for word in words]\n",
    "    sdp = ltp.sdp(hidden, graph=False)\n",
    "    root=None\n",
    "    for start, end, tag in sdp[0]:\n",
    "        if verbose:\n",
    "            print(seg[0][start-1],f\"({tag})\", seg[0][end-1])\n",
    "        if tag=='mPunc':\n",
    "            continue\n",
    "        nodes[start-1].parent=nodes[end-1]\n",
    "        nodes[start-1].term=tag\n",
    "        if tag in terms_map:\n",
    "            nodes[start-1].description=terms_map[tag]\n",
    "        else:\n",
    "            nodes[start-1].description='_'\n",
    "        if tag=='Root':\n",
    "            root=nodes[end-1]\n",
    "        \n",
    "    return root\n",
    "\n",
    "def print_sdp(sents, detail=True, verbose=False, lang='zh'):\n",
    "    root=build_tree(sents, verbose=verbose)\n",
    "    for pre, _, node in RenderTree(root):\n",
    "        print(\"%s%s(%s): %s\" % (pre, node.term, \n",
    "                                node.description if detail else '_', \n",
    "                                node.name))\n",
    "# print(RenderTree(self, style=AsciiStyle()).by_attr(\n",
    "#             lambda n: f\"{n.dependency_relation}: {n.text} \"\n",
    "#                       f\"({additional(n)}, {n.upos.lower()})\"))\n",
    "\n",
    "print_sdp('他叫汤姆去拿外衣。')"
   ]
  },
  {
   "cell_type": "code",
   "execution_count": 38,
   "metadata": {
    "ExecuteTime": {
     "end_time": "2020-06-17T12:06:16.035582Z",
     "start_time": "2020-06-17T12:06:15.919803Z"
    }
   },
   "outputs": [
    {
     "name": "stdout",
     "output_type": "stream",
     "text": [
      "唐朝 (Time) 有\n",
      "有 (Root) .\n",
      "个 (Meas) 李白\n",
      "李白 (Exp) 有\n",
      ". (mPunc) 有\n",
      "_(): .\n",
      "└── Root(Root_根节点): 有\n",
      "    ├── Time(Time_时间角色): 唐朝\n",
      "    └── Exp(Experiencer_当事关系): 李白\n",
      "        └── Meas(_): 个\n"
     ]
    }
   ],
   "source": [
    "print_sdp('唐朝有个李白', True)"
   ]
  },
  {
   "cell_type": "code",
   "execution_count": 45,
   "metadata": {
    "ExecuteTime": {
     "end_time": "2020-06-17T12:11:50.660101Z",
     "start_time": "2020-06-17T12:11:50.556514Z"
    }
   },
   "outputs": [
    {
     "name": "stdout",
     "output_type": "stream",
     "text": [
      "我 (Agt) 喜欢\n",
      "喜欢 (Root) .\n",
      "唱歌 (dCont) 喜欢\n",
      "和 (mRela) 跳舞\n",
      "跳舞 (eSymm) 唱歌\n",
      ". (mPunc) 喜欢\n",
      "_(): .\n",
      "└── Root(Root_根节点): 喜欢\n",
      "    ├── Agt(Agent_施事关系): 我\n",
      "    └── dCont(_): 唱歌\n",
      "        └── eSymm(_): 跳舞\n",
      "            └── mRela(_): 和\n"
     ]
    }
   ],
   "source": [
    "print_sdp('我喜欢唱歌和跳舞', True, True)"
   ]
  },
  {
   "cell_type": "code",
   "execution_count": 40,
   "metadata": {
    "ExecuteTime": {
     "end_time": "2020-06-17T12:08:28.434351Z",
     "start_time": "2020-06-17T12:08:28.335746Z"
    }
   },
   "outputs": [
    {
     "name": "stdout",
     "output_type": "stream",
     "text": [
      "您 (Agt) 喝茶\n",
      "是 (mRela) 喝茶\n",
      "喝茶 (Root) .\n",
      "还是 (mRela) 喝\n",
      "喝 (eSymm) 喝茶\n",
      "咖啡 (Pat) 喝\n",
      ". (mPunc) 喝\n",
      "_(): .\n",
      "└── Root(Root_根节点): 喝茶\n",
      "    ├── Agt(Agent_施事关系): 您\n",
      "    ├── mRela(_): 是\n",
      "    └── eSymm(_): 喝\n",
      "        ├── mRela(_): 还是\n",
      "        └── Pat(Patient_受事关系): 咖啡\n"
     ]
    }
   ],
   "source": [
    "print_sdp('您是喝茶还是喝咖啡 ')"
   ]
  },
  {
   "cell_type": "code",
   "execution_count": 46,
   "metadata": {
    "ExecuteTime": {
     "end_time": "2020-06-17T12:11:56.604994Z",
     "start_time": "2020-06-17T12:11:56.509498Z"
    }
   },
   "outputs": [
    {
     "name": "stdout",
     "output_type": "stream",
     "text": [
      "_(): .\n",
      "└── Root(Root_根节点): 走\n",
      "    ├── Agt(Agent_施事关系): 人\n",
      "    │   ├── Exp(Experiencer_当事关系): 他们\n",
      "    │   └── Meas(_): 个\n",
      "    │       └── Meas(_): 三\n",
      "    └── Mann(Manner_方式角色): 一起\n"
     ]
    }
   ],
   "source": [
    "print_sdp('他们三个人一起走 ')"
   ]
  },
  {
   "cell_type": "code",
   "execution_count": 47,
   "metadata": {
    "ExecuteTime": {
     "end_time": "2020-06-17T12:13:05.819773Z",
     "start_time": "2020-06-17T12:13:05.697773Z"
    }
   },
   "outputs": [
    {
     "name": "stdout",
     "output_type": "stream",
     "text": [
      "_(): .\n",
      "└── Root(Root_根节点): 是\n",
      "    ├── Exp(Experiencer_当事关系): 面积\n",
      "    │   └── Mod(_): 住房\n",
      "    │       └── Exp(Experiencer_当事关系): 我家\n",
      "    │           └── mDepd(_): 的\n",
      "    └── Meas(_): 平米\n",
      "        └── Meas(_): 80\n"
     ]
    }
   ],
   "source": [
    "print_sdp('我家的住房面积是80平米')"
   ]
  },
  {
   "cell_type": "code",
   "execution_count": 50,
   "metadata": {
    "ExecuteTime": {
     "end_time": "2020-06-17T12:17:13.351716Z",
     "start_time": "2020-06-17T12:17:13.068879Z"
    }
   },
   "outputs": [
    {
     "name": "stdout",
     "output_type": "stream",
     "text": [
      "_(): .\n",
      "└── Root(Root_根节点): 长\n",
      "    ├── Exp(Experiencer_当事关系): 他\n",
      "    ├── mDepd(_): 得\n",
      "    └── Mod(_): 胖\n",
      "_(): .\n",
      "└── Root(Root_根节点): 跑\n",
      "    ├── Agt(Agent_施事关系): 他\n",
      "    └── Meas(_): 第一\n",
      "_(): .\n",
      "└── Root(Root_根节点): 看\n",
      "    ├── Agt(Agent_施事关系): 他\n",
      "    ├── Meas(_): 每天\n",
      "    └── Cont(Content_客事关系): 书\n",
      "_(): .\n",
      "└── Root(Root_根节点): 努力\n",
      "    ├── Datv(Dative_涉事关系): 金牌\n",
      "    │   └── mRela(_): 为了\n",
      "    ├── Agt(Agent_施事关系): 他\n",
      "    └── mNeg(Negation Marker_否定标记): 拼命\n"
     ]
    }
   ],
   "source": [
    "sents=['他长得胖', '他跑第一', '他每天看书 ', '为了金牌他拼命努力']\n",
    "for s in sents:\n",
    "    print_sdp(s)"
   ]
  },
  {
   "cell_type": "code",
   "execution_count": 60,
   "metadata": {
    "ExecuteTime": {
     "end_time": "2020-06-17T12:33:02.819204Z",
     "start_time": "2020-06-17T12:33:02.389891Z"
    }
   },
   "outputs": [
    {
     "name": "stdout",
     "output_type": "stream",
     "text": [
      "_(): 。\n",
      "└── Root(Root_根节点): 吃\n",
      "    ├── Agt(Agent_施事关系): 我\n",
      "    ├── mDepd(_): 了\n",
      "    └── Pat(Patient_受事关系): 冰淇淋\n",
      "        ├── Meas(_): 个\n",
      "        └── Mod(_): 味\n",
      "            └── Mod(_): 巧克力\n",
      "_(): 。\n",
      "└── Root(Root_根节点): 去\n",
      "    ├── Time(Time_时间角色): 今天\n",
      "    ├── Agt(Agent_施事关系): 我\n",
      "    ├── Loc(Location_空间角色): 电影院\n",
      "    └── eEfft(_): 看\n",
      "        ├── mDepd(_): 了\n",
      "        └── Cont(Content_客事关系): 巧克力\n",
      "            └── Mod(_): 浓情\n",
      "_(): .\n",
      "└── Root(Root_根节点): 熬粥\n",
      "    ├── Agt(Agent_施事关系): 她\n",
      "    └── Matl(Material_材料角色): 小米\n",
      "        └── mRela(_): 用\n",
      "_(): .\n",
      "└── Root(Root_根节点): 熬粥\n",
      "    ├── Agt(Agent_施事关系): 她\n",
      "    └── Tool(Tool_工具角色): 砂锅\n",
      "        ├── mRela(_): 用\n",
      "        └── Mod(_): 美\n",
      "            └── mDepd(_): 的\n",
      "_(): .\n",
      "└── Root(Root_根节点): 缴获\n",
      "    ├── Agt(Agent_施事关系): 我军\n",
      "    └── Pat(Patient_受事关系): 坦克\n",
      "        ├── Exp(Experiencer_当事关系): 敌人\n",
      "        └── Meas(_): 辆\n",
      "            └── Meas(_): 四\n"
     ]
    }
   ],
   "source": [
    "sents=['我吃了个巧克力味冰淇淋。', '今天我去电影院看了浓情巧克力。', \n",
    "       '她用小米熬粥', '她用美的砂锅熬粥', '我军缴获敌人四辆坦克']\n",
    "for s in sents:\n",
    "    print_sdp(s)"
   ]
  },
  {
   "cell_type": "code",
   "execution_count": 66,
   "metadata": {
    "ExecuteTime": {
     "end_time": "2020-06-17T12:43:20.804173Z",
     "start_time": "2020-06-17T12:43:20.452021Z"
    }
   },
   "outputs": [
    {
     "name": "stdout",
     "output_type": "stream",
     "text": [
      "_(): .\n",
      "└── Root(Root_根节点): 冬天\n",
      "    └── Mod(_): 一九九五年\n",
      "_(): .\n",
      "└── Root(Root_根节点): 冷\n",
      "    ├── Exp(Experiencer_当事关系): 冬天\n",
      "    │   └── Time(Time_时间角色): 一九九五年\n",
      "    │       └── mDepd(_): 的\n",
      "    └── mDepd(_): 很\n",
      "_(): .\n",
      "└── Root(Root_根节点): 是\n",
      "    ├── Exp(Experiencer_当事关系): 一九九五年\n",
      "    └── Link(_): 年\n",
      "        ├── Mod(_): 倒霉\n",
      "        │   ├── Exp(Experiencer_当事关系): 他\n",
      "        │   └── mDepd(_): 的\n",
      "        └── Meas(_): 一\n",
      "_(): .\n",
      "└── Root(Root_根节点): 说\n",
      "    ├── Agt(Agent_施事关系): 他\n",
      "    └── dCont(_): 是\n",
      "        ├── Exp(Experiencer_当事关系): 生日\n",
      "        │   └── Exp(Experiencer_当事关系): 他\n",
      "        │       └── mDepd(_): 的\n",
      "        └── Link(_): 二日\n",
      "            └── Mod(_): 九月\n"
     ]
    }
   ],
   "source": [
    "sents=['一九九五年冬天', '一九九五年的冬天很冷', \n",
    "       '一九九五年是他倒霉的一年', '他说他的生日是九月二日']\n",
    "for s in sents:\n",
    "    print_sdp(s)"
   ]
  },
  {
   "cell_type": "code",
   "execution_count": 1,
   "metadata": {
    "ExecuteTime": {
     "end_time": "2020-06-16T00:37:59.716545Z",
     "start_time": "2020-06-16T00:37:34.527120Z"
    }
   },
   "outputs": [
    {
     "data": {
      "text/plain": [
       "[[(1, 2, 'Agt'),\n",
       "  (2, 0, 'Root'),\n",
       "  (3, 2, 'Datv'),\n",
       "  (4, 2, 'eEfft'),\n",
       "  (5, 4, 'eEfft'),\n",
       "  (6, 5, 'Pat'),\n",
       "  (7, 2, 'mPunc')]]"
      ]
     },
     "execution_count": 1,
     "metadata": {},
     "output_type": "execute_result"
    }
   ],
   "source": [
    "from ltp import LTP\n",
    "\n",
    "ltp = LTP()\n",
    "\n",
    "seg, hidden = ltp.seg([\"他叫汤姆去拿外衣。\"])\n",
    "sdp = ltp.sdp(hidden, graph=False)\n",
    "sdp"
   ]
  },
  {
   "cell_type": "code",
   "execution_count": 2,
   "metadata": {
    "ExecuteTime": {
     "end_time": "2020-06-16T00:38:32.345619Z",
     "start_time": "2020-06-16T00:38:32.257173Z"
    }
   },
   "outputs": [
    {
     "data": {
      "text/plain": [
       "[[(1, 2, 'Agt'),\n",
       "  (2, 0, 'Root'),\n",
       "  (3, 2, 'Datv'),\n",
       "  (3, 4, 'Agt'),\n",
       "  (3, 5, 'Agt'),\n",
       "  (4, 2, 'eEfft'),\n",
       "  (5, 4, 'eEfft'),\n",
       "  (6, 5, 'Pat'),\n",
       "  (7, 2, 'mPunc')]]"
      ]
     },
     "execution_count": 2,
     "metadata": {},
     "output_type": "execute_result"
    }
   ],
   "source": [
    "seg, hidden = ltp.seg([\"他叫汤姆去拿外衣。\"])\n",
    "sdp = ltp.sdp(hidden, graph=True)\n",
    "sdp"
   ]
  },
  {
   "cell_type": "code",
   "execution_count": 11,
   "metadata": {
    "ExecuteTime": {
     "end_time": "2020-06-16T01:02:31.224864Z",
     "start_time": "2020-06-16T01:02:30.937779Z"
    }
   },
   "outputs": [
    {
     "name": "stdout",
     "output_type": "stream",
     "text": [
      "打篮球的小姑娘 [[(1, 4, 'rAgt'), (2, 1, 'Pat'), (3, 1, 'mDepd'), (4, 0, 'Root')]]\n",
      "他听到鞭炮声 [[(1, 2, 'Agt'), (2, 0, 'Root'), (3, 2, 'Cont')]]\n",
      "他写了本小说 [[(1, 2, 'Agt'), (2, 0, 'Root'), (3, 2, 'mDepd'), (4, 5, 'Meas'), (5, 2, 'Prod')]]\n",
      "周杰伦的出生日期是哪天 [[(1, 4, 'Exp'), (2, 1, 'mDepd'), (3, 4, 'rTime'), (4, 5, 'Exp'), (5, 0, 'Root'), (6, 7, 'Sco'), (7, 5, 'Link')]]\n"
     ]
    }
   ],
   "source": [
    "# seg, hidden = ltp.seg([\"我军缴获敌人四辆坦克\"])\n",
    "# seg, hidden = ltp.seg([\"这房子朝南\"])\n",
    "sents=['打篮球的小姑娘', '他听到鞭炮声', '他写了本小说', '周杰伦的出生日期是哪天']\n",
    "for s in sents:\n",
    "    seg, hidden = ltp.seg([s])\n",
    "    sdp = ltp.sdp(hidden, graph=False)\n",
    "    print(s, sdp)"
   ]
  },
  {
   "cell_type": "code",
   "execution_count": 15,
   "metadata": {
    "ExecuteTime": {
     "end_time": "2020-06-16T06:28:37.407578Z",
     "start_time": "2020-06-16T06:28:37.364553Z"
    }
   },
   "outputs": [
    {
     "data": {
      "text/plain": [
       "([['他', '叫', '汤姆', '去', '拿', '外衣', '。']],\n",
       " [['r', 'v', 'nh', 'v', 'v', 'n', 'wp']],\n",
       " [[('Nh', 2, 2)]])"
      ]
     },
     "execution_count": 15,
     "metadata": {},
     "output_type": "execute_result"
    }
   ],
   "source": [
    "seg, hidden = ltp.seg([\"他叫汤姆去拿外衣。\"])\n",
    "pos = ltp.pos(hidden)\n",
    "seg, pos, ltp.ner(hidden)"
   ]
  },
  {
   "cell_type": "code",
   "execution_count": 17,
   "metadata": {
    "ExecuteTime": {
     "end_time": "2020-06-16T06:31:28.160725Z",
     "start_time": "2020-06-16T06:31:28.146973Z"
    }
   },
   "outputs": [
    {
     "name": "stdout",
     "output_type": "stream",
     "text": [
      "Nh : 汤姆\n"
     ]
    }
   ],
   "source": [
    "ners=ltp.ner(hidden)\n",
    "for tag, start, end in ners[0]:\n",
    "    print(tag,\":\", \"\".join(seg[0][start:end + 1]))"
   ]
  },
  {
   "cell_type": "code",
   "execution_count": 40,
   "metadata": {
    "ExecuteTime": {
     "end_time": "2020-06-16T08:07:54.947559Z",
     "start_time": "2020-06-16T08:07:54.869987Z"
    }
   },
   "outputs": [
    {
     "name": "stdout",
     "output_type": "stream",
     "text": [
      "叫 [('A1', 1, 1), ('A2', 2, 6)]\n",
      "\t A1 : 汤姆\n",
      "\t A2 : 在中午去拿外衣\n",
      "汤姆 []\n",
      "在 []\n",
      "中午 []\n",
      "去 []\n",
      "拿 [('A0', 1, 1), ('ARGM-TMP', 2, 3), ('A1', 6, 6)]\n",
      "\t A0 : 汤姆\n",
      "\t ARGM-TMP : 在中午\n",
      "\t A1 : 外衣\n",
      "外衣 []\n",
      "。 []\n"
     ]
    }
   ],
   "source": [
    "def print_args(sents):\n",
    "    seg, hidden = ltp.seg([sents])\n",
    "    srl=ltp.srl(hidden)\n",
    "    for tok, term in zip(seg[0], srl[0]):\n",
    "        print(tok, term)\n",
    "        for tag, start, end in term:\n",
    "            print('\\t', tag, \":\", \"\".join(seg[0][start:end + 1]))\n",
    "\n",
    "print_args(\"叫汤姆在中午去拿外衣。\")"
   ]
  },
  {
   "cell_type": "code",
   "execution_count": 41,
   "metadata": {
    "ExecuteTime": {
     "end_time": "2020-06-16T08:08:15.310813Z",
     "start_time": "2020-06-16T08:08:15.240439Z"
    }
   },
   "outputs": [
    {
     "name": "stdout",
     "output_type": "stream",
     "text": [
      "叫 [('A1', 1, 1), ('A2', 2, 4)]\n",
      "\t A1 : 汤姆\n",
      "\t A2 : 不要拿外衣\n",
      "汤姆 []\n",
      "不要 []\n",
      "拿 [('A0', 1, 1), ('ARGM-ADV', 2, 2), ('A1', 4, 4)]\n",
      "\t A0 : 汤姆\n",
      "\t ARGM-ADV : 不要\n",
      "\t A1 : 外衣\n",
      "外衣 []\n",
      "。 []\n"
     ]
    }
   ],
   "source": [
    "print_args(\"叫汤姆不要拿外衣。\")"
   ]
  },
  {
   "cell_type": "code",
   "execution_count": 23,
   "metadata": {
    "ExecuteTime": {
     "end_time": "2020-06-16T06:43:41.049542Z",
     "start_time": "2020-06-16T06:43:41.042876Z"
    }
   },
   "outputs": [
    {
     "data": {
      "text/plain": [
       "'叫'"
      ]
     },
     "execution_count": 23,
     "metadata": {},
     "output_type": "execute_result"
    }
   ],
   "source": [
    "seg[0][1]"
   ]
  },
  {
   "cell_type": "code",
   "execution_count": 29,
   "metadata": {
    "ExecuteTime": {
     "end_time": "2020-06-16T07:16:58.642264Z",
     "start_time": "2020-06-16T07:16:58.543278Z"
    }
   },
   "outputs": [
    {
     "name": "stdout",
     "output_type": "stream",
     "text": [
      "他 (Agt) 叫\n",
      "叫 (Root) 。\n",
      "汤姆 (Datv) 叫\n",
      "去 (eEfft) 叫\n",
      "拿 (eEfft) 去\n",
      "外衣 (Pat) 拿\n",
      "。 (mPunc) 叫\n"
     ]
    }
   ],
   "source": [
    "def proc_sents(sents):\n",
    "    seg, hidden = ltp.seg([sents])\n",
    "    sdp = ltp.sdp(hidden, graph=False)\n",
    "    for start, end, tag in sdp[0]:\n",
    "        print(seg[0][start-1],f\"({tag})\", seg[0][end-1])\n",
    "\n",
    "proc_sents(\"他叫汤姆去拿外衣。\")"
   ]
  },
  {
   "cell_type": "code",
   "execution_count": null,
   "metadata": {},
   "outputs": [],
   "source": []
  },
  {
   "cell_type": "code",
   "execution_count": 31,
   "metadata": {
    "ExecuteTime": {
     "end_time": "2020-06-16T07:17:32.570552Z",
     "start_time": "2020-06-16T07:17:32.474832Z"
    }
   },
   "outputs": [
    {
     "name": "stdout",
     "output_type": "stream",
     "text": [
      "他 (Agt) 打\n",
      "打 (Root) 。\n",
      "了 (mDepd) 打\n",
      "小明 (Pat) 打\n",
      "。 (mPunc) 打\n"
     ]
    }
   ],
   "source": [
    "proc_sents(\"他打了小明。\")"
   ]
  },
  {
   "cell_type": "code",
   "execution_count": 34,
   "metadata": {
    "ExecuteTime": {
     "end_time": "2020-06-16T07:19:02.419315Z",
     "start_time": "2020-06-16T07:19:02.253741Z"
    }
   },
   "outputs": [
    {
     "name": "stdout",
     "output_type": "stream",
     "text": [
      "小明 (Pat) 打\n",
      "被 (mRela) 他\n",
      "他 (Agt) 打\n",
      "打 (Root) 。\n",
      "了 (mDepd) 打\n",
      "。 (mPunc) 打\n",
      "***************\n",
      "他 (Agt) 打\n",
      "打 (Root) 。\n",
      "了 (mDepd) 打\n",
      "小明 (Pat) 打\n",
      "一 (Meas) 拳\n",
      "拳 (Meas) 打\n",
      "。 (mPunc) 打\n"
     ]
    }
   ],
   "source": [
    "proc_sents(\"小明被他打了。\")\n",
    "print('*'*15)\n",
    "proc_sents(\"他打了小明一拳。\")"
   ]
  },
  {
   "cell_type": "code",
   "execution_count": 42,
   "metadata": {
    "ExecuteTime": {
     "end_time": "2020-06-17T11:09:42.628696Z",
     "start_time": "2020-06-17T11:09:42.491597Z"
    }
   },
   "outputs": [
    {
     "data": {
      "text/plain": [
       "[[[('A1', 1, 1), ('A2', 2, 6)],\n",
       "  [],\n",
       "  [],\n",
       "  [],\n",
       "  [],\n",
       "  [('A0', 1, 1), ('ARGM-TMP', 2, 3), ('A1', 6, 6)],\n",
       "  [],\n",
       "  []]]"
      ]
     },
     "execution_count": 42,
     "metadata": {},
     "output_type": "execute_result"
    }
   ],
   "source": [
    "# ltp.srl(hidden, keep_empty=False)\n",
    "ltp.srl(hidden)"
   ]
  }
 ],
 "metadata": {
  "kernelspec": {
   "display_name": "Python 3",
   "language": "python",
   "name": "python3"
  },
  "language_info": {
   "codemirror_mode": {
    "name": "ipython",
    "version": 3
   },
   "file_extension": ".py",
   "mimetype": "text/x-python",
   "name": "python",
   "nbconvert_exporter": "python",
   "pygments_lexer": "ipython3",
   "version": "3.7.7"
  },
  "varInspector": {
   "cols": {
    "lenName": 16,
    "lenType": 16,
    "lenVar": 40
   },
   "kernels_config": {
    "python": {
     "delete_cmd_postfix": "",
     "delete_cmd_prefix": "del ",
     "library": "var_list.py",
     "varRefreshCmd": "print(var_dic_list())"
    },
    "r": {
     "delete_cmd_postfix": ") ",
     "delete_cmd_prefix": "rm(",
     "library": "var_list.r",
     "varRefreshCmd": "cat(var_dic_list()) "
    }
   },
   "types_to_exclude": [
    "module",
    "function",
    "builtin_function_or_method",
    "instance",
    "_Feature"
   ],
   "window_display": false
  }
 },
 "nbformat": 4,
 "nbformat_minor": 4
}
