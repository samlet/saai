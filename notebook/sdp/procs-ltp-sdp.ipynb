{
 "cells": [
  {
   "cell_type": "code",
   "execution_count": 5,
   "metadata": {
    "ExecuteTime": {
     "end_time": "2020-06-22T12:34:43.691262Z",
     "start_time": "2020-06-22T12:34:43.685750Z"
    }
   },
   "outputs": [],
   "source": [
    "from anytree.node.nodemixin import NodeMixin"
   ]
  },
  {
   "cell_type": "code",
   "execution_count": 1,
   "metadata": {
    "ExecuteTime": {
     "end_time": "2020-06-27T15:27:06.258741Z",
     "start_time": "2020-06-27T15:27:02.116766Z"
    }
   },
   "outputs": [],
   "source": [
    "# from ltp import LTP\n",
    "# ltp = LTP()"
   ]
  },
  {
   "cell_type": "code",
   "execution_count": 1,
   "metadata": {
    "ExecuteTime": {
     "end_time": "2020-06-27T15:33:52.575571Z",
     "start_time": "2020-06-27T15:33:48.403027Z"
    }
   },
   "outputs": [],
   "source": [
    "import os, torch\n",
    "from ltp import LTP\n",
    "from ltp.ltp import no_gard\n",
    "from ltp.utils.seqeval import get_entities\n",
    "class LtpExt(LTP):\n",
    "    @no_gard\n",
    "    def ner_bio(self, hidden: dict):\n",
    "        # 命名实体识别\n",
    "        word_length = torch.as_tensor(hidden['word_length'], device=self.device)\n",
    "        ner_output = self.model.ner_decoder(hidden['word_input'], word_length)\n",
    "        ner_output = torch.argmax(ner_output, dim=-1).cpu().numpy()\n",
    "        ner_output = self._convert_idx_to_name(ner_output, hidden['word_length'], self.ner_vocab)\n",
    "        # return [get_entities(ner) for ner in ner_output]\n",
    "        return ner_output\n",
    "\n",
    "ltp=LtpExt()"
   ]
  },
  {
   "cell_type": "code",
   "execution_count": 32,
   "metadata": {
    "ExecuteTime": {
     "end_time": "2020-06-27T15:08:14.847380Z",
     "start_time": "2020-06-27T15:08:14.796891Z"
    }
   },
   "outputs": [
    {
     "name": "stdout",
     "output_type": "stream",
     "text": [
      "[['他', '叫', '汤姆', '去', '拿', '外衣', '。']]\n"
     ]
    },
    {
     "data": {
      "text/plain": [
       "[['O', 'O', 'S-Nh', 'O', 'O', 'O', 'O']]"
      ]
     },
     "execution_count": 32,
     "metadata": {},
     "output_type": "execute_result"
    }
   ],
   "source": [
    "sents=\"他叫汤姆去拿外衣。\"\n",
    "seg, hidden = ltp.seg([sents])\n",
    "print(seg)\n",
    "# hidden\n",
    "ltp.ner_bio(hidden)"
   ]
  },
  {
   "cell_type": "code",
   "execution_count": 33,
   "metadata": {
    "ExecuteTime": {
     "end_time": "2020-06-27T15:08:57.956931Z",
     "start_time": "2020-06-27T15:08:57.842438Z"
    }
   },
   "outputs": [
    {
     "data": {
      "text/plain": [
       "[[('Nh', 2, 2)]]"
      ]
     },
     "execution_count": 33,
     "metadata": {},
     "output_type": "execute_result"
    }
   ],
   "source": [
    "ltp.ner(hidden)"
   ]
  },
  {
   "cell_type": "code",
   "execution_count": 2,
   "metadata": {
    "ExecuteTime": {
     "end_time": "2020-06-27T15:33:57.118346Z",
     "start_time": "2020-06-27T15:33:57.098252Z"
    }
   },
   "outputs": [
    {
     "data": {
      "text/plain": [
       "['他叫汤姆去拿外衣。', '汤姆生病了。', '他去了医院。']"
      ]
     },
     "execution_count": 2,
     "metadata": {},
     "output_type": "execute_result"
    }
   ],
   "source": [
    "# import ltp as ltpns\n",
    "sents = ltp.sent_split([\"他叫汤姆去拿外衣。\", \"汤姆生病了。他去了医院。\"])\n",
    "sents"
   ]
  },
  {
   "cell_type": "code",
   "execution_count": 8,
   "metadata": {
    "ExecuteTime": {
     "end_time": "2020-06-22T12:34:44.834873Z",
     "start_time": "2020-06-22T12:34:44.826915Z"
    }
   },
   "outputs": [],
   "source": [
    "from typing import Text, Any, Dict, List, Union, Optional, Tuple, Set\n",
    "from anytree.node.nodemixin import NodeMixin\n",
    "from anytree.node.util import _repr\n",
    "class AnalBaseNode(NodeMixin, object):\n",
    "    name: str\n",
    "\n",
    "    tags: Set[Text]={}\n",
    "    term: str='_'\n",
    "    description: str=''\n",
    "\n",
    "    def __init__(self, name, parent=None, children=None, **kwargs):\n",
    "        self.name=name\n",
    "        self.__dict__.update(kwargs)        \n",
    "        self.parent = parent\n",
    "        if children:\n",
    "            self.children = children\n",
    "\n",
    "    def __repr__(self):\n",
    "        return _repr(self)\n",
    "\n",
    "class AnalKgNode(AnalBaseNode):\n",
    "    def __repr__(self):\n",
    "        return _repr(self)"
   ]
  },
  {
   "cell_type": "code",
   "execution_count": 3,
   "metadata": {
    "ExecuteTime": {
     "end_time": "2020-06-27T13:00:46.894421Z",
     "start_time": "2020-06-27T13:00:46.802657Z"
    }
   },
   "outputs": [
    {
     "name": "stdout",
     "output_type": "stream",
     "text": [
      "[['他', '叫', '汤姆', '去', '拿', '外衣', '。']]\n"
     ]
    },
    {
     "data": {
      "text/plain": [
       "{'word_cls': tensor([[[-3.8648e-01, -3.1556e-01,  3.4055e-01,  5.5514e-01, -3.5819e-01,\n",
       "            2.4156e-01,  3.7879e+00, -2.7905e-01, -2.9810e-02,  3.8253e-01,\n",
       "            3.1881e-01, -9.3869e-02,  2.3798e-01, -3.1773e-01,  4.0632e-01,\n",
       "            2.6014e-01,  1.3534e-01, -1.7425e-01,  4.1107e-01,  1.9668e-01,\n",
       "           -4.1747e-01, -4.8434e-02, -1.1819e-01, -4.2857e-01,  1.5762e-01,\n",
       "           -1.6501e-01,  6.4266e-01, -1.6018e-01, -8.4843e-02,  5.5382e-02,\n",
       "           -2.3941e-01,  1.7425e-04, -9.9947e-03,  3.1917e-01, -1.9612e-01,\n",
       "           -8.2507e-02, -2.3384e-01, -2.2817e-01,  4.3930e-02,  1.7800e-01,\n",
       "            3.8812e-01,  3.2865e-01, -1.0002e-01, -2.0737e-01,  2.0631e-01,\n",
       "            4.0198e-01, -2.3285e-01,  2.0695e-01,  6.8277e-02,  1.6078e-01,\n",
       "            1.6904e-02, -1.5677e-01,  2.4631e-01,  2.1048e-01,  6.3682e-02,\n",
       "            8.8806e-02, -4.1405e-01, -2.1406e-01,  2.7013e-01,  8.4621e-02,\n",
       "            4.3258e-02, -2.8607e-01,  8.0837e-01,  3.8348e-01, -2.1228e-01,\n",
       "           -1.7574e-01,  2.9555e-01,  6.0981e-02,  5.6245e-01, -3.2161e-01,\n",
       "            1.7579e-02,  5.9626e-04,  9.5520e-02,  8.4147e-02,  3.4605e-01,\n",
       "            4.2313e-01, -7.4969e-02, -1.8231e-01, -2.2409e-02, -3.1610e-01,\n",
       "            1.8988e-01,  7.7914e-02,  2.7632e-02,  2.5377e-01,  3.3722e-01,\n",
       "           -4.5723e-02, -4.0027e-01, -2.8760e-01,  4.2956e-01,  5.8797e-01,\n",
       "           -3.1761e-01,  1.4835e-01,  2.8316e-01, -4.5463e-02,  3.7052e-01,\n",
       "           -1.7439e-01, -2.2718e-01,  6.7450e-01, -1.0653e-02, -3.2719e-01,\n",
       "            3.6286e-01, -3.3144e-01,  3.0746e-01, -1.4734e-01,  1.4087e-01,\n",
       "            4.1807e-01, -3.1329e-01, -4.2494e-01, -1.3983e-01,  3.3161e-01,\n",
       "            4.9987e-01,  4.1175e-01, -2.5728e-01, -1.9072e-01, -1.1050e-01,\n",
       "            1.9846e-01, -2.9499e-01, -5.5936e-02, -5.6377e-02,  8.8204e-02,\n",
       "           -2.0466e-01, -3.6083e-01,  6.8767e-01,  7.0825e-02,  1.9783e-01,\n",
       "            1.0298e-01, -1.5537e-01, -2.0383e-01, -4.8672e-02, -2.9832e-01,\n",
       "           -1.6389e-01, -1.2128e-01,  4.9280e-01,  1.2441e-01,  1.5861e-01,\n",
       "           -3.6011e-01, -4.0009e-01,  7.7423e-01, -1.4262e-01,  4.6412e-01,\n",
       "            3.7592e-01, -4.2374e-01, -1.1227e-01, -4.2699e-01,  4.0882e-01,\n",
       "            4.3912e-01, -1.1379e-01,  5.7962e-01,  1.6054e-01, -1.5517e-02,\n",
       "           -5.6338e-02, -1.1443e-01, -1.1629e-01, -1.1648e-01,  2.0096e-01,\n",
       "            1.3479e-01,  4.0830e-01,  4.3603e-01, -2.4127e-02,  5.8045e-02,\n",
       "            1.9063e-01, -2.2785e-01,  4.1487e-02,  1.9712e-01, -1.7730e-01,\n",
       "            4.3331e-01,  2.8099e-01,  3.9992e-02,  8.0197e-02,  4.4424e-01,\n",
       "           -2.1857e-01, -2.1480e-01, -1.0138e-01,  1.5871e-01,  1.2346e-01,\n",
       "            4.4857e-01,  4.9739e-01, -4.0311e-01,  6.2025e-01,  2.6015e-01,\n",
       "            2.3069e-01, -1.0425e-01,  1.0914e-01, -3.1273e-01,  2.6383e-01,\n",
       "            2.4590e-01,  7.1612e-01,  2.5973e-01,  2.9607e-01,  2.1687e-01,\n",
       "            4.3888e-01,  3.6397e-01, -5.9320e-01,  1.2041e-01,  5.4096e-01,\n",
       "           -3.1321e-01,  3.0326e-01, -4.5441e-02,  3.2262e-01,  3.2032e-01,\n",
       "            2.9308e-02, -7.3370e-02, -1.1074e-01, -2.5587e-01,  6.4337e-01,\n",
       "            8.3762e-02, -4.0647e-01,  4.6537e-01,  1.6523e-01, -4.8696e-01,\n",
       "           -8.7931e-02, -2.8051e-01, -3.8633e-02,  1.7338e-01, -6.8461e-02,\n",
       "            5.8715e-02,  1.1137e+00, -2.2987e-01,  2.1622e-01, -2.8050e-01,\n",
       "            6.7928e-01, -1.5472e-02,  5.0262e-01, -1.2819e-01, -4.4909e-01,\n",
       "           -1.7062e-01,  6.8432e-01,  1.6030e-01, -5.8419e-01,  6.1513e-02,\n",
       "           -8.0386e-02,  3.1295e-01,  3.9684e-01, -2.0344e-01,  6.9665e-02,\n",
       "           -2.8494e-01,  4.9167e-01,  9.5671e-02,  3.0491e-01, -5.9881e-01,\n",
       "            1.6039e-01,  5.5806e-01,  2.9528e-01,  2.3219e-01, -2.9483e-01,\n",
       "           -2.1391e-02, -2.3577e-01, -3.1162e-01,  3.9934e-01,  2.9915e-01,\n",
       "            9.1800e-02, -2.5550e-01, -4.1161e-01,  1.1863e-01,  4.1414e-01,\n",
       "            2.0944e-01]]]),\n",
       " 'word_input': tensor([[[-0.2631, -0.2227,  0.1855,  ..., -0.5915,  0.8697,  0.4564],\n",
       "          [-0.0657,  0.5207,  0.5871,  ...,  0.0604,  0.2071, -0.4214],\n",
       "          [ 0.2565,  0.1171,  0.4228,  ...,  0.3737,  0.5933,  0.0199],\n",
       "          ...,\n",
       "          [-0.8504, -0.6602, -0.0710,  ..., -0.3560,  0.0314, -0.0159],\n",
       "          [-0.2288, -0.0475,  0.1471,  ...,  0.1432,  0.1249, -0.1418],\n",
       "          [ 0.1063, -0.2584,  0.1245,  ...,  0.2332, -0.2199, -1.0431]]]),\n",
       " 'word_length': [7],\n",
       " 'word_cls_input': tensor([[[-0.3865, -0.3156,  0.3405,  ...,  0.1186,  0.4141,  0.2094],\n",
       "          [-0.2631, -0.2227,  0.1855,  ..., -0.5915,  0.8697,  0.4564],\n",
       "          [-0.0657,  0.5207,  0.5871,  ...,  0.0604,  0.2071, -0.4214],\n",
       "          ...,\n",
       "          [-0.8504, -0.6602, -0.0710,  ..., -0.3560,  0.0314, -0.0159],\n",
       "          [-0.2288, -0.0475,  0.1471,  ...,  0.1432,  0.1249, -0.1418],\n",
       "          [ 0.1063, -0.2584,  0.1245,  ...,  0.2332, -0.2199, -1.0431]]]),\n",
       " 'word_cls_mask': tensor([[False,  True,  True,  True,  True,  True,  True,  True]])}"
      ]
     },
     "execution_count": 3,
     "metadata": {},
     "output_type": "execute_result"
    }
   ],
   "source": [
    "sents=\"他叫汤姆去拿外衣。\"\n",
    "seg, hidden = ltp.seg([sents])\n",
    "print(seg)\n",
    "hidden"
   ]
  },
  {
   "cell_type": "code",
   "execution_count": 4,
   "metadata": {
    "ExecuteTime": {
     "end_time": "2020-06-27T13:01:36.449435Z",
     "start_time": "2020-06-27T13:01:36.304969Z"
    }
   },
   "outputs": [
    {
     "data": {
      "text/plain": [
       "[[(1, 2, 'Agt'),\n",
       "  (2, 0, 'Root'),\n",
       "  (3, 2, 'Datv'),\n",
       "  (4, 2, 'eEfft'),\n",
       "  (5, 4, 'eEfft'),\n",
       "  (6, 5, 'Pat'),\n",
       "  (7, 2, 'mPunc')]]"
      ]
     },
     "execution_count": 4,
     "metadata": {},
     "output_type": "execute_result"
    }
   ],
   "source": [
    "ltp.sdp(hidden, graph=False)"
   ]
  },
  {
   "cell_type": "code",
   "execution_count": 5,
   "metadata": {
    "ExecuteTime": {
     "end_time": "2020-06-27T13:04:50.298011Z",
     "start_time": "2020-06-27T13:04:50.286652Z"
    }
   },
   "outputs": [
    {
     "data": {
      "text/plain": [
       "[['r', 'v', 'nh', 'v', 'v', 'n', 'wp']]"
      ]
     },
     "execution_count": 5,
     "metadata": {},
     "output_type": "execute_result"
    }
   ],
   "source": [
    "ltp.pos(hidden)"
   ]
  },
  {
   "cell_type": "code",
   "execution_count": 2,
   "metadata": {
    "ExecuteTime": {
     "end_time": "2020-06-27T13:00:16.324342Z",
     "start_time": "2020-06-27T13:00:16.178570Z"
    }
   },
   "outputs": [
    {
     "name": "stdout",
     "output_type": "stream",
     "text": [
      "['他', '叫', '汤姆', '去', '拿', '外衣', '。']\n",
      "他 (Agt) 叫\n",
      "叫 (Root) 。\n",
      "汤姆 (Datv) 叫\n",
      "去 (eEfft) 叫\n",
      "拿 (eEfft) 去\n",
      "外衣 (Pat) 拿\n",
      "。 (mPunc) 叫\n"
     ]
    }
   ],
   "source": [
    "def proc_sents(sents):\n",
    "    seg, hidden = ltp.seg([sents])\n",
    "    print(seg[0])\n",
    "    sdp = ltp.sdp(hidden, graph=False)\n",
    "    for start, end, tag in sdp[0]:\n",
    "        print(seg[0][start-1],f\"({tag})\", seg[0][end-1])\n",
    "\n",
    "proc_sents(\"他叫汤姆去拿外衣。\")"
   ]
  },
  {
   "cell_type": "code",
   "execution_count": 10,
   "metadata": {
    "ExecuteTime": {
     "end_time": "2020-06-22T12:34:45.277535Z",
     "start_time": "2020-06-22T12:34:44.976066Z"
    },
    "scrolled": false
   },
   "outputs": [
    {
     "name": "stdout",
     "output_type": "stream",
     "text": [
      "4 ['2018年4月22日，2017年全球最赚钱企业排行榜第15。', '2018年5月29日，《2018年BrandZ全球最具价值品牌100强》第4位。', '2018年7月19日，《财富》世界500强排行榜位列71位。', '2018年12月18日，《2018世界品牌500强》第4位。']\n",
      "['2018年', '4月', '22日', '，', '2017年', '全球', '最', '赚钱', '企业', '排行榜', '第 15', '。', '', '', '', '', '']\n",
      "\t 2018年 (Mod) 22日\n",
      "\t 4月 (Mod) 22日\n",
      "\t 22日 (Time) \n",
      "\t ， (mPunc) 22日\n",
      "\t 2017年 (Time) 排行榜\n",
      "\t 全球 (Sco) 企业\n",
      "\t 最 (mDepd) 赚钱\n",
      "\t 赚钱 (Mod) 企业\n",
      "\t 企业 (Mod) 排行榜\n",
      "\t 排行榜 (Exp) 第 15\n",
      "\t 第 15 (Meas) \n",
      "\t 。 (mPunc) 第 15\n",
      "\t  (mPunc) 第 15\n",
      "\t  (Meas) 第 15\n",
      "\t  (mDepd) 第 15\n",
      "\t  (Root) \n",
      "\t  (mPunc) \n",
      "['2018年', '5月', '29日', '，', '《', '2018年', 'BrandZ', '全球', '最', '具', '价值', '品牌', '100', '强', '》', '第 4', '位', '。']\n",
      "\t 2018年 (Mod) 29日\n",
      "\t 5月 (Mod) 29日\n",
      "\t 29日 (Time) 位\n",
      "\t ， (mPunc) 29日\n",
      "\t 《 (mPunc) 具\n",
      "\t 2018年 (Time) 具\n",
      "\t BrandZ (Mod) 全球\n",
      "\t 全球 (Loc) 具\n",
      "\t 最 (mDepd) 具\n",
      "\t 具 (rExp) 强\n",
      "\t 价值 (Mod) 品牌\n",
      "\t 品牌 (Link) 具\n",
      "\t 100 (Meas) 强\n",
      "\t 强 (eSymm) 位\n",
      "\t 》 (mPunc) 强\n",
      "\t 第 4 (Meas) 位\n",
      "\t 位 (Root) 。\n",
      "\t 。 (mPunc) 位\n",
      "['2018年', '7月', '19日', '，', '《', '财富', '》', '世界', '500', '强', '排行榜', '位', '列', '71', '位', '。', '', '', '', '']\n",
      "\t 2018年 (Mod) 19日\n",
      "\t 7月 (Mod) 19日\n",
      "\t 19日 (Time) 列\n",
      "\t ， (mPunc) 19日\n",
      "\t 《 (mPunc) 财富\n",
      "\t 财富 (Mod) 排行榜\n",
      "\t 》 (mPunc) 财富\n",
      "\t 世界 (Sco) 排行榜\n",
      "\t 500 (Meas) 强\n",
      "\t 强 (Mod) 排行榜\n",
      "\t 排行榜 (Exp) 列\n",
      "\t 位 (mDepd) 列\n",
      "\t 列 (Root) \n",
      "\t 71 (Meas) 位\n",
      "\t 位 (Meas) 列\n",
      "\t 。 (mPunc) 列\n",
      "\t  (mPunc) 列\n",
      "\t  (Exp) 列\n",
      "\t  (Meas) 列\n",
      "\t  (mPunc) 列\n",
      "['2018年', '12月', '18日', '，', '《', '2018', '世界', '品牌', '500', '强', '》', '第 4', '位', '。', '', '', '', '', '', '', '']\n",
      "\t 2018年 (Mod) 18日\n",
      "\t 12月 (Mod) 18日\n",
      "\t 18日 (Time) 位\n",
      "\t ， (mPunc) 18日\n",
      "\t 《 (mPunc) 强\n",
      "\t 2018 (Time) 强\n",
      "\t 世界 (Loc) 强\n",
      "\t 品牌 (Mod) 强\n",
      "\t 500 (Meas) 强\n",
      "\t 强 (Mod) 位\n",
      "\t 》 (mPunc) 强\n",
      "\t 第 4 (Meas) 位\n",
      "\t 位 (Root) \n",
      "\t 。 (mPunc) 位\n",
      "\t  (mPunc) 位\n",
      "\t  (Exp) 位\n",
      "\t  (Meas) 位\n",
      "\t  (Exp) 位\n",
      "\t  (Exp) 位\n",
      "\t  (Meas) 位\n",
      "\t  (Meas) 位\n"
     ]
    }
   ],
   "source": [
    "# sent_ls=.split('。')\n",
    "text='''2018年4月22日，2017年全球最赚钱企业排行榜第15。\n",
    "2018年5月29日，《2018年BrandZ全球最具价值品牌100强》第4位。\n",
    "2018年7月19日，《财富》世界500强排行榜位列71位。2018年12月18日，《2018世界品牌500强》第4位。'''\n",
    "sent_ls = ltp.sent_split([text])\n",
    "print(len(sent_ls), sent_ls)\n",
    "segs, hidden = ltp.seg([s for s in sent_ls if s!=''])\n",
    "sdps = ltp.sdp(hidden, graph=False)\n",
    "for seg,sdp in zip(segs, sdps):\n",
    "    print(seg)\n",
    "    for start, end, tag in sdp:\n",
    "        print('\\t', seg[start-1],f\"({tag})\", seg[end-1])"
   ]
  },
  {
   "cell_type": "code",
   "execution_count": 11,
   "metadata": {
    "ExecuteTime": {
     "end_time": "2020-06-22T12:34:45.427377Z",
     "start_time": "2020-06-22T12:34:45.286439Z"
    }
   },
   "outputs": [
    {
     "name": "stdout",
     "output_type": "stream",
     "text": [
      "['我', '爱', '自然', '语言', '处理', '。', '元芳', '你', '怎么', '看']\n",
      "我 (Agt) 爱\n",
      "爱 (Root) 看\n",
      "自然 (Mod) 语言\n",
      "语言 (Tool) 处理\n",
      "处理 (Cont) 爱\n",
      "。 (mPunc) 爱\n",
      "元芳 (Agt) 看\n",
      "你 (Agt) 看\n",
      "怎么 (mDepd) 看\n",
      "看 (eAdvt) 爱\n"
     ]
    }
   ],
   "source": [
    "proc_sents(\"我爱自然语言处理。元芳你怎么看\")"
   ]
  },
  {
   "cell_type": "code",
   "execution_count": 12,
   "metadata": {
    "ExecuteTime": {
     "end_time": "2020-06-22T12:34:45.448813Z",
     "start_time": "2020-06-22T12:34:45.434985Z"
    }
   },
   "outputs": [
    {
     "data": {
      "text/plain": [
       "{'Tag': 'Description_关系类型',\n",
       " 'Agt': 'Agent_施事关系',\n",
       " 'Exp': 'Experiencer_当事关系',\n",
       " 'Aft': 'Affection_感事关系',\n",
       " 'Poss': 'Possessor_领事关系',\n",
       " 'Pat': 'Patient_受事关系',\n",
       " 'Cont': 'Content_客事关系',\n",
       " 'Prod': 'Product_成事关系',\n",
       " 'Orig': 'Origin_源事关系',\n",
       " 'Datv': 'Dative_涉事关系',\n",
       " 'Comp': 'Comitative_比较角色',\n",
       " 'Belg': 'Belongings_属事角色',\n",
       " 'Clas': 'Classification_类事角色',\n",
       " 'Accd': 'According_依据角色',\n",
       " 'Reas': 'Reason_缘故角色',\n",
       " 'Int': 'Intention_意图角色',\n",
       " 'Cons': 'Consequence_结局角色',\n",
       " 'Mann': 'Manner_方式角色',\n",
       " 'Tool': 'Tool_工具角色',\n",
       " 'Malt': 'Material_材料角色',\n",
       " 'Matl': 'Material_材料角色',\n",
       " 'Time': 'Time_时间角色',\n",
       " 'Loc': 'Location_空间角色',\n",
       " 'Proc': 'Process_历程角色',\n",
       " 'Dir': 'Direction_趋向角色',\n",
       " 'Sco': 'Scope_范围角色',\n",
       " 'Quan': 'Quantity_数量角色',\n",
       " 'Qp': 'Quantity-phrase_数量数组',\n",
       " 'Freq': 'Frequency_频率角色',\n",
       " 'Seq': 'Sequence_顺序角色',\n",
       " 'Desc(Feat)': 'Description_描写角色',\n",
       " 'Host': 'Host_宿主角色',\n",
       " 'Nmod': 'Name-modifier_名字修饰角色',\n",
       " 'Tmod': 'Time-modifier_时间修饰角色',\n",
       " 'r + main role': '_反角色',\n",
       " 'd + main role': '_嵌套角色',\n",
       " 'eCoo': 'event Coordination_并列关系',\n",
       " 'eSelt': 'event Selection_选择关系',\n",
       " 'eEqu': 'event Equivalent_等同关系',\n",
       " 'ePrec': 'event Precedent_先行关系',\n",
       " 'eSucc': 'event Successor_顺承关系',\n",
       " 'eProg': 'event Progression_递进关系',\n",
       " 'eAdvt': 'event adversative_转折关系',\n",
       " 'eCau': 'event Cause_原因关系',\n",
       " 'eResu': 'event Result_结果关系',\n",
       " 'eInf': 'event Inference_推论关系',\n",
       " 'eCond': 'event Condition_条件关系',\n",
       " 'eSupp': 'event Supposition_假设关系',\n",
       " 'eConc': 'event Concession_让步关系',\n",
       " 'eMetd': 'event Method_手段关系',\n",
       " 'ePurp': 'event Purpose_目的关系',\n",
       " 'eAban': 'event Abandonment_割舍关系',\n",
       " 'ePref': 'event Preference_选取关系',\n",
       " 'eSum': 'event Summary_总括关系',\n",
       " 'eRect': 'event Recount_分叙关系',\n",
       " 'mConj': 'Recount Marker_连词标记',\n",
       " 'mAux': 'Auxiliary_的字标记',\n",
       " 'mPrep': 'Preposition_介词标记',\n",
       " 'mTone': 'Tone_语气标记',\n",
       " 'mTime': 'Time_时间标记',\n",
       " 'mRang': 'Range_范围标记',\n",
       " 'mDegr': 'Degree_程度标记',\n",
       " 'mFreq': 'Frequency Marker_频率标记',\n",
       " 'mDir': 'Direction Marker_趋向标记',\n",
       " 'mPars': 'Parenthesis Marker_插入语标记',\n",
       " 'mNeg': 'Negation Marker_否定标记',\n",
       " 'mMod': 'Modal Marker_情态标记',\n",
       " 'mPunc': 'Punctuation Marker_标点标记',\n",
       " 'mPept': 'Repetition Marker_重复标记',\n",
       " 'mMaj': 'Majority Marker_多数标记',\n",
       " 'mVain': 'Vain Marker_实词虚化标记',\n",
       " 'mSepa': 'Seperation Marker_离合标记',\n",
       " 'Root': 'Root_根节点'}"
      ]
     },
     "execution_count": 12,
     "metadata": {},
     "output_type": "execute_result"
    }
   ],
   "source": [
    "term_exprs='''关系类型\tTag\tDescription\tExample\n",
    "施事关系\tAgt\tAgent\t我送她一束花 (我 <-- 送)\n",
    "当事关系\tExp\tExperiencer\t我跑得快 (跑 --> 我)\n",
    "感事关系\tAft\tAffection\t我思念家乡 (思念 --> 我)\n",
    "领事关系\tPoss\tPossessor\t他有一本好读 (他 <-- 有)\n",
    "受事关系\tPat\tPatient\t他打了小明 (打 --> 小明)\n",
    "客事关系\tCont\tContent\t他听到鞭炮声 (听 --> 鞭炮声)\n",
    "成事关系\tProd\tProduct\t他写了本小说 (写 --> 小说)\n",
    "源事关系\tOrig\tOrigin\t我军缴获敌人四辆坦克 (缴获 --> 坦克)\n",
    "涉事关系\tDatv\tDative\t他告诉我个秘密 ( 告诉 --> 我 )\n",
    "比较角色\tComp\tComitative\t他成绩比我好 (他 --> 我)\n",
    "属事角色\tBelg\tBelongings\t老赵有俩女儿 (老赵 <-- 有)\n",
    "类事角色\tClas\tClassification\t他是中学生 (是 --> 中学生)\n",
    "依据角色\tAccd\tAccording\t本庭依法宣判 (依法 <-- 宣判)\n",
    "缘故角色\tReas\tReason\t他在愁女儿婚事 (愁 --> 婚事)\n",
    "意图角色\tInt\tIntention\t为了金牌他拼命努力 (金牌 <-- 努力)\n",
    "结局角色\tCons\tConsequence\t他跑了满头大汗 (跑 --> 满头大汗)\n",
    "方式角色\tMann\tManner\t球慢慢滚进空门 (慢慢 <-- 滚)\n",
    "工具角色\tTool\tTool\t她用砂锅熬粥 (砂锅 <-- 熬粥)\n",
    "材料角色\tMalt\tMaterial\t她用小米熬粥 (小米 <-- 熬粥)\n",
    "材料角色\tMatl\tMaterial\t她用小米熬粥 (小米 <-- 熬粥)\n",
    "时间角色\tTime\tTime\t唐朝有个李白 (唐朝 <-- 有)\n",
    "空间角色\tLoc\tLocation\t这房子朝南 (朝 --> 南)\n",
    "历程角色\tProc\tProcess\t火车正在过长江大桥 (过 --> 大桥)\n",
    "趋向角色\tDir\tDirection\t部队奔向南方 (奔 --> 南)\n",
    "范围角色\tSco\tScope\t产品应该比质量 (比 --> 质量)\n",
    "数量角色\tQuan\tQuantity\t一年有365天 (有 --> 天)\n",
    "数量数组\tQp\tQuantity-phrase\t三本书 (三 --> 本)\n",
    "频率角色\tFreq\tFrequency\t他每天看书 (每天 <-- 看)\n",
    "顺序角色\tSeq\tSequence\t他跑第一 (跑 --> 第一)\n",
    "描写角色\tDesc(Feat)\tDescription\t他长得胖 (长 --> 胖)\n",
    "宿主角色\tHost\tHost\t住房面积 (住房 <-- 面积)\n",
    "名字修饰角色\tNmod\tName-modifier\t果戈里大街 (果戈里 <-- 大街)\n",
    "时间修饰角色\tTmod\tTime-modifier\t星期一上午 (星期一 <-- 上午)\n",
    "反角色\tr + main role\t\t打篮球的小姑娘 (打篮球 <-- 姑娘)\n",
    "嵌套角色\td + main role\t\t爷爷看见孙子在跑 (看见 --> 跑)\n",
    "并列关系\teCoo\tevent Coordination\t我喜欢唱歌和跳舞 (唱歌 --> 跳舞)\n",
    "选择关系\teSelt\tevent Selection\t您是喝茶还是喝咖啡 (茶 --> 咖啡)\n",
    "等同关系\teEqu\tevent Equivalent\t他们三个人一起走 (他们 --> 三个人)\n",
    "先行关系\tePrec\tevent Precedent\t首先，先\n",
    "顺承关系\teSucc\tevent Successor\t随后，然后\n",
    "递进关系\teProg\tevent Progression\t况且，并且\n",
    "转折关系\teAdvt\tevent adversative\t却，然而\n",
    "原因关系\teCau\tevent Cause\t因为，既然\n",
    "结果关系\teResu\tevent Result\t因此，以致\n",
    "推论关系\teInf\tevent Inference\t才，则\n",
    "条件关系\teCond\tevent Condition\t只要，除非\n",
    "假设关系\teSupp\tevent Supposition\t如果，要是\n",
    "让步关系\teConc\tevent Concession\t纵使，哪怕\n",
    "手段关系\teMetd\tevent Method\t\n",
    "目的关系\tePurp\tevent Purpose\t为了，以便\n",
    "割舍关系\teAban\tevent Abandonment\t与其，也不\n",
    "选取关系\tePref\tevent Preference\t不如，宁愿\n",
    "总括关系\teSum\tevent Summary\t总而言之\n",
    "分叙关系\teRect\tevent Recount\t例如，比方说\n",
    "连词标记\tmConj\tRecount Marker\t和，或\n",
    "的字标记\tmAux\tAuxiliary\t的，地，得\n",
    "介词标记\tmPrep\tPreposition\t把，被\n",
    "语气标记\tmTone\tTone\t吗，呢\n",
    "时间标记\tmTime\tTime\t才，曾经\n",
    "范围标记\tmRang\tRange\t都，到处\n",
    "程度标记\tmDegr\tDegree\t很，稍微\n",
    "频率标记\tmFreq\tFrequency Marker\t再，常常\n",
    "趋向标记\tmDir\tDirection Marker\t上去，下来\n",
    "插入语标记\tmPars\tParenthesis Marker\t总的来说，众所周知\n",
    "否定标记\tmNeg\tNegation Marker\t不，没，未\n",
    "情态标记\tmMod\tModal Marker\t幸亏，会，能\n",
    "标点标记\tmPunc\tPunctuation Marker\t，。！\n",
    "重复标记\tmPept\tRepetition Marker\t走啊走 (走 --> 走)\n",
    "多数标记\tmMaj\tMajority Marker\t们，等\n",
    "实词虚化标记\tmVain\tVain Marker\t\n",
    "离合标记\tmSepa\tSeperation Marker\t吃了个饭 (吃 --> 饭) 洗了个澡 (洗 --> 澡)\n",
    "根节点\tRoot\tRoot\t全句核心节点'''.split('\\n')\n",
    "rows=[r.split('\\t') for r in term_exprs]\n",
    "terms_map={t[1]:f\"{t[2]}_{t[0]}\" for t in rows}\n",
    "terms_map"
   ]
  },
  {
   "cell_type": "code",
   "execution_count": 13,
   "metadata": {
    "ExecuteTime": {
     "end_time": "2020-06-22T12:34:45.610070Z",
     "start_time": "2020-06-22T12:34:45.451630Z"
    }
   },
   "outputs": [
    {
     "name": "stdout",
     "output_type": "stream",
     "text": [
      "_(): 。\n",
      "└── Root(Root_根节点): 叫\n",
      "    ├── Agt(Agent_施事关系): 他\n",
      "    ├── Datv(Dative_涉事关系): 汤姆\n",
      "    └── eEfft(_): 去\n",
      "        └── eEfft(_): 拿\n",
      "            └── Pat(Patient_受事关系): 外衣\n"
     ]
    }
   ],
   "source": [
    "from anytree import Node, RenderTree\n",
    "nodecls=AnalKgNode\n",
    "def build_tree(sents, verbose=True, lang='zh'):\n",
    "    if not sents.endswith(('.', '?', '。', '？', '！')):\n",
    "        sents=sents+'.'\n",
    "    seg, hidden = ltp.seg([sents])\n",
    "    words=seg[0]\n",
    "    nodes = [nodecls(word, lang=lang) for word in words]\n",
    "    sdp = ltp.sdp(hidden, graph=False)\n",
    "    root=None\n",
    "    for start, end, tag in sdp[0]:\n",
    "        if verbose:\n",
    "            print(seg[0][start-1],f\"({tag})\", seg[0][end-1])\n",
    "        if tag=='mPunc':\n",
    "            continue\n",
    "        nodes[start-1].parent=nodes[end-1]\n",
    "        nodes[start-1].term=tag\n",
    "        if tag in terms_map:\n",
    "            nodes[start-1].description=terms_map[tag]\n",
    "        else:\n",
    "            nodes[start-1].description='_'\n",
    "        if tag=='Root':\n",
    "            root=nodes[end-1]\n",
    "        \n",
    "    return root\n",
    "\n",
    "def print_sdp(sents, detail=True, verbose=False, lang='zh'):\n",
    "    root=build_tree(sents, verbose=verbose)\n",
    "    for pre, _, node in RenderTree(root):\n",
    "        print(\"%s%s(%s): %s\" % (pre, node.term, \n",
    "                                node.description if detail else '_', \n",
    "                                node.name))\n",
    "# print(RenderTree(self, style=AsciiStyle()).by_attr(\n",
    "#             lambda n: f\"{n.dependency_relation}: {n.text} \"\n",
    "#                       f\"({additional(n)}, {n.upos.lower()})\"))\n",
    "\n",
    "print_sdp('他叫汤姆去拿外衣。')"
   ]
  },
  {
   "cell_type": "code",
   "execution_count": 14,
   "metadata": {
    "ExecuteTime": {
     "end_time": "2020-06-22T12:34:45.718597Z",
     "start_time": "2020-06-22T12:34:45.615520Z"
    }
   },
   "outputs": [
    {
     "name": "stdout",
     "output_type": "stream",
     "text": [
      "_(): .\n",
      "└── Root(Root_根节点): 有\n",
      "    ├── Time(Time_时间角色): 唐朝\n",
      "    └── Exp(Experiencer_当事关系): 李白\n",
      "        └── Meas(_): 个\n"
     ]
    }
   ],
   "source": [
    "print_sdp('唐朝有个李白', True)"
   ]
  },
  {
   "cell_type": "code",
   "execution_count": 15,
   "metadata": {
    "ExecuteTime": {
     "end_time": "2020-06-22T12:34:45.843990Z",
     "start_time": "2020-06-22T12:34:45.722664Z"
    }
   },
   "outputs": [
    {
     "name": "stdout",
     "output_type": "stream",
     "text": [
      "我 (Agt) 喜欢\n",
      "喜欢 (Root) .\n",
      "唱歌 (dCont) 喜欢\n",
      "和 (mRela) 跳舞\n",
      "跳舞 (eSymm) 唱歌\n",
      ". (mPunc) 喜欢\n",
      "_(): .\n",
      "└── Root(Root_根节点): 喜欢\n",
      "    ├── Agt(Agent_施事关系): 我\n",
      "    └── dCont(_): 唱歌\n",
      "        └── eSymm(_): 跳舞\n",
      "            └── mRela(_): 和\n"
     ]
    }
   ],
   "source": [
    "print_sdp('我喜欢唱歌和跳舞', True, True)"
   ]
  },
  {
   "cell_type": "code",
   "execution_count": 16,
   "metadata": {
    "ExecuteTime": {
     "end_time": "2020-06-22T12:34:45.953293Z",
     "start_time": "2020-06-22T12:34:45.851316Z"
    }
   },
   "outputs": [
    {
     "name": "stdout",
     "output_type": "stream",
     "text": [
      "_(): .\n",
      "└── Root(Root_根节点): 喝茶\n",
      "    ├── Agt(Agent_施事关系): 您\n",
      "    ├── mRela(_): 是\n",
      "    └── eSymm(_): 喝\n",
      "        ├── mRela(_): 还是\n",
      "        └── Pat(Patient_受事关系): 咖啡\n"
     ]
    }
   ],
   "source": [
    "print_sdp('您是喝茶还是喝咖啡 ')"
   ]
  },
  {
   "cell_type": "code",
   "execution_count": 17,
   "metadata": {
    "ExecuteTime": {
     "end_time": "2020-06-22T12:34:46.084326Z",
     "start_time": "2020-06-22T12:34:45.959656Z"
    }
   },
   "outputs": [
    {
     "name": "stdout",
     "output_type": "stream",
     "text": [
      "_(): .\n",
      "└── Root(Root_根节点): 走\n",
      "    ├── Agt(Agent_施事关系): 人\n",
      "    │   ├── Exp(Experiencer_当事关系): 他们\n",
      "    │   └── Meas(_): 个\n",
      "    │       └── Meas(_): 三\n",
      "    └── Mann(Manner_方式角色): 一起\n"
     ]
    }
   ],
   "source": [
    "print_sdp('他们三个人一起走 ')"
   ]
  },
  {
   "cell_type": "code",
   "execution_count": 18,
   "metadata": {
    "ExecuteTime": {
     "end_time": "2020-06-22T12:34:46.202021Z",
     "start_time": "2020-06-22T12:34:46.088534Z"
    }
   },
   "outputs": [
    {
     "name": "stdout",
     "output_type": "stream",
     "text": [
      "_(): .\n",
      "└── Root(Root_根节点): 是\n",
      "    ├── Exp(Experiencer_当事关系): 面积\n",
      "    │   └── Mod(_): 住房\n",
      "    │       └── Exp(Experiencer_当事关系): 我家\n",
      "    │           └── mDepd(_): 的\n",
      "    └── Meas(_): 平米\n",
      "        └── Meas(_): 80\n"
     ]
    }
   ],
   "source": [
    "print_sdp('我家的住房面积是80平米')"
   ]
  },
  {
   "cell_type": "code",
   "execution_count": 19,
   "metadata": {
    "ExecuteTime": {
     "end_time": "2020-06-22T12:34:46.543050Z",
     "start_time": "2020-06-22T12:34:46.205391Z"
    }
   },
   "outputs": [
    {
     "name": "stdout",
     "output_type": "stream",
     "text": [
      "_(): .\n",
      "└── Root(Root_根节点): 长\n",
      "    ├── Exp(Experiencer_当事关系): 他\n",
      "    ├── mDepd(_): 得\n",
      "    └── Mod(_): 胖\n",
      "_(): .\n",
      "└── Root(Root_根节点): 跑\n",
      "    ├── Agt(Agent_施事关系): 他\n",
      "    └── Meas(_): 第一\n",
      "_(): .\n",
      "└── Root(Root_根节点): 看\n",
      "    ├── Agt(Agent_施事关系): 他\n",
      "    ├── Meas(_): 每天\n",
      "    └── Cont(Content_客事关系): 书\n",
      "_(): .\n",
      "└── Root(Root_根节点): 努力\n",
      "    ├── Datv(Dative_涉事关系): 金牌\n",
      "    │   └── mRela(_): 为了\n",
      "    ├── Agt(Agent_施事关系): 他\n",
      "    └── mNeg(Negation Marker_否定标记): 拼命\n"
     ]
    }
   ],
   "source": [
    "sents=['他长得胖', '他跑第一', '他每天看书 ', '为了金牌他拼命努力']\n",
    "for s in sents:\n",
    "    print_sdp(s)"
   ]
  },
  {
   "cell_type": "code",
   "execution_count": 20,
   "metadata": {
    "ExecuteTime": {
     "end_time": "2020-06-22T12:34:46.984889Z",
     "start_time": "2020-06-22T12:34:46.546619Z"
    }
   },
   "outputs": [
    {
     "name": "stdout",
     "output_type": "stream",
     "text": [
      "_(): 。\n",
      "└── Root(Root_根节点): 吃\n",
      "    ├── Agt(Agent_施事关系): 我\n",
      "    ├── mDepd(_): 了\n",
      "    └── Pat(Patient_受事关系): 冰淇淋\n",
      "        ├── Meas(_): 个\n",
      "        └── Mod(_): 味\n",
      "            └── Mod(_): 巧克力\n",
      "_(): 。\n",
      "└── Root(Root_根节点): 去\n",
      "    ├── Time(Time_时间角色): 今天\n",
      "    ├── Agt(Agent_施事关系): 我\n",
      "    ├── Loc(Location_空间角色): 电影院\n",
      "    └── eEfft(_): 看\n",
      "        ├── mDepd(_): 了\n",
      "        └── Cont(Content_客事关系): 巧克力\n",
      "            └── Mod(_): 浓情\n",
      "_(): .\n",
      "└── Root(Root_根节点): 熬粥\n",
      "    ├── Agt(Agent_施事关系): 她\n",
      "    └── Matl(Material_材料角色): 小米\n",
      "        └── mRela(_): 用\n",
      "_(): .\n",
      "└── Root(Root_根节点): 熬粥\n",
      "    ├── Agt(Agent_施事关系): 她\n",
      "    └── Tool(Tool_工具角色): 砂锅\n",
      "        ├── mRela(_): 用\n",
      "        └── Mod(_): 美\n",
      "            └── mDepd(_): 的\n",
      "_(): .\n",
      "└── Root(Root_根节点): 缴获\n",
      "    ├── Agt(Agent_施事关系): 我军\n",
      "    └── Pat(Patient_受事关系): 坦克\n",
      "        ├── Exp(Experiencer_当事关系): 敌人\n",
      "        └── Meas(_): 辆\n",
      "            └── Meas(_): 四\n"
     ]
    }
   ],
   "source": [
    "sents=['我吃了个巧克力味冰淇淋。', '今天我去电影院看了浓情巧克力。', \n",
    "       '她用小米熬粥', '她用美的砂锅熬粥', '我军缴获敌人四辆坦克']\n",
    "for s in sents:\n",
    "    print_sdp(s)"
   ]
  },
  {
   "cell_type": "code",
   "execution_count": 21,
   "metadata": {
    "ExecuteTime": {
     "end_time": "2020-06-22T12:34:47.331501Z",
     "start_time": "2020-06-22T12:34:46.988849Z"
    }
   },
   "outputs": [
    {
     "name": "stdout",
     "output_type": "stream",
     "text": [
      "_(): .\n",
      "└── Root(Root_根节点): 冬天\n",
      "    └── Mod(_): 一九九五年\n",
      "_(): .\n",
      "└── Root(Root_根节点): 冷\n",
      "    ├── Exp(Experiencer_当事关系): 冬天\n",
      "    │   └── Time(Time_时间角色): 一九九五年\n",
      "    │       └── mDepd(_): 的\n",
      "    └── mDepd(_): 很\n",
      "_(): .\n",
      "└── Root(Root_根节点): 是\n",
      "    ├── Exp(Experiencer_当事关系): 一九九五年\n",
      "    └── Link(_): 年\n",
      "        ├── Mod(_): 倒霉\n",
      "        │   ├── Exp(Experiencer_当事关系): 他\n",
      "        │   └── mDepd(_): 的\n",
      "        └── Meas(_): 一\n",
      "_(): .\n",
      "└── Root(Root_根节点): 说\n",
      "    ├── Agt(Agent_施事关系): 他\n",
      "    └── dCont(_): 是\n",
      "        ├── Exp(Experiencer_当事关系): 生日\n",
      "        │   └── Exp(Experiencer_当事关系): 他\n",
      "        │       └── mDepd(_): 的\n",
      "        └── Link(_): 二日\n",
      "            └── Mod(_): 九月\n"
     ]
    }
   ],
   "source": [
    "sents=['一九九五年冬天', '一九九五年的冬天很冷', \n",
    "       '一九九五年是他倒霉的一年', '他说他的生日是九月二日']\n",
    "for s in sents:\n",
    "    print_sdp(s)"
   ]
  },
  {
   "cell_type": "code",
   "execution_count": 22,
   "metadata": {
    "ExecuteTime": {
     "end_time": "2020-06-22T12:34:48.143330Z",
     "start_time": "2020-06-22T12:34:47.342994Z"
    }
   },
   "outputs": [
    {
     "data": {
      "text/plain": [
       "[[(1, 2, 'Agt'),\n",
       "  (2, 0, 'Root'),\n",
       "  (3, 2, 'Datv'),\n",
       "  (4, 2, 'eEfft'),\n",
       "  (5, 4, 'eEfft'),\n",
       "  (6, 5, 'Pat'),\n",
       "  (7, 2, 'mPunc')]]"
      ]
     },
     "execution_count": 22,
     "metadata": {},
     "output_type": "execute_result"
    }
   ],
   "source": [
    "from ltp import LTP\n",
    "\n",
    "ltp = LTP()\n",
    "\n",
    "seg, hidden = ltp.seg([\"他叫汤姆去拿外衣。\"])\n",
    "sdp = ltp.sdp(hidden, graph=False)\n",
    "sdp"
   ]
  },
  {
   "cell_type": "code",
   "execution_count": 23,
   "metadata": {
    "ExecuteTime": {
     "end_time": "2020-06-22T12:34:48.261910Z",
     "start_time": "2020-06-22T12:34:48.152710Z"
    }
   },
   "outputs": [
    {
     "data": {
      "text/plain": [
       "[[(1, 2, 'Agt'),\n",
       "  (2, 0, 'Root'),\n",
       "  (3, 2, 'Datv'),\n",
       "  (3, 4, 'Agt'),\n",
       "  (3, 5, 'Agt'),\n",
       "  (4, 2, 'eEfft'),\n",
       "  (5, 4, 'eEfft'),\n",
       "  (6, 5, 'Pat'),\n",
       "  (7, 2, 'mPunc')]]"
      ]
     },
     "execution_count": 23,
     "metadata": {},
     "output_type": "execute_result"
    }
   ],
   "source": [
    "seg, hidden = ltp.seg([\"他叫汤姆去拿外衣。\"])\n",
    "sdp = ltp.sdp(hidden, graph=True)\n",
    "sdp"
   ]
  },
  {
   "cell_type": "code",
   "execution_count": 24,
   "metadata": {
    "ExecuteTime": {
     "end_time": "2020-06-22T12:34:48.564280Z",
     "start_time": "2020-06-22T12:34:48.269251Z"
    }
   },
   "outputs": [
    {
     "name": "stdout",
     "output_type": "stream",
     "text": [
      "打篮球的小姑娘 [[(1, 4, 'rAgt'), (2, 1, 'Pat'), (3, 1, 'mDepd'), (4, 0, 'Root')]]\n",
      "他听到鞭炮声 [[(1, 2, 'Agt'), (2, 0, 'Root'), (3, 2, 'Cont')]]\n",
      "他写了本小说 [[(1, 2, 'Agt'), (2, 0, 'Root'), (3, 2, 'mDepd'), (4, 5, 'Meas'), (5, 2, 'Prod')]]\n",
      "周杰伦的出生日期是哪天 [[(1, 4, 'Exp'), (2, 1, 'mDepd'), (3, 4, 'rTime'), (4, 5, 'Exp'), (5, 0, 'Root'), (6, 7, 'Sco'), (7, 5, 'Link')]]\n"
     ]
    }
   ],
   "source": [
    "# seg, hidden = ltp.seg([\"我军缴获敌人四辆坦克\"])\n",
    "# seg, hidden = ltp.seg([\"这房子朝南\"])\n",
    "sents=['打篮球的小姑娘', '他听到鞭炮声', '他写了本小说', '周杰伦的出生日期是哪天']\n",
    "for s in sents:\n",
    "    seg, hidden = ltp.seg([s])\n",
    "    sdp = ltp.sdp(hidden, graph=False)\n",
    "    print(s, sdp)"
   ]
  },
  {
   "cell_type": "code",
   "execution_count": 4,
   "metadata": {
    "ExecuteTime": {
     "end_time": "2020-06-27T14:24:01.264631Z",
     "start_time": "2020-06-27T14:24:01.196224Z"
    }
   },
   "outputs": [
    {
     "data": {
      "text/plain": [
       "([['他', '叫', '汤姆', '去', '拿', '外衣', '。']],\n",
       " [['r', 'v', 'nh', 'v', 'v', 'n', 'wp']],\n",
       " [[('Nh', 2, 2)]])"
      ]
     },
     "execution_count": 4,
     "metadata": {},
     "output_type": "execute_result"
    }
   ],
   "source": [
    "seg, hidden = ltp.seg([\"他叫汤姆去拿外衣。\"])\n",
    "pos = ltp.pos(hidden)\n",
    "seg, pos, ltp.ner(hidden)"
   ]
  },
  {
   "cell_type": "code",
   "execution_count": 9,
   "metadata": {
    "ExecuteTime": {
     "end_time": "2020-06-27T14:11:27.890710Z",
     "start_time": "2020-06-27T14:11:27.786297Z"
    }
   },
   "outputs": [
    {
     "name": "stdout",
     "output_type": "stream",
     "text": [
      "[['他', '叫', '汤姆', '去', '拿', '外衣', '。']]\n"
     ]
    },
    {
     "data": {
      "text/plain": [
       "[[],\n",
       " [('A0', 0, 0), ('A1', 2, 2), ('A2', 3, 5)],\n",
       " [],\n",
       " [],\n",
       " [('A0', 2, 2), ('A1', 5, 5)],\n",
       " [],\n",
       " []]"
      ]
     },
     "execution_count": 9,
     "metadata": {},
     "output_type": "execute_result"
    }
   ],
   "source": [
    "print(seg)\n",
    "ltp.srl(hidden)[0]"
   ]
  },
  {
   "cell_type": "code",
   "execution_count": 5,
   "metadata": {
    "ExecuteTime": {
     "end_time": "2020-06-27T14:24:03.981436Z",
     "start_time": "2020-06-27T14:24:03.962425Z"
    }
   },
   "outputs": [
    {
     "name": "stdout",
     "output_type": "stream",
     "text": [
      "Nh : 汤姆\n"
     ]
    }
   ],
   "source": [
    "ners=ltp.ner(hidden)\n",
    "for tag, start, end in ners[0]:\n",
    "    print(tag,\":\", \"\".join(seg[0][start:end + 1]))"
   ]
  },
  {
   "cell_type": "code",
   "execution_count": 21,
   "metadata": {
    "ExecuteTime": {
     "end_time": "2020-06-27T14:48:36.174378Z",
     "start_time": "2020-06-27T14:48:36.083906Z"
    }
   },
   "outputs": [
    {
     "name": "stdout",
     "output_type": "stream",
     "text": [
      "叫 [('A1', 1, 1), ('A2', 2, 6)]\n",
      "\t A1 : 汤姆\n",
      "\t A2 : 在中午去拿外衣\n",
      "\t ['B-V', 'B-ARG1', 'B-ARG2', 'I-ARG2', 'I-ARG2', 'I-ARG2', 'I-ARG2', 'O']\n",
      "汤姆 []\n",
      "在 []\n",
      "中午 []\n",
      "去 []\n",
      "拿 [('A0', 1, 1), ('ARGM-TMP', 2, 3), ('A1', 6, 6)]\n",
      "\t A0 : 汤姆\n",
      "\t ARGM-TMP : 在中午\n",
      "\t A1 : 外衣\n",
      "\t ['O', 'B-ARG0', 'B-ARGM-TMP', 'I-ARGM-TMP', 'O', 'B-V', 'B-ARG1', 'O']\n",
      "外衣 []\n",
      "。 []\n"
     ]
    },
    {
     "data": {
      "text/plain": [
       "<SrlReform: verbs=[<SrlVerb: verb='叫', description='', tags=['B-V', 'B-ARG1', 'B-ARG2', 'I-ARG2', 'I-ARG2', 'I-ARG2', 'I-ARG2', 'O']>, <SrlVerb: verb='拿', description='', tags=['O', 'B-ARG0', 'B-ARGM-TMP', 'I-ARGM-TMP', 'O', 'B-V', 'B-ARG1', 'O']>], words=['叫', '汤姆', '在', '中午', '去', '拿', '外衣', '。']>"
      ]
     },
     "execution_count": 21,
     "metadata": {},
     "output_type": "execute_result"
    }
   ],
   "source": [
    "from sagas.listings.co_data import SrlReform, CoReforms, SrlVerb\n",
    "def norm_arg(tag, lead='B'):\n",
    "    if len(tag)==2 and tag[0]=='A':\n",
    "        return f\"{lead}-ARG{tag[1]}\"\n",
    "    return f\"{lead}-{tag}\"\n",
    "def print_args(sents):\n",
    "    segs, hidden = ltp.seg([sents])\n",
    "    srls=ltp.srl(hidden)\n",
    "    seg=segs[0]\n",
    "    srl=srls[0]\n",
    "    \n",
    "    reform=SrlReform(words=seg, verbs=[])\n",
    "    for i, (tok, term) in enumerate(zip(seg, srl)):\n",
    "        print(tok, term)\n",
    "        if not term:\n",
    "            continue\n",
    "        \n",
    "        placers=['O']*len(seg)\n",
    "        for tag, start, end in term:\n",
    "            for p in range(start,end+1): placers[p]=norm_arg(tag, 'I')\n",
    "            placers[start]=norm_arg(tag)\n",
    "            print('\\t', tag, \":\", \"\".join(seg[start:end + 1]))\n",
    "        placers[i]='B-V'\n",
    "        print('\\t', placers)        \n",
    "        verb_form=SrlVerb(verb=tok, description='', tags=placers)\n",
    "        reform.verbs.append(verb_form)\n",
    "    return reform\n",
    "\n",
    "print_args(\"叫汤姆在中午去拿外衣。\")"
   ]
  },
  {
   "cell_type": "code",
   "execution_count": 28,
   "metadata": {
    "ExecuteTime": {
     "end_time": "2020-06-22T12:34:48.863317Z",
     "start_time": "2020-06-22T12:34:48.772158Z"
    }
   },
   "outputs": [
    {
     "name": "stdout",
     "output_type": "stream",
     "text": [
      "叫 [('A1', 1, 1), ('A2', 2, 4)]\n",
      "\t A1 : 汤姆\n",
      "\t A2 : 不要拿外衣\n",
      "汤姆 []\n",
      "不要 []\n",
      "拿 [('A0', 1, 1), ('ARGM-ADV', 2, 2), ('A1', 4, 4)]\n",
      "\t A0 : 汤姆\n",
      "\t ARGM-ADV : 不要\n",
      "\t A1 : 外衣\n",
      "外衣 []\n",
      "。 []\n"
     ]
    }
   ],
   "source": [
    "print_args(\"叫汤姆不要拿外衣。\")"
   ]
  },
  {
   "cell_type": "code",
   "execution_count": 29,
   "metadata": {
    "ExecuteTime": {
     "end_time": "2020-06-22T12:34:48.880673Z",
     "start_time": "2020-06-22T12:34:48.872153Z"
    }
   },
   "outputs": [
    {
     "data": {
      "text/plain": [
       "'叫'"
      ]
     },
     "execution_count": 29,
     "metadata": {},
     "output_type": "execute_result"
    }
   ],
   "source": [
    "seg[0][1]"
   ]
  },
  {
   "cell_type": "code",
   "execution_count": 30,
   "metadata": {
    "ExecuteTime": {
     "end_time": "2020-06-22T12:34:49.027391Z",
     "start_time": "2020-06-22T12:34:48.884803Z"
    }
   },
   "outputs": [
    {
     "name": "stdout",
     "output_type": "stream",
     "text": [
      "他 (Agt) 叫\n",
      "叫 (Root) 。\n",
      "汤姆 (Datv) 叫\n",
      "去 (eEfft) 叫\n",
      "拿 (eEfft) 去\n",
      "外衣 (Pat) 拿\n",
      "。 (mPunc) 叫\n"
     ]
    }
   ],
   "source": [
    "def proc_sents(sents):\n",
    "    seg, hidden = ltp.seg([sents])\n",
    "    sdp = ltp.sdp(hidden, graph=False)\n",
    "    for start, end, tag in sdp[0]:\n",
    "        print(seg[0][start-1],f\"({tag})\", seg[0][end-1])\n",
    "\n",
    "proc_sents(\"他叫汤姆去拿外衣。\")"
   ]
  },
  {
   "cell_type": "code",
   "execution_count": null,
   "metadata": {},
   "outputs": [],
   "source": []
  },
  {
   "cell_type": "code",
   "execution_count": 31,
   "metadata": {
    "ExecuteTime": {
     "end_time": "2020-06-22T12:34:49.147331Z",
     "start_time": "2020-06-22T12:34:49.032922Z"
    }
   },
   "outputs": [
    {
     "name": "stdout",
     "output_type": "stream",
     "text": [
      "他 (Agt) 打\n",
      "打 (Root) 。\n",
      "了 (mDepd) 打\n",
      "小明 (Pat) 打\n",
      "。 (mPunc) 打\n"
     ]
    }
   ],
   "source": [
    "proc_sents(\"他打了小明。\")"
   ]
  },
  {
   "cell_type": "code",
   "execution_count": 32,
   "metadata": {
    "ExecuteTime": {
     "end_time": "2020-06-22T12:34:49.323676Z",
     "start_time": "2020-06-22T12:34:49.151097Z"
    }
   },
   "outputs": [
    {
     "name": "stdout",
     "output_type": "stream",
     "text": [
      "小明 (Pat) 打\n",
      "被 (mRela) 他\n",
      "他 (Agt) 打\n",
      "打 (Root) 。\n",
      "了 (mDepd) 打\n",
      "。 (mPunc) 打\n",
      "***************\n",
      "他 (Agt) 打\n",
      "打 (Root) 。\n",
      "了 (mDepd) 打\n",
      "小明 (Pat) 打\n",
      "一 (Meas) 拳\n",
      "拳 (Meas) 打\n",
      "。 (mPunc) 打\n"
     ]
    }
   ],
   "source": [
    "proc_sents(\"小明被他打了。\")\n",
    "print('*'*15)\n",
    "proc_sents(\"他打了小明一拳。\")"
   ]
  },
  {
   "cell_type": "code",
   "execution_count": 33,
   "metadata": {
    "ExecuteTime": {
     "end_time": "2020-06-22T12:34:49.364954Z",
     "start_time": "2020-06-22T12:34:49.331627Z"
    }
   },
   "outputs": [
    {
     "data": {
      "text/plain": [
       "[[[],\n",
       "  [('A0', 0, 0), ('A1', 2, 2), ('A2', 3, 5)],\n",
       "  [],\n",
       "  [],\n",
       "  [('A0', 2, 2), ('A1', 5, 5)],\n",
       "  [],\n",
       "  []]]"
      ]
     },
     "execution_count": 33,
     "metadata": {},
     "output_type": "execute_result"
    }
   ],
   "source": [
    "# ltp.srl(hidden, keep_empty=False)\n",
    "ltp.srl(hidden)"
   ]
  },
  {
   "cell_type": "code",
   "execution_count": 34,
   "metadata": {
    "ExecuteTime": {
     "end_time": "2020-06-22T12:34:49.518859Z",
     "start_time": "2020-06-22T12:34:49.368145Z"
    }
   },
   "outputs": [
    {
     "name": "stdout",
     "output_type": "stream",
     "text": [
      "_(): .\n",
      "└── Root(Root_根节点): 爱\n",
      "    ├── Agt(Agent_施事关系): 我\n",
      "    ├── Cont(Content_客事关系): 处理\n",
      "    │   └── Tool(Tool_工具角色): 语言\n",
      "    │       └── Mod(_): 自然\n",
      "    └── eAdvt(event adversative_转折关系): 看\n",
      "        ├── Agt(Agent_施事关系): 元芳\n",
      "        ├── Agt(Agent_施事关系): 你\n",
      "        └── Mann(Manner_方式角色): 怎么\n"
     ]
    }
   ],
   "source": [
    "print_sdp(\"我爱自然语言处理。元芳你怎么看\")"
   ]
  },
  {
   "cell_type": "code",
   "execution_count": 35,
   "metadata": {
    "ExecuteTime": {
     "end_time": "2020-06-22T12:34:50.011790Z",
     "start_time": "2020-06-22T12:34:49.523839Z"
    }
   },
   "outputs": [
    {
     "name": "stdout",
     "output_type": "stream",
     "text": [
      "_(): 。\n",
      "└── Root(Root_根节点): 第 15\n",
      "    ├── Time(Time_时间角色): 22日\n",
      "    │   ├── Mod(_): 2018年\n",
      "    │   └── Mod(_): 4月\n",
      "    └── Exp(Experiencer_当事关系): 排行榜\n",
      "        ├── Time(Time_时间角色): 2017年\n",
      "        └── Mod(_): 企业\n",
      "            ├── Sco(Scope_范围角色): 全球\n",
      "            └── Mod(_): 赚钱\n",
      "                └── mDepd(_): 最\n",
      "_(): 。\n",
      "└── Root(Root_根节点): 是\n",
      "    ├── Exp(Experiencer_当事关系): 微软\n",
      "    ├── Link(_): 22日\n",
      "    │   ├── Mod(_): 2018年\n",
      "    │   └── Mod(_): 4月\n",
      "    └── Link(_): 第 15\n",
      "        └── Exp(Experiencer_当事关系): 排行榜\n",
      "            └── Mod(_): 企业\n",
      "                ├── Time(Time_时间角色): 2017年\n",
      "                ├── Sco(Scope_范围角色): 全球\n",
      "                └── Mod(_): 赚钱\n",
      "                    └── mDepd(_): 最\n",
      "_(): 。\n",
      "└── Root(Root_根节点): 是\n",
      "    ├── Time(Time_时间角色): 22日\n",
      "    │   ├── Mod(_): 2018年\n",
      "    │   └── Mod(_): 4月\n",
      "    ├── Exp(Experiencer_当事关系): 微软\n",
      "    └── Link(_): 第 15\n",
      "        └── Exp(Experiencer_当事关系): 排行榜\n",
      "            ├── Time(Time_时间角色): 2017年\n",
      "            ├── Sco(Scope_范围角色): 全球\n",
      "            └── Mod(_): 企业\n",
      "                └── Mod(_): 赚钱\n",
      "                    └── mDepd(_): 最\n",
      "微软 []\n",
      "是 [('A0', 0, 0), ('A1', 2, 12)]\n",
      "\t A0 : 微软\n",
      "\t A1 : 2018年4月22日，2017年全球最赚钱企业排行榜第 15\n",
      "2018年 []\n",
      "4月 []\n",
      "22日 []\n",
      "， []\n",
      "2017年 []\n",
      "全球 []\n",
      "最 []\n",
      "赚钱 [('ARGM-LOC', 7, 7), ('ARGM-ADV', 8, 8), ('A0', 10, 10)]\n",
      "\t ARGM-LOC : 全球\n",
      "\t ARGM-ADV : 最\n",
      "\t A0 : 企业\n",
      "企业 []\n",
      "排行榜 []\n",
      "第 15 []\n",
      "。 []\n"
     ]
    }
   ],
   "source": [
    "print_sdp(\"2018年4月22日，2017年全球最赚钱企业排行榜第15。\")\n",
    "print_sdp(\"微软是2018年4月22日，2017年全球最赚钱企业排行榜第15。\")\n",
    "print_sdp(\"2018年4月22日，微软是2017年全球最赚钱企业排行榜第15。\")\n",
    "print_args(\"微软是2018年4月22日，2017年全球最赚钱企业排行榜第15。\")"
   ]
  },
  {
   "cell_type": "code",
   "execution_count": 36,
   "metadata": {
    "ExecuteTime": {
     "end_time": "2020-06-22T12:34:50.207744Z",
     "start_time": "2020-06-22T12:34:50.023086Z"
    }
   },
   "outputs": [
    {
     "name": "stdout",
     "output_type": "stream",
     "text": [
      "_(): 。\n",
      "└── Root(Root_根节点): 第 15\n",
      "    ├── Time(Time_时间角色): 22日\n",
      "    │   ├── Mod(_): 2018年\n",
      "    │   └── Mod(_): 4月\n",
      "    └── Sco(Scope_范围角色): 排行榜\n",
      "        ├── Sco(Scope_范围角色): 全球\n",
      "        └── Mod(_): 企业\n",
      "            └── Mod(_): 赚钱\n",
      "                └── mDepd(_): 最\n"
     ]
    }
   ],
   "source": [
    "print_sdp(\"2018年4月22日全球最赚钱企业排行榜第15。\")"
   ]
  },
  {
   "cell_type": "code",
   "execution_count": 37,
   "metadata": {
    "ExecuteTime": {
     "end_time": "2020-06-22T12:34:50.315639Z",
     "start_time": "2020-06-22T12:34:50.219381Z"
    }
   },
   "outputs": [
    {
     "name": "stdout",
     "output_type": "stream",
     "text": [
      "2018年 []\n",
      "4月 []\n",
      "22日 []\n",
      "， []\n",
      "2017年 []\n",
      "全球 []\n",
      "最 []\n",
      "赚钱 [('ARGM-LOC', 5, 5), ('ARGM-ADV', 6, 6), ('A0', 8, 8)]\n",
      "\t ARGM-LOC : 全球\n",
      "\t ARGM-ADV : 最\n",
      "\t A0 : 企业\n",
      "企业 []\n",
      "排行榜 []\n",
      "第 15 []\n",
      "。 []\n"
     ]
    }
   ],
   "source": [
    "print_args(\"2018年4月22日，2017年全球最赚钱企业排行榜第15。\")"
   ]
  },
  {
   "cell_type": "code",
   "execution_count": 38,
   "metadata": {
    "ExecuteTime": {
     "end_time": "2020-06-22T12:34:50.431730Z",
     "start_time": "2020-06-22T12:34:50.322607Z"
    }
   },
   "outputs": [
    {
     "name": "stdout",
     "output_type": "stream",
     "text": [
      "2018年 []\n",
      "4月 []\n",
      "22日 []\n",
      "， []\n",
      "微软 []\n",
      "是 [('ARGM-TMP', 0, 2), ('A0', 4, 4), ('A1', 6, 12)]\n",
      "\t ARGM-TMP : 2018年4月22日\n",
      "\t A0 : 微软\n",
      "\t A1 : 2017年全球最赚钱企业排行榜第 15\n",
      "2017年 []\n",
      "全球 []\n",
      "最 []\n",
      "赚钱 [('ARGM-TMP', 6, 6), ('ARGM-LOC', 7, 7), ('ARGM-ADV', 8, 8), ('A0', 10, 10)]\n",
      "\t ARGM-TMP : 2017年\n",
      "\t ARGM-LOC : 全球\n",
      "\t ARGM-ADV : 最\n",
      "\t A0 : 企业\n",
      "企业 []\n",
      "排行榜 []\n",
      "第 15 []\n",
      "。 []\n"
     ]
    }
   ],
   "source": [
    "print_args(\"2018年4月22日，微软是2017年全球最赚钱企业排行榜第15。\")"
   ]
  },
  {
   "cell_type": "code",
   "execution_count": 39,
   "metadata": {
    "ExecuteTime": {
     "end_time": "2020-06-22T12:34:50.599767Z",
     "start_time": "2020-06-22T12:34:50.439464Z"
    }
   },
   "outputs": [
    {
     "name": "stdout",
     "output_type": "stream",
     "text": [
      "2019年 []\n",
      "6月 []\n",
      "， []\n",
      "微软 []\n",
      "悄然 []\n",
      "删除 [('ARGM-TMP', 0, 1), ('A0', 3, 3), ('ARGM-ADV', 4, 4), ('A1', 6, 11)]\n",
      "\t ARGM-TMP : 2019年6月\n",
      "\t A0 : 微软\n",
      "\t ARGM-ADV : 悄然\n",
      "\t A1 : 其MS Celeb人脸识别数据库\n",
      "其 []\n",
      "MS Celeb []\n",
      "人 []\n",
      "脸 []\n",
      "识别 []\n",
      "数据库 []\n",
      "， []\n",
      "微软 []\n",
      "称 [('A0', 13, 13), ('A1', 15, 25)]\n",
      "\t A0 : 微软\n",
      "\t A1 : 该数据库是全球最大的公开人脸识别数据库\n",
      "该 []\n",
      "数据库 []\n",
      "是 [('A0', 15, 16), ('A1', 18, 25)]\n",
      "\t A0 : 该数据库\n",
      "\t A1 : 全球最大的公开人脸识别数据库\n",
      "全球 []\n",
      "最 []\n",
      "大 [('ARGM-LOC', 18, 18), ('ARGM-ADV', 19, 19), ('A0', 22, 25)]\n",
      "\t ARGM-LOC : 全球\n",
      "\t ARGM-ADV : 最\n",
      "\t A0 : 公开人脸识别数据库\n",
      "的 []\n",
      "公开人 []\n",
      "脸 []\n",
      "识别 []\n",
      "数据库 []\n",
      "。 []\n"
     ]
    }
   ],
   "source": [
    "print_args(\"2019年6月，微软悄然删除其MS Celeb人脸识别数据库，微软称该数据库是全球最大的公开人脸识别数据库。\")"
   ]
  },
  {
   "cell_type": "code",
   "execution_count": 40,
   "metadata": {
    "ExecuteTime": {
     "end_time": "2020-06-22T12:34:50.896551Z",
     "start_time": "2020-06-22T12:34:50.605250Z"
    }
   },
   "outputs": [
    {
     "name": "stdout",
     "output_type": "stream",
     "text": [
      "_(): 。\n",
      "└── Root(Root_根节点): 位\n",
      "    ├── Meas(_): 第 15\n",
      "    │   └── Exp(Experiencer_当事关系): 排行榜\n",
      "    │       ├── Time(Time_时间角色): 22日\n",
      "    │       │   ├── Mod(_): 2018年\n",
      "    │       │   └── Mod(_): 4月\n",
      "    │       ├── Time(Time_时间角色): 2017年\n",
      "    │       ├── Sco(Scope_范围角色): 全球\n",
      "    │       └── Exp(Experiencer_当事关系): 企业\n",
      "    │           └── Mod(_): 赚钱\n",
      "    │               └── mDepd(_): 最\n",
      "    ├── Time(Time_时间角色): 29日\n",
      "    │   ├── Mod(_): 2018年\n",
      "    │   └── Mod(_): 5月\n",
      "    ├── dMod(_): 具\n",
      "    │   ├── Time(Time_时间角色): 2018年\n",
      "    │   ├── Loc(Location_空间角色): 全球\n",
      "    │   │   └── Mod(_): BrandZ\n",
      "    │   ├── mDepd(_): 最\n",
      "    │   ├── Link(_): 品牌\n",
      "    │   │   └── Mod(_): 价值\n",
      "    │   └── Link(_): 强\n",
      "    │       └── Meas(_): 100\n",
      "    ├── Meas(_): 第 4\n",
      "    └── eCtnu(_): 列\n",
      "        ├── Time(Time_时间角色): 19日\n",
      "        │   ├── Mod(_): 2018年\n",
      "        │   └── Mod(_): 7月\n",
      "        ├── Exp(Experiencer_当事关系): 排行榜\n",
      "        │   ├── Mod(_): 财富\n",
      "        │   ├── Mod(_): 世界\n",
      "        │   └── Mod(_): 强\n",
      "        │       └── Meas(_): 500\n",
      "        ├── Exp(Experiencer_当事关系): 位\n",
      "        ├── Cont(Content_客事关系): 位\n",
      "        │   └── Meas(_): 71\n",
      "        └── Meas(_): 位\n",
      "            ├── Time(Time_时间角色): 18日\n",
      "            │   ├── Mod(_): 2018年\n",
      "            │   └── Mod(_): 12月\n",
      "            ├── Exp(Experiencer_当事关系): 强\n",
      "            │   ├── Exp(Experiencer_当事关系): 品牌\n",
      "            │   │   ├── Mod(_): 2018\n",
      "            │   │   └── Mod(_): 世界\n",
      "            │   └── Meas(_): 500\n",
      "            └── Meas(_): 第 4\n"
     ]
    }
   ],
   "source": [
    "print_sdp(\"2018年4月22日，2017年全球最赚钱企业排行榜第15。2018年5月29日，《2018年BrandZ全球最具价值品牌100强》第4位。2018年7月19日，《财富》世界500强排行榜位列71位。2018年12月18日，《2018世界品牌500强》第4位。\")"
   ]
  },
  {
   "cell_type": "code",
   "execution_count": 41,
   "metadata": {
    "ExecuteTime": {
     "end_time": "2020-06-22T12:35:18.647232Z",
     "start_time": "2020-06-22T12:35:18.541099Z"
    }
   },
   "outputs": [
    {
     "name": "stdout",
     "output_type": "stream",
     "text": [
      "_(): 。\n",
      "└── Root(Root_根节点): 吃\n",
      "    ├── Agt(Agent_施事关系): 张三\n",
      "    ├── Loc(Location_空间角色): 美国\n",
      "    │   ├── mRela(_): 在\n",
      "    │   └── mRela(_): 用\n",
      "    │       └── Pat(Patient_受事关系): 筷子\n",
      "    └── Pat(Patient_受事关系): 川菜\n"
     ]
    }
   ],
   "source": [
    "print_sdp('张三在美国用筷子吃川菜。')"
   ]
  },
  {
   "cell_type": "code",
   "execution_count": 43,
   "metadata": {
    "ExecuteTime": {
     "end_time": "2020-06-22T12:54:08.481672Z",
     "start_time": "2020-06-22T12:54:08.242957Z"
    }
   },
   "outputs": [
    {
     "name": "stdout",
     "output_type": "stream",
     "text": [
      "_(): 。\n",
      "└── Root(Root_根节点): 付费\n",
      "    ├── dTime(_): 用于\n",
      "    │   ├── Pat(Patient_受事关系): 平台\n",
      "    │   │   ├── mRela(_): 将\n",
      "    │   │   └── Sco(Scope_范围角色): 该\n",
      "    │   └── Datv(Dative_涉事关系): 目的\n",
      "    │       ├── Mod(_): 商业\n",
      "    │       └── Mod(_): 项目\n",
      "    │           ├── mDepd(_): 如\n",
      "    │           ├── dMod(_): 合作\n",
      "    │           │   └── Agt(Agent_施事关系): 企业\n",
      "    │           └── mDepd(_): 等\n",
      "    ├── mDepd(_): 则\n",
      "    └── mDepd(_): 需要\n",
      "将 []\n",
      "该 []\n",
      "平台 []\n",
      "用于 [('A1', 1, 2), ('A2', 4, 11)]\n",
      "\t A1 : 该平台\n",
      "\t A2 : 商业目的（如企业合作项目等\n",
      "商业 []\n",
      "目的 []\n",
      "（ []\n",
      "如 []\n",
      "企业 []\n",
      "合作 []\n",
      "项目 []\n",
      "等 []\n",
      "） []\n",
      "则 []\n",
      "需要 []\n",
      "付费 [('A1', 0, 12), ('ARGM-ADV', 13, 13)]\n",
      "\t A1 : 将该平台用于商业目的（如企业合作项目等）\n",
      "\t ARGM-ADV : 则\n",
      "。 []\n"
     ]
    }
   ],
   "source": [
    "print_sdp('将该平台用于商业目的（如企业合作项目等）则需要付费。')\n",
    "print_args('将该平台用于商业目的（如企业合作项目等）则需要付费。')"
   ]
  }
 ],
 "metadata": {
  "kernelspec": {
   "display_name": "Python 3",
   "language": "python",
   "name": "python3"
  },
  "language_info": {
   "codemirror_mode": {
    "name": "ipython",
    "version": 3
   },
   "file_extension": ".py",
   "mimetype": "text/x-python",
   "name": "python",
   "nbconvert_exporter": "python",
   "pygments_lexer": "ipython3",
   "version": "3.7.7"
  },
  "varInspector": {
   "cols": {
    "lenName": 16,
    "lenType": 16,
    "lenVar": 40
   },
   "kernels_config": {
    "python": {
     "delete_cmd_postfix": "",
     "delete_cmd_prefix": "del ",
     "library": "var_list.py",
     "varRefreshCmd": "print(var_dic_list())"
    },
    "r": {
     "delete_cmd_postfix": ") ",
     "delete_cmd_prefix": "rm(",
     "library": "var_list.r",
     "varRefreshCmd": "cat(var_dic_list()) "
    }
   },
   "types_to_exclude": [
    "module",
    "function",
    "builtin_function_or_method",
    "instance",
    "_Feature"
   ],
   "window_display": false
  }
 },
 "nbformat": 4,
 "nbformat_minor": 4
}
