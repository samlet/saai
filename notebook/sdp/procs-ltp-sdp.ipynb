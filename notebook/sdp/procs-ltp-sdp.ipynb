{
 "cells": [
  {
   "cell_type": "code",
   "execution_count": 1,
   "metadata": {
    "ExecuteTime": {
     "end_time": "2020-06-16T00:37:59.716545Z",
     "start_time": "2020-06-16T00:37:34.527120Z"
    }
   },
   "outputs": [
    {
     "data": {
      "text/plain": [
       "[[(1, 2, 'Agt'),\n",
       "  (2, 0, 'Root'),\n",
       "  (3, 2, 'Datv'),\n",
       "  (4, 2, 'eEfft'),\n",
       "  (5, 4, 'eEfft'),\n",
       "  (6, 5, 'Pat'),\n",
       "  (7, 2, 'mPunc')]]"
      ]
     },
     "execution_count": 1,
     "metadata": {},
     "output_type": "execute_result"
    }
   ],
   "source": [
    "from ltp import LTP\n",
    "\n",
    "ltp = LTP()\n",
    "\n",
    "seg, hidden = ltp.seg([\"他叫汤姆去拿外衣。\"])\n",
    "sdp = ltp.sdp(hidden, graph=False)\n",
    "sdp"
   ]
  },
  {
   "cell_type": "code",
   "execution_count": 2,
   "metadata": {
    "ExecuteTime": {
     "end_time": "2020-06-16T00:38:32.345619Z",
     "start_time": "2020-06-16T00:38:32.257173Z"
    }
   },
   "outputs": [
    {
     "data": {
      "text/plain": [
       "[[(1, 2, 'Agt'),\n",
       "  (2, 0, 'Root'),\n",
       "  (3, 2, 'Datv'),\n",
       "  (3, 4, 'Agt'),\n",
       "  (3, 5, 'Agt'),\n",
       "  (4, 2, 'eEfft'),\n",
       "  (5, 4, 'eEfft'),\n",
       "  (6, 5, 'Pat'),\n",
       "  (7, 2, 'mPunc')]]"
      ]
     },
     "execution_count": 2,
     "metadata": {},
     "output_type": "execute_result"
    }
   ],
   "source": [
    "seg, hidden = ltp.seg([\"他叫汤姆去拿外衣。\"])\n",
    "sdp = ltp.sdp(hidden, graph=True)\n",
    "sdp"
   ]
  },
  {
   "cell_type": "code",
   "execution_count": 11,
   "metadata": {
    "ExecuteTime": {
     "end_time": "2020-06-16T01:02:31.224864Z",
     "start_time": "2020-06-16T01:02:30.937779Z"
    }
   },
   "outputs": [
    {
     "name": "stdout",
     "output_type": "stream",
     "text": [
      "打篮球的小姑娘 [[(1, 4, 'rAgt'), (2, 1, 'Pat'), (3, 1, 'mDepd'), (4, 0, 'Root')]]\n",
      "他听到鞭炮声 [[(1, 2, 'Agt'), (2, 0, 'Root'), (3, 2, 'Cont')]]\n",
      "他写了本小说 [[(1, 2, 'Agt'), (2, 0, 'Root'), (3, 2, 'mDepd'), (4, 5, 'Meas'), (5, 2, 'Prod')]]\n",
      "周杰伦的出生日期是哪天 [[(1, 4, 'Exp'), (2, 1, 'mDepd'), (3, 4, 'rTime'), (4, 5, 'Exp'), (5, 0, 'Root'), (6, 7, 'Sco'), (7, 5, 'Link')]]\n"
     ]
    }
   ],
   "source": [
    "# seg, hidden = ltp.seg([\"我军缴获敌人四辆坦克\"])\n",
    "# seg, hidden = ltp.seg([\"这房子朝南\"])\n",
    "sents=['打篮球的小姑娘', '他听到鞭炮声', '他写了本小说', '周杰伦的出生日期是哪天']\n",
    "for s in sents:\n",
    "    seg, hidden = ltp.seg([s])\n",
    "    sdp = ltp.sdp(hidden, graph=False)\n",
    "    print(s, sdp)"
   ]
  },
  {
   "cell_type": "code",
   "execution_count": 15,
   "metadata": {
    "ExecuteTime": {
     "end_time": "2020-06-16T06:28:37.407578Z",
     "start_time": "2020-06-16T06:28:37.364553Z"
    }
   },
   "outputs": [
    {
     "data": {
      "text/plain": [
       "([['他', '叫', '汤姆', '去', '拿', '外衣', '。']],\n",
       " [['r', 'v', 'nh', 'v', 'v', 'n', 'wp']],\n",
       " [[('Nh', 2, 2)]])"
      ]
     },
     "execution_count": 15,
     "metadata": {},
     "output_type": "execute_result"
    }
   ],
   "source": [
    "seg, hidden = ltp.seg([\"他叫汤姆去拿外衣。\"])\n",
    "pos = ltp.pos(hidden)\n",
    "seg, pos, ltp.ner(hidden)"
   ]
  },
  {
   "cell_type": "code",
   "execution_count": 17,
   "metadata": {
    "ExecuteTime": {
     "end_time": "2020-06-16T06:31:28.160725Z",
     "start_time": "2020-06-16T06:31:28.146973Z"
    }
   },
   "outputs": [
    {
     "name": "stdout",
     "output_type": "stream",
     "text": [
      "Nh : 汤姆\n"
     ]
    }
   ],
   "source": [
    "ners=ltp.ner(hidden)\n",
    "for tag, start, end in ners[0]:\n",
    "    print(tag,\":\", \"\".join(seg[0][start:end + 1]))"
   ]
  },
  {
   "cell_type": "code",
   "execution_count": 40,
   "metadata": {
    "ExecuteTime": {
     "end_time": "2020-06-16T08:07:54.947559Z",
     "start_time": "2020-06-16T08:07:54.869987Z"
    }
   },
   "outputs": [
    {
     "name": "stdout",
     "output_type": "stream",
     "text": [
      "叫 [('A1', 1, 1), ('A2', 2, 6)]\n",
      "\t A1 : 汤姆\n",
      "\t A2 : 在中午去拿外衣\n",
      "汤姆 []\n",
      "在 []\n",
      "中午 []\n",
      "去 []\n",
      "拿 [('A0', 1, 1), ('ARGM-TMP', 2, 3), ('A1', 6, 6)]\n",
      "\t A0 : 汤姆\n",
      "\t ARGM-TMP : 在中午\n",
      "\t A1 : 外衣\n",
      "外衣 []\n",
      "。 []\n"
     ]
    }
   ],
   "source": [
    "def print_args(sents):\n",
    "    seg, hidden = ltp.seg([sents])\n",
    "    srl=ltp.srl(hidden)\n",
    "    for tok, term in zip(seg[0], srl[0]):\n",
    "        print(tok, term)\n",
    "        for tag, start, end in term:\n",
    "            print('\\t', tag, \":\", \"\".join(seg[0][start:end + 1]))\n",
    "\n",
    "print_args(\"叫汤姆在中午去拿外衣。\")"
   ]
  },
  {
   "cell_type": "code",
   "execution_count": 41,
   "metadata": {
    "ExecuteTime": {
     "end_time": "2020-06-16T08:08:15.310813Z",
     "start_time": "2020-06-16T08:08:15.240439Z"
    }
   },
   "outputs": [
    {
     "name": "stdout",
     "output_type": "stream",
     "text": [
      "叫 [('A1', 1, 1), ('A2', 2, 4)]\n",
      "\t A1 : 汤姆\n",
      "\t A2 : 不要拿外衣\n",
      "汤姆 []\n",
      "不要 []\n",
      "拿 [('A0', 1, 1), ('ARGM-ADV', 2, 2), ('A1', 4, 4)]\n",
      "\t A0 : 汤姆\n",
      "\t ARGM-ADV : 不要\n",
      "\t A1 : 外衣\n",
      "外衣 []\n",
      "。 []\n"
     ]
    }
   ],
   "source": [
    "print_args(\"叫汤姆不要拿外衣。\")"
   ]
  },
  {
   "cell_type": "code",
   "execution_count": 23,
   "metadata": {
    "ExecuteTime": {
     "end_time": "2020-06-16T06:43:41.049542Z",
     "start_time": "2020-06-16T06:43:41.042876Z"
    }
   },
   "outputs": [
    {
     "data": {
      "text/plain": [
       "'叫'"
      ]
     },
     "execution_count": 23,
     "metadata": {},
     "output_type": "execute_result"
    }
   ],
   "source": [
    "seg[0][1]"
   ]
  },
  {
   "cell_type": "code",
   "execution_count": 29,
   "metadata": {
    "ExecuteTime": {
     "end_time": "2020-06-16T07:16:58.642264Z",
     "start_time": "2020-06-16T07:16:58.543278Z"
    }
   },
   "outputs": [
    {
     "name": "stdout",
     "output_type": "stream",
     "text": [
      "他 (Agt) 叫\n",
      "叫 (Root) 。\n",
      "汤姆 (Datv) 叫\n",
      "去 (eEfft) 叫\n",
      "拿 (eEfft) 去\n",
      "外衣 (Pat) 拿\n",
      "。 (mPunc) 叫\n"
     ]
    }
   ],
   "source": [
    "def proc_sents(sents):\n",
    "    seg, hidden = ltp.seg([sents])\n",
    "    sdp = ltp.sdp(hidden, graph=False)\n",
    "    for start, end, tag in sdp[0]:\n",
    "        print(seg[0][start-1],f\"({tag})\", seg[0][end-1])\n",
    "\n",
    "proc_sents(\"他叫汤姆去拿外衣。\")"
   ]
  },
  {
   "cell_type": "code",
   "execution_count": 31,
   "metadata": {
    "ExecuteTime": {
     "end_time": "2020-06-16T07:17:32.570552Z",
     "start_time": "2020-06-16T07:17:32.474832Z"
    }
   },
   "outputs": [
    {
     "name": "stdout",
     "output_type": "stream",
     "text": [
      "他 (Agt) 打\n",
      "打 (Root) 。\n",
      "了 (mDepd) 打\n",
      "小明 (Pat) 打\n",
      "。 (mPunc) 打\n"
     ]
    }
   ],
   "source": [
    "proc_sents(\"他打了小明。\")"
   ]
  },
  {
   "cell_type": "code",
   "execution_count": 34,
   "metadata": {
    "ExecuteTime": {
     "end_time": "2020-06-16T07:19:02.419315Z",
     "start_time": "2020-06-16T07:19:02.253741Z"
    }
   },
   "outputs": [
    {
     "name": "stdout",
     "output_type": "stream",
     "text": [
      "小明 (Pat) 打\n",
      "被 (mRela) 他\n",
      "他 (Agt) 打\n",
      "打 (Root) 。\n",
      "了 (mDepd) 打\n",
      "。 (mPunc) 打\n",
      "***************\n",
      "他 (Agt) 打\n",
      "打 (Root) 。\n",
      "了 (mDepd) 打\n",
      "小明 (Pat) 打\n",
      "一 (Meas) 拳\n",
      "拳 (Meas) 打\n",
      "。 (mPunc) 打\n"
     ]
    }
   ],
   "source": [
    "proc_sents(\"小明被他打了。\")\n",
    "print('*'*15)\n",
    "proc_sents(\"他打了小明一拳。\")"
   ]
  },
  {
   "cell_type": "code",
   "execution_count": 20,
   "metadata": {
    "ExecuteTime": {
     "end_time": "2020-06-16T06:34:30.175521Z",
     "start_time": "2020-06-16T06:34:30.137479Z"
    }
   },
   "outputs": [
    {
     "data": {
      "text/plain": [
       "[[[],\n",
       "  [('A0', 0, 0), ('A1', 2, 2), ('A2', 3, 5)],\n",
       "  [],\n",
       "  [],\n",
       "  [('A0', 2, 2), ('A1', 5, 5)],\n",
       "  [],\n",
       "  []]]"
      ]
     },
     "execution_count": 20,
     "metadata": {},
     "output_type": "execute_result"
    }
   ],
   "source": [
    "# ltp.srl(hidden, keep_empty=False)\n",
    "ltp.srl(hidden)"
   ]
  }
 ],
 "metadata": {
  "kernelspec": {
   "display_name": "Python 3",
   "language": "python",
   "name": "python3"
  },
  "language_info": {
   "codemirror_mode": {
    "name": "ipython",
    "version": 3
   },
   "file_extension": ".py",
   "mimetype": "text/x-python",
   "name": "python",
   "nbconvert_exporter": "python",
   "pygments_lexer": "ipython3",
   "version": "3.7.7"
  },
  "varInspector": {
   "cols": {
    "lenName": 16,
    "lenType": 16,
    "lenVar": 40
   },
   "kernels_config": {
    "python": {
     "delete_cmd_postfix": "",
     "delete_cmd_prefix": "del ",
     "library": "var_list.py",
     "varRefreshCmd": "print(var_dic_list())"
    },
    "r": {
     "delete_cmd_postfix": ") ",
     "delete_cmd_prefix": "rm(",
     "library": "var_list.r",
     "varRefreshCmd": "cat(var_dic_list()) "
    }
   },
   "types_to_exclude": [
    "module",
    "function",
    "builtin_function_or_method",
    "instance",
    "_Feature"
   ],
   "window_display": false
  }
 },
 "nbformat": 4,
 "nbformat_minor": 4
}
