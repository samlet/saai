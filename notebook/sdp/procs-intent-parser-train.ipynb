{
 "cells": [
  {
   "cell_type": "markdown",
   "metadata": {},
   "source": [
    "spaCy的解析器组件可用于训练以预测输入文本上的任何类型的树结构-包括不是语法依赖性的语义关系。这对于会话应用程序很有用，该应用程序需要预测整个文档或聊天记录中的树，并且句子根之间的连接用于注释话语结构。例如，您可以训练spaCy的解析器来标记意图及其目标，例如属性，质量，时间和位置。"
   ]
  },
  {
   "cell_type": "markdown",
   "metadata": {},
   "source": [
    "### 逐步指南\n",
    "* 按顺序创建由单词，单词的头和依赖标签组成的训练数据。令牌的头部是其所附的令牌的索引。头不需要在语法上正确–它们应该表达您希望解析器学习的语义关系。对于不应接收标签的单词，您可以选择任意占位符，例如-。\n",
    "* 加载模型要使用启动，或创建一个空的模型使用 spacy.blank使用您的语言的ID。如果您使用的是空白模型，请不要忘记将自定义解析器添加到管道中。如果您使用的是现有模型，请确保在训练过程中使用以下方法从管道中删除旧的解析器，并禁用所有其他管道组件：nlp.disable_pipes。这样，您将只训练解析器。\n",
    "* 使用将依赖项标签添加到解析器 add_label 方法。\n",
    "* 随机播放并遍历示例。对于每个示例，通过调用来更新模型nlp.update，它会逐步检查输入的单词。每个单词都做出一个预测。然后，它查阅注释以查看它是否正确。如果错了，它会调整权重，以便下次正确的动作得分更高。\n",
    "* 使用保存训练模型nlp.to_disk。\n",
    "* 测试模型以确保解析器按预期工作。"
   ]
  },
  {
   "cell_type": "code",
   "execution_count": 1,
   "metadata": {
    "ExecuteTime": {
     "end_time": "2020-06-20T07:16:30.715381Z",
     "start_time": "2020-06-20T07:16:30.697984Z"
    }
   },
   "outputs": [],
   "source": [
    "# training data: texts, heads and dependency labels\n",
    "# for no relation, we simply chose an arbitrary dependency label, e.g. '-'\n",
    "TRAIN_DATA = [\n",
    "    (\n",
    "        \"find a cafe with great wifi\",\n",
    "        {\n",
    "            \"heads\": [0, 2, 0, 5, 5, 2],  # index of token head\n",
    "            \"deps\": [\"ROOT\", \"-\", \"PLACE\", \"-\", \"QUALITY\", \"ATTRIBUTE\"],\n",
    "        },\n",
    "    ),\n",
    "    (\n",
    "        \"find a hotel near the beach\",\n",
    "        {\n",
    "            \"heads\": [0, 2, 0, 5, 5, 2],\n",
    "            \"deps\": [\"ROOT\", \"-\", \"PLACE\", \"QUALITY\", \"-\", \"ATTRIBUTE\"],\n",
    "        },\n",
    "    ),\n",
    "    (\n",
    "        \"find me the closest gym that's open late\",\n",
    "        {\n",
    "            \"heads\": [0, 0, 4, 4, 0, 6, 4, 6, 6],\n",
    "            \"deps\": [\n",
    "                \"ROOT\",\n",
    "                \"-\",\n",
    "                \"-\",\n",
    "                \"QUALITY\",\n",
    "                \"PLACE\",\n",
    "                \"-\",\n",
    "                \"-\",\n",
    "                \"ATTRIBUTE\",\n",
    "                \"TIME\",\n",
    "            ],\n",
    "        },\n",
    "    ),\n",
    "    (\n",
    "        \"show me the cheapest store that sells flowers\",\n",
    "        {\n",
    "            \"heads\": [0, 0, 4, 4, 0, 4, 4, 4],  # attach \"flowers\" to store!\n",
    "            \"deps\": [\"ROOT\", \"-\", \"-\", \"QUALITY\", \"PLACE\", \"-\", \"-\", \"PRODUCT\"],\n",
    "        },\n",
    "    ),\n",
    "    (\n",
    "        \"find a nice restaurant in london\",\n",
    "        {\n",
    "            \"heads\": [0, 3, 3, 0, 3, 3],\n",
    "            \"deps\": [\"ROOT\", \"-\", \"QUALITY\", \"PLACE\", \"-\", \"LOCATION\"],\n",
    "        },\n",
    "    ),\n",
    "    (\n",
    "        \"show me the coolest hostel in berlin\",\n",
    "        {\n",
    "            \"heads\": [0, 0, 4, 4, 0, 4, 4],\n",
    "            \"deps\": [\"ROOT\", \"-\", \"-\", \"QUALITY\", \"PLACE\", \"-\", \"LOCATION\"],\n",
    "        },\n",
    "    ),\n",
    "    (\n",
    "        \"find a good italian restaurant near work\",\n",
    "        {\n",
    "            \"heads\": [0, 4, 4, 4, 0, 4, 5],\n",
    "            \"deps\": [\n",
    "                \"ROOT\",\n",
    "                \"-\",\n",
    "                \"QUALITY\",\n",
    "                \"ATTRIBUTE\",\n",
    "                \"PLACE\",\n",
    "                \"ATTRIBUTE\",\n",
    "                \"LOCATION\",\n",
    "            ],\n",
    "        },\n",
    "    ),\n",
    "]"
   ]
  },
  {
   "cell_type": "code",
   "execution_count": 2,
   "metadata": {
    "ExecuteTime": {
     "end_time": "2020-06-20T07:16:45.467739Z",
     "start_time": "2020-06-20T07:16:44.924262Z"
    }
   },
   "outputs": [],
   "source": [
    "import random\n",
    "from pathlib import Path\n",
    "import spacy\n",
    "from spacy.util import minibatch, compounding"
   ]
  },
  {
   "cell_type": "code",
   "execution_count": 4,
   "metadata": {
    "ExecuteTime": {
     "end_time": "2020-06-20T07:18:20.820263Z",
     "start_time": "2020-06-20T07:18:20.618343Z"
    }
   },
   "outputs": [],
   "source": [
    "nlp = spacy.blank(\"en\")  # create blank Language class\n",
    "\n",
    "# We'll use the built-in dependency parser class, but we want to create a\n",
    "# fresh instance – just in case.\n",
    "if \"parser\" in nlp.pipe_names:\n",
    "    nlp.remove_pipe(\"parser\")\n",
    "parser = nlp.create_pipe(\"parser\")\n",
    "nlp.add_pipe(parser, first=True)\n",
    "\n",
    "for text, annotations in TRAIN_DATA:\n",
    "    for dep in annotations.get(\"deps\", []):\n",
    "        parser.add_label(dep)"
   ]
  },
  {
   "cell_type": "code",
   "execution_count": 7,
   "metadata": {
    "ExecuteTime": {
     "end_time": "2020-06-20T07:19:19.995622Z",
     "start_time": "2020-06-20T07:19:19.200299Z"
    }
   },
   "outputs": [
    {
     "name": "stdout",
     "output_type": "stream",
     "text": [
      "Losses {'parser': 26.828265368938446}\n",
      "Losses {'parser': 30.450553886592388}\n",
      "Losses {'parser': 28.348180279135704}\n",
      "Losses {'parser': 24.870065785944462}\n",
      "Losses {'parser': 27.60044641047716}\n",
      "Losses {'parser': 26.754187911748886}\n",
      "Losses {'parser': 27.736614488065243}\n",
      "Losses {'parser': 30.705915331840515}\n",
      "Losses {'parser': 26.23321044445038}\n",
      "Losses {'parser': 21.00887693464756}\n",
      "Losses {'parser': 16.1575785279274}\n",
      "Losses {'parser': 15.251114595215768}\n",
      "Losses {'parser': 9.836891966639087}\n",
      "Losses {'parser': 7.147974300431088}\n",
      "Losses {'parser': 4.645134863697422}\n"
     ]
    }
   ],
   "source": [
    "output_dir=None\n",
    "n_iter=15\n",
    "\n",
    "pipe_exceptions = [\"parser\", \"trf_wordpiecer\", \"trf_tok2vec\"]\n",
    "other_pipes = [pipe for pipe in nlp.pipe_names if pipe not in pipe_exceptions]\n",
    "with nlp.disable_pipes(*other_pipes):  # only train parser\n",
    "    optimizer = nlp.begin_training()\n",
    "    for itn in range(n_iter):\n",
    "        random.shuffle(TRAIN_DATA)\n",
    "        losses = {}\n",
    "        # batch up the examples using spaCy's minibatch\n",
    "        batches = minibatch(TRAIN_DATA, size=compounding(4.0, 32.0, 1.001))\n",
    "        for batch in batches:\n",
    "            texts, annotations = zip(*batch)\n",
    "            nlp.update(texts, annotations, sgd=optimizer, losses=losses)\n",
    "        print(\"Losses\", losses)"
   ]
  },
  {
   "cell_type": "code",
   "execution_count": 16,
   "metadata": {
    "ExecuteTime": {
     "end_time": "2020-06-20T21:01:17.165926Z",
     "start_time": "2020-06-20T21:01:17.149644Z"
    }
   },
   "outputs": [
    {
     "name": "stdout",
     "output_type": "stream",
     "text": [
      "find a hotel with good wifi\n",
      "[('find', 'ROOT', 'find'), ('hotel', 'PLACE', 'find'), ('good', 'QUALITY', 'wifi'), ('wifi', 'ATTRIBUTE', 'hotel')]\n",
      "find me the cheapest gym near work\n",
      "[('find', 'ROOT', 'find'), ('cheapest', 'QUALITY', 'gym'), ('gym', 'PLACE', 'me'), ('near', 'ATTRIBUTE', 'gym'), ('work', 'LOCATION', 'near')]\n",
      "show me the best hotel in berlin\n",
      "[('show', 'ROOT', 'show'), ('best', 'QUALITY', 'hotel'), ('hotel', 'PLACE', 'show'), ('berlin', 'LOCATION', 'hotel')]\n",
      "you do not know me\n",
      "[('you', 'ROOT', 'you'), ('not', 'QUALITY', 'know'), ('know', 'PLACE', 'do')]\n",
      "show me the hotel in berlin\n",
      "[('show', 'ROOT', 'show'), ('hotel', 'PLACE', 'show'), ('berlin', 'LOCATION', 'hotel')]\n"
     ]
    }
   ],
   "source": [
    "def test_model(nlp):\n",
    "    texts = [\n",
    "        \"find a hotel with good wifi\",\n",
    "        \"find me the cheapest gym near work\",\n",
    "        \"show me the best hotel in berlin\",\n",
    "        'you do not know me', # ??\n",
    "        'show me the hotel in berlin'\n",
    "    ]\n",
    "    docs = nlp.pipe(texts)\n",
    "    for doc in docs:\n",
    "        print(doc.text)\n",
    "        print([(t.text, t.dep_, t.head.text) for t in doc if t.dep_ != \"-\"])\n",
    "\n",
    "test_model(nlp)"
   ]
  },
  {
   "cell_type": "code",
   "execution_count": 9,
   "metadata": {
    "ExecuteTime": {
     "end_time": "2020-06-20T07:21:49.711519Z",
     "start_time": "2020-06-20T07:21:49.670726Z"
    }
   },
   "outputs": [
    {
     "name": "stdout",
     "output_type": "stream",
     "text": [
      "Saved model to models\n"
     ]
    }
   ],
   "source": [
    "output_dir = Path('models')\n",
    "if not output_dir.exists():\n",
    "    output_dir.mkdir()\n",
    "nlp.to_disk(output_dir)\n",
    "print(\"Saved model to\", output_dir)"
   ]
  },
  {
   "cell_type": "code",
   "execution_count": 10,
   "metadata": {
    "ExecuteTime": {
     "end_time": "2020-06-20T07:22:25.241867Z",
     "start_time": "2020-06-20T07:22:24.761430Z"
    }
   },
   "outputs": [
    {
     "name": "stdout",
     "output_type": "stream",
     "text": [
      "Loading from models\n",
      "find a hotel with good wifi\n",
      "[('find', 'ROOT', 'find'), ('hotel', 'PLACE', 'find'), ('good', 'QUALITY', 'wifi'), ('wifi', 'ATTRIBUTE', 'hotel')]\n",
      "find me the cheapest gym near work\n",
      "[('find', 'ROOT', 'find'), ('cheapest', 'QUALITY', 'gym'), ('gym', 'PLACE', 'me'), ('near', 'ATTRIBUTE', 'gym'), ('work', 'LOCATION', 'near')]\n",
      "show me the best hotel in berlin\n",
      "[('show', 'ROOT', 'show'), ('best', 'QUALITY', 'hotel'), ('hotel', 'PLACE', 'show'), ('berlin', 'LOCATION', 'hotel')]\n"
     ]
    }
   ],
   "source": [
    "# test the saved model\n",
    "print(\"Loading from\", output_dir)\n",
    "nlp2 = spacy.load(output_dir)\n",
    "test_model(nlp2)"
   ]
  }
 ],
 "metadata": {
  "kernelspec": {
   "display_name": "Python 3",
   "language": "python",
   "name": "python3"
  },
  "language_info": {
   "codemirror_mode": {
    "name": "ipython",
    "version": 3
   },
   "file_extension": ".py",
   "mimetype": "text/x-python",
   "name": "python",
   "nbconvert_exporter": "python",
   "pygments_lexer": "ipython3",
   "version": "3.7.7"
  },
  "varInspector": {
   "cols": {
    "lenName": 16,
    "lenType": 16,
    "lenVar": 40
   },
   "kernels_config": {
    "python": {
     "delete_cmd_postfix": "",
     "delete_cmd_prefix": "del ",
     "library": "var_list.py",
     "varRefreshCmd": "print(var_dic_list())"
    },
    "r": {
     "delete_cmd_postfix": ") ",
     "delete_cmd_prefix": "rm(",
     "library": "var_list.r",
     "varRefreshCmd": "cat(var_dic_list()) "
    }
   },
   "types_to_exclude": [
    "module",
    "function",
    "builtin_function_or_method",
    "instance",
    "_Feature"
   ],
   "window_display": false
  }
 },
 "nbformat": 4,
 "nbformat_minor": 4
}
