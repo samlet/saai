{
 "cells": [
  {
   "cell_type": "code",
   "execution_count": 1,
   "metadata": {
    "ExecuteTime": {
     "end_time": "2020-06-19T16:02:54.397196Z",
     "start_time": "2020-06-19T16:02:54.107453Z"
    }
   },
   "outputs": [
    {
     "data": {
      "text/plain": [
       "'/usr/local/saai/ai'"
      ]
     },
     "execution_count": 1,
     "metadata": {},
     "output_type": "execute_result"
    }
   ],
   "source": [
    "from sagas.conf.conf import cf\n",
    "cf.data_dir"
   ]
  },
  {
   "cell_type": "code",
   "execution_count": 2,
   "metadata": {
    "ExecuteTime": {
     "end_time": "2020-06-19T16:02:59.995088Z",
     "start_time": "2020-06-19T16:02:56.204287Z"
    }
   },
   "outputs": [],
   "source": [
    "import allennlp.models"
   ]
  },
  {
   "cell_type": "code",
   "execution_count": 32,
   "metadata": {
    "ExecuteTime": {
     "end_time": "2020-06-20T12:41:47.891047Z",
     "start_time": "2020-06-20T12:41:33.740421Z"
    }
   },
   "outputs": [],
   "source": [
    "from allennlp.predictors.predictor import Predictor\n",
    "# import allennlp_models.syntax.srl\n",
    "predictor = Predictor.from_path(f\"{cf.data_dir}/allenai/bert-base-srl-2020.03.24.tar.gz\")"
   ]
  },
  {
   "cell_type": "code",
   "execution_count": 35,
   "metadata": {
    "ExecuteTime": {
     "end_time": "2020-06-20T13:18:18.811405Z",
     "start_time": "2020-06-20T13:18:18.614469Z"
    }
   },
   "outputs": [
    {
     "data": {
      "text/plain": [
       "{'verbs': [{'verb': 'go',\n",
       "   'description': '[ARGM-TMP: What time] does [ARG0: he] [V: go] [ARG4: to school]',\n",
       "   'tags': ['B-ARGM-TMP',\n",
       "    'I-ARGM-TMP',\n",
       "    'O',\n",
       "    'B-ARG0',\n",
       "    'B-V',\n",
       "    'B-ARG4',\n",
       "    'I-ARG4']}],\n",
       " 'words': ['What', 'time', 'does', 'he', 'go', 'to', 'school']}"
      ]
     },
     "execution_count": 35,
     "metadata": {},
     "output_type": "execute_result"
    }
   ],
   "source": [
    "text='What time does he go to school'\n",
    "predictor.predict(sentence=text)"
   ]
  },
  {
   "cell_type": "code",
   "execution_count": 37,
   "metadata": {
    "ExecuteTime": {
     "end_time": "2020-06-20T13:48:17.343015Z",
     "start_time": "2020-06-20T13:48:17.131217Z"
    }
   },
   "outputs": [
    {
     "data": {
      "text/plain": [
       "{'verbs': [{'verb': 'goes',\n",
       "   'description': '[ARG0: He] [V: goes] [ARG4: to school] [ARGM-TMP: at five a.m.]',\n",
       "   'tags': ['B-ARG0',\n",
       "    'B-V',\n",
       "    'B-ARG4',\n",
       "    'I-ARG4',\n",
       "    'B-ARGM-TMP',\n",
       "    'I-ARGM-TMP',\n",
       "    'I-ARGM-TMP']}],\n",
       " 'words': ['He', 'goes', 'to', 'school', 'at', 'five', 'a.m.']}"
      ]
     },
     "execution_count": 37,
     "metadata": {},
     "output_type": "execute_result"
    }
   ],
   "source": [
    "text='He goes to school at five a.m.'\n",
    "predictor.predict(sentence=text)"
   ]
  },
  {
   "cell_type": "code",
   "execution_count": 34,
   "metadata": {
    "ExecuteTime": {
     "end_time": "2020-06-20T12:42:54.619438Z",
     "start_time": "2020-06-20T12:42:54.421441Z"
    }
   },
   "outputs": [
    {
     "data": {
      "text/plain": [
       "{'verbs': [{'verb': 'rose',\n",
       "   'description': '[ARG1: The rent] [V: rose] [ARG2: 10 %] [ARG3: from $ 3000] [ARG4: to $ 3300]',\n",
       "   'tags': ['B-ARG1',\n",
       "    'I-ARG1',\n",
       "    'B-V',\n",
       "    'B-ARG2',\n",
       "    'I-ARG2',\n",
       "    'B-ARG3',\n",
       "    'I-ARG3',\n",
       "    'I-ARG3',\n",
       "    'B-ARG4',\n",
       "    'I-ARG4',\n",
       "    'I-ARG4']}],\n",
       " 'words': ['The',\n",
       "  'rent',\n",
       "  'rose',\n",
       "  '10',\n",
       "  '%',\n",
       "  'from',\n",
       "  '$',\n",
       "  '3000',\n",
       "  'to',\n",
       "  '$',\n",
       "  '3300']}"
      ]
     },
     "execution_count": 34,
     "metadata": {},
     "output_type": "execute_result"
    }
   ],
   "source": [
    "result=predictor.predict(\n",
    "  sentence=\"The rent rose 10% from $3000 to $3300\"\n",
    ")\n",
    "result"
   ]
  },
  {
   "cell_type": "code",
   "execution_count": 33,
   "metadata": {
    "ExecuteTime": {
     "end_time": "2020-06-20T12:41:51.033428Z",
     "start_time": "2020-06-20T12:41:50.738000Z"
    }
   },
   "outputs": [
    {
     "data": {
      "text/plain": [
       "{'verbs': [{'verb': 'think',\n",
       "   'description': 'Did [ARG0: Uriah] [ARGM-MNR: honestly] [V: think] [ARG1: he could beat the game in under three hours] ?',\n",
       "   'tags': ['O',\n",
       "    'B-ARG0',\n",
       "    'B-ARGM-MNR',\n",
       "    'B-V',\n",
       "    'B-ARG1',\n",
       "    'I-ARG1',\n",
       "    'I-ARG1',\n",
       "    'I-ARG1',\n",
       "    'I-ARG1',\n",
       "    'I-ARG1',\n",
       "    'I-ARG1',\n",
       "    'I-ARG1',\n",
       "    'I-ARG1',\n",
       "    'O']},\n",
       "  {'verb': 'could',\n",
       "   'description': 'Did Uriah honestly think he [V: could] beat the game in under three hours ?',\n",
       "   'tags': ['O',\n",
       "    'O',\n",
       "    'O',\n",
       "    'O',\n",
       "    'O',\n",
       "    'B-V',\n",
       "    'O',\n",
       "    'O',\n",
       "    'O',\n",
       "    'O',\n",
       "    'O',\n",
       "    'O',\n",
       "    'O',\n",
       "    'O']},\n",
       "  {'verb': 'beat',\n",
       "   'description': 'Did Uriah honestly think [ARG0: he] [ARGM-MOD: could] [V: beat] [ARG1: the game] in [ARGM-TMP: under three hours] ?',\n",
       "   'tags': ['O',\n",
       "    'O',\n",
       "    'O',\n",
       "    'O',\n",
       "    'B-ARG0',\n",
       "    'B-ARGM-MOD',\n",
       "    'B-V',\n",
       "    'B-ARG1',\n",
       "    'I-ARG1',\n",
       "    'O',\n",
       "    'B-ARGM-TMP',\n",
       "    'I-ARGM-TMP',\n",
       "    'I-ARGM-TMP',\n",
       "    'O']}],\n",
       " 'words': ['Did',\n",
       "  'Uriah',\n",
       "  'honestly',\n",
       "  'think',\n",
       "  'he',\n",
       "  'could',\n",
       "  'beat',\n",
       "  'the',\n",
       "  'game',\n",
       "  'in',\n",
       "  'under',\n",
       "  'three',\n",
       "  'hours',\n",
       "  '?']}"
      ]
     },
     "execution_count": 33,
     "metadata": {},
     "output_type": "execute_result"
    }
   ],
   "source": [
    "result=predictor.predict(\n",
    "  sentence=\"Did Uriah honestly think he could beat the game in under three hours?\"\n",
    ")\n",
    "result"
   ]
  },
  {
   "cell_type": "code",
   "execution_count": 17,
   "metadata": {
    "ExecuteTime": {
     "end_time": "2020-06-19T15:37:48.690139Z",
     "start_time": "2020-06-19T15:37:48.683331Z"
    }
   },
   "outputs": [
    {
     "name": "stdout",
     "output_type": "stream",
     "text": [
      "dict_keys(['verbs', 'words']) ['think', 'could', 'beat']\n",
      "---------------\n",
      "[('ARG0', 1, 1), ('ARGM-MNR', 2, 2), ('V', 3, 3), ('ARG1', 4, 12)]\n",
      "Did [ARG0: Uriah] [ARGM-MNR: honestly] [V: think] [ARG1: he could beat the game in under three hours] ?\n",
      "---------------\n",
      "[('V', 5, 5)]\n",
      "Did Uriah honestly think he [V: could] beat the game in under three hours ?\n",
      "---------------\n",
      "[('ARG0', 4, 4), ('ARGM-MOD', 5, 5), ('V', 6, 6), ('ARG1', 7, 8), ('ARGM-TMP', 10, 12)]\n",
      "Did Uriah honestly think [ARG0: he] [ARGM-MOD: could] [V: beat] [ARG1: the game] in [ARGM-TMP: under three hours] ?\n"
     ]
    }
   ],
   "source": [
    "from sagas.nlu.utils import get_entities\n",
    "print(result.keys(), [v['verb'] for v in result['verbs']])\n",
    "for v in result['verbs']:\n",
    "    print('-'*15)\n",
    "    print(get_entities(v['tags']))\n",
    "    print(v['description'])    "
   ]
  },
  {
   "cell_type": "code",
   "execution_count": 14,
   "metadata": {
    "ExecuteTime": {
     "end_time": "2020-06-19T16:11:15.655140Z",
     "start_time": "2020-06-19T16:11:15.391652Z"
    }
   },
   "outputs": [
    {
     "data": {
      "text/plain": [
       "[[(4, 9, 'think_ARG0'),\n",
       "  (10, 18, 'think_ARGM-MNR'),\n",
       "  (19, 24, 'think_V'),\n",
       "  (25, 68, 'think_ARG1')],\n",
       " [(28, 33, 'could_V')],\n",
       " [(25, 27, 'beat_ARG0'),\n",
       "  (28, 33, 'beat_ARGM-MOD'),\n",
       "  (34, 38, 'beat_V'),\n",
       "  (39, 47, 'beat_ARG1'),\n",
       "  (51, 68, 'beat_ARGM-TMP')]]"
      ]
     },
     "execution_count": 14,
     "metadata": {},
     "output_type": "execute_result"
    }
   ],
   "source": [
    "from sagas.nlu.utils import get_entities\n",
    "\n",
    "def terms_positions(sents):\n",
    "    terms=predictor.predict(sentence=sents)\n",
    "    words = terms['words']\n",
    "    rs = [] \n",
    "    for v in terms['verbs']:\n",
    "        verb_terms=[]\n",
    "        verb=v['verb']\n",
    "        term_toks=get_entities(v['tags'])\n",
    "        tokens=[(tag, ' '.join(words[start:end+1])) for tag,start,end in term_toks]\n",
    "        # print(tokens)\n",
    "        running_offset = 0        \n",
    "        for tag, word in tokens:        \n",
    "            word_offset = sents.index(word, running_offset)\n",
    "            word_len = len(word)\n",
    "            running_offset = word_offset + word_len\n",
    "            verb_terms.append((word_offset, running_offset, verb+'_'+tag))\n",
    "        rs.append(verb_terms)\n",
    "    return rs\n",
    "\n",
    "sentence=\"Did Uriah honestly think he could beat the game in under three hours?\"\n",
    "spans=terms_positions(sentence)\n",
    "spans"
   ]
  },
  {
   "cell_type": "code",
   "execution_count": 15,
   "metadata": {
    "ExecuteTime": {
     "end_time": "2020-06-19T16:11:41.492169Z",
     "start_time": "2020-06-19T16:11:41.476019Z"
    }
   },
   "outputs": [
    {
     "data": {
      "text/html": [
       "<div class=\"tex2jax_ignore\" style=\"white-space: pre-wrap\">Did <span style=\"padding: 2px; border-radius: 4px; border: 1px solid #bbdefb; background: #e3f2fd\">Uriah<span style=\"vertical-align: middle; margin-left: 2px; font-size: 0.7em; color: #64b5f6;\">think_ARG0</span></span> <span style=\"padding: 2px; border-radius: 4px; border: 1px solid #c8e6c9; background: #e8f5e9\">honestly<span style=\"vertical-align: middle; margin-left: 2px; font-size: 0.7em; color: #66bb6a;\">think_ARGM-MNR</span></span> <span style=\"padding: 2px; border-radius: 4px; border: 1px solid #ffcdd2; background: #ffebee\">think<span style=\"vertical-align: middle; margin-left: 2px; font-size: 0.7em; color: #e57373;\">think_V</span></span> <span style=\"padding: 2px; border-radius: 4px; border: 1px solid #ffe0b2; background: #fff3e0\">he could beat the game in under three hours<span style=\"vertical-align: middle; margin-left: 2px; font-size: 0.7em; color: #ffb74d;\">think_ARG1</span></span>?</div>"
      ],
      "text/plain": [
       "BoxMarkup('Did Uriah honestly think he could beat the game in under three hours?',\n",
       "          [Span(4, 9, 'think_ARG0'),\n",
       "           Span(10, 18, 'think_ARGM-MNR'),\n",
       "           Span(19, 24, 'think_V'),\n",
       "           Span(25, 68, 'think_ARG1')])"
      ]
     },
     "metadata": {},
     "output_type": "display_data"
    },
    {
     "data": {
      "text/html": [
       "<div class=\"tex2jax_ignore\" style=\"white-space: pre-wrap\">Did Uriah honestly think he <span style=\"padding: 2px; border-radius: 4px; border: 1px solid #d7ccc8; background: #efebe9\">could<span style=\"vertical-align: middle; margin-left: 2px; font-size: 0.7em; color: #a1887f;\">could_V</span></span> beat the game in under three hours?</div>"
      ],
      "text/plain": [
       "BoxMarkup('Did Uriah honestly think he could beat the game in under three hours?',\n",
       "          [Span(28, 33, 'could_V')])"
      ]
     },
     "metadata": {},
     "output_type": "display_data"
    },
    {
     "data": {
      "text/html": [
       "<div class=\"tex2jax_ignore\" style=\"white-space: pre-wrap\">Did Uriah honestly think <span style=\"padding: 2px; border-radius: 4px; border: 1px solid #d1c4e9; background: #ede7f6\">he<span style=\"vertical-align: middle; margin-left: 2px; font-size: 0.7em; color: #9575cd;\">beat_ARG0</span></span> <span style=\"padding: 2px; border-radius: 4px; border: 1px solid #bbdefb; background: #e3f2fd\">could<span style=\"vertical-align: middle; margin-left: 2px; font-size: 0.7em; color: #64b5f6;\">beat_ARGM-MOD</span></span> <span style=\"padding: 2px; border-radius: 4px; border: 1px solid #c8e6c9; background: #e8f5e9\">beat<span style=\"vertical-align: middle; margin-left: 2px; font-size: 0.7em; color: #66bb6a;\">beat_V</span></span> <span style=\"padding: 2px; border-radius: 4px; border: 1px solid #ffcdd2; background: #ffebee\">the game<span style=\"vertical-align: middle; margin-left: 2px; font-size: 0.7em; color: #e57373;\">beat_ARG1</span></span> in <span style=\"padding: 2px; border-radius: 4px; border: 1px solid #ffe0b2; background: #fff3e0\">under three hours<span style=\"vertical-align: middle; margin-left: 2px; font-size: 0.7em; color: #ffb74d;\">beat_ARGM-TMP</span></span>?</div>"
      ],
      "text/plain": [
       "BoxMarkup('Did Uriah honestly think he could beat the game in under three hours?',\n",
       "          [Span(25, 27, 'beat_ARG0'),\n",
       "           Span(28, 33, 'beat_ARGM-MOD'),\n",
       "           Span(34, 38, 'beat_V'),\n",
       "           Span(39, 47, 'beat_ARG1'),\n",
       "           Span(51, 68, 'beat_ARGM-TMP')])"
      ]
     },
     "metadata": {},
     "output_type": "display_data"
    }
   ],
   "source": [
    "from ipymarkup.palette import palette, BLUE, RED, GREEN\n",
    "from ipymarkup import box_markup, show_box_markup\n",
    "for s in spans:\n",
    "    show_box_markup(sentence, s)"
   ]
  },
  {
   "cell_type": "code",
   "execution_count": 38,
   "metadata": {
    "ExecuteTime": {
     "end_time": "2020-06-22T02:55:22.261490Z",
     "start_time": "2020-06-22T02:55:20.563768Z"
    }
   },
   "outputs": [
    {
     "data": {
      "text/plain": [
       "[[(1, 5, 'stepping_ARG1'),\n",
       "  (6, 12, 'stepping_ARG0'),\n",
       "  (16, 24, 'stepping_V'),\n",
       "  (25, 32, 'stepping_ARGM-DIR'),\n",
       "  (33, 53, 'stepping_ARGM-PRP')],\n",
       " [(36, 40, 'pick_V'), (44, 53, 'pick_ARG1')],\n",
       " [(1, 53, 'asked_ARG1'), (58, 60, 'asked_ARG0'), (61, 66, 'asked_V')]]"
      ]
     },
     "execution_count": 38,
     "metadata": {},
     "output_type": "execute_result"
    }
   ],
   "source": [
    "terms_positions('\"What sector is stepping forward to pick up the slack ? \" he asked')"
   ]
  },
  {
   "cell_type": "code",
   "execution_count": 40,
   "metadata": {
    "ExecuteTime": {
     "end_time": "2020-06-22T02:58:52.981495Z",
     "start_time": "2020-06-22T02:58:52.605104Z"
    }
   },
   "outputs": [
    {
     "data": {
      "text/html": [
       "<div class=\"tex2jax_ignore\" style=\"white-space: pre-wrap\">\"<span style=\"padding: 2px; border-radius: 4px; border: 1px solid #d1c4e9; background: #ede7f6\">What<span style=\"vertical-align: middle; margin-left: 2px; font-size: 0.7em; color: #9575cd;\">stepping_ARG1</span></span> <span style=\"padding: 2px; border-radius: 4px; border: 1px solid #d7ccc8; background: #efebe9\">sector<span style=\"vertical-align: middle; margin-left: 2px; font-size: 0.7em; color: #a1887f;\">stepping_ARG0</span></span> is <span style=\"padding: 2px; border-radius: 4px; border: 1px solid #bbdefb; background: #e3f2fd\">stepping<span style=\"vertical-align: middle; margin-left: 2px; font-size: 0.7em; color: #64b5f6;\">stepping_V</span></span> <span style=\"padding: 2px; border-radius: 4px; border: 1px solid #c8e6c9; background: #e8f5e9\">forward<span style=\"vertical-align: middle; margin-left: 2px; font-size: 0.7em; color: #66bb6a;\">stepping_ARGM-DIR</span></span> <span style=\"padding: 2px; border-radius: 4px; border: 1px solid #ffcdd2; background: #ffebee\">to pick up the slack<span style=\"vertical-align: middle; margin-left: 2px; font-size: 0.7em; color: #e57373;\">stepping_ARGM-PRP</span></span> ? \" he asked</div>"
      ],
      "text/plain": [
       "BoxMarkup('\"What sector is stepping forward to pick up the slack ? \" he asked',\n",
       "          [Span(1, 5, 'stepping_ARG1'),\n",
       "           Span(6, 12, 'stepping_ARG0'),\n",
       "           Span(16, 24, 'stepping_V'),\n",
       "           Span(25, 32, 'stepping_ARGM-DIR'),\n",
       "           Span(33, 53, 'stepping_ARGM-PRP')])"
      ]
     },
     "metadata": {},
     "output_type": "display_data"
    },
    {
     "data": {
      "text/html": [
       "<div class=\"tex2jax_ignore\" style=\"white-space: pre-wrap\">\"What sector is stepping forward to <span style=\"padding: 2px; border-radius: 4px; border: 1px solid #ffe0b2; background: #fff3e0\">pick<span style=\"vertical-align: middle; margin-left: 2px; font-size: 0.7em; color: #ffb74d;\">pick_V</span></span> up <span style=\"padding: 2px; border-radius: 4px; border: 1px solid #d1c4e9; background: #ede7f6\">the slack<span style=\"vertical-align: middle; margin-left: 2px; font-size: 0.7em; color: #9575cd;\">pick_ARG1</span></span> ? \" he asked</div>"
      ],
      "text/plain": [
       "BoxMarkup('\"What sector is stepping forward to pick up the slack ? \" he asked',\n",
       "          [Span(36, 40, 'pick_V'), Span(44, 53, 'pick_ARG1')])"
      ]
     },
     "metadata": {},
     "output_type": "display_data"
    },
    {
     "data": {
      "text/html": [
       "<div class=\"tex2jax_ignore\" style=\"white-space: pre-wrap\">\"<span style=\"padding: 2px; border-radius: 4px; border: 1px solid #d7ccc8; background: #efebe9\">What sector is stepping forward to pick up the slack<span style=\"vertical-align: middle; margin-left: 2px; font-size: 0.7em; color: #a1887f;\">asked_ARG1</span></span> ? \" <span style=\"padding: 2px; border-radius: 4px; border: 1px solid #bbdefb; background: #e3f2fd\">he<span style=\"vertical-align: middle; margin-left: 2px; font-size: 0.7em; color: #64b5f6;\">asked_ARG0</span></span> <span style=\"padding: 2px; border-radius: 4px; border: 1px solid #c8e6c9; background: #e8f5e9\">asked<span style=\"vertical-align: middle; margin-left: 2px; font-size: 0.7em; color: #66bb6a;\">asked_V</span></span></div>"
      ],
      "text/plain": [
       "BoxMarkup('\"What sector is stepping forward to pick up the slack ? \" he asked',\n",
       "          [Span(1, 53, 'asked_ARG1'),\n",
       "           Span(58, 60, 'asked_ARG0'),\n",
       "           Span(61, 66, 'asked_V')])"
      ]
     },
     "metadata": {},
     "output_type": "display_data"
    }
   ],
   "source": [
    "def show_spans(sentence):\n",
    "    spans=terms_positions(sentence)\n",
    "    for s in spans:\n",
    "        show_box_markup(sentence, s)\n",
    "show_spans('\"What sector is stepping forward to pick up the slack ? \" he asked')"
   ]
  },
  {
   "cell_type": "markdown",
   "metadata": {},
   "source": [
    "The following types of modifiers are being used in PropBank:\n",
    "* COM: Comitative \n",
    "* LOC: Locative \n",
    "* DIR: Directional \n",
    "* GOL: Goal\n",
    "* MNR: Manner\n",
    "* TMP: Temporal\n",
    "* EXT: Extent\n",
    "* REC: Reciprocals\n",
    "* PRD: Secondary Predication \n",
    "* PRP: Purpose\n",
    "* CAU: Cause\n",
    "* DIS: Discourse \n",
    "* ADV: Adverbials \n",
    "* ADJ: Adjectival \n",
    "* MOD: Modal\n",
    "* NEG: Negation \n",
    "* DSP: Direct Speech \n",
    "* LVB: Light Verb \n",
    "* CXN: Construction"
   ]
  },
  {
   "cell_type": "code",
   "execution_count": 5,
   "metadata": {
    "ExecuteTime": {
     "end_time": "2020-06-19T07:46:11.168091Z",
     "start_time": "2020-06-19T07:46:09.565159Z"
    }
   },
   "outputs": [
    {
     "data": {
      "text/plain": [
       "{'verbs': [{'verb': 'decided',\n",
       "   'description': '[ARG0: John] [V: decided] [ARG1: to run for office next month] .',\n",
       "   'tags': ['B-ARG0',\n",
       "    'B-V',\n",
       "    'B-ARG1',\n",
       "    'I-ARG1',\n",
       "    'I-ARG1',\n",
       "    'I-ARG1',\n",
       "    'I-ARG1',\n",
       "    'I-ARG1',\n",
       "    'O']},\n",
       "  {'verb': 'run',\n",
       "   'description': '[ARG0: John] decided to [V: run] [ARG1: for office] [ARGM-TMP: next month] .',\n",
       "   'tags': ['B-ARG0',\n",
       "    'O',\n",
       "    'O',\n",
       "    'B-V',\n",
       "    'B-ARG1',\n",
       "    'I-ARG1',\n",
       "    'B-ARGM-TMP',\n",
       "    'I-ARGM-TMP',\n",
       "    'O']}],\n",
       " 'words': ['John',\n",
       "  'decided',\n",
       "  'to',\n",
       "  'run',\n",
       "  'for',\n",
       "  'office',\n",
       "  'next',\n",
       "  'month',\n",
       "  '.']}"
      ]
     },
     "execution_count": 5,
     "metadata": {},
     "output_type": "execute_result"
    }
   ],
   "source": [
    "predictor_openie = Predictor.from_path(f\"{cf.data_dir}/allenai/openie-model.2020.03.26.tar.gz\")\n",
    "predictor_openie.predict(\n",
    "  sentence=\"John decided to run for office next month.\"\n",
    ")"
   ]
  },
  {
   "cell_type": "code",
   "execution_count": 21,
   "metadata": {
    "ExecuteTime": {
     "end_time": "2020-06-20T02:30:59.153292Z",
     "start_time": "2020-06-20T02:30:57.321227Z"
    }
   },
   "outputs": [
    {
     "data": {
      "text/plain": [
       "{'arc_loss': 0.37905213236808777,\n",
       " 'tag_loss': 0.5370486974716187,\n",
       " 'loss': 0.9161008596420288,\n",
       " 'words': ['If',\n",
       "  'I',\n",
       "  'bring',\n",
       "  '10',\n",
       "  'dollars',\n",
       "  'tomorrow',\n",
       "  ',',\n",
       "  'can',\n",
       "  'you',\n",
       "  'buy',\n",
       "  'me',\n",
       "  'lunch',\n",
       "  '?'],\n",
       " 'pos': ['SCONJ',\n",
       "  'PRON',\n",
       "  'VERB',\n",
       "  'NUM',\n",
       "  'NOUN',\n",
       "  'NOUN',\n",
       "  'PUNCT',\n",
       "  'VERB',\n",
       "  'PRON',\n",
       "  'VERB',\n",
       "  'PRON',\n",
       "  'NOUN',\n",
       "  'PUNCT'],\n",
       " 'predicted_dependencies': ['mark',\n",
       "  'nsubj',\n",
       "  'advcl',\n",
       "  'dep',\n",
       "  'dobj',\n",
       "  'tmod',\n",
       "  'advmod',\n",
       "  'aux',\n",
       "  'nsubj',\n",
       "  'root',\n",
       "  'dobj',\n",
       "  'dep',\n",
       "  'discourse'],\n",
       " 'predicted_heads': [3, 3, 10, 5, 3, 3, 10, 10, 10, 0, 10, 11, 10],\n",
       " 'hierplane_tree': {'text': 'If I bring 10 dollars tomorrow , can you buy me lunch ?',\n",
       "  'root': {'word': 'buy',\n",
       "   'nodeType': 'root',\n",
       "   'attributes': ['VERB'],\n",
       "   'link': 'root',\n",
       "   'spans': [{'start': 41, 'end': 45}],\n",
       "   'children': [{'word': 'bring',\n",
       "     'nodeType': 'advcl',\n",
       "     'attributes': ['VERB'],\n",
       "     'link': 'advcl',\n",
       "     'spans': [{'start': 5, 'end': 11}],\n",
       "     'children': [{'word': 'If',\n",
       "       'nodeType': 'mark',\n",
       "       'attributes': ['SCONJ'],\n",
       "       'link': 'mark',\n",
       "       'spans': [{'start': 0, 'end': 3}]},\n",
       "      {'word': 'I',\n",
       "       'nodeType': 'nsubj',\n",
       "       'attributes': ['PRON'],\n",
       "       'link': 'nsubj',\n",
       "       'spans': [{'start': 3, 'end': 5}]},\n",
       "      {'word': 'dollars',\n",
       "       'nodeType': 'dobj',\n",
       "       'attributes': ['NOUN'],\n",
       "       'link': 'dobj',\n",
       "       'spans': [{'start': 14, 'end': 22}],\n",
       "       'children': [{'word': '10',\n",
       "         'nodeType': 'dep',\n",
       "         'attributes': ['NUM'],\n",
       "         'link': 'dep',\n",
       "         'spans': [{'start': 11, 'end': 14}]}]},\n",
       "      {'word': 'tomorrow',\n",
       "       'nodeType': 'tmod',\n",
       "       'attributes': ['NOUN'],\n",
       "       'link': 'tmod',\n",
       "       'spans': [{'start': 22, 'end': 31}]}]},\n",
       "    {'word': ',',\n",
       "     'nodeType': 'advmod',\n",
       "     'attributes': ['PUNCT'],\n",
       "     'link': 'advmod',\n",
       "     'spans': [{'start': 31, 'end': 33}]},\n",
       "    {'word': 'can',\n",
       "     'nodeType': 'aux',\n",
       "     'attributes': ['VERB'],\n",
       "     'link': 'aux',\n",
       "     'spans': [{'start': 33, 'end': 37}]},\n",
       "    {'word': 'you',\n",
       "     'nodeType': 'nsubj',\n",
       "     'attributes': ['PRON'],\n",
       "     'link': 'nsubj',\n",
       "     'spans': [{'start': 37, 'end': 41}]},\n",
       "    {'word': 'me',\n",
       "     'nodeType': 'dobj',\n",
       "     'attributes': ['PRON'],\n",
       "     'link': 'dobj',\n",
       "     'spans': [{'start': 45, 'end': 48}],\n",
       "     'children': [{'word': 'lunch',\n",
       "       'nodeType': 'dep',\n",
       "       'attributes': ['NOUN'],\n",
       "       'link': 'dep',\n",
       "       'spans': [{'start': 48, 'end': 54}]}]},\n",
       "    {'word': '?',\n",
       "     'nodeType': 'discourse',\n",
       "     'attributes': ['PUNCT'],\n",
       "     'link': 'discourse',\n",
       "     'spans': [{'start': 54, 'end': 56}]}]},\n",
       "  'nodeTypeToStyle': {'root': ['color5', 'strong'],\n",
       "   'dep': ['color5', 'strong'],\n",
       "   'nsubj': ['color1'],\n",
       "   'nsubjpass': ['color1'],\n",
       "   'csubj': ['color1'],\n",
       "   'csubjpass': ['color1'],\n",
       "   'pobj': ['color2'],\n",
       "   'dobj': ['color2'],\n",
       "   'iobj': ['color2'],\n",
       "   'mark': ['color2'],\n",
       "   'pcomp': ['color2'],\n",
       "   'xcomp': ['color2'],\n",
       "   'ccomp': ['color2'],\n",
       "   'acomp': ['color2'],\n",
       "   'aux': ['color3'],\n",
       "   'cop': ['color3'],\n",
       "   'det': ['color3'],\n",
       "   'conj': ['color3'],\n",
       "   'cc': ['color3'],\n",
       "   'prep': ['color3'],\n",
       "   'number': ['color3'],\n",
       "   'possesive': ['color3'],\n",
       "   'poss': ['color3'],\n",
       "   'discourse': ['color3'],\n",
       "   'expletive': ['color3'],\n",
       "   'prt': ['color3'],\n",
       "   'advcl': ['color3'],\n",
       "   'mod': ['color4'],\n",
       "   'amod': ['color4'],\n",
       "   'tmod': ['color4'],\n",
       "   'quantmod': ['color4'],\n",
       "   'npadvmod': ['color4'],\n",
       "   'infmod': ['color4'],\n",
       "   'advmod': ['color4'],\n",
       "   'appos': ['color4'],\n",
       "   'nn': ['color4'],\n",
       "   'neg': ['color0'],\n",
       "   'punct': ['color0']},\n",
       "  'linkToPosition': {'nsubj': 'left',\n",
       "   'nsubjpass': 'left',\n",
       "   'csubj': 'left',\n",
       "   'csubjpass': 'left',\n",
       "   'pobj': 'right',\n",
       "   'dobj': 'right',\n",
       "   'iobj': 'right',\n",
       "   'pcomp': 'right',\n",
       "   'xcomp': 'right',\n",
       "   'ccomp': 'right',\n",
       "   'acomp': 'right'}}}"
      ]
     },
     "execution_count": 21,
     "metadata": {},
     "output_type": "execute_result"
    }
   ],
   "source": [
    "predictor_depp = Predictor.from_path(f\"{cf.data_dir}/allenai/biaffine-dependency-parser-ptb-2020.04.06.tar.gz\")\n",
    "r=predictor_depp.predict(\n",
    "  sentence=\"If I bring 10 dollars tomorrow, can you buy me lunch?\"\n",
    ")\n",
    "r"
   ]
  },
  {
   "cell_type": "code",
   "execution_count": 30,
   "metadata": {
    "ExecuteTime": {
     "end_time": "2020-06-20T02:58:32.468922Z",
     "start_time": "2020-06-20T02:58:32.326664Z"
    }
   },
   "outputs": [
    {
     "name": "stdout",
     "output_type": "stream",
     "text": [
      "root: think (verb)\n",
      "├── nsubj: Uriah (propn)\n",
      "├── dep: honestly (adv)\n",
      "│   └── dep: Did (aux)\n",
      "└── ccomp: beat (verb)\n",
      "    ├── nsubj: he (pron)\n",
      "    ├── aux: could (verb)\n",
      "    ├── dobj: game (noun)\n",
      "    │   └── det: the (det)\n",
      "    ├── advmod: in (adp)\n",
      "    │   └── dep: under (adp)\n",
      "    │       └── dep: hours (noun)\n",
      "    │           └── num: three (num)\n",
      "    └── discourse: ? (punct)\n"
     ]
    }
   ],
   "source": [
    "from anytree.importer import DictImporter\n",
    "from anytree import RenderTree\n",
    "\n",
    "sentence=\"Did Uriah honestly think he could beat the game in under three hours?\"\n",
    "r=predictor_depp.predict(sentence=sentence)\n",
    "importer = DictImporter()\n",
    "tree_root = importer.import_(r['hierplane_tree']['root'])\n",
    "tree = RenderTree(tree_root)\n",
    "for pre, fill, node in tree:\n",
    "    print(\"%s%s: %s (%s)\" % (pre, node.nodeType, node.word, \n",
    "                             ','.join(node.attributes).lower()))"
   ]
  }
 ],
 "metadata": {
  "kernelspec": {
   "display_name": "Python 3",
   "language": "python",
   "name": "python3"
  },
  "language_info": {
   "codemirror_mode": {
    "name": "ipython",
    "version": 3
   },
   "file_extension": ".py",
   "mimetype": "text/x-python",
   "name": "python",
   "nbconvert_exporter": "python",
   "pygments_lexer": "ipython3",
   "version": "3.7.7"
  },
  "varInspector": {
   "cols": {
    "lenName": 16,
    "lenType": 16,
    "lenVar": 40
   },
   "kernels_config": {
    "python": {
     "delete_cmd_postfix": "",
     "delete_cmd_prefix": "del ",
     "library": "var_list.py",
     "varRefreshCmd": "print(var_dic_list())"
    },
    "r": {
     "delete_cmd_postfix": ") ",
     "delete_cmd_prefix": "rm(",
     "library": "var_list.r",
     "varRefreshCmd": "cat(var_dic_list()) "
    }
   },
   "types_to_exclude": [
    "module",
    "function",
    "builtin_function_or_method",
    "instance",
    "_Feature"
   ],
   "window_display": false
  }
 },
 "nbformat": 4,
 "nbformat_minor": 4
}
