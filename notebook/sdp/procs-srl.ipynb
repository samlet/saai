{
 "cells": [
  {
   "cell_type": "code",
   "execution_count": 1,
   "metadata": {
    "ExecuteTime": {
     "end_time": "2020-06-19T16:02:54.397196Z",
     "start_time": "2020-06-19T16:02:54.107453Z"
    }
   },
   "outputs": [
    {
     "data": {
      "text/plain": [
       "'/usr/local/saai/ai'"
      ]
     },
     "execution_count": 1,
     "metadata": {},
     "output_type": "execute_result"
    }
   ],
   "source": [
    "from sagas.conf.conf import cf\n",
    "cf.data_dir"
   ]
  },
  {
   "cell_type": "code",
   "execution_count": 2,
   "metadata": {
    "ExecuteTime": {
     "end_time": "2020-06-19T16:02:59.995088Z",
     "start_time": "2020-06-19T16:02:56.204287Z"
    }
   },
   "outputs": [],
   "source": [
    "import allennlp.models"
   ]
  },
  {
   "cell_type": "code",
   "execution_count": 3,
   "metadata": {
    "ExecuteTime": {
     "end_time": "2020-06-19T16:03:24.120581Z",
     "start_time": "2020-06-19T16:03:02.585857Z"
    }
   },
   "outputs": [],
   "source": [
    "from allennlp.predictors.predictor import Predictor\n",
    "# import allennlp_models.syntax.srl\n",
    "predictor = Predictor.from_path(f\"{cf.data_dir}/allenai/bert-base-srl-2020.03.24.tar.gz\")"
   ]
  },
  {
   "cell_type": "code",
   "execution_count": 8,
   "metadata": {
    "ExecuteTime": {
     "end_time": "2020-06-19T15:33:30.085645Z",
     "start_time": "2020-06-19T15:33:29.826554Z"
    }
   },
   "outputs": [
    {
     "data": {
      "text/plain": [
       "{'verbs': [{'verb': 'think',\n",
       "   'description': 'Did [ARG0: Uriah] [ARGM-MNR: honestly] [V: think] [ARG1: he could beat the game in under three hours] ?',\n",
       "   'tags': ['O',\n",
       "    'B-ARG0',\n",
       "    'B-ARGM-MNR',\n",
       "    'B-V',\n",
       "    'B-ARG1',\n",
       "    'I-ARG1',\n",
       "    'I-ARG1',\n",
       "    'I-ARG1',\n",
       "    'I-ARG1',\n",
       "    'I-ARG1',\n",
       "    'I-ARG1',\n",
       "    'I-ARG1',\n",
       "    'I-ARG1',\n",
       "    'O']},\n",
       "  {'verb': 'could',\n",
       "   'description': 'Did Uriah honestly think he [V: could] beat the game in under three hours ?',\n",
       "   'tags': ['O',\n",
       "    'O',\n",
       "    'O',\n",
       "    'O',\n",
       "    'O',\n",
       "    'B-V',\n",
       "    'O',\n",
       "    'O',\n",
       "    'O',\n",
       "    'O',\n",
       "    'O',\n",
       "    'O',\n",
       "    'O',\n",
       "    'O']},\n",
       "  {'verb': 'beat',\n",
       "   'description': 'Did Uriah honestly think [ARG0: he] [ARGM-MOD: could] [V: beat] [ARG1: the game] in [ARGM-TMP: under three hours] ?',\n",
       "   'tags': ['O',\n",
       "    'O',\n",
       "    'O',\n",
       "    'O',\n",
       "    'B-ARG0',\n",
       "    'B-ARGM-MOD',\n",
       "    'B-V',\n",
       "    'B-ARG1',\n",
       "    'I-ARG1',\n",
       "    'O',\n",
       "    'B-ARGM-TMP',\n",
       "    'I-ARGM-TMP',\n",
       "    'I-ARGM-TMP',\n",
       "    'O']}],\n",
       " 'words': ['Did',\n",
       "  'Uriah',\n",
       "  'honestly',\n",
       "  'think',\n",
       "  'he',\n",
       "  'could',\n",
       "  'beat',\n",
       "  'the',\n",
       "  'game',\n",
       "  'in',\n",
       "  'under',\n",
       "  'three',\n",
       "  'hours',\n",
       "  '?']}"
      ]
     },
     "execution_count": 8,
     "metadata": {},
     "output_type": "execute_result"
    }
   ],
   "source": [
    "result=predictor.predict(\n",
    "  sentence=\"Did Uriah honestly think he could beat the game in under three hours?\"\n",
    ")\n",
    "result"
   ]
  },
  {
   "cell_type": "code",
   "execution_count": 17,
   "metadata": {
    "ExecuteTime": {
     "end_time": "2020-06-19T15:37:48.690139Z",
     "start_time": "2020-06-19T15:37:48.683331Z"
    }
   },
   "outputs": [
    {
     "name": "stdout",
     "output_type": "stream",
     "text": [
      "dict_keys(['verbs', 'words']) ['think', 'could', 'beat']\n",
      "---------------\n",
      "[('ARG0', 1, 1), ('ARGM-MNR', 2, 2), ('V', 3, 3), ('ARG1', 4, 12)]\n",
      "Did [ARG0: Uriah] [ARGM-MNR: honestly] [V: think] [ARG1: he could beat the game in under three hours] ?\n",
      "---------------\n",
      "[('V', 5, 5)]\n",
      "Did Uriah honestly think he [V: could] beat the game in under three hours ?\n",
      "---------------\n",
      "[('ARG0', 4, 4), ('ARGM-MOD', 5, 5), ('V', 6, 6), ('ARG1', 7, 8), ('ARGM-TMP', 10, 12)]\n",
      "Did Uriah honestly think [ARG0: he] [ARGM-MOD: could] [V: beat] [ARG1: the game] in [ARGM-TMP: under three hours] ?\n"
     ]
    }
   ],
   "source": [
    "from sagas.nlu.utils import get_entities\n",
    "print(result.keys(), [v['verb'] for v in result['verbs']])\n",
    "for v in result['verbs']:\n",
    "    print('-'*15)\n",
    "    print(get_entities(v['tags']))\n",
    "    print(v['description'])    "
   ]
  },
  {
   "cell_type": "code",
   "execution_count": 14,
   "metadata": {
    "ExecuteTime": {
     "end_time": "2020-06-19T16:11:15.655140Z",
     "start_time": "2020-06-19T16:11:15.391652Z"
    }
   },
   "outputs": [
    {
     "data": {
      "text/plain": [
       "[[(4, 9, 'think_ARG0'),\n",
       "  (10, 18, 'think_ARGM-MNR'),\n",
       "  (19, 24, 'think_V'),\n",
       "  (25, 68, 'think_ARG1')],\n",
       " [(28, 33, 'could_V')],\n",
       " [(25, 27, 'beat_ARG0'),\n",
       "  (28, 33, 'beat_ARGM-MOD'),\n",
       "  (34, 38, 'beat_V'),\n",
       "  (39, 47, 'beat_ARG1'),\n",
       "  (51, 68, 'beat_ARGM-TMP')]]"
      ]
     },
     "execution_count": 14,
     "metadata": {},
     "output_type": "execute_result"
    }
   ],
   "source": [
    "from sagas.nlu.utils import get_entities\n",
    "\n",
    "def terms_positions(sents):\n",
    "    terms=predictor.predict(sentence=sents)\n",
    "    words = terms['words']\n",
    "    rs = [] \n",
    "    for v in terms['verbs']:\n",
    "        verb_terms=[]\n",
    "        verb=v['verb']\n",
    "        term_toks=get_entities(v['tags'])\n",
    "        tokens=[(tag, ' '.join(words[start:end+1])) for tag,start,end in term_toks]\n",
    "        # print(tokens)\n",
    "        running_offset = 0        \n",
    "        for tag, word in tokens:        \n",
    "            word_offset = sents.index(word, running_offset)\n",
    "            word_len = len(word)\n",
    "            running_offset = word_offset + word_len\n",
    "            verb_terms.append((word_offset, running_offset, verb+'_'+tag))\n",
    "        rs.append(verb_terms)\n",
    "    return rs\n",
    "\n",
    "sentence=\"Did Uriah honestly think he could beat the game in under three hours?\"\n",
    "spans=terms_positions(sentence)\n",
    "spans"
   ]
  },
  {
   "cell_type": "code",
   "execution_count": 15,
   "metadata": {
    "ExecuteTime": {
     "end_time": "2020-06-19T16:11:41.492169Z",
     "start_time": "2020-06-19T16:11:41.476019Z"
    }
   },
   "outputs": [
    {
     "data": {
      "text/html": [
       "<div class=\"tex2jax_ignore\" style=\"white-space: pre-wrap\">Did <span style=\"padding: 2px; border-radius: 4px; border: 1px solid #bbdefb; background: #e3f2fd\">Uriah<span style=\"vertical-align: middle; margin-left: 2px; font-size: 0.7em; color: #64b5f6;\">think_ARG0</span></span> <span style=\"padding: 2px; border-radius: 4px; border: 1px solid #c8e6c9; background: #e8f5e9\">honestly<span style=\"vertical-align: middle; margin-left: 2px; font-size: 0.7em; color: #66bb6a;\">think_ARGM-MNR</span></span> <span style=\"padding: 2px; border-radius: 4px; border: 1px solid #ffcdd2; background: #ffebee\">think<span style=\"vertical-align: middle; margin-left: 2px; font-size: 0.7em; color: #e57373;\">think_V</span></span> <span style=\"padding: 2px; border-radius: 4px; border: 1px solid #ffe0b2; background: #fff3e0\">he could beat the game in under three hours<span style=\"vertical-align: middle; margin-left: 2px; font-size: 0.7em; color: #ffb74d;\">think_ARG1</span></span>?</div>"
      ],
      "text/plain": [
       "BoxMarkup('Did Uriah honestly think he could beat the game in under three hours?',\n",
       "          [Span(4, 9, 'think_ARG0'),\n",
       "           Span(10, 18, 'think_ARGM-MNR'),\n",
       "           Span(19, 24, 'think_V'),\n",
       "           Span(25, 68, 'think_ARG1')])"
      ]
     },
     "metadata": {},
     "output_type": "display_data"
    },
    {
     "data": {
      "text/html": [
       "<div class=\"tex2jax_ignore\" style=\"white-space: pre-wrap\">Did Uriah honestly think he <span style=\"padding: 2px; border-radius: 4px; border: 1px solid #d7ccc8; background: #efebe9\">could<span style=\"vertical-align: middle; margin-left: 2px; font-size: 0.7em; color: #a1887f;\">could_V</span></span> beat the game in under three hours?</div>"
      ],
      "text/plain": [
       "BoxMarkup('Did Uriah honestly think he could beat the game in under three hours?',\n",
       "          [Span(28, 33, 'could_V')])"
      ]
     },
     "metadata": {},
     "output_type": "display_data"
    },
    {
     "data": {
      "text/html": [
       "<div class=\"tex2jax_ignore\" style=\"white-space: pre-wrap\">Did Uriah honestly think <span style=\"padding: 2px; border-radius: 4px; border: 1px solid #d1c4e9; background: #ede7f6\">he<span style=\"vertical-align: middle; margin-left: 2px; font-size: 0.7em; color: #9575cd;\">beat_ARG0</span></span> <span style=\"padding: 2px; border-radius: 4px; border: 1px solid #bbdefb; background: #e3f2fd\">could<span style=\"vertical-align: middle; margin-left: 2px; font-size: 0.7em; color: #64b5f6;\">beat_ARGM-MOD</span></span> <span style=\"padding: 2px; border-radius: 4px; border: 1px solid #c8e6c9; background: #e8f5e9\">beat<span style=\"vertical-align: middle; margin-left: 2px; font-size: 0.7em; color: #66bb6a;\">beat_V</span></span> <span style=\"padding: 2px; border-radius: 4px; border: 1px solid #ffcdd2; background: #ffebee\">the game<span style=\"vertical-align: middle; margin-left: 2px; font-size: 0.7em; color: #e57373;\">beat_ARG1</span></span> in <span style=\"padding: 2px; border-radius: 4px; border: 1px solid #ffe0b2; background: #fff3e0\">under three hours<span style=\"vertical-align: middle; margin-left: 2px; font-size: 0.7em; color: #ffb74d;\">beat_ARGM-TMP</span></span>?</div>"
      ],
      "text/plain": [
       "BoxMarkup('Did Uriah honestly think he could beat the game in under three hours?',\n",
       "          [Span(25, 27, 'beat_ARG0'),\n",
       "           Span(28, 33, 'beat_ARGM-MOD'),\n",
       "           Span(34, 38, 'beat_V'),\n",
       "           Span(39, 47, 'beat_ARG1'),\n",
       "           Span(51, 68, 'beat_ARGM-TMP')])"
      ]
     },
     "metadata": {},
     "output_type": "display_data"
    }
   ],
   "source": [
    "from ipymarkup.palette import palette, BLUE, RED, GREEN\n",
    "from ipymarkup import box_markup, show_box_markup\n",
    "for s in spans:\n",
    "    show_box_markup(sentence, s)"
   ]
  },
  {
   "cell_type": "code",
   "execution_count": 5,
   "metadata": {
    "ExecuteTime": {
     "end_time": "2020-06-19T07:46:11.168091Z",
     "start_time": "2020-06-19T07:46:09.565159Z"
    }
   },
   "outputs": [
    {
     "data": {
      "text/plain": [
       "{'verbs': [{'verb': 'decided',\n",
       "   'description': '[ARG0: John] [V: decided] [ARG1: to run for office next month] .',\n",
       "   'tags': ['B-ARG0',\n",
       "    'B-V',\n",
       "    'B-ARG1',\n",
       "    'I-ARG1',\n",
       "    'I-ARG1',\n",
       "    'I-ARG1',\n",
       "    'I-ARG1',\n",
       "    'I-ARG1',\n",
       "    'O']},\n",
       "  {'verb': 'run',\n",
       "   'description': '[ARG0: John] decided to [V: run] [ARG1: for office] [ARGM-TMP: next month] .',\n",
       "   'tags': ['B-ARG0',\n",
       "    'O',\n",
       "    'O',\n",
       "    'B-V',\n",
       "    'B-ARG1',\n",
       "    'I-ARG1',\n",
       "    'B-ARGM-TMP',\n",
       "    'I-ARGM-TMP',\n",
       "    'O']}],\n",
       " 'words': ['John',\n",
       "  'decided',\n",
       "  'to',\n",
       "  'run',\n",
       "  'for',\n",
       "  'office',\n",
       "  'next',\n",
       "  'month',\n",
       "  '.']}"
      ]
     },
     "execution_count": 5,
     "metadata": {},
     "output_type": "execute_result"
    }
   ],
   "source": [
    "predictor_openie = Predictor.from_path(f\"{cf.data_dir}/allenai/openie-model.2020.03.26.tar.gz\")\n",
    "predictor_openie.predict(\n",
    "  sentence=\"John decided to run for office next month.\"\n",
    ")"
   ]
  }
 ],
 "metadata": {
  "kernelspec": {
   "display_name": "Python 3",
   "language": "python",
   "name": "python3"
  },
  "language_info": {
   "codemirror_mode": {
    "name": "ipython",
    "version": 3
   },
   "file_extension": ".py",
   "mimetype": "text/x-python",
   "name": "python",
   "nbconvert_exporter": "python",
   "pygments_lexer": "ipython3",
   "version": "3.7.7"
  },
  "varInspector": {
   "cols": {
    "lenName": 16,
    "lenType": 16,
    "lenVar": 40
   },
   "kernels_config": {
    "python": {
     "delete_cmd_postfix": "",
     "delete_cmd_prefix": "del ",
     "library": "var_list.py",
     "varRefreshCmd": "print(var_dic_list())"
    },
    "r": {
     "delete_cmd_postfix": ") ",
     "delete_cmd_prefix": "rm(",
     "library": "var_list.r",
     "varRefreshCmd": "cat(var_dic_list()) "
    }
   },
   "types_to_exclude": [
    "module",
    "function",
    "builtin_function_or_method",
    "instance",
    "_Feature"
   ],
   "window_display": false
  }
 },
 "nbformat": 4,
 "nbformat_minor": 4
}
