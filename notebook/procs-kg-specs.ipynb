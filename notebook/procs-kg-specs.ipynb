{
 "cells": [
  {
   "cell_type": "code",
   "execution_count": 25,
   "metadata": {
    "ExecuteTime": {
     "end_time": "2020-06-11T03:08:10.267794Z",
     "start_time": "2020-06-11T03:08:10.259588Z"
    }
   },
   "outputs": [
    {
     "data": {
      "text/plain": [
       "[Synset('kick.v.01'),\n",
       " Synset('kick.v.02'),\n",
       " Synset('kick.v.03'),\n",
       " Synset('kick.v.04'),\n",
       " Synset('kick_back.v.02'),\n",
       " Synset('kick.v.06'),\n",
       " Synset('kick.v.07'),\n",
       " Synset('complain.v.01')]"
      ]
     },
     "execution_count": 25,
     "metadata": {},
     "output_type": "execute_result"
    }
   ],
   "source": [
    "from sagas.nlu.omw_extended import get_synsets\n",
    "lang='en'\n",
    "word='kick'\n",
    "pos='v'\n",
    "sets=get_synsets(lang, word, pos)\n",
    "sets"
   ]
  },
  {
   "cell_type": "code",
   "execution_count": 28,
   "metadata": {
    "ExecuteTime": {
     "end_time": "2020-06-11T03:10:50.920638Z",
     "start_time": "2020-06-11T03:10:50.908935Z"
    }
   },
   "outputs": [
    {
     "data": {
      "text/plain": [
       "[('kick.v.01', 'drive or propel with the foot', ['kick']),\n",
       " ('kick.v.02', 'thrash about or strike out with the feet', ['kick']),\n",
       " ('kick.v.03', 'strike with the foot', ['kick']),\n",
       " ('kick.v.04', 'kick a leg up', ['kick']),\n",
       " ('kick_back.v.02',\n",
       "  'spring back, as from a forceful thrust',\n",
       "  ['kick_back', 'recoil', 'kick']),\n",
       " ('kick.v.06', 'stop consuming', ['kick', 'give_up']),\n",
       " ('kick.v.07', 'make a goal', ['kick']),\n",
       " ('complain.v.01',\n",
       "  'express complaints, discontent, displeasure, or unhappiness',\n",
       "  ['complain', 'kick', 'plain', 'sound_off', 'quetch', 'kvetch'])]"
      ]
     },
     "execution_count": 28,
     "metadata": {},
     "output_type": "execute_result"
    }
   ],
   "source": [
    "[(s.name(), s.definition(), s.lemma_names()) for s in sets]\n",
    "# [(s.name(), s.definition(), s.lemmas()) for s in sets]"
   ]
  },
  {
   "cell_type": "code",
   "execution_count": 30,
   "metadata": {
    "ExecuteTime": {
     "end_time": "2020-06-11T03:11:58.117959Z",
     "start_time": "2020-06-11T03:11:58.108747Z"
    }
   },
   "outputs": [
    {
     "name": "stdout",
     "output_type": "stream",
     "text": [
      "[Synset('kick.v.01'), [Synset('propel.v.01'), [Synset('move.v.02')]]]\n"
     ]
    }
   ],
   "source": [
    "from nltk.corpus import wordnet as wn\n",
    "vb = wn.synset('kick.v.01')\n",
    "hyp = lambda s:s.hypernyms()\n",
    "from pprint import pprint\n",
    "pprint(vb.tree(hyp))"
   ]
  },
  {
   "cell_type": "code",
   "execution_count": 29,
   "metadata": {
    "ExecuteTime": {
     "end_time": "2020-06-11T03:11:17.202661Z",
     "start_time": "2020-06-11T03:11:16.965326Z"
    }
   },
   "outputs": [
    {
     "name": "stdout",
     "output_type": "stream",
     "text": [
      "[Synset('dog.n.01'),\n",
      " [Synset('canine.n.02'),\n",
      "  [Synset('carnivore.n.01'),\n",
      "   [Synset('placental.n.01'),\n",
      "    [Synset('mammal.n.01'),\n",
      "     [Synset('vertebrate.n.01'),\n",
      "      [Synset('chordate.n.01'),\n",
      "       [Synset('animal.n.01'),\n",
      "        [Synset('organism.n.01'),\n",
      "         [Synset('living_thing.n.01'),\n",
      "          [Synset('whole.n.02'),\n",
      "           [Synset('object.n.01'),\n",
      "            [Synset('physical_entity.n.01'),\n",
      "             [Synset('entity.n.01')]]]]]]]]]]]]],\n",
      " [Synset('domestic_animal.n.01'),\n",
      "  [Synset('animal.n.01'),\n",
      "   [Synset('organism.n.01'),\n",
      "    [Synset('living_thing.n.01'),\n",
      "     [Synset('whole.n.02'),\n",
      "      [Synset('object.n.01'),\n",
      "       [Synset('physical_entity.n.01'), [Synset('entity.n.01')]]]]]]]]]\n"
     ]
    }
   ],
   "source": [
    "from nltk.corpus import wordnet as wn\n",
    "dog = wn.synset('dog.n.01')\n",
    "hyp = lambda s:s.hypernyms()\n",
    "from pprint import pprint\n",
    "pprint(dog.tree(hyp))"
   ]
  },
  {
   "cell_type": "code",
   "execution_count": 5,
   "metadata": {
    "ExecuteTime": {
     "end_time": "2020-06-11T02:35:59.338235Z",
     "start_time": "2020-06-11T02:35:59.328892Z"
    }
   },
   "outputs": [
    {
     "data": {
      "text/plain": [
       "('kick.v.01',\n",
       " [Synset('drop-kick.v.02'),\n",
       "  Synset('dropkick.v.01'),\n",
       "  Synset('place-kick.v.01'),\n",
       "  Synset('punt.v.01')],\n",
       " [Synset('propel.v.01')])"
      ]
     },
     "execution_count": 5,
     "metadata": {},
     "output_type": "execute_result"
    }
   ],
   "source": [
    "sets[0].name(), sets[0].hyponyms(), sets[0].hypernyms()"
   ]
  },
  {
   "cell_type": "code",
   "execution_count": 4,
   "metadata": {
    "ExecuteTime": {
     "end_time": "2020-06-11T02:33:01.874348Z",
     "start_time": "2020-06-11T02:33:01.842911Z"
    }
   },
   "outputs": [
    {
     "data": {
      "text/plain": [
       "[{'offset': 1371756,\n",
       "  'name': 'kick.v.01',\n",
       "  'chain': ['kick.v.01', 'propel.v.01', 'move.v.02']},\n",
       " {'offset': 1936233,\n",
       "  'name': 'kick.v.02',\n",
       "  'chain': ['kick.v.02', 'strike_out.v.04', 'move.v.03']},\n",
       " {'offset': 1370561,\n",
       "  'name': 'kick.v.03',\n",
       "  'chain': ['kick.v.03', 'hit.v.03', 'touch.v.01']},\n",
       " {'offset': 2048511,\n",
       "  'name': 'kick.v.04',\n",
       "  'chain': ['kick.v.04', 'dance.v.02', 'move.v.03']},\n",
       " {'offset': 1371454,\n",
       "  'name': 'kick_back.v.02',\n",
       "  'chain': ['kick_back.v.02', 'bounce.v.01', 'jump.v.01', 'move.v.03']},\n",
       " {'offset': 1196524,\n",
       "  'name': 'kick.v.06',\n",
       "  'chain': ['kick.v.06', 'waive.v.01']},\n",
       " {'offset': 1112979,\n",
       "  'name': 'kick.v.07',\n",
       "  'chain': ['kick.v.07', 'score.v.01', 'gain.v.05']},\n",
       " {'offset': 907147, 'name': 'complain.v.01', 'chain': ['complain.v.01']}]"
      ]
     },
     "execution_count": 4,
     "metadata": {},
     "output_type": "execute_result"
    }
   ],
   "source": [
    "from sagas.nlu.wordnet_procs import WordNetProcs, predicate_chain, get_chains\n",
    "get_chains('kick','en', 'v')"
   ]
  },
  {
   "cell_type": "code",
   "execution_count": 12,
   "metadata": {
    "ExecuteTime": {
     "end_time": "2020-06-11T02:49:19.961124Z",
     "start_time": "2020-06-11T02:49:19.848810Z"
    }
   },
   "outputs": [
    {
     "name": "stdout",
     "output_type": "stream",
     "text": [
      "['spend.v.01', 'spend.v.02', 'spend.v.03']\n",
      "♥ spend.v.01 -> serve, slum, weekend, while_away, summer, winter, vacation, soldier, sojourn\n",
      "♥ spend.v.02 -> piddle, blow, afford, consume, lay_out, save, penny-pinch, invest, misspend, wanton, underspend\n",
      "♥ spend.v.03 -> overspend, underspend\n"
     ]
    }
   ],
   "source": [
    "from sagas.nlu.omw_extended import get_synsets\n",
    "hypo = lambda s: s.hyponyms()\n",
    "\n",
    "def verb_def(word):\n",
    "    sets = get_synsets(lang, word, pos)\n",
    "    print([s.name() for s in sets])\n",
    "    for s in sets:\n",
    "        # ss=list(s.closure(hypo))\n",
    "        ss=s.hyponyms()\n",
    "        if len(ss)>0:\n",
    "            print('♥', s.name(), '->', ', '.join({w.name().split('.')[0] for w in ss}))\n",
    "\n",
    "verb_def(word='spend')"
   ]
  },
  {
   "cell_type": "code",
   "execution_count": 14,
   "metadata": {
    "ExecuteTime": {
     "end_time": "2020-06-11T02:49:43.507907Z",
     "start_time": "2020-06-11T02:49:43.175264Z"
    }
   },
   "outputs": [
    {
     "name": "stdout",
     "output_type": "stream",
     "text": [
      "['salvage.v.01', 'save.v.02', 'save.v.03', 'save.v.04', 'save.v.05', 'save.v.06', 'deliver.v.08', 'spare.v.01', 'save.v.09', 'keep_open.v.01', 'write.v.08']\n",
      "♥ save.v.02 -> record, conserve\n",
      "♥ save.v.03 -> rescue\n",
      "♥ save.v.04 -> scrimp\n",
      "♥ save.v.05 -> hoard\n",
      "♥ spare.v.01 -> favor\n",
      "♥ save.v.09 -> tighten_one's_belt\n",
      "♥ write.v.08 -> overwrite\n"
     ]
    }
   ],
   "source": [
    "verb_def('save')"
   ]
  },
  {
   "cell_type": "code",
   "execution_count": 20,
   "metadata": {
    "ExecuteTime": {
     "end_time": "2020-06-11T03:01:33.414247Z",
     "start_time": "2020-06-11T03:01:33.406041Z"
    }
   },
   "outputs": [
    {
     "name": "stdout",
     "output_type": "stream",
     "text": [
      "['winter.v.01']\n"
     ]
    }
   ],
   "source": [
    "verb_def('winter')"
   ]
  },
  {
   "cell_type": "code",
   "execution_count": 33,
   "metadata": {
    "ExecuteTime": {
     "end_time": "2020-06-11T03:23:51.497575Z",
     "start_time": "2020-06-11T03:23:51.149125Z"
    }
   },
   "outputs": [
    {
     "name": "stdout",
     "output_type": "stream",
     "text": [
      "['write.v.01', 'write.v.02', 'publish.v.03', 'write.v.04', 'write.v.05', 'compose.v.02', 'write.v.07', 'write.v.08', 'spell.v.03', 'write.v.10']\n",
      "♥ write.v.01 -> draft, dash_off, verse, lyric, rewrite, write_out, paragraph, profile, write_copy, write_off, script, draw, author, dramatize, write_on, annotate, reference\n",
      "♥ write.v.02 -> sign, write_down, rewrite, style, scribble, jot_down, write_up, write_out, write_in, type, apostrophize, handwrite\n",
      "♥ compose.v.02 -> harmonize, score, counterpoint, arrange, instrument, set_to_music, melodize\n",
      "♥ write.v.07 -> capitalize, cross, stenograph, calligraph, print, superscribe, dot, letter, copy, scribble\n",
      "♥ write.v.08 -> overwrite\n",
      "♥ spell.v.03 -> spell_out, hyphenate\n"
     ]
    }
   ],
   "source": [
    "verb_def('write')"
   ]
  },
  {
   "cell_type": "code",
   "execution_count": 23,
   "metadata": {
    "ExecuteTime": {
     "end_time": "2020-06-11T03:03:02.484638Z",
     "start_time": "2020-06-11T03:03:02.476319Z"
    }
   },
   "outputs": [
    {
     "data": {
      "text/plain": [
       "[Synset('spend.v.01')]"
      ]
     },
     "execution_count": 23,
     "metadata": {},
     "output_type": "execute_result"
    }
   ],
   "source": [
    "sets = get_synsets('en', 'winter', 'v')\n",
    "sets[0].hypernyms()"
   ]
  },
  {
   "cell_type": "code",
   "execution_count": 18,
   "metadata": {
    "ExecuteTime": {
     "end_time": "2020-06-11T02:58:19.370212Z",
     "start_time": "2020-06-11T02:58:19.359080Z"
    }
   },
   "outputs": [
    {
     "data": {
      "text/plain": [
       "[('{SetAside|留存:domain={finance|金融}}', 'verb'),\n",
       " ('{store|保存:LocationFin={part|部件:whole={computer|电脑},{store|保存:instrument={~}}}}',\n",
       "  'verb'),\n",
       " ('{surplus|剩余}', 'verb'),\n",
       " ('{economize|节省}', 'verb'),\n",
       " ('{economize|节省}', 'verb'),\n",
       " ('{surplus|剩余}', 'verb'),\n",
       " ('{economize|节省}', 'verb'),\n",
       " ('{rescue|救助}', 'verb'),\n",
       " ('{rescue|救助}', 'verb'),\n",
       " ('{rescue|救助}', 'verb'),\n",
       " ('{rescue|救助}', 'verb'),\n",
       " ('{SetAside|留存}', 'verb'),\n",
       " ('{economize|节省}', 'verb'),\n",
       " ('{economize|节省}', 'verb'),\n",
       " ('{economize|节省}', 'verb'),\n",
       " ('{economize|节省}', 'verb'),\n",
       " ('{economize|节省}', 'verb'),\n",
       " ('{rescue|救助}', 'verb'),\n",
       " ('{rescue|救助}', 'verb'),\n",
       " ('{SetAside|留存}', 'verb'),\n",
       " ('{rescue|救助}', 'verb'),\n",
       " ('{rescue|救助}', 'verb'),\n",
       " ('{SetAside|留存}', 'verb'),\n",
       " ('{economize|节省}', 'verb')]"
      ]
     },
     "execution_count": 18,
     "metadata": {},
     "output_type": "execute_result"
    }
   ],
   "source": [
    "from sagas.zh.hownet_procs import hownet_procs\n",
    "ss=hownet_procs.get_sense('save', 'v')\n",
    "[(s['Def'], s['en_grammar']) for s in ss]"
   ]
  },
  {
   "cell_type": "code",
   "execution_count": 32,
   "metadata": {
    "ExecuteTime": {
     "end_time": "2020-06-11T03:14:29.078881Z",
     "start_time": "2020-06-11T03:14:29.063531Z"
    }
   },
   "outputs": [
    {
     "name": "stdout",
     "output_type": "stream",
     "text": [
      "['spend', 'pass']\n"
     ]
    },
    {
     "data": {
      "text/plain": [
       "[('{spend|花费:domain={commerce|商业}{finance|金融}}', 'verb'),\n",
       " ('{pass|度过}', 'verb'),\n",
       " ('{pass|度过}', 'verb'),\n",
       " ('{pass|度过}', 'verb'),\n",
       " ('{spend|花费:domain={commerce|商业}{finance|金融}}', 'verb'),\n",
       " ('{spend|花费:domain={commerce|商业}{finance|金融}}', 'verb'),\n",
       " ('{spend|花费:domain={commerce|商业}{finance|金融}}', 'verb'),\n",
       " ('{spend|花费:domain={commerce|商业}{finance|金融}}', 'verb')]"
      ]
     },
     "execution_count": 32,
     "metadata": {},
     "output_type": "execute_result"
    }
   ],
   "source": [
    "word='winter'\n",
    "ss=hownet_procs.get_sense(word, 'v')\n",
    "if not ss:\n",
    "    sets = get_synsets('en', word, 'v')\n",
    "    names=sets[0].hypernyms()[0].lemma_names()\n",
    "    print(names)\n",
    "    ss=hownet_procs.get_sense(names[0], 'v')\n",
    "[(s['Def'], s['en_grammar']) for s in ss]"
   ]
  },
  {
   "cell_type": "code",
   "execution_count": 35,
   "metadata": {
    "ExecuteTime": {
     "end_time": "2020-06-11T21:47:26.986427Z",
     "start_time": "2020-06-11T21:47:26.977505Z"
    }
   },
   "outputs": [
    {
     "data": {
      "text/plain": [
       "(True, 1)"
      ]
     },
     "execution_count": 35,
     "metadata": {},
     "output_type": "execute_result"
    }
   ],
   "source": [
    "import marisa_trie\n",
    "trie = marisa_trie.Trie([u'key1', u'key2', u'key12'])\n",
    "'key1' in trie, trie[u'key2']"
   ]
  },
  {
   "cell_type": "code",
   "execution_count": 36,
   "metadata": {
    "ExecuteTime": {
     "end_time": "2020-06-11T21:47:35.356383Z",
     "start_time": "2020-06-11T21:47:35.348726Z"
    }
   },
   "outputs": [
    {
     "data": {
      "text/plain": [
       "'key2'"
      ]
     },
     "execution_count": 36,
     "metadata": {},
     "output_type": "execute_result"
    }
   ],
   "source": [
    "trie.restore_key(1)"
   ]
  },
  {
   "cell_type": "code",
   "execution_count": 42,
   "metadata": {
    "ExecuteTime": {
     "end_time": "2020-06-11T21:49:17.897704Z",
     "start_time": "2020-06-11T21:49:17.884260Z"
    }
   },
   "outputs": [
    {
     "name": "stdout",
     "output_type": "stream",
     "text": [
      "['key1', 'key12']\n"
     ]
    },
    {
     "data": {
      "text/plain": [
       "['key1', 'key12']"
      ]
     },
     "execution_count": 42,
     "metadata": {},
     "output_type": "execute_result"
    }
   ],
   "source": [
    "# Find all trie keys which are prefixes of a given key:\n",
    "print(trie.prefixes(u'key12'))\n",
    "# Find all trie keys which start with a given prefix:\n",
    "trie.keys(u'key1')"
   ]
  },
  {
   "cell_type": "code",
   "execution_count": 44,
   "metadata": {
    "ExecuteTime": {
     "end_time": "2020-06-11T21:50:28.749735Z",
     "start_time": "2020-06-11T21:50:28.740114Z"
    }
   },
   "outputs": [
    {
     "data": {
      "text/plain": [
       "(True, [(2, 1)])"
      ]
     },
     "execution_count": 44,
     "metadata": {},
     "output_type": "execute_result"
    }
   ],
   "source": [
    "keys = [u'foo', u'bar', u'foobar', u'foo']\n",
    "values = [(1, 2), (2, 1), (3, 3), (2, 1)]\n",
    "fmt = \"<HH\"   # two short integers.\n",
    "trie = marisa_trie.RecordTrie(fmt, zip(keys, values))\n",
    "'foo' in trie, trie[u'bar']"
   ]
  },
  {
   "cell_type": "code",
   "execution_count": 45,
   "metadata": {
    "ExecuteTime": {
     "end_time": "2020-06-11T21:50:44.966402Z",
     "start_time": "2020-06-11T21:50:44.957228Z"
    }
   },
   "outputs": [
    {
     "data": {
      "text/plain": [
       "123"
      ]
     },
     "execution_count": 45,
     "metadata": {},
     "output_type": "execute_result"
    }
   ],
   "source": [
    "trie.get(u'BAAR', 123)  # default value."
   ]
  },
  {
   "cell_type": "code",
   "execution_count": 46,
   "metadata": {
    "ExecuteTime": {
     "end_time": "2020-06-11T21:50:55.107102Z",
     "start_time": "2020-06-11T21:50:55.099607Z"
    }
   },
   "outputs": [
    {
     "data": {
      "text/plain": [
       "['foo', 'foo', 'foobar']"
      ]
     },
     "execution_count": 46,
     "metadata": {},
     "output_type": "execute_result"
    }
   ],
   "source": [
    "trie.keys(u'fo')"
   ]
  },
  {
   "cell_type": "code",
   "execution_count": 47,
   "metadata": {
    "ExecuteTime": {
     "end_time": "2020-06-11T21:51:04.870616Z",
     "start_time": "2020-06-11T21:51:04.861325Z"
    }
   },
   "outputs": [
    {
     "data": {
      "text/plain": [
       "[('foo', (1, 2)), ('foo', (2, 1)), ('foobar', (3, 3))]"
      ]
     },
     "execution_count": 47,
     "metadata": {},
     "output_type": "execute_result"
    }
   ],
   "source": [
    "trie.items(u'fo')"
   ]
  },
  {
   "cell_type": "code",
   "execution_count": 65,
   "metadata": {
    "ExecuteTime": {
     "end_time": "2020-06-11T21:56:34.916296Z",
     "start_time": "2020-06-11T21:56:34.907058Z"
    }
   },
   "outputs": [
    {
     "data": {
      "text/plain": [
       "[b'bar-value']"
      ]
     },
     "execution_count": 65,
     "metadata": {},
     "output_type": "execute_result"
    }
   ],
   "source": [
    "# BytesTrie is similar to RecordTrie, but the values are raw bytes, not tuples:\n",
    "keys = [u'foo', u'bar', u'foobar', u'foo']\n",
    "values = [b'foo-value', b'bar-value', b'foobar-value', b'foo-value2']\n",
    "trie = marisa_trie.BytesTrie(zip(keys, values))\n",
    "trie['bar']"
   ]
  },
  {
   "cell_type": "code",
   "execution_count": 66,
   "metadata": {
    "ExecuteTime": {
     "end_time": "2020-06-11T21:56:37.613608Z",
     "start_time": "2020-06-11T21:56:37.607355Z"
    }
   },
   "outputs": [],
   "source": [
    "trie.save('my_trie.marisa')"
   ]
  },
  {
   "cell_type": "code",
   "execution_count": 67,
   "metadata": {
    "ExecuteTime": {
     "end_time": "2020-06-11T21:56:52.144200Z",
     "start_time": "2020-06-11T21:56:52.136249Z"
    }
   },
   "outputs": [
    {
     "data": {
      "text/plain": [
       "<marisa_trie.BytesTrie at 0x1a9d95a20>"
      ]
     },
     "execution_count": 67,
     "metadata": {},
     "output_type": "execute_result"
    }
   ],
   "source": [
    "trie2 = marisa_trie.BytesTrie()\n",
    "trie2.load('my_trie.marisa')"
   ]
  },
  {
   "cell_type": "code",
   "execution_count": 68,
   "metadata": {
    "ExecuteTime": {
     "end_time": "2020-06-11T21:56:55.739889Z",
     "start_time": "2020-06-11T21:56:55.731538Z"
    }
   },
   "outputs": [
    {
     "data": {
      "text/plain": [
       "[('bar', b'bar-value')]"
      ]
     },
     "execution_count": 68,
     "metadata": {},
     "output_type": "execute_result"
    }
   ],
   "source": [
    "trie2.items('bar')"
   ]
  }
 ],
 "metadata": {
  "kernelspec": {
   "display_name": "Python 3",
   "language": "python",
   "name": "python3"
  },
  "language_info": {
   "codemirror_mode": {
    "name": "ipython",
    "version": 3
   },
   "file_extension": ".py",
   "mimetype": "text/x-python",
   "name": "python",
   "nbconvert_exporter": "python",
   "pygments_lexer": "ipython3",
   "version": "3.6.6"
  },
  "varInspector": {
   "cols": {
    "lenName": 16,
    "lenType": 16,
    "lenVar": 40
   },
   "kernels_config": {
    "python": {
     "delete_cmd_postfix": "",
     "delete_cmd_prefix": "del ",
     "library": "var_list.py",
     "varRefreshCmd": "print(var_dic_list())"
    },
    "r": {
     "delete_cmd_postfix": ") ",
     "delete_cmd_prefix": "rm(",
     "library": "var_list.r",
     "varRefreshCmd": "cat(var_dic_list()) "
    }
   },
   "types_to_exclude": [
    "module",
    "function",
    "builtin_function_or_method",
    "instance",
    "_Feature"
   ],
   "window_display": false
  }
 },
 "nbformat": 4,
 "nbformat_minor": 2
}
