{
 "cells": [
  {
   "cell_type": "code",
   "execution_count": 1,
   "metadata": {
    "ExecuteTime": {
     "end_time": "2019-12-09T10:26:46.129974Z",
     "start_time": "2019-12-09T10:26:46.096464Z"
    }
   },
   "outputs": [
    {
     "name": "stdout",
     "output_type": "stream",
     "text": [
      "[DatumInContext(value=1, path=Fields('id'), context=DatumInContext(value={'id': 1, 'name': 'Pankaj'}, path=Root(), context=None))]\n",
      "id value is 1\n"
     ]
    }
   ],
   "source": [
    "import json\n",
    "\n",
    "from jsonpath_ng import jsonpath, parse\n",
    "\n",
    "json_string = '{\"id\":1, \"name\":\"Pankaj\"}'\n",
    "json_data = json.loads(json_string)\n",
    "\n",
    "jsonpath_expression = parse('$.id')\n",
    "\n",
    "match = jsonpath_expression.find(json_data)\n",
    "\n",
    "print(match)\n",
    "print(\"id value is\", match[0].value)"
   ]
  },
  {
   "cell_type": "code",
   "execution_count": 3,
   "metadata": {
    "ExecuteTime": {
     "end_time": "2019-12-09T10:29:50.135177Z",
     "start_time": "2019-12-09T10:29:50.116269Z"
    }
   },
   "outputs": [
    {
     "name": "stdout",
     "output_type": "stream",
     "text": [
      "Employee id: 1\n",
      "Employee id: 2\n"
     ]
    }
   ],
   "source": [
    "raw='''{\n",
    "  \"employees\": [\n",
    "    {\n",
    "      \"id\": 1,\n",
    "      \"name\": \"Pankaj\",\n",
    "      \"salary\": \"10000\"\n",
    "    },\n",
    "    {\n",
    "      \"name\": \"David\",\n",
    "      \"salary\": \"5000\",\n",
    "      \"id\": 2\n",
    "    }\n",
    "  ]\n",
    "}'''\n",
    "\n",
    "import json\n",
    "from jsonpath_ng import jsonpath, parse\n",
    "json_data = json.loads(raw)\n",
    "jsonpath_expression = parse('employees[*].id')\n",
    "\n",
    "for match in jsonpath_expression.find(json_data):\n",
    "    print(f'Employee id: {match.value}')"
   ]
  },
  {
   "cell_type": "code",
   "execution_count": 4,
   "metadata": {
    "ExecuteTime": {
     "end_time": "2019-12-09T10:29:58.442720Z",
     "start_time": "2019-12-09T10:29:58.437522Z"
    }
   },
   "outputs": [
    {
     "name": "stdout",
     "output_type": "stream",
     "text": [
      "[1, 2]\n"
     ]
    }
   ],
   "source": [
    "emp_ids_list = [match.value for match in jsonpath_expression.find(json_data)]\n",
    "print(emp_ids_list)  # [1, 2]"
   ]
  },
  {
   "cell_type": "code",
   "execution_count": 1,
   "metadata": {
    "ExecuteTime": {
     "end_time": "2020-03-04T19:00:29.189312Z",
     "start_time": "2020-03-04T19:00:29.151553Z"
    }
   },
   "outputs": [
    {
     "data": {
      "text/plain": [
       "[1, 2]"
      ]
     },
     "execution_count": 1,
     "metadata": {},
     "output_type": "execute_result"
    }
   ],
   "source": [
    "from jsonpath_ng import jsonpath, parse\n",
    "jsonpath_expr = parse('foo[*].baz')\n",
    "[match.value for match in jsonpath_expr.find({'foo': [{'baz': 1}, {'baz': 2}]})]"
   ]
  },
  {
   "cell_type": "code",
   "execution_count": 7,
   "metadata": {
    "ExecuteTime": {
     "end_time": "2020-03-04T19:10:35.623093Z",
     "start_time": "2020-03-04T19:10:35.602892Z"
    }
   },
   "outputs": [
    {
     "data": {
      "text/plain": [
       "'8'"
      ]
     },
     "execution_count": 7,
     "metadata": {},
     "output_type": "execute_result"
    }
   ],
   "source": [
    "from jsonpath_ng import jsonpath, parse\n",
    "vals=[{'body': '8',\n",
    "             'dim': 'number',\n",
    "             'end': 1,\n",
    "             'latent': False,\n",
    "             'start': 0,\n",
    "             'value': {'type': 'value', 'value': 8}}]\n",
    "jsonpath_expr = parse('$[0].body')\n",
    "next(match.value for match in jsonpath_expr.find(vals))"
   ]
  },
  {
   "cell_type": "code",
   "execution_count": 7,
   "metadata": {
    "ExecuteTime": {
     "end_time": "2019-12-09T10:31:10.412659Z",
     "start_time": "2019-12-09T10:31:10.402872Z"
    }
   },
   "outputs": [
    {
     "data": {
      "text/plain": [
       "['foo.[0].baz', 'foo.[1].baz']"
      ]
     },
     "execution_count": 7,
     "metadata": {},
     "output_type": "execute_result"
    }
   ],
   "source": [
    "# Matches remember where they came from\n",
    ">>> [str(match.full_path) for match in jsonpath_expr.find({'foo': [{'baz': 1}, {'baz': 2}]})]"
   ]
  },
  {
   "cell_type": "code",
   "execution_count": 8,
   "metadata": {
    "ExecuteTime": {
     "end_time": "2019-12-09T10:32:24.941446Z",
     "start_time": "2019-12-09T10:32:24.914520Z"
    }
   },
   "outputs": [
    {
     "data": {
      "text/plain": [
       "['foo.bizzle', 'foo.[1]']"
      ]
     },
     "execution_count": 8,
     "metadata": {},
     "output_type": "execute_result"
    }
   ],
   "source": [
    "# And this can be useful for automatically providing ids for bits of data that do not have them (currently a global switch)\n",
    ">>> jsonpath.auto_id_field = 'id'\n",
    ">>> [match.value for match in parse('foo[*].id').find({'foo': [{'id': 'bizzle'}, {'baz': 3}]})]\n"
   ]
  },
  {
   "cell_type": "code",
   "execution_count": 9,
   "metadata": {
    "ExecuteTime": {
     "end_time": "2019-12-09T10:32:46.850464Z",
     "start_time": "2019-12-09T10:32:46.819278Z"
    }
   },
   "outputs": [
    {
     "data": {
      "text/plain": [
       "['number one', 'number two']"
      ]
     },
     "execution_count": 9,
     "metadata": {},
     "output_type": "execute_result"
    }
   ],
   "source": [
    "# A handy extension: named operators like `parent`\n",
    ">>> [match.value for match in parse('a.*.b.`parent`.c').find({'a': {'x': {'b': 1, 'c': 'number one'}, 'y': {'b': 2, 'c': 'number two'}}})]"
   ]
  },
  {
   "cell_type": "code",
   "execution_count": 10,
   "metadata": {
    "ExecuteTime": {
     "end_time": "2019-12-09T10:33:43.594652Z",
     "start_time": "2019-12-09T10:33:43.527962Z"
    }
   },
   "outputs": [],
   "source": [
    ">>> from jsonpath_ng.ext import parse\n",
    "# A robust parser, not just a regex. (Makes powerful extensions possible; see below)\n",
    ">>> jsonpath_expr = parse('foo[*].baz')"
   ]
  },
  {
   "cell_type": "code",
   "execution_count": 12,
   "metadata": {
    "ExecuteTime": {
     "end_time": "2019-12-09T10:42:09.591179Z",
     "start_time": "2019-12-09T10:42:09.579861Z"
    }
   },
   "outputs": [
    {
     "data": {
      "text/plain": [
       "{'index': '2',\n",
       " 'text': 'want',\n",
       " 'lemma': 'want',\n",
       " 'upos': 'VERB',\n",
       " 'xpos': 'VBP',\n",
       " 'feats': 'Mood=Ind|Tense=Pres|VerbForm=Fin',\n",
       " 'governor': 0,\n",
       " 'dependency_relation': 'root',\n",
       " 'xcomp': [{'index': '4',\n",
       "   'text': 'play',\n",
       "   'lemma': 'play',\n",
       "   'upos': 'VERB',\n",
       "   'xpos': 'VB',\n",
       "   'feats': 'VerbForm=Inf',\n",
       "   'governor': 2,\n",
       "   'dependency_relation': 'xcomp',\n",
       "   'obj': [{'index': '5',\n",
       "     'text': 'music',\n",
       "     'lemma': 'music',\n",
       "     'upos': 'NOUN',\n",
       "     'xpos': 'NN',\n",
       "     'feats': 'Number=Sing',\n",
       "     'governor': 4,\n",
       "     'dependency_relation': 'obj'}],\n",
       "   'mark': [{'index': '3',\n",
       "     'text': 'to',\n",
       "     'lemma': 'to',\n",
       "     'upos': 'PART',\n",
       "     'xpos': 'TO',\n",
       "     'feats': '_',\n",
       "     'governor': 4,\n",
       "     'dependency_relation': 'mark'}]}],\n",
       " 'nsubj': [{'index': '1',\n",
       "   'text': 'I',\n",
       "   'lemma': 'I',\n",
       "   'upos': 'PRON',\n",
       "   'xpos': 'PRP',\n",
       "   'feats': 'Case=Nom|Number=Sing|Person=1|PronType=Prs',\n",
       "   'governor': 2,\n",
       "   'dependency_relation': 'nsubj'}],\n",
       " 'punct': [{'index': '6',\n",
       "   'text': '.',\n",
       "   'lemma': '.',\n",
       "   'upos': 'PUNCT',\n",
       "   'xpos': '.',\n",
       "   'feats': '_',\n",
       "   'governor': 2,\n",
       "   'dependency_relation': 'punct'}]}"
      ]
     },
     "execution_count": 12,
     "metadata": {},
     "output_type": "execute_result"
    }
   ],
   "source": [
    "with open(\"./out/v_domain.json\", 'r') as json_file:\n",
    "    json_data = json.load(json_file)\n",
    "\n",
    "json_data"
   ]
  },
  {
   "cell_type": "code",
   "execution_count": 14,
   "metadata": {
    "ExecuteTime": {
     "end_time": "2019-12-09T10:44:15.057085Z",
     "start_time": "2019-12-09T10:44:15.007453Z"
    }
   },
   "outputs": [
    {
     "data": {
      "text/plain": [
       "['want']"
      ]
     },
     "execution_count": 14,
     "metadata": {},
     "output_type": "execute_result"
    }
   ],
   "source": [
    "[match.value for match in parse('$.text').find(json_data)]"
   ]
  },
  {
   "cell_type": "code",
   "execution_count": 18,
   "metadata": {
    "ExecuteTime": {
     "end_time": "2019-12-09T10:49:15.922164Z",
     "start_time": "2019-12-09T10:49:15.828842Z"
    }
   },
   "outputs": [
    {
     "name": "stdout",
     "output_type": "stream",
     "text": [
      "[('I', 'nsubj.[0].text')]\n",
      "[('music', 'xcomp.[0].obj.[0].text')]\n"
     ]
    }
   ],
   "source": [
    "exprs=['$.nsubj[*].text',\n",
    "       '$.xcomp[*].obj[*].text'\n",
    "      ]\n",
    "for expr in exprs:\n",
    "    print([(match.value, str(match.full_path)) for match in parse(expr).find(json_data)])"
   ]
  },
  {
   "cell_type": "code",
   "execution_count": 2,
   "metadata": {
    "ExecuteTime": {
     "end_time": "2019-12-16T23:00:09.545715Z",
     "start_time": "2019-12-16T23:00:08.213361Z"
    }
   },
   "outputs": [
    {
     "name": "stdout",
     "output_type": "stream",
     "text": [
      ".. request is {'lang': 'en', 'sents': 'I want to play music.', 'engine': 'corenlp', 'pipelines': ['predicts']}\n"
     ]
    },
    {
     "data": {
      "text/plain": [
       "[{'index': '2',\n",
       "  'text': 'want',\n",
       "  'lemma': 'want',\n",
       "  'upos': 'VERB',\n",
       "  'xpos': 'VBP',\n",
       "  'feats': 'Mood=Ind|Tense=Pres|VerbForm=Fin',\n",
       "  'governor': 0,\n",
       "  'dependency_relation': 'root',\n",
       "  'nsubj': [{'index': '1',\n",
       "    'text': 'I',\n",
       "    'lemma': 'I',\n",
       "    'upos': 'PRON',\n",
       "    'xpos': 'PRP',\n",
       "    'feats': 'Case=Nom|Number=Sing|Person=1|PronType=Prs',\n",
       "    'governor': 2,\n",
       "    'dependency_relation': 'nsubj'}],\n",
       "  'punct': [{'index': '6',\n",
       "    'text': '.',\n",
       "    'lemma': '.',\n",
       "    'upos': 'PUNCT',\n",
       "    'xpos': '.',\n",
       "    'feats': '_',\n",
       "    'governor': 2,\n",
       "    'dependency_relation': 'punct'}],\n",
       "  'xcomp': [{'index': '4',\n",
       "    'text': 'play',\n",
       "    'lemma': 'play',\n",
       "    'upos': 'VERB',\n",
       "    'xpos': 'VB',\n",
       "    'feats': 'VerbForm=Inf',\n",
       "    'governor': 2,\n",
       "    'dependency_relation': 'xcomp',\n",
       "    'mark': [{'index': '3',\n",
       "      'text': 'to',\n",
       "      'lemma': 'to',\n",
       "      'upos': 'PART',\n",
       "      'xpos': 'TO',\n",
       "      'feats': '_',\n",
       "      'governor': 4,\n",
       "      'dependency_relation': 'mark'}],\n",
       "    'obj': [{'index': '5',\n",
       "      'text': 'music',\n",
       "      'lemma': 'music',\n",
       "      'upos': 'NOUN',\n",
       "      'xpos': 'NN',\n",
       "      'feats': 'Number=Sing',\n",
       "      'governor': 4,\n",
       "      'dependency_relation': 'obj'}]}]}]"
      ]
     },
     "execution_count": 2,
     "metadata": {},
     "output_type": "execute_result"
    }
   ],
   "source": [
    "from sagas.nlu.ruleset_procs import cached_chunks\n",
    "sents='I want to play music.' \n",
    "lang='en'\n",
    "chunks=cached_chunks(sents, lang, 'corenlp')\n",
    "chunks['verb_domains']"
   ]
  },
  {
   "cell_type": "code",
   "execution_count": 3,
   "metadata": {
    "ExecuteTime": {
     "end_time": "2019-12-16T23:00:46.972314Z",
     "start_time": "2019-12-16T23:00:46.964069Z"
    }
   },
   "outputs": [
    {
     "data": {
      "text/plain": [
       "[{'index': '2',\n",
       "  'text': 'want',\n",
       "  'lemma': 'want',\n",
       "  'upos': 'VERB',\n",
       "  'xpos': 'VBP',\n",
       "  'feats': 'Mood=Ind|Tense=Pres|VerbForm=Fin',\n",
       "  'governor': 0,\n",
       "  'dependency_relation': 'root',\n",
       "  'nsubj': [{'index': '1',\n",
       "    'text': 'I',\n",
       "    'lemma': 'I',\n",
       "    'upos': 'PRON',\n",
       "    'xpos': 'PRP',\n",
       "    'feats': 'Case=Nom|Number=Sing|Person=1|PronType=Prs',\n",
       "    'governor': 2,\n",
       "    'dependency_relation': 'nsubj'}],\n",
       "  'punct': [{'index': '6',\n",
       "    'text': '.',\n",
       "    'lemma': '.',\n",
       "    'upos': 'PUNCT',\n",
       "    'xpos': '.',\n",
       "    'feats': '_',\n",
       "    'governor': 2,\n",
       "    'dependency_relation': 'punct'}],\n",
       "  'xcomp': [{'index': '4',\n",
       "    'text': 'play',\n",
       "    'lemma': 'play',\n",
       "    'upos': 'VERB',\n",
       "    'xpos': 'VB',\n",
       "    'feats': 'VerbForm=Inf',\n",
       "    'governor': 2,\n",
       "    'dependency_relation': 'xcomp',\n",
       "    'mark': [{'index': '3',\n",
       "      'text': 'to',\n",
       "      'lemma': 'to',\n",
       "      'upos': 'PART',\n",
       "      'xpos': 'TO',\n",
       "      'feats': '_',\n",
       "      'governor': 4,\n",
       "      'dependency_relation': 'mark'}],\n",
       "    'obj': [{'index': '5',\n",
       "      'text': 'music',\n",
       "      'lemma': 'music',\n",
       "      'upos': 'NOUN',\n",
       "      'xpos': 'NN',\n",
       "      'feats': 'Number=Sing',\n",
       "      'governor': 4,\n",
       "      'dependency_relation': 'obj'}]}]}]"
      ]
     },
     "execution_count": 3,
     "metadata": {},
     "output_type": "execute_result"
    }
   ],
   "source": [
    "chunks['root_domains']"
   ]
  },
  {
   "cell_type": "code",
   "execution_count": 23,
   "metadata": {
    "ExecuteTime": {
     "end_time": "2019-12-17T06:53:29.631168Z",
     "start_time": "2019-12-17T06:53:29.624130Z"
    }
   },
   "outputs": [
    {
     "name": "stdout",
     "output_type": "stream",
     "text": [
      "$.nsubj[*].text,lemma\n",
      "$.xcomp[*].obj[*].text,lemma\n"
     ]
    }
   ],
   "source": [
    "def normal_path(path):\n",
    "    prefix='$.'\n",
    "    suffix='.text,lemma'\n",
    "    parts=path.split('/')\n",
    "    parts_str='.'.join([f\"{t}[*]\" for t in parts])\n",
    "    return f\"{prefix}{parts_str}{suffix}\"\n",
    "print(normal_path('nsubj'))\n",
    "print(normal_path('xcomp/obj'))"
   ]
  },
  {
   "cell_type": "code",
   "execution_count": 20,
   "metadata": {
    "ExecuteTime": {
     "end_time": "2019-12-17T06:47:26.507143Z",
     "start_time": "2019-12-17T06:47:26.435619Z"
    }
   },
   "outputs": [
    {
     "name": "stdout",
     "output_type": "stream",
     "text": [
      "[('I', 'nsubj.[0].text'), ('I', 'nsubj.[0].lemma')]\n",
      "I/I -> False\n",
      "[('music', 'xcomp.[0].obj.[0].text'), ('music', 'xcomp.[0].obj.[0].lemma')]\n",
      "music/music -> True\n"
     ]
    }
   ],
   "source": [
    "from jsonpath_ng import jsonpath, parse\n",
    "from sagas.nlu.inspector_wordnet import predicate\n",
    "\n",
    "exprs=['$.nsubj[*].text,lemma',\n",
    "       '$.xcomp[*].obj[*].text,lemma'\n",
    "      ]\n",
    "kind='sound/perception'\n",
    "parsers=[parse(expr) for expr in exprs]\n",
    "for chunk in chunks['verb_domains']:\n",
    "    json_data=chunk\n",
    "    # for expr in exprs:\n",
    "    for parser in parsers:\n",
    "        print([(match.value, str(match.full_path)) for match in parser.find(json_data)])\n",
    "        word='/'.join([match.value for match in parser.find(json_data)])\n",
    "        print(word, '->', predicate(kind, word, lang, '*'))"
   ]
  },
  {
   "cell_type": "code",
   "execution_count": 18,
   "metadata": {
    "ExecuteTime": {
     "end_time": "2019-12-16T23:17:06.944607Z",
     "start_time": "2019-12-16T23:17:06.935824Z"
    }
   },
   "outputs": [
    {
     "name": "stdout",
     "output_type": "stream",
     "text": [
      "[('I', 'nsubj.[0].text'), ('I', 'nsubj.[0].lemma')]\n",
      "I/I\n",
      "[('music', 'xcomp.[0].obj.[0].text'), ('music', 'xcomp.[0].obj.[0].lemma')]\n",
      "music/music\n"
     ]
    }
   ],
   "source": [
    "for chunk in chunks['root_domains']:\n",
    "    json_data=chunk\n",
    "    # for expr in exprs:\n",
    "    for parser in parsers:\n",
    "        print([(match.value, str(match.full_path)) for match in parser.find(json_data)])\n",
    "        print('/'.join([match.value for match in parser.find(json_data)]))"
   ]
  },
  {
   "cell_type": "code",
   "execution_count": 1,
   "metadata": {
    "ExecuteTime": {
     "end_time": "2019-12-22T17:36:19.575050Z",
     "start_time": "2019-12-22T17:36:18.712718Z"
    }
   },
   "outputs": [
    {
     "data": {
      "text/plain": [
       "{'collect_verbs': True,\n",
       " 'trans_cache': True,\n",
       " 'translator': 'google',\n",
       " 'retries': 3,\n",
       " 'enable_chunks_parse': True,\n",
       " 'enable_ascii_viz': True,\n",
       " 'append_ascii_viz': False,\n",
       " 'print_not_matched': False,\n",
       " 'print_inspector_result': True,\n",
       " 'default_word_sets_langs': ['en', 'zh', 'ja', 'id', 'nl'],\n",
       " 'bert_servant': 'localhost',\n",
       " 'ofbiz_servant': 'localhost',\n",
       " 'odoo_servant': 'localhost',\n",
       " 'common_s': 'http://localhost:14000',\n",
       " 'ner': 'http://localhost:8092/entities',\n",
       " 'ner_ru': 'http://localhost:8095/entities',\n",
       " 'duckling': 'http://0.0.0.0:8000/parse',\n",
       " 'nlu_multilang_servant': 'http://localhost:18099',\n",
       " 'words_servant': 'http://localhost:8093',\n",
       " 'redis': 'localhost',\n",
       " 'servants': {'corenlp': 'http://localhost:14000',\n",
       "  'stanford': 'http://localhost:14001',\n",
       "  'ltp': 'http://localhost:14005',\n",
       "  'hanlp': 'http://localhost:14000',\n",
       "  'knp': 'http://localhost:14000',\n",
       "  'spacy': 'http://localhost:14001',\n",
       "  'spacy_2.2': 'http://localhost:14002'},\n",
       " 'dialectors': {'*': 'corenlp',\n",
       "  'auto': 'corenlp',\n",
       "  'el': 'corenlp',\n",
       "  'ru': 'corenlp',\n",
       "  'zh': 'ltp',\n",
       "  'ja': 'knp',\n",
       "  'pt': 'corenlp',\n",
       "  'ar': 'stanford',\n",
       "  'lt': 'spacy_2.2'}}"
      ]
     },
     "execution_count": 1,
     "metadata": {},
     "output_type": "execute_result"
    }
   ],
   "source": [
    "from sagas.conf.conf import cf\n",
    "cf.conf"
   ]
  },
  {
   "cell_type": "code",
   "execution_count": null,
   "metadata": {},
   "outputs": [],
   "source": []
  }
 ],
 "metadata": {
  "kernelspec": {
   "display_name": "Python 3",
   "language": "python",
   "name": "python3"
  },
  "language_info": {
   "codemirror_mode": {
    "name": "ipython",
    "version": 3
   },
   "file_extension": ".py",
   "mimetype": "text/x-python",
   "name": "python",
   "nbconvert_exporter": "python",
   "pygments_lexer": "ipython3",
   "version": "3.6.6"
  },
  "varInspector": {
   "cols": {
    "lenName": 16,
    "lenType": 16,
    "lenVar": 40
   },
   "kernels_config": {
    "python": {
     "delete_cmd_postfix": "",
     "delete_cmd_prefix": "del ",
     "library": "var_list.py",
     "varRefreshCmd": "print(var_dic_list())"
    },
    "r": {
     "delete_cmd_postfix": ") ",
     "delete_cmd_prefix": "rm(",
     "library": "var_list.r",
     "varRefreshCmd": "cat(var_dic_list()) "
    }
   },
   "types_to_exclude": [
    "module",
    "function",
    "builtin_function_or_method",
    "instance",
    "_Feature"
   ],
   "window_display": false
  }
 },
 "nbformat": 4,
 "nbformat_minor": 2
}
