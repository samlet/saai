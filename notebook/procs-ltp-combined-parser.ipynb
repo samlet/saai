{
 "cells": [
  {
   "cell_type": "code",
   "execution_count": 1,
   "metadata": {
    "ExecuteTime": {
     "end_time": "2020-04-17T18:14:39.134552Z",
     "start_time": "2020-04-17T18:14:37.298595Z"
    }
   },
   "outputs": [],
   "source": [
    "import os\n",
    "from sagas.conf import resource_path\n",
    "from sagas.conf.conf import cf\n",
    "from pyltp import Segmentor\n",
    "\n",
    "MODELDIR = f'{cf.conf_dir}/ai/ltp/ltp_data_v3.4.0'\n",
    "\n",
    "from pyltp import Postagger\n",
    "postagger = Postagger()  # 初始化实例\n",
    "postagger.load(os.path.join(MODELDIR, \"pos.model\"))  # 加载模型"
   ]
  },
  {
   "cell_type": "code",
   "execution_count": 2,
   "metadata": {
    "ExecuteTime": {
     "end_time": "2020-04-17T18:14:41.226412Z",
     "start_time": "2020-04-17T18:14:41.218054Z"
    }
   },
   "outputs": [
    {
     "name": "stdout",
     "output_type": "stream",
     "text": [
      "v\tb\tu\tn\n"
     ]
    }
   ],
   "source": [
    "words = ['列出', '所有','的', '采购订单']  # 分词结果\n",
    "postags = postagger.postag(words)  # 词性标注\n",
    "print('\\t'.join(postags))"
   ]
  },
  {
   "cell_type": "code",
   "execution_count": 6,
   "metadata": {
    "ExecuteTime": {
     "end_time": "2020-04-17T18:16:25.570072Z",
     "start_time": "2020-04-17T18:16:25.560048Z"
    }
   },
   "outputs": [
    {
     "name": "stdout",
     "output_type": "stream",
     "text": [
      "列出\t所有\t的\t采购订单\n",
      "v\tb\tu\tn\n"
     ]
    }
   ],
   "source": [
    "from sagas.conf import resource_path\n",
    "import jieba\n",
    "\n",
    "dictf = resource_path('dict_zh.txt')\n",
    "jieba.load_userdict(dictf) \n",
    "seg_list = jieba.cut(\"列出所有的采购订单\")  # 默认是精确模式\n",
    "words=list(seg_list)\n",
    "print(\"\\t\".join(words))\n",
    "postags = postagger.postag(words)  # 词性标注\n",
    "print('\\t'.join(postags))"
   ]
  },
  {
   "cell_type": "code",
   "execution_count": 11,
   "metadata": {
    "ExecuteTime": {
     "end_time": "2020-04-17T18:19:24.708465Z",
     "start_time": "2020-04-17T18:19:24.217943Z"
    }
   },
   "outputs": [],
   "source": [
    "par_model_path = os.path.join(MODELDIR, 'parser.model')  # 依存句法分析模型路径，模型名称为`parser.model`\n",
    "\n",
    "from pyltp import Parser\n",
    "parser = Parser() # 初始化实例\n",
    "parser.load(par_model_path)  # 加载模型"
   ]
  },
  {
   "cell_type": "code",
   "execution_count": 12,
   "metadata": {
    "ExecuteTime": {
     "end_time": "2020-04-17T18:19:27.438453Z",
     "start_time": "2020-04-17T18:19:27.431554Z"
    }
   },
   "outputs": [
    {
     "name": "stdout",
     "output_type": "stream",
     "text": [
      "0:HED\t4:ATT\t2:RAD\t1:VOB\n"
     ]
    }
   ],
   "source": [
    "arcs = parser.parse(words, postags)  # 句法分析\n",
    "print(\"\\t\".join(\"%d:%s\" % (arc.head, arc.relation) for arc in arcs))"
   ]
  }
 ],
 "metadata": {
  "kernelspec": {
   "display_name": "Python 3",
   "language": "python",
   "name": "python3"
  },
  "language_info": {
   "codemirror_mode": {
    "name": "ipython",
    "version": 3
   },
   "file_extension": ".py",
   "mimetype": "text/x-python",
   "name": "python",
   "nbconvert_exporter": "python",
   "pygments_lexer": "ipython3",
   "version": "3.6.6"
  },
  "varInspector": {
   "cols": {
    "lenName": 16,
    "lenType": 16,
    "lenVar": 40
   },
   "kernels_config": {
    "python": {
     "delete_cmd_postfix": "",
     "delete_cmd_prefix": "del ",
     "library": "var_list.py",
     "varRefreshCmd": "print(var_dic_list())"
    },
    "r": {
     "delete_cmd_postfix": ") ",
     "delete_cmd_prefix": "rm(",
     "library": "var_list.r",
     "varRefreshCmd": "cat(var_dic_list()) "
    }
   },
   "types_to_exclude": [
    "module",
    "function",
    "builtin_function_or_method",
    "instance",
    "_Feature"
   ],
   "window_display": false
  }
 },
 "nbformat": 4,
 "nbformat_minor": 2
}
