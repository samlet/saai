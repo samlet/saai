{
 "cells": [
  {
   "cell_type": "code",
   "execution_count": 6,
   "metadata": {
    "ExecuteTime": {
     "end_time": "2020-03-15T05:44:49.407228Z",
     "start_time": "2020-03-15T05:44:49.108223Z"
    }
   },
   "outputs": [
    {
     "data": {
      "text/plain": [
       "[{'seba': {'index': 8357,\n",
       "   'head': 'सेब',\n",
       "   'trans': {'word': 'apple', 'candidates': ['apple']}}},\n",
       " {'pera': {'index': 2349,\n",
       "   'head': 'पेड़',\n",
       "   'trans': {'word': 'tree', 'candidates': ['tree']}}},\n",
       " {'vanaspati': {'index': 1249,\n",
       "   'head': 'वनस्पति',\n",
       "   'trans': {'word': 'plant', 'candidates': ['vegetable']}}},\n",
       " {'jiva': {'index': 1998,\n",
       "   'head': 'जीव',\n",
       "   'trans': {'word': 'creatures',\n",
       "    'candidates': ['organism', 'creature', 'subaerial']}}},\n",
       " {'vastu': {'index': 923,\n",
       "   'head': 'वस्तु',\n",
       "   'trans': {'word': 'thing', 'candidates': ['object', 'commodity', 'item']}}},\n",
       " {'seba': {'index': 8358,\n",
       "   'head': 'सेब',\n",
       "   'trans': {'word': 'apple', 'candidates': ['apple']}}},\n",
       " {'khadya phala': {'index': 4650,\n",
       "   'head': 'खाद्य फल',\n",
       "   'trans': {'word': 'edible fruits', 'candidates': []}}}]"
      ]
     },
     "execution_count": 6,
     "metadata": {},
     "output_type": "execute_result"
    }
   ],
   "source": [
    "from pprint import pprint\n",
    "import requests\n",
    "def get_iwn(word, pos='noun'):\n",
    "    response = requests.post('http://localhost:1700/hi/iwn/hypers',\n",
    "                             json={\"word\":word, \"pos\":pos})\n",
    "    if response.status_code == 200:\n",
    "        rs = response.json()\n",
    "        return rs\n",
    "    else:\n",
    "        return []\n",
    "    \n",
    "get_iwn(\"सेब\", 'noun')"
   ]
  },
  {
   "cell_type": "code",
   "execution_count": 7,
   "metadata": {
    "ExecuteTime": {
     "end_time": "2020-03-15T05:44:53.186220Z",
     "start_time": "2020-03-15T05:44:52.823768Z"
    }
   },
   "outputs": [
    {
     "name": "stdout",
     "output_type": "stream",
     "text": [
      "{'url': 'http://localhost:1700/hi/iwn/hypers'} {'word': 'सेब', 'pos': 'noun'}\n"
     ]
    },
    {
     "data": {
      "text/plain": [
       "[{'seba': {'index': 8357,\n",
       "   'head': 'सेब',\n",
       "   'trans': {'word': 'apple', 'candidates': ['apple']}}},\n",
       " {'pera': {'index': 2349,\n",
       "   'head': 'पेड़',\n",
       "   'trans': {'word': 'tree', 'candidates': ['tree']}}},\n",
       " {'vanaspati': {'index': 1249,\n",
       "   'head': 'वनस्पति',\n",
       "   'trans': {'word': 'plant', 'candidates': ['vegetable']}}},\n",
       " {'jiva': {'index': 1998,\n",
       "   'head': 'जीव',\n",
       "   'trans': {'word': 'creatures',\n",
       "    'candidates': ['organism', 'creature', 'subaerial']}}},\n",
       " {'vastu': {'index': 923,\n",
       "   'head': 'वस्तु',\n",
       "   'trans': {'word': 'thing', 'candidates': ['object', 'commodity', 'item']}}},\n",
       " {'seba': {'index': 8358,\n",
       "   'head': 'सेब',\n",
       "   'trans': {'word': 'apple', 'candidates': ['apple']}}},\n",
       " {'khadya phala': {'index': 4650,\n",
       "   'head': 'खाद्य फल',\n",
       "   'trans': {'word': 'edible fruits', 'candidates': []}}}]"
      ]
     },
     "execution_count": 7,
     "metadata": {},
     "output_type": "execute_result"
    }
   ],
   "source": [
    "delegates={\n",
    "    \"iwn_hypers\": {\n",
    "        \"url\": \"http://localhost:1700/hi/iwn/hypers\"\n",
    "    },\n",
    "}\n",
    "class Delegator(object):\n",
    "    def prepare(self, method):\n",
    "        def service_method(**kwargs):\n",
    "            if method in delegates:\n",
    "                node_cf=delegates[method]\n",
    "                print(node_cf, kwargs)\n",
    "                response = requests.post(node_cf[\"url\"],json=kwargs)\n",
    "                if response.status_code == 200:\n",
    "                    rs = response.json()\n",
    "                    return rs\n",
    "                else:\n",
    "                    return []\n",
    "            else:\n",
    "                raise ValueError(f\"Cannot find delegate {method}\")\n",
    "        return service_method\n",
    "    def __getattr__(self, method):\n",
    "        return self.prepare(method)\n",
    "\n",
    "dele=Delegator()\n",
    "dele.iwn_hypers(word=\"सेब\", pos=\"noun\")"
   ]
  }
 ],
 "metadata": {
  "kernelspec": {
   "display_name": "Python 3",
   "language": "python",
   "name": "python3"
  },
  "language_info": {
   "codemirror_mode": {
    "name": "ipython",
    "version": 3
   },
   "file_extension": ".py",
   "mimetype": "text/x-python",
   "name": "python",
   "nbconvert_exporter": "python",
   "pygments_lexer": "ipython3",
   "version": "3.6.6"
  },
  "varInspector": {
   "cols": {
    "lenName": 16,
    "lenType": 16,
    "lenVar": 40
   },
   "kernels_config": {
    "python": {
     "delete_cmd_postfix": "",
     "delete_cmd_prefix": "del ",
     "library": "var_list.py",
     "varRefreshCmd": "print(var_dic_list())"
    },
    "r": {
     "delete_cmd_postfix": ") ",
     "delete_cmd_prefix": "rm(",
     "library": "var_list.r",
     "varRefreshCmd": "cat(var_dic_list()) "
    }
   },
   "types_to_exclude": [
    "module",
    "function",
    "builtin_function_or_method",
    "instance",
    "_Feature"
   ],
   "window_display": false
  }
 },
 "nbformat": 4,
 "nbformat_minor": 2
}
