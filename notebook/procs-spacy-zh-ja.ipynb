{
 "cells": [
  {
   "cell_type": "code",
   "execution_count": 1,
   "metadata": {
    "ExecuteTime": {
     "end_time": "2020-06-22T12:16:38.271568Z",
     "start_time": "2020-06-22T12:16:34.240895Z"
    }
   },
   "outputs": [
    {
     "name": "stderr",
     "output_type": "stream",
     "text": [
      "Building prefix dict from the default dictionary ...\n",
      "Loading model from cache /var/folders/fv/7k1qk5v11dn33sdcngv2wbnm0000gn/T/jieba.cache\n",
      "Loading model cost 0.832 seconds.\n",
      "Prefix dict has been built successfully.\n"
     ]
    }
   ],
   "source": [
    "import spacy\n",
    "# nlp = spacy.load(\"zh_core_web_sm\")\n",
    "nlp = spacy.load(\"zh_core_web_md\")"
   ]
  },
  {
   "cell_type": "code",
   "execution_count": 3,
   "metadata": {
    "ExecuteTime": {
     "end_time": "2020-06-22T11:50:40.194679Z",
     "start_time": "2020-06-22T11:50:40.180172Z"
    }
   },
   "outputs": [
    {
     "data": {
      "text/plain": [
       "[('tagger', <spacy.pipeline.pipes.Tagger at 0x7f8aac75bad0>),\n",
       " ('parser', <spacy.pipeline.pipes.DependencyParser at 0x7f8ab4564ec0>),\n",
       " ('ner', <spacy.pipeline.pipes.EntityRecognizer at 0x7f8ab4564c90>)]"
      ]
     },
     "execution_count": 3,
     "metadata": {},
     "output_type": "execute_result"
    }
   ],
   "source": [
    "nlp.pipeline"
   ]
  },
  {
   "cell_type": "code",
   "execution_count": 2,
   "metadata": {
    "ExecuteTime": {
     "end_time": "2020-06-20T18:54:06.965455Z",
     "start_time": "2020-06-20T18:54:06.960111Z"
    }
   },
   "outputs": [],
   "source": [
    "nlp.tokenizer.pkuseg_update_user_dict([\"中国\", \"ABC\"])"
   ]
  },
  {
   "cell_type": "code",
   "execution_count": 4,
   "metadata": {
    "ExecuteTime": {
     "end_time": "2020-06-22T11:51:02.506834Z",
     "start_time": "2020-06-22T11:51:02.458000Z"
    }
   },
   "outputs": [
    {
     "name": "stdout",
     "output_type": "stream",
     "text": [
      "verbs+: {工作}\n"
     ]
    }
   ],
   "source": [
    "from spacy.symbols import nsubj, POS, NOUN, VERB, ADJ, PUNCT\n",
    "def print_verbs(doc):\n",
    "    # Finding a verb with a subject from below — good\n",
    "    verbs = set()\n",
    "    for possible_subject in doc:\n",
    "        if possible_subject.dep == nsubj and possible_subject.head.pos == VERB:\n",
    "            verbs.add(possible_subject.head)\n",
    "    print(\"verbs+:\", verbs)\n",
    "\n",
    "print_verbs(nlp('你要去工作'))"
   ]
  },
  {
   "cell_type": "code",
   "execution_count": 8,
   "metadata": {
    "ExecuteTime": {
     "end_time": "2020-06-22T11:55:06.591598Z",
     "start_time": "2020-06-22T11:55:06.549489Z"
    }
   },
   "outputs": [
    {
     "name": "stdout",
     "output_type": "stream",
     "text": [
      "verbs+: {关闭, 开发, 发展}\n",
      "公司创立初期以销售BASIC解译器为主。\n"
     ]
    },
    {
     "data": {
      "text/plain": [
       "[1979年，MITS公司关闭，微软公司以修改BASIC程序为主要业务继续发展。,\n",
       " 公司创立初期以销售BASIC解译器为主。,\n",
       " 当时的计算机爱好者也常常自行开发小型的BASIC解译器，并免费分发。]"
      ]
     },
     "execution_count": 8,
     "metadata": {},
     "output_type": "execute_result"
    }
   ],
   "source": [
    "doc=nlp('1979年，MITS公司关闭，微软公司以修改BASIC程序为主要业务继续发展。公司创立初期以销售BASIC解译器为主。当时的计算机爱好者也常常自行开发小型的BASIC解译器，并免费分发。')\n",
    "print_verbs(doc)\n",
    "sentences = list(doc.sents)\n",
    "print(sentences[1].text) \n",
    "sentences"
   ]
  },
  {
   "cell_type": "code",
   "execution_count": 9,
   "metadata": {
    "ExecuteTime": {
     "end_time": "2020-06-22T11:56:16.331440Z",
     "start_time": "2020-06-22T11:56:16.324396Z"
    }
   },
   "outputs": [
    {
     "name": "stdout",
     "output_type": "stream",
     "text": [
      "1979年 0 5 DATE\n",
      "MITS公司 6 12 ORG\n",
      "微软公司 15 19 ORG\n"
     ]
    }
   ],
   "source": [
    "for ent in doc.ents:\n",
    "    print(ent.text, ent.start_char, ent.end_char, ent.label_)"
   ]
  },
  {
   "cell_type": "code",
   "execution_count": 10,
   "metadata": {
    "ExecuteTime": {
     "end_time": "2020-06-22T11:58:10.652239Z",
     "start_time": "2020-06-22T11:58:10.430319Z"
    }
   },
   "outputs": [
    {
     "data": {
      "text/html": [
       "<span class=\"tex2jax_ignore\"><svg xmlns=\"http://www.w3.org/2000/svg\" xmlns:xlink=\"http://www.w3.org/1999/xlink\" xml:lang=\"zh\" id=\"9dd00075fb6943ebad2ac48f542837d7-0\" class=\"displacy\" width=\"6700\" height=\"924.5\" direction=\"ltr\" style=\"max-width: none; height: 924.5px; color: #000000; background: #ffffff; font-family: Arial; direction: ltr\">\n",
       "<text class=\"displacy-token\" fill=\"currentColor\" text-anchor=\"middle\" y=\"834.5\">\n",
       "    <tspan class=\"displacy-word\" fill=\"currentColor\" x=\"50\">1979年，</tspan>\n",
       "    <tspan class=\"displacy-tag\" dy=\"2em\" fill=\"currentColor\" x=\"50\">NOUN</tspan>\n",
       "</text>\n",
       "\n",
       "<text class=\"displacy-token\" fill=\"currentColor\" text-anchor=\"middle\" y=\"834.5\">\n",
       "    <tspan class=\"displacy-word\" fill=\"currentColor\" x=\"225\">MITS</tspan>\n",
       "    <tspan class=\"displacy-tag\" dy=\"2em\" fill=\"currentColor\" x=\"225\">PROPN</tspan>\n",
       "</text>\n",
       "\n",
       "<text class=\"displacy-token\" fill=\"currentColor\" text-anchor=\"middle\" y=\"834.5\">\n",
       "    <tspan class=\"displacy-word\" fill=\"currentColor\" x=\"400\">公司</tspan>\n",
       "    <tspan class=\"displacy-tag\" dy=\"2em\" fill=\"currentColor\" x=\"400\">NOUN</tspan>\n",
       "</text>\n",
       "\n",
       "<text class=\"displacy-token\" fill=\"currentColor\" text-anchor=\"middle\" y=\"834.5\">\n",
       "    <tspan class=\"displacy-word\" fill=\"currentColor\" x=\"575\">关闭，</tspan>\n",
       "    <tspan class=\"displacy-tag\" dy=\"2em\" fill=\"currentColor\" x=\"575\">VERB</tspan>\n",
       "</text>\n",
       "\n",
       "<text class=\"displacy-token\" fill=\"currentColor\" text-anchor=\"middle\" y=\"834.5\">\n",
       "    <tspan class=\"displacy-word\" fill=\"currentColor\" x=\"750\">微软</tspan>\n",
       "    <tspan class=\"displacy-tag\" dy=\"2em\" fill=\"currentColor\" x=\"750\">PROPN</tspan>\n",
       "</text>\n",
       "\n",
       "<text class=\"displacy-token\" fill=\"currentColor\" text-anchor=\"middle\" y=\"834.5\">\n",
       "    <tspan class=\"displacy-word\" fill=\"currentColor\" x=\"925\">公司</tspan>\n",
       "    <tspan class=\"displacy-tag\" dy=\"2em\" fill=\"currentColor\" x=\"925\">NOUN</tspan>\n",
       "</text>\n",
       "\n",
       "<text class=\"displacy-token\" fill=\"currentColor\" text-anchor=\"middle\" y=\"834.5\">\n",
       "    <tspan class=\"displacy-word\" fill=\"currentColor\" x=\"1100\">以</tspan>\n",
       "    <tspan class=\"displacy-tag\" dy=\"2em\" fill=\"currentColor\" x=\"1100\">ADP</tspan>\n",
       "</text>\n",
       "\n",
       "<text class=\"displacy-token\" fill=\"currentColor\" text-anchor=\"middle\" y=\"834.5\">\n",
       "    <tspan class=\"displacy-word\" fill=\"currentColor\" x=\"1275\">修改</tspan>\n",
       "    <tspan class=\"displacy-tag\" dy=\"2em\" fill=\"currentColor\" x=\"1275\">VERB</tspan>\n",
       "</text>\n",
       "\n",
       "<text class=\"displacy-token\" fill=\"currentColor\" text-anchor=\"middle\" y=\"834.5\">\n",
       "    <tspan class=\"displacy-word\" fill=\"currentColor\" x=\"1450\">BASIC</tspan>\n",
       "    <tspan class=\"displacy-tag\" dy=\"2em\" fill=\"currentColor\" x=\"1450\">NOUN</tspan>\n",
       "</text>\n",
       "\n",
       "<text class=\"displacy-token\" fill=\"currentColor\" text-anchor=\"middle\" y=\"834.5\">\n",
       "    <tspan class=\"displacy-word\" fill=\"currentColor\" x=\"1625\">程序</tspan>\n",
       "    <tspan class=\"displacy-tag\" dy=\"2em\" fill=\"currentColor\" x=\"1625\">NOUN</tspan>\n",
       "</text>\n",
       "\n",
       "<text class=\"displacy-token\" fill=\"currentColor\" text-anchor=\"middle\" y=\"834.5\">\n",
       "    <tspan class=\"displacy-word\" fill=\"currentColor\" x=\"1800\">为</tspan>\n",
       "    <tspan class=\"displacy-tag\" dy=\"2em\" fill=\"currentColor\" x=\"1800\">ADP</tspan>\n",
       "</text>\n",
       "\n",
       "<text class=\"displacy-token\" fill=\"currentColor\" text-anchor=\"middle\" y=\"834.5\">\n",
       "    <tspan class=\"displacy-word\" fill=\"currentColor\" x=\"1975\">主要</tspan>\n",
       "    <tspan class=\"displacy-tag\" dy=\"2em\" fill=\"currentColor\" x=\"1975\">ADJ</tspan>\n",
       "</text>\n",
       "\n",
       "<text class=\"displacy-token\" fill=\"currentColor\" text-anchor=\"middle\" y=\"834.5\">\n",
       "    <tspan class=\"displacy-word\" fill=\"currentColor\" x=\"2150\">业务</tspan>\n",
       "    <tspan class=\"displacy-tag\" dy=\"2em\" fill=\"currentColor\" x=\"2150\">NOUN</tspan>\n",
       "</text>\n",
       "\n",
       "<text class=\"displacy-token\" fill=\"currentColor\" text-anchor=\"middle\" y=\"834.5\">\n",
       "    <tspan class=\"displacy-word\" fill=\"currentColor\" x=\"2325\">继续</tspan>\n",
       "    <tspan class=\"displacy-tag\" dy=\"2em\" fill=\"currentColor\" x=\"2325\">VERB</tspan>\n",
       "</text>\n",
       "\n",
       "<text class=\"displacy-token\" fill=\"currentColor\" text-anchor=\"middle\" y=\"834.5\">\n",
       "    <tspan class=\"displacy-word\" fill=\"currentColor\" x=\"2500\">发展。</tspan>\n",
       "    <tspan class=\"displacy-tag\" dy=\"2em\" fill=\"currentColor\" x=\"2500\">VERB</tspan>\n",
       "</text>\n",
       "\n",
       "<text class=\"displacy-token\" fill=\"currentColor\" text-anchor=\"middle\" y=\"834.5\">\n",
       "    <tspan class=\"displacy-word\" fill=\"currentColor\" x=\"2675\">公司</tspan>\n",
       "    <tspan class=\"displacy-tag\" dy=\"2em\" fill=\"currentColor\" x=\"2675\">NOUN</tspan>\n",
       "</text>\n",
       "\n",
       "<text class=\"displacy-token\" fill=\"currentColor\" text-anchor=\"middle\" y=\"834.5\">\n",
       "    <tspan class=\"displacy-word\" fill=\"currentColor\" x=\"2850\">创立</tspan>\n",
       "    <tspan class=\"displacy-tag\" dy=\"2em\" fill=\"currentColor\" x=\"2850\">NOUN</tspan>\n",
       "</text>\n",
       "\n",
       "<text class=\"displacy-token\" fill=\"currentColor\" text-anchor=\"middle\" y=\"834.5\">\n",
       "    <tspan class=\"displacy-word\" fill=\"currentColor\" x=\"3025\">初期</tspan>\n",
       "    <tspan class=\"displacy-tag\" dy=\"2em\" fill=\"currentColor\" x=\"3025\">NOUN</tspan>\n",
       "</text>\n",
       "\n",
       "<text class=\"displacy-token\" fill=\"currentColor\" text-anchor=\"middle\" y=\"834.5\">\n",
       "    <tspan class=\"displacy-word\" fill=\"currentColor\" x=\"3200\">以</tspan>\n",
       "    <tspan class=\"displacy-tag\" dy=\"2em\" fill=\"currentColor\" x=\"3200\">ADP</tspan>\n",
       "</text>\n",
       "\n",
       "<text class=\"displacy-token\" fill=\"currentColor\" text-anchor=\"middle\" y=\"834.5\">\n",
       "    <tspan class=\"displacy-word\" fill=\"currentColor\" x=\"3375\">销售</tspan>\n",
       "    <tspan class=\"displacy-tag\" dy=\"2em\" fill=\"currentColor\" x=\"3375\">NOUN</tspan>\n",
       "</text>\n",
       "\n",
       "<text class=\"displacy-token\" fill=\"currentColor\" text-anchor=\"middle\" y=\"834.5\">\n",
       "    <tspan class=\"displacy-word\" fill=\"currentColor\" x=\"3550\">BASIC</tspan>\n",
       "    <tspan class=\"displacy-tag\" dy=\"2em\" fill=\"currentColor\" x=\"3550\">NOUN</tspan>\n",
       "</text>\n",
       "\n",
       "<text class=\"displacy-token\" fill=\"currentColor\" text-anchor=\"middle\" y=\"834.5\">\n",
       "    <tspan class=\"displacy-word\" fill=\"currentColor\" x=\"3725\">解译器</tspan>\n",
       "    <tspan class=\"displacy-tag\" dy=\"2em\" fill=\"currentColor\" x=\"3725\">NOUN</tspan>\n",
       "</text>\n",
       "\n",
       "<text class=\"displacy-token\" fill=\"currentColor\" text-anchor=\"middle\" y=\"834.5\">\n",
       "    <tspan class=\"displacy-word\" fill=\"currentColor\" x=\"3900\">为主。</tspan>\n",
       "    <tspan class=\"displacy-tag\" dy=\"2em\" fill=\"currentColor\" x=\"3900\">VERB</tspan>\n",
       "</text>\n",
       "\n",
       "<text class=\"displacy-token\" fill=\"currentColor\" text-anchor=\"middle\" y=\"834.5\">\n",
       "    <tspan class=\"displacy-word\" fill=\"currentColor\" x=\"4075\">当时</tspan>\n",
       "    <tspan class=\"displacy-tag\" dy=\"2em\" fill=\"currentColor\" x=\"4075\">NOUN</tspan>\n",
       "</text>\n",
       "\n",
       "<text class=\"displacy-token\" fill=\"currentColor\" text-anchor=\"middle\" y=\"834.5\">\n",
       "    <tspan class=\"displacy-word\" fill=\"currentColor\" x=\"4250\">的</tspan>\n",
       "    <tspan class=\"displacy-tag\" dy=\"2em\" fill=\"currentColor\" x=\"4250\">PART</tspan>\n",
       "</text>\n",
       "\n",
       "<text class=\"displacy-token\" fill=\"currentColor\" text-anchor=\"middle\" y=\"834.5\">\n",
       "    <tspan class=\"displacy-word\" fill=\"currentColor\" x=\"4425\">计算机</tspan>\n",
       "    <tspan class=\"displacy-tag\" dy=\"2em\" fill=\"currentColor\" x=\"4425\">NOUN</tspan>\n",
       "</text>\n",
       "\n",
       "<text class=\"displacy-token\" fill=\"currentColor\" text-anchor=\"middle\" y=\"834.5\">\n",
       "    <tspan class=\"displacy-word\" fill=\"currentColor\" x=\"4600\">爱好者</tspan>\n",
       "    <tspan class=\"displacy-tag\" dy=\"2em\" fill=\"currentColor\" x=\"4600\">NOUN</tspan>\n",
       "</text>\n",
       "\n",
       "<text class=\"displacy-token\" fill=\"currentColor\" text-anchor=\"middle\" y=\"834.5\">\n",
       "    <tspan class=\"displacy-word\" fill=\"currentColor\" x=\"4775\">也</tspan>\n",
       "    <tspan class=\"displacy-tag\" dy=\"2em\" fill=\"currentColor\" x=\"4775\">ADV</tspan>\n",
       "</text>\n",
       "\n",
       "<text class=\"displacy-token\" fill=\"currentColor\" text-anchor=\"middle\" y=\"834.5\">\n",
       "    <tspan class=\"displacy-word\" fill=\"currentColor\" x=\"4950\">常常</tspan>\n",
       "    <tspan class=\"displacy-tag\" dy=\"2em\" fill=\"currentColor\" x=\"4950\">ADV</tspan>\n",
       "</text>\n",
       "\n",
       "<text class=\"displacy-token\" fill=\"currentColor\" text-anchor=\"middle\" y=\"834.5\">\n",
       "    <tspan class=\"displacy-word\" fill=\"currentColor\" x=\"5125\">自行</tspan>\n",
       "    <tspan class=\"displacy-tag\" dy=\"2em\" fill=\"currentColor\" x=\"5125\">ADV</tspan>\n",
       "</text>\n",
       "\n",
       "<text class=\"displacy-token\" fill=\"currentColor\" text-anchor=\"middle\" y=\"834.5\">\n",
       "    <tspan class=\"displacy-word\" fill=\"currentColor\" x=\"5300\">开发</tspan>\n",
       "    <tspan class=\"displacy-tag\" dy=\"2em\" fill=\"currentColor\" x=\"5300\">VERB</tspan>\n",
       "</text>\n",
       "\n",
       "<text class=\"displacy-token\" fill=\"currentColor\" text-anchor=\"middle\" y=\"834.5\">\n",
       "    <tspan class=\"displacy-word\" fill=\"currentColor\" x=\"5475\">小型</tspan>\n",
       "    <tspan class=\"displacy-tag\" dy=\"2em\" fill=\"currentColor\" x=\"5475\">ADJ</tspan>\n",
       "</text>\n",
       "\n",
       "<text class=\"displacy-token\" fill=\"currentColor\" text-anchor=\"middle\" y=\"834.5\">\n",
       "    <tspan class=\"displacy-word\" fill=\"currentColor\" x=\"5650\">的</tspan>\n",
       "    <tspan class=\"displacy-tag\" dy=\"2em\" fill=\"currentColor\" x=\"5650\">PART</tspan>\n",
       "</text>\n",
       "\n",
       "<text class=\"displacy-token\" fill=\"currentColor\" text-anchor=\"middle\" y=\"834.5\">\n",
       "    <tspan class=\"displacy-word\" fill=\"currentColor\" x=\"5825\">BASIC</tspan>\n",
       "    <tspan class=\"displacy-tag\" dy=\"2em\" fill=\"currentColor\" x=\"5825\">NOUN</tspan>\n",
       "</text>\n",
       "\n",
       "<text class=\"displacy-token\" fill=\"currentColor\" text-anchor=\"middle\" y=\"834.5\">\n",
       "    <tspan class=\"displacy-word\" fill=\"currentColor\" x=\"6000\">解译器，</tspan>\n",
       "    <tspan class=\"displacy-tag\" dy=\"2em\" fill=\"currentColor\" x=\"6000\">NOUN</tspan>\n",
       "</text>\n",
       "\n",
       "<text class=\"displacy-token\" fill=\"currentColor\" text-anchor=\"middle\" y=\"834.5\">\n",
       "    <tspan class=\"displacy-word\" fill=\"currentColor\" x=\"6175\">并</tspan>\n",
       "    <tspan class=\"displacy-tag\" dy=\"2em\" fill=\"currentColor\" x=\"6175\">ADV</tspan>\n",
       "</text>\n",
       "\n",
       "<text class=\"displacy-token\" fill=\"currentColor\" text-anchor=\"middle\" y=\"834.5\">\n",
       "    <tspan class=\"displacy-word\" fill=\"currentColor\" x=\"6350\">免费</tspan>\n",
       "    <tspan class=\"displacy-tag\" dy=\"2em\" fill=\"currentColor\" x=\"6350\">ADV</tspan>\n",
       "</text>\n",
       "\n",
       "<text class=\"displacy-token\" fill=\"currentColor\" text-anchor=\"middle\" y=\"834.5\">\n",
       "    <tspan class=\"displacy-word\" fill=\"currentColor\" x=\"6525\">分发。</tspan>\n",
       "    <tspan class=\"displacy-tag\" dy=\"2em\" fill=\"currentColor\" x=\"6525\">VERB</tspan>\n",
       "</text>\n",
       "\n",
       "<g class=\"displacy-arrow\">\n",
       "    <path class=\"displacy-arc\" id=\"arrow-9dd00075fb6943ebad2ac48f542837d7-0-0\" stroke-width=\"2px\" d=\"M70,789.5 C70,527.0 545.0,527.0 545.0,789.5\" fill=\"none\" stroke=\"currentColor\"/>\n",
       "    <text dy=\"1.25em\" style=\"font-size: 0.8em; letter-spacing: 1px\">\n",
       "        <textPath xlink:href=\"#arrow-9dd00075fb6943ebad2ac48f542837d7-0-0\" class=\"displacy-label\" startOffset=\"50%\" side=\"left\" fill=\"currentColor\" text-anchor=\"middle\">nmod:tmod</textPath>\n",
       "    </text>\n",
       "    <path class=\"displacy-arrowhead\" d=\"M70,791.5 L62,779.5 78,779.5\" fill=\"currentColor\"/>\n",
       "</g>\n",
       "\n",
       "<g class=\"displacy-arrow\">\n",
       "    <path class=\"displacy-arc\" id=\"arrow-9dd00075fb6943ebad2ac48f542837d7-0-1\" stroke-width=\"2px\" d=\"M245,789.5 C245,702.0 360.0,702.0 360.0,789.5\" fill=\"none\" stroke=\"currentColor\"/>\n",
       "    <text dy=\"1.25em\" style=\"font-size: 0.8em; letter-spacing: 1px\">\n",
       "        <textPath xlink:href=\"#arrow-9dd00075fb6943ebad2ac48f542837d7-0-1\" class=\"displacy-label\" startOffset=\"50%\" side=\"left\" fill=\"currentColor\" text-anchor=\"middle\">compound:nn</textPath>\n",
       "    </text>\n",
       "    <path class=\"displacy-arrowhead\" d=\"M245,791.5 L237,779.5 253,779.5\" fill=\"currentColor\"/>\n",
       "</g>\n",
       "\n",
       "<g class=\"displacy-arrow\">\n",
       "    <path class=\"displacy-arc\" id=\"arrow-9dd00075fb6943ebad2ac48f542837d7-0-2\" stroke-width=\"2px\" d=\"M420,789.5 C420,702.0 535.0,702.0 535.0,789.5\" fill=\"none\" stroke=\"currentColor\"/>\n",
       "    <text dy=\"1.25em\" style=\"font-size: 0.8em; letter-spacing: 1px\">\n",
       "        <textPath xlink:href=\"#arrow-9dd00075fb6943ebad2ac48f542837d7-0-2\" class=\"displacy-label\" startOffset=\"50%\" side=\"left\" fill=\"currentColor\" text-anchor=\"middle\">nsubj</textPath>\n",
       "    </text>\n",
       "    <path class=\"displacy-arrowhead\" d=\"M420,791.5 L412,779.5 428,779.5\" fill=\"currentColor\"/>\n",
       "</g>\n",
       "\n",
       "<g class=\"displacy-arrow\">\n",
       "    <path class=\"displacy-arc\" id=\"arrow-9dd00075fb6943ebad2ac48f542837d7-0-3\" stroke-width=\"2px\" d=\"M770,789.5 C770,702.0 885.0,702.0 885.0,789.5\" fill=\"none\" stroke=\"currentColor\"/>\n",
       "    <text dy=\"1.25em\" style=\"font-size: 0.8em; letter-spacing: 1px\">\n",
       "        <textPath xlink:href=\"#arrow-9dd00075fb6943ebad2ac48f542837d7-0-3\" class=\"displacy-label\" startOffset=\"50%\" side=\"left\" fill=\"currentColor\" text-anchor=\"middle\">compound:nn</textPath>\n",
       "    </text>\n",
       "    <path class=\"displacy-arrowhead\" d=\"M770,791.5 L762,779.5 778,779.5\" fill=\"currentColor\"/>\n",
       "</g>\n",
       "\n",
       "<g class=\"displacy-arrow\">\n",
       "    <path class=\"displacy-arc\" id=\"arrow-9dd00075fb6943ebad2ac48f542837d7-0-4\" stroke-width=\"2px\" d=\"M945,789.5 C945,89.5 2495.0,89.5 2495.0,789.5\" fill=\"none\" stroke=\"currentColor\"/>\n",
       "    <text dy=\"1.25em\" style=\"font-size: 0.8em; letter-spacing: 1px\">\n",
       "        <textPath xlink:href=\"#arrow-9dd00075fb6943ebad2ac48f542837d7-0-4\" class=\"displacy-label\" startOffset=\"50%\" side=\"left\" fill=\"currentColor\" text-anchor=\"middle\">nsubj</textPath>\n",
       "    </text>\n",
       "    <path class=\"displacy-arrowhead\" d=\"M945,791.5 L937,779.5 953,779.5\" fill=\"currentColor\"/>\n",
       "</g>\n",
       "\n",
       "<g class=\"displacy-arrow\">\n",
       "    <path class=\"displacy-arc\" id=\"arrow-9dd00075fb6943ebad2ac48f542837d7-0-5\" stroke-width=\"2px\" d=\"M1120,789.5 C1120,702.0 1235.0,702.0 1235.0,789.5\" fill=\"none\" stroke=\"currentColor\"/>\n",
       "    <text dy=\"1.25em\" style=\"font-size: 0.8em; letter-spacing: 1px\">\n",
       "        <textPath xlink:href=\"#arrow-9dd00075fb6943ebad2ac48f542837d7-0-5\" class=\"displacy-label\" startOffset=\"50%\" side=\"left\" fill=\"currentColor\" text-anchor=\"middle\">case</textPath>\n",
       "    </text>\n",
       "    <path class=\"displacy-arrowhead\" d=\"M1120,791.5 L1112,779.5 1128,779.5\" fill=\"currentColor\"/>\n",
       "</g>\n",
       "\n",
       "<g class=\"displacy-arrow\">\n",
       "    <path class=\"displacy-arc\" id=\"arrow-9dd00075fb6943ebad2ac48f542837d7-0-6\" stroke-width=\"2px\" d=\"M1295,789.5 C1295,177.0 2490.0,177.0 2490.0,789.5\" fill=\"none\" stroke=\"currentColor\"/>\n",
       "    <text dy=\"1.25em\" style=\"font-size: 0.8em; letter-spacing: 1px\">\n",
       "        <textPath xlink:href=\"#arrow-9dd00075fb6943ebad2ac48f542837d7-0-6\" class=\"displacy-label\" startOffset=\"50%\" side=\"left\" fill=\"currentColor\" text-anchor=\"middle\">nmod:prep</textPath>\n",
       "    </text>\n",
       "    <path class=\"displacy-arrowhead\" d=\"M1295,791.5 L1287,779.5 1303,779.5\" fill=\"currentColor\"/>\n",
       "</g>\n",
       "\n",
       "<g class=\"displacy-arrow\">\n",
       "    <path class=\"displacy-arc\" id=\"arrow-9dd00075fb6943ebad2ac48f542837d7-0-7\" stroke-width=\"2px\" d=\"M1470,789.5 C1470,702.0 1585.0,702.0 1585.0,789.5\" fill=\"none\" stroke=\"currentColor\"/>\n",
       "    <text dy=\"1.25em\" style=\"font-size: 0.8em; letter-spacing: 1px\">\n",
       "        <textPath xlink:href=\"#arrow-9dd00075fb6943ebad2ac48f542837d7-0-7\" class=\"displacy-label\" startOffset=\"50%\" side=\"left\" fill=\"currentColor\" text-anchor=\"middle\">compound:nn</textPath>\n",
       "    </text>\n",
       "    <path class=\"displacy-arrowhead\" d=\"M1470,791.5 L1462,779.5 1478,779.5\" fill=\"currentColor\"/>\n",
       "</g>\n",
       "\n",
       "<g class=\"displacy-arrow\">\n",
       "    <path class=\"displacy-arc\" id=\"arrow-9dd00075fb6943ebad2ac48f542837d7-0-8\" stroke-width=\"2px\" d=\"M1295,789.5 C1295,614.5 1590.0,614.5 1590.0,789.5\" fill=\"none\" stroke=\"currentColor\"/>\n",
       "    <text dy=\"1.25em\" style=\"font-size: 0.8em; letter-spacing: 1px\">\n",
       "        <textPath xlink:href=\"#arrow-9dd00075fb6943ebad2ac48f542837d7-0-8\" class=\"displacy-label\" startOffset=\"50%\" side=\"left\" fill=\"currentColor\" text-anchor=\"middle\">dobj</textPath>\n",
       "    </text>\n",
       "    <path class=\"displacy-arrowhead\" d=\"M1590.0,791.5 L1598.0,779.5 1582.0,779.5\" fill=\"currentColor\"/>\n",
       "</g>\n",
       "\n",
       "<g class=\"displacy-arrow\">\n",
       "    <path class=\"displacy-arc\" id=\"arrow-9dd00075fb6943ebad2ac48f542837d7-0-9\" stroke-width=\"2px\" d=\"M1820,789.5 C1820,614.5 2115.0,614.5 2115.0,789.5\" fill=\"none\" stroke=\"currentColor\"/>\n",
       "    <text dy=\"1.25em\" style=\"font-size: 0.8em; letter-spacing: 1px\">\n",
       "        <textPath xlink:href=\"#arrow-9dd00075fb6943ebad2ac48f542837d7-0-9\" class=\"displacy-label\" startOffset=\"50%\" side=\"left\" fill=\"currentColor\" text-anchor=\"middle\">case</textPath>\n",
       "    </text>\n",
       "    <path class=\"displacy-arrowhead\" d=\"M1820,791.5 L1812,779.5 1828,779.5\" fill=\"currentColor\"/>\n",
       "</g>\n",
       "\n",
       "<g class=\"displacy-arrow\">\n",
       "    <path class=\"displacy-arc\" id=\"arrow-9dd00075fb6943ebad2ac48f542837d7-0-10\" stroke-width=\"2px\" d=\"M1995,789.5 C1995,702.0 2110.0,702.0 2110.0,789.5\" fill=\"none\" stroke=\"currentColor\"/>\n",
       "    <text dy=\"1.25em\" style=\"font-size: 0.8em; letter-spacing: 1px\">\n",
       "        <textPath xlink:href=\"#arrow-9dd00075fb6943ebad2ac48f542837d7-0-10\" class=\"displacy-label\" startOffset=\"50%\" side=\"left\" fill=\"currentColor\" text-anchor=\"middle\">amod</textPath>\n",
       "    </text>\n",
       "    <path class=\"displacy-arrowhead\" d=\"M1995,791.5 L1987,779.5 2003,779.5\" fill=\"currentColor\"/>\n",
       "</g>\n",
       "\n",
       "<g class=\"displacy-arrow\">\n",
       "    <path class=\"displacy-arc\" id=\"arrow-9dd00075fb6943ebad2ac48f542837d7-0-11\" stroke-width=\"2px\" d=\"M2170,789.5 C2170,614.5 2465.0,614.5 2465.0,789.5\" fill=\"none\" stroke=\"currentColor\"/>\n",
       "    <text dy=\"1.25em\" style=\"font-size: 0.8em; letter-spacing: 1px\">\n",
       "        <textPath xlink:href=\"#arrow-9dd00075fb6943ebad2ac48f542837d7-0-11\" class=\"displacy-label\" startOffset=\"50%\" side=\"left\" fill=\"currentColor\" text-anchor=\"middle\">nmod:prep</textPath>\n",
       "    </text>\n",
       "    <path class=\"displacy-arrowhead\" d=\"M2170,791.5 L2162,779.5 2178,779.5\" fill=\"currentColor\"/>\n",
       "</g>\n",
       "\n",
       "<g class=\"displacy-arrow\">\n",
       "    <path class=\"displacy-arc\" id=\"arrow-9dd00075fb6943ebad2ac48f542837d7-0-12\" stroke-width=\"2px\" d=\"M2345,789.5 C2345,702.0 2460.0,702.0 2460.0,789.5\" fill=\"none\" stroke=\"currentColor\"/>\n",
       "    <text dy=\"1.25em\" style=\"font-size: 0.8em; letter-spacing: 1px\">\n",
       "        <textPath xlink:href=\"#arrow-9dd00075fb6943ebad2ac48f542837d7-0-12\" class=\"displacy-label\" startOffset=\"50%\" side=\"left\" fill=\"currentColor\" text-anchor=\"middle\">xcomp</textPath>\n",
       "    </text>\n",
       "    <path class=\"displacy-arrowhead\" d=\"M2345,791.5 L2337,779.5 2353,779.5\" fill=\"currentColor\"/>\n",
       "</g>\n",
       "\n",
       "<g class=\"displacy-arrow\">\n",
       "    <path class=\"displacy-arc\" id=\"arrow-9dd00075fb6943ebad2ac48f542837d7-0-13\" stroke-width=\"2px\" d=\"M595,789.5 C595,2.0 2500.0,2.0 2500.0,789.5\" fill=\"none\" stroke=\"currentColor\"/>\n",
       "    <text dy=\"1.25em\" style=\"font-size: 0.8em; letter-spacing: 1px\">\n",
       "        <textPath xlink:href=\"#arrow-9dd00075fb6943ebad2ac48f542837d7-0-13\" class=\"displacy-label\" startOffset=\"50%\" side=\"left\" fill=\"currentColor\" text-anchor=\"middle\">conj</textPath>\n",
       "    </text>\n",
       "    <path class=\"displacy-arrowhead\" d=\"M2500.0,791.5 L2508.0,779.5 2492.0,779.5\" fill=\"currentColor\"/>\n",
       "</g>\n",
       "\n",
       "<g class=\"displacy-arrow\">\n",
       "    <path class=\"displacy-arc\" id=\"arrow-9dd00075fb6943ebad2ac48f542837d7-0-14\" stroke-width=\"2px\" d=\"M2695,789.5 C2695,702.0 2810.0,702.0 2810.0,789.5\" fill=\"none\" stroke=\"currentColor\"/>\n",
       "    <text dy=\"1.25em\" style=\"font-size: 0.8em; letter-spacing: 1px\">\n",
       "        <textPath xlink:href=\"#arrow-9dd00075fb6943ebad2ac48f542837d7-0-14\" class=\"displacy-label\" startOffset=\"50%\" side=\"left\" fill=\"currentColor\" text-anchor=\"middle\">nsubj</textPath>\n",
       "    </text>\n",
       "    <path class=\"displacy-arrowhead\" d=\"M2695,791.5 L2687,779.5 2703,779.5\" fill=\"currentColor\"/>\n",
       "</g>\n",
       "\n",
       "<g class=\"displacy-arrow\">\n",
       "    <path class=\"displacy-arc\" id=\"arrow-9dd00075fb6943ebad2ac48f542837d7-0-15\" stroke-width=\"2px\" d=\"M3045,789.5 C3045,352.0 3880.0,352.0 3880.0,789.5\" fill=\"none\" stroke=\"currentColor\"/>\n",
       "    <text dy=\"1.25em\" style=\"font-size: 0.8em; letter-spacing: 1px\">\n",
       "        <textPath xlink:href=\"#arrow-9dd00075fb6943ebad2ac48f542837d7-0-15\" class=\"displacy-label\" startOffset=\"50%\" side=\"left\" fill=\"currentColor\" text-anchor=\"middle\">nmod:tmod</textPath>\n",
       "    </text>\n",
       "    <path class=\"displacy-arrowhead\" d=\"M3045,791.5 L3037,779.5 3053,779.5\" fill=\"currentColor\"/>\n",
       "</g>\n",
       "\n",
       "<g class=\"displacy-arrow\">\n",
       "    <path class=\"displacy-arc\" id=\"arrow-9dd00075fb6943ebad2ac48f542837d7-0-16\" stroke-width=\"2px\" d=\"M3220,789.5 C3220,702.0 3335.0,702.0 3335.0,789.5\" fill=\"none\" stroke=\"currentColor\"/>\n",
       "    <text dy=\"1.25em\" style=\"font-size: 0.8em; letter-spacing: 1px\">\n",
       "        <textPath xlink:href=\"#arrow-9dd00075fb6943ebad2ac48f542837d7-0-16\" class=\"displacy-label\" startOffset=\"50%\" side=\"left\" fill=\"currentColor\" text-anchor=\"middle\">case</textPath>\n",
       "    </text>\n",
       "    <path class=\"displacy-arrowhead\" d=\"M3220,791.5 L3212,779.5 3228,779.5\" fill=\"currentColor\"/>\n",
       "</g>\n",
       "\n",
       "<g class=\"displacy-arrow\">\n",
       "    <path class=\"displacy-arc\" id=\"arrow-9dd00075fb6943ebad2ac48f542837d7-0-17\" stroke-width=\"2px\" d=\"M3395,789.5 C3395,527.0 3870.0,527.0 3870.0,789.5\" fill=\"none\" stroke=\"currentColor\"/>\n",
       "    <text dy=\"1.25em\" style=\"font-size: 0.8em; letter-spacing: 1px\">\n",
       "        <textPath xlink:href=\"#arrow-9dd00075fb6943ebad2ac48f542837d7-0-17\" class=\"displacy-label\" startOffset=\"50%\" side=\"left\" fill=\"currentColor\" text-anchor=\"middle\">nmod:prep</textPath>\n",
       "    </text>\n",
       "    <path class=\"displacy-arrowhead\" d=\"M3395,791.5 L3387,779.5 3403,779.5\" fill=\"currentColor\"/>\n",
       "</g>\n",
       "\n",
       "<g class=\"displacy-arrow\">\n",
       "    <path class=\"displacy-arc\" id=\"arrow-9dd00075fb6943ebad2ac48f542837d7-0-18\" stroke-width=\"2px\" d=\"M3570,789.5 C3570,702.0 3685.0,702.0 3685.0,789.5\" fill=\"none\" stroke=\"currentColor\"/>\n",
       "    <text dy=\"1.25em\" style=\"font-size: 0.8em; letter-spacing: 1px\">\n",
       "        <textPath xlink:href=\"#arrow-9dd00075fb6943ebad2ac48f542837d7-0-18\" class=\"displacy-label\" startOffset=\"50%\" side=\"left\" fill=\"currentColor\" text-anchor=\"middle\">compound:nn</textPath>\n",
       "    </text>\n",
       "    <path class=\"displacy-arrowhead\" d=\"M3570,791.5 L3562,779.5 3578,779.5\" fill=\"currentColor\"/>\n",
       "</g>\n",
       "\n",
       "<g class=\"displacy-arrow\">\n",
       "    <path class=\"displacy-arc\" id=\"arrow-9dd00075fb6943ebad2ac48f542837d7-0-19\" stroke-width=\"2px\" d=\"M3395,789.5 C3395,614.5 3690.0,614.5 3690.0,789.5\" fill=\"none\" stroke=\"currentColor\"/>\n",
       "    <text dy=\"1.25em\" style=\"font-size: 0.8em; letter-spacing: 1px\">\n",
       "        <textPath xlink:href=\"#arrow-9dd00075fb6943ebad2ac48f542837d7-0-19\" class=\"displacy-label\" startOffset=\"50%\" side=\"left\" fill=\"currentColor\" text-anchor=\"middle\">dobj</textPath>\n",
       "    </text>\n",
       "    <path class=\"displacy-arrowhead\" d=\"M3690.0,791.5 L3698.0,779.5 3682.0,779.5\" fill=\"currentColor\"/>\n",
       "</g>\n",
       "\n",
       "<g class=\"displacy-arrow\">\n",
       "    <path class=\"displacy-arc\" id=\"arrow-9dd00075fb6943ebad2ac48f542837d7-0-20\" stroke-width=\"2px\" d=\"M2870,789.5 C2870,264.5 3885.0,264.5 3885.0,789.5\" fill=\"none\" stroke=\"currentColor\"/>\n",
       "    <text dy=\"1.25em\" style=\"font-size: 0.8em; letter-spacing: 1px\">\n",
       "        <textPath xlink:href=\"#arrow-9dd00075fb6943ebad2ac48f542837d7-0-20\" class=\"displacy-label\" startOffset=\"50%\" side=\"left\" fill=\"currentColor\" text-anchor=\"middle\">conj</textPath>\n",
       "    </text>\n",
       "    <path class=\"displacy-arrowhead\" d=\"M3885.0,791.5 L3893.0,779.5 3877.0,779.5\" fill=\"currentColor\"/>\n",
       "</g>\n",
       "\n",
       "<g class=\"displacy-arrow\">\n",
       "    <path class=\"displacy-arc\" id=\"arrow-9dd00075fb6943ebad2ac48f542837d7-0-21\" stroke-width=\"2px\" d=\"M4095,789.5 C4095,527.0 4570.0,527.0 4570.0,789.5\" fill=\"none\" stroke=\"currentColor\"/>\n",
       "    <text dy=\"1.25em\" style=\"font-size: 0.8em; letter-spacing: 1px\">\n",
       "        <textPath xlink:href=\"#arrow-9dd00075fb6943ebad2ac48f542837d7-0-21\" class=\"displacy-label\" startOffset=\"50%\" side=\"left\" fill=\"currentColor\" text-anchor=\"middle\">nmod</textPath>\n",
       "    </text>\n",
       "    <path class=\"displacy-arrowhead\" d=\"M4095,791.5 L4087,779.5 4103,779.5\" fill=\"currentColor\"/>\n",
       "</g>\n",
       "\n",
       "<g class=\"displacy-arrow\">\n",
       "    <path class=\"displacy-arc\" id=\"arrow-9dd00075fb6943ebad2ac48f542837d7-0-22\" stroke-width=\"2px\" d=\"M4095,789.5 C4095,702.0 4210.0,702.0 4210.0,789.5\" fill=\"none\" stroke=\"currentColor\"/>\n",
       "    <text dy=\"1.25em\" style=\"font-size: 0.8em; letter-spacing: 1px\">\n",
       "        <textPath xlink:href=\"#arrow-9dd00075fb6943ebad2ac48f542837d7-0-22\" class=\"displacy-label\" startOffset=\"50%\" side=\"left\" fill=\"currentColor\" text-anchor=\"middle\">case</textPath>\n",
       "    </text>\n",
       "    <path class=\"displacy-arrowhead\" d=\"M4210.0,791.5 L4218.0,779.5 4202.0,779.5\" fill=\"currentColor\"/>\n",
       "</g>\n",
       "\n",
       "<g class=\"displacy-arrow\">\n",
       "    <path class=\"displacy-arc\" id=\"arrow-9dd00075fb6943ebad2ac48f542837d7-0-23\" stroke-width=\"2px\" d=\"M4445,789.5 C4445,702.0 4560.0,702.0 4560.0,789.5\" fill=\"none\" stroke=\"currentColor\"/>\n",
       "    <text dy=\"1.25em\" style=\"font-size: 0.8em; letter-spacing: 1px\">\n",
       "        <textPath xlink:href=\"#arrow-9dd00075fb6943ebad2ac48f542837d7-0-23\" class=\"displacy-label\" startOffset=\"50%\" side=\"left\" fill=\"currentColor\" text-anchor=\"middle\">compound:nn</textPath>\n",
       "    </text>\n",
       "    <path class=\"displacy-arrowhead\" d=\"M4445,791.5 L4437,779.5 4453,779.5\" fill=\"currentColor\"/>\n",
       "</g>\n",
       "\n",
       "<g class=\"displacy-arrow\">\n",
       "    <path class=\"displacy-arc\" id=\"arrow-9dd00075fb6943ebad2ac48f542837d7-0-24\" stroke-width=\"2px\" d=\"M4620,789.5 C4620,439.5 5275.0,439.5 5275.0,789.5\" fill=\"none\" stroke=\"currentColor\"/>\n",
       "    <text dy=\"1.25em\" style=\"font-size: 0.8em; letter-spacing: 1px\">\n",
       "        <textPath xlink:href=\"#arrow-9dd00075fb6943ebad2ac48f542837d7-0-24\" class=\"displacy-label\" startOffset=\"50%\" side=\"left\" fill=\"currentColor\" text-anchor=\"middle\">nsubj</textPath>\n",
       "    </text>\n",
       "    <path class=\"displacy-arrowhead\" d=\"M4620,791.5 L4612,779.5 4628,779.5\" fill=\"currentColor\"/>\n",
       "</g>\n",
       "\n",
       "<g class=\"displacy-arrow\">\n",
       "    <path class=\"displacy-arc\" id=\"arrow-9dd00075fb6943ebad2ac48f542837d7-0-25\" stroke-width=\"2px\" d=\"M4795,789.5 C4795,527.0 5270.0,527.0 5270.0,789.5\" fill=\"none\" stroke=\"currentColor\"/>\n",
       "    <text dy=\"1.25em\" style=\"font-size: 0.8em; letter-spacing: 1px\">\n",
       "        <textPath xlink:href=\"#arrow-9dd00075fb6943ebad2ac48f542837d7-0-25\" class=\"displacy-label\" startOffset=\"50%\" side=\"left\" fill=\"currentColor\" text-anchor=\"middle\">advmod</textPath>\n",
       "    </text>\n",
       "    <path class=\"displacy-arrowhead\" d=\"M4795,791.5 L4787,779.5 4803,779.5\" fill=\"currentColor\"/>\n",
       "</g>\n",
       "\n",
       "<g class=\"displacy-arrow\">\n",
       "    <path class=\"displacy-arc\" id=\"arrow-9dd00075fb6943ebad2ac48f542837d7-0-26\" stroke-width=\"2px\" d=\"M4970,789.5 C4970,614.5 5265.0,614.5 5265.0,789.5\" fill=\"none\" stroke=\"currentColor\"/>\n",
       "    <text dy=\"1.25em\" style=\"font-size: 0.8em; letter-spacing: 1px\">\n",
       "        <textPath xlink:href=\"#arrow-9dd00075fb6943ebad2ac48f542837d7-0-26\" class=\"displacy-label\" startOffset=\"50%\" side=\"left\" fill=\"currentColor\" text-anchor=\"middle\">advmod</textPath>\n",
       "    </text>\n",
       "    <path class=\"displacy-arrowhead\" d=\"M4970,791.5 L4962,779.5 4978,779.5\" fill=\"currentColor\"/>\n",
       "</g>\n",
       "\n",
       "<g class=\"displacy-arrow\">\n",
       "    <path class=\"displacy-arc\" id=\"arrow-9dd00075fb6943ebad2ac48f542837d7-0-27\" stroke-width=\"2px\" d=\"M5145,789.5 C5145,702.0 5260.0,702.0 5260.0,789.5\" fill=\"none\" stroke=\"currentColor\"/>\n",
       "    <text dy=\"1.25em\" style=\"font-size: 0.8em; letter-spacing: 1px\">\n",
       "        <textPath xlink:href=\"#arrow-9dd00075fb6943ebad2ac48f542837d7-0-27\" class=\"displacy-label\" startOffset=\"50%\" side=\"left\" fill=\"currentColor\" text-anchor=\"middle\">advmod</textPath>\n",
       "    </text>\n",
       "    <path class=\"displacy-arrowhead\" d=\"M5145,791.5 L5137,779.5 5153,779.5\" fill=\"currentColor\"/>\n",
       "</g>\n",
       "\n",
       "<g class=\"displacy-arrow\">\n",
       "    <path class=\"displacy-arc\" id=\"arrow-9dd00075fb6943ebad2ac48f542837d7-0-28\" stroke-width=\"2px\" d=\"M5495,789.5 C5495,527.0 5970.0,527.0 5970.0,789.5\" fill=\"none\" stroke=\"currentColor\"/>\n",
       "    <text dy=\"1.25em\" style=\"font-size: 0.8em; letter-spacing: 1px\">\n",
       "        <textPath xlink:href=\"#arrow-9dd00075fb6943ebad2ac48f542837d7-0-28\" class=\"displacy-label\" startOffset=\"50%\" side=\"left\" fill=\"currentColor\" text-anchor=\"middle\">amod</textPath>\n",
       "    </text>\n",
       "    <path class=\"displacy-arrowhead\" d=\"M5495,791.5 L5487,779.5 5503,779.5\" fill=\"currentColor\"/>\n",
       "</g>\n",
       "\n",
       "<g class=\"displacy-arrow\">\n",
       "    <path class=\"displacy-arc\" id=\"arrow-9dd00075fb6943ebad2ac48f542837d7-0-29\" stroke-width=\"2px\" d=\"M5495,789.5 C5495,702.0 5610.0,702.0 5610.0,789.5\" fill=\"none\" stroke=\"currentColor\"/>\n",
       "    <text dy=\"1.25em\" style=\"font-size: 0.8em; letter-spacing: 1px\">\n",
       "        <textPath xlink:href=\"#arrow-9dd00075fb6943ebad2ac48f542837d7-0-29\" class=\"displacy-label\" startOffset=\"50%\" side=\"left\" fill=\"currentColor\" text-anchor=\"middle\">case</textPath>\n",
       "    </text>\n",
       "    <path class=\"displacy-arrowhead\" d=\"M5610.0,791.5 L5618.0,779.5 5602.0,779.5\" fill=\"currentColor\"/>\n",
       "</g>\n",
       "\n",
       "<g class=\"displacy-arrow\">\n",
       "    <path class=\"displacy-arc\" id=\"arrow-9dd00075fb6943ebad2ac48f542837d7-0-30\" stroke-width=\"2px\" d=\"M5845,789.5 C5845,702.0 5960.0,702.0 5960.0,789.5\" fill=\"none\" stroke=\"currentColor\"/>\n",
       "    <text dy=\"1.25em\" style=\"font-size: 0.8em; letter-spacing: 1px\">\n",
       "        <textPath xlink:href=\"#arrow-9dd00075fb6943ebad2ac48f542837d7-0-30\" class=\"displacy-label\" startOffset=\"50%\" side=\"left\" fill=\"currentColor\" text-anchor=\"middle\">compound:nn</textPath>\n",
       "    </text>\n",
       "    <path class=\"displacy-arrowhead\" d=\"M5845,791.5 L5837,779.5 5853,779.5\" fill=\"currentColor\"/>\n",
       "</g>\n",
       "\n",
       "<g class=\"displacy-arrow\">\n",
       "    <path class=\"displacy-arc\" id=\"arrow-9dd00075fb6943ebad2ac48f542837d7-0-31\" stroke-width=\"2px\" d=\"M5320,789.5 C5320,439.5 5975.0,439.5 5975.0,789.5\" fill=\"none\" stroke=\"currentColor\"/>\n",
       "    <text dy=\"1.25em\" style=\"font-size: 0.8em; letter-spacing: 1px\">\n",
       "        <textPath xlink:href=\"#arrow-9dd00075fb6943ebad2ac48f542837d7-0-31\" class=\"displacy-label\" startOffset=\"50%\" side=\"left\" fill=\"currentColor\" text-anchor=\"middle\">dobj</textPath>\n",
       "    </text>\n",
       "    <path class=\"displacy-arrowhead\" d=\"M5975.0,791.5 L5983.0,779.5 5967.0,779.5\" fill=\"currentColor\"/>\n",
       "</g>\n",
       "\n",
       "<g class=\"displacy-arrow\">\n",
       "    <path class=\"displacy-arc\" id=\"arrow-9dd00075fb6943ebad2ac48f542837d7-0-32\" stroke-width=\"2px\" d=\"M6195,789.5 C6195,614.5 6490.0,614.5 6490.0,789.5\" fill=\"none\" stroke=\"currentColor\"/>\n",
       "    <text dy=\"1.25em\" style=\"font-size: 0.8em; letter-spacing: 1px\">\n",
       "        <textPath xlink:href=\"#arrow-9dd00075fb6943ebad2ac48f542837d7-0-32\" class=\"displacy-label\" startOffset=\"50%\" side=\"left\" fill=\"currentColor\" text-anchor=\"middle\">advmod</textPath>\n",
       "    </text>\n",
       "    <path class=\"displacy-arrowhead\" d=\"M6195,791.5 L6187,779.5 6203,779.5\" fill=\"currentColor\"/>\n",
       "</g>\n",
       "\n",
       "<g class=\"displacy-arrow\">\n",
       "    <path class=\"displacy-arc\" id=\"arrow-9dd00075fb6943ebad2ac48f542837d7-0-33\" stroke-width=\"2px\" d=\"M6370,789.5 C6370,702.0 6485.0,702.0 6485.0,789.5\" fill=\"none\" stroke=\"currentColor\"/>\n",
       "    <text dy=\"1.25em\" style=\"font-size: 0.8em; letter-spacing: 1px\">\n",
       "        <textPath xlink:href=\"#arrow-9dd00075fb6943ebad2ac48f542837d7-0-33\" class=\"displacy-label\" startOffset=\"50%\" side=\"left\" fill=\"currentColor\" text-anchor=\"middle\">advmod</textPath>\n",
       "    </text>\n",
       "    <path class=\"displacy-arrowhead\" d=\"M6370,791.5 L6362,779.5 6378,779.5\" fill=\"currentColor\"/>\n",
       "</g>\n",
       "\n",
       "<g class=\"displacy-arrow\">\n",
       "    <path class=\"displacy-arc\" id=\"arrow-9dd00075fb6943ebad2ac48f542837d7-0-34\" stroke-width=\"2px\" d=\"M5320,789.5 C5320,177.0 6515.0,177.0 6515.0,789.5\" fill=\"none\" stroke=\"currentColor\"/>\n",
       "    <text dy=\"1.25em\" style=\"font-size: 0.8em; letter-spacing: 1px\">\n",
       "        <textPath xlink:href=\"#arrow-9dd00075fb6943ebad2ac48f542837d7-0-34\" class=\"displacy-label\" startOffset=\"50%\" side=\"left\" fill=\"currentColor\" text-anchor=\"middle\">conj</textPath>\n",
       "    </text>\n",
       "    <path class=\"displacy-arrowhead\" d=\"M6515.0,791.5 L6523.0,779.5 6507.0,779.5\" fill=\"currentColor\"/>\n",
       "</g>\n",
       "</svg></span>"
      ],
      "text/plain": [
       "<IPython.core.display.HTML object>"
      ]
     },
     "metadata": {},
     "output_type": "display_data"
    }
   ],
   "source": [
    "from spacy import displacy\n",
    "displacy.render(doc, style=\"dep\")"
   ]
  },
  {
   "cell_type": "code",
   "execution_count": 2,
   "metadata": {
    "ExecuteTime": {
     "end_time": "2020-06-20T20:16:19.341596Z",
     "start_time": "2020-06-20T20:16:17.112635Z"
    }
   },
   "outputs": [
    {
     "name": "stderr",
     "output_type": "stream",
     "text": [
      "Building prefix dict from the default dictionary ...\n",
      "Loading model from cache /var/folders/fv/7k1qk5v11dn33sdcngv2wbnm0000gn/T/jieba.cache\n",
      "Loading model cost 0.805 seconds.\n",
      "Prefix dict has been built successfully.\n"
     ]
    }
   ],
   "source": [
    "# from spacy.lang.zh import Chinese\n",
    "import spacy\n",
    "\n",
    "# Chinese.Defaults.use_jieba = False\n",
    "\n",
    "# Load with \"default\" model provided by pkuseg\n",
    "cfg = {\"pkuseg_model\": \"default\", \"require_pkuseg\": True, \"use_jieba\": False}\n",
    "# nlp = Chinese(meta={\"tokenizer\": {\"config\": cfg}})\n",
    "nlp = spacy.load(\"zh_core_web_sm\", tokenizer={\"config\": cfg})\n",
    "# nlp.tokenizer.use_jieba = False\n",
    "# nlp.tokenizer.config=cfg\n",
    "# nlp.meta['tokenizer']={\"config\": cfg}\n",
    "# pipeline = [\"tagger\", \"parser\", \"ner\"]\n",
    "# for name in pipeline:\n",
    "#     component = nlp.create_pipe(name) \n",
    "#     nlp.add_pipe(component) \n",
    "    \n",
    "# Append words to user dict\n",
    "nlp.tokenizer.pkuseg_update_user_dict([\"中国\", \"ABC\"])"
   ]
  },
  {
   "cell_type": "code",
   "execution_count": 18,
   "metadata": {
    "ExecuteTime": {
     "end_time": "2020-06-20T19:49:36.043002Z",
     "start_time": "2020-06-20T19:49:36.014740Z"
    }
   },
   "outputs": [
    {
     "data": {
      "text/plain": [
       "{'lang': 'zh',\n",
       " 'name': 'core_web_sm',\n",
       " 'license': 'MIT',\n",
       " 'author': 'Explosion',\n",
       " 'url': 'https://explosion.ai',\n",
       " 'email': 'contact@explosion.ai',\n",
       " 'description': 'Chinese multi-task CNN trained on OntoNotes. Assigns context-specific token vectors, POS tags, dependency parse and named entities.',\n",
       " 'sources': [{'name': 'OntoNotes 5',\n",
       "   'url': 'https://catalog.ldc.upenn.edu/LDC2013T19',\n",
       "   'license': 'commercial (licensed by Explosion)'}],\n",
       " 'requirements': ['jieba', 'pkuseg>=0.0.22'],\n",
       " 'pipeline': ['tagger', 'parser', 'ner'],\n",
       " 'version': '2.3.1',\n",
       " 'spacy_version': '>=2.3.0,<2.4.0',\n",
       " 'parent_package': 'spacy',\n",
       " 'accuracy': {'las': 63.2085122678,\n",
       "  'uas': 68.551109166,\n",
       "  'token_acc': 94.5832585469,\n",
       "  'las_per_type': {'conj': {'p': 49.3189102564,\n",
       "    'r': 46.5406427221,\n",
       "    'f': 47.8895156584},\n",
       "   'compound:nn': {'p': 70.8491542975, 'r': 69.4585448393, 'f': 70.1469583049},\n",
       "   'nsubj': {'p': 76.3933121019, 'r': 70.7161282398, 'f': 73.4451744594},\n",
       "   'case': {'p': 80.7988513249, 'r': 75.0484966052, 'f': 77.8175875291},\n",
       "   'nmod:prep': {'p': 70.1633393829, 'r': 58.4694494858, 'f': 63.7848539845},\n",
       "   'root': {'p': 67.2348795279, 'r': 68.2869985017, 'f': 67.7568549719},\n",
       "   'acl': {'p': 62.5255972696, 'r': 50.8042151969, 'f': 56.05875153},\n",
       "   'dobj': {'p': 78.5453337762, 'r': 70.0636942675, 'f': 74.0624755343},\n",
       "   'aux:asp': {'p': 90.75, 'r': 86.8421052632, 'f': 88.7530562347},\n",
       "   'det': {'p': 83.2128514056, 'r': 60.6912712361, 'f': 70.189701897},\n",
       "   'mark:clf': {'p': 96.732863549, 'r': 56.3222678105, 'f': 71.1928335691},\n",
       "   'mark': {'p': 72.0538720539, 'r': 65.6441717791, 'f': 68.6998394864},\n",
       "   'dep': {'p': 46.7216804201, 'r': 31.4640800242, 'f': 37.6041540877},\n",
       "   'etc': {'p': 91.4634146341, 'r': 89.2857142857, 'f': 90.3614457831},\n",
       "   'nummod': {'p': 81.8743563337, 'r': 52.9646902065, 'f': 64.3203883495},\n",
       "   'amod': {'p': 75.8087880251, 'r': 61.6653574234, 'f': 68.0095299978},\n",
       "   'nmod:assmod': {'p': 73.4028683181, 'r': 70.0902583256, 'f': 71.7083266996},\n",
       "   'aux:ba': {'p': 82.4561403509, 'r': 75.0, 'f': 78.5515320334},\n",
       "   'advmod:loc': {'p': 66.6666666667, 'r': 44.5103857567, 'f': 53.3807829181},\n",
       "   'advmod:rcomp': {'p': 85.5769230769,\n",
       "    'r': 73.9612188366,\n",
       "    'f': 79.3462109955},\n",
       "   'advcl:loc': {'p': 43.4426229508, 'r': 37.8571428571, 'f': 40.4580152672},\n",
       "   'nmod:poss': {'p': 68.1818181818, 'r': 44.4444444444, 'f': 53.8116591928},\n",
       "   'cc': {'p': 69.6854146806, 'r': 64.8624667258, 'f': 67.1875},\n",
       "   'nmod': {'p': 70.4391891892, 'r': 56.5807327001, 'f': 62.7539503386},\n",
       "   'advmod': {'p': 80.6484950265, 'r': 70.7662661528, 'f': 75.3848940409},\n",
       "   'aux:modal': {'p': 85.4054054054, 'r': 81.695966908, 'f': 83.5095137421},\n",
       "   'nmod:topic': {'p': 34.693877551, 'r': 22.0779220779, 'f': 26.9841269841},\n",
       "   'cop': {'p': 74.5531914894, 'r': 56.3706563707, 'f': 64.1993404177},\n",
       "   'nmod:tmod': {'p': 71.1382113821, 'r': 71.4285714286, 'f': 71.283095723},\n",
       "   'ccomp': {'p': 62.641815235, 'r': 60.1088646967, 'f': 61.3492063492},\n",
       "   'auxpass': {'p': 88.8888888889, 'r': 86.4864864865, 'f': 87.6712328767},\n",
       "   'advmod:dvp': {'p': 74.8091603053, 'r': 60.8695652174, 'f': 67.1232876712},\n",
       "   'neg': {'p': 86.0681114551, 'r': 66.1117717004, 'f': 74.7814391392},\n",
       "   'discourse': {'p': 52.7240773286, 'r': 49.504950495, 'f': 51.0638297872},\n",
       "   'aux:prtmod': {'p': 85.9315589354, 'r': 80.7142857143, 'f': 83.241252302},\n",
       "   'parataxis:prnmod': {'p': 48.275862069,\n",
       "    'r': 10.5263157895,\n",
       "    'f': 17.2839506173},\n",
       "   'nmod:range': {'p': 73.7051792829, 'r': 62.0805369128, 'f': 67.3952641166},\n",
       "   'xcomp': {'p': 78.8888888889, 'r': 69.3811074919, 'f': 73.8301559792},\n",
       "   'name': {'p': 57.8313253012, 'r': 35.5555555556, 'f': 44.0366972477},\n",
       "   'appos': {'p': 85.4591836735, 'r': 77.0114942529, 'f': 81.015719468},\n",
       "   'compound:vc': {'p': 39.3103448276, 'r': 29.5336787565, 'f': 33.7278106509},\n",
       "   'amod:ordmod': {'p': 51.6666666667, 'r': 48.4375, 'f': 50.0},\n",
       "   'nsubjpass': {'p': 87.1794871795, 'r': 68.0, 'f': 76.404494382},\n",
       "   'nsubj:xsubj': {'p': 0.0, 'r': 0.0, 'f': 0.0},\n",
       "   'erased': {'p': 0.0, 'r': 0.0, 'f': 0.0}},\n",
       "  'tags_acc': 89.6306398238,\n",
       "  'ents_f': 66.5673010777,\n",
       "  'ents_p': 69.5829338447,\n",
       "  'ents_r': 63.8021978022,\n",
       "  'ents_per_type': {'PERSON': {'p': 80.9289232935,\n",
       "    'r': 74.0979381443,\n",
       "    'f': 77.3629330642},\n",
       "   'GPE': {'p': 74.7493163172, 'r': 80.156402737, 'f': 77.358490566},\n",
       "   'CARDINAL': {'p': 57.7827547592, 'r': 52.0161290323, 'f': 54.7480106101},\n",
       "   'DATE': {'p': 64.9171270718, 'r': 69.8711595639, 'f': 67.3031026253},\n",
       "   'NORP': {'p': 70.1298701299, 'r': 45.3781512605, 'f': 55.1020408163},\n",
       "   'TIME': {'p': 66.8246445498, 'r': 68.4466019417, 'f': 67.6258992806},\n",
       "   'PERCENT': {'p': 84.1463414634, 'r': 83.1325301205, 'f': 83.6363636364},\n",
       "   'ORG': {'p': 63.4567901235, 'r': 58.6757990868, 'f': 60.9727164887},\n",
       "   'LAW': {'p': 43.75, 'r': 11.6666666667, 'f': 18.4210526316},\n",
       "   'LOC': {'p': 55.2884615385, 'r': 30.9139784946, 'f': 39.6551724138},\n",
       "   'FAC': {'p': 43.137254902, 'r': 23.6559139785, 'f': 30.5555555556},\n",
       "   'WORK_OF_ART': {'p': 38.6363636364, 'r': 22.6666666667, 'f': 28.5714285714},\n",
       "   'MONEY': {'p': 91.3043478261, 'r': 77.7777777778, 'f': 84.0},\n",
       "   'ORDINAL': {'p': 82.967032967, 'r': 79.4736842105, 'f': 81.1827956989},\n",
       "   'EVENT': {'p': 53.1914893617, 'r': 36.7647058824, 'f': 43.4782608696},\n",
       "   'QUANTITY': {'p': 76.3157894737, 'r': 64.4444444444, 'f': 69.8795180723},\n",
       "   'PRODUCT': {'p': 0.0, 'r': 0.0, 'f': 0.0},\n",
       "   'LANGUAGE': {'p': 55.5555555556, 'r': 55.5555555556, 'f': 55.5555555556}}},\n",
       " 'speed': {'cpu': 7356.2672498654, 'gpu': None, 'nwords': 105857},\n",
       " 'labels': OrderedDict([('tagger',\n",
       "               ['AD',\n",
       "                'AS',\n",
       "                'BA',\n",
       "                'CC',\n",
       "                'CD',\n",
       "                'CS',\n",
       "                'DEC',\n",
       "                'DEG',\n",
       "                'DER',\n",
       "                'DEV',\n",
       "                'DT',\n",
       "                'ETC',\n",
       "                'FW',\n",
       "                'IJ',\n",
       "                'INF',\n",
       "                'JJ',\n",
       "                'LB',\n",
       "                'LC',\n",
       "                'M',\n",
       "                'MSP',\n",
       "                'NN',\n",
       "                'NR',\n",
       "                'NT',\n",
       "                'OD',\n",
       "                'ON',\n",
       "                'P',\n",
       "                'PN',\n",
       "                'PU',\n",
       "                'SB',\n",
       "                'SP',\n",
       "                'URL',\n",
       "                'VA',\n",
       "                'VC',\n",
       "                'VE',\n",
       "                'VV',\n",
       "                'X',\n",
       "                '_SP']),\n",
       "              ('parser',\n",
       "               ['ROOT',\n",
       "                'acl',\n",
       "                'advcl:loc',\n",
       "                'advmod',\n",
       "                'advmod:dvp',\n",
       "                'advmod:loc',\n",
       "                'advmod:rcomp',\n",
       "                'amod',\n",
       "                'amod:ordmod',\n",
       "                'appos',\n",
       "                'aux:asp',\n",
       "                'aux:ba',\n",
       "                'aux:modal',\n",
       "                'aux:prtmod',\n",
       "                'auxpass',\n",
       "                'case',\n",
       "                'cc',\n",
       "                'ccomp',\n",
       "                'compound:nn',\n",
       "                'compound:vc',\n",
       "                'conj',\n",
       "                'cop',\n",
       "                'dep',\n",
       "                'det',\n",
       "                'discourse',\n",
       "                'dobj',\n",
       "                'etc',\n",
       "                'mark',\n",
       "                'mark:clf',\n",
       "                'name',\n",
       "                'neg',\n",
       "                'nmod',\n",
       "                'nmod:assmod',\n",
       "                'nmod:poss',\n",
       "                'nmod:prep',\n",
       "                'nmod:range',\n",
       "                'nmod:tmod',\n",
       "                'nmod:topic',\n",
       "                'nsubj',\n",
       "                'nsubj:xsubj',\n",
       "                'nsubjpass',\n",
       "                'nummod',\n",
       "                'parataxis:prnmod',\n",
       "                'punct',\n",
       "                'xcomp']),\n",
       "              ('ner',\n",
       "               ['CARDINAL',\n",
       "                'DATE',\n",
       "                'EVENT',\n",
       "                'FAC',\n",
       "                'GPE',\n",
       "                'LANGUAGE',\n",
       "                'LAW',\n",
       "                'LOC',\n",
       "                'MONEY',\n",
       "                'NORP',\n",
       "                'ORDINAL',\n",
       "                'ORG',\n",
       "                'PERCENT',\n",
       "                'PERSON',\n",
       "                'PRODUCT',\n",
       "                'QUANTITY',\n",
       "                'TIME',\n",
       "                'WORK_OF_ART'])]),\n",
       " 'vectors': {'width': 0, 'vectors': 0, 'keys': 0, 'name': None},\n",
       " 'factories': {'tagger': 'tagger', 'parser': 'parser', 'ner': 'ner'}}"
      ]
     },
     "execution_count": 18,
     "metadata": {},
     "output_type": "execute_result"
    }
   ],
   "source": [
    "nlp.meta"
   ]
  },
  {
   "cell_type": "code",
   "execution_count": 17,
   "metadata": {
    "ExecuteTime": {
     "end_time": "2020-06-20T19:27:26.410948Z",
     "start_time": "2020-06-20T19:27:26.403482Z"
    }
   },
   "outputs": [
    {
     "data": {
      "text/plain": [
       "{'pkuseg_model': 'default', 'require_pkuseg': True}"
      ]
     },
     "execution_count": 17,
     "metadata": {},
     "output_type": "execute_result"
    }
   ],
   "source": [
    "nlp.tokenizer.config"
   ]
  },
  {
   "cell_type": "code",
   "execution_count": 4,
   "metadata": {
    "ExecuteTime": {
     "end_time": "2020-06-20T20:52:23.742870Z",
     "start_time": "2020-06-20T20:52:23.725492Z"
    }
   },
   "outputs": [
    {
     "name": "stdout",
     "output_type": "stream",
     "text": [
      "verbs+: {工作}\n"
     ]
    }
   ],
   "source": [
    "print_verbs(nlp('你要去工作'))"
   ]
  },
  {
   "cell_type": "code",
   "execution_count": 1,
   "metadata": {
    "ExecuteTime": {
     "end_time": "2020-06-20T20:51:01.475569Z",
     "start_time": "2020-06-20T20:50:55.834051Z"
    }
   },
   "outputs": [
    {
     "name": "stderr",
     "output_type": "stream",
     "text": [
      "Building prefix dict from the default dictionary ...\n",
      "Loading model from cache /var/folders/fv/7k1qk5v11dn33sdcngv2wbnm0000gn/T/jieba.cache\n",
      "Loading model cost 0.801 seconds.\n",
      "Prefix dict has been built successfully.\n"
     ]
    },
    {
     "data": {
      "text/plain": [
       "<spacy.lang.zh.Chinese at 0x7fa88608cf50>"
      ]
     },
     "execution_count": 1,
     "metadata": {},
     "output_type": "execute_result"
    }
   ],
   "source": [
    "from spacy.lang.zh import Chinese\n",
    "import spacy\n",
    "\n",
    "Chinese.Defaults.use_jieba = False\n",
    "lang = \"zh\"\n",
    "pipeline = [\"tagger\", \"parser\", \"ner\"]\n",
    "# data_path = \"path/to/en_core_web_sm/en_core_web_sm-2.0.0\"\n",
    "data_path = 'zh_core_web_sm'\n",
    "\n",
    "# cls = spacy.util.get_lang_class(lang)   # 1. Get Language instance, e.g. English()\n",
    "# nlp = cls()                             # 2. Initialize it\n",
    "# nlp=Chinese()\n",
    "cfg = {\"pkuseg_model\": \"default\", \"require_pkuseg\": True, \"use_jieba\": False}\n",
    "nlp = Chinese(meta={\"tokenizer\": {\"config\": cfg}})\n",
    "for name in pipeline:\n",
    "    component = nlp.create_pipe(name)   # 3. Create the pipeline components\n",
    "    nlp.add_pipe(component)             # 4. Add the component to the pipeline\n",
    "model_data_path=spacy.util.get_package_path(\"zh_core_web_sm\")/'zh_core_web_sm-2.3.1'\n",
    "nlp.from_disk(model_data_path)          # 5. Load in the binary data"
   ]
  },
  {
   "cell_type": "code",
   "execution_count": 6,
   "metadata": {
    "ExecuteTime": {
     "end_time": "2020-06-20T20:29:37.627722Z",
     "start_time": "2020-06-20T20:29:37.619105Z"
    }
   },
   "outputs": [
    {
     "data": {
      "text/plain": [
       "['__init__.py', '__pycache__']"
      ]
     },
     "execution_count": 6,
     "metadata": {},
     "output_type": "execute_result"
    }
   ],
   "source": [
    "root_dir=spacy.util.get_data_path()\n",
    "[name for name in set([d.name for d in root_dir.iterdir()])]"
   ]
  },
  {
   "cell_type": "code",
   "execution_count": 13,
   "metadata": {
    "ExecuteTime": {
     "end_time": "2020-06-20T20:46:20.994503Z",
     "start_time": "2020-06-20T20:46:20.986687Z"
    }
   },
   "outputs": [
    {
     "data": {
      "text/plain": [
       "(True,\n",
       " PosixPath('/Users/xiaofeiwu/miniconda3/envs/spacy/lib/python3.7/site-packages/zh_core_web_sm'))"
      ]
     },
     "execution_count": 13,
     "metadata": {},
     "output_type": "execute_result"
    }
   ],
   "source": [
    "spacy.util.is_package('zh_core_web_sm'), spacy.util.get_package_path(\"zh_core_web_sm\")"
   ]
  }
 ],
 "metadata": {
  "kernelspec": {
   "display_name": "Python 3",
   "language": "python",
   "name": "python3"
  },
  "language_info": {
   "codemirror_mode": {
    "name": "ipython",
    "version": 3
   },
   "file_extension": ".py",
   "mimetype": "text/x-python",
   "name": "python",
   "nbconvert_exporter": "python",
   "pygments_lexer": "ipython3",
   "version": "3.7.7"
  },
  "varInspector": {
   "cols": {
    "lenName": 16,
    "lenType": 16,
    "lenVar": 40
   },
   "kernels_config": {
    "python": {
     "delete_cmd_postfix": "",
     "delete_cmd_prefix": "del ",
     "library": "var_list.py",
     "varRefreshCmd": "print(var_dic_list())"
    },
    "r": {
     "delete_cmd_postfix": ") ",
     "delete_cmd_prefix": "rm(",
     "library": "var_list.r",
     "varRefreshCmd": "cat(var_dic_list()) "
    }
   },
   "types_to_exclude": [
    "module",
    "function",
    "builtin_function_or_method",
    "instance",
    "_Feature"
   ],
   "window_display": false
  }
 },
 "nbformat": 4,
 "nbformat_minor": 4
}
