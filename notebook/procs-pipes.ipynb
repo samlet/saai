{
 "cells": [
  {
   "cell_type": "code",
   "execution_count": 1,
   "metadata": {
    "ExecuteTime": {
     "end_time": "2020-03-22T10:15:06.685086Z",
     "start_time": "2020-03-22T10:15:05.519081Z"
    }
   },
   "outputs": [
    {
     "data": {
      "text/plain": [
       "True"
      ]
     },
     "execution_count": 1,
     "metadata": {},
     "output_type": "execute_result"
    }
   ],
   "source": [
    "from sagas.nlu.inspectors_dataset import get_interrogative, interrogative_maps, trans_val\n",
    "get_interrogative('hanem', 'hu')\n",
    "\n",
    "def is_interr(word, interr, lang):\n",
    "    return get_interrogative(word, lang)==interr\n",
    "is_interr('hanem', 'but', 'hu')"
   ]
  },
  {
   "cell_type": "code",
   "execution_count": 7,
   "metadata": {
    "ExecuteTime": {
     "end_time": "2020-03-22T10:16:36.578514Z",
     "start_time": "2020-03-22T10:16:36.555770Z"
    }
   },
   "outputs": [
    {
     "name": "stdout",
     "output_type": "stream",
     "text": [
      "{'word': 'hanem/hanem', 'path': '/conj/cc', 'pos': 'cconj'}\n",
      "done.\n"
     ]
    },
    {
     "data": {
      "text/plain": [
       "<rx.disposable.disposable.Disposable at 0x12d0d4e80>"
      ]
     },
     "execution_count": 7,
     "metadata": {},
     "output_type": "execute_result"
    }
   ],
   "source": [
    "from sagas.nlu.pipes import *\n",
    "from sagas.nlu.inspector_pipes import *\n",
    "from sagas.util.collection_util import wrap\n",
    "\n",
    "def filter_path(*cands):\n",
    "    return rx.pipe(\n",
    "        ops.filter(lambda t: t.path in cands),)\n",
    "def pred_interr(cand, lang):\n",
    "    return rx.pipe(\n",
    "        ops.filter(lambda t: is_interr(t.lemma, cand, lang)),)\n",
    "def to_token():\n",
    "    return rx.pipe(\n",
    "        ops.map(lambda t: wrap(word=f\"{t.text}/{t.lemma}\",\n",
    "                                     path=t.path,\n",
    "                                     pos=t.upos.lower())),)\n",
    "\n",
    "# $ nlu main_domains 'A magas tanár nem angol, hanem magyar.' hu\n",
    "source=get_source('A magas tanár nem angol, hanem magyar.', 'hu')\n",
    "source.pipe(\n",
    "    filter_path('/conj/cc'),\n",
    "    pred_interr('but', 'hu'),\n",
    "    to_token(), \n",
    ").subscribe(\n",
    "    on_next=lambda value: print(value),\n",
    "    on_error=lambda e: print(e),\n",
    "    on_completed=lambda: print('done.'),\n",
    ")"
   ]
  },
  {
   "cell_type": "code",
   "execution_count": 6,
   "metadata": {
    "ExecuteTime": {
     "end_time": "2020-03-22T10:16:21.642464Z",
     "start_time": "2020-03-22T10:16:21.632978Z"
    }
   },
   "outputs": [
    {
     "data": {
      "text/plain": [
       "'{\"x\": 5}'"
      ]
     },
     "execution_count": 6,
     "metadata": {},
     "output_type": "execute_result"
    }
   ],
   "source": [
    "import json\n",
    "o=wrap(x=5)\n",
    "json.dumps(o)"
   ]
  },
  {
   "cell_type": "code",
   "execution_count": 10,
   "metadata": {
    "ExecuteTime": {
     "end_time": "2020-03-22T10:26:03.818537Z",
     "start_time": "2020-03-22T10:26:03.807840Z"
    }
   },
   "outputs": [
    {
     "name": "stdout",
     "output_type": "stream",
     "text": [
      "{'x': 5}\n"
     ]
    },
    {
     "data": {
      "text/plain": [
       "{'y': 6, 'x': 5}"
      ]
     },
     "execution_count": 10,
     "metadata": {},
     "output_type": "execute_result"
    }
   ],
   "source": [
    "def xf(**kwargs):\n",
    "    print(kwargs)\n",
    "xf(**o)\n",
    "{'y':6, **o}"
   ]
  },
  {
   "cell_type": "code",
   "execution_count": 8,
   "metadata": {
    "ExecuteTime": {
     "end_time": "2020-03-22T10:21:34.479076Z",
     "start_time": "2020-03-22T10:21:34.461492Z"
    }
   },
   "outputs": [
    {
     "data": {
      "text/plain": [
       "'{\"word\": \"x\", \"pos\": \"n\", \"path\": \"/\"}'"
      ]
     },
     "execution_count": 8,
     "metadata": {},
     "output_type": "execute_result"
    }
   ],
   "source": [
    "import json\n",
    "td=token_data(word='x', path='/', pos='n')\n",
    "json.dumps(td.__dict__)"
   ]
  },
  {
   "cell_type": "code",
   "execution_count": 13,
   "metadata": {
    "ExecuteTime": {
     "end_time": "2020-03-22T10:35:23.327536Z",
     "start_time": "2020-03-22T10:35:23.322439Z"
    }
   },
   "outputs": [],
   "source": [
    "td=token_data('x', '/', 'n')"
   ]
  }
 ],
 "metadata": {
  "kernelspec": {
   "display_name": "Python 3",
   "language": "python",
   "name": "python3"
  },
  "language_info": {
   "codemirror_mode": {
    "name": "ipython",
    "version": 3
   },
   "file_extension": ".py",
   "mimetype": "text/x-python",
   "name": "python",
   "nbconvert_exporter": "python",
   "pygments_lexer": "ipython3",
   "version": "3.6.6"
  },
  "varInspector": {
   "cols": {
    "lenName": 16,
    "lenType": 16,
    "lenVar": 40
   },
   "kernels_config": {
    "python": {
     "delete_cmd_postfix": "",
     "delete_cmd_prefix": "del ",
     "library": "var_list.py",
     "varRefreshCmd": "print(var_dic_list())"
    },
    "r": {
     "delete_cmd_postfix": ") ",
     "delete_cmd_prefix": "rm(",
     "library": "var_list.r",
     "varRefreshCmd": "cat(var_dic_list()) "
    }
   },
   "types_to_exclude": [
    "module",
    "function",
    "builtin_function_or_method",
    "instance",
    "_Feature"
   ],
   "window_display": false
  }
 },
 "nbformat": 4,
 "nbformat_minor": 2
}
