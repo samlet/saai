{
 "cells": [
  {
   "cell_type": "code",
   "execution_count": 1,
   "metadata": {
    "ExecuteTime": {
     "end_time": "2020-03-22T14:13:07.884882Z",
     "start_time": "2020-03-22T14:13:06.579238Z"
    }
   },
   "outputs": [
    {
     "data": {
      "text/plain": [
       "True"
      ]
     },
     "execution_count": 1,
     "metadata": {},
     "output_type": "execute_result"
    }
   ],
   "source": [
    "from sagas.nlu.inspectors_dataset import get_interrogative, interrogative_maps, trans_val\n",
    "get_interrogative('hanem', 'hu')\n",
    "\n",
    "def is_interr(word, interr, lang):\n",
    "    return get_interrogative(word, lang)==interr\n",
    "is_interr('hanem', 'but', 'hu')"
   ]
  },
  {
   "cell_type": "code",
   "execution_count": 2,
   "metadata": {
    "ExecuteTime": {
     "end_time": "2020-03-22T14:13:08.620789Z",
     "start_time": "2020-03-22T14:13:07.891888Z"
    }
   },
   "outputs": [
    {
     "name": "stdout",
     "output_type": "stream",
     "text": [
      "{'word': 'hanem/hanem', 'path': '/conj/cc', 'pos': 'cconj'}\n",
      "done.\n"
     ]
    },
    {
     "data": {
      "text/plain": [
       "<rx.disposable.disposable.Disposable at 0x11718b278>"
      ]
     },
     "execution_count": 2,
     "metadata": {},
     "output_type": "execute_result"
    }
   ],
   "source": [
    "from sagas.nlu.pipes import *\n",
    "from sagas.nlu.inspector_pipes import *\n",
    "from sagas.util.collection_util import wrap\n",
    "\n",
    "def filter_path(*cands):\n",
    "    return rx.pipe(\n",
    "        ops.filter(lambda t: t.path in cands),)\n",
    "def pred_interr(cand, lang):\n",
    "    return rx.pipe(\n",
    "        ops.filter(lambda t: is_interr(t.lemma, cand, lang)),)\n",
    "def to_token():\n",
    "    return rx.pipe(\n",
    "        ops.map(lambda t: wrap(word=f\"{t.text}/{t.lemma}\",\n",
    "                                     path=t.path,\n",
    "                                     pos=t.upos.lower())),)\n",
    "\n",
    "# $ nlu main_domains 'A magas tanár nem angol, hanem magyar.' hu\n",
    "source=get_source('A magas tanár nem angol, hanem magyar.', 'hu')\n",
    "source.pipe(\n",
    "    filter_path('/conj/cc'),\n",
    "    pred_interr('but', 'hu'),\n",
    "    to_token(), \n",
    ").subscribe(\n",
    "    on_next=lambda value: print(value),\n",
    "    on_error=lambda e: print(e),\n",
    "    on_completed=lambda: print('done.'),\n",
    ")"
   ]
  },
  {
   "cell_type": "code",
   "execution_count": 43,
   "metadata": {
    "ExecuteTime": {
     "end_time": "2020-03-23T03:21:38.176879Z",
     "start_time": "2020-03-23T03:21:38.161551Z"
    }
   },
   "outputs": [
    {
     "data": {
      "text/plain": [
       "'adjective'"
      ]
     },
     "execution_count": 43,
     "metadata": {},
     "output_type": "execute_result"
    }
   ],
   "source": [
    "pos_map={'adj': 'adjective',\n",
    "         'adp': 'adposition',\n",
    "         'adv': 'adverb',\n",
    "         'cconj': 'conjunction',\n",
    "         'sconj': 'conjunction',\n",
    "        }\n",
    "def get_pos(upos):    \n",
    "    pos=upos.lower()\n",
    "    return pos_map[pos] if pos in pos_map else pos\n",
    "\n",
    "get_pos('adj')"
   ]
  },
  {
   "cell_type": "code",
   "execution_count": 48,
   "metadata": {
    "ExecuteTime": {
     "end_time": "2020-03-23T04:02:03.006648Z",
     "start_time": "2020-03-23T04:02:02.995479Z"
    }
   },
   "outputs": [
    {
     "data": {
      "text/plain": [
       "('a', '*')"
      ]
     },
     "execution_count": 48,
     "metadata": {},
     "output_type": "execute_result"
    }
   ],
   "source": [
    "pos_abbrev={'adj': 'a', 'noun':'n', 'verb':'v'}\n",
    "def get_abbrev(upos):\n",
    "    pos=upos.lower()\n",
    "    return pos_abbrev[pos] if pos in pos_abbrev else '*'\n",
    "get_abbrev('adj'), get_abbrev('conj')"
   ]
  },
  {
   "cell_type": "code",
   "execution_count": 49,
   "metadata": {
    "ExecuteTime": {
     "end_time": "2020-03-23T04:03:33.330120Z",
     "start_time": "2020-03-23T04:03:33.180547Z"
    }
   },
   "outputs": [
    {
     "data": {
      "text/plain": [
       "True"
      ]
     },
     "execution_count": 49,
     "metadata": {},
     "output_type": "execute_result"
    }
   ],
   "source": [
    "from sagas.nlu.utils import predicate, get_word_sets\n",
    "kind='person'\n",
    "predicate(kind, 'hungarian', 'en', get_abbrev('noun'))"
   ]
  },
  {
   "cell_type": "code",
   "execution_count": 45,
   "metadata": {
    "ExecuteTime": {
     "end_time": "2020-03-23T03:23:48.135608Z",
     "start_time": "2020-03-23T03:23:48.061886Z"
    }
   },
   "outputs": [
    {
     "data": {
      "text/plain": [
       "'hungarian'"
      ]
     },
     "execution_count": 45,
     "metadata": {},
     "output_type": "execute_result"
    }
   ],
   "source": [
    "from sagas.nlu.translator import translate, with_words, WordsObserver\n",
    "\n",
    "word='magyar'\n",
    "lang='hu'\n",
    "pos='adj'\n",
    "\n",
    "def trans(word, lang, pos):\n",
    "    r, t = translate(word, source=lang, target='en', options={'get_pronounce'}, tracker=with_words())\n",
    "    candidates=t.observer(WordsObserver).get_axis(r, get_pos(pos))\n",
    "    return candidates.lower()\n",
    "\n",
    "trans(word, lang, pos)"
   ]
  },
  {
   "cell_type": "code",
   "execution_count": 52,
   "metadata": {
    "ExecuteTime": {
     "end_time": "2020-03-23T04:06:51.451063Z",
     "start_time": "2020-03-23T04:06:51.368955Z"
    }
   },
   "outputs": [
    {
     "name": "stdout",
     "output_type": "stream",
     "text": [
      "('/conj', 'magyar', 'hungarian', 'person', 'adj')\n"
     ]
    },
    {
     "data": {
      "text/plain": [
       "<rx.disposable.disposable.Disposable at 0x126e017f0>"
      ]
     },
     "execution_count": 52,
     "metadata": {},
     "output_type": "execute_result"
    }
   ],
   "source": [
    "source.pipe(\n",
    "    filter_path('/conj'),\n",
    "    ops.map(lambda t: to_obj({'word': t.text if t.upos.lower() in ['adj'] else t.lemma, **t})),\n",
    "    ops.map(lambda t: to_obj({'trans': trans(t.word, lang, t.upos), **t})),\n",
    "    ops.filter(lambda t: predicate(kind, t.trans, 'en', '*')),\n",
    "    \n",
    "    ops.map(lambda t: (t.path, t.word, t.trans, kind, t.upos.lower())),\n",
    ").subscribe(\n",
    "    on_next=lambda value: print(value),\n",
    "    on_error=lambda e: print(e),\n",
    ")"
   ]
  },
  {
   "cell_type": "code",
   "execution_count": 18,
   "metadata": {
    "ExecuteTime": {
     "end_time": "2020-03-23T01:31:48.817193Z",
     "start_time": "2020-03-23T01:31:48.805482Z"
    }
   },
   "outputs": [
    {
     "name": "stdout",
     "output_type": "stream",
     "text": [
      "{\"x\": 5}\n",
      "5\n",
      "5 6\n",
      "{\"y\": 6, \"x\": 5}\n"
     ]
    }
   ],
   "source": [
    "import json\n",
    "o=wrap(x=5)\n",
    "print(json.dumps(o))\n",
    "print(o.x)\n",
    "o2=to_obj({'y':6, **o})\n",
    "print(o2.x, o2.y)\n",
    "print(json.dumps(o2))"
   ]
  },
  {
   "cell_type": "code",
   "execution_count": 5,
   "metadata": {
    "ExecuteTime": {
     "end_time": "2020-03-22T14:13:08.817727Z",
     "start_time": "2020-03-22T14:13:08.806564Z"
    }
   },
   "outputs": [
    {
     "name": "stdout",
     "output_type": "stream",
     "text": [
      "{'x': 5}\n"
     ]
    },
    {
     "data": {
      "text/plain": [
       "{'y': 6, 'x': 5}"
      ]
     },
     "execution_count": 5,
     "metadata": {},
     "output_type": "execute_result"
    }
   ],
   "source": [
    "def xf(**kwargs):\n",
    "    print(kwargs)\n",
    "xf(**o)\n",
    "{'y':6, **o}"
   ]
  },
  {
   "cell_type": "code",
   "execution_count": 10,
   "metadata": {
    "ExecuteTime": {
     "end_time": "2020-03-22T14:14:50.186759Z",
     "start_time": "2020-03-22T14:14:50.071487Z"
    }
   },
   "outputs": [
    {
     "data": {
      "text/plain": [
       "'{\"word\": \"x\", \"pos\": \"n\", \"path\": \"/\"}'"
      ]
     },
     "execution_count": 10,
     "metadata": {},
     "output_type": "execute_result"
    }
   ],
   "source": [
    "import json\n",
    "from dataclasses import dataclass\n",
    "from dataclasses_json import dataclass_json\n",
    "@dataclass_json\n",
    "@dataclass\n",
    "class token_data:\n",
    "    word: str\n",
    "    pos: str\n",
    "    path: str\n",
    "\n",
    "td=token_data(word='x', path='/', pos='n')\n",
    "json.dumps(td.__dict__)"
   ]
  },
  {
   "cell_type": "code",
   "execution_count": 11,
   "metadata": {
    "ExecuteTime": {
     "end_time": "2020-03-22T14:14:52.313039Z",
     "start_time": "2020-03-22T14:14:52.285361Z"
    }
   },
   "outputs": [],
   "source": [
    "td=token_data('x', '/', 'n')"
   ]
  }
 ],
 "metadata": {
  "kernelspec": {
   "display_name": "Python 3",
   "language": "python",
   "name": "python3"
  },
  "language_info": {
   "codemirror_mode": {
    "name": "ipython",
    "version": 3
   },
   "file_extension": ".py",
   "mimetype": "text/x-python",
   "name": "python",
   "nbconvert_exporter": "python",
   "pygments_lexer": "ipython3",
   "version": "3.6.6"
  },
  "varInspector": {
   "cols": {
    "lenName": 16,
    "lenType": 16,
    "lenVar": 40
   },
   "kernels_config": {
    "python": {
     "delete_cmd_postfix": "",
     "delete_cmd_prefix": "del ",
     "library": "var_list.py",
     "varRefreshCmd": "print(var_dic_list())"
    },
    "r": {
     "delete_cmd_postfix": ") ",
     "delete_cmd_prefix": "rm(",
     "library": "var_list.r",
     "varRefreshCmd": "cat(var_dic_list()) "
    }
   },
   "types_to_exclude": [
    "module",
    "function",
    "builtin_function_or_method",
    "instance",
    "_Feature"
   ],
   "window_display": false
  }
 },
 "nbformat": 4,
 "nbformat_minor": 2
}
