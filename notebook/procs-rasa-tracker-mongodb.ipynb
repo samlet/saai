{
 "cells": [
  {
   "cell_type": "code",
   "execution_count": 55,
   "metadata": {
    "ExecuteTime": {
     "end_time": "2020-03-06T18:21:15.393362Z",
     "start_time": "2020-03-06T18:21:15.259949Z"
    }
   },
   "outputs": [],
   "source": [
    "from rasa.core.tracker_store import (\n",
    "    TrackerStore,\n",
    "    InMemoryTrackerStore,\n",
    "    MongoTrackerStore)\n",
    "from rasa.core.events import (\n",
    "    SlotSet,\n",
    "    ActionExecuted,\n",
    "    Restarted,\n",
    "    UserUttered,\n",
    "    SessionStarted,\n",
    "    BotUttered,\n",
    "    Event,\n",
    ")\n",
    "from rasa.core.trackers import DialogueStateTracker\n",
    "from rasa.core.domain import Domain\n",
    "\n",
    "def get_default_domain():\n",
    "    content = \"\"\"\n",
    "    actions:\n",
    "      - utter_hello\n",
    "\n",
    "    intents:\n",
    "      - greet\n",
    "      - bye\n",
    "      - affirm\n",
    "      - deny\n",
    "    entities:\n",
    "      - object_type\n",
    "      - mention\n",
    "      - attribute\n",
    "      - sents\n",
    "\n",
    "    slots:\n",
    "      attribute:\n",
    "        type: unfeaturized\n",
    "      mention:\n",
    "        type: unfeaturized\n",
    "      object:\n",
    "        type: unfeaturized\n",
    "      object_type:\n",
    "        type: unfeaturized\n",
    "      parameters:\n",
    "        type: unfeaturized\n",
    "      sents:\n",
    "        type: unfeaturized\n",
    "    \"\"\"\n",
    "    return Domain.from_yaml(content)\n",
    "\n",
    "default_domain=get_default_domain()\n",
    "tracker_store = MongoTrackerStore(domain=default_domain)"
   ]
  },
  {
   "cell_type": "code",
   "execution_count": 73,
   "metadata": {
    "ExecuteTime": {
     "end_time": "2020-03-06T18:33:12.085099Z",
     "start_time": "2020-03-06T18:33:12.060103Z"
    }
   },
   "outputs": [
    {
     "data": {
      "text/plain": [
       "deque([<rasa.core.events.SessionStarted at 0x1224206a0>,\n",
       "       <rasa.core.events.UserUttered at 0x12217f128>])"
      ]
     },
     "execution_count": 73,
     "metadata": {},
     "output_type": "execute_result"
    }
   ],
   "source": [
    "# tracker_store = tracker_store_type(default_domain, **tracker_store_kwargs)\n",
    "events = [\n",
    "    UserUttered(\"Hola\", {\"name\": \"greet\"}),\n",
    "    BotUttered(\"Hi\"),\n",
    "    SessionStarted(),\n",
    "    UserUttered(\"Ciao\", {\"name\": \"greet\"}),\n",
    "]\n",
    "sender_id = \"sql1\"\n",
    "tracker = DialogueStateTracker.from_events(sender_id, events)\n",
    "tracker_store.save(tracker)\n",
    "\n",
    "# Save other tracker to ensure that we don't run into problems with other senders\n",
    "other_tracker = DialogueStateTracker.from_events(\"other-sender\", [SessionStarted()])\n",
    "tracker_store.save(other_tracker)\n",
    "\n",
    "# Retrieve tracker with events since latest SessionStarted\n",
    "tracker = tracker_store.retrieve(sender_id)\n",
    "tracker.events"
   ]
  },
  {
   "cell_type": "code",
   "execution_count": 75,
   "metadata": {
    "ExecuteTime": {
     "end_time": "2020-03-06T18:33:20.187475Z",
     "start_time": "2020-03-06T18:33:20.133255Z"
    }
   },
   "outputs": [],
   "source": [
    "tracker_store.conversations.drop()"
   ]
  },
  {
   "cell_type": "code",
   "execution_count": 17,
   "metadata": {
    "ExecuteTime": {
     "end_time": "2020-03-06T17:41:10.655733Z",
     "start_time": "2020-03-06T17:41:10.636934Z"
    }
   },
   "outputs": [
    {
     "data": {
      "text/plain": [
       "deque([<rasa.core.events.SessionStarted at 0x120abfda0>,\n",
       "       <rasa.core.events.UserUttered at 0x120bac6a0>])"
      ]
     },
     "execution_count": 17,
     "metadata": {},
     "output_type": "execute_result"
    }
   ],
   "source": [
    "tracker.events"
   ]
  },
  {
   "cell_type": "code",
   "execution_count": 77,
   "metadata": {
    "ExecuteTime": {
     "end_time": "2020-03-06T18:33:39.438554Z",
     "start_time": "2020-03-06T18:33:39.373762Z"
    }
   },
   "outputs": [
    {
     "data": {
      "text/plain": [
       "deque([<rasa.core.events.UserUttered at 0x1224319e8>,\n",
       "       BotUttered('Hi', {}, {}, 1583519619.381093),\n",
       "       <rasa.core.events.UserUttered at 0x122431eb8>,\n",
       "       BotUttered('Hi2', {}, {}, 1583519619.381098)])"
      ]
     },
     "execution_count": 77,
     "metadata": {},
     "output_type": "execute_result"
    }
   ],
   "source": [
    "# Create tracker with a SessionStarted event\n",
    "events = [    \n",
    "#     SessionStarted(),\n",
    "    UserUttered(\"Hola\", {\"name\": \"greet\"}),\n",
    "    BotUttered(\"Hi\"),\n",
    "    UserUttered(\"Ciao\", {\"name\": \"greet\"}),\n",
    "    BotUttered(\"Hi2\"),\n",
    "]\n",
    "\n",
    "sender_id = \"sql4\"\n",
    "tracker = DialogueStateTracker.from_events(sender_id, events)\n",
    "tracker_store.save(tracker)\n",
    "\n",
    "# Save other tracker to ensure that we don't run into problems with other senders\n",
    "other_tracker = DialogueStateTracker.from_events('other_id', [SessionStarted()])\n",
    "tracker_store.save(other_tracker)\n",
    "\n",
    "tracker = tracker_store.retrieve(sender_id)\n",
    "tracker.events"
   ]
  },
  {
   "cell_type": "code",
   "execution_count": 78,
   "metadata": {
    "ExecuteTime": {
     "end_time": "2020-03-06T18:34:29.668293Z",
     "start_time": "2020-03-06T18:34:29.656491Z"
    }
   },
   "outputs": [],
   "source": [
    "slot_key = \"object\"\n",
    "slot_val = \"Easter Island\"\n",
    "# tracker = tracker_store.get_or_create_tracker('samlet')\n",
    "ev = SlotSet(slot_key, slot_val)\n",
    "tracker.update(ev)\n",
    "tracker_store.save(tracker)"
   ]
  },
  {
   "cell_type": "code",
   "execution_count": 38,
   "metadata": {
    "ExecuteTime": {
     "end_time": "2020-03-06T17:58:36.420842Z",
     "start_time": "2020-03-06T17:58:36.408294Z"
    }
   },
   "outputs": [
    {
     "data": {
      "text/plain": [
       "{'attribute': None,\n",
       " 'mention': 'second',\n",
       " 'object': 'Easter Island',\n",
       " 'object_type': None,\n",
       " 'parameters': None,\n",
       " 'sents': None}"
      ]
     },
     "execution_count": 38,
     "metadata": {},
     "output_type": "execute_result"
    }
   ],
   "source": [
    "tracker.current_slot_values()"
   ]
  },
  {
   "cell_type": "code",
   "execution_count": 81,
   "metadata": {
    "ExecuteTime": {
     "end_time": "2020-03-06T18:35:13.981258Z",
     "start_time": "2020-03-06T18:35:13.970188Z"
    }
   },
   "outputs": [
    {
     "data": {
      "text/plain": [
       "'Easter Island'"
      ]
     },
     "execution_count": 81,
     "metadata": {},
     "output_type": "execute_result"
    }
   ],
   "source": [
    "again = tracker_store.get_or_create_tracker(sender_id)\n",
    "again.get_slot(slot_key)"
   ]
  },
  {
   "cell_type": "code",
   "execution_count": 12,
   "metadata": {
    "ExecuteTime": {
     "end_time": "2020-03-06T17:40:12.182167Z",
     "start_time": "2020-03-06T17:40:12.140177Z"
    }
   },
   "outputs": [],
   "source": [
    "# other_tracker = DialogueStateTracker.from_events(sender_id, [SlotSet('mention', 'first')])\n",
    "# tracker_store.save(other_tracker)"
   ]
  },
  {
   "cell_type": "code",
   "execution_count": 80,
   "metadata": {
    "ExecuteTime": {
     "end_time": "2020-03-06T18:34:57.121082Z",
     "start_time": "2020-03-06T18:34:57.111645Z"
    }
   },
   "outputs": [
    {
     "data": {
      "text/plain": [
       "'sql4'"
      ]
     },
     "execution_count": 80,
     "metadata": {},
     "output_type": "execute_result"
    }
   ],
   "source": [
    "sender_id"
   ]
  },
  {
   "cell_type": "code",
   "execution_count": 79,
   "metadata": {
    "ExecuteTime": {
     "end_time": "2020-03-06T18:34:37.301800Z",
     "start_time": "2020-03-06T18:34:37.283171Z"
    }
   },
   "outputs": [
    {
     "data": {
      "text/plain": [
       "deque([<rasa.core.events.UserUttered at 0x12242e5f8>,\n",
       "       BotUttered('Hi', {}, {}, 1583519619.381093),\n",
       "       <rasa.core.events.UserUttered at 0x12242eba8>,\n",
       "       BotUttered('Hi2', {}, {}, 1583519619.381098),\n",
       "       <rasa.core.events.SlotSet at 0x122431828>])"
      ]
     },
     "execution_count": 79,
     "metadata": {},
     "output_type": "execute_result"
    }
   ],
   "source": [
    "tracker = tracker_store.retrieve(sender_id)\n",
    "tracker.events"
   ]
  },
  {
   "cell_type": "code",
   "execution_count": 50,
   "metadata": {
    "ExecuteTime": {
     "end_time": "2020-03-06T18:12:27.069936Z",
     "start_time": "2020-03-06T18:12:27.059017Z"
    }
   },
   "outputs": [
    {
     "data": {
      "text/plain": [
       "{'events': [{'event': 'action',\n",
       "   'timestamp': 1583517978.615391,\n",
       "   'name': 'action_listen',\n",
       "   'policy': None,\n",
       "   'confidence': None}],\n",
       " 'name': 'dev'}"
      ]
     },
     "execution_count": 50,
     "metadata": {},
     "output_type": "execute_result"
    }
   ],
   "source": [
    "tracker = tracker_store.get_or_create_tracker('dev')\n",
    "# tracker.events\n",
    "dialogue = tracker.as_dialogue()\n",
    "dialogue.as_dict()"
   ]
  },
  {
   "cell_type": "code",
   "execution_count": 53,
   "metadata": {
    "ExecuteTime": {
     "end_time": "2020-03-06T18:12:55.932901Z",
     "start_time": "2020-03-06T18:12:55.920688Z"
    }
   },
   "outputs": [],
   "source": [
    "slot_key = \"object\"\n",
    "slot_val = \"Easter Island (new)\"\n",
    "# tracker = tracker_store.get_or_create_tracker('samlet')\n",
    "ev = SlotSet(slot_key, slot_val)\n",
    "tracker.update(ev)\n",
    "tracker_store.save(tracker)"
   ]
  },
  {
   "cell_type": "code",
   "execution_count": 54,
   "metadata": {
    "ExecuteTime": {
     "end_time": "2020-03-06T18:12:57.611938Z",
     "start_time": "2020-03-06T18:12:57.598232Z"
    }
   },
   "outputs": [
    {
     "data": {
      "text/plain": [
       "'Easter Island (new)'"
      ]
     },
     "execution_count": 54,
     "metadata": {},
     "output_type": "execute_result"
    }
   ],
   "source": [
    "again = tracker_store.get_or_create_tracker('dev')\n",
    "again.get_slot(slot_key)"
   ]
  },
  {
   "cell_type": "code",
   "execution_count": 83,
   "metadata": {
    "ExecuteTime": {
     "end_time": "2020-03-06T18:53:31.453277Z",
     "start_time": "2020-03-06T18:53:31.438759Z"
    }
   },
   "outputs": [
    {
     "data": {
      "text/plain": [
       "{'events': [{'event': 'action',\n",
       "   'timestamp': 1583520256.0032,\n",
       "   'name': 'action_listen',\n",
       "   'policy': None,\n",
       "   'confidence': None},\n",
       "  {'event': 'user',\n",
       "   'timestamp': 1583520312.679762,\n",
       "   'text': '/dump_info{\"object\":\"rr\"}',\n",
       "   'parse_data': {'text': '/dump_info{\"object\":\"rr\"}',\n",
       "    'intent': {'name': 'dump_info', 'confidence': 1.0},\n",
       "    'intent_ranking': [{'name': 'dump_info', 'confidence': 1.0}],\n",
       "    'entities': [{'entity': 'object', 'start': 10, 'end': 25, 'value': 'rr'}]},\n",
       "   'input_channel': 'rest',\n",
       "   'message_id': '131af204087f4b6e8eb40ced2d74a98d',\n",
       "   'metadata': {}},\n",
       "  {'event': 'slot',\n",
       "   'timestamp': 1583520312.679787,\n",
       "   'name': 'object',\n",
       "   'value': 'rr'},\n",
       "  {'event': 'action',\n",
       "   'timestamp': 1583520312.904442,\n",
       "   'name': 'action_dump_info',\n",
       "   'policy': 'policy_2_MappingPolicy',\n",
       "   'confidence': 1},\n",
       "  {'event': 'action',\n",
       "   'timestamp': 1583520312.911701,\n",
       "   'name': 'action_listen',\n",
       "   'policy': 'policy_2_MappingPolicy',\n",
       "   'confidence': 1},\n",
       "  {'event': 'user',\n",
       "   'timestamp': 1583520545.348008,\n",
       "   'text': 'hello',\n",
       "   'parse_data': {'intent': {'name': 'greet', 'confidence': 0.9817554951},\n",
       "    'entities': [],\n",
       "    'intent_ranking': [{'name': 'greet', 'confidence': 0.9817554951},\n",
       "     {'name': 'deny', 'confidence': 0.0058037811},\n",
       "     {'name': 'affirm', 'confidence': 0.0033585432},\n",
       "     {'name': 'bot_challenge', 'confidence': 0.0018457706},\n",
       "     {'name': 'inform', 'confidence': 0.0014229574},\n",
       "     {'name': 'query_knowledge_base', 'confidence': 0.0011096105},\n",
       "     {'name': 'thankyou', 'confidence': 0.0009755758},\n",
       "     {'name': 'joke', 'confidence': 0.0009078463},\n",
       "     {'name': 'goodbye', 'confidence': 0.0008570314},\n",
       "     {'name': 'name', 'confidence': 0.0008294815}],\n",
       "    'text': 'hello'},\n",
       "   'input_channel': 'rest',\n",
       "   'message_id': '2c9460d3989448899a744ae4da158545',\n",
       "   'metadata': {}},\n",
       "  {'event': 'action',\n",
       "   'timestamp': 1583520545.5855439,\n",
       "   'name': 'utter_greet',\n",
       "   'policy': 'policy_1_KerasPolicy',\n",
       "   'confidence': 0.3674074709415436},\n",
       "  {'event': 'bot',\n",
       "   'timestamp': 1583520545.58555,\n",
       "   'text': 'Hey! How are you?',\n",
       "   'data': {'elements': None,\n",
       "    'quick_replies': None,\n",
       "    'buttons': None,\n",
       "    'attachment': None,\n",
       "    'image': None,\n",
       "    'custom': None},\n",
       "   'metadata': {}},\n",
       "  {'event': 'action',\n",
       "   'timestamp': 1583520545.5900412,\n",
       "   'name': 'action_listen',\n",
       "   'policy': 'policy_1_KerasPolicy',\n",
       "   'confidence': 0.9149217009544373},\n",
       "  {'event': 'user',\n",
       "   'timestamp': 1583520552.4761379,\n",
       "   'text': '/dump_info{\"object\":\"rr\"}',\n",
       "   'parse_data': {'text': '/dump_info{\"object\":\"rr\"}',\n",
       "    'intent': {'name': 'dump_info', 'confidence': 1.0},\n",
       "    'intent_ranking': [{'name': 'dump_info', 'confidence': 1.0}],\n",
       "    'entities': [{'entity': 'object', 'start': 10, 'end': 25, 'value': 'rr'}]},\n",
       "   'input_channel': 'rest',\n",
       "   'message_id': '54f8ce92a3804d6897646a8f2c50be26',\n",
       "   'metadata': {}},\n",
       "  {'event': 'slot',\n",
       "   'timestamp': 1583520552.476157,\n",
       "   'name': 'object',\n",
       "   'value': 'rr'},\n",
       "  {'event': 'action',\n",
       "   'timestamp': 1583520552.487871,\n",
       "   'name': 'action_dump_info',\n",
       "   'policy': 'policy_2_MappingPolicy',\n",
       "   'confidence': 1},\n",
       "  {'event': 'action',\n",
       "   'timestamp': 1583520552.493821,\n",
       "   'name': 'action_listen',\n",
       "   'policy': 'policy_2_MappingPolicy',\n",
       "   'confidence': 1},\n",
       "  {'event': 'user',\n",
       "   'timestamp': 1583520737.796563,\n",
       "   'text': '/dump_info{\"object\":\"rr\"}',\n",
       "   'parse_data': {'text': '/dump_info{\"object\":\"rr\"}',\n",
       "    'intent': {'name': 'dump_info', 'confidence': 1.0},\n",
       "    'intent_ranking': [{'name': 'dump_info', 'confidence': 1.0}],\n",
       "    'entities': [{'entity': 'object', 'start': 10, 'end': 25, 'value': 'rr'}]},\n",
       "   'input_channel': 'rest',\n",
       "   'message_id': 'b509aac6a2c34001ae64549b6c355281',\n",
       "   'metadata': {}},\n",
       "  {'event': 'slot',\n",
       "   'timestamp': 1583520737.796577,\n",
       "   'name': 'object',\n",
       "   'value': 'rr'},\n",
       "  {'event': 'action',\n",
       "   'timestamp': 1583520738.066234,\n",
       "   'name': 'action_dump_info',\n",
       "   'policy': 'policy_2_MappingPolicy',\n",
       "   'confidence': 1},\n",
       "  {'event': 'bot',\n",
       "   'timestamp': 1583520738.066242,\n",
       "   'text': None,\n",
       "   'data': {'elements': None,\n",
       "    'quick_replies': None,\n",
       "    'buttons': None,\n",
       "    'attachment': None,\n",
       "    'image': None,\n",
       "    'custom': {'result': 'success'}},\n",
       "   'metadata': {}},\n",
       "  {'event': 'action',\n",
       "   'timestamp': 1583520738.07479,\n",
       "   'name': 'action_listen',\n",
       "   'policy': 'policy_2_MappingPolicy',\n",
       "   'confidence': 1}],\n",
       " 'name': 'samlet'}"
      ]
     },
     "execution_count": 83,
     "metadata": {},
     "output_type": "execute_result"
    }
   ],
   "source": [
    "# preqs: \n",
    "# $ saai talk 'hello' samlet\n",
    "# $ saai talk '/dump_info{\"object\":\"rr\"}' samlet\n",
    "# config:\n",
    "# sagas-ai/bots/agent_dispatcher/endpoints.yml\n",
    "# tracker_store:\n",
    "#     type: mongod\n",
    "tracker = tracker_store.get_or_create_tracker('samlet')\n",
    "# tracker.events\n",
    "dialogue = tracker.as_dialogue()\n",
    "dialogue.as_dict()"
   ]
  },
  {
   "cell_type": "code",
   "execution_count": 84,
   "metadata": {
    "ExecuteTime": {
     "end_time": "2020-03-06T18:54:17.888499Z",
     "start_time": "2020-03-06T18:54:17.879647Z"
    }
   },
   "outputs": [
    {
     "data": {
      "text/plain": [
       "{'attribute': None,\n",
       " 'mention': None,\n",
       " 'object': 'rr',\n",
       " 'object_type': None,\n",
       " 'parameters': None,\n",
       " 'sents': None}"
      ]
     },
     "execution_count": 84,
     "metadata": {},
     "output_type": "execute_result"
    }
   ],
   "source": [
    "tracker.current_slot_values()"
   ]
  }
 ],
 "metadata": {
  "kernelspec": {
   "display_name": "Python 3",
   "language": "python",
   "name": "python3"
  },
  "language_info": {
   "codemirror_mode": {
    "name": "ipython",
    "version": 3
   },
   "file_extension": ".py",
   "mimetype": "text/x-python",
   "name": "python",
   "nbconvert_exporter": "python",
   "pygments_lexer": "ipython3",
   "version": "3.6.6"
  },
  "varInspector": {
   "cols": {
    "lenName": 16,
    "lenType": 16,
    "lenVar": 40
   },
   "kernels_config": {
    "python": {
     "delete_cmd_postfix": "",
     "delete_cmd_prefix": "del ",
     "library": "var_list.py",
     "varRefreshCmd": "print(var_dic_list())"
    },
    "r": {
     "delete_cmd_postfix": ") ",
     "delete_cmd_prefix": "rm(",
     "library": "var_list.r",
     "varRefreshCmd": "cat(var_dic_list()) "
    }
   },
   "types_to_exclude": [
    "module",
    "function",
    "builtin_function_or_method",
    "instance",
    "_Feature"
   ],
   "window_display": false
  }
 },
 "nbformat": 4,
 "nbformat_minor": 2
}
