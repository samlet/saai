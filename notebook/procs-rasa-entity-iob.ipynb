{
 "cells": [
  {
   "cell_type": "markdown",
   "metadata": {},
   "source": [
    "## 如何编写一个自定义的inspector\n",
    "* 这里是一个稍复杂的示范过程: 检测指定的句子成分里是否包含指定的领域实体(crf训练识别), 比如obl成分中是否包含cuisine实体"
   ]
  },
  {
   "cell_type": "markdown",
   "metadata": {},
   "source": [
    "* preqs: sagas/0.2.0, saai/0.2.4\n",
    "* bots: ws/simple/rasa-serv.sh, (port:15008)"
   ]
  },
  {
   "cell_type": "code",
   "execution_count": 1,
   "metadata": {
    "ExecuteTime": {
     "end_time": "2020-02-01T20:37:39.437297Z",
     "start_time": "2020-02-01T20:37:37.927921Z"
    }
   },
   "outputs": [
    {
     "name": "stdout",
     "output_type": "stream",
     "text": [
      "{'entities': [{'confidence': 0.9960352006,\n",
      "               'end': 16,\n",
      "               'entity': 'cuisine',\n",
      "               'extractor': 'CRFEntityExtractor',\n",
      "               'start': 10,\n",
      "               'value': 'french'}],\n",
      " 'intent': {'confidence': 0.9999222755, 'name': 'inform'},\n",
      " 'intent_ranking': [{'confidence': 0.9999222755, 'name': 'inform'},\n",
      "                    {'confidence': 4.76315e-05, 'name': 'email_id'},\n",
      "                    {'confidence': 7.1176e-06, 'name': 'order_now'},\n",
      "                    {'confidence': 6.9441e-06, 'name': 'goodbye'},\n",
      "                    {'confidence': 6.5975e-06, 'name': 'thankyou'},\n",
      "                    {'confidence': 3.5518e-06, 'name': 'request_info'},\n",
      "                    {'confidence': 3.2832e-06, 'name': 'greet'},\n",
      "                    {'confidence': 1.687e-06, 'name': 'bot_challenge'},\n",
      "                    {'confidence': 8.576e-07, 'name': 'affirm'},\n",
      "                    {'confidence': 1.071e-07, 'name': 'deny'}],\n",
      " 'text': 'how about french food'}\n"
     ]
    }
   ],
   "source": [
    "from saai.multi_nlu_client import nlu_parse\n",
    "from pprint import pprint\n",
    "url='http://localhost:15008'\n",
    "result=await nlu_parse(url, 'how about french food')\n",
    "pprint(result)"
   ]
  },
  {
   "cell_type": "code",
   "execution_count": 2,
   "metadata": {
    "ExecuteTime": {
     "end_time": "2020-02-01T20:37:50.050949Z",
     "start_time": "2020-02-01T20:37:50.021176Z"
    }
   },
   "outputs": [
    {
     "data": {
      "text/plain": [
       "[{'start': 10,\n",
       "  'end': 16,\n",
       "  'value': 'french',\n",
       "  'entity': 'cuisine',\n",
       "  'confidence': 0.9960352006,\n",
       "  'extractor': 'CRFEntityExtractor'}]"
      ]
     },
     "execution_count": 2,
     "metadata": {},
     "output_type": "execute_result"
    }
   ],
   "source": [
    "result['entities']"
   ]
  },
  {
   "cell_type": "markdown",
   "metadata": {},
   "source": [
    "* 调用nlu-parse-api, 获取实体列表"
   ]
  },
  {
   "cell_type": "code",
   "execution_count": 3,
   "metadata": {
    "ExecuteTime": {
     "end_time": "2020-02-01T20:37:57.387767Z",
     "start_time": "2020-02-01T20:37:57.349317Z"
    }
   },
   "outputs": [
    {
     "data": {
      "text/plain": [
       "[{'start': 10,\n",
       "  'end': 23,\n",
       "  'value': 'north eastern',\n",
       "  'entity': 'cuisine',\n",
       "  'confidence': 0.7435030861,\n",
       "  'extractor': 'CRFEntityExtractor'}]"
      ]
     },
     "execution_count": 3,
     "metadata": {},
     "output_type": "execute_result"
    }
   ],
   "source": [
    "from saai.tool import rasa_nlu_parse, rasa_nlu_vis\n",
    "# sents='how about street food'\n",
    "# sents='how about chinese food'\n",
    "sents='how about north eastern food'\n",
    "\n",
    "result=rasa_nlu_parse(sents, 'http://localhost:15008')\n",
    "ents = result['entities']\n",
    "ents"
   ]
  },
  {
   "cell_type": "markdown",
   "metadata": {},
   "source": [
    "* 实体可视化"
   ]
  },
  {
   "cell_type": "code",
   "execution_count": 4,
   "metadata": {
    "ExecuteTime": {
     "end_time": "2020-02-01T20:38:06.308107Z",
     "start_time": "2020-02-01T20:38:06.250294Z"
    }
   },
   "outputs": [
    {
     "data": {
      "text/html": [
       "<div class=\"tex2jax_ignore\" style=\"white-space: pre-wrap\">how about <span style=\"padding: 2px; border-radius: 4px; border: 1px solid #bbdefb; background: #e3f2fd\">north eastern<span style=\"vertical-align: middle; margin-left: 2px; font-size: 0.7em; color: #64b5f6;\">cuisine</span></span> food</div>"
      ],
      "text/plain": [
       "BoxMarkup('how about north eastern food', [Span(10, 23, 'cuisine')])"
      ]
     },
     "metadata": {},
     "output_type": "display_data"
    }
   ],
   "source": [
    "rasa_nlu_vis(sents, 'http://localhost:15008')"
   ]
  },
  {
   "cell_type": "markdown",
   "metadata": {},
   "source": [
    "* 句子的依存解析, 如果目标引擎包含了entity信息, 则显示非'O'的值"
   ]
  },
  {
   "cell_type": "code",
   "execution_count": 5,
   "metadata": {
    "ExecuteTime": {
     "end_time": "2020-02-01T20:38:18.902013Z",
     "start_time": "2020-02-01T20:38:14.211400Z"
    }
   },
   "outputs": [
    {
     "data": {
      "text/plain": [
       "[('how', 'O'),\n",
       " ('about', 'O'),\n",
       " ('north', 'O'),\n",
       " ('eastern', 'O'),\n",
       " ('food', 'O'),\n",
       " ('.', 'O')]"
      ]
     },
     "execution_count": 5,
     "metadata": {},
     "output_type": "execute_result"
    }
   ],
   "source": [
    "from sagas.nlu.ruleset_procs import list_words, cached_chunks, get_main_domains\n",
    "from sagas.conf.conf import cf\n",
    "lang='en'\n",
    "chunks = cached_chunks(sents, lang, cf.engine(lang))\n",
    "[(w.text, w.entity or 'O') for w in chunks['doc'].words]"
   ]
  },
  {
   "cell_type": "markdown",
   "metadata": {},
   "source": [
    "* 为所有的单词设置位置信息(start/end)"
   ]
  },
  {
   "cell_type": "code",
   "execution_count": 6,
   "metadata": {
    "ExecuteTime": {
     "end_time": "2020-02-01T20:38:34.512741Z",
     "start_time": "2020-02-01T20:38:34.484073Z"
    }
   },
   "outputs": [
    {
     "name": "stdout",
     "output_type": "stream",
     "text": [
      "[('how', '1'), ('about', '2'), ('north', '3'), ('eastern', '4'), ('food', '5'), ('.', '6')]\n"
     ]
    },
    {
     "data": {
      "text/plain": [
       "{'1': (0, 3), '2': (4, 9), '3': (10, 15), '4': (16, 23), '5': (24, 28)}"
      ]
     },
     "execution_count": 6,
     "metadata": {},
     "output_type": "execute_result"
    }
   ],
   "source": [
    "def set_word_positions(doc):\n",
    "    running_offset = 0\n",
    "    rs = []\n",
    "    pos_map={}\n",
    "    for token in doc.words:\n",
    "        word = token.text    \n",
    "        word_offset = sents.find(word, running_offset)\n",
    "        if word_offset>-1:\n",
    "            word_len = len(word)\n",
    "            running_offset = word_offset + word_len\n",
    "            pos_map[token.index]=(word_offset, running_offset)\n",
    "    return pos_map\n",
    "\n",
    "pos_map=set_word_positions(chunks['doc'])\n",
    "print([(w.text, w.index) for w in chunks['doc'].words])\n",
    "pos_map"
   ]
  },
  {
   "cell_type": "markdown",
   "metadata": {},
   "source": [
    "* 对照单词的位置和实体的位置, 进行匹配, 就可以得到单词属于哪个实体(一个实体往往包含多个单词)"
   ]
  },
  {
   "cell_type": "code",
   "execution_count": 7,
   "metadata": {
    "ExecuteTime": {
     "end_time": "2020-02-01T20:38:43.821329Z",
     "start_time": "2020-02-01T20:38:43.803346Z"
    }
   },
   "outputs": [
    {
     "name": "stdout",
     "output_type": "stream",
     "text": [
      "how - (0, 3)\n",
      "about - (4, 9)\n",
      "north - (10, 15)\n",
      "eastern - (16, 23)\n",
      "food - (24, 28)\n"
     ]
    },
    {
     "data": {
      "text/plain": [
       "[{'start': 10, 'end': 15, 'index': '3', 'value': 'north', 'entity': 'cuisine'},\n",
       " {'start': 16,\n",
       "  'end': 23,\n",
       "  'index': '4',\n",
       "  'value': 'eastern',\n",
       "  'entity': 'cuisine'}]"
      ]
     },
     "execution_count": 7,
     "metadata": {},
     "output_type": "execute_result"
    }
   ],
   "source": [
    "def get_entity_mapping(doc):\n",
    "    running_offset = 0\n",
    "    rs = []\n",
    "    for token in doc.words:\n",
    "        word = token.text    \n",
    "        word_offset = sents.find(word, running_offset)\n",
    "        if word_offset>-1:\n",
    "            word_len = len(word)\n",
    "            running_offset = word_offset + word_len\n",
    "            print(f\"{word} - ({word_offset}, {running_offset})\")\n",
    "            for ent in ents:\n",
    "                start, end=ent['start'], ent['end']\n",
    "                if word_offset>=start and running_offset<=end:\n",
    "                    rs.append({\"start\": word_offset,\n",
    "                               \"end\": running_offset,\n",
    "                               'index': token.index,\n",
    "                               'value': word,\n",
    "                               'entity': ent['entity']\n",
    "                               })\n",
    "    return rs\n",
    "\n",
    "get_entity_mapping(chunks['doc'])"
   ]
  },
  {
   "cell_type": "code",
   "execution_count": 8,
   "metadata": {
    "ExecuteTime": {
     "end_time": "2020-02-01T20:38:56.878796Z",
     "start_time": "2020-02-01T20:38:56.868928Z"
    }
   },
   "outputs": [
    {
     "name": "stdout",
     "output_type": "stream",
     "text": [
      "10\n"
     ]
    }
   ],
   "source": [
    "for ent in ents:\n",
    "    word=ent['value']\n",
    "    word_offset = sents.index(word, ent['start'])\n",
    "    print(word_offset)"
   ]
  },
  {
   "cell_type": "markdown",
   "metadata": {},
   "source": [
    "* 显示句子的依存解析图;\n",
    "* 解析方式有多种, 按优先级分别是: predicate(谓词论元), verb, aux, subj, root"
   ]
  },
  {
   "cell_type": "code",
   "execution_count": 9,
   "metadata": {
    "ExecuteTime": {
     "end_time": "2020-02-01T20:39:05.517790Z",
     "start_time": "2020-02-01T20:39:05.353320Z"
    }
   },
   "outputs": [
    {
     "data": {
      "image/svg+xml": [
       "<?xml version=\"1.0\" encoding=\"UTF-8\" standalone=\"no\"?>\n",
       "<!DOCTYPE svg PUBLIC \"-//W3C//DTD SVG 1.1//EN\"\n",
       " \"http://www.w3.org/Graphics/SVG/1.1/DTD/svg11.dtd\">\n",
       "<!-- Generated by graphviz version 2.40.1 (20161225.0304)\n",
       " -->\n",
       "<!-- Title: deps Pages: 1 -->\n",
       "<svg width=\"371pt\" height=\"152pt\"\n",
       " viewBox=\"0.00 0.00 370.64 152.00\" xmlns=\"http://www.w3.org/2000/svg\" xmlns:xlink=\"http://www.w3.org/1999/xlink\">\n",
       "<g id=\"graph0\" class=\"graph\" transform=\"scale(1 1) rotate(0) translate(4 148)\">\n",
       "<title>deps</title>\n",
       "<polygon fill=\"#ffffff\" stroke=\"transparent\" points=\"-4,4 -4,-148 366.6435,-148 366.6435,4 -4,4\"/>\n",
       "<!-- how -->\n",
       "<g id=\"node1\" class=\"node\">\n",
       "<title>how</title>\n",
       "<polygon fill=\"#d3d3d3\" stroke=\"#d3d3d3\" points=\"31.426,-16.0493 33.202,-16.1479 34.9597,-16.2953 36.6919,-16.4913 38.3915,-16.7353 40.0517,-17.0266 41.666,-17.3645 43.2281,-17.7479 44.732,-18.1759 46.1722,-18.6472 47.5435,-19.1606 48.8411,-19.7147 50.0607,-20.308 51.1984,-20.9388 52.2508,-21.6054 53.2152,-22.3059 54.089,-23.0385 54.8704,-23.8012 55.558,-24.5918 56.151,-25.4082 56.6489,-26.2481 57.052,-27.1093 57.3606,-27.9894 57.5759,-28.886 57.6992,-29.7965 57.7324,-30.7186 57.6776,-31.6497 57.5374,-32.5873 57.3145,-33.5287 57.0121,-34.4713 56.6334,-35.4127 56.182,-36.3503 55.6616,-37.2814 55.0759,-38.2035 54.4287,-39.114 53.7241,-40.0106 52.966,-40.8907 52.1582,-41.7519 51.3048,-42.5918 50.4093,-43.4082 49.4757,-44.1988 48.5074,-44.9615 47.5078,-45.6941 46.4803,-46.3946 45.4278,-47.0612 44.3533,-47.692 43.2595,-48.2853 42.1488,-48.8394 41.0235,-49.3528 39.8858,-49.8241 38.7373,-50.2521 37.58,-50.6355 36.4152,-50.9734 35.2443,-51.2647 34.0685,-51.5087 32.8889,-51.7047 31.7065,-51.8521 30.522,-51.9507 29.3364,-52 28.1505,-52 26.9649,-51.9507 25.7804,-51.8521 24.598,-51.7047 23.4184,-51.5087 22.2426,-51.2647 21.0717,-50.9734 19.9069,-50.6355 18.7495,-50.2521 17.6011,-49.8241 16.4633,-49.3528 15.3381,-48.8394 14.2274,-48.2853 13.1335,-47.692 12.0591,-47.0612 11.0066,-46.3946 9.9791,-45.6941 8.9795,-44.9615 8.0112,-44.1988 7.0775,-43.4082 6.1821,-42.5918 5.3286,-41.7519 4.5209,-40.8907 3.7628,-40.0106 3.0582,-39.114 2.411,-38.2035 1.8253,-37.2814 1.3048,-36.3503 .8534,-35.4127 .4748,-34.4713 .1724,-33.5287 -.0505,-32.5873 -.1907,-31.6497 -.2455,-30.7186 -.2123,-29.7965 -.089,-28.886 .1263,-27.9894 .4349,-27.1093 .8379,-26.2481 1.3359,-25.4082 1.9289,-24.5918 2.6165,-23.8012 3.3979,-23.0385 4.2717,-22.3059 5.2361,-21.6054 6.2885,-20.9388 7.4262,-20.308 8.6458,-19.7147 9.9434,-19.1606 11.3147,-18.6472 12.7549,-18.1759 14.2588,-17.7479 15.8209,-17.3645 17.4352,-17.0266 19.0954,-16.7353 20.795,-16.4913 22.5271,-16.2953 24.2848,-16.1479 26.0609,-16.0493 27.848,-16 29.6389,-16 31.426,-16.0493\"/>\n",
       "<text text-anchor=\"middle\" x=\"28.7434\" y=\"-29.8\" font-family=\"Calibri\" font-size=\"14.00\" fill=\"#000000\">how</text>\n",
       "</g>\n",
       "<!-- food -->\n",
       "<g id=\"node2\" class=\"node\">\n",
       "<title>food</title>\n",
       "<polygon fill=\"none\" stroke=\"#000000\" points=\"158.0831,-54.0493 159.8712,-54.1479 161.6409,-54.2953 163.3848,-54.4913 165.0959,-54.7353 166.7674,-55.0266 168.3927,-55.3645 169.9654,-55.7479 171.4795,-56.1759 172.9295,-56.6472 174.3101,-57.1606 175.6165,-57.7147 176.8443,-58.308 177.9898,-58.9388 179.0494,-59.6054 180.0203,-60.3059 180.9,-61.0385 181.6867,-61.8012 182.379,-62.5918 182.976,-63.4082 183.4774,-64.2481 183.8831,-65.1093 184.1939,-65.9894 184.4106,-66.886 184.5348,-67.7965 184.5682,-68.7186 184.513,-69.6497 184.3718,-70.5873 184.1475,-71.5287 183.843,-72.4713 183.4618,-73.4127 183.0073,-74.3503 182.4833,-75.2814 181.8936,-76.2035 181.2421,-77.114 180.5327,-78.0106 179.7694,-78.8907 178.9562,-79.7519 178.0969,-80.5918 177.1954,-81.4082 176.2554,-82.1988 175.2805,-82.9615 174.2742,-83.6941 173.2397,-84.3946 172.18,-85.0612 171.0983,-85.692 169.997,-86.2853 168.8788,-86.8394 167.7459,-87.3528 166.6004,-87.8241 165.4441,-88.2521 164.2789,-88.6355 163.1062,-88.9734 161.9274,-89.2647 160.7436,-89.5087 159.556,-89.7047 158.3655,-89.8521 157.173,-89.9507 155.9794,-90 154.7854,-90 153.5917,-89.9507 152.3992,-89.8521 151.2088,-89.7047 150.0211,-89.5087 148.8374,-89.2647 147.6585,-88.9734 146.4858,-88.6355 145.3206,-88.2521 144.1644,-87.8241 143.0189,-87.3528 141.886,-86.8394 140.7677,-86.2853 139.6665,-85.692 138.5847,-85.0612 137.5251,-84.3946 136.4906,-83.6941 135.4842,-82.9615 134.5093,-82.1988 133.5694,-81.4082 132.6679,-80.5918 131.8086,-79.7519 130.9954,-78.8907 130.2321,-78.0106 129.5227,-77.114 128.8712,-76.2035 128.2814,-75.2814 127.7575,-74.3503 127.303,-73.4127 126.9218,-72.4713 126.6173,-71.5287 126.3929,-70.5873 126.2517,-69.6497 126.1966,-68.7186 126.23,-67.7965 126.3541,-66.886 126.5709,-65.9894 126.8816,-65.1093 127.2874,-64.2481 127.7887,-63.4082 128.3857,-62.5918 129.078,-61.8012 129.8648,-61.0385 130.7445,-60.3059 131.7154,-59.6054 132.775,-58.9388 133.9204,-58.308 135.1483,-57.7147 136.4547,-57.1606 137.8353,-56.6472 139.2853,-56.1759 140.7994,-55.7479 142.3721,-55.3645 143.9973,-55.0266 145.6688,-54.7353 147.38,-54.4913 149.1239,-54.2953 150.8935,-54.1479 152.6816,-54.0493 154.4809,-54 156.2839,-54 158.0831,-54.0493\"/>\n",
       "<text text-anchor=\"middle\" x=\"155.3824\" y=\"-67.8\" font-family=\"Calibri\" font-size=\"14.00\" fill=\"#000000\">food</text>\n",
       "</g>\n",
       "<!-- how&#45;&gt;food -->\n",
       "<g id=\"edge1\" class=\"edge\">\n",
       "<title>how&#45;&gt;food</title>\n",
       "<path fill=\"none\" stroke=\"#000000\" d=\"M52.8613,-41.237C71.1993,-46.7395 96.7693,-54.4122 117.7849,-60.7183\"/>\n",
       "<polygon fill=\"#000000\" stroke=\"#000000\" points=\"116.7962,-64.0757 127.3802,-63.5975 118.808,-57.371 116.7962,-64.0757\"/>\n",
       "<text text-anchor=\"middle\" x=\"91.8883\" y=\"-59\" font-family=\"Calibri\" font-size=\"10.00\" fill=\"#000000\">obl.0</text>\n",
       "</g>\n",
       "<!-- . -->\n",
       "<g id=\"node6\" class=\"node\">\n",
       "<title>.</title>\n",
       "<polygon fill=\"none\" stroke=\"#000000\" points=\"158.0649,-.0493 159.841,-.1479 161.5987,-.2953 163.3308,-.4913 165.0304,-.7353 166.6906,-1.0266 168.3049,-1.3645 169.867,-1.7479 171.3709,-2.1759 172.8111,-2.6472 174.1824,-3.1606 175.48,-3.7147 176.6996,-4.308 177.8373,-4.9388 178.8898,-5.6054 179.8541,-6.3059 180.7279,-7.0385 181.5093,-7.8012 182.1969,-8.5918 182.7899,-9.4082 183.2879,-10.2481 183.6909,-11.1093 183.9996,-11.9894 184.2148,-12.886 184.3382,-13.7965 184.3713,-14.7186 184.3166,-15.6497 184.1763,-16.5873 183.9535,-17.5287 183.651,-18.4713 183.2724,-19.4127 182.821,-20.3503 182.3005,-21.2814 181.7148,-22.2035 181.0677,-23.114 180.3631,-24.0106 179.6049,-24.8907 178.7972,-25.7519 177.9437,-26.5918 177.0483,-27.4082 176.1146,-28.1988 175.1463,-28.9615 174.1468,-29.6941 173.1192,-30.3946 172.0668,-31.0612 170.9923,-31.692 169.8984,-32.2853 168.7878,-32.8394 167.6625,-33.3528 166.5247,-33.8241 165.3763,-34.2521 164.2189,-34.6355 163.0541,-34.9734 161.8832,-35.2647 160.7075,-35.5087 159.5279,-35.7047 158.3454,-35.8521 157.161,-35.9507 155.9754,-36 154.7894,-36 153.6038,-35.9507 152.4194,-35.8521 151.2369,-35.7047 150.0573,-35.5087 148.8815,-35.2647 147.7106,-34.9734 146.5458,-34.6355 145.3885,-34.2521 144.2401,-33.8241 143.1023,-33.3528 141.977,-32.8394 140.8663,-32.2853 139.7725,-31.692 138.698,-31.0612 137.6455,-30.3946 136.618,-29.6941 135.6184,-28.9615 134.6501,-28.1988 133.7165,-27.4082 132.8211,-26.5918 131.9676,-25.7519 131.1598,-24.8907 130.4017,-24.0106 129.6971,-23.114 129.05,-22.2035 128.4642,-21.2814 127.9438,-20.3503 127.4924,-19.4127 127.1137,-18.4713 126.8113,-17.5287 126.5884,-16.5873 126.4482,-15.6497 126.3934,-14.7186 126.4266,-13.7965 126.5499,-12.886 126.7652,-11.9894 127.0738,-11.1093 127.4769,-10.2481 127.9748,-9.4082 128.5678,-8.5918 129.2555,-7.8012 130.0369,-7.0385 130.9107,-6.3059 131.875,-5.6054 132.9274,-4.9388 134.0652,-4.308 135.2847,-3.7147 136.5823,-3.1606 137.9536,-2.6472 139.3938,-2.1759 140.8978,-1.7479 142.4598,-1.3645 144.0741,-1.0266 145.7343,-.7353 147.4339,-.4913 149.1661,-.2953 150.9238,-.1479 152.6998,-.0493 154.487,0 156.2778,0 158.0649,-.0493\"/>\n",
       "<text text-anchor=\"middle\" x=\"155.3824\" y=\"-13.8\" font-family=\"Calibri\" font-size=\"14.00\" fill=\"#000000\">.</text>\n",
       "</g>\n",
       "<!-- how&#45;&gt;. -->\n",
       "<g id=\"edge5\" class=\"edge\">\n",
       "<title>how&#45;&gt;.</title>\n",
       "<path fill=\"none\" stroke=\"#000000\" d=\"M57.797,-30.3293C75.7477,-28.0613 98.9562,-25.1291 118.2359,-22.6932\"/>\n",
       "<polygon fill=\"#000000\" stroke=\"#000000\" points=\"118.7145,-26.1607 128.1969,-21.4347 117.837,-19.2159 118.7145,-26.1607\"/>\n",
       "<text text-anchor=\"middle\" x=\"91.8883\" y=\"-29\" font-family=\"Calibri\" font-size=\"10.00\" fill=\"#000000\">punct.0</text>\n",
       "</g>\n",
       "<!-- north -->\n",
       "<g id=\"node3\" class=\"node\">\n",
       "<title>north</title>\n",
       "<polygon fill=\"none\" stroke=\"#000000\" points=\"323.4717,-108.0493 325.4604,-108.1479 327.4285,-108.2953 329.368,-108.4913 331.2711,-108.7353 333.1301,-109.0266 334.9376,-109.3645 336.6867,-109.7479 338.3707,-110.1759 339.9833,-110.6472 341.5188,-111.1606 342.9717,-111.7147 344.3373,-112.308 345.6112,-112.9388 346.7897,-113.6054 347.8695,-114.3059 348.8479,-115.0385 349.7228,-115.8012 350.4928,-116.5918 351.1568,-117.4082 351.7143,-118.2481 352.1656,-119.1093 352.5112,-119.9894 352.7523,-120.886 352.8904,-121.7965 352.9275,-122.7186 352.8662,-123.6497 352.7092,-124.5873 352.4596,-125.5287 352.121,-126.4713 351.697,-127.4127 351.1915,-128.3503 350.6088,-129.2814 349.9529,-130.2035 349.2283,-131.114 348.4394,-132.0106 347.5905,-132.8907 346.686,-133.7519 345.7303,-134.5918 344.7277,-135.4082 343.6823,-136.1988 342.5981,-136.9615 341.4789,-137.6941 340.3283,-138.3946 339.1498,-139.0612 337.9467,-139.692 336.7219,-140.2853 335.4783,-140.8394 334.2183,-141.3528 332.9443,-141.8241 331.6584,-142.2521 330.3625,-142.6355 329.0582,-142.9734 327.7471,-143.2647 326.4306,-143.5087 325.1098,-143.7047 323.7858,-143.8521 322.4595,-143.9507 321.132,-144 319.804,-144 318.4765,-143.9507 317.1503,-143.8521 315.8262,-143.7047 314.5054,-143.5087 313.1889,-143.2647 311.8778,-142.9734 310.5736,-142.6355 309.2776,-142.2521 307.9917,-141.8241 306.7177,-141.3528 305.4577,-140.8394 304.2141,-140.2853 302.9893,-139.692 301.7862,-139.0612 300.6077,-138.3946 299.4572,-137.6941 298.3379,-136.9615 297.2537,-136.1988 296.2083,-135.4082 295.2057,-134.5918 294.25,-133.7519 293.3456,-132.8907 292.4967,-132.0106 291.7077,-131.114 290.9831,-130.2035 290.3272,-129.2814 289.7445,-128.3503 289.239,-127.4127 288.815,-126.4713 288.4764,-125.5287 288.2269,-124.5873 288.0698,-123.6497 288.0085,-122.7186 288.0457,-121.7965 288.1837,-120.886 288.4248,-119.9894 288.7704,-119.1093 289.2217,-118.2481 289.7792,-117.4082 290.4432,-116.5918 291.2132,-115.8012 292.0881,-115.0385 293.0666,-114.3059 294.1463,-113.6054 295.3248,-112.9388 296.5987,-112.308 297.9643,-111.7147 299.4172,-111.1606 300.9527,-110.6472 302.5653,-110.1759 304.2493,-109.7479 305.9984,-109.3645 307.8059,-109.0266 309.6649,-108.7353 311.568,-108.4913 313.5075,-108.2953 315.4756,-108.1479 317.4643,-108.0493 319.4654,-108 321.4706,-108 323.4717,-108.0493\"/>\n",
       "<text text-anchor=\"middle\" x=\"320.468\" y=\"-121.8\" font-family=\"Calibri\" font-size=\"14.00\" fill=\"#000000\">north</text>\n",
       "</g>\n",
       "<!-- food&#45;&gt;north -->\n",
       "<g id=\"edge2\" class=\"edge\">\n",
       "<title>food&#45;&gt;north</title>\n",
       "<path fill=\"none\" stroke=\"#000000\" d=\"M179.0351,-79.7369C205.5833,-88.4209 249.0903,-102.6521 280.8501,-113.0409\"/>\n",
       "<polygon fill=\"#000000\" stroke=\"#000000\" points=\"280.12,-116.4845 290.7126,-116.2669 282.2963,-109.8314 280.12,-116.4845\"/>\n",
       "<text text-anchor=\"middle\" x=\"231.3838\" y=\"-107\" font-family=\"Calibri\" font-size=\"10.00\" fill=\"#000000\">obl.0.amod.0</text>\n",
       "</g>\n",
       "<!-- eastern -->\n",
       "<g id=\"node4\" class=\"node\">\n",
       "<title>eastern</title>\n",
       "<polygon fill=\"none\" stroke=\"#000000\" points=\"324.3871,-54.0493 326.9818,-54.1479 329.5498,-54.2953 332.0804,-54.4913 334.5634,-54.7353 336.9889,-55.0266 339.3473,-55.3645 341.6295,-55.7479 343.8267,-56.1759 345.9307,-56.6472 347.9341,-57.1606 349.8299,-57.7147 351.6116,-58.308 353.2738,-58.9388 354.8114,-59.6054 356.2202,-60.3059 357.4968,-61.0385 358.6384,-61.8012 359.643,-62.5918 360.5093,-63.4082 361.2368,-64.2481 361.8257,-65.1093 362.2766,-65.9894 362.5911,-66.886 362.7713,-67.7965 362.8197,-68.7186 362.7397,-69.6497 362.5348,-70.5873 362.2092,-71.5287 361.7674,-72.4713 361.2142,-73.4127 360.5547,-74.3503 359.7944,-75.2814 358.9386,-76.2035 357.9932,-77.114 356.9638,-78.0106 355.8562,-78.8907 354.6761,-79.7519 353.4292,-80.5918 352.121,-81.4082 350.757,-82.1988 349.3423,-82.9615 347.882,-83.6941 346.3808,-84.3946 344.8432,-85.0612 343.2734,-85.692 341.6754,-86.2853 340.0527,-86.8394 338.4088,-87.3528 336.7465,-87.8241 335.0687,-88.2521 333.3778,-88.6355 331.6761,-88.9734 329.9655,-89.2647 328.2477,-89.5087 326.5244,-89.7047 324.7969,-89.8521 323.0665,-89.9507 321.3343,-90 319.6017,-90 317.8696,-89.9507 316.1392,-89.8521 314.4116,-89.7047 312.6883,-89.5087 310.9705,-89.2647 309.2599,-88.9734 307.5582,-88.6355 305.8673,-88.2521 304.1895,-87.8241 302.5273,-87.3528 300.8833,-86.8394 299.2606,-86.2853 297.6626,-85.692 296.0928,-85.0612 294.5552,-84.3946 293.054,-83.6941 291.5937,-82.9615 290.179,-82.1988 288.815,-81.4082 287.5068,-80.5918 286.2599,-79.7519 285.0798,-78.8907 283.9722,-78.0106 282.9428,-77.114 281.9974,-76.2035 281.1417,-75.2814 280.3813,-74.3503 279.7218,-73.4127 279.1686,-72.4713 278.7268,-71.5287 278.4012,-70.5873 278.1963,-69.6497 278.1163,-68.7186 278.1648,-67.7965 278.3449,-66.886 278.6594,-65.9894 279.1104,-65.1093 279.6992,-64.2481 280.4267,-63.4082 281.293,-62.5918 282.2976,-61.8012 283.4392,-61.0385 284.7158,-60.3059 286.1247,-59.6054 287.6623,-58.9388 289.3244,-58.308 291.1062,-57.7147 293.0019,-57.1606 295.0053,-56.6472 297.1094,-56.1759 299.3066,-55.7479 301.5887,-55.3645 303.9471,-55.0266 306.3726,-54.7353 308.8556,-54.4913 311.3863,-54.2953 313.9542,-54.1479 316.5489,-54.0493 319.1598,-54 321.7762,-54 324.3871,-54.0493\"/>\n",
       "<text text-anchor=\"middle\" x=\"320.468\" y=\"-67.8\" font-family=\"Calibri\" font-size=\"14.00\" fill=\"#000000\">eastern</text>\n",
       "</g>\n",
       "<!-- food&#45;&gt;eastern -->\n",
       "<g id=\"edge3\" class=\"edge\">\n",
       "<title>food&#45;&gt;eastern</title>\n",
       "<path fill=\"none\" stroke=\"#000000\" d=\"M184.1381,-72C207.422,-72 240.8195,-72 268.7307,-72\"/>\n",
       "<polygon fill=\"#000000\" stroke=\"#000000\" points=\"268.7366,-75.5001 278.7366,-72 268.7366,-68.5001 268.7366,-75.5001\"/>\n",
       "<text text-anchor=\"middle\" x=\"231.3838\" y=\"-74\" font-family=\"Calibri\" font-size=\"10.00\" fill=\"#000000\">obl.0.amod.1</text>\n",
       "</g>\n",
       "<!-- about -->\n",
       "<g id=\"node5\" class=\"node\">\n",
       "<title>about</title>\n",
       "<polygon fill=\"none\" stroke=\"#000000\" points=\"323.6292,-.0493 325.7222,-.1479 327.7935,-.2953 329.8348,-.4913 331.8376,-.7353 333.7941,-1.0266 335.6964,-1.3645 337.5373,-1.7479 339.3095,-2.1759 341.0067,-2.6472 342.6227,-3.1606 344.1519,-3.7147 345.5891,-4.308 346.9298,-4.9388 348.17,-5.6054 349.3064,-6.3059 350.3362,-7.0385 351.257,-7.8012 352.0673,-8.5918 352.7661,-9.4082 353.353,-10.2481 353.8279,-11.1093 354.1916,-11.9894 354.4453,-12.886 354.5906,-13.7965 354.6297,-14.7186 354.5652,-15.6497 354.3999,-16.5873 354.1373,-17.5287 353.7809,-18.4713 353.3347,-19.4127 352.8027,-20.3503 352.1894,-21.2814 351.4992,-22.2035 350.7366,-23.114 349.9062,-24.0106 349.0128,-24.8907 348.0609,-25.7519 347.0551,-26.5918 346,-27.4082 344.8997,-28.1988 343.7586,-28.9615 342.5807,-29.6941 341.3698,-30.3946 340.1295,-31.0612 338.8633,-31.692 337.5743,-32.2853 336.2654,-32.8394 334.9394,-33.3528 333.5986,-33.8241 332.2452,-34.2521 330.8813,-34.6355 329.5087,-34.9734 328.1289,-35.2647 326.7433,-35.5087 325.3532,-35.7047 323.9597,-35.8521 322.564,-35.9507 321.1668,-36 319.7692,-36 318.3721,-35.9507 316.9763,-35.8521 315.5828,-35.7047 314.1927,-35.5087 312.8071,-35.2647 311.4273,-34.9734 310.0547,-34.6355 308.6908,-34.2521 307.3375,-33.8241 305.9967,-33.3528 304.6706,-32.8394 303.3617,-32.2853 302.0727,-31.692 300.8065,-31.0612 299.5662,-30.3946 298.3553,-29.6941 297.1774,-28.9615 296.0363,-28.1988 294.9361,-27.4082 293.8809,-26.5918 292.8751,-25.7519 291.9232,-24.8907 291.0298,-24.0106 290.1995,-23.114 289.4369,-22.2035 288.7466,-21.2814 288.1333,-20.3503 287.6013,-19.4127 287.1551,-18.4713 286.7987,-17.5287 286.5361,-16.5873 286.3708,-15.6497 286.3063,-14.7186 286.3454,-13.7965 286.4907,-12.886 286.7444,-11.9894 287.1081,-11.1093 287.5831,-10.2481 288.1699,-9.4082 288.8687,-8.5918 289.679,-7.8012 290.5999,-7.0385 291.6296,-6.3059 292.766,-5.6054 294.0062,-4.9388 295.347,-4.308 296.7842,-3.7147 298.3133,-3.1606 299.9293,-2.6472 301.6265,-2.1759 303.3988,-1.7479 305.2396,-1.3645 307.1419,-1.0266 309.0984,-.7353 311.1012,-.4913 313.1425,-.2953 315.2138,-.1479 317.3068,-.0493 319.4128,0 321.5232,0 323.6292,-.0493\"/>\n",
       "<text text-anchor=\"middle\" x=\"320.468\" y=\"-13.8\" font-family=\"Calibri\" font-size=\"14.00\" fill=\"#000000\">about</text>\n",
       "</g>\n",
       "<!-- food&#45;&gt;about -->\n",
       "<g id=\"edge4\" class=\"edge\">\n",
       "<title>food&#45;&gt;about</title>\n",
       "<path fill=\"none\" stroke=\"#000000\" d=\"M183.014,-62.9616C210.7227,-53.898 253.5402,-39.8923 284.0178,-29.923\"/>\n",
       "<polygon fill=\"#000000\" stroke=\"#000000\" points=\"285.4247,-33.1453 293.841,-26.7098 283.2484,-26.4922 285.4247,-33.1453\"/>\n",
       "<text text-anchor=\"middle\" x=\"231.3838\" y=\"-58\" font-family=\"Calibri\" font-size=\"10.00\" fill=\"#000000\">obl.0.case.0</text>\n",
       "</g>\n",
       "</g>\n",
       "</svg>\n"
      ],
      "text/plain": [
       "<graphviz.dot.Digraph at 0x11866fbe0>"
      ]
     },
     "metadata": {},
     "output_type": "display_data"
    }
   ],
   "source": [
    "from sagas.kit.analysis_kit import vis_domains\n",
    "for v in vis_domains(sents, 'en', all_subsents=True): display(v)"
   ]
  },
  {
   "cell_type": "code",
   "execution_count": 10,
   "metadata": {
    "ExecuteTime": {
     "end_time": "2020-02-01T20:39:13.594464Z",
     "start_time": "2020-02-01T20:39:13.582175Z"
    }
   },
   "outputs": [],
   "source": [
    "from sagas.tracker_jupyter import enable_jupyter_tracker\n",
    "enable_jupyter_tracker()"
   ]
  },
  {
   "cell_type": "markdown",
   "metadata": {},
   "source": [
    "* 显示句子的成分列表和概念引用, 帮助分析\n",
    "* 每个单词都有index索引号, 因为单词在句子中有可能重复, 所以用这个索引号作为唯一标识"
   ]
  },
  {
   "cell_type": "code",
   "execution_count": 11,
   "metadata": {
    "ExecuteTime": {
     "end_time": "2020-02-01T20:39:29.380869Z",
     "start_time": "2020-02-01T20:39:21.315470Z"
    }
   },
   "outputs": [
    {
     "name": "stdout",
     "output_type": "stream",
     "text": [
      "\u001b[36m✁ chunks. -------------------------\u001b[0m\n",
      "❶ root_domains(how) _\n"
     ]
    },
    {
     "data": {
      "text/html": [
       "<div>\n",
       "<style scoped>\n",
       "    .dataframe tbody tr th:only-of-type {\n",
       "        vertical-align: middle;\n",
       "    }\n",
       "\n",
       "    .dataframe tbody tr th {\n",
       "        vertical-align: top;\n",
       "    }\n",
       "\n",
       "    .dataframe thead th {\n",
       "        text-align: right;\n",
       "    }\n",
       "</style>\n",
       "<table border=\"1\" class=\"dataframe\">\n",
       "  <thead>\n",
       "    <tr style=\"text-align: right;\">\n",
       "      <th></th>\n",
       "      <th>rel</th>\n",
       "      <th>index</th>\n",
       "      <th>text</th>\n",
       "      <th>lemma</th>\n",
       "      <th>children</th>\n",
       "      <th>features</th>\n",
       "    </tr>\n",
       "  </thead>\n",
       "  <tbody>\n",
       "    <tr>\n",
       "      <th>0</th>\n",
       "      <td>obl</td>\n",
       "      <td>5</td>\n",
       "      <td>food</td>\n",
       "      <td>food</td>\n",
       "      <td>about, north, e..</td>\n",
       "      <td>c_noun, x_nn..</td>\n",
       "    </tr>\n",
       "    <tr>\n",
       "      <th>1</th>\n",
       "      <td>punct</td>\n",
       "      <td>6</td>\n",
       "      <td>.</td>\n",
       "      <td>.</td>\n",
       "      <td>...</td>\n",
       "      <td>c_punct, x_...</td>\n",
       "    </tr>\n",
       "  </tbody>\n",
       "</table>\n",
       "</div>"
      ],
      "text/plain": [
       "     rel index  text lemma           children        features\n",
       "0    obl     5  food  food  about, north, e..  c_noun, x_nn..\n",
       "1  punct     6     .     .                ...  c_punct, x_..."
      ]
     },
     "metadata": {},
     "output_type": "display_data"
    },
    {
     "name": "stdout",
     "output_type": "stream",
     "text": [
      "\u001b[32mobl ->\u001b[0m about north eastern food\n",
      "\u001b[35m♥ food(obl): food.n.01, food.n.02, foo...\u001b[0m\n",
      "\u001b[35m[root_domains](how) Comment\u001b[0m\n",
      "\u001b[36m\t[obl](about north eastern food) de la nourriture du nord-est\u001b[0m\n"
     ]
    }
   ],
   "source": [
    "from sagas.nlu.uni_remote_viz import list_contrast, list_rs, display_doc_deps\n",
    "from sagas.nlu.corenlp_parser import get_chunks\n",
    "\n",
    "rs = get_chunks(chunks['doc'])\n",
    "list_rs(rs, 'en')\n",
    "_=list_contrast(rs, 'en')"
   ]
  },
  {
   "cell_type": "markdown",
   "metadata": {},
   "source": [
    "* 查找index为5的单词 (根据上面的列表可以得知obl成分的主词food, 索引是5)"
   ]
  },
  {
   "cell_type": "code",
   "execution_count": 12,
   "metadata": {
    "ExecuteTime": {
     "end_time": "2020-02-01T20:39:45.853571Z",
     "start_time": "2020-02-01T20:39:45.838555Z"
    }
   },
   "outputs": [
    {
     "data": {
      "text/plain": [
       "'food'"
      ]
     },
     "execution_count": 12,
     "metadata": {},
     "output_type": "execute_result"
    }
   ],
   "source": [
    "sent=chunks['doc']\n",
    "\n",
    "word_idx='5'\n",
    "word=next(filter(lambda w: w.index == word_idx, sent.words))\n",
    "word.text"
   ]
  },
  {
   "cell_type": "markdown",
   "metadata": {},
   "source": [
    "* 获取主词food的所有子结点(可参考前面的分析树)\n",
    "* 根据子结点的索引, 得到所有子结点对应的实体"
   ]
  },
  {
   "cell_type": "code",
   "execution_count": 13,
   "metadata": {
    "ExecuteTime": {
     "end_time": "2020-02-01T20:40:07.015701Z",
     "start_time": "2020-02-01T20:40:06.988805Z"
    }
   },
   "outputs": [
    {
     "name": "stdout",
     "output_type": "stream",
     "text": [
      "['5', '2', '3', '4']\n",
      "how - (0, 3)\n",
      "about - (4, 9)\n",
      "north - (10, 15)\n",
      "eastern - (16, 23)\n",
      "food - (24, 28)\n"
     ]
    },
    {
     "data": {
      "text/plain": [
       "[('5', '_'), ('2', '_'), ('3', 'cuisine'), ('4', 'cuisine')]"
      ]
     },
     "execution_count": 13,
     "metadata": {},
     "output_type": "execute_result"
    }
   ],
   "source": [
    "from sagas.nlu.corenlp_parser import get_children\n",
    "def get_children_index(sent, word_idx):\n",
    "    rs = []\n",
    "    word=next(filter(lambda w: w.index == word_idx, sent.words))\n",
    "    get_children(sent, word, rs, stem=False)\n",
    "    return [word_idx]+[w[0] for w in rs]\n",
    "\n",
    "sent=chunks['doc']\n",
    "# obl index is '5'\n",
    "indexes=get_children_index(sent, '5')\n",
    "print(indexes)\n",
    "idx_ent={el['index']:el['entity'] for el in get_entity_mapping(sent)}\n",
    "# print(idx_ent)\n",
    "children_ents=[(idx, idx_ent[idx] if idx in idx_ent else '_') for idx in indexes]\n",
    "children_ents"
   ]
  },
  {
   "cell_type": "markdown",
   "metadata": {},
   "source": [
    "* 测试: 指定的句子成分(即food的所有子结点, 也包括food自身)是否包含指定的实体cuisine"
   ]
  },
  {
   "cell_type": "code",
   "execution_count": 14,
   "metadata": {
    "ExecuteTime": {
     "end_time": "2020-02-01T20:40:23.195856Z",
     "start_time": "2020-02-01T20:40:23.177692Z"
    }
   },
   "outputs": [
    {
     "name": "stdout",
     "output_type": "stream",
     "text": [
      "{'3': 'cuisine', '4': 'cuisine'}\n"
     ]
    },
    {
     "data": {
      "text/plain": [
       "True"
      ]
     },
     "execution_count": 14,
     "metadata": {},
     "output_type": "execute_result"
    }
   ],
   "source": [
    "print(idx_ent)\n",
    "\n",
    "# test specific entity in the children\n",
    "test_ent='cuisine'\n",
    "test_ent in {e[1] for e in children_ents}"
   ]
  }
 ],
 "metadata": {
  "kernelspec": {
   "display_name": "Python 3",
   "language": "python",
   "name": "python3"
  },
  "language_info": {
   "codemirror_mode": {
    "name": "ipython",
    "version": 3
   },
   "file_extension": ".py",
   "mimetype": "text/x-python",
   "name": "python",
   "nbconvert_exporter": "python",
   "pygments_lexer": "ipython3",
   "version": "3.6.6"
  },
  "varInspector": {
   "cols": {
    "lenName": 16,
    "lenType": 16,
    "lenVar": 40
   },
   "kernels_config": {
    "python": {
     "delete_cmd_postfix": "",
     "delete_cmd_prefix": "del ",
     "library": "var_list.py",
     "varRefreshCmd": "print(var_dic_list())"
    },
    "r": {
     "delete_cmd_postfix": ") ",
     "delete_cmd_prefix": "rm(",
     "library": "var_list.r",
     "varRefreshCmd": "cat(var_dic_list()) "
    }
   },
   "types_to_exclude": [
    "module",
    "function",
    "builtin_function_or_method",
    "instance",
    "_Feature"
   ],
   "window_display": false
  }
 },
 "nbformat": 4,
 "nbformat_minor": 2
}
