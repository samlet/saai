{
 "cells": [
  {
   "cell_type": "code",
   "execution_count": 1,
   "metadata": {
    "ExecuteTime": {
     "end_time": "2020-05-23T15:53:06.469824Z",
     "start_time": "2020-05-23T15:53:06.226843Z"
    }
   },
   "outputs": [
    {
     "data": {
      "text/plain": [
       "{'test': {'node': 'deep', 'default': 'ok'}}"
      ]
     },
     "execution_count": 1,
     "metadata": {},
     "output_type": "execute_result"
    }
   ],
   "source": [
    "from graphql import graphql_sync\n",
    "from ariadne import ObjectType, QueryType, make_executable_schema\n",
    "\n",
    "type_defs = \"\"\"\n",
    "    type Query {\n",
    "        test: Custom\n",
    "    }\n",
    "\n",
    "    type Custom {\n",
    "        node: String\n",
    "        default: String\n",
    "    }\n",
    "\"\"\"\n",
    "\n",
    "query = QueryType()\n",
    "query.set_field(\"test\", lambda *_: {\"node\": \"custom\", \"default\": \"ok\"})\n",
    "\n",
    "custom = ObjectType(\"Custom\")\n",
    "custom.set_field(\"node\", lambda *_: \"deep\")\n",
    "\n",
    "schema = make_executable_schema(type_defs, [query, custom])\n",
    "\n",
    "result = graphql_sync(schema, \"{ test { node default } }\")\n",
    "# assert result.errors is None\n",
    "# assert result.data == {\"test\": {\"node\": \"deep\", \"default\": \"ok\"}}\n",
    "result.data"
   ]
  },
  {
   "cell_type": "code",
   "execution_count": 2,
   "metadata": {
    "ExecuteTime": {
     "end_time": "2020-05-23T15:53:06.483490Z",
     "start_time": "2020-05-23T15:53:06.474081Z"
    }
   },
   "outputs": [],
   "source": [
    "import json\n",
    "\n",
    "def building_with_id(_, info, _id):\n",
    "    with open('./buildings.json') as file:\n",
    "        data = json.load(file)\n",
    "        for building in data['buildings']:\n",
    "            if building['id'] == _id:\n",
    "                return building\n",
    "\n",
    "def resolve_residents_in_building(building, info):\n",
    "    print(building)\n",
    "    with open('./residents.json') as file:\n",
    "        data = json.load(file)\n",
    "        residents = [\n",
    "            resident \n",
    "            for resident \n",
    "            in data['residents'] \n",
    "            if resident['building'] \n",
    "            == building['id']]\n",
    "        return residents"
   ]
  },
  {
   "cell_type": "code",
   "execution_count": 3,
   "metadata": {
    "ExecuteTime": {
     "end_time": "2020-05-23T15:53:06.523236Z",
     "start_time": "2020-05-23T15:53:06.501751Z"
    }
   },
   "outputs": [
    {
     "name": "stdout",
     "output_type": "stream",
     "text": [
      "{'id': '1', 'buildYear': 2009}\n"
     ]
    },
    {
     "data": {
      "text/plain": [
       "[{'id': '1', 'name': 'Dino', 'age': 56, 'family': ['2', '3'], 'building': '1'},\n",
       " {'id': '2', 'name': 'Dina', 'age': 52, 'family': ['1', '3'], 'building': '1'},\n",
       " {'id': '3', 'name': 'Leo', 'age': 10, 'family': ['1', '2'], 'building': '1'},\n",
       " {'id': '4', 'name': 'Sarah', 'age': 24, 'family': ['5'], 'building': '1'},\n",
       " {'id': '5', 'name': 'Harold', 'age': 22, 'family': ['4'], 'building': '1'}]"
      ]
     },
     "execution_count": 3,
     "metadata": {},
     "output_type": "execute_result"
    }
   ],
   "source": [
    "rec=building_with_id(None,None,\"1\")\n",
    "# print(rec)\n",
    "resolve_residents_in_building(rec, None)"
   ]
  },
  {
   "cell_type": "code",
   "execution_count": 4,
   "metadata": {
    "ExecuteTime": {
     "end_time": "2020-05-23T15:53:06.552011Z",
     "start_time": "2020-05-23T15:53:06.540753Z"
    }
   },
   "outputs": [],
   "source": [
    "type_defs='''\n",
    "type Query {\n",
    "    building_with_id(_id: ID!): Building\n",
    "    resident_with_id(_id: ID!): Resident\n",
    "}\n",
    "\n",
    "type Building {\n",
    "    id: ID!\n",
    "    buildYear: String!\n",
    "    residents: [Resident]\n",
    "}\n",
    "\n",
    "type Resident {\n",
    "    id: ID!\n",
    "    name: String!\n",
    "    age: Int!\n",
    "    family: [Resident]\n",
    "    building: Building\n",
    "}\n",
    "'''"
   ]
  },
  {
   "cell_type": "code",
   "execution_count": 5,
   "metadata": {
    "ExecuteTime": {
     "end_time": "2020-05-23T15:53:06.607033Z",
     "start_time": "2020-05-23T15:53:06.568048Z"
    }
   },
   "outputs": [
    {
     "name": "stdout",
     "output_type": "stream",
     "text": [
      "{'id': '1', 'buildYear': 2009}\n"
     ]
    },
    {
     "data": {
      "text/plain": [
       "{'building_with_id': {'id': '1',\n",
       "  'residents': [{'id': '1', 'name': 'Dino'},\n",
       "   {'id': '2', 'name': 'Dina'},\n",
       "   {'id': '3', 'name': 'Leo'},\n",
       "   {'id': '4', 'name': 'Sarah'},\n",
       "   {'id': '5', 'name': 'Harold'}]}}"
      ]
     },
     "execution_count": 5,
     "metadata": {},
     "output_type": "execute_result"
    }
   ],
   "source": [
    "from graphql import graphql_sync\n",
    "from ariadne import make_executable_schema, load_schema_from_path, ObjectType, QueryType\n",
    "\n",
    "# type_defs = load_schema_from_path('schema.graphql')\n",
    "\n",
    "query = QueryType()\n",
    "building = ObjectType('Building')\n",
    "resident = ObjectType('Resident')\n",
    "\n",
    "query.set_field('building_with_id', building_with_id)\n",
    "building.set_field('residents', resolve_residents_in_building)\n",
    "\n",
    "schema = make_executable_schema(type_defs, [building, resident, query])\n",
    "\n",
    "q=\"\"\"{\n",
    "    building_with_id(_id:\"1\"){\n",
    "        id\n",
    "        residents {\n",
    "            id\n",
    "            name\n",
    "        }\n",
    "    }\n",
    "}\n",
    "\"\"\"\n",
    "result = graphql_sync(schema, q)\n",
    "result.data"
   ]
  },
  {
   "cell_type": "code",
   "execution_count": 6,
   "metadata": {
    "ExecuteTime": {
     "end_time": "2020-05-23T15:53:06.629473Z",
     "start_time": "2020-05-23T15:53:06.619476Z"
    }
   },
   "outputs": [
    {
     "data": {
      "text/plain": [
       "'1'"
      ]
     },
     "execution_count": 6,
     "metadata": {},
     "output_type": "execute_result"
    }
   ],
   "source": [
    "result.data['building_with_id']['id']"
   ]
  }
 ],
 "metadata": {
  "kernelspec": {
   "display_name": "Python 3",
   "language": "python",
   "name": "python3"
  },
  "language_info": {
   "codemirror_mode": {
    "name": "ipython",
    "version": 3
   },
   "file_extension": ".py",
   "mimetype": "text/x-python",
   "name": "python",
   "nbconvert_exporter": "python",
   "pygments_lexer": "ipython3",
   "version": "3.6.6"
  },
  "varInspector": {
   "cols": {
    "lenName": 16,
    "lenType": 16,
    "lenVar": 40
   },
   "kernels_config": {
    "python": {
     "delete_cmd_postfix": "",
     "delete_cmd_prefix": "del ",
     "library": "var_list.py",
     "varRefreshCmd": "print(var_dic_list())"
    },
    "r": {
     "delete_cmd_postfix": ") ",
     "delete_cmd_prefix": "rm(",
     "library": "var_list.r",
     "varRefreshCmd": "cat(var_dic_list()) "
    }
   },
   "types_to_exclude": [
    "module",
    "function",
    "builtin_function_or_method",
    "instance",
    "_Feature"
   ],
   "window_display": false
  }
 },
 "nbformat": 4,
 "nbformat_minor": 2
}
