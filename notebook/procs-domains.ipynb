{
 "cells": [
  {
   "cell_type": "code",
   "execution_count": 6,
   "metadata": {
    "ExecuteTime": {
     "end_time": "2020-03-28T05:17:03.092721Z",
     "start_time": "2020-03-28T05:17:03.071434Z"
    }
   },
   "outputs": [
    {
     "data": {
      "text/plain": [
       "[{'type': 'verb_domains',\n",
       "  'word': 'geliyorum',\n",
       "  'lemma': 'gel',\n",
       "  'index': 2,\n",
       "  'upos': 'verb',\n",
       "  'xpos': 'verb',\n",
       "  'rel': 'root',\n",
       "  'governor': 0,\n",
       "  'domains': [['obl', 1, 'Köyden', 'köy', ['Köyden'], ['c_noun', 'x_noun']],\n",
       "   ['punct', 3, '.', '.', ['.'], ['c_punct', 'x_punc']]],\n",
       "  'stems': [['obl', ['köy']], ['punct', ['.']]]}]"
      ]
     },
     "execution_count": 6,
     "metadata": {},
     "output_type": "execute_result"
    }
   ],
   "source": [
    "import requests\n",
    "from sagas.conf.conf import cf\n",
    "engine='stanza'\n",
    "data={'lang': 'tr', \"sents\": 'Köyden geliyorum.'}\n",
    "response = requests.post(f'{cf.servant(engine)}/verb_domains', json=data)\n",
    "rs = response.json()\n",
    "rs"
   ]
  },
  {
   "cell_type": "code",
   "execution_count": 7,
   "metadata": {
    "ExecuteTime": {
     "end_time": "2020-03-28T05:29:15.020348Z",
     "start_time": "2020-03-28T05:29:14.061903Z"
    }
   },
   "outputs": [
    {
     "name": "stdout",
     "output_type": "stream",
     "text": [
      "{'obl', 'punct'}\n",
      "['c_noun', 'x_noun']\n"
     ]
    }
   ],
   "source": [
    "from sagas.nlu.parse_client_helper import build_context\n",
    "from sagas.nlu.rules_header import *\n",
    "\n",
    "data={'lang': 'tr', \"sents\": 'Köyden geliyorum.'}\n",
    "ctx,pat=next(build_context(data, 'verb', name='_test_'))\n",
    "print({x[0] for x in ctx.domains})\n",
    "print(ctx.feats['obl'])"
   ]
  }
 ],
 "metadata": {
  "kernelspec": {
   "display_name": "Python 3",
   "language": "python",
   "name": "python3"
  },
  "language_info": {
   "codemirror_mode": {
    "name": "ipython",
    "version": 3
   },
   "file_extension": ".py",
   "mimetype": "text/x-python",
   "name": "python",
   "nbconvert_exporter": "python",
   "pygments_lexer": "ipython3",
   "version": "3.6.6"
  },
  "varInspector": {
   "cols": {
    "lenName": 16,
    "lenType": 16,
    "lenVar": 40
   },
   "kernels_config": {
    "python": {
     "delete_cmd_postfix": "",
     "delete_cmd_prefix": "del ",
     "library": "var_list.py",
     "varRefreshCmd": "print(var_dic_list())"
    },
    "r": {
     "delete_cmd_postfix": ") ",
     "delete_cmd_prefix": "rm(",
     "library": "var_list.r",
     "varRefreshCmd": "cat(var_dic_list()) "
    }
   },
   "types_to_exclude": [
    "module",
    "function",
    "builtin_function_or_method",
    "instance",
    "_Feature"
   ],
   "window_display": false
  }
 },
 "nbformat": 4,
 "nbformat_minor": 2
}
