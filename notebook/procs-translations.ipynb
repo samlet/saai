{
 "cells": [
  {
   "cell_type": "code",
   "execution_count": 11,
   "metadata": {
    "ExecuteTime": {
     "end_time": "2020-03-18T04:39:53.033102Z",
     "start_time": "2020-03-18T04:39:52.973268Z"
    }
   },
   "outputs": [
    {
     "name": "stdout",
     "output_type": "stream",
     "text": [
      "total 2\n",
      "动词\n"
     ]
    },
    {
     "data": {
      "text/html": [
       "<div>\n",
       "<style scoped>\n",
       "    .dataframe tbody tr th:only-of-type {\n",
       "        vertical-align: middle;\n",
       "    }\n",
       "\n",
       "    .dataframe tbody tr th {\n",
       "        vertical-align: top;\n",
       "    }\n",
       "\n",
       "    .dataframe thead th {\n",
       "        text-align: right;\n",
       "    }\n",
       "</style>\n",
       "<table border=\"1\" class=\"dataframe\">\n",
       "  <thead>\n",
       "    <tr style=\"text-align: right;\">\n",
       "      <th></th>\n",
       "      <th>word</th>\n",
       "      <th>translations</th>\n",
       "      <th>c</th>\n",
       "      <th>freq</th>\n",
       "    </tr>\n",
       "  </thead>\n",
       "  <tbody>\n",
       "    <tr>\n",
       "      <th>0</th>\n",
       "      <td>fly</td>\n",
       "      <td>[fly]</td>\n",
       "      <td>None</td>\n",
       "      <td>0.340233</td>\n",
       "    </tr>\n",
       "  </tbody>\n",
       "</table>\n",
       "</div>"
      ],
      "text/plain": [
       "  word translations     c      freq\n",
       "0  fly        [fly]  None  0.340233"
      ]
     },
     "metadata": {},
     "output_type": "display_data"
    },
    {
     "name": "stdout",
     "output_type": "stream",
     "text": [
      "名词\n"
     ]
    },
    {
     "data": {
      "text/html": [
       "<div>\n",
       "<style scoped>\n",
       "    .dataframe tbody tr th:only-of-type {\n",
       "        vertical-align: middle;\n",
       "    }\n",
       "\n",
       "    .dataframe tbody tr th {\n",
       "        vertical-align: top;\n",
       "    }\n",
       "\n",
       "    .dataframe thead th {\n",
       "        text-align: right;\n",
       "    }\n",
       "</style>\n",
       "<table border=\"1\" class=\"dataframe\">\n",
       "  <thead>\n",
       "    <tr style=\"text-align: right;\">\n",
       "      <th></th>\n",
       "      <th>word</th>\n",
       "      <th>translations</th>\n",
       "      <th>c</th>\n",
       "      <th>freq</th>\n",
       "    </tr>\n",
       "  </thead>\n",
       "  <tbody>\n",
       "    <tr>\n",
       "      <th>0</th>\n",
       "      <td>aircraft</td>\n",
       "      <td>[fly]</td>\n",
       "      <td>None</td>\n",
       "      <td>0.042585</td>\n",
       "    </tr>\n",
       "  </tbody>\n",
       "</table>\n",
       "</div>"
      ],
      "text/plain": [
       "       word translations     c      freq\n",
       "0  aircraft        [fly]  None  0.042585"
      ]
     },
     "metadata": {},
     "output_type": "display_data"
    }
   ],
   "source": [
    "def translations_df(trans, idx=0):\n",
    "    import sagas\n",
    "    # fill with default field names\n",
    "    size = len(trans[idx][2][0])\n",
    "    # print('size', size)\n",
    "    listOfStrings = ['ext_' + str(i) for i in range(size)]\n",
    "    if size==2:\n",
    "        listOfStrings[0:2] = ['word', 'translations']\n",
    "    else:\n",
    "        listOfStrings[0:4] = ['word', 'translations', 'c', 'freq']\n",
    "\n",
    "    return sagas.to_df(trans[idx][2], listOfStrings)\n",
    "\n",
    "trans=[['动词', ['fly'], [['fly', ['fly'], None, 0.34023288]], 'fly', 2], \n",
    "       ['名词', ['aircraft'], [['aircraft', ['fly'], None, 0.042585135]], 'fly', 1]]\n",
    "print('total', len(trans))\n",
    "for idx,el in enumerate(trans):\n",
    "    print(el[0])\n",
    "    display(translations_df(trans, idx))"
   ]
  },
  {
   "cell_type": "code",
   "execution_count": 5,
   "metadata": {
    "ExecuteTime": {
     "end_time": "2020-03-18T04:36:23.950581Z",
     "start_time": "2020-03-18T04:36:23.932103Z"
    }
   },
   "outputs": [
    {
     "data": {
      "text/html": [
       "<div>\n",
       "<style scoped>\n",
       "    .dataframe tbody tr th:only-of-type {\n",
       "        vertical-align: middle;\n",
       "    }\n",
       "\n",
       "    .dataframe tbody tr th {\n",
       "        vertical-align: top;\n",
       "    }\n",
       "\n",
       "    .dataframe thead th {\n",
       "        text-align: right;\n",
       "    }\n",
       "</style>\n",
       "<table border=\"1\" class=\"dataframe\">\n",
       "  <thead>\n",
       "    <tr style=\"text-align: right;\">\n",
       "      <th></th>\n",
       "      <th>word</th>\n",
       "      <th>translations</th>\n",
       "      <th>c</th>\n",
       "      <th>freq</th>\n",
       "    </tr>\n",
       "  </thead>\n",
       "  <tbody>\n",
       "    <tr>\n",
       "      <th>0</th>\n",
       "      <td>aircraft</td>\n",
       "      <td>[fly]</td>\n",
       "      <td>None</td>\n",
       "      <td>0.042585</td>\n",
       "    </tr>\n",
       "  </tbody>\n",
       "</table>\n",
       "</div>"
      ],
      "text/plain": [
       "       word translations     c      freq\n",
       "0  aircraft        [fly]  None  0.042585"
      ]
     },
     "execution_count": 5,
     "metadata": {},
     "output_type": "execute_result"
    }
   ],
   "source": [
    "translations_df(trans, 1)"
   ]
  },
  {
   "cell_type": "code",
   "execution_count": 2,
   "metadata": {
    "ExecuteTime": {
     "end_time": "2020-03-18T05:31:11.604710Z",
     "start_time": "2020-03-18T05:31:11.484204Z"
    }
   },
   "outputs": [
    {
     "name": "stdout",
     "output_type": "stream",
     "text": [
      "translate 和: with\n",
      "['sum', 'summation', 'peace']\n",
      "['harmonious', 'kind']\n",
      "['and']\n",
      "dict_keys(['conjunction', 'noun', 'adverb', 'verb', 'adjective'])\n",
      "empty []\n"
     ]
    },
    {
     "data": {
      "text/html": [
       "<div>\n",
       "<style scoped>\n",
       "    .dataframe tbody tr th:only-of-type {\n",
       "        vertical-align: middle;\n",
       "    }\n",
       "\n",
       "    .dataframe tbody tr th {\n",
       "        vertical-align: top;\n",
       "    }\n",
       "\n",
       "    .dataframe thead th {\n",
       "        text-align: right;\n",
       "    }\n",
       "</style>\n",
       "<table border=\"1\" class=\"dataframe\">\n",
       "  <thead>\n",
       "    <tr style=\"text-align: right;\">\n",
       "      <th></th>\n",
       "      <th>word</th>\n",
       "      <th>translations</th>\n",
       "      <th>c</th>\n",
       "      <th>freq</th>\n",
       "    </tr>\n",
       "  </thead>\n",
       "  <tbody>\n",
       "    <tr>\n",
       "      <th>0</th>\n",
       "      <td>sum</td>\n",
       "      <td>[和, 总和, 概括, 金额, 合计, 总数]</td>\n",
       "      <td>[55941]</td>\n",
       "      <td>0.000231</td>\n",
       "    </tr>\n",
       "    <tr>\n",
       "      <th>1</th>\n",
       "      <td>summation</td>\n",
       "      <td>[和, 合计]</td>\n",
       "      <td>[55941]</td>\n",
       "      <td>0.000004</td>\n",
       "    </tr>\n",
       "    <tr>\n",
       "      <th>2</th>\n",
       "      <td>peace</td>\n",
       "      <td>[和平, 和睦, 和约, 和, 安, 安乐]</td>\n",
       "      <td>None</td>\n",
       "      <td>0.000001</td>\n",
       "    </tr>\n",
       "  </tbody>\n",
       "</table>\n",
       "</div>"
      ],
      "text/plain": [
       "        word             translations        c      freq\n",
       "0        sum  [和, 总和, 概括, 金额, 合计, 总数]  [55941]  0.000231\n",
       "1  summation                  [和, 合计]  [55941]  0.000004\n",
       "2      peace   [和平, 和睦, 和约, 和, 安, 安乐]     None  0.000001"
      ]
     },
     "execution_count": 2,
     "metadata": {},
     "output_type": "execute_result"
    }
   ],
   "source": [
    "from sagas.nlu.translator import translate, with_words, WordsObserver\n",
    "lang='zh'\n",
    "word='和'\n",
    "r, t = translate(word, source=lang, target='en', \n",
    "                 options={'get_pronounce'}, tracker=with_words())\n",
    "print(f\"translate {word}: {r}\")\n",
    "ob=t.observer(WordsObserver)\n",
    "print(ob.get_candidates('n'))\n",
    "print(ob.get_candidates('a'))\n",
    "print(ob.get_candidates('*'))\n",
    "print(ob.trans_dfs.keys())\n",
    "print('empty', ob.get_candidates('xx'))\n",
    "ob.trans_dfs['noun']"
   ]
  }
 ],
 "metadata": {
  "kernelspec": {
   "display_name": "Python 3",
   "language": "python",
   "name": "python3"
  },
  "language_info": {
   "codemirror_mode": {
    "name": "ipython",
    "version": 3
   },
   "file_extension": ".py",
   "mimetype": "text/x-python",
   "name": "python",
   "nbconvert_exporter": "python",
   "pygments_lexer": "ipython3",
   "version": "3.6.6"
  },
  "varInspector": {
   "cols": {
    "lenName": 16,
    "lenType": 16,
    "lenVar": 40
   },
   "kernels_config": {
    "python": {
     "delete_cmd_postfix": "",
     "delete_cmd_prefix": "del ",
     "library": "var_list.py",
     "varRefreshCmd": "print(var_dic_list())"
    },
    "r": {
     "delete_cmd_postfix": ") ",
     "delete_cmd_prefix": "rm(",
     "library": "var_list.r",
     "varRefreshCmd": "cat(var_dic_list()) "
    }
   },
   "types_to_exclude": [
    "module",
    "function",
    "builtin_function_or_method",
    "instance",
    "_Feature"
   ],
   "window_display": false
  }
 },
 "nbformat": 4,
 "nbformat_minor": 2
}
