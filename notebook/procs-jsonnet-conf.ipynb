{
 "cells": [
  {
   "cell_type": "code",
   "execution_count": 1,
   "metadata": {
    "ExecuteTime": {
     "end_time": "2020-06-25T16:57:54.654492Z",
     "start_time": "2020-06-25T16:57:54.622191Z"
    }
   },
   "outputs": [
    {
     "data": {
      "text/plain": [
       "'/Users/xiaofeiwu/listings'"
      ]
     },
     "execution_count": 1,
     "metadata": {},
     "output_type": "execute_result"
    }
   ],
   "source": [
    "import json\n",
    "import _jsonnet\n",
    "from os.path import expanduser\n",
    "conf_dir=expanduser('~/listings')\n",
    "conf_dir"
   ]
  },
  {
   "cell_type": "code",
   "execution_count": 15,
   "metadata": {
    "ExecuteTime": {
     "end_time": "2020-06-25T17:34:23.389974Z",
     "start_time": "2020-06-25T17:34:23.349301Z"
    }
   },
   "outputs": [
    {
     "data": {
      "text/plain": [
       "{'Examples': {'echo': {'conf': 'Simple',\n",
       "   'input': {'setence': 'Hugging Face is a technology company based in New York and Paris'}}},\n",
       " 'Simple': {'friends': [1, 2, '3'],\n",
       "  'id': '123',\n",
       "  'signup_ts': '2019-06-01 12:22',\n",
       "  'type': 'sagas.listings.testing.simple_co.SimpleCo'}}"
      ]
     },
     "execution_count": 15,
     "metadata": {},
     "output_type": "execute_result"
    }
   ],
   "source": [
    "import io\n",
    "encoding=\"utf-8\"\n",
    "filename=f\"{conf_dir}/simple.jsonnet\"\n",
    "with io.open(filename, encoding=encoding) as f:\n",
    "    jsonnet_str=f.read()\n",
    "json_str = _jsonnet.evaluate_snippet(\n",
    "    \"snippet\", jsonnet_str,\n",
    "    ext_vars={})\n",
    "json_obj = json.loads(json_str)\n",
    "json_obj"
   ]
  },
  {
   "cell_type": "code",
   "execution_count": 12,
   "metadata": {
    "ExecuteTime": {
     "end_time": "2020-06-25T17:33:43.988209Z",
     "start_time": "2020-06-25T17:33:43.980287Z"
    }
   },
   "outputs": [
    {
     "data": {
      "text/plain": [
       "(SimpleConf(type='sagas.listings.testing.simple_co.SimpleCo', id=123, signup_ts=datetime.datetime(2019, 6, 1, 12, 22), friends=[1, 2, 3], prefix='translate English to German'),\n",
       " {'input': 'hello',\n",
       "  'result': SimpleConf(type='sagas.listings.testing.simple_co.SimpleCo', id=123, signup_ts=datetime.datetime(2019, 6, 1, 12, 22), friends=[1, 2, 3], prefix='translate English to German')})"
      ]
     },
     "execution_count": 12,
     "metadata": {},
     "output_type": "execute_result"
    }
   ],
   "source": [
    "from sagas.conf.conf import load_class\n",
    "simple=json_obj['Simple']\n",
    "co_clz=load_class(simple['type'])\n",
    "co=co_clz(simple)\n",
    "co.conf, co.proc('hello')"
   ]
  },
  {
   "cell_type": "code",
   "execution_count": 16,
   "metadata": {
    "ExecuteTime": {
     "end_time": "2020-06-25T17:36:48.366429Z",
     "start_time": "2020-06-25T17:36:48.358896Z"
    }
   },
   "outputs": [
    {
     "data": {
      "text/plain": [
       "{'echo': {'conf': 'Simple',\n",
       "  'input': {'setence': 'Hugging Face is a technology company based in New York and Paris'}}}"
      ]
     },
     "execution_count": 16,
     "metadata": {},
     "output_type": "execute_result"
    }
   ],
   "source": [
    "json_obj['Examples']"
   ]
  }
 ],
 "metadata": {
  "kernelspec": {
   "display_name": "Python 3",
   "language": "python",
   "name": "python3"
  },
  "language_info": {
   "codemirror_mode": {
    "name": "ipython",
    "version": 3
   },
   "file_extension": ".py",
   "mimetype": "text/x-python",
   "name": "python",
   "nbconvert_exporter": "python",
   "pygments_lexer": "ipython3",
   "version": "3.7.7"
  },
  "varInspector": {
   "cols": {
    "lenName": 16,
    "lenType": 16,
    "lenVar": 40
   },
   "kernels_config": {
    "python": {
     "delete_cmd_postfix": "",
     "delete_cmd_prefix": "del ",
     "library": "var_list.py",
     "varRefreshCmd": "print(var_dic_list())"
    },
    "r": {
     "delete_cmd_postfix": ") ",
     "delete_cmd_prefix": "rm(",
     "library": "var_list.r",
     "varRefreshCmd": "cat(var_dic_list()) "
    }
   },
   "types_to_exclude": [
    "module",
    "function",
    "builtin_function_or_method",
    "instance",
    "_Feature"
   ],
   "window_display": false
  }
 },
 "nbformat": 4,
 "nbformat_minor": 4
}
