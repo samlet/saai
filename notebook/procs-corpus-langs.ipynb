{
 "cells": [
  {
   "cell_type": "code",
   "execution_count": 4,
   "metadata": {
    "ExecuteTime": {
     "end_time": "2020-04-02T14:32:46.995403Z",
     "start_time": "2020-04-02T14:32:46.923544Z"
    }
   },
   "outputs": [
    {
     "data": {
      "text/plain": [
       "['Activities',\n",
       " 'Adjectives 1',\n",
       " 'Adjectives 2',\n",
       " 'Adjectives 3',\n",
       " 'Adverbs',\n",
       " 'Appointment',\n",
       " 'Around the house',\n",
       " 'Asking for directions',\n",
       " 'Asking questions 1',\n",
       " 'Asking questions 2',\n",
       " 'At school',\n",
       " 'At the airport',\n",
       " 'At the bank',\n",
       " 'At the cinema',\n",
       " 'At the doctor',\n",
       " 'At the post office',\n",
       " 'At the restaurant 1',\n",
       " 'At the restaurant 2',\n",
       " 'At the restaurant 3',\n",
       " 'At the restaurant 4',\n",
       " 'At the train station',\n",
       " 'At the zoo',\n",
       " 'Beverages',\n",
       " 'Car breakdown',\n",
       " 'City tour',\n",
       " 'Colors',\n",
       " 'Conjunctions 1',\n",
       " 'Conjunctions 2',\n",
       " 'Conjunctions 3',\n",
       " 'Conjunctions 4',\n",
       " 'Countries and Languages',\n",
       " 'Days of the week',\n",
       " 'Double connectors',\n",
       " 'En route',\n",
       " 'Family Members',\n",
       " 'Feelings',\n",
       " 'Fruits and food',\n",
       " 'Genitive',\n",
       " 'Getting to know others',\n",
       " 'Going out in the evening',\n",
       " 'House cleaning',\n",
       " 'Imperative 1',\n",
       " 'Imperative 2',\n",
       " 'In nature',\n",
       " 'In the city',\n",
       " 'In the department store',\n",
       " 'In the discotheque',\n",
       " 'In the hotel – Arrival',\n",
       " 'In the hotel – Complaints',\n",
       " 'In the kitchen',\n",
       " 'In the swimming pool',\n",
       " 'In the taxi',\n",
       " 'Learning foreign languages',\n",
       " 'Months',\n",
       " 'Negation 1',\n",
       " 'Negation 2',\n",
       " 'Numbers',\n",
       " 'On the train',\n",
       " 'Ordinal numbers',\n",
       " 'Parts of the body',\n",
       " 'Past tense 1',\n",
       " 'Past tense 2',\n",
       " 'Past tense 3',\n",
       " 'Past tense 4',\n",
       " 'Past tense of modal verbs 1',\n",
       " 'Past tense of modal verbs 2',\n",
       " 'People',\n",
       " 'Possessive pronouns 1',\n",
       " 'Possessive pronouns 2',\n",
       " 'Preparing a trip',\n",
       " 'Public transportation',\n",
       " 'Questions – Past tense 1',\n",
       " 'Questions – Past tense 2',\n",
       " 'Reading and writing',\n",
       " 'Running errands',\n",
       " 'Seasons and Weather',\n",
       " 'Shopping',\n",
       " 'Shops',\n",
       " 'Small Talk 1',\n",
       " 'Small Talk 2',\n",
       " 'Small Talk 3',\n",
       " 'Sports',\n",
       " 'Subordinate clauses: if',\n",
       " 'Subordinate clauses: that 1',\n",
       " 'Subordinate clauses: that 2',\n",
       " 'The time',\n",
       " 'Vacation activities',\n",
       " 'Where is ... ?',\n",
       " 'Working',\n",
       " 'Yesterday – today – tomorrow',\n",
       " 'asking for something',\n",
       " 'big – small',\n",
       " 'giving reasons 1',\n",
       " 'giving reasons 2',\n",
       " 'giving reasons 3',\n",
       " 'to be allowed to',\n",
       " 'to have to do something / must',\n",
       " 'to like something',\n",
       " 'to need – to want to',\n",
       " 'to want something']"
      ]
     },
     "execution_count": 4,
     "metadata": {},
     "output_type": "execute_result"
    }
   ],
   "source": [
    "import pandas as pd\n",
    "def list_chapter_titles(lang):\n",
    "    dfjson = pd.read_json(f'~/pi/stack/crawlers/langcrs/all_{lang}.json')\n",
    "    return [name for name, group in dfjson.groupby('chapter')]\n",
    "list_chapter_titles('es')"
   ]
  },
  {
   "cell_type": "code",
   "execution_count": 5,
   "metadata": {
    "ExecuteTime": {
     "end_time": "2020-04-02T14:34:16.774637Z",
     "start_time": "2020-04-02T14:34:16.723665Z"
    },
    "scrolled": true
   },
   "outputs": [
    {
     "data": {
      "text/html": [
       "<div>\n",
       "<style scoped>\n",
       "    .dataframe tbody tr th:only-of-type {\n",
       "        vertical-align: middle;\n",
       "    }\n",
       "\n",
       "    .dataframe tbody tr th {\n",
       "        vertical-align: top;\n",
       "    }\n",
       "\n",
       "    .dataframe thead th {\n",
       "        text-align: right;\n",
       "    }\n",
       "</style>\n",
       "<table border=\"1\" class=\"dataframe\">\n",
       "  <thead>\n",
       "    <tr style=\"text-align: right;\">\n",
       "      <th></th>\n",
       "      <th>chapter</th>\n",
       "      <th>index</th>\n",
       "      <th>text</th>\n",
       "      <th>translate</th>\n",
       "      <th>translit</th>\n",
       "      <th>audio</th>\n",
       "    </tr>\n",
       "  </thead>\n",
       "  <tbody>\n",
       "    <tr>\n",
       "      <th>0</th>\n",
       "      <td>People</td>\n",
       "      <td>1</td>\n",
       "      <td>I</td>\n",
       "      <td>yo</td>\n",
       "      <td></td>\n",
       "      <td>https://www.book2.nl/book2/ES/SOUND/0003.mp3</td>\n",
       "    </tr>\n",
       "    <tr>\n",
       "      <th>1</th>\n",
       "      <td>People</td>\n",
       "      <td>2</td>\n",
       "      <td>I and you</td>\n",
       "      <td>yo y tú</td>\n",
       "      <td></td>\n",
       "      <td>https://www.book2.nl/book2/ES/SOUND/0004.mp3</td>\n",
       "    </tr>\n",
       "    <tr>\n",
       "      <th>2</th>\n",
       "      <td>People</td>\n",
       "      <td>3</td>\n",
       "      <td>both of us</td>\n",
       "      <td>nosotros / nosotras dos</td>\n",
       "      <td></td>\n",
       "      <td>https://www.book2.nl/book2/ES/SOUND/0005.mp3</td>\n",
       "    </tr>\n",
       "    <tr>\n",
       "      <th>3</th>\n",
       "      <td>People</td>\n",
       "      <td>4</td>\n",
       "      <td>he</td>\n",
       "      <td>él</td>\n",
       "      <td></td>\n",
       "      <td>https://www.book2.nl/book2/ES/SOUND/0006.mp3</td>\n",
       "    </tr>\n",
       "    <tr>\n",
       "      <th>4</th>\n",
       "      <td>People</td>\n",
       "      <td>5</td>\n",
       "      <td>he and she</td>\n",
       "      <td>él y ella</td>\n",
       "      <td></td>\n",
       "      <td>https://www.book2.nl/book2/ES/SOUND/0007.mp3</td>\n",
       "    </tr>\n",
       "  </tbody>\n",
       "</table>\n",
       "</div>"
      ],
      "text/plain": [
       "  chapter  index        text                translate translit  \\\n",
       "0  People      1           I                       yo            \n",
       "1  People      2   I and you                  yo y tú            \n",
       "2  People      3  both of us  nosotros / nosotras dos            \n",
       "3  People      4          he                       él            \n",
       "4  People      5  he and she                él y ella            \n",
       "\n",
       "                                          audio  \n",
       "0  https://www.book2.nl/book2/ES/SOUND/0003.mp3  \n",
       "1  https://www.book2.nl/book2/ES/SOUND/0004.mp3  \n",
       "2  https://www.book2.nl/book2/ES/SOUND/0005.mp3  \n",
       "3  https://www.book2.nl/book2/ES/SOUND/0006.mp3  \n",
       "4  https://www.book2.nl/book2/ES/SOUND/0007.mp3  "
      ]
     },
     "execution_count": 5,
     "metadata": {},
     "output_type": "execute_result"
    }
   ],
   "source": [
    "lang='es'\n",
    "dfjson = pd.read_json(f'~/pi/stack/crawlers/langcrs/all_{lang}.json')\n",
    "dfjson.head()"
   ]
  },
  {
   "cell_type": "code",
   "execution_count": 13,
   "metadata": {
    "ExecuteTime": {
     "end_time": "2020-04-02T14:41:07.073027Z",
     "start_time": "2020-04-02T14:41:06.862988Z"
    }
   },
   "outputs": [
    {
     "name": "stdout",
     "output_type": "stream",
     "text": [
      "root: estamos(estar; we're, verb, 2)\n",
      "├── obl: escuela(escuela; school, noun, 5)\n",
      "│   ├── det: la(el; the, det, 4)\n",
      "│   └── case: en(en; in, adp, 3)\n",
      "├── nsubj: Nosotros(yo; We, pron, 1)\n",
      "└── punct: .(_, punct, 6)\n"
     ]
    }
   ],
   "source": [
    "from sagas.nlu.nlu_tools import vis_tree\n",
    "from sagas.nlu.ruleset_procs import cached_chunks\n",
    "chunks = cached_chunks('Nosotros estamos en la escuela.',\n",
    "                       source='es',\n",
    "                       engine='stanza')\n",
    "ds=chunks['root_domains'][0]\n",
    "vis_tree(ds, 'es', trans=True)"
   ]
  },
  {
   "cell_type": "code",
   "execution_count": 33,
   "metadata": {
    "ExecuteTime": {
     "end_time": "2020-04-02T15:27:36.260733Z",
     "start_time": "2020-04-02T15:27:36.251303Z"
    }
   },
   "outputs": [
    {
     "data": {
      "text/plain": [
       "False"
      ]
     },
     "execution_count": 33,
     "metadata": {},
     "output_type": "execute_result"
    }
   ],
   "source": [
    "any([])"
   ]
  },
  {
   "cell_type": "code",
   "execution_count": 52,
   "metadata": {
    "ExecuteTime": {
     "end_time": "2020-04-02T16:03:25.854698Z",
     "start_time": "2020-04-02T16:03:24.759822Z"
    }
   },
   "outputs": [
    {
     "name": "stdout",
     "output_type": "stream",
     "text": [
      "- 0 Where are we? ----------\n",
      "Dónde estamos? 1\n",
      "root: estamos VERB\n",
      "|-- obl: Dónde PRON\n",
      "+-- punct: ? PUNCT\n",
      "- 1 We are at school. ----------\n",
      "Nosotros estamos en la escuela. 1\n",
      "✔[verb-nsubj-noun] estamos Nosotros obl escuela\n",
      "root: estamos VERB\n",
      "|-- obl: escuela NOUN\n",
      "|   |-- det: la DET\n",
      "|   +-- case: en ADP\n",
      "|-- nsubj: Nosotros PRON\n",
      "+-- punct: . PUNCT\n",
      "- 2 We are having class / a lesson. ----------\n",
      "Nosotros tenemos clase. 1\n",
      "✔[verb-nsubj-obj] tenemos Nosotros clase\n",
      "root: tenemos VERB\n",
      "|-- punct: . PUNCT\n",
      "|-- nsubj: Nosotros PRON\n",
      "+-- obj: clase NOUN\n",
      "- 3 Those are the school children. ----------\n",
      "- 4 That is the teacher. ----------\n",
      "- 5 That is the class. ----------\n",
      "- 6 What are we doing? ----------\n",
      "Qué hacemos? 1\n",
      "root: hacemos VERB\n",
      "|-- punct: ? PUNCT\n",
      "+-- obj: Qué PRON\n",
      "- 7 We are learning. ----------\n",
      "Nosotros estudiamos. 1\n",
      "root: estudiamos VERB\n",
      "|-- punct: . PUNCT\n",
      "+-- nsubj: Nosotros PRON\n",
      "- 8 We are learning a language. ----------\n",
      "Nosotros estudiamos un idioma. 1\n",
      "✔[verb-nsubj-obj] estudiamos Nosotros idioma\n",
      "root: estudiamos VERB\n",
      "|-- punct: . PUNCT\n",
      "|-- nsubj: Nosotros PRON\n",
      "+-- obj: idioma NOUN\n",
      "    +-- det: un DET\n",
      "- 9 I learn English. ----------\n",
      "Yo estudio inglés. 1\n",
      "✔[verb-nsubj-obj] estudio Yo inglés\n",
      "root: estudio VERB\n",
      "|-- punct: . PUNCT\n",
      "|-- nsubj: Yo PRON\n",
      "+-- obj: inglés ADJ\n",
      "- 10 You learn Spanish. ----------\n",
      "Tú estudias español. 1\n",
      "✔[verb-nsubj-obj] estudias Tú español\n",
      "root: estudias VERB\n",
      "|-- punct: . PUNCT\n",
      "|-- nsubj: Tú PRON\n",
      "+-- obj: español ADJ\n",
      "- 11 He learns German. ----------\n",
      "Él estudia alemán. 1\n",
      "✔[verb-nsubj-obj] estudia Él alemán\n",
      "root: estudia VERB\n",
      "|-- punct: . PUNCT\n",
      "|-- nsubj: Él PRON\n",
      "+-- obj: alemán ADJ\n",
      "- 12 We learn French. ----------\n",
      "Nosotros estudiamos francés. 1\n",
      "✔[verb-nsubj-obj] estudiamos Nosotros francés\n",
      "root: estudiamos VERB\n",
      "|-- punct: . PUNCT\n",
      "|-- nsubj: Nosotros PRON\n",
      "+-- obj: francés NOUN\n",
      "- 13 You all learn Italian. ----------\n",
      "- 14 They learn Russian. ----------\n",
      "Ellos estudian ruso. 1\n",
      "✔[verb-nsubj-obj] estudian Ellos ruso\n",
      "root: estudian VERB\n",
      "|-- punct: . PUNCT\n",
      "|-- nsubj: Ellos PRON\n",
      "+-- obj: ruso ADJ\n",
      "- 15 Learning languages is interesting. ----------\n",
      "Estudiar idiomas es interesante. 1\n",
      "root: interesante ADJ\n",
      "|-- csubj: Estudiar VERB\n",
      "|   +-- obj: idiomas NOUN\n",
      "|-- punct: . PUNCT\n",
      "+-- cop: es AUX\n",
      "- 16 We want to understand people. ----------\n",
      "Nosotros queremos comprender a la gente. 2\n",
      "✔[verb-nsubj-obj] queremos Nosotros gente\n",
      "root: queremos VERB\n",
      "|-- punct: . PUNCT\n",
      "|-- xcomp: comprender VERB\n",
      "|   +-- obj: gente NOUN\n",
      "+-- nsubj: Nosotros PRON\n",
      "- 17 We want to speak with people. ----------\n",
      "Nosotros queremos hablar con la gente. 2\n",
      "✔[verb-nsubj-obj] queremos Nosotros gente\n",
      "root: queremos VERB\n",
      "|-- punct: . PUNCT\n",
      "|-- xcomp: hablar VERB\n",
      "|   +-- obj: gente NOUN\n",
      "+-- nsubj: Nosotros PRON\n"
     ]
    },
    {
     "data": {
      "text/plain": [
       "(18, 10)"
      ]
     },
     "execution_count": 52,
     "metadata": {},
     "output_type": "execute_result"
    }
   ],
   "source": [
    "from sagas.nlu.utils import fix_sents\n",
    "from sagas.nlu.nlu_tools import treeing\n",
    "from sagas.nlu.features import get_feats_map, feats_map\n",
    "from anytree import Node, RenderTree, AsciiStyle, Walker, Resolver\n",
    "from anytree.importer import DictImporter\n",
    "from anytree.search import findall, findall_by_attr\n",
    "\n",
    "importer = DictImporter()\n",
    "\n",
    "def proc_verb_subs(node):\n",
    "    toks=findall_by_attr(node, name='dependency_relation', value='nsubj')\n",
    "    if toks:\n",
    "        tok=toks[0]\n",
    "        objs=findall(node, filter_=lambda n: n.dependency_relation in (\"obj\"))\n",
    "        if objs:\n",
    "            print('✔[verb-nsubj-obj]', node.text, tok.text, objs[0].text)\n",
    "            return True\n",
    "        objs=findall_by_attr(node, name='upos', value='NOUN')\n",
    "        # objs=findall(f, filter_=lambda node: node.upos in (\"NOUN\", \"ADJ\"))\n",
    "        if objs:\n",
    "            print('✔[verb-nsubj-noun]', node.text, tok.text, \n",
    "                  objs[0].dependency_relation, objs[0].text)  \n",
    "            return True\n",
    "    return False\n",
    "    \n",
    "def digest(sents, lang, engine='stanza'):\n",
    "    chunks = cached_chunks(sents,\n",
    "                       source=lang,\n",
    "                       engine=engine)\n",
    "    root=chunks['root_domains']\n",
    "    ds=treeing(root[0])\n",
    "    f = importer.import_(ds)\n",
    "    words=findall_by_attr(f, name='upos', value='VERB')\n",
    "    if words:\n",
    "        print(sents, len(words))\n",
    "        rs=[]\n",
    "        for w in words:\n",
    "            rs.append(proc_verb_subs(w))\n",
    "        print(RenderTree(f, style=AsciiStyle()).by_attr(lambda n: f\"{n.dependency_relation}: {n.text} {n.upos}\"))\n",
    "        return any(rs)\n",
    "    return False\n",
    "\n",
    "def proc_corpus(lang, chapter):\n",
    "    dfjson = pd.read_json(f'~/pi/stack/crawlers/langcrs/all_{lang}.json')\n",
    "    ch=dfjson[dfjson['chapter'].str.match(chapter)]\n",
    "    rs_map={}\n",
    "    for i, (sent,ref) in enumerate(zip(ch['translate'], ch['text'])):\n",
    "        text=fix_sents(sent, lang)\n",
    "        print('-', i, ref, '-'*10)\n",
    "        # digest(text, 'spacy')\n",
    "        rs_map[i]=digest(text, lang, 'stanza')\n",
    "    return len(ch), len([t for t in rs_map.values() if t])    \n",
    "\n",
    "proc_corpus('es', 'At school')\n",
    "# proc_corpus('es', 'Public transportation')\n",
    "# proc_corpus('fr')\n",
    "# proc_corpus('de')\n",
    "# proc_corpus('ru')\n",
    "# proc_corpus('ja', 'At school')\n",
    "# proc_corpus('fa', 'At school')\n",
    "# proc_corpus('id', 'At school')"
   ]
  }
 ],
 "metadata": {
  "kernelspec": {
   "display_name": "Python 3",
   "language": "python",
   "name": "python3"
  },
  "language_info": {
   "codemirror_mode": {
    "name": "ipython",
    "version": 3
   },
   "file_extension": ".py",
   "mimetype": "text/x-python",
   "name": "python",
   "nbconvert_exporter": "python",
   "pygments_lexer": "ipython3",
   "version": "3.6.6"
  },
  "varInspector": {
   "cols": {
    "lenName": 16,
    "lenType": 16,
    "lenVar": 40
   },
   "kernels_config": {
    "python": {
     "delete_cmd_postfix": "",
     "delete_cmd_prefix": "del ",
     "library": "var_list.py",
     "varRefreshCmd": "print(var_dic_list())"
    },
    "r": {
     "delete_cmd_postfix": ") ",
     "delete_cmd_prefix": "rm(",
     "library": "var_list.r",
     "varRefreshCmd": "cat(var_dic_list()) "
    }
   },
   "types_to_exclude": [
    "module",
    "function",
    "builtin_function_or_method",
    "instance",
    "_Feature"
   ],
   "window_display": false
  }
 },
 "nbformat": 4,
 "nbformat_minor": 2
}
