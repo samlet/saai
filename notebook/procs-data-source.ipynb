{
 "cells": [
  {
   "cell_type": "code",
   "execution_count": 1,
   "metadata": {
    "ExecuteTime": {
     "end_time": "2020-04-12T18:53:12.584712Z",
     "start_time": "2020-04-12T18:53:11.386745Z"
    }
   },
   "outputs": [
    {
     "data": {
      "text/html": [
       "<div>\n",
       "<style scoped>\n",
       "    .dataframe tbody tr th:only-of-type {\n",
       "        vertical-align: middle;\n",
       "    }\n",
       "\n",
       "    .dataframe tbody tr th {\n",
       "        vertical-align: top;\n",
       "    }\n",
       "\n",
       "    .dataframe thead th {\n",
       "        text-align: right;\n",
       "    }\n",
       "</style>\n",
       "<table border=\"1\" class=\"dataframe\">\n",
       "  <thead>\n",
       "    <tr style=\"text-align: right;\">\n",
       "      <th></th>\n",
       "      <th>id</th>\n",
       "      <th>name</th>\n",
       "      <th>cuisine</th>\n",
       "      <th>price_range</th>\n",
       "      <th>outside_seating</th>\n",
       "    </tr>\n",
       "  </thead>\n",
       "  <tbody>\n",
       "    <tr>\n",
       "      <th>0</th>\n",
       "      <td>1</td>\n",
       "      <td>Donath</td>\n",
       "      <td>Italian</td>\n",
       "      <td>mid-range</td>\n",
       "      <td>1</td>\n",
       "    </tr>\n",
       "    <tr>\n",
       "      <th>1</th>\n",
       "      <td>2</td>\n",
       "      <td>Berlin Burrito Company</td>\n",
       "      <td>Mexican</td>\n",
       "      <td>cheap</td>\n",
       "      <td>0</td>\n",
       "    </tr>\n",
       "    <tr>\n",
       "      <th>2</th>\n",
       "      <td>3</td>\n",
       "      <td>I due forni</td>\n",
       "      <td>Italian</td>\n",
       "      <td>mid-range</td>\n",
       "      <td>1</td>\n",
       "    </tr>\n",
       "    <tr>\n",
       "      <th>3</th>\n",
       "      <td>4</td>\n",
       "      <td>Lụa Restaurant</td>\n",
       "      <td>Vietnamese</td>\n",
       "      <td>cheap</td>\n",
       "      <td>1</td>\n",
       "    </tr>\n",
       "    <tr>\n",
       "      <th>4</th>\n",
       "      <td>5</td>\n",
       "      <td>Pfefferberg</td>\n",
       "      <td>German</td>\n",
       "      <td>mid-range</td>\n",
       "      <td>1</td>\n",
       "    </tr>\n",
       "    <tr>\n",
       "      <th>5</th>\n",
       "      <td>6</td>\n",
       "      <td>Marubi Ramen</td>\n",
       "      <td>Japanese</td>\n",
       "      <td>cheap</td>\n",
       "      <td>0</td>\n",
       "    </tr>\n",
       "    <tr>\n",
       "      <th>6</th>\n",
       "      <td>7</td>\n",
       "      <td>Gong Gan</td>\n",
       "      <td>Korean</td>\n",
       "      <td>cheap</td>\n",
       "      <td>1</td>\n",
       "    </tr>\n",
       "  </tbody>\n",
       "</table>\n",
       "</div>"
      ],
      "text/plain": [
       "   id                    name     cuisine price_range  outside_seating\n",
       "0   1                  Donath     Italian   mid-range                1\n",
       "1   2  Berlin Burrito Company     Mexican       cheap                0\n",
       "2   3             I due forni     Italian   mid-range                1\n",
       "3   4          Lụa Restaurant  Vietnamese       cheap                1\n",
       "4   5             Pfefferberg      German   mid-range                1\n",
       "5   6            Marubi Ramen    Japanese       cheap                0\n",
       "6   7                Gong Gan      Korean       cheap                1"
      ]
     },
     "execution_count": 1,
     "metadata": {},
     "output_type": "execute_result"
    }
   ],
   "source": [
    "from sagas.modules.life.data_source import engine, restaurant, hotel, metadata\n",
    "import pandas as pd\n",
    "import json\n",
    "\n",
    "# table_name='hotel'\n",
    "table_name='restaurant'\n",
    "query = f\"select * from {table_name}\"\n",
    "df = pd.read_sql_query(query, engine)\n",
    "df"
   ]
  },
  {
   "cell_type": "code",
   "execution_count": 2,
   "metadata": {
    "ExecuteTime": {
     "end_time": "2020-04-12T18:53:17.950960Z",
     "start_time": "2020-04-12T18:53:17.932346Z"
    }
   },
   "outputs": [
    {
     "data": {
      "text/plain": [
       "['hotel', 'restaurant', 'users', 'addresses']"
      ]
     },
     "execution_count": 2,
     "metadata": {},
     "output_type": "execute_result"
    }
   ],
   "source": [
    "# restaurant\n",
    "[t.name for t in metadata.sorted_tables]"
   ]
  },
  {
   "cell_type": "code",
   "execution_count": 3,
   "metadata": {
    "ExecuteTime": {
     "end_time": "2020-04-12T18:53:36.764305Z",
     "start_time": "2020-04-12T18:53:36.741239Z"
    }
   },
   "outputs": [
    {
     "name": "stdout",
     "output_type": "stream",
     "text": [
      "pk hotel.id\n",
      "id INTEGER\n",
      "name VARCHAR(100)\n",
      "city VARCHAR(50)\n",
      "price_range VARCHAR(50)\n",
      "breakfast_included BOOLEAN\n",
      "free_wifi BOOLEAN\n",
      "swimming_pool BOOLEAN\n",
      "star_rating INTEGER\n"
     ]
    }
   ],
   "source": [
    "for primary_key in hotel.primary_key:\n",
    "    print('pk', primary_key)\n",
    "for c in hotel.c:\n",
    "    print(c.name, c.type)"
   ]
  },
  {
   "cell_type": "code",
   "execution_count": 23,
   "metadata": {
    "ExecuteTime": {
     "end_time": "2020-04-12T19:48:05.111715Z",
     "start_time": "2020-04-12T19:48:04.848324Z"
    }
   },
   "outputs": [
    {
     "name": "stdout",
     "output_type": "stream",
     "text": [
      "root: list (list, verb)\n",
      "|-- obj: restaurants (restaurant, noun)\n",
      "|   +-- det: some (some, det)\n",
      "+-- punct: . (., punct)\n",
      "restaurants {'InstitutePlace|场所'} True True False\n",
      "-------------------------\n",
      "✔ restaurant [('InstitutePlace|场所', True), ('location: eat|吃', True), ('domain: commerce|商业', True)]\n",
      "[{'cuisine': 'Italian',\n",
      "  'id': 1,\n",
      "  'name': 'Donath',\n",
      "  'outside_seating': 1,\n",
      "  'price_range': 'mid-range'},\n",
      " {'cuisine': 'Mexican',\n",
      "  'id': 2,\n",
      "  'name': 'Berlin Burrito Company',\n",
      "  'outside_seating': 0,\n",
      "  'price_range': 'cheap'}]\n",
      "-------------------------\n",
      "✘ hotel [('InstitutePlace|场所', True), ('location: eat|吃', True), ('location: reside|住下', False), ('domain: commerce|商业', True)]\n"
     ]
    }
   ],
   "source": [
    "from typing import Text, Any, Dict, List, Union, Optional, Tuple, Set\n",
    "from dataclasses import dataclass\n",
    "from sagas.nlu.anal import build_anal_tree, Doc, AnalNode\n",
    "from sagas.nlu.anal_corpus import model_info\n",
    "from sagas.modules.life.data_source import engine, restaurant, hotel, metadata\n",
    "from sagas.nlu.anal_expr import match\n",
    "from sagas.nlu.anal_data_types import behave_, desc_, phrase_, rel_, path_, _\n",
    "import pandas as pd\n",
    "import json\n",
    "from pprint import pprint\n",
    "    \n",
    "class agent_base(object):\n",
    "    def __init__(self, ds):\n",
    "        self.ds=ds\n",
    "        \n",
    "@dataclass\n",
    "class ds_meta:\n",
    "    agent: Any\n",
    "    cond: List[Any]\n",
    "\n",
    "class restaurant_agent(agent_base):\n",
    "    def browse(self, pred):\n",
    "        table_name=self.ds.name\n",
    "        query = f\"select * from {table_name} limit 2\"\n",
    "        df = pd.read_sql_query(query, engine)\n",
    "        return json.loads(df.to_json(orient='records'))\n",
    "    def __call__(self, f):\n",
    "        r=match(f,\n",
    "            behave_(_, 'quote|引用', _, _), self.browse,\n",
    "            behave_(_, 'perception|感知', _, _), lambda arg: 'perception',\n",
    "            behave_(_, 'perception|感知', desc_('result|结果', _), _), lambda arg: arg.text,\n",
    "            _, None\n",
    "            )\n",
    "        return r\n",
    "    \n",
    "class hotel_agent(agent_base):\n",
    "    def __call__(self, f):\n",
    "        print(f.text)\n",
    "        return f.text\n",
    "    \n",
    "meta_ls=[ds_meta(restaurant_agent(restaurant), \n",
    "                 ['InstitutePlace|场所', \n",
    "                  'location: eat|吃',\n",
    "                  'domain: commerce|商业'\n",
    "                 ]),\n",
    "         ds_meta(hotel_agent(hotel), \n",
    "                 ['InstitutePlace|场所', \n",
    "                 'location: eat|吃',\n",
    "                 'location: reside|住下',\n",
    "                 'domain: commerce|商业'\n",
    "                 ]),\n",
    "        ]\n",
    "\n",
    "f=build_anal_tree('list some restaurants', 'en', 'stanza')\n",
    "f.draw()\n",
    "target=f.model().target\n",
    "print(target.text, target.types, \n",
    "      target.match('InstitutePlace|场所'),\n",
    "      target.match('location: reside|住下; location: eat|吃'),\n",
    "      target.match('+location: reside|住下; location: eat|吃'),\n",
    "     )\n",
    "\n",
    "for m in meta_ls:\n",
    "    print('-'*25)\n",
    "    \n",
    "    rset=[(cond, target.match(cond)) for cond in m.cond]\n",
    "    succ=all([r for c,r in rset])\n",
    "    print('✔' if succ else '✘', m.agent.ds.name, rset)\n",
    "    if succ:\n",
    "        r=m.agent(f)    \n",
    "        if r:\n",
    "            pprint(r)\n",
    "        else:\n",
    "            print('result -> _')"
   ]
  },
  {
   "cell_type": "code",
   "execution_count": 17,
   "metadata": {
    "ExecuteTime": {
     "end_time": "2020-04-12T18:52:58.206498Z",
     "start_time": "2020-04-12T18:52:58.008341Z"
    }
   },
   "outputs": [
    {
     "name": "stdout",
     "output_type": "stream",
     "text": [
      "list some restaurants\n",
      "root: list (list, verb)\n",
      "|-- obj: restaurants (restaurant, noun)\n",
      "|   +-- det: some (some, det)\n",
      "+-- punct: . (., punct)\n",
      "restaurants {'InstitutePlace|场所'}\n",
      "what restaurants can you recommend?\n",
      "root: recommend (recommend, verb)\n",
      "|-- obj: restaurants (restaurant, noun)\n",
      "|   +-- det: what (what, det)\n",
      "|-- aux: can (can, aux)\n",
      "|-- nsubj: you (you, pron)\n",
      "+-- punct: ? (?, punct)\n",
      "restaurants {'InstitutePlace|场所'}\n",
      "what is the price range of Berlin Burrito Company\n",
      "root: what (what, pron)\n",
      "|-- cop: is (be, aux)\n",
      "|-- nsubj: range (range, noun)\n",
      "|   |-- det: the (the, det)\n",
      "|   |-- compound: price (price, noun)\n",
      "|   +-- nmod: Company (Company, propn)\n",
      "|       |-- case: of (of, adp)\n",
      "|       |-- compound: Berlin (Berlin, propn)\n",
      "|       +-- compound: Burrito (Burrito, propn)\n",
      "+-- punct: . (., punct)\n",
      "range {'facilities|设施', 'Range|幅度', 'Distance|距离'}\n"
     ]
    }
   ],
   "source": [
    "from sagas.nlu.anal import build_anal_tree, Doc, AnalNode\n",
    "from sagas.nlu.anal_corpus import model_info\n",
    "sents=['list some restaurants',\n",
    "      'what restaurants can you recommend?',\n",
    "       'what is the price range of Berlin Burrito Company',\n",
    "      ]\n",
    "for s in sents:\n",
    "    f=build_anal_tree(s, 'en', 'stanza')\n",
    "    print(f.doc.sents)\n",
    "    f.draw()\n",
    "    print(f.model().target.text, f.model().target.types)"
   ]
  },
  {
   "cell_type": "code",
   "execution_count": 16,
   "metadata": {
    "ExecuteTime": {
     "end_time": "2020-04-12T16:36:15.740418Z",
     "start_time": "2020-04-12T16:36:15.713784Z"
    }
   },
   "outputs": [
    {
     "name": "stdout",
     "output_type": "stream",
     "text": [
      "root: list (list, verb)\n",
      "|-- obj: restaurants (restaurant, noun)\n",
      "|   +-- det: some (some, det)\n",
      "+-- punct: . (., punct)\n",
      "restaurants {'InstitutePlace|场所'}\n"
     ]
    }
   ],
   "source": [
    "from sagas.nlu.anal import build_anal_tree, Doc, AnalNode\n",
    "from sagas.nlu.anal_corpus import model_info\n",
    "f=build_anal_tree('list some restaurants', 'en', 'stanza')\n",
    "f.draw()\n",
    "print(f.model().target.text, f.model().target.types)"
   ]
  },
  {
   "cell_type": "code",
   "execution_count": 12,
   "metadata": {
    "ExecuteTime": {
     "end_time": "2020-04-12T16:27:40.915451Z",
     "start_time": "2020-04-12T16:27:38.741475Z"
    }
   },
   "outputs": [
    {
     "name": "stdout",
     "output_type": "stream",
     "text": [
      "0 附近有什么好吃的饭馆\n",
      "root: 有 (有, verb)\n",
      "|-- nsubj: 附近 (附近, noun)\n",
      "+-- obj: 饭馆 (饭馆, noun)\n",
      "    |-- det: 什么 (什么, pron)\n",
      "    +-- amod: 好吃 (好吃, adj)\n",
      "        +-- mark:relcl: 的 (的, part)\n",
      "饭馆 {'InstitutePlace|场所'}\n",
      "*** *** *** *** *** *** *** *** \n",
      "root: 有 (有, verb)\n",
      "|-- adv: 附近 (附近, noun)\n",
      "+-- obj: 饭馆 (饭馆, noun)\n",
      "    |-- att: 什么 (什么, pron)\n",
      "    +-- att: 好吃 (好吃, adj)\n",
      "        +-- rad: 的 (的, part)\n",
      "饭馆 {'InstitutePlace|场所'}\n",
      "*** *** *** *** *** *** *** *** \n",
      "1 你推荐我吃什么菜\n",
      "root: 吃 (吃, verb)\n",
      "|-- nsubj: 你 (你, pron)\n",
      "|-- advcl: 推荐 (推荐, verb)\n",
      "|   +-- obj: 我 (我, pron)\n",
      "+-- obj: 菜 (菜, noun)\n",
      "    +-- det: 什么 (什么, pron)\n",
      "菜 {'part|部件', 'vegetable|蔬菜', 'food|食品'}\n",
      "*** *** *** *** *** *** *** *** \n",
      "root: 推荐 (推荐, verb)\n",
      "|-- nsubj: 你 (你, pron)\n",
      "|-- dbl: 我 (我, pron)\n",
      "+-- obj: 吃 (吃, verb)\n",
      "    +-- obj: 菜 (菜, noun)\n",
      "        +-- att: 什么 (什么, pron)\n",
      "吃 {'eat|吃', 'destroy|消灭', 'exhaust|损耗', 'absorb|吸收', 'alive|活着', 'suffer|遭受'}\n",
      "*** *** *** *** *** *** *** *** \n",
      "2 最便宜的旅馆是哪家？\n",
      "root: 哪家 (哪家, adj)\n",
      "|-- nsubj: 旅馆 (旅馆, noun)\n",
      "|   +-- amod: 便宜 (便宜, adj)\n",
      "|       |-- advmod: 最 (最, adv)\n",
      "|       +-- mark:relcl: 的 (的, part)\n",
      "|-- cop: 是 (是, aux)\n",
      "+-- punct: ？ (？, punct)\n",
      "旅馆 {'InstitutePlace|场所'}\n",
      "*** *** *** *** *** *** *** *** \n",
      "root: 是 (是, verb)\n",
      "|-- nsubj: 旅馆 (旅馆, noun)\n",
      "|   +-- att: 便宜 (便宜, adj)\n",
      "|       |-- adv: 最 (最, adv)\n",
      "|       +-- rad: 的 (的, part)\n",
      "|-- obj: 哪家 (哪家, pron)\n",
      "+-- punct: ？ (？, punct)\n",
      "哪家 set()\n",
      "*** *** *** *** *** *** *** *** \n"
     ]
    }
   ],
   "source": [
    "from sagas.nlu.anal import build_anal_tree, Doc, AnalNode\n",
    "from sagas.nlu.anal_corpus import model_info\n",
    "sents=['附近有什么好吃的饭馆',\n",
    "       '你推荐我吃什么菜',\n",
    "       '最便宜的旅馆是哪家？',\n",
    "      ]\n",
    "for i,s in enumerate(sents):\n",
    "    print(i, s)\n",
    "    for engine in ('stanza', 'ltp'):\n",
    "        f=build_anal_tree(s, 'zh', engine)\n",
    "        f.draw()\n",
    "        if f.model().target:\n",
    "            print(f.model().target.text, f.model().target.types)\n",
    "        print('*** '*8)"
   ]
  },
  {
   "cell_type": "code",
   "execution_count": 8,
   "metadata": {
    "ExecuteTime": {
     "end_time": "2020-04-12T16:19:28.896117Z",
     "start_time": "2020-04-12T16:19:28.881624Z"
    }
   },
   "outputs": [],
   "source": [
    "from sqlalchemy import Table, Column, Integer, String, Boolean, MetaData, ForeignKey, create_engine\n",
    "engine = create_engine('sqlite:///:memory:')\n",
    "metadata = MetaData()\n",
    "\n",
    "user = Table('user', metadata,\n",
    "    Column('user_id', Integer, primary_key=True),\n",
    "    Column('user_name', String(16), nullable=False),\n",
    "    Column('email_address', String(60), key='email'),\n",
    "    Column('nickname', String(50), nullable=False)\n",
    ")\n",
    "\n",
    "user_prefs = Table('user_prefs', metadata,\n",
    "    Column('pref_id', Integer, primary_key=True),\n",
    "    Column('user_id', Integer, ForeignKey(\"user.user_id\"), nullable=False),\n",
    "    Column('pref_name', String(40), nullable=False),\n",
    "    Column('pref_value', String(100))\n",
    ")\n",
    "\n",
    "metadata.create_all(engine)"
   ]
  },
  {
   "cell_type": "code",
   "execution_count": 11,
   "metadata": {
    "ExecuteTime": {
     "end_time": "2020-04-12T16:19:48.935831Z",
     "start_time": "2020-04-12T16:19:48.926383Z"
    }
   },
   "outputs": [
    {
     "data": {
      "text/plain": [
       "['employees', 'user', 'user_prefs']"
      ]
     },
     "execution_count": 11,
     "metadata": {},
     "output_type": "execute_result"
    }
   ],
   "source": [
    "[t.name for t in metadata.sorted_tables]"
   ]
  },
  {
   "cell_type": "code",
   "execution_count": 10,
   "metadata": {
    "ExecuteTime": {
     "end_time": "2020-04-12T16:19:38.936178Z",
     "start_time": "2020-04-12T16:19:38.929465Z"
    }
   },
   "outputs": [],
   "source": [
    "employees = Table('employees', metadata,\n",
    "    Column('employee_id', Integer, primary_key=True),\n",
    "    Column('employee_name', String(60), nullable=False, key='name'),\n",
    "    # Column('employee_dept', Integer, ForeignKey(\"departments.department_id\"))\n",
    ")\n",
    "employees.create(engine)"
   ]
  },
  {
   "cell_type": "code",
   "execution_count": null,
   "metadata": {},
   "outputs": [],
   "source": []
  }
 ],
 "metadata": {
  "kernelspec": {
   "display_name": "Python 3",
   "language": "python",
   "name": "python3"
  },
  "language_info": {
   "codemirror_mode": {
    "name": "ipython",
    "version": 3
   },
   "file_extension": ".py",
   "mimetype": "text/x-python",
   "name": "python",
   "nbconvert_exporter": "python",
   "pygments_lexer": "ipython3",
   "version": "3.6.6"
  },
  "varInspector": {
   "cols": {
    "lenName": 16,
    "lenType": 16,
    "lenVar": 40
   },
   "kernels_config": {
    "python": {
     "delete_cmd_postfix": "",
     "delete_cmd_prefix": "del ",
     "library": "var_list.py",
     "varRefreshCmd": "print(var_dic_list())"
    },
    "r": {
     "delete_cmd_postfix": ") ",
     "delete_cmd_prefix": "rm(",
     "library": "var_list.r",
     "varRefreshCmd": "cat(var_dic_list()) "
    }
   },
   "types_to_exclude": [
    "module",
    "function",
    "builtin_function_or_method",
    "instance",
    "_Feature"
   ],
   "window_display": false
  }
 },
 "nbformat": 4,
 "nbformat_minor": 2
}
