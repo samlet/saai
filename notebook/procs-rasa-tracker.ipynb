{
 "cells": [
  {
   "cell_type": "code",
   "execution_count": 61,
   "metadata": {
    "ExecuteTime": {
     "end_time": "2020-02-18T17:14:49.102237Z",
     "start_time": "2020-02-18T17:14:49.035804Z"
    }
   },
   "outputs": [],
   "source": [
    "from rasa.core.tracker_store import (\n",
    "    TrackerStore,\n",
    "    InMemoryTrackerStore,\n",
    "    RedisTrackerStore)\n",
    "from rasa.core.events import (\n",
    "    SlotSet,\n",
    "    ActionExecuted,\n",
    "    Restarted,\n",
    "    UserUttered,\n",
    "    SessionStarted,\n",
    "    BotUttered,\n",
    "    Event,\n",
    ")\n",
    "from rasa.core.trackers import DialogueStateTracker\n",
    "from rasa.core.domain import Domain\n",
    "\n",
    "def get_default_domain():\n",
    "    content = \"\"\"\n",
    "    actions:\n",
    "      - utter_hello\n",
    "\n",
    "    intents:\n",
    "      - greet\n",
    "      - bye\n",
    "      - affirm\n",
    "      - deny\n",
    "    entities:\n",
    "      - object_type\n",
    "      - mention\n",
    "      - attribute\n",
    "      - sents\n",
    "\n",
    "    slots:\n",
    "      attribute:\n",
    "        type: unfeaturized\n",
    "      mention:\n",
    "        type: unfeaturized\n",
    "      object:\n",
    "        type: unfeaturized\n",
    "      object_type:\n",
    "        type: unfeaturized\n",
    "      parameters:\n",
    "        type: unfeaturized\n",
    "      sents:\n",
    "        type: unfeaturized\n",
    "    \"\"\"\n",
    "    return Domain.from_yaml(content)\n",
    "\n",
    "default_domain=get_default_domain()\n",
    "tracker_store = RedisTrackerStore(\n",
    "        domain=default_domain,\n",
    "        host=\"localhost\",\n",
    "        port=6379,\n",
    "        db=0,\n",
    "        record_exp=3000,\n",
    "    )"
   ]
  },
  {
   "cell_type": "code",
   "execution_count": 40,
   "metadata": {
    "ExecuteTime": {
     "end_time": "2020-02-18T15:21:31.958883Z",
     "start_time": "2020-02-18T15:21:31.950904Z"
    }
   },
   "outputs": [],
   "source": [
    "events = [\n",
    "    UserUttered(\"Hola\", {\"name\": \"greet\"}),\n",
    "    BotUttered(\"Hi\"),\n",
    "    SessionStarted(),\n",
    "    UserUttered(\"Ciao\", {\"name\": \"greet\"}),\n",
    "]\n",
    "sender_id = \"test_sql_tracker_store_with_session_events\"\n",
    "tracker = DialogueStateTracker.from_events(sender_id, events)\n",
    "tracker_store.save(tracker)"
   ]
  },
  {
   "cell_type": "code",
   "execution_count": 57,
   "metadata": {
    "ExecuteTime": {
     "end_time": "2020-02-18T15:31:32.089533Z",
     "start_time": "2020-02-18T15:31:32.044259Z"
    }
   },
   "outputs": [
    {
     "data": {
      "text/plain": [
       "deque([<rasa.core.events.UserUttered at 0x11405cfd0>,\n",
       "       BotUttered('Hi', {}, {}, 1582039291.9532218),\n",
       "       <rasa.core.events.SessionStarted at 0x11405cf60>,\n",
       "       <rasa.core.events.UserUttered at 0x11405cf28>,\n",
       "       <rasa.core.events.Restarted at 0x11405cef0>])"
      ]
     },
     "execution_count": 57,
     "metadata": {},
     "output_type": "execute_result"
    }
   ],
   "source": [
    "tracker = tracker_store.retrieve(sender_id)\n",
    "tracker.events"
   ]
  },
  {
   "cell_type": "code",
   "execution_count": 58,
   "metadata": {
    "ExecuteTime": {
     "end_time": "2020-02-18T15:31:36.479629Z",
     "start_time": "2020-02-18T15:31:36.468311Z"
    }
   },
   "outputs": [
    {
     "data": {
      "text/plain": [
       "{'attribute': None,\n",
       " 'mention': None,\n",
       " 'object': None,\n",
       " 'object_type': None,\n",
       " 'parameters': None,\n",
       " 'sents': None}"
      ]
     },
     "execution_count": 58,
     "metadata": {},
     "output_type": "execute_result"
    }
   ],
   "source": [
    "tracker.current_slot_values()"
   ]
  },
  {
   "cell_type": "code",
   "execution_count": 15,
   "metadata": {
    "ExecuteTime": {
     "end_time": "2020-02-18T14:50:16.025955Z",
     "start_time": "2020-02-18T14:50:16.009539Z"
    }
   },
   "outputs": [
    {
     "data": {
      "text/plain": [
       "'{\"events\": [{\"event\": \"user\", \"timestamp\": 1582037250.804071, \"text\": \"Hola\", \"parse_data\": {\"intent\": {\"name\": \"greet\"}, \"entities\": [], \"text\": \"Hola\", \"message_id\": null, \"metadata\": {}}, \"input_channel\": null, \"message_id\": null, \"metadata\": {}}, {\"event\": \"bot\", \"timestamp\": 1582037250.80408, \"text\": \"Hi\", \"data\": {}, \"metadata\": {}}, {\"event\": \"session_started\", \"timestamp\": 1582037250.8040829}, {\"event\": \"user\", \"timestamp\": 1582037250.804086, \"text\": \"Ciao\", \"parse_data\": {\"intent\": {\"name\": \"greet\"}, \"entities\": [], \"text\": \"Ciao\", \"message_id\": null, \"metadata\": {}}, \"input_channel\": null, \"message_id\": null, \"metadata\": {}}], \"name\": \"test_sql_tracker_store_with_session_events\"}'"
      ]
     },
     "execution_count": 15,
     "metadata": {},
     "output_type": "execute_result"
    }
   ],
   "source": [
    "tracker_store.serialise_tracker(tracker)"
   ]
  },
  {
   "cell_type": "code",
   "execution_count": 16,
   "metadata": {
    "ExecuteTime": {
     "end_time": "2020-02-18T14:50:57.762927Z",
     "start_time": "2020-02-18T14:50:57.755208Z"
    }
   },
   "outputs": [
    {
     "data": {
      "text/plain": [
       "{'events': [{'event': 'user',\n",
       "   'timestamp': 1582037250.804071,\n",
       "   'text': 'Hola',\n",
       "   'parse_data': {'intent': {'name': 'greet'},\n",
       "    'entities': [],\n",
       "    'text': 'Hola',\n",
       "    'message_id': None,\n",
       "    'metadata': {}},\n",
       "   'input_channel': None,\n",
       "   'message_id': None,\n",
       "   'metadata': {}},\n",
       "  {'event': 'bot',\n",
       "   'timestamp': 1582037250.80408,\n",
       "   'text': 'Hi',\n",
       "   'data': {},\n",
       "   'metadata': {}},\n",
       "  {'event': 'session_started', 'timestamp': 1582037250.8040829},\n",
       "  {'event': 'user',\n",
       "   'timestamp': 1582037250.804086,\n",
       "   'text': 'Ciao',\n",
       "   'parse_data': {'intent': {'name': 'greet'},\n",
       "    'entities': [],\n",
       "    'text': 'Ciao',\n",
       "    'message_id': None,\n",
       "    'metadata': {}},\n",
       "   'input_channel': None,\n",
       "   'message_id': None,\n",
       "   'metadata': {}}],\n",
       " 'name': 'test_sql_tracker_store_with_session_events'}"
      ]
     },
     "execution_count": 16,
     "metadata": {},
     "output_type": "execute_result"
    }
   ],
   "source": [
    "dialogue = tracker.as_dialogue()\n",
    "dialogue.as_dict()"
   ]
  },
  {
   "cell_type": "code",
   "execution_count": 59,
   "metadata": {
    "ExecuteTime": {
     "end_time": "2020-02-18T15:31:55.403513Z",
     "start_time": "2020-02-18T15:31:55.391883Z"
    }
   },
   "outputs": [
    {
     "data": {
      "text/plain": [
       "{'events': [{'event': 'action',\n",
       "   'timestamp': 1582039814.724075,\n",
       "   'name': 'action_listen',\n",
       "   'policy': None,\n",
       "   'confidence': None},\n",
       "  {'event': 'user',\n",
       "   'timestamp': 1582039823.995178,\n",
       "   'text': '/dump_info{\"object\":\"rr\"}',\n",
       "   'parse_data': {'text': '/dump_info{\"object\":\"rr\"}',\n",
       "    'intent': {'name': 'dump_info', 'confidence': 1.0},\n",
       "    'intent_ranking': [{'name': 'dump_info', 'confidence': 1.0}],\n",
       "    'entities': [{'entity': 'object', 'start': 10, 'end': 25, 'value': 'rr'}]},\n",
       "   'input_channel': 'rest',\n",
       "   'message_id': '2f71e730f2374a439fa77f82ed76eab8',\n",
       "   'metadata': {}},\n",
       "  {'event': 'slot',\n",
       "   'timestamp': 1582039823.995191,\n",
       "   'name': 'object',\n",
       "   'value': 'rr'},\n",
       "  {'event': 'action',\n",
       "   'timestamp': 1582039824.004002,\n",
       "   'name': 'action_dump_info',\n",
       "   'policy': 'policy_2_MappingPolicy',\n",
       "   'confidence': 1},\n",
       "  {'event': 'action',\n",
       "   'timestamp': 1582039824.010093,\n",
       "   'name': 'action_listen',\n",
       "   'policy': 'policy_2_MappingPolicy',\n",
       "   'confidence': 1},\n",
       "  {'event': 'user',\n",
       "   'timestamp': 1582039859.3235662,\n",
       "   'text': 'hello',\n",
       "   'parse_data': {'intent': {'name': 'greet', 'confidence': 0.9817554951},\n",
       "    'entities': [],\n",
       "    'intent_ranking': [{'name': 'greet', 'confidence': 0.9817554951},\n",
       "     {'name': 'deny', 'confidence': 0.0058037811},\n",
       "     {'name': 'affirm', 'confidence': 0.0033585432},\n",
       "     {'name': 'bot_challenge', 'confidence': 0.0018457706},\n",
       "     {'name': 'inform', 'confidence': 0.0014229574},\n",
       "     {'name': 'query_knowledge_base', 'confidence': 0.0011096105},\n",
       "     {'name': 'thankyou', 'confidence': 0.0009755758},\n",
       "     {'name': 'joke', 'confidence': 0.0009078463},\n",
       "     {'name': 'goodbye', 'confidence': 0.0008570314},\n",
       "     {'name': 'name', 'confidence': 0.0008294815}],\n",
       "    'text': 'hello'},\n",
       "   'input_channel': 'rest',\n",
       "   'message_id': '209c42552195430ba54fd811063f0b27',\n",
       "   'metadata': {}},\n",
       "  {'event': 'action',\n",
       "   'timestamp': 1582039859.329608,\n",
       "   'name': 'utter_greet',\n",
       "   'policy': 'policy_1_KerasPolicy',\n",
       "   'confidence': 0.4377002716064453},\n",
       "  {'event': 'bot',\n",
       "   'timestamp': 1582039859.3296158,\n",
       "   'text': 'Hey! How are you?',\n",
       "   'data': {'elements': None,\n",
       "    'quick_replies': None,\n",
       "    'buttons': None,\n",
       "    'attachment': None,\n",
       "    'image': None,\n",
       "    'custom': None},\n",
       "   'metadata': {}},\n",
       "  {'event': 'action',\n",
       "   'timestamp': 1582039859.336118,\n",
       "   'name': 'action_listen',\n",
       "   'policy': 'policy_1_KerasPolicy',\n",
       "   'confidence': 0.962715744972229}],\n",
       " 'name': 'samlet'}"
      ]
     },
     "execution_count": 59,
     "metadata": {},
     "output_type": "execute_result"
    }
   ],
   "source": [
    "# preqs: \n",
    "# $ saai talk 'hello' samlet\n",
    "# $ saai talk '/dump_info{\"object\":\"rr\"}' samlet\n",
    "tracker = tracker_store.retrieve('samlet')\n",
    "# tracker.events\n",
    "dialogue = tracker.as_dialogue()\n",
    "dialogue.as_dict()"
   ]
  },
  {
   "cell_type": "code",
   "execution_count": 60,
   "metadata": {
    "ExecuteTime": {
     "end_time": "2020-02-18T15:32:33.845944Z",
     "start_time": "2020-02-18T15:32:33.835511Z"
    }
   },
   "outputs": [
    {
     "data": {
      "text/plain": [
       "{'attribute': None,\n",
       " 'mention': None,\n",
       " 'object': 'rr',\n",
       " 'object_type': None,\n",
       " 'parameters': None,\n",
       " 'sents': None}"
      ]
     },
     "execution_count": 60,
     "metadata": {},
     "output_type": "execute_result"
    }
   ],
   "source": [
    "tracker.current_slot_values()"
   ]
  },
  {
   "cell_type": "code",
   "execution_count": 45,
   "metadata": {
    "ExecuteTime": {
     "end_time": "2020-02-18T15:22:21.751544Z",
     "start_time": "2020-02-18T15:22:21.741220Z"
    }
   },
   "outputs": [],
   "source": [
    "slot_key = \"object\"\n",
    "slot_val = \"Easter Island\"\n",
    "# tracker = tracker_store.get_or_create_tracker('samlet')\n",
    "ev = SlotSet(slot_key, slot_val)\n",
    "tracker.update(ev)\n",
    "tracker_store.save(tracker)"
   ]
  },
  {
   "cell_type": "code",
   "execution_count": 55,
   "metadata": {
    "ExecuteTime": {
     "end_time": "2020-02-18T15:31:10.982844Z",
     "start_time": "2020-02-18T15:31:10.973221Z"
    }
   },
   "outputs": [
    {
     "data": {
      "text/plain": [
       "'rr'"
      ]
     },
     "execution_count": 55,
     "metadata": {},
     "output_type": "execute_result"
    }
   ],
   "source": [
    "again = tracker_store.get_or_create_tracker('samlet')\n",
    "again.get_slot(slot_key)"
   ]
  },
  {
   "cell_type": "code",
   "execution_count": 52,
   "metadata": {
    "ExecuteTime": {
     "end_time": "2020-02-18T15:27:26.745085Z",
     "start_time": "2020-02-18T15:27:26.736008Z"
    }
   },
   "outputs": [],
   "source": [
    "ev = Restarted()\n",
    "tracker.update(ev)\n",
    "tracker_store.save(tracker)"
   ]
  },
  {
   "cell_type": "code",
   "execution_count": 54,
   "metadata": {
    "ExecuteTime": {
     "end_time": "2020-02-18T15:30:14.731990Z",
     "start_time": "2020-02-18T15:30:14.721988Z"
    }
   },
   "outputs": [],
   "source": [
    "tracker=tracker_store.create_tracker('samlet')\n",
    "tracker_store.save(tracker)"
   ]
  },
  {
   "cell_type": "markdown",
   "metadata": {},
   "source": [
    "* refs\n",
    "- ⊕ [Responses](https://rasa.com/docs/rasa/core/responses/)\n",
    "\n",
    "```json\n",
    "{\n",
    "  \"tracker\": {\n",
    "    \"latest_message\": {\n",
    "      \"text\": \"/greet\",\n",
    "      \"intent_ranking\": [\n",
    "        {\n",
    "          \"confidence\": 1.0,\n",
    "          \"name\": \"greet\"\n",
    "        }\n",
    "      ],\n",
    "      \"intent\": {\n",
    "        \"confidence\": 1.0,\n",
    "        \"name\": \"greet\"\n",
    "      },\n",
    "      \"entities\": []\n",
    "    },\n",
    "    \"sender_id\": \"22ae96a6-85cd-11e8-b1c3-f40f241f6547\",\n",
    "    \"paused\": false,\n",
    "    \"latest_event_time\": 1531397673.293572,\n",
    "    \"slots\": {\n",
    "      \"name\": null\n",
    "    },\n",
    "    \"events\": [\n",
    "      {\n",
    "        \"timestamp\": 1531397673.291998,\n",
    "        \"event\": \"action\",\n",
    "        \"name\": \"action_listen\"\n",
    "      },\n",
    "      {\n",
    "        \"timestamp\": 1531397673.293572,\n",
    "        \"parse_data\": {\n",
    "          \"text\": \"/greet\",\n",
    "          \"intent_ranking\": [\n",
    "            {\n",
    "              \"confidence\": 1.0,\n",
    "              \"name\": \"greet\"\n",
    "            }\n",
    "          ],\n",
    "          \"intent\": {\n",
    "            \"confidence\": 1.0,\n",
    "            \"name\": \"greet\"\n",
    "          },\n",
    "          \"entities\": []\n",
    "        },\n",
    "        \"event\": \"user\",\n",
    "        \"text\": \"/greet\"\n",
    "      }\n",
    "    ]\n",
    "  },\n",
    "  \"arguments\": {},\n",
    "  \"template\": \"utter_greet\",\n",
    "  \"channel\": {\n",
    "    \"name\": \"collector\"\n",
    "  }\n",
    "}\n",
    "```"
   ]
  }
 ],
 "metadata": {
  "kernelspec": {
   "display_name": "Python 3",
   "language": "python",
   "name": "python3"
  },
  "language_info": {
   "codemirror_mode": {
    "name": "ipython",
    "version": 3
   },
   "file_extension": ".py",
   "mimetype": "text/x-python",
   "name": "python",
   "nbconvert_exporter": "python",
   "pygments_lexer": "ipython3",
   "version": "3.6.6"
  },
  "varInspector": {
   "cols": {
    "lenName": 16,
    "lenType": 16,
    "lenVar": 40
   },
   "kernels_config": {
    "python": {
     "delete_cmd_postfix": "",
     "delete_cmd_prefix": "del ",
     "library": "var_list.py",
     "varRefreshCmd": "print(var_dic_list())"
    },
    "r": {
     "delete_cmd_postfix": ") ",
     "delete_cmd_prefix": "rm(",
     "library": "var_list.r",
     "varRefreshCmd": "cat(var_dic_list()) "
    }
   },
   "types_to_exclude": [
    "module",
    "function",
    "builtin_function_or_method",
    "instance",
    "_Feature"
   ],
   "window_display": false
  }
 },
 "nbformat": 4,
 "nbformat_minor": 2
}
