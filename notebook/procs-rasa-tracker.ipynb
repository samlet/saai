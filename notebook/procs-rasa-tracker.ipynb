{
 "cells": [
  {
   "cell_type": "code",
   "execution_count": 55,
   "metadata": {
    "ExecuteTime": {
     "end_time": "2020-03-06T17:48:08.082020Z",
     "start_time": "2020-03-06T17:48:08.023463Z"
    }
   },
   "outputs": [],
   "source": [
    "from rasa.core.tracker_store import (\n",
    "    TrackerStore,\n",
    "    InMemoryTrackerStore,\n",
    "    RedisTrackerStore)\n",
    "from rasa.core.events import (\n",
    "    SlotSet,\n",
    "    ActionExecuted,\n",
    "    Restarted,\n",
    "    UserUttered,\n",
    "    SessionStarted,\n",
    "    BotUttered,\n",
    "    Event,\n",
    ")\n",
    "from rasa.core.trackers import DialogueStateTracker\n",
    "from rasa.core.domain import Domain\n",
    "\n",
    "def get_default_domain():\n",
    "    content = \"\"\"\n",
    "    actions:\n",
    "      - utter_hello\n",
    "\n",
    "    intents:\n",
    "      - greet\n",
    "      - bye\n",
    "      - affirm\n",
    "      - deny\n",
    "    entities:\n",
    "      - object_type\n",
    "      - mention\n",
    "      - attribute\n",
    "      - sents\n",
    "\n",
    "    slots:\n",
    "      attribute:\n",
    "        type: unfeaturized\n",
    "      mention:\n",
    "        type: unfeaturized\n",
    "      object:\n",
    "        type: unfeaturized\n",
    "      object_type:\n",
    "        type: unfeaturized\n",
    "      parameters:\n",
    "        type: unfeaturized\n",
    "      sents:\n",
    "        type: unfeaturized\n",
    "    \"\"\"\n",
    "    return Domain.from_yaml(content)\n",
    "\n",
    "default_domain=get_default_domain()\n",
    "tracker_store = RedisTrackerStore(\n",
    "        domain=default_domain,\n",
    "        host=\"localhost\",\n",
    "        port=6379,\n",
    "        db=0,\n",
    "        record_exp=3000,\n",
    "    )"
   ]
  },
  {
   "cell_type": "code",
   "execution_count": 54,
   "metadata": {
    "ExecuteTime": {
     "end_time": "2020-03-06T17:48:06.318082Z",
     "start_time": "2020-03-06T17:48:06.311541Z"
    }
   },
   "outputs": [],
   "source": [
    "# from rasa.core.tracker_store import (\n",
    "#     TrackerStore,\n",
    "#     InMemoryTrackerStore,\n",
    "#     MongoTrackerStore)\n",
    "# tracker_store = MongoTrackerStore(domain=default_domain)"
   ]
  },
  {
   "cell_type": "code",
   "execution_count": 56,
   "metadata": {
    "ExecuteTime": {
     "end_time": "2020-03-06T17:48:09.965617Z",
     "start_time": "2020-03-06T17:48:09.946986Z"
    }
   },
   "outputs": [
    {
     "data": {
      "text/plain": [
       "[b'trans',\n",
       " b'votes',\n",
       " b'samlet',\n",
       " b'Charge p\\xc3\\xa9riodique',\n",
       " b'hat:318777801',\n",
       " b'entitySchema',\n",
       " b'in diesem Punkt',\n",
       " b'hat:1326692461',\n",
       " b'p\\xc3\\xa9riodique',\n",
       " b'hat:56854717',\n",
       " b'hat:2489703525',\n",
       " b'a0array',\n",
       " b'hat:2119252986',\n",
       " b'f\\xc3\\xbcr Hardware - Firmen',\n",
       " b'hat:1236154736',\n",
       " b'hat:2126890337',\n",
       " b'hello',\n",
       " b'hat:4072135493',\n",
       " b'2019-10-20',\n",
       " b'Bahamas',\n",
       " b'samlet:transport',\n",
       " b'test_sql_tracker_store_with_session_events',\n",
       " b'Croatia',\n",
       " b'Die Nutzung der Seite']"
      ]
     },
     "execution_count": 56,
     "metadata": {},
     "output_type": "execute_result"
    }
   ],
   "source": [
    "tracker_store.keys()"
   ]
  },
  {
   "cell_type": "code",
   "execution_count": 57,
   "metadata": {
    "ExecuteTime": {
     "end_time": "2020-03-06T17:48:31.409283Z",
     "start_time": "2020-03-06T17:48:31.398689Z"
    }
   },
   "outputs": [],
   "source": [
    "events = [\n",
    "    UserUttered(\"Hola\", {\"name\": \"greet\"}),\n",
    "    BotUttered(\"Hi\"),\n",
    "    SessionStarted(),\n",
    "    UserUttered(\"Ciao\", {\"name\": \"greet\"}),\n",
    "]\n",
    "sender_id = \"test_sql_tracker_store_with_session_events\"\n",
    "tracker = DialogueStateTracker.from_events(sender_id, events)\n",
    "tracker_store.save(tracker)"
   ]
  },
  {
   "cell_type": "code",
   "execution_count": 66,
   "metadata": {
    "ExecuteTime": {
     "end_time": "2020-03-06T17:55:30.377774Z",
     "start_time": "2020-03-06T17:55:30.363284Z"
    }
   },
   "outputs": [
    {
     "data": {
      "text/plain": [
       "deque([<rasa.core.events.SlotSet at 0x119300438>])"
      ]
     },
     "execution_count": 66,
     "metadata": {},
     "output_type": "execute_result"
    }
   ],
   "source": [
    "tracker = tracker_store.retrieve(sender_id)\n",
    "tracker.events"
   ]
  },
  {
   "cell_type": "code",
   "execution_count": 61,
   "metadata": {
    "ExecuteTime": {
     "end_time": "2020-03-06T17:55:07.311320Z",
     "start_time": "2020-03-06T17:55:07.299373Z"
    }
   },
   "outputs": [],
   "source": [
    "other_tracker = DialogueStateTracker.from_events(sender_id, [SlotSet('mention', 'first')])\n",
    "tracker_store.save(other_tracker)"
   ]
  },
  {
   "cell_type": "code",
   "execution_count": 62,
   "metadata": {
    "ExecuteTime": {
     "end_time": "2020-03-06T17:55:09.323445Z",
     "start_time": "2020-03-06T17:55:09.294127Z"
    }
   },
   "outputs": [
    {
     "data": {
      "text/plain": [
       "{'mention': 'first'}"
      ]
     },
     "execution_count": 62,
     "metadata": {},
     "output_type": "execute_result"
    }
   ],
   "source": [
    "other_tracker.current_slot_values()"
   ]
  },
  {
   "cell_type": "code",
   "execution_count": 64,
   "metadata": {
    "ExecuteTime": {
     "end_time": "2020-03-06T17:55:17.038941Z",
     "start_time": "2020-03-06T17:55:17.013782Z"
    }
   },
   "outputs": [
    {
     "data": {
      "text/plain": [
       "{'attribute': None,\n",
       " 'mention': 'first',\n",
       " 'object': None,\n",
       " 'object_type': None,\n",
       " 'parameters': None,\n",
       " 'sents': None}"
      ]
     },
     "execution_count": 64,
     "metadata": {},
     "output_type": "execute_result"
    }
   ],
   "source": [
    "tracker = tracker_store.retrieve(sender_id)\n",
    "tracker.current_slot_values()"
   ]
  },
  {
   "cell_type": "code",
   "execution_count": 65,
   "metadata": {
    "ExecuteTime": {
     "end_time": "2020-03-06T17:55:19.522471Z",
     "start_time": "2020-03-06T17:55:19.469030Z"
    }
   },
   "outputs": [
    {
     "data": {
      "text/plain": [
       "{'attribute': None,\n",
       " 'mention': 'first',\n",
       " 'object': None,\n",
       " 'object_type': None,\n",
       " 'parameters': None,\n",
       " 'sents': None}"
      ]
     },
     "execution_count": 65,
     "metadata": {},
     "output_type": "execute_result"
    }
   ],
   "source": [
    "tracker.current_slot_values()"
   ]
  },
  {
   "cell_type": "code",
   "execution_count": 33,
   "metadata": {
    "ExecuteTime": {
     "end_time": "2020-03-06T17:23:45.968968Z",
     "start_time": "2020-03-06T17:23:45.951530Z"
    }
   },
   "outputs": [
    {
     "data": {
      "text/plain": [
       "'{\"events\": [{\"event\": \"session_started\", \"timestamp\": 1583515271.800114}, {\"event\": \"user\", \"timestamp\": 1583515271.800118, \"text\": \"Ciao\", \"parse_data\": {\"intent\": {\"name\": \"greet\"}, \"entities\": [], \"text\": \"Ciao\", \"message_id\": null, \"metadata\": {}}, \"input_channel\": null, \"message_id\": null, \"metadata\": {}}], \"name\": \"test_sql_tracker_store_with_session_events\"}'"
      ]
     },
     "execution_count": 33,
     "metadata": {},
     "output_type": "execute_result"
    }
   ],
   "source": [
    "tracker_store.serialise_tracker(tracker)"
   ]
  },
  {
   "cell_type": "code",
   "execution_count": 34,
   "metadata": {
    "ExecuteTime": {
     "end_time": "2020-03-06T17:23:51.953205Z",
     "start_time": "2020-03-06T17:23:51.931536Z"
    }
   },
   "outputs": [
    {
     "data": {
      "text/plain": [
       "{'events': [{'event': 'session_started', 'timestamp': 1583515271.800114},\n",
       "  {'event': 'user',\n",
       "   'timestamp': 1583515271.800118,\n",
       "   'text': 'Ciao',\n",
       "   'parse_data': {'intent': {'name': 'greet'},\n",
       "    'entities': [],\n",
       "    'text': 'Ciao',\n",
       "    'message_id': None,\n",
       "    'metadata': {}},\n",
       "   'input_channel': None,\n",
       "   'message_id': None,\n",
       "   'metadata': {}}],\n",
       " 'name': 'test_sql_tracker_store_with_session_events'}"
      ]
     },
     "execution_count": 34,
     "metadata": {},
     "output_type": "execute_result"
    }
   ],
   "source": [
    "dialogue = tracker.as_dialogue()\n",
    "dialogue.as_dict()"
   ]
  },
  {
   "cell_type": "code",
   "execution_count": 67,
   "metadata": {
    "ExecuteTime": {
     "end_time": "2020-03-06T18:05:13.067904Z",
     "start_time": "2020-03-06T18:05:13.051128Z"
    }
   },
   "outputs": [
    {
     "data": {
      "text/plain": [
       "{'events': [{'event': 'action',\n",
       "   'timestamp': 1582039814.724075,\n",
       "   'name': 'action_listen',\n",
       "   'policy': None,\n",
       "   'confidence': None},\n",
       "  {'event': 'user',\n",
       "   'timestamp': 1582039823.995178,\n",
       "   'text': '/dump_info{\"object\":\"rr\"}',\n",
       "   'parse_data': {'text': '/dump_info{\"object\":\"rr\"}',\n",
       "    'intent': {'name': 'dump_info', 'confidence': 1.0},\n",
       "    'intent_ranking': [{'name': 'dump_info', 'confidence': 1.0}],\n",
       "    'entities': [{'entity': 'object', 'start': 10, 'end': 25, 'value': 'rr'}]},\n",
       "   'input_channel': 'rest',\n",
       "   'message_id': '2f71e730f2374a439fa77f82ed76eab8',\n",
       "   'metadata': {}},\n",
       "  {'event': 'slot',\n",
       "   'timestamp': 1582039823.995191,\n",
       "   'name': 'object',\n",
       "   'value': 'rr'},\n",
       "  {'event': 'action',\n",
       "   'timestamp': 1582039824.004002,\n",
       "   'name': 'action_dump_info',\n",
       "   'policy': 'policy_2_MappingPolicy',\n",
       "   'confidence': 1},\n",
       "  {'event': 'action',\n",
       "   'timestamp': 1582039824.010093,\n",
       "   'name': 'action_listen',\n",
       "   'policy': 'policy_2_MappingPolicy',\n",
       "   'confidence': 1},\n",
       "  {'event': 'user',\n",
       "   'timestamp': 1582039859.3235662,\n",
       "   'text': 'hello',\n",
       "   'parse_data': {'intent': {'name': 'greet', 'confidence': 0.9817554951},\n",
       "    'entities': [],\n",
       "    'intent_ranking': [{'name': 'greet', 'confidence': 0.9817554951},\n",
       "     {'name': 'deny', 'confidence': 0.0058037811},\n",
       "     {'name': 'affirm', 'confidence': 0.0033585432},\n",
       "     {'name': 'bot_challenge', 'confidence': 0.0018457706},\n",
       "     {'name': 'inform', 'confidence': 0.0014229574},\n",
       "     {'name': 'query_knowledge_base', 'confidence': 0.0011096105},\n",
       "     {'name': 'thankyou', 'confidence': 0.0009755758},\n",
       "     {'name': 'joke', 'confidence': 0.0009078463},\n",
       "     {'name': 'goodbye', 'confidence': 0.0008570314},\n",
       "     {'name': 'name', 'confidence': 0.0008294815}],\n",
       "    'text': 'hello'},\n",
       "   'input_channel': 'rest',\n",
       "   'message_id': '209c42552195430ba54fd811063f0b27',\n",
       "   'metadata': {}},\n",
       "  {'event': 'action',\n",
       "   'timestamp': 1582039859.329608,\n",
       "   'name': 'utter_greet',\n",
       "   'policy': 'policy_1_KerasPolicy',\n",
       "   'confidence': 0.4377002716064453},\n",
       "  {'event': 'bot',\n",
       "   'timestamp': 1582039859.3296158,\n",
       "   'text': 'Hey! How are you?',\n",
       "   'data': {'elements': None,\n",
       "    'quick_replies': None,\n",
       "    'buttons': None,\n",
       "    'attachment': None,\n",
       "    'image': None,\n",
       "    'custom': None},\n",
       "   'metadata': {}},\n",
       "  {'event': 'action',\n",
       "   'timestamp': 1582039859.336118,\n",
       "   'name': 'action_listen',\n",
       "   'policy': 'policy_1_KerasPolicy',\n",
       "   'confidence': 0.962715744972229}],\n",
       " 'name': 'samlet'}"
      ]
     },
     "execution_count": 67,
     "metadata": {},
     "output_type": "execute_result"
    }
   ],
   "source": [
    "# preqs: \n",
    "# $ saai talk 'hello' samlet\n",
    "# $ saai talk '/dump_info{\"object\":\"rr\"}' samlet\n",
    "tracker = tracker_store.retrieve('samlet')\n",
    "# tracker.events\n",
    "dialogue = tracker.as_dialogue()\n",
    "dialogue.as_dict()"
   ]
  },
  {
   "cell_type": "code",
   "execution_count": 60,
   "metadata": {
    "ExecuteTime": {
     "end_time": "2020-02-18T15:32:33.845944Z",
     "start_time": "2020-02-18T15:32:33.835511Z"
    }
   },
   "outputs": [
    {
     "data": {
      "text/plain": [
       "{'attribute': None,\n",
       " 'mention': None,\n",
       " 'object': 'rr',\n",
       " 'object_type': None,\n",
       " 'parameters': None,\n",
       " 'sents': None}"
      ]
     },
     "execution_count": 60,
     "metadata": {},
     "output_type": "execute_result"
    }
   ],
   "source": [
    "tracker.current_slot_values()"
   ]
  },
  {
   "cell_type": "code",
   "execution_count": 45,
   "metadata": {
    "ExecuteTime": {
     "end_time": "2020-02-18T15:22:21.751544Z",
     "start_time": "2020-02-18T15:22:21.741220Z"
    }
   },
   "outputs": [],
   "source": [
    "# DialogueStateTracker.from_events是全部替换, tracker.update是增量更新(特别是在mongo实现中)\n",
    "slot_key = \"object\"\n",
    "slot_val = \"Easter Island\"\n",
    "# tracker = tracker_store.get_or_create_tracker('samlet')\n",
    "ev = SlotSet(slot_key, slot_val)\n",
    "tracker.update(ev)\n",
    "tracker_store.save(tracker)"
   ]
  },
  {
   "cell_type": "code",
   "execution_count": 55,
   "metadata": {
    "ExecuteTime": {
     "end_time": "2020-02-18T15:31:10.982844Z",
     "start_time": "2020-02-18T15:31:10.973221Z"
    }
   },
   "outputs": [
    {
     "data": {
      "text/plain": [
       "'rr'"
      ]
     },
     "execution_count": 55,
     "metadata": {},
     "output_type": "execute_result"
    }
   ],
   "source": [
    "again = tracker_store.get_or_create_tracker('samlet')\n",
    "again.get_slot(slot_key)"
   ]
  },
  {
   "cell_type": "code",
   "execution_count": 52,
   "metadata": {
    "ExecuteTime": {
     "end_time": "2020-02-18T15:27:26.745085Z",
     "start_time": "2020-02-18T15:27:26.736008Z"
    }
   },
   "outputs": [],
   "source": [
    "ev = Restarted()\n",
    "tracker.update(ev)\n",
    "tracker_store.save(tracker)"
   ]
  },
  {
   "cell_type": "code",
   "execution_count": null,
   "metadata": {},
   "outputs": [],
   "source": [
    "# Save other tracker to ensure that we don't run into problems with other senders\n",
    "other_tracker = DialogueStateTracker.from_events(\"other-sender\", [SessionStarted()])\n",
    "tracker_store.save(other_tracker)"
   ]
  },
  {
   "cell_type": "code",
   "execution_count": 54,
   "metadata": {
    "ExecuteTime": {
     "end_time": "2020-02-18T15:30:14.731990Z",
     "start_time": "2020-02-18T15:30:14.721988Z"
    }
   },
   "outputs": [],
   "source": [
    "tracker=tracker_store.create_tracker('samlet')\n",
    "tracker_store.save(tracker)"
   ]
  },
  {
   "cell_type": "markdown",
   "metadata": {},
   "source": [
    "* refs\n",
    "- ⊕ [Responses](https://rasa.com/docs/rasa/core/responses/)\n",
    "\n",
    "```json\n",
    "{\n",
    "  \"tracker\": {\n",
    "    \"latest_message\": {\n",
    "      \"text\": \"/greet\",\n",
    "      \"intent_ranking\": [\n",
    "        {\n",
    "          \"confidence\": 1.0,\n",
    "          \"name\": \"greet\"\n",
    "        }\n",
    "      ],\n",
    "      \"intent\": {\n",
    "        \"confidence\": 1.0,\n",
    "        \"name\": \"greet\"\n",
    "      },\n",
    "      \"entities\": []\n",
    "    },\n",
    "    \"sender_id\": \"22ae96a6-85cd-11e8-b1c3-f40f241f6547\",\n",
    "    \"paused\": false,\n",
    "    \"latest_event_time\": 1531397673.293572,\n",
    "    \"slots\": {\n",
    "      \"name\": null\n",
    "    },\n",
    "    \"events\": [\n",
    "      {\n",
    "        \"timestamp\": 1531397673.291998,\n",
    "        \"event\": \"action\",\n",
    "        \"name\": \"action_listen\"\n",
    "      },\n",
    "      {\n",
    "        \"timestamp\": 1531397673.293572,\n",
    "        \"parse_data\": {\n",
    "          \"text\": \"/greet\",\n",
    "          \"intent_ranking\": [\n",
    "            {\n",
    "              \"confidence\": 1.0,\n",
    "              \"name\": \"greet\"\n",
    "            }\n",
    "          ],\n",
    "          \"intent\": {\n",
    "            \"confidence\": 1.0,\n",
    "            \"name\": \"greet\"\n",
    "          },\n",
    "          \"entities\": []\n",
    "        },\n",
    "        \"event\": \"user\",\n",
    "        \"text\": \"/greet\"\n",
    "      }\n",
    "    ]\n",
    "  },\n",
    "  \"arguments\": {},\n",
    "  \"template\": \"utter_greet\",\n",
    "  \"channel\": {\n",
    "    \"name\": \"collector\"\n",
    "  }\n",
    "}\n",
    "```"
   ]
  },
  {
   "cell_type": "code",
   "execution_count": 2,
   "metadata": {
    "ExecuteTime": {
     "end_time": "2020-03-06T15:33:22.223188Z",
     "start_time": "2020-03-06T15:33:22.200249Z"
    }
   },
   "outputs": [
    {
     "data": {
      "text/plain": [
       "'37b0fa4a1bc24f758340f24f09c4b276'"
      ]
     },
     "execution_count": 2,
     "metadata": {},
     "output_type": "execute_result"
    }
   ],
   "source": [
    "import uuid\n",
    "sender_id = uuid.uuid4().hex\n",
    "sender_id"
   ]
  }
 ],
 "metadata": {
  "kernelspec": {
   "display_name": "Python 3",
   "language": "python",
   "name": "python3"
  },
  "language_info": {
   "codemirror_mode": {
    "name": "ipython",
    "version": 3
   },
   "file_extension": ".py",
   "mimetype": "text/x-python",
   "name": "python",
   "nbconvert_exporter": "python",
   "pygments_lexer": "ipython3",
   "version": "3.6.6"
  },
  "varInspector": {
   "cols": {
    "lenName": 16,
    "lenType": 16,
    "lenVar": 40
   },
   "kernels_config": {
    "python": {
     "delete_cmd_postfix": "",
     "delete_cmd_prefix": "del ",
     "library": "var_list.py",
     "varRefreshCmd": "print(var_dic_list())"
    },
    "r": {
     "delete_cmd_postfix": ") ",
     "delete_cmd_prefix": "rm(",
     "library": "var_list.r",
     "varRefreshCmd": "cat(var_dic_list()) "
    }
   },
   "types_to_exclude": [
    "module",
    "function",
    "builtin_function_or_method",
    "instance",
    "_Feature"
   ],
   "window_display": false
  }
 },
 "nbformat": 4,
 "nbformat_minor": 2
}
